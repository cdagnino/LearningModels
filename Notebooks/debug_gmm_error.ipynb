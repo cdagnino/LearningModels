{
 "cells": [
  {
   "cell_type": "markdown",
   "metadata": {},
   "source": [
    "# GMM error has some dimension error\n",
    "\n",
    "**Fix it!**"
   ]
  },
  {
   "cell_type": "code",
   "execution_count": 1,
   "metadata": {},
   "outputs": [],
   "source": [
    "import numpy as np\n",
    "import dill\n",
    "import pandas as pd\n",
    "from scipy import optimize as opt\n",
    "import time\n",
    "import sys\n",
    "sys.path.append('../')\n",
    "import src\n",
    "\n",
    "#GMM parameters\n",
    "maxiters = 50 #120. About 2 minutes per iteration\n",
    "time_periods = 40 #Maximum spell_t to consider\n",
    "min_periods = 3 #What\n",
    "\n",
    "#Check if this parameters still make sense for the current product\n",
    "β10, β11 = -2, 3.5\n",
    "β20, β21 = 1.3, -2.\n",
    "betas = [β10, β11, β20, β21]\n",
    "\n",
    "\n",
    "#Load policy and value function\n",
    "#####################\n",
    "file_n = \"2018-10-5vfi_dict.dill\" #Personal Macbook\n",
    "#file_n = \"2019-2-16vfi_dict.dill\" #Work Macbook\n",
    "with open('../data/' + file_n, 'rb') as file:\n",
    "    data_d = dill.load(file)\n",
    "\n",
    "lambdas = src.generate_simplex_3dims(n_per_dim=data_d['n_of_lambdas_per_dim'])\n",
    "price_grid = np.linspace(data_d['min_price'], data_d['max_price'])\n",
    "\n",
    "policy = data_d['policy']\n",
    "valueF = data_d['valueF']\n",
    "lambdas_ext = src.generate_simplex_3dims(n_per_dim=\n",
    "                                         data_d['n_of_lambdas_per_dim'])\n",
    "\n",
    "#Interpolate policy (level price). valueF is already a function\n",
    "policyF = src.interpolate_wguess(lambdas_ext, policy)\n",
    "\n",
    "\n",
    "#dataframe and standard deviation\n",
    "cleaned_data = \"../../firm_learning/data/cleaned_data/\"\n",
    "\n",
    "df = pd.read_csv(cleaned_data + \"medium_prod_for_gmm.csv\")\n",
    "std_devs = (df.groupby('firm').level_prices.rolling(window=4, min=3)\n",
    "            .std().reset_index()\n",
    "            .rename(columns={'level_1': 't', 'level_prices': 'std_dev_prices'}))\n",
    "\n",
    "df = pd.merge(df, std_devs, on=['firm', 't'], how='left')\n",
    "\n",
    "mean_std_observed_prices = df.groupby('t').std_dev_prices.mean()[min_periods:]\n",
    "\n",
    "xs = df.groupby('firm').xs.first().values\n",
    "Nfirms = len(xs)\n",
    "# Just add a zeroes. Makes sense for the gmm estimation\n",
    "prior_shocks = src.gen_prior_shocks(Nfirms, σerror=0)\n",
    "\n",
    "\n"
   ]
  },
  {
   "cell_type": "code",
   "execution_count": 55,
   "metadata": {},
   "outputs": [
    {
     "name": "stdout",
     "output_type": "stream",
     "text": [
      "0.12341207262308296 0.15738316406425085\n"
     ]
    },
    {
     "data": {
      "text/plain": [
       "array([[0.01447739, 0.2219079 , 0.76361472],\n",
       "       [0.01495071, 0.22468458, 0.76036471],\n",
       "       [0.01746401, 0.22573515, 0.75680084],\n",
       "       [0.00804955, 0.19027017, 0.80168028],\n",
       "       [0.00550311, 0.21259868, 0.7818982 ],\n",
       "       [0.0165288 , 0.23415864, 0.74931256]])"
      ]
     },
     "execution_count": 55,
     "metadata": {},
     "output_type": "execute_result"
    }
   ],
   "source": [
    "from src import from_theta_to_lambda_for_all_firms\n",
    "\n",
    "θ  = [0.1, 2.1, -1, -2.1] \n",
    "xs_stand = np.abs(0.2*(xs - np.mean(xs))/ (np.std(xs)))\n",
    "print(np.mean(xs_stand), np.std(xs_stand))\n",
    "lambdas0 = from_theta_to_lambda_for_all_firms(θ, xs_stand, prior_shocks)\n",
    "lambdas0[12:18]"
   ]
  },
  {
   "cell_type": "code",
   "execution_count": 81,
   "metadata": {},
   "outputs": [
    {
     "data": {
      "text/plain": [
       "Float64Index([ 3.0,  4.0,  5.0,  6.0,  7.0,  8.0,  9.0, 10.0, 11.0, 12.0, 13.0,\n",
       "              14.0, 15.0, 16.0, 17.0, 18.0, 19.0, 20.0, 21.0, 22.0, 23.0, 24.0,\n",
       "              25.0, 26.0, 27.0, 28.0, 29.0, 30.0, 31.0, 32.0, 33.0, 34.0, 35.0,\n",
       "              36.0, 37.0, 38.0, 39.0, 40.0, 41.0, 42.0, 43.0, 44.0, 45.0, 46.0,\n",
       "              47.0, 48.0, 49.0, 50.0, 51.0, 52.0, 53.0, 54.0, 55.0, 56.0, 57.0,\n",
       "              58.0, 59.0, 60.0, 61.0, 62.0, 63.0, 64.0, 65.0, 66.0, 67.0, 68.0,\n",
       "              69.0, 70.0, 71.0, 72.0, 73.0, 74.0, 75.0, 76.0, 77.0, 78.0, 79.0,\n",
       "              80.0],\n",
       "             dtype='float64', name='t')"
      ]
     },
     "execution_count": 81,
     "metadata": {},
     "output_type": "execute_result"
    }
   ],
   "source": [
    "mean_std_observed_prices_cl.index"
   ]
  },
  {
   "cell_type": "code",
   "execution_count": 86,
   "metadata": {},
   "outputs": [],
   "source": [
    "# Fit t to observed_prices\n",
    "#mean_std_expected_prices \n",
    "mean_std_observed_prices_cl = mean_std_observed_prices[pd.notnull(mean_std_observed_prices)]\n",
    "mean_std_expected_prices_cl = mean_std_expected_prices[pd.notnull(mean_std_expected_prices)]\n",
    "\n",
    "index_inters = np.intersect1d(mean_std_observed_prices_cl.index,\n",
    "                              mean_std_expected_prices_cl.index)\n",
    "\n",
    "mean_std_observed_prices_cl = mean_std_observed_prices_cl.loc[index_inters]"
   ]
  },
  {
   "cell_type": "code",
   "execution_count": 89,
   "metadata": {},
   "outputs": [
    {
     "data": {
      "text/plain": [
       "t\n",
       "3.0     0.000000e+00\n",
       "4.0     0.000000e+00\n",
       "5.0     0.000000e+00\n",
       "6.0     0.000000e+00\n",
       "7.0     0.000000e+00\n",
       "8.0     5.050000e-01\n",
       "9.0     5.831238e-01\n",
       "10.0    5.050000e-01\n",
       "11.0    4.904573e-08\n",
       "12.0    4.904573e-08\n",
       "Name: std_dev_prices, dtype: float64"
      ]
     },
     "execution_count": 89,
     "metadata": {},
     "output_type": "execute_result"
    }
   ],
   "source": [
    "mean_std_observed_prices_cl.head(10)"
   ]
  },
  {
   "cell_type": "code",
   "execution_count": 90,
   "metadata": {},
   "outputs": [
    {
     "data": {
      "text/plain": [
       "t\n",
       "3.0     0.000000e+00\n",
       "4.0     0.000000e+00\n",
       "5.0     0.000000e+00\n",
       "6.0     0.000000e+00\n",
       "7.0     0.000000e+00\n",
       "8.0     5.050000e-01\n",
       "9.0     5.831238e-01\n",
       "10.0    5.050000e-01\n",
       "11.0    4.904573e-08\n",
       "12.0    4.904573e-08\n",
       "Name: std_dev_prices, dtype: float64"
      ]
     },
     "execution_count": 90,
     "metadata": {},
     "output_type": "execute_result"
    }
   ],
   "source": [
    "mean_std_observed_prices.head(10)"
   ]
  },
  {
   "cell_type": "code",
   "execution_count": 79,
   "metadata": {},
   "outputs": [
    {
     "data": {
      "text/plain": [
       "nan"
      ]
     },
     "execution_count": 79,
     "metadata": {},
     "output_type": "execute_result"
    }
   ],
   "source": [
    "\n",
    "w = None\n",
    "t = len(mean_std_expected_prices)\n",
    "if w is None:\n",
    "    w = np.identity(t)\n",
    "g = (1 / t) * (mean_std_expected_prices - mean_std_observed_prices[0:76])[:, np.newaxis]\n",
    "(g.T @ w @ g)[0, 0]"
   ]
  },
  {
   "cell_type": "code",
   "execution_count": null,
   "metadata": {},
   "outputs": [],
   "source": [
    "\n",
    "mean_std_expected_prices = generate_mean_std_pricing_decisions(df, policyF,\n",
    "                                                               lambdas0, min_periods)\n",
    "    try:\n",
    "        assert len(mean_std_observed_prices) == len(mean_std_expected_prices)\n",
    "    except AssertionError as e:\n",
    "        e.args += (len(mean_std_observed_prices), len(mean_std_expected_prices))\n",
    "        raise\n",
    "    t = len(mean_std_expected_prices)\n",
    "    if w is None:\n",
    "        w = np.identity(t)\n",
    "    g = (1 / t) * (mean_std_expected_prices - mean_std_observed_prices)[:, np.newaxis]\n",
    "    return (g.T @ w @ g)[0, 0]\n",
    "\n",
    "src.gmm_error = gmm_error"
   ]
  },
  {
   "cell_type": "code",
   "execution_count": 58,
   "metadata": {},
   "outputs": [],
   "source": [
    "def generate_mean_std_pricing_decisions(df, policyF, lambdas_at_0, min_periods=3):\n",
    "    \"\"\"\n",
    "    Lambdas0: starting priors for each of the N firms\n",
    "    \"\"\"\n",
    "    pricing_decision_dfs = []\n",
    "    for i, firm in enumerate(df.firm.unique()):\n",
    "        prices = src.generate_pricing_decisions(policyF, lambdas_at_0[i],\n",
    "                                                df[df.firm == firm].log_dmd.values)\n",
    "        pricing_decision_dfs.append(pd.DataFrame({'level_prices': prices,\n",
    "                                                  'firm': np.repeat(firm, len(prices))\n",
    "                                                  }))\n",
    "\n",
    "    pricing_decision_df = pd.concat(pricing_decision_dfs, axis=0)\n",
    "\n",
    "    std_dev_df = (pricing_decision_df.groupby('firm').level_prices.rolling(window=4,\n",
    "                                                                           min=min_periods)\n",
    "                  .std().reset_index()\n",
    "                  .rename(columns={'level_1': 't',\n",
    "                                   'level_prices': 'std_dev_prices'}))\n",
    "    return std_dev_df.groupby('t').std_dev_prices.mean()[min_periods:]\n",
    "\n",
    "mean_std_expected_prices = generate_mean_std_pricing_decisions(df, policyF,\n",
    "                                                                   lambdas0, min_periods)"
   ]
  },
  {
   "cell_type": "code",
   "execution_count": 68,
   "metadata": {},
   "outputs": [
    {
     "data": {
      "text/plain": [
       "(78, 76)"
      ]
     },
     "execution_count": 68,
     "metadata": {},
     "output_type": "execute_result"
    }
   ],
   "source": [
    "len(mean_std_observed_prices), len(mean_std_expected_prices)"
   ]
  },
  {
   "cell_type": "code",
   "execution_count": 66,
   "metadata": {},
   "outputs": [
    {
     "data": {
      "text/plain": [
       "t\n",
       "3.0     0.000000e+00\n",
       "4.0     0.000000e+00\n",
       "5.0     0.000000e+00\n",
       "6.0     0.000000e+00\n",
       "7.0     0.000000e+00\n",
       "8.0     5.050000e-01\n",
       "9.0     5.831238e-01\n",
       "10.0    5.050000e-01\n",
       "11.0    4.904573e-08\n",
       "12.0    4.904573e-08\n",
       "Name: std_dev_prices, dtype: float64"
      ]
     },
     "execution_count": 66,
     "metadata": {},
     "output_type": "execute_result"
    }
   ],
   "source": [
    "mean_std_observed_prices.head(10)"
   ]
  },
  {
   "cell_type": "code",
   "execution_count": 76,
   "metadata": {},
   "outputs": [
    {
     "data": {
      "text/plain": [
       "t\n",
       "71.0   NaN\n",
       "72.0   NaN\n",
       "73.0   NaN\n",
       "74.0   NaN\n",
       "75.0   NaN\n",
       "76.0   NaN\n",
       "77.0   NaN\n",
       "78.0   NaN\n",
       "79.0   NaN\n",
       "80.0   NaN\n",
       "Name: std_dev_prices, dtype: float64"
      ]
     },
     "execution_count": 76,
     "metadata": {},
     "output_type": "execute_result"
    }
   ],
   "source": [
    "mean_std_observed_prices.tail(10)"
   ]
  },
  {
   "cell_type": "code",
   "execution_count": 2,
   "metadata": {},
   "outputs": [
    {
     "name": "stderr",
     "output_type": "stream",
     "text": [
      "../src/gmmtools.py:48: RuntimeWarning: overflow encountered in double_scalars\n",
      "  H = np.e**((θ[0] + θ[1]*x + prior_shock))\n",
      "../src/gmmtools.py:49: RuntimeWarning: overflow encountered in double_scalars\n",
      "  Eβ = -np.e**(θ[2] + θ[3]*x + prior_shock) #Bound it?\n"
     ]
    },
    {
     "ename": "AssertionError",
     "evalue": "(78, 76)",
     "output_type": "error",
     "traceback": [
      "\u001b[0;31m---------------------------------------------------------------------------\u001b[0m",
      "\u001b[0;31mAssertionError\u001b[0m                            Traceback (most recent call last)",
      "\u001b[0;32m<ipython-input-2-e68817ba05ed>\u001b[0m in \u001b[0;36m<module>\u001b[0;34m()\u001b[0m\n\u001b[1;32m     11\u001b[0m optimi = opt.differential_evolution(error_w_data, [(-2.5, 0.5), (2.0, 4.0),\n\u001b[1;32m     12\u001b[0m                                                    (0.5, 2), (-3., 1.)],\n\u001b[0;32m---> 13\u001b[0;31m                                     maxiter=maxiters)\n\u001b[0m",
      "\u001b[0;32m/usr/local/anaconda3/envs/firm_learning/lib/python3.7/site-packages/scipy/optimize/_differentialevolution.py\u001b[0m in \u001b[0;36mdifferential_evolution\u001b[0;34m(func, bounds, args, strategy, maxiter, popsize, tol, mutation, recombination, seed, callback, disp, polish, init, atol)\u001b[0m\n\u001b[1;32m    221\u001b[0m                                          \u001b[0mcallback\u001b[0m\u001b[0;34m=\u001b[0m\u001b[0mcallback\u001b[0m\u001b[0;34m,\u001b[0m\u001b[0;34m\u001b[0m\u001b[0;34m\u001b[0m\u001b[0m\n\u001b[1;32m    222\u001b[0m                                          disp=disp, init=init, atol=atol)\n\u001b[0;32m--> 223\u001b[0;31m     \u001b[0;32mreturn\u001b[0m \u001b[0msolver\u001b[0m\u001b[0;34m.\u001b[0m\u001b[0msolve\u001b[0m\u001b[0;34m(\u001b[0m\u001b[0;34m)\u001b[0m\u001b[0;34m\u001b[0m\u001b[0;34m\u001b[0m\u001b[0m\n\u001b[0m\u001b[1;32m    224\u001b[0m \u001b[0;34m\u001b[0m\u001b[0m\n\u001b[1;32m    225\u001b[0m \u001b[0;34m\u001b[0m\u001b[0m\n",
      "\u001b[0;32m/usr/local/anaconda3/envs/firm_learning/lib/python3.7/site-packages/scipy/optimize/_differentialevolution.py\u001b[0m in \u001b[0;36msolve\u001b[0;34m(self)\u001b[0m\n\u001b[1;32m    579\u001b[0m         \u001b[0;31m# initial energies to be calculated (the following loop isn't run).\u001b[0m\u001b[0;34m\u001b[0m\u001b[0;34m\u001b[0m\u001b[0;34m\u001b[0m\u001b[0m\n\u001b[1;32m    580\u001b[0m         \u001b[0;32mif\u001b[0m \u001b[0mnp\u001b[0m\u001b[0;34m.\u001b[0m\u001b[0mall\u001b[0m\u001b[0;34m(\u001b[0m\u001b[0mnp\u001b[0m\u001b[0;34m.\u001b[0m\u001b[0misinf\u001b[0m\u001b[0;34m(\u001b[0m\u001b[0mself\u001b[0m\u001b[0;34m.\u001b[0m\u001b[0mpopulation_energies\u001b[0m\u001b[0;34m)\u001b[0m\u001b[0;34m)\u001b[0m\u001b[0;34m:\u001b[0m\u001b[0;34m\u001b[0m\u001b[0;34m\u001b[0m\u001b[0m\n\u001b[0;32m--> 581\u001b[0;31m             \u001b[0mself\u001b[0m\u001b[0;34m.\u001b[0m\u001b[0m_calculate_population_energies\u001b[0m\u001b[0;34m(\u001b[0m\u001b[0;34m)\u001b[0m\u001b[0;34m\u001b[0m\u001b[0;34m\u001b[0m\u001b[0m\n\u001b[0m\u001b[1;32m    582\u001b[0m \u001b[0;34m\u001b[0m\u001b[0m\n\u001b[1;32m    583\u001b[0m         \u001b[0;31m# do the optimisation.\u001b[0m\u001b[0;34m\u001b[0m\u001b[0;34m\u001b[0m\u001b[0;34m\u001b[0m\u001b[0m\n",
      "\u001b[0;32m/usr/local/anaconda3/envs/firm_learning/lib/python3.7/site-packages/scipy/optimize/_differentialevolution.py\u001b[0m in \u001b[0;36m_calculate_population_energies\u001b[0;34m(self)\u001b[0m\n\u001b[1;32m    658\u001b[0m             \u001b[0mparameters\u001b[0m \u001b[0;34m=\u001b[0m \u001b[0mself\u001b[0m\u001b[0;34m.\u001b[0m\u001b[0m_scale_parameters\u001b[0m\u001b[0;34m(\u001b[0m\u001b[0mcandidate\u001b[0m\u001b[0;34m)\u001b[0m\u001b[0;34m\u001b[0m\u001b[0;34m\u001b[0m\u001b[0m\n\u001b[1;32m    659\u001b[0m             self.population_energies[index] = self.func(parameters,\n\u001b[0;32m--> 660\u001b[0;31m                                                         *self.args)\n\u001b[0m\u001b[1;32m    661\u001b[0m             \u001b[0mself\u001b[0m\u001b[0;34m.\u001b[0m\u001b[0m_nfev\u001b[0m \u001b[0;34m+=\u001b[0m \u001b[0;36m1\u001b[0m\u001b[0;34m\u001b[0m\u001b[0;34m\u001b[0m\u001b[0m\n\u001b[1;32m    662\u001b[0m \u001b[0;34m\u001b[0m\u001b[0m\n",
      "\u001b[0;32m<ipython-input-2-e68817ba05ed>\u001b[0m in \u001b[0;36merror_w_data\u001b[0;34m(θ)\u001b[0m\n\u001b[1;32m      7\u001b[0m     return src.gmm_error(θ, policyF, xs,\n\u001b[1;32m      8\u001b[0m                          \u001b[0mmean_std_observed_prices\u001b[0m\u001b[0;34m=\u001b[0m\u001b[0mmean_std_observed_prices\u001b[0m\u001b[0;34m,\u001b[0m \u001b[0mdf\u001b[0m\u001b[0;34m=\u001b[0m\u001b[0mdf\u001b[0m\u001b[0;34m,\u001b[0m\u001b[0;34m\u001b[0m\u001b[0;34m\u001b[0m\u001b[0m\n\u001b[0;32m----> 9\u001b[0;31m                          prior_shocks=prior_shocks, min_periods=min_periods)\n\u001b[0m\u001b[1;32m     10\u001b[0m \u001b[0;34m\u001b[0m\u001b[0m\n\u001b[1;32m     11\u001b[0m optimi = opt.differential_evolution(error_w_data, [(-2.5, 0.5), (2.0, 4.0),\n",
      "\u001b[0;32m~/Projects/de_github/LearningModels/src/gmmtools.py\u001b[0m in \u001b[0;36mgmm_error\u001b[0;34m(θ, policyF, xs, mean_std_observed_prices, prior_shocks, df, min_periods, w)\u001b[0m\n\u001b[1;32m    150\u001b[0m                                                                    lambdas0, min_periods)\n\u001b[1;32m    151\u001b[0m     \u001b[0;32mtry\u001b[0m\u001b[0;34m:\u001b[0m\u001b[0;34m\u001b[0m\u001b[0;34m\u001b[0m\u001b[0m\n\u001b[0;32m--> 152\u001b[0;31m         \u001b[0;32massert\u001b[0m \u001b[0mlen\u001b[0m\u001b[0;34m(\u001b[0m\u001b[0mmean_std_observed_prices\u001b[0m\u001b[0;34m)\u001b[0m \u001b[0;34m==\u001b[0m \u001b[0mlen\u001b[0m\u001b[0;34m(\u001b[0m\u001b[0mmean_std_expected_prices\u001b[0m\u001b[0;34m)\u001b[0m\u001b[0;34m\u001b[0m\u001b[0;34m\u001b[0m\u001b[0m\n\u001b[0m\u001b[1;32m    153\u001b[0m     \u001b[0;32mexcept\u001b[0m \u001b[0mAssertionError\u001b[0m \u001b[0;32mas\u001b[0m \u001b[0me\u001b[0m\u001b[0;34m:\u001b[0m\u001b[0;34m\u001b[0m\u001b[0;34m\u001b[0m\u001b[0m\n\u001b[1;32m    154\u001b[0m         \u001b[0me\u001b[0m\u001b[0;34m.\u001b[0m\u001b[0margs\u001b[0m \u001b[0;34m+=\u001b[0m \u001b[0;34m(\u001b[0m\u001b[0mlen\u001b[0m\u001b[0;34m(\u001b[0m\u001b[0mmean_std_observed_prices\u001b[0m\u001b[0;34m)\u001b[0m\u001b[0;34m,\u001b[0m \u001b[0mlen\u001b[0m\u001b[0;34m(\u001b[0m\u001b[0mmean_std_expected_prices\u001b[0m\u001b[0;34m)\u001b[0m\u001b[0;34m)\u001b[0m\u001b[0;34m\u001b[0m\u001b[0;34m\u001b[0m\u001b[0m\n",
      "\u001b[0;31mAssertionError\u001b[0m: (78, 76)"
     ]
    }
   ],
   "source": [
    "# Optimization\n",
    "######################\n",
    "\n",
    "maxiters = 2 #120. About 2 minutes per iteration\n",
    "\n",
    "def error_w_data(θ) -> float:\n",
    "    return src.gmm_error(θ, policyF, xs,\n",
    "                         mean_std_observed_prices=mean_std_observed_prices, df=df,\n",
    "                         prior_shocks=prior_shocks, min_periods=min_periods)\n",
    "\n",
    "optimi = opt.differential_evolution(error_w_data, [(-2.5, 0.5), (2.0, 4.0),\n",
    "                                                   (0.5, 2), (-3., 1.)],\n",
    "                                    maxiter=maxiters)"
   ]
  },
  {
   "cell_type": "code",
   "execution_count": null,
   "metadata": {},
   "outputs": [],
   "source": []
  }
 ],
 "metadata": {
  "kernelspec": {
   "display_name": "Python [conda env:firm_learning]",
   "language": "python",
   "name": "conda-env-firm_learning-py"
  },
  "language_info": {
   "codemirror_mode": {
    "name": "ipython",
    "version": 3
   },
   "file_extension": ".py",
   "mimetype": "text/x-python",
   "name": "python",
   "nbconvert_exporter": "python",
   "pygments_lexer": "ipython3",
   "version": "3.7.2"
  }
 },
 "nbformat": 4,
 "nbformat_minor": 2
}
