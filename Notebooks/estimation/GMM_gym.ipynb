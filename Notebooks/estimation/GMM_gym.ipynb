{
 "cells": [
  {
   "cell_type": "markdown",
   "metadata": {},
   "source": [
    "# GMM Gym\n",
    "\n",
    "Minimal working example of a GMM!\n",
    "\n",
    "## 1. Setup\n",
    "\n",
    "+ 1.1 Set up real deep parameters ($\\lambda_0 = f(X, \\theta)$)\n",
    "+ 1.2 Get ValueF and optimal policy function\n",
    "+ 1.3 Simulate demand and optimal pricing for N firms\n",
    "\n",
    "## 2. Estimating $\\theta$\n",
    "\n",
    "Try $\\theta$ until error < $\\varepsilon$\n",
    "\n",
    "+ 2.1. $\\theta$ values generate a $\\lambda_0$\n",
    "+ 2.2. $\\lambda_0$ + demand observations + optimal pricing generate pricing decisions\n",
    "+ 2.3. $error = \\left|pricing decisions - observed pricing\\right|$\n"
   ]
  },
  {
   "cell_type": "markdown",
   "metadata": {},
   "source": [
    "## 1. Setup"
   ]
  },
  {
   "cell_type": "code",
   "execution_count": 4,
   "metadata": {},
   "outputs": [
    {
     "data": {
      "text/plain": [
       "array([[0.35304688, 0.2941467 , 0.58729796],\n",
       "       [0.12978533, 0.49461854, 0.59281051],\n",
       "       [0.20758934, 0.40096166, 0.59663147],\n",
       "       [0.12757316, 0.494275  , 0.59342727],\n",
       "       [0.19590857, 0.4114474 , 0.59691903],\n",
       "       [0.20425161, 0.40108974, 0.59740367],\n",
       "       [0.19837608, 0.41181795, 0.59623599],\n",
       "       [0.11911325, 0.50588645, 0.59266667],\n",
       "       [0.16262345, 0.44689478, 0.59639867],\n",
       "       [0.14972863, 0.46675128, 0.59472183]])"
      ]
     },
     "execution_count": 4,
     "metadata": {},
     "output_type": "execute_result"
    }
   ],
   "source": [
    "import numpy as np\n",
    "from typing import Callable\n",
    "%matplotlib inline\n",
    "import matplotlib.pyplot as plt\n",
    "import dill\n",
    "import numpy as np\n",
    "import pandas as pd\n",
    "    \n",
    "import sys\n",
    "sys.path.append('../')\n",
    "import src\n",
    "\n",
    "# Simulation parameters \\\n",
    "########################\n",
    "σerror= 0.005 #0.01\n",
    "Nfirms = 300\n",
    "time_periods = 40\n",
    "\n",
    "#Suitable for logistic\n",
    "β10, β11 = -2., 3.\n",
    "β20, β21 = 0.03, -2.\n",
    "betas = [β10, β11, β20, β21]\n",
    "\n",
    "\n",
    "def lambda_0(x, prior_shock) -> np.ndarray:\n",
    "    \"\"\"\n",
    "    Generate a vector of lambdas on the observables x\n",
    "    \"\"\"\n",
    "    return src.from_theta_to_lambda0(x, θ=betas, prior_shock=prior_shock)\n",
    "\n",
    "\n",
    "def get_lambdas_from_x(xs, prior_shocks):\n",
    "    y = np.empty((len(xs), 3), dtype=float)\n",
    "    for i in range(len(xs)):\n",
    "        y[i] = lambda_0(xs[i], prior_shocks[i])\n",
    "    return y\n",
    "\n",
    "xs = np.abs(np.random.normal(0, 0.18, size=Nfirms))\n",
    "prior_shocks = src.gen_prior_shocks(Nfirms)\n",
    "lambdas0 = get_lambdas_from_x(xs, prior_shocks)\n",
    "lambdas0[0:10]\n",
    "\n"
   ]
  },
  {
   "cell_type": "code",
   "execution_count": 5,
   "metadata": {},
   "outputs": [],
   "source": [
    "file_n = \"2018-10-5vfi_dict.dill\"\n",
    "with open('../data/' + file_n, 'rb') as file:\n",
    "    data_d = dill.load(file)\n",
    "\n",
    "lambdas = src.generate_simplex_3dims(n_per_dim=data_d['n_of_lambdas_per_dim'])\n",
    "price_grid = np.linspace(data_d['min_price'], data_d['max_price'])\n",
    "\n",
    "policy = data_d['policy']\n",
    "valueF = data_d['valueF']\n",
    "lambdas_ext = src.generate_simplex_3dims(n_per_dim=\n",
    "                                         data_d['n_of_lambdas_per_dim'])\n",
    "\n",
    "#Interpolate policy (level price). valueF is already a function\n",
    "policyF = src.interpolate_wguess(lambdas_ext, policy)\n",
    "\n",
    "\n",
    "dmd_shocks = src.generate_dmd_shocks(n=Nfirms, t=time_periods, dmd_σϵ=src.const.σ_ɛ)\n",
    "\n",
    "df = src.simulate_all_firms(Nfirms, valueF, policyF, xs, θ=betas,\n",
    "                   dmd_shocks=dmd_shocks, prior_shocks=prior_shocks)"
   ]
  },
  {
   "cell_type": "markdown",
   "metadata": {},
   "source": [
    "## Estimating $\\theta$\n",
    "\n",
    "+ 2.1. $\\theta$ values generate a $\\lambda_0$\n",
    "\n",
    "(defined aboved)"
   ]
  },
  {
   "cell_type": "markdown",
   "metadata": {},
   "source": [
    "+ 2.2. $\\lambda_0$ + demand observations + optimal pricing generate pricing decisions"
   ]
  },
  {
   "cell_type": "code",
   "execution_count": 7,
   "metadata": {},
   "outputs": [
    {
     "data": {
      "text/plain": [
       "array([2.32068966, 2.05135741, 2.24369715, 2.61872996])"
      ]
     },
     "execution_count": 7,
     "metadata": {},
     "output_type": "execute_result"
    }
   ],
   "source": [
    "src.generate_pricing_decisions(policyF, np.array([0.2, 0.6, 0.2]),\n",
    "                               df[df.firm == 15].log_dmd.values)[0:4]\n",
    "\n",
    "\n"
   ]
  },
  {
   "cell_type": "markdown",
   "metadata": {},
   "source": [
    "+ 2.3. $error = \\left|pricing decisions - observed pricing\\right|$\n",
    "\n",
    "+ Do I choose moments?"
   ]
  },
  {
   "cell_type": "code",
   "execution_count": 6,
   "metadata": {},
   "outputs": [
    {
     "data": {
      "text/html": [
       "<div>\n",
       "<style scoped>\n",
       "    .dataframe tbody tr th:only-of-type {\n",
       "        vertical-align: middle;\n",
       "    }\n",
       "\n",
       "    .dataframe tbody tr th {\n",
       "        vertical-align: top;\n",
       "    }\n",
       "\n",
       "    .dataframe thead th {\n",
       "        text-align: right;\n",
       "    }\n",
       "</style>\n",
       "<table border=\"1\" class=\"dataframe\">\n",
       "  <thead>\n",
       "    <tr style=\"text-align: right;\">\n",
       "      <th></th>\n",
       "      <th></th>\n",
       "      <th>level_prices</th>\n",
       "      <th>t</th>\n",
       "    </tr>\n",
       "    <tr>\n",
       "      <th>firm</th>\n",
       "      <th></th>\n",
       "      <th></th>\n",
       "      <th></th>\n",
       "    </tr>\n",
       "  </thead>\n",
       "  <tbody>\n",
       "    <tr>\n",
       "      <th rowspan=\"5\" valign=\"top\">0</th>\n",
       "      <th>0</th>\n",
       "      <td>NaN</td>\n",
       "      <td>NaN</td>\n",
       "    </tr>\n",
       "    <tr>\n",
       "      <th>1</th>\n",
       "      <td>NaN</td>\n",
       "      <td>NaN</td>\n",
       "    </tr>\n",
       "    <tr>\n",
       "      <th>2</th>\n",
       "      <td>1.000000</td>\n",
       "      <td>1.0</td>\n",
       "    </tr>\n",
       "    <tr>\n",
       "      <th>3</th>\n",
       "      <td>1.527525</td>\n",
       "      <td>1.0</td>\n",
       "    </tr>\n",
       "    <tr>\n",
       "      <th>4</th>\n",
       "      <td>1.517674</td>\n",
       "      <td>1.0</td>\n",
       "    </tr>\n",
       "    <tr>\n",
       "      <th rowspan=\"3\" valign=\"top\">1</th>\n",
       "      <th>5</th>\n",
       "      <td>NaN</td>\n",
       "      <td>NaN</td>\n",
       "    </tr>\n",
       "    <tr>\n",
       "      <th>6</th>\n",
       "      <td>NaN</td>\n",
       "      <td>NaN</td>\n",
       "    </tr>\n",
       "    <tr>\n",
       "      <th>7</th>\n",
       "      <td>0.230940</td>\n",
       "      <td>1.0</td>\n",
       "    </tr>\n",
       "  </tbody>\n",
       "</table>\n",
       "</div>"
      ],
      "text/plain": [
       "        level_prices    t\n",
       "firm                     \n",
       "0    0           NaN  NaN\n",
       "     1           NaN  NaN\n",
       "     2      1.000000  1.0\n",
       "     3      1.527525  1.0\n",
       "     4      1.517674  1.0\n",
       "1    5           NaN  NaN\n",
       "     6           NaN  NaN\n",
       "     7      0.230940  1.0"
      ]
     },
     "execution_count": 6,
     "metadata": {},
     "output_type": "execute_result"
    }
   ],
   "source": [
    "test_df = pd.DataFrame({'level_prices': [2., 3., 4., 1., 2.1, 2.1, 2.1, 2.5],\n",
    "                       'firm': [0, 0, 0, 0, 0, 1, 1, 1],\n",
    "                       't': [0, 1, 2, 3, 4, 0, 1, 2]})\n",
    "\n",
    "test_df.groupby('firm')[['level_prices', 't']].rolling(window=3).std()\n",
    "\n"
   ]
  },
  {
   "cell_type": "code",
   "execution_count": 8,
   "metadata": {},
   "outputs": [],
   "source": [
    "#Generate running std (to start)\n",
    "std_devs = (df.groupby('firm').level_prices.rolling(window=4, min=3)\n",
    "            .std().reset_index()\n",
    "            .rename(columns={'level_1': 't',\n",
    "                            'level_prices': 'std_dev_prices'}))\n",
    "\n",
    "df = pd.merge(df, std_devs, on=['firm', 't'], how='left')\n",
    "\n"
   ]
  },
  {
   "cell_type": "code",
   "execution_count": 9,
   "metadata": {},
   "outputs": [
    {
     "data": {
      "text/plain": [
       "[<matplotlib.lines.Line2D at 0xb24192710>]"
      ]
     },
     "execution_count": 9,
     "metadata": {},
     "output_type": "execute_result"
    },
    {
     "data": {
      "image/png": "[encoded data removed]",
      "text/plain": [
       "<Figure size 432x288 with 1 Axes>"
      ]
     },
     "metadata": {},
     "output_type": "display_data"
    }
   ],
   "source": [
    "\n",
    "rolling_std_price = src.generate_mean_std_pricing_decisions(df, policyF, \n",
    "                                                            lambdas_at_0=lambdas0)\n",
    "plt.style.use('fivethirtyeight')\n",
    "plt.plot(rolling_std_price)\n"
   ]
  },
  {
   "cell_type": "code",
   "execution_count": 10,
   "metadata": {},
   "outputs": [
    {
     "data": {
      "image/png": "[encoded data removed]",
      "text/plain": [
       "<Figure size 432x288 with 1 Axes>"
      ]
     },
     "metadata": {},
     "output_type": "display_data"
    }
   ],
   "source": [
    "min_periods = 3\n",
    "\n",
    "mean_std_observed_prices = df.groupby('t').std_dev_prices.mean()[min_periods:]\n",
    "\n",
    "real_theta = np.array([-2, 3, 0.03, -2])\n",
    "\n",
    "error = []\n",
    "deviation = np.linspace(-4, 4, 50)\n",
    "thetas = real_theta + deviation[:, np.newaxis]\n",
    "\n",
    "for theta in thetas:\n",
    "    error.append(src.std_moments_error(theta, policyF, xs, mean_std_observed_prices,\n",
    "                                       prior_shocks, df, min_periods=3))\n",
    "\n",
    "fig, ax = plt.subplots(1, 1)\n",
    "ax.plot(deviation, error)\n",
    "ax.set_xlabel(\"Deviations from true theta\", size=16)\n",
    "fig.suptitle(\"GMM error as a function of deviation from true parameters\", size=18);\n",
    "\n"
   ]
  },
  {
   "cell_type": "markdown",
   "metadata": {},
   "source": [
    "## 3. Optimize"
   ]
  },
  {
   "cell_type": "markdown",
   "metadata": {},
   "source": [
    "## Optimize with moments"
   ]
  },
  {
   "cell_type": "code",
   "execution_count": 11,
   "metadata": {},
   "outputs": [],
   "source": [
    "min_periods = 3\n",
    "\n",
    "mean_std_observed_prices = df.groupby('t').std_dev_prices.mean()[min_periods:]\n",
    "\n",
    "def error_w_data(θ):\n",
    "    return std_moments_error(θ, policyF, xs,\n",
    "                      mean_std_observed_prices=mean_std_observed_prices,\n",
    "                             min_periods=3)\n",
    "\n"
   ]
  },
  {
   "cell_type": "code",
   "execution_count": 28,
   "metadata": {},
   "outputs": [
    {
     "data": {
      "text/plain": [
       "array([-2.  ,  3.  ,  0.03, -2.  ])"
      ]
     },
     "execution_count": 28,
     "metadata": {},
     "output_type": "execute_result"
    }
   ],
   "source": [
    "trueθ0 = np.array([β10, β11, β20, β21])\n",
    "mediumθ0 = np.array([β10+0.1, β11-0.1, β20+0.01, β21-0.01])\n",
    "badθ0 = np.array([β10+0.3, β11-0.05, β20+0.1, β21-0.05])\n",
    "trueθ0\n",
    "\n"
   ]
  },
  {
   "cell_type": "code",
   "execution_count": 29,
   "metadata": {},
   "outputs": [
    {
     "data": {
      "text/plain": [
       "array([-1.7 ,  2.95,  0.13, -2.05])"
      ]
     },
     "execution_count": 29,
     "metadata": {},
     "output_type": "execute_result"
    }
   ],
   "source": [
    "badθ0"
   ]
  },
  {
   "cell_type": "code",
   "execution_count": 32,
   "metadata": {},
   "outputs": [
    {
     "name": "stdout",
     "output_type": "stream",
     "text": [
      "Warning: Maximum number of iterations has been exceeded.\n"
     ]
    },
    {
     "data": {
      "text/plain": [
       " final_simplex: (array([[ 5.29954226e-03, -1.02871296e+01,  2.48956659e+00,\n",
       "        -1.67859115e+01],\n",
       "       [ 5.29953737e-03, -1.02871300e+01,  2.48956580e+00,\n",
       "        -1.67859118e+01],\n",
       "       [ 5.29953842e-03, -1.02871296e+01,  2.48956610e+00,\n",
       "        -1.67859126e+01],\n",
       "       [ 5.29954718e-03, -1.02871302e+01,  2.48956817e+00,\n",
       "        -1.67859116e+01],\n",
       "       [ 5.29955079e-03, -1.02871298e+01,  2.48956906e+00,\n",
       "        -1.67859073e+01]]), array([0.54721217, 0.5472142 , 0.54722698, 0.54749134, 0.54752757]))\n",
       "           fun: 0.547212174134108\n",
       "       message: 'Maximum number of iterations has been exceeded.'\n",
       "          nfev: 213\n",
       "           nit: 100\n",
       "        status: 2\n",
       "       success: False\n",
       "             x: array([ 5.29954226e-03, -1.02871296e+01,  2.48956659e+00, -1.67859115e+01])"
      ]
     },
     "execution_count": 32,
     "metadata": {},
     "output_type": "execute_result"
    }
   ],
   "source": [
    "from scipy import optimize as opt\n",
    "true_params = np.array([β10, β11, β20, β21])\n",
    "mediumθ0 = np.array([β10+0.1, β11-0.1, β20+0.01, β21-0.01])\n",
    "badθ0 = np.array([β10+2, β11-1, β20+1, β21-3])\n",
    "\n",
    "opt.minimize(error_w_data, badθ0,\n",
    "             method='Nelder-Mead', options={'maxiter': 100, 'disp': True})\n",
    "\n"
   ]
  },
  {
   "cell_type": "code",
   "execution_count": 40,
   "metadata": {},
   "outputs": [
    {
     "name": "stdout",
     "output_type": "stream",
     "text": [
      "Taken 25.056923247873783 minutes for 20 iterations. 1.252846162393689 per iteration\n"
     ]
    }
   ],
   "source": [
    "import time\n",
    "start = time.time()\n",
    "maxiters=20\n",
    "optimi = opt.differential_evolution(error_w_data, [(-2.5, 0.5), (3., 3.2),\n",
    "                                                   (-0.5, 0.2), (-3, 1)],\n",
    "                          maxiter=maxiters)\n",
    "\n",
    "time_taken =  time.time()/60 - start/60 \n",
    "print(\"Taken {0} minutes for {1} iterations. {2} per iteration\".format(\n",
    "      time_taken, maxiters, time_taken/maxiters))\n"
   ]
  },
  {
   "cell_type": "code",
   "execution_count": 42,
   "metadata": {},
   "outputs": [
    {
     "data": {
      "text/plain": [
       "     fun: 0.05481654620070882\n",
       "     jac: array([ 3.18902989, -0.10044244, 68.01941874, -0.46822872])\n",
       " message: 'Optimization terminated successfully.'\n",
       "    nfev: 1420\n",
       "     nit: 18\n",
       " success: True\n",
       "       x: array([-1.86544625e+00,  3.14486084e+00, -1.03523282e-01,  2.11626146e-03])"
      ]
     },
     "execution_count": 42,
     "metadata": {},
     "output_type": "execute_result"
    }
   ],
   "source": [
    "optimi"
   ]
  },
  {
   "cell_type": "code",
   "execution_count": 39,
   "metadata": {},
   "outputs": [
    {
     "data": {
      "text/plain": [
       "array([-2.  ,  3.  ,  0.03, -2.  ])"
      ]
     },
     "execution_count": 39,
     "metadata": {},
     "output_type": "execute_result"
    }
   ],
   "source": [
    "true_params"
   ]
  },
  {
   "cell_type": "code",
   "execution_count": 37,
   "metadata": {},
   "outputs": [
    {
     "data": {
      "text/plain": [
       "16.666666666666668"
      ]
     },
     "execution_count": 37,
     "metadata": {},
     "output_type": "execute_result"
    }
   ],
   "source": [
    "30 / 1.8"
   ]
  },
  {
   "cell_type": "code",
   "execution_count": 36,
   "metadata": {},
   "outputs": [
    {
     "data": {
      "text/plain": [
       "     fun: 0.0578230140593063\n",
       "     jac: array([-0.18519899,  0.04518685,  0.27314053,  0.03004971])\n",
       " message: 'Maximum number of iterations has been exceeded.'\n",
       "    nfev: 340\n",
       "     nit: 3\n",
       " success: False\n",
       "       x: array([-2.65403438, -1.73134173, -0.0719002 , -0.68928282])"
      ]
     },
     "execution_count": 36,
     "metadata": {},
     "output_type": "execute_result"
    }
   ],
   "source": [
    "optimi\n",
    "\n"
   ]
  },
  {
   "cell_type": "markdown",
   "metadata": {},
   "source": [
    "## Nelder-Mead\n",
    "\n",
    "Doesn't converge. Not super surprised, since the problem is weird"
   ]
  },
  {
   "cell_type": "code",
   "execution_count": 141,
   "metadata": {},
   "outputs": [
    {
     "name": "stdout",
     "output_type": "stream",
     "text": [
      "Warning: Maximum number of iterations has been exceeded.\n"
     ]
    },
    {
     "data": {
      "text/plain": [
       " final_simplex: (array([[ 1.23357625e-09,  1.99999990e+00,  1.03000024e+00,\n",
       "        -4.99999927e+00],\n",
       "       [ 1.23357625e-09,  1.99999990e+00,  1.03000024e+00,\n",
       "        -4.99999927e+00],\n",
       "       [ 1.23357625e-09,  1.99999990e+00,  1.03000024e+00,\n",
       "        -4.99999927e+00],\n",
       "       [ 1.23357625e-09,  1.99999990e+00,  1.03000024e+00,\n",
       "        -4.99999927e+00],\n",
       "       [ 1.23357625e-09,  1.99999990e+00,  1.03000024e+00,\n",
       "        -4.99999927e+00]]), array([1.91533241, 1.9243984 , 1.9332215 , 1.93347883, 1.93582771]))\n",
       "           fun: 1.9153324053720298\n",
       "       message: 'Maximum number of iterations has been exceeded.'\n",
       "          nfev: 13571\n",
       "           nit: 5000\n",
       "        status: 2\n",
       "       success: False\n",
       "             x: array([ 1.23357625e-09,  1.99999990e+00,  1.03000024e+00, -4.99999927e+00])"
      ]
     },
     "execution_count": 141,
     "metadata": {},
     "output_type": "execute_result"
    }
   ],
   "source": [
    "from scipy import optimize as opt\n",
    "#minimize(f, x0,, method='Nelder-Mead')\n",
    "true_params = np.array([β10, β11, β20, β21])\n",
    "mediumθ0 = np.array([β10+0.1, β11-0.1, β20+0.01, β21-0.01])\n",
    "badθ0 = np.array([β10+2, β11-1, β20+1, β21-3])\n",
    "opt.minimize(error_w_data, badθ0, method='Nelder-Mead', options={'maxiter': 5000, 'disp': True})"
   ]
  },
  {
   "cell_type": "markdown",
   "metadata": {},
   "source": [
    "## Differential Evolution\n",
    "\n",
    "Does converge! Seems promising even though it's slow"
   ]
  },
  {
   "cell_type": "code",
   "execution_count": 144,
   "metadata": {},
   "outputs": [
    {
     "data": {
      "text/plain": [
       "     fun: 0.048427970155213274\n",
       " message: 'Optimization terminated successfully.'\n",
       "    nfev: 7965\n",
       "     nit: 130\n",
       " success: True\n",
       "       x: array([-1.36566532,  0.48591431,  0.67631488, -2.59839081])"
      ]
     },
     "execution_count": 144,
     "metadata": {},
     "output_type": "execute_result"
    }
   ],
   "source": [
    "opt.differential_evolution(error_w_data, [(-3, 3), (-3, 3), (-3, 3), (-3, 3)],\n",
    "                          maxiter=1000)"
   ]
  },
  {
   "cell_type": "markdown",
   "metadata": {},
   "source": [
    "## Self-contained script"
   ]
  },
  {
   "cell_type": "code",
   "execution_count": 5,
   "metadata": {},
   "outputs": [
    {
     "name": "stdout",
     "output_type": "stream",
     "text": [
      "Preprocessing done. Now starting optimization\n",
      "Expected to finish at: 17:31\n",
      "Taken 47.218984462320805 minutes for 50 iterations. 0.9443796892464161 per iteration\n"
     ]
    },
    {
     "name": "stderr",
     "output_type": "stream",
     "text": [
      "Use token 5000582613848678617.\n"
     ]
    },
    {
     "data": {
      "text/plain": [
       "'betas : [-2.0, 3.0, 0.03, -2.0] \\nResult: [-2.    2.96  0.03 -2.  ]'"
      ]
     },
     "execution_count": 5,
     "metadata": {},
     "output_type": "execute_result"
    },
    {
     "name": "stderr",
     "output_type": "stream",
     "text": [
      "During request exception was raised: <urlopen error [Errno 8] nodename nor servname provided, or not known>\n",
      "Traceback (most recent call last):\n",
      "  File \"/usr/local/anaconda3/envs/firm_learning/lib/python3.7/urllib/request.py\", line 1317, in do_open\n",
      "    encode_chunked=req.has_header('Transfer-encoding'))\n",
      "  File \"/usr/local/anaconda3/envs/firm_learning/lib/python3.7/http/client.py\", line 1229, in request\n",
      "    self._send_request(method, url, body, headers, encode_chunked)\n",
      "  File \"/usr/local/anaconda3/envs/firm_learning/lib/python3.7/http/client.py\", line 1275, in _send_request\n",
      "    self.endheaders(body, encode_chunked=encode_chunked)\n",
      "  File \"/usr/local/anaconda3/envs/firm_learning/lib/python3.7/http/client.py\", line 1224, in endheaders\n",
      "    self._send_output(message_body, encode_chunked=encode_chunked)\n",
      "  File \"/usr/local/anaconda3/envs/firm_learning/lib/python3.7/http/client.py\", line 1016, in _send_output\n",
      "    self.send(msg)\n",
      "  File \"/usr/local/anaconda3/envs/firm_learning/lib/python3.7/http/client.py\", line 956, in send\n",
      "    self.connect()\n",
      "  File \"/usr/local/anaconda3/envs/firm_learning/lib/python3.7/http/client.py\", line 1384, in connect\n",
      "    super().connect()\n",
      "  File \"/usr/local/anaconda3/envs/firm_learning/lib/python3.7/http/client.py\", line 928, in connect\n",
      "    (self.host,self.port), self.timeout, self.source_address)\n",
      "  File \"/usr/local/anaconda3/envs/firm_learning/lib/python3.7/socket.py\", line 707, in create_connection\n",
      "    for res in getaddrinfo(host, port, 0, SOCK_STREAM):\n",
      "  File \"/usr/local/anaconda3/envs/firm_learning/lib/python3.7/socket.py\", line 748, in getaddrinfo\n",
      "    for res in _socket.getaddrinfo(host, port, family, type, proto, flags):\n",
      "socket.gaierror: [Errno 8] nodename nor servname provided, or not known\n",
      "\n",
      "During handling of the above exception, another exception occurred:\n",
      "\n",
      "Traceback (most recent call last):\n",
      "  File \"/usr/local/anaconda3/envs/firm_learning/lib/python3.7/site-packages/telepyth/client.py\", line 64, in __call__\n",
      "    res = urlopen(req)\n",
      "  File \"/usr/local/anaconda3/envs/firm_learning/lib/python3.7/urllib/request.py\", line 222, in urlopen\n",
      "    return opener.open(url, data, timeout)\n",
      "  File \"/usr/local/anaconda3/envs/firm_learning/lib/python3.7/urllib/request.py\", line 525, in open\n",
      "    response = self._open(req, data)\n",
      "  File \"/usr/local/anaconda3/envs/firm_learning/lib/python3.7/urllib/request.py\", line 543, in _open\n",
      "    '_open', req)\n",
      "  File \"/usr/local/anaconda3/envs/firm_learning/lib/python3.7/urllib/request.py\", line 503, in _call_chain\n",
      "    result = func(*args)\n",
      "  File \"/usr/local/anaconda3/envs/firm_learning/lib/python3.7/urllib/request.py\", line 1360, in https_open\n",
      "    context=self._context, check_hostname=self._check_hostname)\n",
      "  File \"/usr/local/anaconda3/envs/firm_learning/lib/python3.7/urllib/request.py\", line 1319, in do_open\n",
      "    raise URLError(err)\n",
      "urllib.error.URLError: <urlopen error [Errno 8] nodename nor servname provided, or not known>\n",
      "Notification was failed.\n"
     ]
    },
    {
     "data": {
      "text/plain": [
       "'Percentage difference: [-0.    1.34  0.   -0.  ]'"
      ]
     },
     "execution_count": 5,
     "metadata": {},
     "output_type": "execute_result"
    },
    {
     "name": "stderr",
     "output_type": "stream",
     "text": [
      "During request exception was raised: <urlopen error [Errno 8] nodename nor servname provided, or not known>\n",
      "Traceback (most recent call last):\n",
      "  File \"/usr/local/anaconda3/envs/firm_learning/lib/python3.7/urllib/request.py\", line 1317, in do_open\n",
      "    encode_chunked=req.has_header('Transfer-encoding'))\n",
      "  File \"/usr/local/anaconda3/envs/firm_learning/lib/python3.7/http/client.py\", line 1229, in request\n",
      "    self._send_request(method, url, body, headers, encode_chunked)\n",
      "  File \"/usr/local/anaconda3/envs/firm_learning/lib/python3.7/http/client.py\", line 1275, in _send_request\n",
      "    self.endheaders(body, encode_chunked=encode_chunked)\n",
      "  File \"/usr/local/anaconda3/envs/firm_learning/lib/python3.7/http/client.py\", line 1224, in endheaders\n",
      "    self._send_output(message_body, encode_chunked=encode_chunked)\n",
      "  File \"/usr/local/anaconda3/envs/firm_learning/lib/python3.7/http/client.py\", line 1016, in _send_output\n",
      "    self.send(msg)\n",
      "  File \"/usr/local/anaconda3/envs/firm_learning/lib/python3.7/http/client.py\", line 956, in send\n",
      "    self.connect()\n",
      "  File \"/usr/local/anaconda3/envs/firm_learning/lib/python3.7/http/client.py\", line 1384, in connect\n",
      "    super().connect()\n",
      "  File \"/usr/local/anaconda3/envs/firm_learning/lib/python3.7/http/client.py\", line 928, in connect\n",
      "    (self.host,self.port), self.timeout, self.source_address)\n",
      "  File \"/usr/local/anaconda3/envs/firm_learning/lib/python3.7/socket.py\", line 707, in create_connection\n",
      "    for res in getaddrinfo(host, port, 0, SOCK_STREAM):\n",
      "  File \"/usr/local/anaconda3/envs/firm_learning/lib/python3.7/socket.py\", line 748, in getaddrinfo\n",
      "    for res in _socket.getaddrinfo(host, port, family, type, proto, flags):\n",
      "socket.gaierror: [Errno 8] nodename nor servname provided, or not known\n",
      "\n",
      "During handling of the above exception, another exception occurred:\n",
      "\n",
      "Traceback (most recent call last):\n",
      "  File \"/usr/local/anaconda3/envs/firm_learning/lib/python3.7/site-packages/telepyth/client.py\", line 64, in __call__\n",
      "    res = urlopen(req)\n",
      "  File \"/usr/local/anaconda3/envs/firm_learning/lib/python3.7/urllib/request.py\", line 222, in urlopen\n",
      "    return opener.open(url, data, timeout)\n",
      "  File \"/usr/local/anaconda3/envs/firm_learning/lib/python3.7/urllib/request.py\", line 525, in open\n",
      "    response = self._open(req, data)\n",
      "  File \"/usr/local/anaconda3/envs/firm_learning/lib/python3.7/urllib/request.py\", line 543, in _open\n",
      "    '_open', req)\n",
      "  File \"/usr/local/anaconda3/envs/firm_learning/lib/python3.7/urllib/request.py\", line 503, in _call_chain\n",
      "    result = func(*args)\n",
      "  File \"/usr/local/anaconda3/envs/firm_learning/lib/python3.7/urllib/request.py\", line 1360, in https_open\n",
      "    context=self._context, check_hostname=self._check_hostname)\n",
      "  File \"/usr/local/anaconda3/envs/firm_learning/lib/python3.7/urllib/request.py\", line 1319, in do_open\n",
      "    raise URLError(err)\n",
      "urllib.error.URLError: <urlopen error [Errno 8] nodename nor servname provided, or not known>\n",
      "Notification was failed.\n"
     ]
    }
   ],
   "source": [
    "import numpy as np\n",
    "import dill\n",
    "import pandas as pd\n",
    "import telepyth\n",
    "from scipy import optimize as opt\n",
    "import time\n",
    "import sys\n",
    "sys.path.append('../')\n",
    "import src\n",
    "maxiters = 50\n",
    "\n",
    "#Load policy and value function\n",
    "#####################\n",
    "file_n = \"2018-10-5vfi_dict.dill\"\n",
    "with open('../data/' + file_n, 'rb') as file:\n",
    "    data_d = dill.load(file)\n",
    "\n",
    "lambdas = src.generate_simplex_3dims(n_per_dim=data_d['n_of_lambdas_per_dim'])\n",
    "price_grid = np.linspace(data_d['min_price'], data_d['max_price'])\n",
    "\n",
    "policy = data_d['policy']\n",
    "valueF = data_d['valueF']\n",
    "lambdas_ext = src.generate_simplex_3dims(n_per_dim=\n",
    "                                         data_d['n_of_lambdas_per_dim'])\n",
    "\n",
    "#Interpolate policy (level price). valueF is already a function\n",
    "policyF = src.interpolate_wguess(lambdas_ext, policy)\n",
    "\n",
    "# Simulation parameters \\\n",
    "########################\n",
    "σerror= 0.005 #0.01\n",
    "Nfirms = 300\n",
    "time_periods = 40\n",
    "min_periods= 3\n",
    "\n",
    "#Suitable for logistic\n",
    "β10, β11 = -2., 3.\n",
    "β20, β21 = 0.03, -2.\n",
    "betas = [β10, β11, β20, β21]\n",
    "\n",
    "\n",
    "def lambda_0(x, prior_shock) -> np.ndarray:\n",
    "    \"\"\"\n",
    "    Generate a vector of lambdas on the observables x\n",
    "    \"\"\"\n",
    "    return src.from_theta_to_lambda0(x, θ=betas, prior_shock=prior_shock)\n",
    "\n",
    "\n",
    "def get_lambdas_from_x(xs, prior_shocks):\n",
    "    y = np.empty((len(xs), 3))\n",
    "    for i in range(len(xs)):\n",
    "        y[i] = lambda_0(xs[i], prior_shocks[i])\n",
    "    return y\n",
    "\n",
    "xs = np.abs(np.random.normal(0, 0.18, size=Nfirms))\n",
    "prior_shocks = src.gen_prior_shocks(Nfirms, σerror=σerror)\n",
    "lambdas0 = get_lambdas_from_x(xs, prior_shocks)\n",
    "\n",
    "dmd_shocks = src.generate_dmd_shocks(n=Nfirms, t=time_periods, dmd_σϵ=src.const.σ_ɛ)\n",
    "\n",
    "df = src.simulate_all_firms(Nfirms, valueF, policyF, xs, θ=betas,\n",
    "                   dmd_shocks=dmd_shocks, prior_shocks=prior_shocks)\n",
    "\n",
    "\n",
    "std_devs = (df.groupby('firm').level_prices.rolling(window=4, min=3)\n",
    "            .std().reset_index()\n",
    "            .rename(columns={'level_1': 't',\n",
    "                            'level_prices': 'std_dev_prices'}))\n",
    "\n",
    "df = pd.merge(df, std_devs, on=['firm', 't'], how='left')\n",
    "\n",
    "mean_std_observed_prices = df.groupby('t').std_dev_prices.mean()[min_periods:]\n",
    "\n",
    "\n",
    "#def error_w_data(θ):\n",
    "#    return src.std_moments_error(θ, policyF, xs,\n",
    "#                      mean_std_observed_prices=mean_std_observed_prices, df=df,\n",
    "#                                 prior_shocks=prior_shocks, min_periods=min_periods)\n",
    "\n",
    "\n",
    "def error_w_data(θ):\n",
    "    return src.gmm_error(θ, policyF, xs,\n",
    "                      mean_std_observed_prices=mean_std_observed_prices, df=df,\n",
    "                                 prior_shocks=prior_shocks, min_periods=min_periods)\n",
    "\n",
    "\n",
    "print(\"Preprocessing done. Now starting optimization\")\n",
    "finish = pd.Timestamp.now() + pd.Timedelta(1.046*maxiters, unit='m')\n",
    "print(\"Expected to finish at: {0}:{1}\".format(finish.hour, finish.minute))\n",
    "\n",
    "start = time.time()\n",
    "\n",
    "optimi = opt.differential_evolution(error_w_data, [(-2.5, 0.5), (2.7, 3.4),\n",
    "                                                   (-0.5, 0.2), (-3, 0.5)],\n",
    "                                    maxiter=maxiters)\n",
    "\n",
    "time_taken =  time.time()/60 - start/60\n",
    "print(\"Taken {0} minutes for {1} iterations. {2} per iteration\".format(\n",
    "      time_taken, maxiters, time_taken/maxiters))\n",
    "\n",
    "optimix = np.round(optimi.x, 2)\n",
    "\n",
    "perc_diff = 100*(np.array(betas) - optimix) / (np.array(betas)/2 + optimix/2) \n",
    "perc_diff = np.round(perc_diff, 2)\n",
    "\n",
    "%telepyth -t 5000582613848678617\n",
    "msg1 = 'betas : {0} \\nResult: {1}'.format(betas, optimix)\n",
    "%telepyth msg1\n",
    "msg2 = 'Percentage difference: {0}'.format(perc_diff)\n",
    "%telepyth msg2\n"
   ]
  },
  {
   "cell_type": "code",
   "execution_count": 7,
   "metadata": {},
   "outputs": [
    {
     "data": {
      "text/plain": [
       "50"
      ]
     },
     "execution_count": 7,
     "metadata": {},
     "output_type": "execute_result"
    }
   ],
   "source": [
    "maxiters"
   ]
  },
  {
   "cell_type": "code",
   "execution_count": 8,
   "metadata": {},
   "outputs": [
    {
     "data": {
      "text/plain": [
       "     fun: 2.7777863745001848e-08\n",
       "     jac: array([-1.39136010e-05, -8.90818994e-06,  2.05287812e-05, -7.47683253e-05])\n",
       " message: 'Maximum number of iterations has been exceeded.'\n",
       "    nfev: 3115\n",
       "     nit: 50\n",
       " success: False\n",
       "       x: array([-1.99774849,  2.9552326 ,  0.02982623, -1.99644851])"
      ]
     },
     "execution_count": 8,
     "metadata": {},
     "output_type": "execute_result"
    }
   ],
   "source": [
    "optimi"
   ]
  },
  {
   "cell_type": "code",
   "execution_count": 74,
   "metadata": {},
   "outputs": [
    {
     "data": {
      "text/plain": [
       "0.47333333333333333"
      ]
     },
     "execution_count": 74,
     "metadata": {},
     "output_type": "execute_result"
    }
   ],
   "source": []
  },
  {
   "cell_type": "code",
   "execution_count": 54,
   "metadata": {},
   "outputs": [
    {
     "data": {
      "text/plain": [
       "nan"
      ]
     },
     "execution_count": 54,
     "metadata": {},
     "output_type": "execute_result"
    }
   ],
   "source": [
    "params = np.array([0.32953248, 2.78590576, 0.1626184 , 0.15463266])\n",
    "error_w_data(params)"
   ]
  },
  {
   "cell_type": "code",
   "execution_count": null,
   "metadata": {},
   "outputs": [],
   "source": [
    "np.linalg.norm()"
   ]
  },
  {
   "cell_type": "code",
   "execution_count": 56,
   "metadata": {},
   "outputs": [
    {
     "data": {
      "text/plain": [
       "nan"
      ]
     },
     "execution_count": 56,
     "metadata": {},
     "output_type": "execute_result"
    }
   ],
   "source": [
    "error_w_data(betas)"
   ]
  },
  {
   "cell_type": "code",
   "execution_count": 59,
   "metadata": {},
   "outputs": [],
   "source": [
    "θ = betas\n",
    "lambdas0 = src.from_theta_to_lambda_for_all_firms(θ, xs, prior_shocks)\n",
    "\n",
    "mean_std_expected_prices = src.generate_mean_std_pricing_decisions(df, policyF,\n",
    "                                                               lambdas0, min_periods=3)"
   ]
  },
  {
   "cell_type": "code",
   "execution_count": 62,
   "metadata": {},
   "outputs": [
    {
     "data": {
      "text/plain": [
       "array([       nan, 0.26171658, 0.20702447, 0.176078  , 0.14527574,\n",
       "       0.13419475, 0.11754773, 0.0991504 , 0.08780488, 0.07948351,\n",
       "       0.07105379, 0.06417328, 0.05581197, 0.04882928, 0.04112089,\n",
       "       0.03793213, 0.03384956, 0.02837787, 0.0250851 , 0.02427785,\n",
       "       0.02361117, 0.02445853, 0.02320723, 0.02130517, 0.02015809,\n",
       "       0.01715473, 0.01469448, 0.01059851, 0.009933  , 0.01095418,\n",
       "       0.0109341 , 0.00889007, 0.00726938, 0.00640866, 0.00620676,\n",
       "       0.00713112, 0.00751617, 0.00730437])"
      ]
     },
     "execution_count": 62,
     "metadata": {},
     "output_type": "execute_result"
    }
   ],
   "source": [
    "mean_std_observed_prices.values"
   ]
  },
  {
   "cell_type": "code",
   "execution_count": 61,
   "metadata": {},
   "outputs": [
    {
     "data": {
      "text/plain": [
       "array([0.26171658, 0.20702447, 0.176078  , 0.14527574, 0.13419475,\n",
       "       0.11754773, 0.0991504 , 0.08780488, 0.07948351, 0.07105379,\n",
       "       0.06417328, 0.05581197, 0.04882928, 0.04112089, 0.03793213,\n",
       "       0.03384956, 0.02837787, 0.0250851 , 0.02427785, 0.02361117,\n",
       "       0.02445853, 0.02320723, 0.02130517, 0.02015809, 0.01715473,\n",
       "       0.01469448, 0.01059851, 0.009933  , 0.01095418, 0.0109341 ,\n",
       "       0.00889007, 0.00726938, 0.00640866, 0.00620676, 0.00713112,\n",
       "       0.00751617, 0.00730437])"
      ]
     },
     "execution_count": 61,
     "metadata": {},
     "output_type": "execute_result"
    }
   ],
   "source": [
    "mean_std_expected_prices.values"
   ]
  },
  {
   "cell_type": "code",
   "execution_count": null,
   "metadata": {},
   "outputs": [],
   "source": [
    "def std_moments_error(θ: np.ndarray, policyF, xs, mean_std_observed_prices,\n",
    "                      prior_shocks, df, min_periods=3) -> float:\n",
    "    \"\"\"\n",
    "    Computes the norm of the different between the observed moments and\n",
    "    the moments predicted by the model + θ\n",
    "\n",
    "    Moments: average (over firms) standard deviation for each time period\n",
    "\n",
    "    x: characteristics of firms\n",
    "    mean_std_observed_prices: mean (over firms) of standard deviation per t\n",
    "    \"\"\"\n",
    "    # Generate one lambda0 per firm\n",
    "    lambdas0 = from_theta_to_lambda_for_all_firms(θ, xs, prior_shocks)\n",
    "\n",
    "    mean_std_expected_prices = generate_mean_std_pricing_decisions(df, policyF,\n",
    "                                                                   lambdas0, min_periods)\n",
    "\n",
    "    return np.linalg.norm(mean_std_expected_prices.values\n",
    "                          - mean_std_observed_prices.values)"
   ]
  }
 ],
 "metadata": {
  "kernelspec": {
   "display_name": "Python [conda env:firm_learning]",
   "language": "python",
   "name": "conda-env-firm_learning-py"
  },
  "language_info": {
   "codemirror_mode": {
    "name": "ipython",
    "version": 3
   },
   "file_extension": ".py",
   "mimetype": "text/x-python",
   "name": "python",
   "nbconvert_exporter": "python",
   "pygments_lexer": "ipython3",
   "version": "3.7.0"
  }
 },
 "nbformat": 4,
 "nbformat_minor": 2
}
