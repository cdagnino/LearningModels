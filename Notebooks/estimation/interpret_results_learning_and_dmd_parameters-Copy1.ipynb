{
 "cells": [
  {
   "cell_type": "code",
   "execution_count": 1,
   "metadata": {},
   "outputs": [
    {
     "name": "stdout",
     "output_type": "stream",
     "text": [
      "Started at Sat Jun  1 17:25:40 2019. Discount: 0.95.\n",
      "          Method mixed with 100 maxiters. Logs for x? False\n"
     ]
    }
   ],
   "source": [
    "%matplotlib inline\n",
    "import matplotlib.pyplot as plt\n",
    "plt.style.use('fivethirtyeight')\n",
    "import numpy as np\n",
    "import dill\n",
    "import pandas as pd\n",
    "from scipy import optimize as opt\n",
    "from sklearn.preprocessing import MinMaxScaler\n",
    "import time\n",
    "import sys\n",
    "sys.path.append('../../')\n",
    "import src\n",
    "from numba import njit\n",
    "\n",
    "\n",
    "np.random.seed(383461)\n",
    "#GMM parameters\n",
    "maxiters = 100 #100, 8.6 minutos por iteración para differential_evolution\n",
    "time_periods = 40 #Maximum spell_t to consider\n",
    "max_t_to_consider = 37\n",
    "min_periods = 3 #Min window period for standard deviation\n",
    "use_logs_for_x = False\n",
    "simul_repetitions = 1 #simulation repetitions\n",
    "method = \"mixed\"  #\"differential evolution\", \"Nelder-Mead\", \"mixed\"\n",
    "print(f\"\"\"Started at {time.asctime()}. Discount: {src.const.δ}.\n",
    "          Method {method} with {maxiters} maxiters. Logs for x? {use_logs_for_x}\"\"\")\n",
    "\n",
    "\n",
    "#Load policy and value function\n",
    "#####################\n",
    "\n",
    "#file_n = \"2019-4-12medium_prod_vfi_dict.dill\"\n",
    "file_n = \"2019-4-27medium_prod_vfi_dict.dill\" #discount 0.95 (I think)\n",
    "#file_n = \"2019-4-28medium_prod_vfi_dict.dill\" #discount 0.99 (I think)\n",
    "#file_n = \"\" #Work Macbook\n",
    "with open('../../data/' + file_n, 'rb') as file:\n",
    "    data_d = dill.load(file)\n",
    "\n",
    "lambdas = src.generate_simplex_3dims(n_per_dim=data_d['n_of_lambdas_per_dim'])\n",
    "price_grid = np.linspace(data_d['min_price'], data_d['max_price'])\n",
    "\n",
    "policy = data_d['policy']\n",
    "valueF = data_d['valueF']\n",
    "lambdas_ext = src.generate_simplex_3dims(n_per_dim=\n",
    "                                         data_d['n_of_lambdas_per_dim'])\n",
    "\n",
    "#Interpolate policy (level price). valueF is already a function\n",
    "policyF = src.interpolate_wguess(lambdas_ext, policy)\n",
    "\n",
    "\n",
    "#dataframe and standard deviation\n",
    "cleaned_data = \"../../../firm_learning/data/cleaned_data/\"\n",
    "\n",
    "df = pd.read_csv(cleaned_data + \"medium_prod_for_gmm.csv\")\n",
    "std_devs = (df.groupby('firm').level_prices.rolling(window=4, min=min_periods)\n",
    "            .std().reset_index()\n",
    "            .rename(columns={'level_1': 't', 'level_prices': 'std_dev_prices'}))\n",
    "\n",
    "df = pd.merge(df, std_devs, on=['firm', 't'], how='left')\n",
    "df[\"dmd_shocks\"] = np.random.normal(loc=0, scale=src.const.σ_ɛ, size=len(df))\n",
    "\n",
    "n_firms = df.firm.nunique()\n",
    "max_t_periods_in_data = df.groupby('firm').log_dmd.count().max()\n",
    "\n",
    "\n",
    "def param_array_to_dmd_constants(Ξ):\n",
    "    return {'γ': Ξ[0],  'beta_shock_std': Ξ[1], 'taste_shock_std': Ξ[2]}\n",
    "\n",
    "\n",
    "mean_std_observed_prices = df.groupby('t').rolling_std_upc.mean()[min_periods:]\n",
    "\n",
    "#Mix Max scaling for xs\n",
    "if use_logs_for_x:\n",
    "    xs = np.log(df.groupby('firm').xs.first().values + 0.1)\n",
    "else:\n",
    "    xs = (df.groupby('firm').xs.first().values + 0.1)\n",
    "scaler = MinMaxScaler()\n",
    "xs = scaler.fit_transform(xs.reshape(-1, 1)).flatten()\n",
    "\n",
    "Nfirms = len(xs)\n",
    "\n",
    "\n",
    "@njit()\n",
    "def inner_loop_with_numba_unbalanced(simul_repetitions_, firm_lengths: np.array, n_firms: int, len_df: int, γ,\n",
    "                                     taste_shocks, b0):\n",
    "    betas_inertia_by_m = np.empty((len_df, simul_repetitions_))\n",
    "    for m in range(simul_repetitions):\n",
    "        for i_firm in range(n_firms):\n",
    "            betas_inertia_by_m[firm_lengths[i_firm]:firm_lengths[i_firm + 1], m] = \\\n",
    "                (src.generate_betas_inertia_Ξ(γ, taste_shocks, b0,\n",
    "                                              firm_lengths[i_firm + 1] - firm_lengths[i_firm],\n",
    "                                              i_firm))\n",
    "    return betas_inertia_by_m\n",
    "\n",
    "\n",
    "#Draw shocks\n",
    "#################\n",
    "prior_shocks = src.gen_prior_shocks(Nfirms, σerror=0) # Add zeroes for the gmm estimation\n",
    "taste_std_normal_shocks = np.random.normal(loc=0, scale=1, size=(max_t_periods_in_data, n_firms))\n",
    "b0_std_normal_shocks = np.random.normal(loc=0, scale=1, size=n_firms)\n",
    "\n",
    "\n",
    "\n",
    "def full_gmm_error(θandΞ: np.array, policyF: object, xs: np.array, mean_std_observed_prices: pd.Series,\n",
    "                   prior_shocks: np.array, df: pd.DataFrame, len_df, firm_lengths,\n",
    "                   min_periods: int = 3, w=None) -> float:\n",
    "    \"\"\"\n",
    "    Computes the gmm error of the different between the observed moments and\n",
    "    the moments predicted by the model + θ\n",
    "\n",
    "    Moments: average (over firms) standard deviation for each time period\n",
    "\n",
    "    xs: characteristics of firms\n",
    "    mean_std_observed_prices: mean (over firms) of standard deviation per t\n",
    "    w: weighting matrix for GMM objective\n",
    "    \"\"\"\n",
    "    np.random.seed(383461)\n",
    "\n",
    "    θ = θandΞ[:4]\n",
    "    Ξ = θandΞ[4::]\n",
    "\n",
    "    lambdas0 = src.from_theta_to_lambda_for_all_firms(θ, xs, prior_shocks)\n",
    "\n",
    "    dmd_const_dict = param_array_to_dmd_constants(Ξ)\n",
    "    γ, beta_shock_std = dmd_const_dict['γ'], dmd_const_dict['beta_shock_std']\n",
    "    taste_shock_std = dmd_const_dict['taste_shock_std']\n",
    "\n",
    "    # Redo taste_shocks and b0\n",
    "    taste_shocks_ = taste_std_normal_shocks*taste_shock_std\n",
    "    b0_ = np.clip(src.const.mature_beta + beta_shock_std*b0_std_normal_shocks, -np.inf, -1.05)\n",
    "\n",
    "\n",
    "\n",
    "    exp_prices = []\n",
    "    #TODO: NOW definitely numba this loop!!!\n",
    "    #df[\"betas_inertia\"] = 0.\n",
    "    #for m in range(simul_repetitions):\n",
    "    #    for i_firm, firm in enumerate(df.firm.unique()):\n",
    "    #        mask: pd.Series = (df.firm == firm)\n",
    "    #        t = mask.sum()\n",
    "    #        df.loc[mask, \"betas_inertia\"] = src.generate_betas_inertia_Ξ(γ, taste_shocks_,\n",
    "    #                                                                 b0_, t, i_firm)\n",
    "    m_betas_inertia = inner_loop_with_numba_unbalanced(simul_repetitions, firm_lengths,\n",
    "                                                      n_firms, len_df, γ,\n",
    "                                                      taste_shocks_, b0_)\n",
    "\n",
    "    for m in range(simul_repetitions):\n",
    "        df['betas_inertia'] = m_betas_inertia[:, m]\n",
    "        mean_std_observed_prices_clean, mean_std_expected_prices = src.get_intersection_of_observed_and_expected_prices(\n",
    "                                    mean_std_observed_prices, df, policyF, lambdas0, min_periods)\n",
    "        exp_prices.append(mean_std_expected_prices)\n",
    "\n",
    "    try:\n",
    "        assert len(mean_std_observed_prices_clean) == len(mean_std_expected_prices)\n",
    "    except AssertionError as e:\n",
    "        e.args += (len(mean_std_observed_prices_clean), len(mean_std_expected_prices))\n",
    "        raise\n",
    "    exp_prices_df = pd.concat(exp_prices, axis=1)\n",
    "    mean_std_expected_prices = exp_prices_df.mean(axis=1)\n",
    "\n",
    "    max_t = max_t_to_consider\n",
    "    mean_std_observed_prices_clean = mean_std_observed_prices_clean.values[:max_t]\n",
    "    mean_std_expected_prices = mean_std_expected_prices.values[:max_t]\n",
    "\n",
    "    t = len(mean_std_expected_prices)\n",
    "    assert t > 0\n",
    "    if w is None:\n",
    "        w = np.identity(t)\n",
    "\n",
    "    g = (1 / t) * (mean_std_expected_prices - mean_std_observed_prices_clean)\n",
    "    del df, exp_prices_df\n",
    "    #del mean_std_expected_prices, mean_std_observed_prices_clean\n",
    "    gc.collect()\n",
    "    return g.T @ w @ g\n",
    "\n",
    "\n",
    "# Optimization\n",
    "##############################\n",
    "\n",
    "all_firms = df.firm.unique()\n",
    "firm_lengths_ = np.empty(len(all_firms) + 1, dtype=int)\n",
    "firm_lengths_[0] = 0\n",
    "for i, firm_i in enumerate(all_firms):\n",
    "    firm_lengths_[i + 1] = df[df.firm == firm_i].index[-1] + 1\n",
    "\n",
    "\n",
    "def error_w_data(θandΞres) -> float:\n",
    "    #θandΞ = np.append(θandΞres, [0.8, 0.3, 0.7])\n",
    "    #Only index 0 and 2  full_optθ = [-4.   -3.38  1.1  -0.82]\n",
    "    #θandΞ = np.array([θandΞres[0], 0., θandΞres[1], 0., 0.8, 0.3, 0.7])\n",
    "    θandΞ = np.array([θandΞres[0], 0., θandΞres[1], 0., 0.8, θandΞres[2], θandΞres[3]])\n",
    "    return full_gmm_error(θandΞ, policyF, xs, mean_std_observed_prices=mean_std_observed_prices,\n",
    "                          prior_shocks=prior_shocks, df=df, len_df=len(df), firm_lengths=firm_lengths_,\n",
    "                          min_periods=min_periods, w=None)"
   ]
  },
  {
   "cell_type": "code",
   "execution_count": 2,
   "metadata": {},
   "outputs": [],
   "source": [
    "opt_res = np.array([1.26, 0.09, 0.85, 1.18]) \n",
    "optθ = np.array([opt_res[0], 0., opt_res[1], 0.])\n",
    "optΞ = np.array([ 0.8, opt_res[2], opt_res[3]])"
   ]
  },
  {
   "cell_type": "markdown",
   "metadata": {},
   "source": [
    "## Plot real vs expected moments"
   ]
  },
  {
   "cell_type": "code",
   "execution_count": 10,
   "metadata": {},
   "outputs": [
    {
     "data": {
      "text/plain": [
       "Text(0.5, 0, 'Weeks from launch')"
      ]
     },
     "execution_count": 10,
     "metadata": {},
     "output_type": "execute_result"
    },
    {
     "data": {
      "image/png": "[encoded data removed]",
      "text/plain": [
       "<Figure size 720x576 with 1 Axes>"
      ]
     },
     "metadata": {
      "needs_background": "light"
     },
     "output_type": "display_data"
    }
   ],
   "source": [
    "all_firms = df.firm.unique()\n",
    "firm_lengths_ = np.empty(len(all_firms) + 1, dtype=int)\n",
    "firm_lengths_[0] = 0\n",
    "for i, firm_i in enumerate(all_firms):\n",
    "    firm_lengths_[i + 1] = df[df.firm == firm_i].index[-1] + 1\n",
    "\n",
    "    \n",
    "lambdas0 = src.from_theta_to_lambda_for_all_firms(optθ, xs, prior_shocks)\n",
    "\n",
    "dmd_const_dict = param_array_to_dmd_constants(optΞ)\n",
    "γ, beta_shock_std = dmd_const_dict['γ'], dmd_const_dict['beta_shock_std']\n",
    "taste_shock_std = dmd_const_dict['taste_shock_std']\n",
    "\n",
    "# Redo taste_shocks and b0\n",
    "taste_shocks_ = taste_std_normal_shocks*taste_shock_std\n",
    "b0_ = np.clip(src.const.mature_beta + beta_shock_std*b0_std_normal_shocks, -np.inf, -1.05)\n",
    "\n",
    "\n",
    "exp_prices = []\n",
    "m_betas_inertia = inner_loop_with_numba_unbalanced(simul_repetitions, firm_lengths_,\n",
    "                                                  n_firms, len(df), γ,\n",
    "                                                  taste_shocks_, b0_)\n",
    "\n",
    "for m in range(simul_repetitions):\n",
    "    df['betas_inertia'] = m_betas_inertia[:, m]\n",
    "    mean_std_observed_prices_clean, mean_std_expected_prices = (\n",
    "            src.get_intersection_of_observed_and_expected_prices(\n",
    "                                mean_std_observed_prices, df, policyF, lambdas0, min_periods))\n",
    "    exp_prices.append(mean_std_expected_prices)\n",
    "\n",
    "try:\n",
    "    assert len(mean_std_observed_prices_clean) == len(mean_std_expected_prices)\n",
    "except AssertionError as e:\n",
    "    e.args += (len(mean_std_observed_prices_clean), len(mean_std_expected_prices))\n",
    "    raise\n",
    "exp_prices_df = pd.concat(exp_prices, axis=1)\n",
    "mean_std_expected_prices = exp_prices_df.mean(axis=1)\n",
    "\n",
    "max_t = max_t_to_consider\n",
    "mean_std_observed_prices_clean = mean_std_observed_prices_clean.values[:max_t]\n",
    "mean_std_expected_prices = mean_std_expected_prices.values[:max_t]\n",
    "\n",
    "\n",
    "\n",
    "fig, ax1 = plt.subplots(1, 1, figsize=(10, 8))\n",
    "max_index = 30\n",
    "ind_t = range(len(mean_std_expected_prices))\n",
    "ax1.plot(ind_t[0:max_index], mean_std_observed_prices_clean[0:max_index],\n",
    "         label=\"Observed std\")\n",
    "#ax1.plot(ind_t, mean_std_expected_prices, label=\"Expected std\")\n",
    "ax1.plot(ind_t[0:max_index], mean_std_expected_prices[0:max_index], label=\"Expected std\")\n",
    "ax1.legend()\n",
    "ax1.set_ylim(0, 1.2)\n",
    "ax1.set_title(\"Standard Deviations from week of launch\")\n",
    "ax1.set_xlabel(\"Weeks from launch\")\n",
    "#ax2.plot(mean_std_observed_prices.index, mean_std_observed_prices, label=\"Original observed std\")\n",
    "#ax2.legend()"
   ]
  },
  {
   "cell_type": "code",
   "execution_count": 15,
   "metadata": {},
   "outputs": [],
   "source": [
    "cleaned_data = \"../../../firm_learning/data/cleaned_data/\"\n",
    "\n",
    "df = pd.read_csv(cleaned_data + \"medium_prod_for_gmm.csv\")"
   ]
  },
  {
   "cell_type": "code",
   "execution_count": 16,
   "metadata": {},
   "outputs": [
    {
     "data": {
      "text/html": [
       "<div>\n",
       "<style scoped>\n",
       "    .dataframe tbody tr th:only-of-type {\n",
       "        vertical-align: middle;\n",
       "    }\n",
       "\n",
       "    .dataframe tbody tr th {\n",
       "        vertical-align: top;\n",
       "    }\n",
       "\n",
       "    .dataframe thead th {\n",
       "        text-align: right;\n",
       "    }\n",
       "</style>\n",
       "<table border=\"1\" class=\"dataframe\">\n",
       "  <thead>\n",
       "    <tr style=\"text-align: right;\">\n",
       "      <th></th>\n",
       "      <th>Unnamed: 0</th>\n",
       "      <th>level_prices</th>\n",
       "      <th>log_dmd</th>\n",
       "      <th>t</th>\n",
       "      <th>per_firm_t</th>\n",
       "      <th>firm</th>\n",
       "      <th>xs</th>\n",
       "      <th>rolling_std_upc</th>\n",
       "    </tr>\n",
       "  </thead>\n",
       "  <tbody>\n",
       "    <tr>\n",
       "      <th>0</th>\n",
       "      <td>0</td>\n",
       "      <td>12.99</td>\n",
       "      <td>1.098612</td>\n",
       "      <td>1.0</td>\n",
       "      <td>1.0</td>\n",
       "      <td>222577</td>\n",
       "      <td>8500.91</td>\n",
       "      <td>1.173319e-07</td>\n",
       "    </tr>\n",
       "    <tr>\n",
       "      <th>1</th>\n",
       "      <td>1</td>\n",
       "      <td>12.99</td>\n",
       "      <td>0.000000</td>\n",
       "      <td>2.0</td>\n",
       "      <td>2.0</td>\n",
       "      <td>222577</td>\n",
       "      <td>8500.91</td>\n",
       "      <td>1.173319e-07</td>\n",
       "    </tr>\n",
       "    <tr>\n",
       "      <th>2</th>\n",
       "      <td>2</td>\n",
       "      <td>12.99</td>\n",
       "      <td>2.197225</td>\n",
       "      <td>3.0</td>\n",
       "      <td>3.0</td>\n",
       "      <td>222577</td>\n",
       "      <td>8500.91</td>\n",
       "      <td>1.173319e-07</td>\n",
       "    </tr>\n",
       "  </tbody>\n",
       "</table>\n",
       "</div>"
      ],
      "text/plain": [
       "   Unnamed: 0  level_prices   log_dmd    t  per_firm_t    firm       xs  \\\n",
       "0           0         12.99  1.098612  1.0         1.0  222577  8500.91   \n",
       "1           1         12.99  0.000000  2.0         2.0  222577  8500.91   \n",
       "2           2         12.99  2.197225  3.0         3.0  222577  8500.91   \n",
       "\n",
       "   rolling_std_upc  \n",
       "0     1.173319e-07  \n",
       "1     1.173319e-07  \n",
       "2     1.173319e-07  "
      ]
     },
     "execution_count": 16,
     "metadata": {},
     "output_type": "execute_result"
    }
   ],
   "source": [
    "df.head(3)"
   ]
  },
  {
   "cell_type": "code",
   "execution_count": 29,
   "metadata": {},
   "outputs": [
    {
     "data": {
      "text/plain": [
       "<matplotlib.axes._subplots.AxesSubplot at 0x11f1fc9b0>"
      ]
     },
     "execution_count": 29,
     "metadata": {},
     "output_type": "execute_result"
    },
    {
     "data": {
      "image/png": "[encoded data removed]",
      "text/plain": [
       "<Figure size 432x288 with 1 Axes>"
      ]
     },
     "metadata": {},
     "output_type": "display_data"
    }
   ],
   "source": [
    "df.groupby('t').rolling_std_upc.mean().plot()"
   ]
  },
  {
   "cell_type": "code",
   "execution_count": null,
   "metadata": {},
   "outputs": [],
   "source": []
  },
  {
   "cell_type": "code",
   "execution_count": 26,
   "metadata": {},
   "outputs": [
    {
     "data": {
      "application/vnd.vegalite.v2+json": {
       "$schema": "https://vega.github.io/schema/vega-lite/v2.6.0.json",
       "config": {
        "view": {
         "height": 300,
         "width": 400
        }
       },
       "data": {
        "name": "data-93ff182710658ad28e3b2c63e00c8b86"
       },
       "datasets": {
        "data-93ff182710658ad28e3b2c63e00c8b86": [
         {
          "Unnamed: 0": 0,
          "firm": 222577,
          "level_prices": 12.99,
          "log_dmd": 1.0986122886681098,
          "per_firm_t": 1,
          "rolling_std_upc": 1.1733186057227569e-07,
          "t": 1,
          "xs": 8500.909999999994
         },
         {
          "Unnamed: 0": 1,
          "firm": 222577,
          "level_prices": 12.99,
          "log_dmd": 0,
          "per_firm_t": 2,
          "rolling_std_upc": 1.1733186057227569e-07,
          "t": 2,
          "xs": 8500.909999999994
         },
         {
          "Unnamed: 0": 2,
          "firm": 222577,
          "level_prices": 12.99,
          "log_dmd": 2.19722457733622,
          "per_firm_t": 3,
          "rolling_std_upc": 1.1733186057227569e-07,
          "t": 3,
          "xs": 8500.909999999994
         },
         {
          "Unnamed: 0": 3,
          "firm": 222577,
          "level_prices": 12.99,
          "log_dmd": 1.9459101490553128,
          "per_firm_t": 4,
          "rolling_std_upc": 1.1733186057227569e-07,
          "t": 4,
          "xs": 8500.909999999994
         },
         {
          "Unnamed: 0": 4,
          "firm": 222577,
          "level_prices": 12.99,
          "log_dmd": 1.3862943611198906,
          "per_firm_t": 5,
          "rolling_std_upc": 1.1733186057227569e-07,
          "t": 5,
          "xs": 8500.909999999994
         },
         {
          "Unnamed: 0": 48,
          "firm": 222577,
          "level_prices": 12.99,
          "log_dmd": 1.3862943611198906,
          "per_firm_t": 5,
          "rolling_std_upc": 1.1733186057227569e-07,
          "t": 6,
          "xs": 8500.909999999994
         },
         {
          "Unnamed: 0": 5,
          "firm": 222577,
          "level_prices": 12.99,
          "log_dmd": 1.6094379124341005,
          "per_firm_t": 7,
          "rolling_std_upc": 1.1733186057227569e-07,
          "t": 7,
          "xs": 8500.909999999994
         },
         {
          "Unnamed: 0": 6,
          "firm": 222577,
          "level_prices": 12.99,
          "log_dmd": 1.791759469228055,
          "per_firm_t": 8,
          "rolling_std_upc": 1.1733186057227569e-07,
          "t": 8,
          "xs": 8500.909999999994
         },
         {
          "Unnamed: 0": 7,
          "firm": 222577,
          "level_prices": 12.99,
          "log_dmd": 2.19722457733622,
          "per_firm_t": 9,
          "rolling_std_upc": 1.1733186057227569e-07,
          "t": 9,
          "xs": 8500.909999999994
         },
         {
          "Unnamed: 0": 8,
          "firm": 222577,
          "level_prices": 12.99,
          "log_dmd": 1.791759469228055,
          "per_firm_t": 10,
          "rolling_std_upc": 1.1733186057227569e-07,
          "t": 10,
          "xs": 8500.909999999994
         },
         {
          "Unnamed: 0": 9,
          "firm": 222577,
          "level_prices": 12.99,
          "log_dmd": 1.6094379124341005,
          "per_firm_t": 11,
          "rolling_std_upc": 1.1733186057227569e-07,
          "t": 11,
          "xs": 8500.909999999994
         },
         {
          "Unnamed: 0": 10,
          "firm": 222577,
          "level_prices": 12.99,
          "log_dmd": 1.9459101490553128,
          "per_firm_t": 12,
          "rolling_std_upc": 1.1733186057227569e-07,
          "t": 12,
          "xs": 8500.909999999994
         },
         {
          "Unnamed: 0": 11,
          "firm": 222577,
          "level_prices": 12.99,
          "log_dmd": 1.9459101490553128,
          "per_firm_t": 13,
          "rolling_std_upc": 1.1733186057227569e-07,
          "t": 13,
          "xs": 8500.909999999994
         },
         {
          "Unnamed: 0": 12,
          "firm": 222577,
          "level_prices": 12.99,
          "log_dmd": 2.7080502011022096,
          "per_firm_t": 14,
          "rolling_std_upc": 1.1733186057227569e-07,
          "t": 14,
          "xs": 8500.909999999994
         },
         {
          "Unnamed: 0": 13,
          "firm": 222577,
          "level_prices": 9.99,
          "log_dmd": 3.7841896339182615,
          "per_firm_t": 15,
          "rolling_std_upc": 1.2990381056766749,
          "t": 15,
          "xs": 8500.909999999994
         },
         {
          "Unnamed: 0": 14,
          "firm": 222577,
          "level_prices": 9.99,
          "log_dmd": 2.079441541679836,
          "per_firm_t": 16,
          "rolling_std_upc": 1.5000000000000242,
          "t": 16,
          "xs": 8500.909999999994
         },
         {
          "Unnamed: 0": 15,
          "firm": 222577,
          "level_prices": 12.99,
          "log_dmd": 2.302585092994046,
          "per_firm_t": 17,
          "rolling_std_upc": 1.5000000000000242,
          "t": 17,
          "xs": 8500.909999999994
         },
         {
          "Unnamed: 0": 16,
          "firm": 222577,
          "level_prices": 12.99,
          "log_dmd": 1.0986122886681098,
          "per_firm_t": 18,
          "rolling_std_upc": 1.5000000000000242,
          "t": 18,
          "xs": 8500.909999999994
         },
         {
          "Unnamed: 0": 17,
          "firm": 222577,
          "level_prices": 12.99,
          "log_dmd": 2.079441541679836,
          "per_firm_t": 19,
          "rolling_std_upc": 1.2990381056766749,
          "t": 19,
          "xs": 8500.909999999994
         },
         {
          "Unnamed: 0": 18,
          "firm": 222577,
          "level_prices": 12.99,
          "log_dmd": 1.6094379124341005,
          "per_firm_t": 20,
          "rolling_std_upc": 1.1733186057227569e-07,
          "t": 20,
          "xs": 8500.909999999994
         },
         {
          "Unnamed: 0": 19,
          "firm": 222577,
          "level_prices": 12.99,
          "log_dmd": 1.0986122886681098,
          "per_firm_t": 21,
          "rolling_std_upc": 1.1733186057227569e-07,
          "t": 21,
          "xs": 8500.909999999994
         },
         {
          "Unnamed: 0": 20,
          "firm": 222577,
          "level_prices": 12.99,
          "log_dmd": 1.6094379124341005,
          "per_firm_t": 22,
          "rolling_std_upc": 1.1733186057227569e-07,
          "t": 22,
          "xs": 8500.909999999994
         },
         {
          "Unnamed: 0": 21,
          "firm": 222577,
          "level_prices": 12.99,
          "log_dmd": 1.9459101490553128,
          "per_firm_t": 23,
          "rolling_std_upc": 1.1733186057227569e-07,
          "t": 23,
          "xs": 8500.909999999994
         },
         {
          "Unnamed: 0": 22,
          "firm": 222577,
          "level_prices": 12.99,
          "log_dmd": 2.079441541679836,
          "per_firm_t": 24,
          "rolling_std_upc": 1.1733186057227569e-07,
          "t": 24,
          "xs": 8500.909999999994
         },
         {
          "Unnamed: 0": 23,
          "firm": 222577,
          "level_prices": 12.99,
          "log_dmd": 1.6094379124341005,
          "per_firm_t": 25,
          "rolling_std_upc": 1.1733186057227569e-07,
          "t": 25,
          "xs": 8500.909999999994
         },
         {
          "Unnamed: 0": 24,
          "firm": 222577,
          "level_prices": 12.99,
          "log_dmd": 1.6094379124341005,
          "per_firm_t": 26,
          "rolling_std_upc": 1.1733186057227569e-07,
          "t": 26,
          "xs": 8500.909999999994
         },
         {
          "Unnamed: 0": 25,
          "firm": 222577,
          "level_prices": 12.99,
          "log_dmd": 2.079441541679836,
          "per_firm_t": 27,
          "rolling_std_upc": 1.1733186057227569e-07,
          "t": 27,
          "xs": 8500.909999999994
         },
         {
          "Unnamed: 0": 26,
          "firm": 222577,
          "level_prices": 12.99,
          "log_dmd": 1.9459101490553128,
          "per_firm_t": 28,
          "rolling_std_upc": 1.1733186057227569e-07,
          "t": 28,
          "xs": 8500.909999999994
         },
         {
          "Unnamed: 0": 27,
          "firm": 222577,
          "level_prices": 12.99,
          "log_dmd": 1.791759469228055,
          "per_firm_t": 29,
          "rolling_std_upc": 1.1733186057227569e-07,
          "t": 29,
          "xs": 8500.909999999994
         },
         {
          "Unnamed: 0": 28,
          "firm": 222577,
          "level_prices": 12.99,
          "log_dmd": 1.3862943611198906,
          "per_firm_t": 30,
          "rolling_std_upc": 1.1733186057227569e-07,
          "t": 30,
          "xs": 8500.909999999994
         },
         {
          "Unnamed: 0": 29,
          "firm": 222577,
          "level_prices": 12.99,
          "log_dmd": 1.791759469228055,
          "per_firm_t": 31,
          "rolling_std_upc": 1.1733186057227569e-07,
          "t": 31,
          "xs": 8500.909999999994
         },
         {
          "Unnamed: 0": 30,
          "firm": 222577,
          "level_prices": 12.99,
          "log_dmd": 1.791759469228055,
          "per_firm_t": 32,
          "rolling_std_upc": 1.1733186057227569e-07,
          "t": 32,
          "xs": 8500.909999999994
         },
         {
          "Unnamed: 0": 31,
          "firm": 222577,
          "level_prices": 12.99,
          "log_dmd": 2.079441541679836,
          "per_firm_t": 33,
          "rolling_std_upc": 1.1733186057227569e-07,
          "t": 33,
          "xs": 8500.909999999994
         },
         {
          "Unnamed: 0": 32,
          "firm": 222577,
          "level_prices": 12.99,
          "log_dmd": 1.6094379124341005,
          "per_firm_t": 34,
          "rolling_std_upc": 1.1733186057227569e-07,
          "t": 34,
          "xs": 8500.909999999994
         },
         {
          "Unnamed: 0": 33,
          "firm": 222577,
          "level_prices": 12.99,
          "log_dmd": 1.6094379124341005,
          "per_firm_t": 35,
          "rolling_std_upc": 1.1733186057227569e-07,
          "t": 35,
          "xs": 8500.909999999994
         },
         {
          "Unnamed: 0": 34,
          "firm": 222577,
          "level_prices": 13.99,
          "log_dmd": 1.9459101490553128,
          "per_firm_t": 36,
          "rolling_std_upc": 0.433012701892224,
          "t": 36,
          "xs": 8500.909999999994
         },
         {
          "Unnamed: 0": 35,
          "firm": 222577,
          "level_prices": 13.99,
          "log_dmd": 2.079441541679836,
          "per_firm_t": 37,
          "rolling_std_upc": 0.4999999999999942,
          "t": 37,
          "xs": 8500.909999999994
         },
         {
          "Unnamed: 0": 36,
          "firm": 222577,
          "level_prices": 13.99,
          "log_dmd": 1.0986122886681098,
          "per_firm_t": 38,
          "rolling_std_upc": 0.43301270189220137,
          "t": 38,
          "xs": 8500.909999999994
         },
         {
          "Unnamed: 0": 37,
          "firm": 222577,
          "level_prices": 13.99,
          "log_dmd": 1.791759469228055,
          "per_firm_t": 39,
          "rolling_std_upc": 0,
          "t": 39,
          "xs": 8500.909999999994
         },
         {
          "Unnamed: 0": 38,
          "firm": 222577,
          "level_prices": 13.99,
          "log_dmd": 1.6094379124341005,
          "per_firm_t": 40,
          "rolling_std_upc": 0,
          "t": 40,
          "xs": 8500.909999999994
         },
         {
          "Unnamed: 0": 39,
          "firm": 222577,
          "level_prices": 13.99,
          "log_dmd": 2.302585092994046,
          "per_firm_t": 41,
          "rolling_std_upc": 0,
          "t": 41,
          "xs": 8500.909999999994
         },
         {
          "Unnamed: 0": 40,
          "firm": 222577,
          "level_prices": 10.99,
          "log_dmd": 3.1780538303479458,
          "per_firm_t": 42,
          "rolling_std_upc": 1.2990381056766596,
          "t": 42,
          "xs": 8500.909999999994
         },
         {
          "Unnamed: 0": 41,
          "firm": 222577,
          "level_prices": 10.99,
          "log_dmd": 1.3862943611198906,
          "per_firm_t": 43,
          "rolling_std_upc": 1.500000000000011,
          "t": 43,
          "xs": 8500.909999999994
         },
         {
          "Unnamed: 0": 42,
          "firm": 222577,
          "level_prices": 13.99,
          "log_dmd": 1.6094379124341005,
          "per_firm_t": 44,
          "rolling_std_upc": 1.500000000000011,
          "t": 44,
          "xs": 8500.909999999994
         },
         {
          "Unnamed: 0": 43,
          "firm": 222577,
          "level_prices": 12.99,
          "log_dmd": 1.6094379124341005,
          "per_firm_t": 45,
          "rolling_std_upc": 1.2990381056766749,
          "t": 45,
          "xs": 8500.909999999994
         },
         {
          "Unnamed: 0": 44,
          "firm": 222577,
          "level_prices": 12.99,
          "log_dmd": 1.0986122886681098,
          "per_firm_t": 46,
          "rolling_std_upc": 1.0897247358851792,
          "t": 46,
          "xs": 8500.909999999994
         },
         {
          "Unnamed: 0": 45,
          "firm": 222577,
          "level_prices": 12.99,
          "log_dmd": 1.6094379124341005,
          "per_firm_t": 47,
          "rolling_std_upc": 0.433012701892224,
          "t": 47,
          "xs": 8500.909999999994
         },
         {
          "Unnamed: 0": 46,
          "firm": 222577,
          "level_prices": 9.99,
          "log_dmd": 3.7135720667043084,
          "per_firm_t": 48,
          "rolling_std_upc": 1.2990381056766749,
          "t": 48,
          "xs": 8500.909999999994
         },
         {
          "Unnamed: 0": 47,
          "firm": 222577,
          "level_prices": 9.99,
          "log_dmd": 2.302585092994046,
          "per_firm_t": 49,
          "rolling_std_upc": 1.5000000000000242,
          "t": 49,
          "xs": 8500.909999999994
         },
         {
          "Unnamed: 0": 49,
          "firm": 227169,
          "level_prices": 14.99,
          "log_dmd": 1.3862943611198906,
          "per_firm_t": 1,
          "rolling_std_upc": 1.29903810567667,
          "t": 1,
          "xs": 7251.2599999999975
         },
         {
          "Unnamed: 0": 50,
          "firm": 227169,
          "level_prices": 14.99,
          "log_dmd": 1.3862943611198906,
          "per_firm_t": 1,
          "rolling_std_upc": 1.29903810567667,
          "t": 2,
          "xs": 7251.2599999999975
         },
         {
          "Unnamed: 0": 51,
          "firm": 227169,
          "level_prices": 14.99,
          "log_dmd": 1.3862943611198906,
          "per_firm_t": 1,
          "rolling_std_upc": 1.29903810567667,
          "t": 3,
          "xs": 7251.2599999999975
         },
         {
          "Unnamed: 0": 52,
          "firm": 227169,
          "level_prices": 14.99,
          "log_dmd": 1.3862943611198906,
          "per_firm_t": 1,
          "rolling_std_upc": 1.29903810567667,
          "t": 4,
          "xs": 7251.2599999999975
         },
         {
          "Unnamed: 0": 53,
          "firm": 227169,
          "level_prices": 14.99,
          "log_dmd": 1.3862943611198906,
          "per_firm_t": 1,
          "rolling_std_upc": 1.29903810567667,
          "t": 5,
          "xs": 7251.2599999999975
         },
         {
          "Unnamed: 0": 97,
          "firm": 227169,
          "level_prices": 14.99,
          "log_dmd": 1.3862943611198906,
          "per_firm_t": 1,
          "rolling_std_upc": 1.29903810567667,
          "t": 6,
          "xs": 7251.2599999999975
         },
         {
          "Unnamed: 0": 54,
          "firm": 227169,
          "level_prices": 14.99,
          "log_dmd": 1.3862943611198906,
          "per_firm_t": 1,
          "rolling_std_upc": 1.29903810567667,
          "t": 7,
          "xs": 7251.2599999999975
         },
         {
          "Unnamed: 0": 55,
          "firm": 227169,
          "level_prices": 14.99,
          "log_dmd": 1.0986122886681098,
          "per_firm_t": 2,
          "rolling_std_upc": 1.5000000000000049,
          "t": 8,
          "xs": 7251.2599999999975
         },
         {
          "Unnamed: 0": 56,
          "firm": 227169,
          "level_prices": 14.99,
          "log_dmd": 1.3862943611198906,
          "per_firm_t": 3,
          "rolling_std_upc": 1.2990381056766576,
          "t": 9,
          "xs": 7251.2599999999975
         },
         {
          "Unnamed: 0": 57,
          "firm": 227169,
          "level_prices": 14.99,
          "log_dmd": 1.0986122886681098,
          "per_firm_t": 4,
          "rolling_std_upc": 0,
          "t": 10,
          "xs": 7251.2599999999975
         },
         {
          "Unnamed: 0": 58,
          "firm": 227169,
          "level_prices": 14.99,
          "log_dmd": 1.3862943611198906,
          "per_firm_t": 5,
          "rolling_std_upc": 0,
          "t": 11,
          "xs": 7251.2599999999975
         },
         {
          "Unnamed: 0": 59,
          "firm": 227169,
          "level_prices": 14.99,
          "log_dmd": 1.3862943611198906,
          "per_firm_t": 6,
          "rolling_std_upc": 0,
          "t": 12,
          "xs": 7251.2599999999975
         },
         {
          "Unnamed: 0": 60,
          "firm": 227169,
          "level_prices": 14.99,
          "log_dmd": 1.3862943611198906,
          "per_firm_t": 7,
          "rolling_std_upc": 0,
          "t": 13,
          "xs": 7251.2599999999975
         },
         {
          "Unnamed: 0": 61,
          "firm": 227169,
          "level_prices": 14.99,
          "log_dmd": 1.791759469228055,
          "per_firm_t": 8,
          "rolling_std_upc": 0,
          "t": 14,
          "xs": 7251.2599999999975
         },
         {
          "Unnamed: 0": 62,
          "firm": 227169,
          "level_prices": 14.99,
          "log_dmd": 1.3862943611198906,
          "per_firm_t": 9,
          "rolling_std_upc": 0,
          "t": 15,
          "xs": 7251.2599999999975
         },
         {
          "Unnamed: 0": 63,
          "firm": 227169,
          "level_prices": 14.99,
          "log_dmd": 1.3862943611198906,
          "per_firm_t": 9,
          "rolling_std_upc": 0,
          "t": 16,
          "xs": 7251.2599999999975
         },
         {
          "Unnamed: 0": 64,
          "firm": 227169,
          "level_prices": 15.99,
          "log_dmd": 1.0986122886681098,
          "per_firm_t": 11,
          "rolling_std_upc": 0.4330127018921937,
          "t": 17,
          "xs": 7251.2599999999975
         },
         {
          "Unnamed: 0": 65,
          "firm": 227169,
          "level_prices": 15.99,
          "log_dmd": 1.6094379124341005,
          "per_firm_t": 12,
          "rolling_std_upc": 0.4999999999999725,
          "t": 18,
          "xs": 7251.2599999999975
         },
         {
          "Unnamed: 0": 66,
          "firm": 227169,
          "level_prices": 15.99,
          "log_dmd": 0.6931471805599453,
          "per_firm_t": 13,
          "rolling_std_upc": 0.4330127018921814,
          "t": 19,
          "xs": 7251.2599999999975
         },
         {
          "Unnamed: 0": 67,
          "firm": 227169,
          "level_prices": 14.99,
          "log_dmd": 1.6094379124341005,
          "per_firm_t": 14,
          "rolling_std_upc": 0.4330127018921814,
          "t": 20,
          "xs": 7251.2599999999975
         },
         {
          "Unnamed: 0": 68,
          "firm": 227169,
          "level_prices": 13.99,
          "log_dmd": 2.079441541679836,
          "per_firm_t": 15,
          "rolling_std_upc": 0.8291561975888365,
          "t": 21,
          "xs": 7251.2599999999975
         },
         {
          "Unnamed: 0": 69,
          "firm": 227169,
          "level_prices": 14.99,
          "log_dmd": 1.0986122886681098,
          "per_firm_t": 16,
          "rolling_std_upc": 0.7071067811865356,
          "t": 22,
          "xs": 7251.2599999999975
         },
         {
          "Unnamed: 0": 70,
          "firm": 227169,
          "level_prices": 14.99,
          "log_dmd": 2.19722457733622,
          "per_firm_t": 17,
          "rolling_std_upc": 0.433012701892206,
          "t": 23,
          "xs": 7251.2599999999975
         },
         {
          "Unnamed: 0": 71,
          "firm": 227169,
          "level_prices": 14.99,
          "log_dmd": 1.3862943611198906,
          "per_firm_t": 18,
          "rolling_std_upc": 0.433012701892206,
          "t": 24,
          "xs": 7251.2599999999975
         },
         {
          "Unnamed: 0": 72,
          "firm": 227169,
          "level_prices": 14.99,
          "log_dmd": 2.079441541679836,
          "per_firm_t": 19,
          "rolling_std_upc": 0,
          "t": 25,
          "xs": 7251.2599999999975
         },
         {
          "Unnamed: 0": 73,
          "firm": 227169,
          "level_prices": 14.99,
          "log_dmd": 2.19722457733622,
          "per_firm_t": 20,
          "rolling_std_upc": 0,
          "t": 26,
          "xs": 7251.2599999999975
         },
         {
          "Unnamed: 0": 74,
          "firm": 227169,
          "level_prices": 14.99,
          "log_dmd": 2.19722457733622,
          "per_firm_t": 21,
          "rolling_std_upc": 0,
          "t": 27,
          "xs": 7251.2599999999975
         },
         {
          "Unnamed: 0": 75,
          "firm": 227169,
          "level_prices": 14.99,
          "log_dmd": 2.6390573296152584,
          "per_firm_t": 22,
          "rolling_std_upc": 0,
          "t": 28,
          "xs": 7251.2599999999975
         },
         {
          "Unnamed: 0": 76,
          "firm": 227169,
          "level_prices": 14.99,
          "log_dmd": 2.6390573296152584,
          "per_firm_t": 23,
          "rolling_std_upc": 0,
          "t": 29,
          "xs": 7251.2599999999975
         },
         {
          "Unnamed: 0": 77,
          "firm": 227169,
          "level_prices": 13.99,
          "log_dmd": 2.079441541679836,
          "per_firm_t": 24,
          "rolling_std_upc": 0.433012701892206,
          "t": 30,
          "xs": 7251.2599999999975
         },
         {
          "Unnamed: 0": 78,
          "firm": 227169,
          "level_prices": 14.323333333333332,
          "log_dmd": 1.791759469228055,
          "per_firm_t": 25,
          "rolling_std_upc": 0.4330127018922105,
          "t": 31,
          "xs": 7251.2599999999975
         },
         {
          "Unnamed: 0": 79,
          "firm": 227169,
          "level_prices": 13.99,
          "log_dmd": 1.3862943611198906,
          "per_firm_t": 26,
          "rolling_std_upc": 0.4082482904638605,
          "t": 32,
          "xs": 7251.2599999999975
         },
         {
          "Unnamed: 0": 80,
          "firm": 227169,
          "level_prices": 14.156666666666665,
          "log_dmd": 1.791759469228055,
          "per_firm_t": 27,
          "rolling_std_upc": 0.13819269959815075,
          "t": 33,
          "xs": 7251.2599999999975
         },
         {
          "Unnamed: 0": 81,
          "firm": 227169,
          "level_prices": 14.115,
          "log_dmd": 2.079441541679836,
          "per_firm_t": 28,
          "rolling_std_upc": 0.1192241993985452,
          "t": 34,
          "xs": 7251.2599999999975
         },
         {
          "Unnamed: 0": 82,
          "firm": 227169,
          "level_prices": 13.99,
          "log_dmd": 1.791759469228055,
          "per_firm_t": 29,
          "rolling_std_upc": 0.0743898794640129,
          "t": 35,
          "xs": 7251.2599999999975
         },
         {
          "Unnamed: 0": 83,
          "firm": 227169,
          "level_prices": 14.066923076923075,
          "log_dmd": 2.5649493574615367,
          "per_firm_t": 30,
          "rolling_std_upc": 0.06195832827638339,
          "t": 36,
          "xs": 7251.2599999999975
         },
         {
          "Unnamed: 0": 84,
          "firm": 227169,
          "level_prices": 14.066923076923075,
          "log_dmd": 2.5649493574615367,
          "per_firm_t": 30,
          "rolling_std_upc": 0.06195832827638339,
          "t": 37,
          "xs": 7251.2599999999975
         },
         {
          "Unnamed: 0": 85,
          "firm": 227169,
          "level_prices": 14.99,
          "log_dmd": 2.302585092994046,
          "per_firm_t": 32,
          "rolling_std_upc": 0.4063211134845348,
          "t": 38,
          "xs": 7251.2599999999975
         },
         {
          "Unnamed: 0": 86,
          "firm": 227169,
          "level_prices": 14.99,
          "log_dmd": 1.0986122886681098,
          "per_firm_t": 33,
          "rolling_std_upc": 0.4815378471364901,
          "t": 39,
          "xs": 7251.2599999999975
         },
         {
          "Unnamed: 0": 87,
          "firm": 227169,
          "level_prices": 14.99,
          "log_dmd": 1.791759469228055,
          "per_firm_t": 34,
          "rolling_std_upc": 0.3997040325158796,
          "t": 40,
          "xs": 7251.2599999999975
         },
         {
          "Unnamed: 0": 88,
          "firm": 227169,
          "level_prices": 14.989999999999998,
          "log_dmd": 2.3978952727983707,
          "per_firm_t": 35,
          "rolling_std_upc": 0,
          "t": 41,
          "xs": 7251.2599999999975
         },
         {
          "Unnamed: 0": 89,
          "firm": 227169,
          "level_prices": 14.99,
          "log_dmd": 2.079441541679836,
          "per_firm_t": 36,
          "rolling_std_upc": 0,
          "t": 42,
          "xs": 7251.2599999999975
         },
         {
          "Unnamed: 0": 90,
          "firm": 227169,
          "level_prices": 14.99,
          "log_dmd": 1.791759469228055,
          "per_firm_t": 37,
          "rolling_std_upc": 0,
          "t": 43,
          "xs": 7251.2599999999975
         },
         {
          "Unnamed: 0": 91,
          "firm": 227169,
          "level_prices": 14.99,
          "log_dmd": 1.9459101490553128,
          "per_firm_t": 38,
          "rolling_std_upc": 0,
          "t": 44,
          "xs": 7251.2599999999975
         },
         {
          "Unnamed: 0": 92,
          "firm": 227169,
          "level_prices": 14.989999999999998,
          "log_dmd": 2.3978952727983707,
          "per_firm_t": 39,
          "rolling_std_upc": 0,
          "t": 45,
          "xs": 7251.2599999999975
         },
         {
          "Unnamed: 0": 93,
          "firm": 227169,
          "level_prices": 13.99,
          "log_dmd": 2.5649493574615367,
          "per_firm_t": 40,
          "rolling_std_upc": 0.4330127018922053,
          "t": 46,
          "xs": 7251.2599999999975
         },
         {
          "Unnamed: 0": 94,
          "firm": 227169,
          "level_prices": 14.99,
          "log_dmd": 1.3862943611198906,
          "per_firm_t": 41,
          "rolling_std_upc": 0.4330127018922053,
          "t": 47,
          "xs": 7251.2599999999975
         },
         {
          "Unnamed: 0": 95,
          "firm": 227169,
          "level_prices": 14.99,
          "log_dmd": 2.079441541679836,
          "per_firm_t": 42,
          "rolling_std_upc": 0.4330127018922053,
          "t": 48,
          "xs": 7251.2599999999975
         },
         {
          "Unnamed: 0": 96,
          "firm": 227169,
          "level_prices": 14.99,
          "log_dmd": 1.9459101490553128,
          "per_firm_t": 43,
          "rolling_std_upc": 0.4330127018922056,
          "t": 49,
          "xs": 7251.2599999999975
         },
         {
          "Unnamed: 0": 98,
          "firm": 236100,
          "level_prices": 14.99,
          "log_dmd": 2.302585092994046,
          "per_firm_t": 1,
          "rolling_std_upc": 0.8703555308033647,
          "t": 1,
          "xs": 16880.299999999996
         },
         {
          "Unnamed: 0": 99,
          "firm": 236100,
          "level_prices": 14.99,
          "log_dmd": 2.302585092994046,
          "per_firm_t": 1,
          "rolling_std_upc": 0.8703555308033647,
          "t": 2,
          "xs": 16880.299999999996
         },
         {
          "Unnamed: 0": 100,
          "firm": 236100,
          "level_prices": 14.99,
          "log_dmd": 2.302585092994046,
          "per_firm_t": 1,
          "rolling_std_upc": 0.8703555308033647,
          "t": 3,
          "xs": 16880.299999999996
         },
         {
          "Unnamed: 0": 101,
          "firm": 236100,
          "level_prices": 14.99,
          "log_dmd": 2.302585092994046,
          "per_firm_t": 1,
          "rolling_std_upc": 0.8703555308033647,
          "t": 4,
          "xs": 16880.299999999996
         },
         {
          "Unnamed: 0": 102,
          "firm": 236100,
          "level_prices": 14.99,
          "log_dmd": 1.791759469228055,
          "per_firm_t": 2,
          "rolling_std_upc": 1.0050000000000032,
          "t": 5,
          "xs": 16880.299999999996
         },
         {
          "Unnamed: 0": 146,
          "firm": 236100,
          "level_prices": 14.99,
          "log_dmd": 2.4849066497880004,
          "per_firm_t": 3,
          "rolling_std_upc": 0.8703555308033654,
          "t": 6,
          "xs": 16880.299999999996
         },
         {
          "Unnamed: 0": 103,
          "firm": 236100,
          "level_prices": 14.99,
          "log_dmd": 2.5649493574615367,
          "per_firm_t": 4,
          "rolling_std_upc": 9.771344846937061e-08,
          "t": 7,
          "xs": 16880.299999999996
         },
         {
          "Unnamed: 0": 104,
          "firm": 236100,
          "level_prices": 14.99,
          "log_dmd": 2.4849066497880004,
          "per_firm_t": 5,
          "rolling_std_upc": 9.771344846937061e-08,
          "t": 8,
          "xs": 16880.299999999996
         },
         {
          "Unnamed: 0": 105,
          "firm": 236100,
          "level_prices": 14.99,
          "log_dmd": 2.079441541679836,
          "per_firm_t": 6,
          "rolling_std_upc": 9.771344846937061e-08,
          "t": 9,
          "xs": 16880.299999999996
         },
         {
          "Unnamed: 0": 106,
          "firm": 236100,
          "level_prices": 14.99,
          "log_dmd": 2.6390573296152584,
          "per_firm_t": 7,
          "rolling_std_upc": 9.771344846937061e-08,
          "t": 10,
          "xs": 16880.299999999996
         },
         {
          "Unnamed: 0": 107,
          "firm": 236100,
          "level_prices": 14.99,
          "log_dmd": 2.6390573296152584,
          "per_firm_t": 8,
          "rolling_std_upc": 9.771344846937061e-08,
          "t": 11,
          "xs": 16880.299999999996
         },
         {
          "Unnamed: 0": 108,
          "firm": 236100,
          "level_prices": 14.989999999999998,
          "log_dmd": 2.3978952727983707,
          "per_firm_t": 9,
          "rolling_std_upc": 9.771344846937061e-08,
          "t": 12,
          "xs": 16880.299999999996
         },
         {
          "Unnamed: 0": 109,
          "firm": 236100,
          "level_prices": 14.99,
          "log_dmd": 2.19722457733622,
          "per_firm_t": 10,
          "rolling_std_upc": 9.771344846937061e-08,
          "t": 13,
          "xs": 16880.299999999996
         },
         {
          "Unnamed: 0": 110,
          "firm": 236100,
          "level_prices": 14.99,
          "log_dmd": 1.0986122886681098,
          "per_firm_t": 11,
          "rolling_std_upc": 9.771344846937061e-08,
          "t": 14,
          "xs": 16880.299999999996
         },
         {
          "Unnamed: 0": 111,
          "firm": 236100,
          "level_prices": 14.99,
          "log_dmd": 2.19722457733622,
          "per_firm_t": 12,
          "rolling_std_upc": 9.771344846937061e-08,
          "t": 15,
          "xs": 16880.299999999996
         },
         {
          "Unnamed: 0": 112,
          "firm": 236100,
          "level_prices": 14.989999999999998,
          "log_dmd": 2.3978952727983707,
          "per_firm_t": 13,
          "rolling_std_upc": 9.771344846937061e-08,
          "t": 16,
          "xs": 16880.299999999996
         },
         {
          "Unnamed: 0": 113,
          "firm": 236100,
          "level_prices": 15.99,
          "log_dmd": 2.079441541679836,
          "per_firm_t": 14,
          "rolling_std_upc": 0.4330127018922314,
          "t": 17,
          "xs": 16880.299999999996
         },
         {
          "Unnamed: 0": 114,
          "firm": 236100,
          "level_prices": 15.99,
          "log_dmd": 1.791759469228055,
          "per_firm_t": 15,
          "rolling_std_upc": 0.5000000000000113,
          "t": 18,
          "xs": 16880.299999999996
         },
         {
          "Unnamed: 0": 115,
          "firm": 236100,
          "level_prices": 15.99,
          "log_dmd": 1.3862943611198906,
          "per_firm_t": 16,
          "rolling_std_upc": 0.4330127018922334,
          "t": 19,
          "xs": 16880.299999999996
         },
         {
          "Unnamed: 0": 116,
          "firm": 236100,
          "level_prices": 14.99,
          "log_dmd": 2.079441541679836,
          "per_firm_t": 17,
          "rolling_std_upc": 0.4330127018922327,
          "t": 20,
          "xs": 16880.299999999996
         },
         {
          "Unnamed: 0": 117,
          "firm": 236100,
          "level_prices": 14.19,
          "log_dmd": 2.7080502011022096,
          "per_firm_t": 18,
          "rolling_std_upc": 0.754983443527082,
          "t": 21,
          "xs": 16880.299999999996
         },
         {
          "Unnamed: 0": 118,
          "firm": 236100,
          "level_prices": 14.99,
          "log_dmd": 2.19722457733622,
          "per_firm_t": 19,
          "rolling_std_upc": 0.6383572667401932,
          "t": 22,
          "xs": 16880.299999999996
         },
         {
          "Unnamed: 0": 119,
          "firm": 236100,
          "level_prices": 14.99,
          "log_dmd": 2.302585092994046,
          "per_firm_t": 20,
          "rolling_std_upc": 0.3464101615137894,
          "t": 23,
          "xs": 16880.299999999996
         },
         {
          "Unnamed: 0": 120,
          "firm": 236100,
          "level_prices": 14.99,
          "log_dmd": 2.8332133440562166,
          "per_firm_t": 21,
          "rolling_std_upc": 0.3464101615137894,
          "t": 24,
          "xs": 16880.299999999996
         },
         {
          "Unnamed: 0": 121,
          "firm": 236100,
          "level_prices": 14.626363636363635,
          "log_dmd": 3.0910424533583165,
          "per_firm_t": 22,
          "rolling_std_upc": 0.15745916432447446,
          "t": 25,
          "xs": 16880.299999999996
         },
         {
          "Unnamed: 0": 122,
          "firm": 236100,
          "level_prices": 12.989999999999998,
          "log_dmd": 3.0910424533583165,
          "per_firm_t": 23,
          "rolling_std_upc": 0.8269729726663814,
          "t": 26,
          "xs": 16880.299999999996
         },
         {
          "Unnamed: 0": 123,
          "firm": 236100,
          "level_prices": 12.99,
          "log_dmd": 2.9957322735539913,
          "per_firm_t": 24,
          "rolling_std_upc": 0.918136812578376,
          "t": 27,
          "xs": 16880.299999999996
         },
         {
          "Unnamed: 0": 124,
          "firm": 236100,
          "level_prices": 13.105384615384615,
          "log_dmd": 3.951243718581428,
          "per_firm_t": 25,
          "rolling_std_upc": 0.6935135318623836,
          "t": 28,
          "xs": 16880.299999999996
         },
         {
          "Unnamed: 0": 125,
          "firm": 236100,
          "level_prices": 13.115,
          "log_dmd": 3.4657359027997265,
          "per_firm_t": 26,
          "rolling_std_upc": 0.06019223089213704,
          "t": 29,
          "xs": 16880.299999999996
         },
         {
          "Unnamed: 0": 126,
          "firm": 236100,
          "level_prices": 13.99,
          "log_dmd": 2.772588722239781,
          "per_firm_t": 27,
          "rolling_std_upc": 0.4013415350255883,
          "t": 30,
          "xs": 16880.299999999996
         },
         {
          "Unnamed: 0": 127,
          "firm": 236100,
          "level_prices": 14.126363636363635,
          "log_dmd": 3.0910424533583165,
          "per_firm_t": 28,
          "rolling_std_upc": 0.4764524793906488,
          "t": 31,
          "xs": 16880.299999999996
         },
         {
          "Unnamed: 0": 128,
          "firm": 236100,
          "level_prices": 14.020303030303033,
          "log_dmd": 3.49650756146648,
          "per_firm_t": 29,
          "rolling_std_upc": 0.40611091070978417,
          "t": 32,
          "xs": 16880.299999999996
         },
         {
          "Unnamed: 0": 129,
          "firm": 236100,
          "level_prices": 14.29,
          "log_dmd": 2.9957322735539913,
          "per_firm_t": 30,
          "rolling_std_upc": 0.117333787251858,
          "t": 33,
          "xs": 16880.299999999996
         },
         {
          "Unnamed: 0": 130,
          "firm": 236100,
          "level_prices": 13.99,
          "log_dmd": 3.258096538021482,
          "per_firm_t": 31,
          "rolling_std_upc": 0.117333787251858,
          "t": 34,
          "xs": 16880.299999999996
         },
         {
          "Unnamed: 0": 131,
          "firm": 236100,
          "level_prices": 14.056666666666667,
          "log_dmd": 2.7080502011022096,
          "per_firm_t": 32,
          "rolling_std_upc": 0.11828618158092115,
          "t": 35,
          "xs": 16880.299999999996
         },
         {
          "Unnamed: 0": 132,
          "firm": 236100,
          "level_prices": 14.115,
          "log_dmd": 2.772588722239781,
          "per_firm_t": 33,
          "rolling_std_upc": 0.11139503654417028,
          "t": 36,
          "xs": 16880.299999999996
         },
         {
          "Unnamed: 0": 133,
          "firm": 236100,
          "level_prices": 14.99,
          "log_dmd": 1.9459101490553128,
          "per_firm_t": 34,
          "rolling_std_upc": 0.4077536276151868,
          "t": 37,
          "xs": 16880.299999999996
         },
         {
          "Unnamed: 0": 134,
          "firm": 236100,
          "level_prices": 14.99,
          "log_dmd": 2.302585092994046,
          "per_firm_t": 35,
          "rolling_std_upc": 0.4525535189345151,
          "t": 38,
          "xs": 16880.299999999996
         },
         {
          "Unnamed: 0": 135,
          "firm": 236100,
          "level_prices": 14.989999999999998,
          "log_dmd": 2.3978952727983707,
          "per_firm_t": 36,
          "rolling_std_upc": 0.3788861141557098,
          "t": 39,
          "xs": 16880.299999999996
         },
         {
          "Unnamed: 0": 136,
          "firm": 236100,
          "level_prices": 14.99,
          "log_dmd": 2.5649493574615367,
          "per_firm_t": 37,
          "rolling_std_upc": 1.228781230931777e-07,
          "t": 40,
          "xs": 16880.299999999996
         },
         {
          "Unnamed: 0": 137,
          "firm": 236100,
          "level_prices": 14.989999999999998,
          "log_dmd": 2.3978952727983707,
          "per_firm_t": 38,
          "rolling_std_upc": 1.2287812309317767e-07,
          "t": 41,
          "xs": 16880.299999999996
         },
         {
          "Unnamed: 0": 138,
          "firm": 236100,
          "level_prices": 14.99,
          "log_dmd": 2.302585092994046,
          "per_firm_t": 39,
          "rolling_std_upc": 1.2287812309317767e-07,
          "t": 42,
          "xs": 16880.299999999996
         },
         {
          "Unnamed: 0": 139,
          "firm": 236100,
          "level_prices": 14.99,
          "log_dmd": 2.079441541679836,
          "per_firm_t": 40,
          "rolling_std_upc": 1.228781230931777e-07,
          "t": 43,
          "xs": 16880.299999999996
         },
         {
          "Unnamed: 0": 140,
          "firm": 236100,
          "level_prices": 14.99,
          "log_dmd": 1.791759469228055,
          "per_firm_t": 41,
          "rolling_std_upc": 1.228781230931777e-07,
          "t": 44,
          "xs": 16880.299999999996
         },
         {
          "Unnamed: 0": 141,
          "firm": 236100,
          "level_prices": 14.99,
          "log_dmd": 2.079441541679836,
          "per_firm_t": 42,
          "rolling_std_upc": 1.228781230931777e-07,
          "t": 45,
          "xs": 16880.299999999996
         },
         {
          "Unnamed: 0": 142,
          "firm": 236100,
          "level_prices": 13.99,
          "log_dmd": 2.9444389791664403,
          "per_firm_t": 43,
          "rolling_std_upc": 0.4330127018922347,
          "t": 46,
          "xs": 16880.299999999996
         },
         {
          "Unnamed: 0": 143,
          "firm": 236100,
          "level_prices": 14.99,
          "log_dmd": 2.5649493574615367,
          "per_firm_t": 44,
          "rolling_std_upc": 0.4330127018922347,
          "t": 47,
          "xs": 16880.299999999996
         },
         {
          "Unnamed: 0": 144,
          "firm": 236100,
          "level_prices": 14.99,
          "log_dmd": 2.079441541679836,
          "per_firm_t": 45,
          "rolling_std_upc": 0.4330127018922347,
          "t": 48,
          "xs": 16880.299999999996
         },
         {
          "Unnamed: 0": 145,
          "firm": 236100,
          "level_prices": 14.99,
          "log_dmd": 2.6390573296152584,
          "per_firm_t": 46,
          "rolling_std_upc": 0.4330127018922347,
          "t": 49,
          "xs": 16880.299999999996
         },
         {
          "Unnamed: 0": 147,
          "firm": 240028,
          "level_prices": 12.99,
          "log_dmd": 2.8903717578961645,
          "per_firm_t": 1,
          "rolling_std_upc": 0.8904879280484274,
          "t": 1,
          "xs": 13134.82
         },
         {
          "Unnamed: 0": 148,
          "firm": 240028,
          "level_prices": 12.99,
          "log_dmd": 2.19722457733622,
          "per_firm_t": 2,
          "rolling_std_upc": 0.8926785535678458,
          "t": 2,
          "xs": 13134.82
         },
         {
          "Unnamed: 0": 149,
          "firm": 240028,
          "level_prices": 12.99,
          "log_dmd": 2.19722457733622,
          "per_firm_t": 3,
          "rolling_std_upc": 0.4330127018921993,
          "t": 3,
          "xs": 13134.82
         },
         {
          "Unnamed: 0": 150,
          "firm": 240028,
          "level_prices": 12.99,
          "log_dmd": 2.079441541679836,
          "per_firm_t": 4,
          "rolling_std_upc": 0,
          "t": 4,
          "xs": 13134.82
         },
         {
          "Unnamed: 0": 151,
          "firm": 240028,
          "level_prices": 12.99,
          "log_dmd": 1.6094379124341005,
          "per_firm_t": 5,
          "rolling_std_upc": 0,
          "t": 5,
          "xs": 13134.82
         },
         {
          "Unnamed: 0": 195,
          "firm": 240028,
          "level_prices": 12.99,
          "log_dmd": 1.9459101490553128,
          "per_firm_t": 6,
          "rolling_std_upc": 0,
          "t": 6,
          "xs": 13134.82
         },
         {
          "Unnamed: 0": 152,
          "firm": 240028,
          "level_prices": 12.99,
          "log_dmd": 2.302585092994046,
          "per_firm_t": 7,
          "rolling_std_upc": 0,
          "t": 7,
          "xs": 13134.82
         },
         {
          "Unnamed: 0": 153,
          "firm": 240028,
          "level_prices": 12.99,
          "log_dmd": 2.19722457733622,
          "per_firm_t": 8,
          "rolling_std_upc": 0,
          "t": 8,
          "xs": 13134.82
         },
         {
          "Unnamed: 0": 154,
          "firm": 240028,
          "level_prices": 12.99,
          "log_dmd": 1.791759469228055,
          "per_firm_t": 9,
          "rolling_std_upc": 0,
          "t": 9,
          "xs": 13134.82
         },
         {
          "Unnamed: 0": 155,
          "firm": 240028,
          "level_prices": 12.99,
          "log_dmd": 1.9459101490553128,
          "per_firm_t": 10,
          "rolling_std_upc": 0,
          "t": 10,
          "xs": 13134.82
         },
         {
          "Unnamed: 0": 156,
          "firm": 240028,
          "level_prices": 12.99,
          "log_dmd": 1.791759469228055,
          "per_firm_t": 11,
          "rolling_std_upc": 0,
          "t": 11,
          "xs": 13134.82
         },
         {
          "Unnamed: 0": 157,
          "firm": 240028,
          "level_prices": 12.99,
          "log_dmd": 1.791759469228055,
          "per_firm_t": 12,
          "rolling_std_upc": 0,
          "t": 12,
          "xs": 13134.82
         },
         {
          "Unnamed: 0": 158,
          "firm": 240028,
          "level_prices": 12.99,
          "log_dmd": 2.19722457733622,
          "per_firm_t": 13,
          "rolling_std_upc": 0,
          "t": 13,
          "xs": 13134.82
         },
         {
          "Unnamed: 0": 159,
          "firm": 240028,
          "level_prices": 12.99,
          "log_dmd": 3.1780538303479458,
          "per_firm_t": 14,
          "rolling_std_upc": 0,
          "t": 14,
          "xs": 13134.82
         },
         {
          "Unnamed: 0": 160,
          "firm": 240028,
          "level_prices": 9.989999999999998,
          "log_dmd": 4.23410650459726,
          "per_firm_t": 15,
          "rolling_std_upc": 1.2990381056766531,
          "t": 15,
          "xs": 13134.82
         },
         {
          "Unnamed: 0": 161,
          "firm": 240028,
          "level_prices": 9.99,
          "log_dmd": 2.7080502011022096,
          "per_firm_t": 16,
          "rolling_std_upc": 1.4999999999999964,
          "t": 16,
          "xs": 13134.82
         },
         {
          "Unnamed: 0": 162,
          "firm": 240028,
          "level_prices": 12.99,
          "log_dmd": 2.772588722239781,
          "per_firm_t": 17,
          "rolling_std_upc": 1.4999999999999964,
          "t": 17,
          "xs": 13134.82
         },
         {
          "Unnamed: 0": 163,
          "firm": 240028,
          "level_prices": 12.99,
          "log_dmd": 2.4849066497880004,
          "per_firm_t": 18,
          "rolling_std_upc": 1.4999999999999964,
          "t": 18,
          "xs": 13134.82
         },
         {
          "Unnamed: 0": 164,
          "firm": 240028,
          "level_prices": 12.99,
          "log_dmd": 2.19722457733622,
          "per_firm_t": 19,
          "rolling_std_upc": 1.2990381056766522,
          "t": 19,
          "xs": 13134.82
         },
         {
          "Unnamed: 0": 165,
          "firm": 240028,
          "level_prices": 12.99,
          "log_dmd": 2.4849066497880004,
          "per_firm_t": 20,
          "rolling_std_upc": 0,
          "t": 20,
          "xs": 13134.82
         },
         {
          "Unnamed: 0": 166,
          "firm": 240028,
          "level_prices": 12.99,
          "log_dmd": 2.8332133440562166,
          "per_firm_t": 21,
          "rolling_std_upc": 0,
          "t": 21,
          "xs": 13134.82
         },
         {
          "Unnamed: 0": 167,
          "firm": 240028,
          "level_prices": 12.99,
          "log_dmd": 2.19722457733622,
          "per_firm_t": 22,
          "rolling_std_upc": 0,
          "t": 22,
          "xs": 13134.82
         },
         {
          "Unnamed: 0": 168,
          "firm": 240028,
          "level_prices": 12.99,
          "log_dmd": 2.19722457733622,
          "per_firm_t": 23,
          "rolling_std_upc": 0,
          "t": 23,
          "xs": 13134.82
         },
         {
          "Unnamed: 0": 169,
          "firm": 240028,
          "level_prices": 12.99,
          "log_dmd": 2.302585092994046,
          "per_firm_t": 24,
          "rolling_std_upc": 0,
          "t": 24,
          "xs": 13134.82
         },
         {
          "Unnamed: 0": 170,
          "firm": 240028,
          "level_prices": 12.99,
          "log_dmd": 1.9459101490553128,
          "per_firm_t": 25,
          "rolling_std_upc": 0,
          "t": 25,
          "xs": 13134.82
         },
         {
          "Unnamed: 0": 171,
          "firm": 240028,
          "level_prices": 12.99,
          "log_dmd": 2.8332133440562166,
          "per_firm_t": 26,
          "rolling_std_upc": 0,
          "t": 26,
          "xs": 13134.82
         },
         {
          "Unnamed: 0": 172,
          "firm": 240028,
          "level_prices": 12.989999999999998,
          "log_dmd": 2.3978952727983707,
          "per_firm_t": 27,
          "rolling_std_upc": 0,
          "t": 27,
          "xs": 13134.82
         },
         {
          "Unnamed: 0": 173,
          "firm": 240028,
          "level_prices": 12.989999999999998,
          "log_dmd": 2.3978952727983707,
          "per_firm_t": 28,
          "rolling_std_upc": 0,
          "t": 28,
          "xs": 13134.82
         },
         {
          "Unnamed: 0": 174,
          "firm": 240028,
          "level_prices": 12.99,
          "log_dmd": 2.6390573296152584,
          "per_firm_t": 29,
          "rolling_std_upc": 0,
          "t": 29,
          "xs": 13134.82
         },
         {
          "Unnamed: 0": 175,
          "firm": 240028,
          "level_prices": 12.99,
          "log_dmd": 1.9459101490553128,
          "per_firm_t": 30,
          "rolling_std_upc": 0,
          "t": 30,
          "xs": 13134.82
         },
         {
          "Unnamed: 0": 176,
          "firm": 240028,
          "level_prices": 12.99,
          "log_dmd": 1.9459101490553128,
          "per_firm_t": 31,
          "rolling_std_upc": 0,
          "t": 31,
          "xs": 13134.82
         },
         {
          "Unnamed: 0": 177,
          "firm": 240028,
          "level_prices": 12.99,
          "log_dmd": 2.19722457733622,
          "per_firm_t": 32,
          "rolling_std_upc": 0,
          "t": 32,
          "xs": 13134.82
         },
         {
          "Unnamed: 0": 178,
          "firm": 240028,
          "level_prices": 12.99,
          "log_dmd": 1.6094379124341005,
          "per_firm_t": 33,
          "rolling_std_upc": 0,
          "t": 33,
          "xs": 13134.82
         },
         {
          "Unnamed: 0": 179,
          "firm": 240028,
          "level_prices": 12.989999999999998,
          "log_dmd": 2.3978952727983707,
          "per_firm_t": 34,
          "rolling_std_upc": 0,
          "t": 34,
          "xs": 13134.82
         },
         {
          "Unnamed: 0": 180,
          "firm": 240028,
          "level_prices": 12.99,
          "log_dmd": 2.079441541679836,
          "per_firm_t": 35,
          "rolling_std_upc": 0,
          "t": 35,
          "xs": 13134.82
         },
         {
          "Unnamed: 0": 181,
          "firm": 240028,
          "level_prices": 13.99,
          "log_dmd": 1.6094379124341005,
          "per_firm_t": 36,
          "rolling_std_upc": 0.43301270189219776,
          "t": 36,
          "xs": 13134.82
         },
         {
          "Unnamed: 0": 182,
          "firm": 240028,
          "level_prices": 13.99,
          "log_dmd": 1.0986122886681098,
          "per_firm_t": 37,
          "rolling_std_upc": 0.4999999999999805,
          "t": 37,
          "xs": 13134.82
         },
         {
          "Unnamed: 0": 183,
          "firm": 240028,
          "level_prices": 13.99,
          "log_dmd": 1.3862943611198906,
          "per_firm_t": 38,
          "rolling_std_upc": 0.4330127018921951,
          "t": 38,
          "xs": 13134.82
         },
         {
          "Unnamed: 0": 184,
          "firm": 240028,
          "level_prices": 13.99,
          "log_dmd": 0.6931471805599453,
          "per_firm_t": 39,
          "rolling_std_upc": 0,
          "t": 39,
          "xs": 13134.82
         },
         {
          "Unnamed: 0": 185,
          "firm": 240028,
          "level_prices": 13.99,
          "log_dmd": 2.4849066497880004,
          "per_firm_t": 40,
          "rolling_std_upc": 0,
          "t": 40,
          "xs": 13134.82
         },
         {
          "Unnamed: 0": 186,
          "firm": 240028,
          "level_prices": 13.99,
          "log_dmd": 1.9459101490553128,
          "per_firm_t": 41,
          "rolling_std_upc": 0,
          "t": 41,
          "xs": 13134.82
         },
         {
          "Unnamed: 0": 187,
          "firm": 240028,
          "level_prices": 10.99,
          "log_dmd": 3.332204510175204,
          "per_firm_t": 42,
          "rolling_std_upc": 1.299038105676651,
          "t": 42,
          "xs": 13134.82
         },
         {
          "Unnamed: 0": 188,
          "firm": 240028,
          "level_prices": 10.99,
          "log_dmd": 1.791759469228055,
          "per_firm_t": 43,
          "rolling_std_upc": 1.4999999999999944,
          "t": 43,
          "xs": 13134.82
         },
         {
          "Unnamed: 0": 189,
          "firm": 240028,
          "level_prices": 13.99,
          "log_dmd": 1.0986122886681098,
          "per_firm_t": 44,
          "rolling_std_upc": 1.4999999999999944,
          "t": 44,
          "xs": 13134.82
         },
         {
          "Unnamed: 0": 190,
          "firm": 240028,
          "level_prices": 12.99,
          "log_dmd": 1.791759469228055,
          "per_firm_t": 45,
          "rolling_std_upc": 1.299038105676652,
          "t": 45,
          "xs": 13134.82
         },
         {
          "Unnamed: 0": 191,
          "firm": 240028,
          "level_prices": 12.99,
          "log_dmd": 1.6094379124341005,
          "per_firm_t": 46,
          "rolling_std_upc": 1.0897247358851605,
          "t": 46,
          "xs": 13134.82
         },
         {
          "Unnamed: 0": 192,
          "firm": 240028,
          "level_prices": 12.99,
          "log_dmd": 2.302585092994046,
          "per_firm_t": 47,
          "rolling_std_upc": 0.4330127018921973,
          "t": 47,
          "xs": 13134.82
         },
         {
          "Unnamed: 0": 193,
          "firm": 240028,
          "level_prices": 9.99,
          "log_dmd": 4.394449154672439,
          "per_firm_t": 48,
          "rolling_std_upc": 1.299038105676652,
          "t": 48,
          "xs": 13134.82
         },
         {
          "Unnamed: 0": 194,
          "firm": 240028,
          "level_prices": 9.99,
          "log_dmd": 3.2958368660043287,
          "per_firm_t": 49,
          "rolling_std_upc": 1.4999999999999958,
          "t": 49,
          "xs": 13134.82
         },
         {
          "Unnamed: 0": 196,
          "firm": 243939,
          "level_prices": 14.99,
          "log_dmd": 1.3862943611198906,
          "per_firm_t": 1,
          "rolling_std_upc": 1.414213562373075,
          "t": 1,
          "xs": 15873.47
         },
         {
          "Unnamed: 0": 197,
          "firm": 243939,
          "level_prices": 14.99,
          "log_dmd": 1.3862943611198906,
          "per_firm_t": 1,
          "rolling_std_upc": 1.414213562373075,
          "t": 2,
          "xs": 15873.47
         },
         {
          "Unnamed: 0": 198,
          "firm": 243939,
          "level_prices": 14.99,
          "log_dmd": 2.079441541679836,
          "per_firm_t": 2,
          "rolling_std_upc": 0.999999999999968,
          "t": 3,
          "xs": 15873.47
         },
         {
          "Unnamed: 0": 199,
          "firm": 243939,
          "level_prices": 14.99,
          "log_dmd": 2.19722457733622,
          "per_firm_t": 3,
          "rolling_std_upc": 0.8660254037843996,
          "t": 4,
          "xs": 15873.47
         },
         {
          "Unnamed: 0": 200,
          "firm": 243939,
          "level_prices": 14.99,
          "log_dmd": 2.772588722239781,
          "per_firm_t": 4,
          "rolling_std_upc": 0,
          "t": 5,
          "xs": 15873.47
         },
         {
          "Unnamed: 0": 244,
          "firm": 243939,
          "level_prices": 14.99,
          "log_dmd": 2.302585092994046,
          "per_firm_t": 5,
          "rolling_std_upc": 0,
          "t": 6,
          "xs": 15873.47
         },
         {
          "Unnamed: 0": 201,
          "firm": 243939,
          "level_prices": 14.99,
          "log_dmd": 1.791759469228055,
          "per_firm_t": 6,
          "rolling_std_upc": 0,
          "t": 7,
          "xs": 15873.47
         },
         {
          "Unnamed: 0": 202,
          "firm": 243939,
          "level_prices": 14.99,
          "log_dmd": 2.7080502011022096,
          "per_firm_t": 7,
          "rolling_std_upc": 0,
          "t": 8,
          "xs": 15873.47
         },
         {
          "Unnamed: 0": 203,
          "firm": 243939,
          "level_prices": 14.99,
          "log_dmd": 2.6390573296152584,
          "per_firm_t": 8,
          "rolling_std_upc": 0,
          "t": 9,
          "xs": 15873.47
         },
         {
          "Unnamed: 0": 204,
          "firm": 243939,
          "level_prices": 14.99,
          "log_dmd": 2.4849066497880004,
          "per_firm_t": 9,
          "rolling_std_upc": 0,
          "t": 10,
          "xs": 15873.47
         },
         {
          "Unnamed: 0": 205,
          "firm": 243939,
          "level_prices": 14.99,
          "log_dmd": 1.9459101490553128,
          "per_firm_t": 10,
          "rolling_std_upc": 0,
          "t": 11,
          "xs": 15873.47
         },
         {
          "Unnamed: 0": 206,
          "firm": 243939,
          "level_prices": 14.99,
          "log_dmd": 1.9459101490553128,
          "per_firm_t": 10,
          "rolling_std_upc": 0,
          "t": 12,
          "xs": 15873.47
         },
         {
          "Unnamed: 0": 207,
          "firm": 243939,
          "level_prices": 14.99,
          "log_dmd": 2.079441541679836,
          "per_firm_t": 12,
          "rolling_std_upc": 0,
          "t": 13,
          "xs": 15873.47
         },
         {
          "Unnamed: 0": 208,
          "firm": 243939,
          "level_prices": 14.99,
          "log_dmd": 2.7080502011022096,
          "per_firm_t": 13,
          "rolling_std_upc": 0,
          "t": 14,
          "xs": 15873.47
         },
         {
          "Unnamed: 0": 209,
          "firm": 243939,
          "level_prices": 14.99,
          "log_dmd": 1.3862943611198906,
          "per_firm_t": 14,
          "rolling_std_upc": 0,
          "t": 15,
          "xs": 15873.47
         },
         {
          "Unnamed: 0": 210,
          "firm": 243939,
          "level_prices": 14.99,
          "log_dmd": 2.4849066497880004,
          "per_firm_t": 15,
          "rolling_std_upc": 0,
          "t": 16,
          "xs": 15873.47
         },
         {
          "Unnamed: 0": 211,
          "firm": 243939,
          "level_prices": 15.99,
          "log_dmd": 2.6390573296152584,
          "per_firm_t": 16,
          "rolling_std_upc": 0.4330127018921352,
          "t": 17,
          "xs": 15873.47
         },
         {
          "Unnamed: 0": 212,
          "firm": 243939,
          "level_prices": 15.99,
          "log_dmd": 2.19722457733622,
          "per_firm_t": 17,
          "rolling_std_upc": 0.4999999999999254,
          "t": 18,
          "xs": 15873.47
         },
         {
          "Unnamed: 0": 213,
          "firm": 243939,
          "level_prices": 15.99,
          "log_dmd": 2.6390573296152584,
          "per_firm_t": 18,
          "rolling_std_upc": 0.4330127018921312,
          "t": 19,
          "xs": 15873.47
         },
         {
          "Unnamed: 0": 214,
          "firm": 243939,
          "level_prices": 14.99,
          "log_dmd": 2.079441541679836,
          "per_firm_t": 19,
          "rolling_std_upc": 0.4330127018921312,
          "t": 20,
          "xs": 15873.47
         },
         {
          "Unnamed: 0": 215,
          "firm": 243939,
          "level_prices": 14.023333333333332,
          "log_dmd": 3.4011973816621555,
          "per_firm_t": 20,
          "rolling_std_upc": 0.816624148553009,
          "t": 21,
          "xs": 15873.47
         },
         {
          "Unnamed: 0": 216,
          "firm": 243939,
          "level_prices": 14.99,
          "log_dmd": 2.079441541679836,
          "per_firm_t": 21,
          "rolling_std_upc": 0.6953716032932284,
          "t": 22,
          "xs": 15873.47
         },
         {
          "Unnamed: 0": 217,
          "firm": 243939,
          "level_prices": 14.99,
          "log_dmd": 2.19722457733622,
          "per_firm_t": 22,
          "rolling_std_upc": 0.4185789451623951,
          "t": 23,
          "xs": 15873.47
         },
         {
          "Unnamed: 0": 218,
          "firm": 243939,
          "level_prices": 14.323333333333332,
          "log_dmd": 2.8903717578961645,
          "per_firm_t": 23,
          "rolling_std_upc": 0.42188400196149,
          "t": 24,
          "xs": 15873.47
         },
         {
          "Unnamed: 0": 219,
          "firm": 243939,
          "level_prices": 12.99,
          "log_dmd": 3.258096538021482,
          "per_firm_t": 24,
          "rolling_std_upc": 0.8164965809276852,
          "t": 25,
          "xs": 15873.47
         },
         {
          "Unnamed: 0": 220,
          "firm": 243939,
          "level_prices": 12.99,
          "log_dmd": 3.555348061489413,
          "per_firm_t": 25,
          "rolling_std_upc": 0.8660254037844025,
          "t": 26,
          "xs": 15873.47
         },
         {
          "Unnamed: 0": 221,
          "firm": 243939,
          "level_prices": 12.99,
          "log_dmd": 3.688879454113936,
          "per_firm_t": 26,
          "rolling_std_upc": 0.5773502691895752,
          "t": 27,
          "xs": 15873.47
         },
         {
          "Unnamed: 0": 222,
          "firm": 243939,
          "level_prices": 13.033478260869565,
          "log_dmd": 3.828641396489095,
          "per_firm_t": 27,
          "rolling_std_upc": 0.0188266392112498,
          "t": 28,
          "xs": 15873.47
         },
         {
          "Unnamed: 0": 223,
          "firm": 243939,
          "level_prices": 13.218571428571426,
          "log_dmd": 3.555348061489413,
          "per_firm_t": 28,
          "rolling_std_upc": 0.09438286224994548,
          "t": 29,
          "xs": 15873.47
         },
         {
          "Unnamed: 0": 224,
          "firm": 243939,
          "level_prices": 14.042631578947368,
          "log_dmd": 2.9444389791664403,
          "per_firm_t": 29,
          "rolling_std_upc": 0.4252861925867314,
          "t": 30,
          "xs": 15873.47
         },
         {
          "Unnamed: 0": 225,
          "firm": 243939,
          "level_prices": 13.99,
          "log_dmd": 2.772588722239781,
          "per_firm_t": 30,
          "rolling_std_upc": 0.4503145423549751,
          "t": 31,
          "xs": 15873.47
         },
         {
          "Unnamed: 0": 226,
          "firm": 243939,
          "level_prices": 13.99,
          "log_dmd": 2.19722457733622,
          "per_firm_t": 31,
          "rolling_std_upc": 0.3423101097026501,
          "t": 32,
          "xs": 15873.47
         },
         {
          "Unnamed: 0": 227,
          "firm": 243939,
          "level_prices": 13.99,
          "log_dmd": 2.079441541679836,
          "per_firm_t": 32,
          "rolling_std_upc": 0.02279014220341461,
          "t": 33,
          "xs": 15873.47
         },
         {
          "Unnamed: 0": 228,
          "firm": 243939,
          "level_prices": 14.115,
          "log_dmd": 2.772588722239781,
          "per_firm_t": 33,
          "rolling_std_upc": 0.0541265877359197,
          "t": 34,
          "xs": 15873.47
         },
         {
          "Unnamed: 0": 229,
          "firm": 243939,
          "level_prices": 13.99,
          "log_dmd": 2.772588722239781,
          "per_firm_t": 34,
          "rolling_std_upc": 0.0541265877359197,
          "t": 35,
          "xs": 15873.47
         },
         {
          "Unnamed: 0": 230,
          "firm": 243939,
          "level_prices": 14.061428571428573,
          "log_dmd": 3.332204510175204,
          "per_firm_t": 35,
          "rolling_std_upc": 0.05263315233219317,
          "t": 36,
          "xs": 15873.47
         },
         {
          "Unnamed: 0": 231,
          "firm": 243939,
          "level_prices": 14.101111111111116,
          "log_dmd": 2.19722457733622,
          "per_firm_t": 36,
          "rolling_std_upc": 0.048547800527560095,
          "t": 37,
          "xs": 15873.47
         },
         {
          "Unnamed: 0": 232,
          "firm": 243939,
          "level_prices": 14.99,
          "log_dmd": 2.302585092994046,
          "per_firm_t": 37,
          "rolling_std_upc": 0.408609744937983,
          "t": 38,
          "xs": 15873.47
         },
         {
          "Unnamed: 0": 233,
          "firm": 243939,
          "level_prices": 14.989999999999998,
          "log_dmd": 2.3978952727983707,
          "per_firm_t": 38,
          "rolling_std_upc": 0.4545816355076609,
          "t": 39,
          "xs": 15873.47
         },
         {
          "Unnamed: 0": 234,
          "firm": 243939,
          "level_prices": 14.99,
          "log_dmd": 2.302585092994046,
          "per_firm_t": 39,
          "rolling_std_upc": 0.3849001794596541,
          "t": 40,
          "xs": 15873.47
         },
         {
          "Unnamed: 0": 235,
          "firm": 243939,
          "level_prices": 14.989999999999998,
          "log_dmd": 2.3978952727983707,
          "per_firm_t": 40,
          "rolling_std_upc": 0,
          "t": 41,
          "xs": 15873.47
         },
         {
          "Unnamed: 0": 236,
          "firm": 243939,
          "level_prices": 14.99,
          "log_dmd": 2.19722457733622,
          "per_firm_t": 41,
          "rolling_std_upc": 0,
          "t": 42,
          "xs": 15873.47
         },
         {
          "Unnamed: 0": 237,
          "firm": 243939,
          "level_prices": 14.99,
          "log_dmd": 1.791759469228055,
          "per_firm_t": 42,
          "rolling_std_upc": 0,
          "t": 43,
          "xs": 15873.47
         },
         {
          "Unnamed: 0": 238,
          "firm": 243939,
          "level_prices": 14.99,
          "log_dmd": 2.302585092994046,
          "per_firm_t": 43,
          "rolling_std_upc": 0,
          "t": 44,
          "xs": 15873.47
         },
         {
          "Unnamed: 0": 239,
          "firm": 243939,
          "level_prices": 14.918571428571427,
          "log_dmd": 2.6390573296152584,
          "per_firm_t": 44,
          "rolling_std_upc": 0.03092947870534385,
          "t": 45,
          "xs": 15873.47
         },
         {
          "Unnamed: 0": 240,
          "firm": 243939,
          "level_prices": 13.99,
          "log_dmd": 2.772588722239781,
          "per_firm_t": 45,
          "rolling_std_upc": 0.4237075184893653,
          "t": 46,
          "xs": 15873.47
         },
         {
          "Unnamed: 0": 241,
          "firm": 243939,
          "level_prices": 14.99,
          "log_dmd": 1.791759469228055,
          "per_firm_t": 46,
          "rolling_std_upc": 0.4237075184893653,
          "t": 47,
          "xs": 15873.47
         },
         {
          "Unnamed: 0": 242,
          "firm": 243939,
          "level_prices": 14.99,
          "log_dmd": 2.9444389791664403,
          "per_firm_t": 47,
          "rolling_std_upc": 0.4237075184893653,
          "t": 48,
          "xs": 15873.47
         },
         {
          "Unnamed: 0": 243,
          "firm": 243939,
          "level_prices": 14.99,
          "log_dmd": 1.6094379124341005,
          "per_firm_t": 48,
          "rolling_std_upc": 0.4330127018921336,
          "t": 49,
          "xs": 15873.47
         },
         {
          "Unnamed: 0": 245,
          "firm": 252869,
          "level_prices": 12.99,
          "log_dmd": 1.0986122886681098,
          "per_firm_t": 1,
          "rolling_std_upc": 0.8904879280484134,
          "t": 1,
          "xs": 4961.46
         },
         {
          "Unnamed: 0": 246,
          "firm": 252869,
          "level_prices": 12.99,
          "log_dmd": 1.0986122886681098,
          "per_firm_t": 1,
          "rolling_std_upc": 0.8904879280484134,
          "t": 2,
          "xs": 4961.46
         },
         {
          "Unnamed: 0": 247,
          "firm": 252869,
          "level_prices": 12.99,
          "log_dmd": 1.0986122886681098,
          "per_firm_t": 1,
          "rolling_std_upc": 0.8904879280484134,
          "t": 3,
          "xs": 4961.46
         },
         {
          "Unnamed: 0": 248,
          "firm": 252869,
          "level_prices": 12.99,
          "log_dmd": 1.0986122886681098,
          "per_firm_t": 1,
          "rolling_std_upc": 0.8904879280484134,
          "t": 4,
          "xs": 4961.46
         },
         {
          "Unnamed: 0": 249,
          "firm": 252869,
          "level_prices": 12.99,
          "log_dmd": 1.0986122886681098,
          "per_firm_t": 1,
          "rolling_std_upc": 0.8904879280484134,
          "t": 5,
          "xs": 4961.46
         },
         {
          "Unnamed: 0": 293,
          "firm": 252869,
          "level_prices": 12.99,
          "log_dmd": 1.0986122886681098,
          "per_firm_t": 1,
          "rolling_std_upc": 0.8904879280484134,
          "t": 6,
          "xs": 4961.46
         },
         {
          "Unnamed: 0": 250,
          "firm": 252869,
          "level_prices": 12.99,
          "log_dmd": 1.0986122886681098,
          "per_firm_t": 1,
          "rolling_std_upc": 0.8904879280484134,
          "t": 7,
          "xs": 4961.46
         },
         {
          "Unnamed: 0": 251,
          "firm": 252869,
          "level_prices": 12.99,
          "log_dmd": 1.0986122886681098,
          "per_firm_t": 2,
          "rolling_std_upc": 0.480071609241755,
          "t": 8,
          "xs": 4961.46
         },
         {
          "Unnamed: 0": 252,
          "firm": 252869,
          "level_prices": 13.823333333333332,
          "log_dmd": 1.791759469228055,
          "per_firm_t": 3,
          "rolling_std_upc": 0.6495190528383007,
          "t": 9,
          "xs": 4961.46
         },
         {
          "Unnamed: 0": 253,
          "firm": 252869,
          "level_prices": 13.99,
          "log_dmd": 2.079441541679836,
          "per_firm_t": 4,
          "rolling_std_upc": 0.4621056877670032,
          "t": 10,
          "xs": 4961.46
         },
         {
          "Unnamed: 0": 254,
          "firm": 252869,
          "level_prices": 13.99,
          "log_dmd": 1.9459101490553128,
          "per_firm_t": 5,
          "rolling_std_upc": 0.4145780987943538,
          "t": 11,
          "xs": 4961.46
         },
         {
          "Unnamed: 0": 255,
          "firm": 252869,
          "level_prices": 12.323333333333332,
          "log_dmd": 2.8903717578961645,
          "per_firm_t": 6,
          "rolling_std_upc": 0.7009418267191586,
          "t": 12,
          "xs": 4961.46
         },
         {
          "Unnamed: 0": 256,
          "firm": 252869,
          "level_prices": 12.99,
          "log_dmd": 2.4849066497880004,
          "per_firm_t": 7,
          "rolling_std_upc": 0.707106781186514,
          "t": 13,
          "xs": 4961.46
         },
         {
          "Unnamed: 0": 257,
          "firm": 252869,
          "level_prices": 13.989999999999998,
          "log_dmd": 2.3978952727983707,
          "per_firm_t": 8,
          "rolling_std_upc": 0.7071067811865136,
          "t": 14,
          "xs": 4961.46
         },
         {
          "Unnamed: 0": 258,
          "firm": 252869,
          "level_prices": 14.99,
          "log_dmd": 2.19722457733622,
          "per_firm_t": 9,
          "rolling_std_upc": 1.0103629710818176,
          "t": 15,
          "xs": 4961.46
         },
         {
          "Unnamed: 0": 259,
          "firm": 252869,
          "level_prices": 14.99,
          "log_dmd": 2.19722457733622,
          "per_firm_t": 10,
          "rolling_std_upc": 0.8291561975888037,
          "t": 16,
          "xs": 4961.46
         },
         {
          "Unnamed: 0": 260,
          "firm": 252869,
          "level_prices": 14.24,
          "log_dmd": 2.4849066497880004,
          "per_firm_t": 11,
          "rolling_std_upc": 0.4463392767838309,
          "t": 17,
          "xs": 4961.46
         },
         {
          "Unnamed: 0": 261,
          "firm": 252869,
          "level_prices": 13.989999999999998,
          "log_dmd": 2.3978952727983707,
          "per_firm_t": 12,
          "rolling_std_upc": 0.4463392767838309,
          "t": 18,
          "xs": 4961.46
         },
         {
          "Unnamed: 0": 262,
          "firm": 252869,
          "level_prices": 14.073333333333332,
          "log_dmd": 2.4849066497880004,
          "per_firm_t": 13,
          "rolling_std_upc": 0.3952847075209468,
          "t": 19,
          "xs": 4961.46
         },
         {
          "Unnamed: 0": 263,
          "firm": 252869,
          "level_prices": 13.99,
          "log_dmd": 1.9459101490553128,
          "per_firm_t": 14,
          "rolling_std_upc": 0.10206207261561233,
          "t": 20,
          "xs": 4961.46
         },
         {
          "Unnamed: 0": 264,
          "firm": 252869,
          "level_prices": 14.99,
          "log_dmd": 0.6931471805599453,
          "per_firm_t": 15,
          "rolling_std_upc": 0.42235697776476827,
          "t": 21,
          "xs": 4961.46
         },
         {
          "Unnamed: 0": 265,
          "firm": 252869,
          "level_prices": 14.99,
          "log_dmd": 1.6094379124341005,
          "per_firm_t": 16,
          "rolling_std_upc": 0.480071609241699,
          "t": 22,
          "xs": 4961.46
         },
         {
          "Unnamed: 0": 266,
          "firm": 252869,
          "level_prices": 14.24,
          "log_dmd": 1.3862943611198906,
          "per_firm_t": 17,
          "rolling_std_upc": 0.4463392767838307,
          "t": 23,
          "xs": 4961.46
         },
         {
          "Unnamed: 0": 267,
          "firm": 252869,
          "level_prices": 14.132857142857144,
          "log_dmd": 1.9459101490553128,
          "per_firm_t": 18,
          "rolling_std_upc": 0.4035674778566591,
          "t": 24,
          "xs": 4961.46
         },
         {
          "Unnamed: 0": 268,
          "firm": 252869,
          "level_prices": 13.99,
          "log_dmd": 2.079441541679836,
          "per_firm_t": 19,
          "rolling_std_upc": 0.3866184838322351,
          "t": 25,
          "xs": 4961.46
         },
         {
          "Unnamed: 0": 269,
          "firm": 252869,
          "level_prices": 13.275714285714288,
          "log_dmd": 1.9459101490553128,
          "per_firm_t": 20,
          "rolling_std_upc": 0.37659101265996825,
          "t": 26,
          "xs": 4961.46
         },
         {
          "Unnamed: 0": 270,
          "firm": 252869,
          "level_prices": 14.99,
          "log_dmd": 1.6094379124341005,
          "per_firm_t": 21,
          "rolling_std_upc": 0.6092400753296542,
          "t": 27,
          "xs": 4961.46
         },
         {
          "Unnamed: 0": 271,
          "firm": 252869,
          "level_prices": 14.989999999999998,
          "log_dmd": 2.3978952727983707,
          "per_firm_t": 22,
          "rolling_std_upc": 0.7240405333111338,
          "t": 28,
          "xs": 4961.46
         },
         {
          "Unnamed: 0": 272,
          "firm": 252869,
          "level_prices": 14.323333333333332,
          "log_dmd": 2.4849066497880004,
          "per_firm_t": 23,
          "rolling_std_upc": 0.7010681840159153,
          "t": 29,
          "xs": 4961.46
         },
         {
          "Unnamed: 0": 273,
          "firm": 252869,
          "level_prices": 14.323333333333332,
          "log_dmd": 1.0986122886681098,
          "per_firm_t": 24,
          "rolling_std_upc": 0.3333333333331979,
          "t": 30,
          "xs": 4961.46
         },
         {
          "Unnamed: 0": 274,
          "firm": 252869,
          "level_prices": 14.99,
          "log_dmd": 1.0986122886681098,
          "per_firm_t": 25,
          "rolling_std_upc": 0.3333333333331979,
          "t": 31,
          "xs": 4961.46
         },
         {
          "Unnamed: 0": 275,
          "firm": 252869,
          "level_prices": 14.99,
          "log_dmd": 1.3862943611198906,
          "per_firm_t": 26,
          "rolling_std_upc": 0.3333333333331984,
          "t": 32,
          "xs": 4961.46
         },
         {
          "Unnamed: 0": 276,
          "firm": 252869,
          "level_prices": 14.99,
          "log_dmd": 1.791759469228055,
          "per_firm_t": 27,
          "rolling_std_upc": 0.2886751345946479,
          "t": 33,
          "xs": 4961.46
         },
         {
          "Unnamed: 0": 277,
          "firm": 252869,
          "level_prices": 14.99,
          "log_dmd": 1.791759469228055,
          "per_firm_t": 28,
          "rolling_std_upc": 0,
          "t": 34,
          "xs": 4961.46
         },
         {
          "Unnamed: 0": 278,
          "firm": 252869,
          "level_prices": 14.99,
          "log_dmd": 0.6931471805599453,
          "per_firm_t": 29,
          "rolling_std_upc": 0,
          "t": 35,
          "xs": 4961.46
         },
         {
          "Unnamed: 0": 279,
          "firm": 252869,
          "level_prices": 14.99,
          "log_dmd": 1.3862943611198906,
          "per_firm_t": 30,
          "rolling_std_upc": 0,
          "t": 36,
          "xs": 4961.46
         },
         {
          "Unnamed: 0": 280,
          "firm": 252869,
          "level_prices": 14.99,
          "log_dmd": 1.9459101490553128,
          "per_firm_t": 31,
          "rolling_std_upc": 0,
          "t": 37,
          "xs": 4961.46
         },
         {
          "Unnamed: 0": 281,
          "firm": 252869,
          "level_prices": 14.99,
          "log_dmd": 1.6094379124341005,
          "per_firm_t": 32,
          "rolling_std_upc": 0,
          "t": 38,
          "xs": 4961.46
         },
         {
          "Unnamed: 0": 282,
          "firm": 252869,
          "level_prices": 13.451538461538462,
          "log_dmd": 2.5649493574615367,
          "per_firm_t": 33,
          "rolling_std_upc": 0.6661733875264247,
          "t": 39,
          "xs": 4961.46
         },
         {
          "Unnamed: 0": 283,
          "firm": 252869,
          "level_prices": 13.07,
          "log_dmd": 3.218875824868201,
          "per_firm_t": 34,
          "rolling_std_upc": 0.8750749756550451,
          "t": 40,
          "xs": 4961.46
         },
         {
          "Unnamed: 0": 284,
          "firm": 252869,
          "level_prices": 13.19,
          "log_dmd": 2.302585092994046,
          "per_firm_t": 35,
          "rolling_std_upc": 0.7714287827556378,
          "t": 41,
          "xs": 4961.46
         },
         {
          "Unnamed: 0": 285,
          "firm": 252869,
          "level_prices": 12.99,
          "log_dmd": 2.8332133440562166,
          "per_firm_t": 36,
          "rolling_std_upc": 0.1746052182738999,
          "t": 42,
          "xs": 4961.46
         },
         {
          "Unnamed: 0": 286,
          "firm": 252869,
          "level_prices": 14.166470588235295,
          "log_dmd": 2.8332133440562166,
          "per_firm_t": 37,
          "rolling_std_upc": 0.4743828626183405,
          "t": 43,
          "xs": 4961.46
         },
         {
          "Unnamed: 0": 287,
          "firm": 252869,
          "level_prices": 14.08090909090909,
          "log_dmd": 2.3978952727983707,
          "per_firm_t": 38,
          "rolling_std_upc": 0.5225359005242862,
          "t": 44,
          "xs": 4961.46
         },
         {
          "Unnamed: 0": 288,
          "firm": 252869,
          "level_prices": 14.49,
          "log_dmd": 2.6390573296152584,
          "per_firm_t": 39,
          "rolling_std_upc": 0.5647739100522927,
          "t": 45,
          "xs": 4961.46
         },
         {
          "Unnamed: 0": 289,
          "firm": 252869,
          "level_prices": 14.99,
          "log_dmd": 1.9459101490553128,
          "per_firm_t": 40,
          "rolling_std_upc": 0.35654543846422315,
          "t": 46,
          "xs": 4961.46
         },
         {
          "Unnamed: 0": 290,
          "firm": 252869,
          "level_prices": 14.989999999999998,
          "log_dmd": 2.3978952727983707,
          "per_firm_t": 41,
          "rolling_std_upc": 0.3808090018207065,
          "t": 47,
          "xs": 4961.46
         },
         {
          "Unnamed: 0": 291,
          "firm": 252869,
          "level_prices": 14.989999999999998,
          "log_dmd": 2.3978952727983707,
          "per_firm_t": 41,
          "rolling_std_upc": 0.3808090018207065,
          "t": 48,
          "xs": 4961.46
         },
         {
          "Unnamed: 0": 292,
          "firm": 252869,
          "level_prices": 14.989999999999998,
          "log_dmd": 2.3978952727983707,
          "per_firm_t": 41,
          "rolling_std_upc": 0.3808090018207065,
          "t": 49,
          "xs": 4961.46
         },
         {
          "Unnamed: 0": 294,
          "firm": 256370,
          "level_prices": 12.99,
          "log_dmd": 1.3862943611198906,
          "per_firm_t": 1,
          "rolling_std_upc": 0.6776951748389239,
          "t": 1,
          "xs": 6272.699999999998
         },
         {
          "Unnamed: 0": 295,
          "firm": 256370,
          "level_prices": 12.99,
          "log_dmd": 1.3862943611198906,
          "per_firm_t": 1,
          "rolling_std_upc": 0.6776951748389239,
          "t": 2,
          "xs": 6272.699999999998
         },
         {
          "Unnamed: 0": 296,
          "firm": 256370,
          "level_prices": 12.99,
          "log_dmd": 1.3862943611198906,
          "per_firm_t": 1,
          "rolling_std_upc": 0.6776951748389239,
          "t": 3,
          "xs": 6272.699999999998
         },
         {
          "Unnamed: 0": 297,
          "firm": 256370,
          "level_prices": 12.99,
          "log_dmd": 1.3862943611198906,
          "per_firm_t": 1,
          "rolling_std_upc": 0.6776951748389239,
          "t": 4,
          "xs": 6272.699999999998
         },
         {
          "Unnamed: 0": 298,
          "firm": 256370,
          "level_prices": 12.99,
          "log_dmd": 1.3862943611198906,
          "per_firm_t": 1,
          "rolling_std_upc": 0.6776951748389239,
          "t": 5,
          "xs": 6272.699999999998
         },
         {
          "Unnamed: 0": 342,
          "firm": 256370,
          "level_prices": 12.99,
          "log_dmd": 1.3862943611198906,
          "per_firm_t": 1,
          "rolling_std_upc": 0.6776951748389239,
          "t": 6,
          "xs": 6272.699999999998
         },
         {
          "Unnamed: 0": 299,
          "firm": 256370,
          "level_prices": 12.99,
          "log_dmd": 1.3862943611198906,
          "per_firm_t": 1,
          "rolling_std_upc": 0.6776951748389239,
          "t": 7,
          "xs": 6272.699999999998
         },
         {
          "Unnamed: 0": 300,
          "firm": 256370,
          "level_prices": 12.99,
          "log_dmd": 1.3862943611198906,
          "per_firm_t": 1,
          "rolling_std_upc": 0.6776951748389239,
          "t": 8,
          "xs": 6272.699999999998
         },
         {
          "Unnamed: 0": 301,
          "firm": 256370,
          "level_prices": 12.99,
          "log_dmd": 1.9459101490553128,
          "per_firm_t": 2,
          "rolling_std_upc": 0.6776951748389239,
          "t": 9,
          "xs": 6272.699999999998
         },
         {
          "Unnamed: 0": 302,
          "firm": 256370,
          "level_prices": 12.99,
          "log_dmd": 1.0986122886681098,
          "per_firm_t": 3,
          "rolling_std_upc": 0.34641016151372056,
          "t": 10,
          "xs": 6272.699999999998
         },
         {
          "Unnamed: 0": 303,
          "firm": 256370,
          "level_prices": 12.99,
          "log_dmd": 1.791759469228055,
          "per_firm_t": 4,
          "rolling_std_upc": 0,
          "t": 11,
          "xs": 6272.699999999998
         },
         {
          "Unnamed: 0": 304,
          "firm": 256370,
          "level_prices": 12.99,
          "log_dmd": 1.3862943611198906,
          "per_firm_t": 5,
          "rolling_std_upc": 0,
          "t": 12,
          "xs": 6272.699999999998
         },
         {
          "Unnamed: 0": 305,
          "firm": 256370,
          "level_prices": 12.99,
          "log_dmd": 1.0986122886681098,
          "per_firm_t": 6,
          "rolling_std_upc": 0,
          "t": 13,
          "xs": 6272.699999999998
         },
         {
          "Unnamed: 0": 306,
          "firm": 256370,
          "level_prices": 12.99,
          "log_dmd": 1.9459101490553128,
          "per_firm_t": 7,
          "rolling_std_upc": 0,
          "t": 14,
          "xs": 6272.699999999998
         },
         {
          "Unnamed: 0": 307,
          "firm": 256370,
          "level_prices": 9.99,
          "log_dmd": 3.0445224377234235,
          "per_firm_t": 8,
          "rolling_std_upc": 1.2990381056766451,
          "t": 15,
          "xs": 6272.699999999998
         },
         {
          "Unnamed: 0": 308,
          "firm": 256370,
          "level_prices": 9.99,
          "log_dmd": 2.079441541679836,
          "per_firm_t": 9,
          "rolling_std_upc": 1.4999999999999891,
          "t": 16,
          "xs": 6272.699999999998
         },
         {
          "Unnamed: 0": 309,
          "firm": 256370,
          "level_prices": 12.99,
          "log_dmd": 1.3862943611198906,
          "per_firm_t": 10,
          "rolling_std_upc": 1.4999999999999891,
          "t": 17,
          "xs": 6272.699999999998
         },
         {
          "Unnamed: 0": 310,
          "firm": 256370,
          "level_prices": 12.99,
          "log_dmd": 0,
          "per_firm_t": 11,
          "rolling_std_upc": 1.4999999999999891,
          "t": 18,
          "xs": 6272.699999999998
         },
         {
          "Unnamed: 0": 311,
          "firm": 256370,
          "level_prices": 12.99,
          "log_dmd": 1.791759469228055,
          "per_firm_t": 12,
          "rolling_std_upc": 1.2990381056766451,
          "t": 19,
          "xs": 6272.699999999998
         },
         {
          "Unnamed: 0": 312,
          "firm": 256370,
          "level_prices": 12.99,
          "log_dmd": 1.6094379124341005,
          "per_firm_t": 13,
          "rolling_std_upc": 0,
          "t": 20,
          "xs": 6272.699999999998
         },
         {
          "Unnamed: 0": 313,
          "firm": 256370,
          "level_prices": 12.99,
          "log_dmd": 1.6094379124341005,
          "per_firm_t": 14,
          "rolling_std_upc": 0,
          "t": 21,
          "xs": 6272.699999999998
         },
         {
          "Unnamed: 0": 314,
          "firm": 256370,
          "level_prices": 12.99,
          "log_dmd": 1.6094379124341005,
          "per_firm_t": 15,
          "rolling_std_upc": 0,
          "t": 22,
          "xs": 6272.699999999998
         },
         {
          "Unnamed: 0": 315,
          "firm": 256370,
          "level_prices": 12.99,
          "log_dmd": 1.0986122886681098,
          "per_firm_t": 16,
          "rolling_std_upc": 0,
          "t": 23,
          "xs": 6272.699999999998
         },
         {
          "Unnamed: 0": 316,
          "firm": 256370,
          "level_prices": 12.99,
          "log_dmd": 0.6931471805599453,
          "per_firm_t": 17,
          "rolling_std_upc": 0,
          "t": 24,
          "xs": 6272.699999999998
         },
         {
          "Unnamed: 0": 317,
          "firm": 256370,
          "level_prices": 12.99,
          "log_dmd": 1.3862943611198906,
          "per_firm_t": 18,
          "rolling_std_upc": 0,
          "t": 25,
          "xs": 6272.699999999998
         },
         {
          "Unnamed: 0": 318,
          "firm": 256370,
          "level_prices": 12.99,
          "log_dmd": 1.6094379124341005,
          "per_firm_t": 19,
          "rolling_std_upc": 0,
          "t": 26,
          "xs": 6272.699999999998
         },
         {
          "Unnamed: 0": 319,
          "firm": 256370,
          "level_prices": 12.99,
          "log_dmd": 0.6931471805599453,
          "per_firm_t": 20,
          "rolling_std_upc": 0,
          "t": 27,
          "xs": 6272.699999999998
         },
         {
          "Unnamed: 0": 320,
          "firm": 256370,
          "level_prices": 12.989999999999998,
          "log_dmd": 2.3978952727983707,
          "per_firm_t": 21,
          "rolling_std_upc": 0,
          "t": 28,
          "xs": 6272.699999999998
         },
         {
          "Unnamed: 0": 321,
          "firm": 256370,
          "level_prices": 12.99,
          "log_dmd": 1.6094379124341005,
          "per_firm_t": 22,
          "rolling_std_upc": 0,
          "t": 29,
          "xs": 6272.699999999998
         },
         {
          "Unnamed: 0": 322,
          "firm": 256370,
          "level_prices": 12.99,
          "log_dmd": 1.6094379124341005,
          "per_firm_t": 23,
          "rolling_std_upc": 0,
          "t": 30,
          "xs": 6272.699999999998
         },
         {
          "Unnamed: 0": 323,
          "firm": 256370,
          "level_prices": 12.99,
          "log_dmd": 0.6931471805599453,
          "per_firm_t": 24,
          "rolling_std_upc": 0,
          "t": 31,
          "xs": 6272.699999999998
         },
         {
          "Unnamed: 0": 324,
          "firm": 256370,
          "level_prices": 12.99,
          "log_dmd": 1.9459101490553128,
          "per_firm_t": 25,
          "rolling_std_upc": 0,
          "t": 32,
          "xs": 6272.699999999998
         },
         {
          "Unnamed: 0": 325,
          "firm": 256370,
          "level_prices": 12.99,
          "log_dmd": 1.0986122886681098,
          "per_firm_t": 26,
          "rolling_std_upc": 0,
          "t": 33,
          "xs": 6272.699999999998
         },
         {
          "Unnamed: 0": 326,
          "firm": 256370,
          "level_prices": 12.99,
          "log_dmd": 1.0986122886681098,
          "per_firm_t": 27,
          "rolling_std_upc": 0,
          "t": 34,
          "xs": 6272.699999999998
         },
         {
          "Unnamed: 0": 327,
          "firm": 256370,
          "level_prices": 12.99,
          "log_dmd": 1.9459101490553128,
          "per_firm_t": 28,
          "rolling_std_upc": 0,
          "t": 35,
          "xs": 6272.699999999998
         },
         {
          "Unnamed: 0": 328,
          "firm": 256370,
          "level_prices": 13.99,
          "log_dmd": 1.0986122886681098,
          "per_firm_t": 29,
          "rolling_std_upc": 0.4330127018921752,
          "t": 36,
          "xs": 6272.699999999998
         },
         {
          "Unnamed: 0": 329,
          "firm": 256370,
          "level_prices": 13.99,
          "log_dmd": 0,
          "per_firm_t": 30,
          "rolling_std_upc": 0.4999999999999609,
          "t": 37,
          "xs": 6272.699999999998
         },
         {
          "Unnamed: 0": 330,
          "firm": 256370,
          "level_prices": 13.99,
          "log_dmd": 1.0986122886681098,
          "per_firm_t": 31,
          "rolling_std_upc": 0.4330127018921732,
          "t": 38,
          "xs": 6272.699999999998
         },
         {
          "Unnamed: 0": 331,
          "firm": 256370,
          "level_prices": 13.99,
          "log_dmd": 1.3862943611198906,
          "per_firm_t": 32,
          "rolling_std_upc": 0,
          "t": 39,
          "xs": 6272.699999999998
         },
         {
          "Unnamed: 0": 332,
          "firm": 256370,
          "level_prices": 13.99,
          "log_dmd": 1.6094379124341005,
          "per_firm_t": 33,
          "rolling_std_upc": 0,
          "t": 40,
          "xs": 6272.699999999998
         },
         {
          "Unnamed: 0": 333,
          "firm": 256370,
          "level_prices": 13.99,
          "log_dmd": 1.3862943611198906,
          "per_firm_t": 34,
          "rolling_std_upc": 0,
          "t": 41,
          "xs": 6272.699999999998
         },
         {
          "Unnamed: 0": 334,
          "firm": 256370,
          "level_prices": 10.99,
          "log_dmd": 1.6094379124341005,
          "per_firm_t": 35,
          "rolling_std_upc": 1.2990381056766434,
          "t": 42,
          "xs": 6272.699999999998
         },
         {
          "Unnamed: 0": 335,
          "firm": 256370,
          "level_prices": 10.99,
          "log_dmd": 2.079441541679836,
          "per_firm_t": 36,
          "rolling_std_upc": 1.4999999999999882,
          "t": 43,
          "xs": 6272.699999999998
         },
         {
          "Unnamed: 0": 336,
          "firm": 256370,
          "level_prices": 13.99,
          "log_dmd": 1.6094379124341005,
          "per_firm_t": 37,
          "rolling_std_upc": 1.4999999999999882,
          "t": 44,
          "xs": 6272.699999999998
         },
         {
          "Unnamed: 0": 337,
          "firm": 256370,
          "level_prices": 13.99,
          "log_dmd": 1.0986122886681098,
          "per_firm_t": 38,
          "rolling_std_upc": 1.4999999999999882,
          "t": 45,
          "xs": 6272.699999999998
         },
         {
          "Unnamed: 0": 338,
          "firm": 256370,
          "level_prices": 13.99,
          "log_dmd": 0.6931471805599453,
          "per_firm_t": 39,
          "rolling_std_upc": 1.2990381056766434,
          "t": 46,
          "xs": 6272.699999999998
         },
         {
          "Unnamed: 0": 339,
          "firm": 256370,
          "level_prices": 13.99,
          "log_dmd": 2.302585092994046,
          "per_firm_t": 40,
          "rolling_std_upc": 0,
          "t": 47,
          "xs": 6272.699999999998
         },
         {
          "Unnamed: 0": 340,
          "firm": 256370,
          "level_prices": 9.99,
          "log_dmd": 3.4657359027997265,
          "per_firm_t": 41,
          "rolling_std_upc": 1.7320508075688663,
          "t": 48,
          "xs": 6272.699999999998
         },
         {
          "Unnamed: 0": 341,
          "firm": 256370,
          "level_prices": 9.99,
          "log_dmd": 1.3862943611198906,
          "per_firm_t": 42,
          "rolling_std_upc": 1.999999999999992,
          "t": 49,
          "xs": 6272.699999999998
         },
         {
          "Unnamed: 0": 343,
          "firm": 256420,
          "level_prices": 10.99,
          "log_dmd": 0.6931471805599453,
          "per_firm_t": 1,
          "rolling_std_upc": 0.8660254037844186,
          "t": 1,
          "xs": 3773.300000000001
         },
         {
          "Unnamed: 0": 344,
          "firm": 256420,
          "level_prices": 10.99,
          "log_dmd": 0.6931471805599453,
          "per_firm_t": 1,
          "rolling_std_upc": 0.8660254037844186,
          "t": 2,
          "xs": 3773.300000000001
         },
         {
          "Unnamed: 0": 345,
          "firm": 256420,
          "level_prices": 10.99,
          "log_dmd": 0.6931471805599453,
          "per_firm_t": 1,
          "rolling_std_upc": 0.8660254037844186,
          "t": 3,
          "xs": 3773.300000000001
         },
         {
          "Unnamed: 0": 346,
          "firm": 256420,
          "level_prices": 10.99,
          "log_dmd": 0.6931471805599453,
          "per_firm_t": 1,
          "rolling_std_upc": 0.8660254037844186,
          "t": 4,
          "xs": 3773.300000000001
         },
         {
          "Unnamed: 0": 347,
          "firm": 256420,
          "level_prices": 10.99,
          "log_dmd": 0.6931471805599453,
          "per_firm_t": 1,
          "rolling_std_upc": 0.8660254037844186,
          "t": 5,
          "xs": 3773.300000000001
         },
         {
          "Unnamed: 0": 391,
          "firm": 256420,
          "level_prices": 10.99,
          "log_dmd": 0.6931471805599453,
          "per_firm_t": 1,
          "rolling_std_upc": 0.8660254037844186,
          "t": 6,
          "xs": 3773.300000000001
         },
         {
          "Unnamed: 0": 348,
          "firm": 256420,
          "level_prices": 10.99,
          "log_dmd": 0.6931471805599453,
          "per_firm_t": 1,
          "rolling_std_upc": 0.8660254037844186,
          "t": 7,
          "xs": 3773.300000000001
         },
         {
          "Unnamed: 0": 349,
          "firm": 256420,
          "level_prices": 10.99,
          "log_dmd": 0.6931471805599453,
          "per_firm_t": 1,
          "rolling_std_upc": 0.8660254037844186,
          "t": 8,
          "xs": 3773.300000000001
         },
         {
          "Unnamed: 0": 350,
          "firm": 256420,
          "level_prices": 10.99,
          "log_dmd": 0.6931471805599453,
          "per_firm_t": 1,
          "rolling_std_upc": 0.8660254037844186,
          "t": 9,
          "xs": 3773.300000000001
         },
         {
          "Unnamed: 0": 351,
          "firm": 256420,
          "level_prices": 10.99,
          "log_dmd": 0.6931471805599453,
          "per_firm_t": 2,
          "rolling_std_upc": 0.9999999999999836,
          "t": 10,
          "xs": 3773.300000000001
         },
         {
          "Unnamed: 0": 352,
          "firm": 256420,
          "level_prices": 10.99,
          "log_dmd": 1.3862943611198906,
          "per_firm_t": 3,
          "rolling_std_upc": 0.8660254037844207,
          "t": 11,
          "xs": 3773.300000000001
         },
         {
          "Unnamed: 0": 353,
          "firm": 256420,
          "level_prices": 11.656666666666665,
          "log_dmd": 1.0986122886681098,
          "per_firm_t": 4,
          "rolling_std_upc": 0.28867513459476063,
          "t": 12,
          "xs": 3773.300000000001
         },
         {
          "Unnamed: 0": 354,
          "firm": 256420,
          "level_prices": 11.99,
          "log_dmd": 1.6094379124341005,
          "per_firm_t": 5,
          "rolling_std_upc": 0.4330127018921838,
          "t": 13,
          "xs": 3773.300000000001
         },
         {
          "Unnamed: 0": 355,
          "firm": 256420,
          "level_prices": 11.99,
          "log_dmd": 1.6094379124341005,
          "per_firm_t": 6,
          "rolling_std_upc": 0.4082482904638246,
          "t": 14,
          "xs": 3773.300000000001
         },
         {
          "Unnamed: 0": 356,
          "firm": 256420,
          "level_prices": 12.656666666666665,
          "log_dmd": 1.0986122886681098,
          "per_firm_t": 7,
          "rolling_std_upc": 0.36324157862834494,
          "t": 15,
          "xs": 3773.300000000001
         },
         {
          "Unnamed: 0": 357,
          "firm": 256420,
          "level_prices": 12.989999999999998,
          "log_dmd": 2.3978952727983707,
          "per_firm_t": 8,
          "rolling_std_upc": 0.43301270189218105,
          "t": 16,
          "xs": 3773.300000000001
         },
         {
          "Unnamed: 0": 358,
          "firm": 256420,
          "level_prices": 12.99,
          "log_dmd": 0.6931471805599453,
          "per_firm_t": 9,
          "rolling_std_upc": 0.4082482904638228,
          "t": 17,
          "xs": 3773.300000000001
         },
         {
          "Unnamed: 0": 359,
          "firm": 256420,
          "level_prices": 12.99,
          "log_dmd": 1.0986122886681098,
          "per_firm_t": 10,
          "rolling_std_upc": 0.1443375672972936,
          "t": 18,
          "xs": 3773.300000000001
         },
         {
          "Unnamed: 0": 360,
          "firm": 256420,
          "level_prices": 12.99,
          "log_dmd": 1.3862943611198906,
          "per_firm_t": 11,
          "rolling_std_upc": 0,
          "t": 19,
          "xs": 3773.300000000001
         },
         {
          "Unnamed: 0": 361,
          "firm": 256420,
          "level_prices": 12.99,
          "log_dmd": 1.9459101490553128,
          "per_firm_t": 12,
          "rolling_std_upc": 0,
          "t": 20,
          "xs": 3773.300000000001
         },
         {
          "Unnamed: 0": 362,
          "firm": 256420,
          "level_prices": 12.99,
          "log_dmd": 0.6931471805599453,
          "per_firm_t": 13,
          "rolling_std_upc": 0,
          "t": 21,
          "xs": 3773.300000000001
         },
         {
          "Unnamed: 0": 363,
          "firm": 256420,
          "level_prices": 12.99,
          "log_dmd": 1.791759469228055,
          "per_firm_t": 14,
          "rolling_std_upc": 0,
          "t": 22,
          "xs": 3773.300000000001
         },
         {
          "Unnamed: 0": 364,
          "firm": 256420,
          "level_prices": 12.99,
          "log_dmd": 1.3862943611198906,
          "per_firm_t": 15,
          "rolling_std_upc": 0,
          "t": 23,
          "xs": 3773.300000000001
         },
         {
          "Unnamed: 0": 365,
          "firm": 256420,
          "level_prices": 12.99,
          "log_dmd": 1.3862943611198906,
          "per_firm_t": 16,
          "rolling_std_upc": 0,
          "t": 24,
          "xs": 3773.300000000001
         },
         {
          "Unnamed: 0": 366,
          "firm": 256420,
          "level_prices": 12.99,
          "log_dmd": 1.3862943611198906,
          "per_firm_t": 17,
          "rolling_std_upc": 0,
          "t": 25,
          "xs": 3773.300000000001
         },
         {
          "Unnamed: 0": 367,
          "firm": 256420,
          "level_prices": 12.99,
          "log_dmd": 1.791759469228055,
          "per_firm_t": 18,
          "rolling_std_upc": 0,
          "t": 26,
          "xs": 3773.300000000001
         },
         {
          "Unnamed: 0": 368,
          "firm": 256420,
          "level_prices": 12.99,
          "log_dmd": 1.791759469228055,
          "per_firm_t": 19,
          "rolling_std_upc": 0,
          "t": 27,
          "xs": 3773.300000000001
         },
         {
          "Unnamed: 0": 369,
          "firm": 256420,
          "level_prices": 12.99,
          "log_dmd": 1.791759469228055,
          "per_firm_t": 20,
          "rolling_std_upc": 0,
          "t": 28,
          "xs": 3773.300000000001
         },
         {
          "Unnamed: 0": 370,
          "firm": 256420,
          "level_prices": 12.99,
          "log_dmd": 1.3862943611198906,
          "per_firm_t": 21,
          "rolling_std_upc": 0,
          "t": 29,
          "xs": 3773.300000000001
         },
         {
          "Unnamed: 0": 371,
          "firm": 256420,
          "level_prices": 12.99,
          "log_dmd": 1.9459101490553128,
          "per_firm_t": 22,
          "rolling_std_upc": 0,
          "t": 30,
          "xs": 3773.300000000001
         },
         {
          "Unnamed: 0": 372,
          "firm": 256420,
          "level_prices": 12.99,
          "log_dmd": 1.3862943611198906,
          "per_firm_t": 23,
          "rolling_std_upc": 0,
          "t": 31,
          "xs": 3773.300000000001
         },
         {
          "Unnamed: 0": 373,
          "firm": 256420,
          "level_prices": 12.99,
          "log_dmd": 1.3862943611198906,
          "per_firm_t": 24,
          "rolling_std_upc": 0,
          "t": 32,
          "xs": 3773.300000000001
         },
         {
          "Unnamed: 0": 374,
          "firm": 256420,
          "level_prices": 12.99,
          "log_dmd": 0.6931471805599453,
          "per_firm_t": 25,
          "rolling_std_upc": 0,
          "t": 33,
          "xs": 3773.300000000001
         },
         {
          "Unnamed: 0": 375,
          "firm": 256420,
          "level_prices": 11.99,
          "log_dmd": 1.6094379124341005,
          "per_firm_t": 26,
          "rolling_std_upc": 0.4330127018921817,
          "t": 34,
          "xs": 3773.300000000001
         },
         {
          "Unnamed: 0": 376,
          "firm": 256420,
          "level_prices": 12.656666666666665,
          "log_dmd": 1.791759469228055,
          "per_firm_t": 27,
          "rolling_std_upc": 0.4082482904638231,
          "t": 35,
          "xs": 3773.300000000001
         },
         {
          "Unnamed: 0": 377,
          "firm": 256420,
          "level_prices": 11.99,
          "log_dmd": 1.3862943611198906,
          "per_firm_t": 28,
          "rolling_std_upc": 0.4330127018921813,
          "t": 36,
          "xs": 3773.300000000001
         },
         {
          "Unnamed: 0": 378,
          "firm": 256420,
          "level_prices": 11.99,
          "log_dmd": 0.6931471805599453,
          "per_firm_t": 29,
          "rolling_std_upc": 0.2886751345947553,
          "t": 37,
          "xs": 3773.300000000001
         },
         {
          "Unnamed: 0": 379,
          "firm": 256420,
          "level_prices": 12.59,
          "log_dmd": 1.6094379124341005,
          "per_firm_t": 30,
          "rolling_std_upc": 0.3175426480542419,
          "t": 38,
          "xs": 3773.300000000001
         },
         {
          "Unnamed: 0": 380,
          "firm": 256420,
          "level_prices": 12.99,
          "log_dmd": 1.3862943611198906,
          "per_firm_t": 31,
          "rolling_std_upc": 0.4242640687118896,
          "t": 39,
          "xs": 3773.300000000001
         },
         {
          "Unnamed: 0": 381,
          "firm": 256420,
          "level_prices": 12.99,
          "log_dmd": 1.6094379124341005,
          "per_firm_t": 32,
          "rolling_std_upc": 0.4092676385935817,
          "t": 40,
          "xs": 3773.300000000001
         },
         {
          "Unnamed: 0": 382,
          "firm": 256420,
          "level_prices": 12.99,
          "log_dmd": 1.0986122886681098,
          "per_firm_t": 33,
          "rolling_std_upc": 0.17320508075679114,
          "t": 41,
          "xs": 3773.300000000001
         },
         {
          "Unnamed: 0": 383,
          "firm": 256420,
          "level_prices": 12.99,
          "log_dmd": 1.791759469228055,
          "per_firm_t": 34,
          "rolling_std_upc": 0,
          "t": 42,
          "xs": 3773.300000000001
         },
         {
          "Unnamed: 0": 384,
          "firm": 256420,
          "level_prices": 12.99,
          "log_dmd": 1.3862943611198906,
          "per_firm_t": 35,
          "rolling_std_upc": 0,
          "t": 43,
          "xs": 3773.300000000001
         },
         {
          "Unnamed: 0": 385,
          "firm": 256420,
          "level_prices": 12.89,
          "log_dmd": 1.0986122886681098,
          "per_firm_t": 36,
          "rolling_std_upc": 0.04330127018883433,
          "t": 44,
          "xs": 3773.300000000001
         },
         {
          "Unnamed: 0": 386,
          "firm": 256420,
          "level_prices": 12.89,
          "log_dmd": 1.0986122886681098,
          "per_firm_t": 37,
          "rolling_std_upc": 0.04999999999966395,
          "t": 45,
          "xs": 3773.300000000001
         },
         {
          "Unnamed: 0": 387,
          "firm": 256420,
          "level_prices": 12.89,
          "log_dmd": 1.0986122886681098,
          "per_firm_t": 38,
          "rolling_std_upc": 0.04330127018883331,
          "t": 46,
          "xs": 3773.300000000001
         },
         {
          "Unnamed: 0": 388,
          "firm": 256420,
          "level_prices": 12.89,
          "log_dmd": 2.3978952727983707,
          "per_firm_t": 39,
          "rolling_std_upc": 0,
          "t": 47,
          "xs": 3773.300000000001
         },
         {
          "Unnamed: 0": 389,
          "firm": 256420,
          "level_prices": 12.89,
          "log_dmd": 0,
          "per_firm_t": 40,
          "rolling_std_upc": 0,
          "t": 48,
          "xs": 3773.300000000001
         },
         {
          "Unnamed: 0": 390,
          "firm": 256420,
          "level_prices": 12.89,
          "log_dmd": 1.3862943611198906,
          "per_firm_t": 41,
          "rolling_std_upc": 0,
          "t": 49,
          "xs": 3773.300000000001
         },
         {
          "Unnamed: 0": 392,
          "firm": 258282,
          "level_prices": 12.99,
          "log_dmd": 0.6931471805599453,
          "per_firm_t": 1,
          "rolling_std_upc": 0.205536785929728,
          "t": 1,
          "xs": 23411.090000000004
         },
         {
          "Unnamed: 0": 393,
          "firm": 258282,
          "level_prices": 12.99,
          "log_dmd": 0.6931471805599453,
          "per_firm_t": 1,
          "rolling_std_upc": 0.205536785929728,
          "t": 2,
          "xs": 23411.090000000004
         },
         {
          "Unnamed: 0": 394,
          "firm": 258282,
          "level_prices": 12.99,
          "log_dmd": 0.6931471805599453,
          "per_firm_t": 1,
          "rolling_std_upc": 0.205536785929728,
          "t": 3,
          "xs": 23411.090000000004
         },
         {
          "Unnamed: 0": 395,
          "firm": 258282,
          "level_prices": 12.99,
          "log_dmd": 0.6931471805599453,
          "per_firm_t": 1,
          "rolling_std_upc": 0.205536785929728,
          "t": 4,
          "xs": 23411.090000000004
         },
         {
          "Unnamed: 0": 396,
          "firm": 258282,
          "level_prices": 12.99,
          "log_dmd": 0.6931471805599453,
          "per_firm_t": 1,
          "rolling_std_upc": 0.205536785929728,
          "t": 5,
          "xs": 23411.090000000004
         },
         {
          "Unnamed: 0": 440,
          "firm": 258282,
          "level_prices": 12.99,
          "log_dmd": 0.6931471805599453,
          "per_firm_t": 1,
          "rolling_std_upc": 0.205536785929728,
          "t": 6,
          "xs": 23411.090000000004
         },
         {
          "Unnamed: 0": 397,
          "firm": 258282,
          "level_prices": 12.99,
          "log_dmd": 0.6931471805599453,
          "per_firm_t": 1,
          "rolling_std_upc": 0.205536785929728,
          "t": 7,
          "xs": 23411.090000000004
         },
         {
          "Unnamed: 0": 398,
          "firm": 258282,
          "level_prices": 12.99,
          "log_dmd": 0.6931471805599453,
          "per_firm_t": 1,
          "rolling_std_upc": 0.205536785929728,
          "t": 8,
          "xs": 23411.090000000004
         },
         {
          "Unnamed: 0": 399,
          "firm": 258282,
          "level_prices": 12.99,
          "log_dmd": 1.3862943611198906,
          "per_firm_t": 2,
          "rolling_std_upc": 0.2499999999999055,
          "t": 9,
          "xs": 23411.090000000004
         },
         {
          "Unnamed: 0": 400,
          "firm": 258282,
          "level_prices": 12.99,
          "log_dmd": 2.4849066497880004,
          "per_firm_t": 3,
          "rolling_std_upc": 0.2165063509460016,
          "t": 10,
          "xs": 23411.090000000004
         },
         {
          "Unnamed: 0": 401,
          "firm": 258282,
          "level_prices": 12.99,
          "log_dmd": 0.6931471805599453,
          "per_firm_t": 4,
          "rolling_std_upc": 0,
          "t": 11,
          "xs": 23411.090000000004
         },
         {
          "Unnamed: 0": 402,
          "firm": 258282,
          "level_prices": 12.99,
          "log_dmd": 1.6094379124341005,
          "per_firm_t": 5,
          "rolling_std_upc": 0,
          "t": 12,
          "xs": 23411.090000000004
         },
         {
          "Unnamed: 0": 403,
          "firm": 258282,
          "level_prices": 12.99,
          "log_dmd": 1.791759469228055,
          "per_firm_t": 6,
          "rolling_std_upc": 0,
          "t": 13,
          "xs": 23411.090000000004
         },
         {
          "Unnamed: 0": 404,
          "firm": 258282,
          "level_prices": 12.99,
          "log_dmd": 3.218875824868201,
          "per_firm_t": 7,
          "rolling_std_upc": 0,
          "t": 14,
          "xs": 23411.090000000004
         },
         {
          "Unnamed: 0": 405,
          "firm": 258282,
          "level_prices": 9.99,
          "log_dmd": 4.812184355372417,
          "per_firm_t": 8,
          "rolling_std_upc": 1.2990381056766414,
          "t": 15,
          "xs": 23411.090000000004
         },
         {
          "Unnamed: 0": 406,
          "firm": 258282,
          "level_prices": 9.99,
          "log_dmd": 3.4011973816621555,
          "per_firm_t": 9,
          "rolling_std_upc": 1.4999999999999865,
          "t": 16,
          "xs": 23411.090000000004
         },
         {
          "Unnamed: 0": 407,
          "firm": 258282,
          "level_prices": 12.989999999999998,
          "log_dmd": 3.0910424533583165,
          "per_firm_t": 10,
          "rolling_std_upc": 1.4999999999999858,
          "t": 17,
          "xs": 23411.090000000004
         },
         {
          "Unnamed: 0": 408,
          "firm": 258282,
          "level_prices": 12.989999999999998,
          "log_dmd": 2.3978952727983707,
          "per_firm_t": 11,
          "rolling_std_upc": 1.4999999999999856,
          "t": 18,
          "xs": 23411.090000000004
         },
         {
          "Unnamed: 0": 409,
          "firm": 258282,
          "level_prices": 12.99,
          "log_dmd": 2.772588722239781,
          "per_firm_t": 12,
          "rolling_std_upc": 1.2990381056766402,
          "t": 19,
          "xs": 23411.090000000004
         },
         {
          "Unnamed: 0": 410,
          "firm": 258282,
          "level_prices": 12.99,
          "log_dmd": 2.8903717578961645,
          "per_firm_t": 13,
          "rolling_std_upc": 0,
          "t": 20,
          "xs": 23411.090000000004
         },
         {
          "Unnamed: 0": 411,
          "firm": 258282,
          "level_prices": 12.99,
          "log_dmd": 2.8332133440562166,
          "per_firm_t": 14,
          "rolling_std_upc": 0,
          "t": 21,
          "xs": 23411.090000000004
         },
         {
          "Unnamed: 0": 412,
          "firm": 258282,
          "level_prices": 12.99,
          "log_dmd": 2.079441541679836,
          "per_firm_t": 15,
          "rolling_std_upc": 0,
          "t": 22,
          "xs": 23411.090000000004
         },
         {
          "Unnamed: 0": 413,
          "firm": 258282,
          "level_prices": 12.99,
          "log_dmd": 2.5649493574615367,
          "per_firm_t": 16,
          "rolling_std_upc": 0,
          "t": 23,
          "xs": 23411.090000000004
         },
         {
          "Unnamed: 0": 414,
          "firm": 258282,
          "level_prices": 12.99,
          "log_dmd": 2.9957322735539913,
          "per_firm_t": 17,
          "rolling_std_upc": 0,
          "t": 24,
          "xs": 23411.090000000004
         },
         {
          "Unnamed: 0": 415,
          "firm": 258282,
          "level_prices": 12.99,
          "log_dmd": 2.9957322735539913,
          "per_firm_t": 18,
          "rolling_std_upc": 0,
          "t": 25,
          "xs": 23411.090000000004
         },
         {
          "Unnamed: 0": 416,
          "firm": 258282,
          "level_prices": 12.99,
          "log_dmd": 2.8903717578961645,
          "per_firm_t": 19,
          "rolling_std_upc": 0,
          "t": 26,
          "xs": 23411.090000000004
         },
         {
          "Unnamed: 0": 417,
          "firm": 258282,
          "level_prices": 12.99,
          "log_dmd": 2.5649493574615367,
          "per_firm_t": 20,
          "rolling_std_upc": 0,
          "t": 27,
          "xs": 23411.090000000004
         },
         {
          "Unnamed: 0": 418,
          "firm": 258282,
          "level_prices": 12.99,
          "log_dmd": 2.8332133440562166,
          "per_firm_t": 21,
          "rolling_std_upc": 0,
          "t": 28,
          "xs": 23411.090000000004
         },
         {
          "Unnamed: 0": 419,
          "firm": 258282,
          "level_prices": 12.99,
          "log_dmd": 2.9957322735539913,
          "per_firm_t": 22,
          "rolling_std_upc": 0,
          "t": 29,
          "xs": 23411.090000000004
         },
         {
          "Unnamed: 0": 420,
          "firm": 258282,
          "level_prices": 12.99,
          "log_dmd": 2.5649493574615367,
          "per_firm_t": 23,
          "rolling_std_upc": 0,
          "t": 30,
          "xs": 23411.090000000004
         },
         {
          "Unnamed: 0": 421,
          "firm": 258282,
          "level_prices": 12.989999999999998,
          "log_dmd": 2.3978952727983707,
          "per_firm_t": 24,
          "rolling_std_upc": 0,
          "t": 31,
          "xs": 23411.090000000004
         },
         {
          "Unnamed: 0": 422,
          "firm": 258282,
          "level_prices": 12.99,
          "log_dmd": 2.19722457733622,
          "per_firm_t": 25,
          "rolling_std_upc": 0,
          "t": 32,
          "xs": 23411.090000000004
         },
         {
          "Unnamed: 0": 423,
          "firm": 258282,
          "level_prices": 12.99,
          "log_dmd": 2.6390573296152584,
          "per_firm_t": 26,
          "rolling_std_upc": 0,
          "t": 33,
          "xs": 23411.090000000004
         },
         {
          "Unnamed: 0": 424,
          "firm": 258282,
          "level_prices": 12.99,
          "log_dmd": 2.9957322735539913,
          "per_firm_t": 27,
          "rolling_std_upc": 0,
          "t": 34,
          "xs": 23411.090000000004
         },
         {
          "Unnamed: 0": 425,
          "firm": 258282,
          "level_prices": 12.99,
          "log_dmd": 3.258096538021482,
          "per_firm_t": 28,
          "rolling_std_upc": 0,
          "t": 35,
          "xs": 23411.090000000004
         },
         {
          "Unnamed: 0": 426,
          "firm": 258282,
          "level_prices": 13.99,
          "log_dmd": 2.302585092994046,
          "per_firm_t": 29,
          "rolling_std_upc": 0.4330127018921619,
          "t": 36,
          "xs": 23411.090000000004
         },
         {
          "Unnamed: 0": 427,
          "firm": 258282,
          "level_prices": 13.99,
          "log_dmd": 2.079441541679836,
          "per_firm_t": 30,
          "rolling_std_upc": 0.4999999999999494,
          "t": 37,
          "xs": 23411.090000000004
         },
         {
          "Unnamed: 0": 428,
          "firm": 258282,
          "level_prices": 13.99,
          "log_dmd": 2.5649493574615367,
          "per_firm_t": 31,
          "rolling_std_upc": 0.4330127018921599,
          "t": 38,
          "xs": 23411.090000000004
         },
         {
          "Unnamed: 0": 429,
          "firm": 258282,
          "level_prices": 13.99,
          "log_dmd": 1.791759469228055,
          "per_firm_t": 32,
          "rolling_std_upc": 0,
          "t": 39,
          "xs": 23411.090000000004
         },
         {
          "Unnamed: 0": 430,
          "firm": 258282,
          "level_prices": 13.989999999999998,
          "log_dmd": 2.3978952727983707,
          "per_firm_t": 33,
          "rolling_std_upc": 0,
          "t": 40,
          "xs": 23411.090000000004
         },
         {
          "Unnamed: 0": 431,
          "firm": 258282,
          "level_prices": 13.99,
          "log_dmd": 2.7080502011022096,
          "per_firm_t": 34,
          "rolling_std_upc": 0,
          "t": 41,
          "xs": 23411.090000000004
         },
         {
          "Unnamed: 0": 432,
          "firm": 258282,
          "level_prices": 10.99,
          "log_dmd": 3.9889840465642745,
          "per_firm_t": 35,
          "rolling_std_upc": 1.2990381056766391,
          "t": 42,
          "xs": 23411.090000000004
         },
         {
          "Unnamed: 0": 433,
          "firm": 258282,
          "level_prices": 10.99,
          "log_dmd": 2.4849066497880004,
          "per_firm_t": 36,
          "rolling_std_upc": 1.4999999999999842,
          "t": 43,
          "xs": 23411.090000000004
         },
         {
          "Unnamed: 0": 434,
          "firm": 258282,
          "level_prices": 13.989999999999998,
          "log_dmd": 2.3978952727983707,
          "per_firm_t": 37,
          "rolling_std_upc": 1.4999999999999842,
          "t": 44,
          "xs": 23411.090000000004
         },
         {
          "Unnamed: 0": 435,
          "firm": 258282,
          "level_prices": 13.99,
          "log_dmd": 2.9444389791664403,
          "per_firm_t": 38,
          "rolling_std_upc": 1.4999999999999842,
          "t": 45,
          "xs": 23411.090000000004
         },
         {
          "Unnamed: 0": 436,
          "firm": 258282,
          "level_prices": 13.99,
          "log_dmd": 2.8903717578961645,
          "per_firm_t": 39,
          "rolling_std_upc": 1.2990381056766391,
          "t": 46,
          "xs": 23411.090000000004
         },
         {
          "Unnamed: 0": 437,
          "firm": 258282,
          "level_prices": 13.99,
          "log_dmd": 3.912023005428147,
          "per_firm_t": 40,
          "rolling_std_upc": 0,
          "t": 47,
          "xs": 23411.090000000004
         },
         {
          "Unnamed: 0": 438,
          "firm": 258282,
          "level_prices": 9.99,
          "log_dmd": 5.313205979041787,
          "per_firm_t": 41,
          "rolling_std_upc": 1.7320508075688634,
          "t": 48,
          "xs": 23411.090000000004
         },
         {
          "Unnamed: 0": 439,
          "firm": 258282,
          "level_prices": 9.99,
          "log_dmd": 3.258096538021482,
          "per_firm_t": 42,
          "rolling_std_upc": 1.999999999999989,
          "t": 49,
          "xs": 23411.090000000004
         },
         {
          "Unnamed: 0": 441,
          "firm": 273064,
          "level_prices": 13.99,
          "log_dmd": 1.0986122886681098,
          "per_firm_t": 1,
          "rolling_std_upc": 1.67713110698,
          "t": 1,
          "xs": 6893.699999999998
         },
         {
          "Unnamed: 0": 442,
          "firm": 273064,
          "level_prices": 13.99,
          "log_dmd": 1.0986122886681098,
          "per_firm_t": 1,
          "rolling_std_upc": 1.67713110698,
          "t": 2,
          "xs": 6893.699999999998
         },
         {
          "Unnamed: 0": 443,
          "firm": 273064,
          "level_prices": 13.99,
          "log_dmd": 1.0986122886681098,
          "per_firm_t": 1,
          "rolling_std_upc": 1.67713110698,
          "t": 3,
          "xs": 6893.699999999998
         },
         {
          "Unnamed: 0": 444,
          "firm": 273064,
          "level_prices": 13.99,
          "log_dmd": 1.0986122886681098,
          "per_firm_t": 1,
          "rolling_std_upc": 1.67713110698,
          "t": 4,
          "xs": 6893.699999999998
         },
         {
          "Unnamed: 0": 445,
          "firm": 273064,
          "level_prices": 13.99,
          "log_dmd": 1.0986122886681098,
          "per_firm_t": 1,
          "rolling_std_upc": 1.67713110698,
          "t": 5,
          "xs": 6893.699999999998
         },
         {
          "Unnamed: 0": 489,
          "firm": 273064,
          "level_prices": 13.99,
          "log_dmd": 1.0986122886681098,
          "per_firm_t": 1,
          "rolling_std_upc": 1.67713110698,
          "t": 6,
          "xs": 6893.699999999998
         },
         {
          "Unnamed: 0": 446,
          "firm": 273064,
          "level_prices": 13.99,
          "log_dmd": 1.0986122886681098,
          "per_firm_t": 1,
          "rolling_std_upc": 1.67713110698,
          "t": 7,
          "xs": 6893.699999999998
         },
         {
          "Unnamed: 0": 447,
          "firm": 273064,
          "level_prices": 13.99,
          "log_dmd": 1.9459101490553128,
          "per_firm_t": 2,
          "rolling_std_upc": 1.5375365849305702,
          "t": 8,
          "xs": 6893.699999999998
         },
         {
          "Unnamed: 0": 448,
          "firm": 273064,
          "level_prices": 13.99,
          "log_dmd": 1.6094379124341005,
          "per_firm_t": 3,
          "rolling_std_upc": 0.4330127018921757,
          "t": 9,
          "xs": 6893.699999999998
         },
         {
          "Unnamed: 0": 449,
          "firm": 273064,
          "level_prices": 13.99,
          "log_dmd": 1.0986122886681098,
          "per_firm_t": 4,
          "rolling_std_upc": 0,
          "t": 10,
          "xs": 6893.699999999998
         },
         {
          "Unnamed: 0": 450,
          "firm": 273064,
          "level_prices": 13.99,
          "log_dmd": 1.791759469228055,
          "per_firm_t": 5,
          "rolling_std_upc": 0,
          "t": 11,
          "xs": 6893.699999999998
         },
         {
          "Unnamed: 0": 451,
          "firm": 273064,
          "level_prices": 13.99,
          "log_dmd": 2.4849066497880004,
          "per_firm_t": 6,
          "rolling_std_upc": 0,
          "t": 12,
          "xs": 6893.699999999998
         },
         {
          "Unnamed: 0": 452,
          "firm": 273064,
          "level_prices": 13.99,
          "log_dmd": 2.302585092994046,
          "per_firm_t": 7,
          "rolling_std_upc": 0,
          "t": 13,
          "xs": 6893.699999999998
         },
         {
          "Unnamed: 0": 453,
          "firm": 273064,
          "level_prices": 13.99,
          "log_dmd": 2.079441541679836,
          "per_firm_t": 8,
          "rolling_std_upc": 0,
          "t": 14,
          "xs": 6893.699999999998
         },
         {
          "Unnamed: 0": 454,
          "firm": 273064,
          "level_prices": 13.99,
          "log_dmd": 1.9459101490553128,
          "per_firm_t": 9,
          "rolling_std_upc": 0,
          "t": 15,
          "xs": 6893.699999999998
         },
         {
          "Unnamed: 0": 455,
          "firm": 273064,
          "level_prices": 13.99,
          "log_dmd": 2.079441541679836,
          "per_firm_t": 10,
          "rolling_std_upc": 0,
          "t": 16,
          "xs": 6893.699999999998
         },
         {
          "Unnamed: 0": 456,
          "firm": 273064,
          "level_prices": 13.99,
          "log_dmd": 1.0986122886681098,
          "per_firm_t": 11,
          "rolling_std_upc": 0,
          "t": 17,
          "xs": 6893.699999999998
         },
         {
          "Unnamed: 0": 457,
          "firm": 273064,
          "level_prices": 13.99,
          "log_dmd": 1.0986122886681098,
          "per_firm_t": 12,
          "rolling_std_upc": 0,
          "t": 18,
          "xs": 6893.699999999998
         },
         {
          "Unnamed: 0": 458,
          "firm": 273064,
          "level_prices": 13.99,
          "log_dmd": 2.079441541679836,
          "per_firm_t": 13,
          "rolling_std_upc": 0,
          "t": 19,
          "xs": 6893.699999999998
         },
         {
          "Unnamed: 0": 459,
          "firm": 273064,
          "level_prices": 13.99,
          "log_dmd": 2.079441541679836,
          "per_firm_t": 13,
          "rolling_std_upc": 0,
          "t": 20,
          "xs": 6893.699999999998
         },
         {
          "Unnamed: 0": 460,
          "firm": 273064,
          "level_prices": 13.99,
          "log_dmd": 0.6931471805599453,
          "per_firm_t": 15,
          "rolling_std_upc": 0,
          "t": 21,
          "xs": 6893.699999999998
         },
         {
          "Unnamed: 0": 461,
          "firm": 273064,
          "level_prices": 13.99,
          "log_dmd": 0.6931471805599453,
          "per_firm_t": 16,
          "rolling_std_upc": 0,
          "t": 22,
          "xs": 6893.699999999998
         },
         {
          "Unnamed: 0": 462,
          "firm": 273064,
          "level_prices": 13.99,
          "log_dmd": 1.9459101490553128,
          "per_firm_t": 17,
          "rolling_std_upc": 0,
          "t": 23,
          "xs": 6893.699999999998
         },
         {
          "Unnamed: 0": 463,
          "firm": 273064,
          "level_prices": 13.99,
          "log_dmd": 0,
          "per_firm_t": 18,
          "rolling_std_upc": 0,
          "t": 24,
          "xs": 6893.699999999998
         },
         {
          "Unnamed: 0": 464,
          "firm": 273064,
          "level_prices": 13.99,
          "log_dmd": 1.791759469228055,
          "per_firm_t": 19,
          "rolling_std_upc": 0,
          "t": 25,
          "xs": 6893.699999999998
         },
         {
          "Unnamed: 0": 465,
          "firm": 273064,
          "level_prices": 13.99,
          "log_dmd": 1.791759469228055,
          "per_firm_t": 20,
          "rolling_std_upc": 0,
          "t": 26,
          "xs": 6893.699999999998
         },
         {
          "Unnamed: 0": 466,
          "firm": 273064,
          "level_prices": 13.99,
          "log_dmd": 1.3862943611198906,
          "per_firm_t": 21,
          "rolling_std_upc": 0,
          "t": 27,
          "xs": 6893.699999999998
         },
         {
          "Unnamed: 0": 467,
          "firm": 273064,
          "level_prices": 13.99,
          "log_dmd": 0.6931471805599453,
          "per_firm_t": 22,
          "rolling_std_upc": 0,
          "t": 28,
          "xs": 6893.699999999998
         },
         {
          "Unnamed: 0": 468,
          "firm": 273064,
          "level_prices": 13.99,
          "log_dmd": 1.9459101490553128,
          "per_firm_t": 23,
          "rolling_std_upc": 0,
          "t": 29,
          "xs": 6893.699999999998
         },
         {
          "Unnamed: 0": 469,
          "firm": 273064,
          "level_prices": 13.99,
          "log_dmd": 1.9459101490553128,
          "per_firm_t": 24,
          "rolling_std_upc": 0,
          "t": 30,
          "xs": 6893.699999999998
         },
         {
          "Unnamed: 0": 470,
          "firm": 273064,
          "level_prices": 13.99,
          "log_dmd": 1.3862943611198906,
          "per_firm_t": 25,
          "rolling_std_upc": 0,
          "t": 31,
          "xs": 6893.699999999998
         },
         {
          "Unnamed: 0": 471,
          "firm": 273064,
          "level_prices": 13.99,
          "log_dmd": 1.9459101490553128,
          "per_firm_t": 26,
          "rolling_std_upc": 0,
          "t": 32,
          "xs": 6893.699999999998
         },
         {
          "Unnamed: 0": 472,
          "firm": 273064,
          "level_prices": 13.99,
          "log_dmd": 1.9459101490553128,
          "per_firm_t": 26,
          "rolling_std_upc": 0,
          "t": 33,
          "xs": 6893.699999999998
         },
         {
          "Unnamed: 0": 473,
          "firm": 273064,
          "level_prices": 13.99,
          "log_dmd": 1.0986122886681098,
          "per_firm_t": 28,
          "rolling_std_upc": 0,
          "t": 34,
          "xs": 6893.699999999998
         },
         {
          "Unnamed: 0": 474,
          "firm": 273064,
          "level_prices": 13.99,
          "log_dmd": 1.3862943611198906,
          "per_firm_t": 29,
          "rolling_std_upc": 0,
          "t": 35,
          "xs": 6893.699999999998
         },
         {
          "Unnamed: 0": 475,
          "firm": 273064,
          "level_prices": 13.99,
          "log_dmd": 1.3862943611198906,
          "per_firm_t": 30,
          "rolling_std_upc": 0,
          "t": 36,
          "xs": 6893.699999999998
         },
         {
          "Unnamed: 0": 476,
          "firm": 273064,
          "level_prices": 13.99,
          "log_dmd": 1.9459101490553128,
          "per_firm_t": 31,
          "rolling_std_upc": 0,
          "t": 37,
          "xs": 6893.699999999998
         },
         {
          "Unnamed: 0": 477,
          "firm": 273064,
          "level_prices": 13.99,
          "log_dmd": 1.791759469228055,
          "per_firm_t": 32,
          "rolling_std_upc": 0,
          "t": 38,
          "xs": 6893.699999999998
         },
         {
          "Unnamed: 0": 478,
          "firm": 273064,
          "level_prices": 13.99,
          "log_dmd": 1.791759469228055,
          "per_firm_t": 33,
          "rolling_std_upc": 0,
          "t": 39,
          "xs": 6893.699999999998
         },
         {
          "Unnamed: 0": 479,
          "firm": 273064,
          "level_prices": 13.99,
          "log_dmd": 0.6931471805599453,
          "per_firm_t": 34,
          "rolling_std_upc": 0,
          "t": 40,
          "xs": 6893.699999999998
         },
         {
          "Unnamed: 0": 480,
          "firm": 273064,
          "level_prices": 13.99,
          "log_dmd": 1.9459101490553128,
          "per_firm_t": 35,
          "rolling_std_upc": 0,
          "t": 41,
          "xs": 6893.699999999998
         },
         {
          "Unnamed: 0": 481,
          "firm": 273064,
          "level_prices": 13.99,
          "log_dmd": 2.079441541679836,
          "per_firm_t": 36,
          "rolling_std_upc": 0,
          "t": 42,
          "xs": 6893.699999999998
         },
         {
          "Unnamed: 0": 482,
          "firm": 273064,
          "level_prices": 13.99,
          "log_dmd": 2.19722457733622,
          "per_firm_t": 37,
          "rolling_std_upc": 0,
          "t": 43,
          "xs": 6893.699999999998
         },
         {
          "Unnamed: 0": 483,
          "firm": 273064,
          "level_prices": 13.99,
          "log_dmd": 1.791759469228055,
          "per_firm_t": 38,
          "rolling_std_upc": 0,
          "t": 44,
          "xs": 6893.699999999998
         },
         {
          "Unnamed: 0": 484,
          "firm": 273064,
          "level_prices": 13.989999999999998,
          "log_dmd": 2.3978952727983707,
          "per_firm_t": 39,
          "rolling_std_upc": 0,
          "t": 45,
          "xs": 6893.699999999998
         },
         {
          "Unnamed: 0": 485,
          "firm": 273064,
          "level_prices": 13.99,
          "log_dmd": 1.3862943611198906,
          "per_firm_t": 40,
          "rolling_std_upc": 0,
          "t": 46,
          "xs": 6893.699999999998
         },
         {
          "Unnamed: 0": 486,
          "firm": 273064,
          "level_prices": 13.99,
          "log_dmd": 2.079441541679836,
          "per_firm_t": 41,
          "rolling_std_upc": 0,
          "t": 47,
          "xs": 6893.699999999998
         },
         {
          "Unnamed: 0": 487,
          "firm": 273064,
          "level_prices": 13.99,
          "log_dmd": 0,
          "per_firm_t": 42,
          "rolling_std_upc": 0,
          "t": 48,
          "xs": 6893.699999999998
         },
         {
          "Unnamed: 0": 488,
          "firm": 273064,
          "level_prices": 13.99,
          "log_dmd": 1.9459101490553128,
          "per_firm_t": 43,
          "rolling_std_upc": 0,
          "t": 49,
          "xs": 6893.699999999998
         },
         {
          "Unnamed: 0": 490,
          "firm": 280286,
          "level_prices": 13.99,
          "log_dmd": 0,
          "per_firm_t": 1,
          "rolling_std_upc": 0.4330127018922085,
          "t": 1,
          "xs": 6669.039999999999
         },
         {
          "Unnamed: 0": 491,
          "firm": 280286,
          "level_prices": 13.99,
          "log_dmd": 0,
          "per_firm_t": 1,
          "rolling_std_upc": 0.4330127018922085,
          "t": 2,
          "xs": 6669.039999999999
         },
         {
          "Unnamed: 0": 492,
          "firm": 280286,
          "level_prices": 13.99,
          "log_dmd": 0,
          "per_firm_t": 1,
          "rolling_std_upc": 0.4330127018922085,
          "t": 3,
          "xs": 6669.039999999999
         },
         {
          "Unnamed: 0": 493,
          "firm": 280286,
          "level_prices": 13.99,
          "log_dmd": 0,
          "per_firm_t": 1,
          "rolling_std_upc": 0.4330127018922085,
          "t": 4,
          "xs": 6669.039999999999
         },
         {
          "Unnamed: 0": 494,
          "firm": 280286,
          "level_prices": 13.99,
          "log_dmd": 0,
          "per_firm_t": 1,
          "rolling_std_upc": 0.4330127018922085,
          "t": 5,
          "xs": 6669.039999999999
         },
         {
          "Unnamed: 0": 538,
          "firm": 280286,
          "level_prices": 13.99,
          "log_dmd": 0,
          "per_firm_t": 1,
          "rolling_std_upc": 0.4330127018922085,
          "t": 6,
          "xs": 6669.039999999999
         },
         {
          "Unnamed: 0": 495,
          "firm": 280286,
          "level_prices": 13.99,
          "log_dmd": 0,
          "per_firm_t": 1,
          "rolling_std_upc": 0.4330127018922085,
          "t": 7,
          "xs": 6669.039999999999
         },
         {
          "Unnamed: 0": 496,
          "firm": 280286,
          "level_prices": 13.99,
          "log_dmd": 0,
          "per_firm_t": 1,
          "rolling_std_upc": 0.4330127018922085,
          "t": 8,
          "xs": 6669.039999999999
         },
         {
          "Unnamed: 0": 497,
          "firm": 280286,
          "level_prices": 13.99,
          "log_dmd": 0,
          "per_firm_t": 3,
          "rolling_std_upc": 0.4999999999999915,
          "t": 9,
          "xs": 6669.039999999999
         },
         {
          "Unnamed: 0": 498,
          "firm": 280286,
          "level_prices": 13.99,
          "log_dmd": 0,
          "per_firm_t": 4,
          "rolling_std_upc": 0.4330127018922105,
          "t": 10,
          "xs": 6669.039999999999
         },
         {
          "Unnamed: 0": 499,
          "firm": 280286,
          "level_prices": 13.99,
          "log_dmd": 1.3862943611198906,
          "per_firm_t": 5,
          "rolling_std_upc": 0,
          "t": 11,
          "xs": 6669.039999999999
         },
         {
          "Unnamed: 0": 500,
          "firm": 280286,
          "level_prices": 13.99,
          "log_dmd": 2.302585092994046,
          "per_firm_t": 6,
          "rolling_std_upc": 0,
          "t": 12,
          "xs": 6669.039999999999
         },
         {
          "Unnamed: 0": 501,
          "firm": 280286,
          "level_prices": 13.99,
          "log_dmd": 1.9459101490553128,
          "per_firm_t": 7,
          "rolling_std_upc": 0,
          "t": 13,
          "xs": 6669.039999999999
         },
         {
          "Unnamed: 0": 502,
          "firm": 280286,
          "level_prices": 13.99,
          "log_dmd": 1.6094379124341005,
          "per_firm_t": 8,
          "rolling_std_upc": 0,
          "t": 14,
          "xs": 6669.039999999999
         },
         {
          "Unnamed: 0": 503,
          "firm": 280286,
          "level_prices": 13.99,
          "log_dmd": 1.6094379124341005,
          "per_firm_t": 9,
          "rolling_std_upc": 0,
          "t": 15,
          "xs": 6669.039999999999
         },
         {
          "Unnamed: 0": 504,
          "firm": 280286,
          "level_prices": 13.99,
          "log_dmd": 1.791759469228055,
          "per_firm_t": 10,
          "rolling_std_upc": 0,
          "t": 16,
          "xs": 6669.039999999999
         },
         {
          "Unnamed: 0": 505,
          "firm": 280286,
          "level_prices": 13.99,
          "log_dmd": 1.3862943611198906,
          "per_firm_t": 11,
          "rolling_std_upc": 0,
          "t": 17,
          "xs": 6669.039999999999
         },
         {
          "Unnamed: 0": 506,
          "firm": 280286,
          "level_prices": 13.99,
          "log_dmd": 1.791759469228055,
          "per_firm_t": 12,
          "rolling_std_upc": 0,
          "t": 18,
          "xs": 6669.039999999999
         },
         {
          "Unnamed: 0": 507,
          "firm": 280286,
          "level_prices": 13.99,
          "log_dmd": 1.3862943611198906,
          "per_firm_t": 13,
          "rolling_std_upc": 0,
          "t": 19,
          "xs": 6669.039999999999
         },
         {
          "Unnamed: 0": 508,
          "firm": 280286,
          "level_prices": 13.99,
          "log_dmd": 1.0986122886681098,
          "per_firm_t": 14,
          "rolling_std_upc": 0,
          "t": 20,
          "xs": 6669.039999999999
         },
         {
          "Unnamed: 0": 509,
          "firm": 280286,
          "level_prices": 13.99,
          "log_dmd": 1.0986122886681098,
          "per_firm_t": 15,
          "rolling_std_upc": 0,
          "t": 21,
          "xs": 6669.039999999999
         },
         {
          "Unnamed: 0": 510,
          "firm": 280286,
          "level_prices": 13.99,
          "log_dmd": 0.6931471805599453,
          "per_firm_t": 16,
          "rolling_std_upc": 0,
          "t": 22,
          "xs": 6669.039999999999
         },
         {
          "Unnamed: 0": 511,
          "firm": 280286,
          "level_prices": 13.99,
          "log_dmd": 1.0986122886681098,
          "per_firm_t": 17,
          "rolling_std_upc": 0,
          "t": 23,
          "xs": 6669.039999999999
         },
         {
          "Unnamed: 0": 512,
          "firm": 280286,
          "level_prices": 13.99,
          "log_dmd": 0,
          "per_firm_t": 18,
          "rolling_std_upc": 0,
          "t": 24,
          "xs": 6669.039999999999
         },
         {
          "Unnamed: 0": 513,
          "firm": 280286,
          "level_prices": 13.99,
          "log_dmd": 1.791759469228055,
          "per_firm_t": 19,
          "rolling_std_upc": 0,
          "t": 25,
          "xs": 6669.039999999999
         },
         {
          "Unnamed: 0": 514,
          "firm": 280286,
          "level_prices": 13.99,
          "log_dmd": 1.3862943611198906,
          "per_firm_t": 20,
          "rolling_std_upc": 0,
          "t": 26,
          "xs": 6669.039999999999
         },
         {
          "Unnamed: 0": 515,
          "firm": 280286,
          "level_prices": 13.99,
          "log_dmd": 1.0986122886681098,
          "per_firm_t": 21,
          "rolling_std_upc": 0,
          "t": 27,
          "xs": 6669.039999999999
         },
         {
          "Unnamed: 0": 516,
          "firm": 280286,
          "level_prices": 13.99,
          "log_dmd": 0.6931471805599453,
          "per_firm_t": 22,
          "rolling_std_upc": 0,
          "t": 28,
          "xs": 6669.039999999999
         },
         {
          "Unnamed: 0": 517,
          "firm": 280286,
          "level_prices": 13.99,
          "log_dmd": 0,
          "per_firm_t": 23,
          "rolling_std_upc": 0,
          "t": 29,
          "xs": 6669.039999999999
         },
         {
          "Unnamed: 0": 518,
          "firm": 280286,
          "level_prices": 13.99,
          "log_dmd": 1.0986122886681098,
          "per_firm_t": 24,
          "rolling_std_upc": 0,
          "t": 30,
          "xs": 6669.039999999999
         },
         {
          "Unnamed: 0": 519,
          "firm": 280286,
          "level_prices": 13.99,
          "log_dmd": 2.079441541679836,
          "per_firm_t": 25,
          "rolling_std_upc": 0,
          "t": 31,
          "xs": 6669.039999999999
         },
         {
          "Unnamed: 0": 520,
          "firm": 280286,
          "level_prices": 13.99,
          "log_dmd": 2.079441541679836,
          "per_firm_t": 26,
          "rolling_std_upc": 0,
          "t": 32,
          "xs": 6669.039999999999
         },
         {
          "Unnamed: 0": 521,
          "firm": 280286,
          "level_prices": 13.99,
          "log_dmd": 2.19722457733622,
          "per_firm_t": 27,
          "rolling_std_upc": 0,
          "t": 33,
          "xs": 6669.039999999999
         },
         {
          "Unnamed: 0": 522,
          "firm": 280286,
          "level_prices": 13.99,
          "log_dmd": 1.0986122886681098,
          "per_firm_t": 28,
          "rolling_std_upc": 0,
          "t": 34,
          "xs": 6669.039999999999
         },
         {
          "Unnamed: 0": 523,
          "firm": 280286,
          "level_prices": 13.99,
          "log_dmd": 1.9459101490553128,
          "per_firm_t": 29,
          "rolling_std_upc": 0,
          "t": 35,
          "xs": 6669.039999999999
         },
         {
          "Unnamed: 0": 524,
          "firm": 280286,
          "level_prices": 13.99,
          "log_dmd": 1.791759469228055,
          "per_firm_t": 30,
          "rolling_std_upc": 0,
          "t": 36,
          "xs": 6669.039999999999
         },
         {
          "Unnamed: 0": 525,
          "firm": 280286,
          "level_prices": 13.99,
          "log_dmd": 1.3862943611198906,
          "per_firm_t": 31,
          "rolling_std_upc": 0,
          "t": 37,
          "xs": 6669.039999999999
         },
         {
          "Unnamed: 0": 526,
          "firm": 280286,
          "level_prices": 13.99,
          "log_dmd": 1.6094379124341005,
          "per_firm_t": 32,
          "rolling_std_upc": 0,
          "t": 38,
          "xs": 6669.039999999999
         },
         {
          "Unnamed: 0": 527,
          "firm": 280286,
          "level_prices": 13.99,
          "log_dmd": 1.0986122886681098,
          "per_firm_t": 33,
          "rolling_std_upc": 0,
          "t": 39,
          "xs": 6669.039999999999
         },
         {
          "Unnamed: 0": 528,
          "firm": 280286,
          "level_prices": 13.99,
          "log_dmd": 1.9459101490553128,
          "per_firm_t": 34,
          "rolling_std_upc": 0,
          "t": 40,
          "xs": 6669.039999999999
         },
         {
          "Unnamed: 0": 529,
          "firm": 280286,
          "level_prices": 13.99,
          "log_dmd": 1.791759469228055,
          "per_firm_t": 35,
          "rolling_std_upc": 0,
          "t": 41,
          "xs": 6669.039999999999
         },
         {
          "Unnamed: 0": 530,
          "firm": 280286,
          "level_prices": 13.99,
          "log_dmd": 2.079441541679836,
          "per_firm_t": 36,
          "rolling_std_upc": 0,
          "t": 42,
          "xs": 6669.039999999999
         },
         {
          "Unnamed: 0": 531,
          "firm": 280286,
          "level_prices": 13.99,
          "log_dmd": 0.6931471805599453,
          "per_firm_t": 37,
          "rolling_std_upc": 0,
          "t": 43,
          "xs": 6669.039999999999
         },
         {
          "Unnamed: 0": 532,
          "firm": 280286,
          "level_prices": 13.99,
          "log_dmd": 1.9459101490553128,
          "per_firm_t": 38,
          "rolling_std_upc": 0,
          "t": 44,
          "xs": 6669.039999999999
         },
         {
          "Unnamed: 0": 533,
          "firm": 280286,
          "level_prices": 13.99,
          "log_dmd": 1.9459101490553128,
          "per_firm_t": 38,
          "rolling_std_upc": 0,
          "t": 45,
          "xs": 6669.039999999999
         },
         {
          "Unnamed: 0": 534,
          "firm": 280286,
          "level_prices": 13.99,
          "log_dmd": 1.9459101490553128,
          "per_firm_t": 40,
          "rolling_std_upc": 0,
          "t": 46,
          "xs": 6669.039999999999
         },
         {
          "Unnamed: 0": 535,
          "firm": 280286,
          "level_prices": 13.99,
          "log_dmd": 1.9459101490553128,
          "per_firm_t": 41,
          "rolling_std_upc": 0,
          "t": 47,
          "xs": 6669.039999999999
         },
         {
          "Unnamed: 0": 536,
          "firm": 280286,
          "level_prices": 13.99,
          "log_dmd": 2.302585092994046,
          "per_firm_t": 42,
          "rolling_std_upc": 0,
          "t": 48,
          "xs": 6669.039999999999
         },
         {
          "Unnamed: 0": 537,
          "firm": 280286,
          "level_prices": 13.99,
          "log_dmd": 1.9459101490553128,
          "per_firm_t": 43,
          "rolling_std_upc": 0,
          "t": 49,
          "xs": 6669.039999999999
         },
         {
          "Unnamed: 0": 539,
          "firm": 287236,
          "level_prices": 11.989999999999998,
          "log_dmd": 2.3978952727983707,
          "per_firm_t": 1,
          "rolling_std_upc": 0.8660254037844203,
          "t": 1,
          "xs": 10464.370000000004
         },
         {
          "Unnamed: 0": 540,
          "firm": 287236,
          "level_prices": 11.989999999999998,
          "log_dmd": 2.3978952727983707,
          "per_firm_t": 1,
          "rolling_std_upc": 0.8660254037844203,
          "t": 2,
          "xs": 10464.370000000004
         },
         {
          "Unnamed: 0": 541,
          "firm": 287236,
          "level_prices": 11.989999999999998,
          "log_dmd": 2.3978952727983707,
          "per_firm_t": 1,
          "rolling_std_upc": 0.8660254037844203,
          "t": 3,
          "xs": 10464.370000000004
         },
         {
          "Unnamed: 0": 542,
          "firm": 287236,
          "level_prices": 11.989999999999998,
          "log_dmd": 2.3978952727983707,
          "per_firm_t": 1,
          "rolling_std_upc": 0.8660254037844203,
          "t": 4,
          "xs": 10464.370000000004
         },
         {
          "Unnamed: 0": 543,
          "firm": 287236,
          "level_prices": 11.989999999999998,
          "log_dmd": 2.3978952727983707,
          "per_firm_t": 1,
          "rolling_std_upc": 0.8660254037844203,
          "t": 5,
          "xs": 10464.370000000004
         },
         {
          "Unnamed: 0": 587,
          "firm": 287236,
          "level_prices": 11.989999999999998,
          "log_dmd": 2.3978952727983707,
          "per_firm_t": 1,
          "rolling_std_upc": 0.8660254037844203,
          "t": 6,
          "xs": 10464.370000000004
         },
         {
          "Unnamed: 0": 544,
          "firm": 287236,
          "level_prices": 11.989999999999998,
          "log_dmd": 2.3978952727983707,
          "per_firm_t": 1,
          "rolling_std_upc": 0.8660254037844203,
          "t": 7,
          "xs": 10464.370000000004
         },
         {
          "Unnamed: 0": 545,
          "firm": 287236,
          "level_prices": 11.989999999999998,
          "log_dmd": 2.3978952727983707,
          "per_firm_t": 1,
          "rolling_std_upc": 0.8660254037844203,
          "t": 8,
          "xs": 10464.370000000004
         },
         {
          "Unnamed: 0": 546,
          "firm": 287236,
          "level_prices": 11.989999999999998,
          "log_dmd": 2.3978952727983707,
          "per_firm_t": 1,
          "rolling_std_upc": 0.8660254037844203,
          "t": 9,
          "xs": 10464.370000000004
         },
         {
          "Unnamed: 0": 547,
          "firm": 287236,
          "level_prices": 11.99,
          "log_dmd": 2.772588722239781,
          "per_firm_t": 2,
          "rolling_std_upc": 0.999999999999994,
          "t": 10,
          "xs": 10464.370000000004
         },
         {
          "Unnamed: 0": 548,
          "firm": 287236,
          "level_prices": 11.99,
          "log_dmd": 2.7080502011022096,
          "per_firm_t": 3,
          "rolling_std_upc": 0.8660254037844429,
          "t": 11,
          "xs": 10464.370000000004
         },
         {
          "Unnamed: 0": 549,
          "firm": 287236,
          "level_prices": 11.99,
          "log_dmd": 2.772588722239781,
          "per_firm_t": 4,
          "rolling_std_upc": 1.6391277313232422e-07,
          "t": 12,
          "xs": 10464.370000000004
         },
         {
          "Unnamed: 0": 550,
          "firm": 287236,
          "level_prices": 12.813529411764707,
          "log_dmd": 2.8332133440562166,
          "per_firm_t": 5,
          "rolling_std_upc": 0.3565986956759716,
          "t": 13,
          "xs": 10464.370000000004
         },
         {
          "Unnamed: 0": 551,
          "firm": 287236,
          "level_prices": 12.99,
          "log_dmd": 3.0445224377234235,
          "per_firm_t": 6,
          "rolling_std_upc": 0.4601319955047744,
          "t": 14,
          "xs": 10464.370000000004
         },
         {
          "Unnamed: 0": 552,
          "firm": 287236,
          "level_prices": 12.989999999999998,
          "log_dmd": 2.3978952727983707,
          "per_firm_t": 7,
          "rolling_std_upc": 0.41386021410206464,
          "t": 15,
          "xs": 10464.370000000004
         },
         {
          "Unnamed: 0": 553,
          "firm": 287236,
          "level_prices": 12.99,
          "log_dmd": 2.079441541679836,
          "per_firm_t": 8,
          "rolling_std_upc": 0.07641400621619222,
          "t": 16,
          "xs": 10464.370000000004
         },
         {
          "Unnamed: 0": 554,
          "firm": 287236,
          "level_prices": 13.49,
          "log_dmd": 1.0986122886681098,
          "per_firm_t": 9,
          "rolling_std_upc": 0.2165063509460653,
          "t": 17,
          "xs": 10464.370000000004
         },
         {
          "Unnamed: 0": 555,
          "firm": 287236,
          "level_prices": 13.49,
          "log_dmd": 1.6094379124341005,
          "per_firm_t": 10,
          "rolling_std_upc": 0.2499999999999518,
          "t": 18,
          "xs": 10464.370000000004
         },
         {
          "Unnamed: 0": 556,
          "firm": 287236,
          "level_prices": 13.489999999999998,
          "log_dmd": 2.3978952727983707,
          "per_firm_t": 11,
          "rolling_std_upc": 0.2165063509460417,
          "t": 19,
          "xs": 10464.370000000004
         },
         {
          "Unnamed: 0": 557,
          "firm": 287236,
          "level_prices": 13.49,
          "log_dmd": 2.5649493574615367,
          "per_firm_t": 12,
          "rolling_std_upc": 0,
          "t": 20,
          "xs": 10464.370000000004
         },
         {
          "Unnamed: 0": 558,
          "firm": 287236,
          "level_prices": 13.015,
          "log_dmd": 2.9957322735539913,
          "per_firm_t": 13,
          "rolling_std_upc": 0.20568103339873176,
          "t": 21,
          "xs": 10464.370000000004
         },
         {
          "Unnamed: 0": 559,
          "firm": 287236,
          "level_prices": 12.99,
          "log_dmd": 2.302585092994046,
          "per_firm_t": 14,
          "rolling_std_upc": 0.2439102037635469,
          "t": 22,
          "xs": 10464.370000000004
         },
         {
          "Unnamed: 0": 560,
          "firm": 287236,
          "level_prices": 12.99,
          "log_dmd": 2.4849066497880004,
          "per_firm_t": 15,
          "rolling_std_upc": 0.21314241131220246,
          "t": 23,
          "xs": 10464.370000000004
         },
         {
          "Unnamed: 0": 561,
          "firm": 287236,
          "level_prices": 12.99,
          "log_dmd": 2.772588722239781,
          "per_firm_t": 16,
          "rolling_std_upc": 0.010825317546606691,
          "t": 24,
          "xs": 10464.370000000004
         },
         {
          "Unnamed: 0": 562,
          "firm": 287236,
          "level_prices": 12.99,
          "log_dmd": 2.19722457733622,
          "per_firm_t": 17,
          "rolling_std_upc": 0,
          "t": 25,
          "xs": 10464.370000000004
         },
         {
          "Unnamed: 0": 563,
          "firm": 287236,
          "level_prices": 12.99,
          "log_dmd": 2.19722457733622,
          "per_firm_t": 18,
          "rolling_std_upc": 0,
          "t": 26,
          "xs": 10464.370000000004
         },
         {
          "Unnamed: 0": 564,
          "firm": 287236,
          "level_prices": 12.99,
          "log_dmd": 2.8332133440562166,
          "per_firm_t": 19,
          "rolling_std_upc": 0,
          "t": 27,
          "xs": 10464.370000000004
         },
         {
          "Unnamed: 0": 565,
          "firm": 287236,
          "level_prices": 12.99,
          "log_dmd": 2.302585092994046,
          "per_firm_t": 20,
          "rolling_std_upc": 0,
          "t": 28,
          "xs": 10464.370000000004
         },
         {
          "Unnamed: 0": 566,
          "firm": 287236,
          "level_prices": 12.99,
          "log_dmd": 2.9444389791664403,
          "per_firm_t": 21,
          "rolling_std_upc": 0,
          "t": 29,
          "xs": 10464.370000000004
         },
         {
          "Unnamed: 0": 567,
          "firm": 287236,
          "level_prices": 12.989999999999998,
          "log_dmd": 2.3978952727983707,
          "per_firm_t": 22,
          "rolling_std_upc": 0,
          "t": 30,
          "xs": 10464.370000000004
         },
         {
          "Unnamed: 0": 568,
          "firm": 287236,
          "level_prices": 12.989999999999998,
          "log_dmd": 3.0910424533583165,
          "per_firm_t": 23,
          "rolling_std_upc": 0,
          "t": 31,
          "xs": 10464.370000000004
         },
         {
          "Unnamed: 0": 569,
          "firm": 287236,
          "level_prices": 12.99,
          "log_dmd": 2.8332133440562166,
          "per_firm_t": 24,
          "rolling_std_upc": 0,
          "t": 32,
          "xs": 10464.370000000004
         },
         {
          "Unnamed: 0": 570,
          "firm": 287236,
          "level_prices": 12.99,
          "log_dmd": 3.0445224377234235,
          "per_firm_t": 25,
          "rolling_std_upc": 0,
          "t": 33,
          "xs": 10464.370000000004
         },
         {
          "Unnamed: 0": 571,
          "firm": 287236,
          "level_prices": 12.99,
          "log_dmd": 2.772588722239781,
          "per_firm_t": 26,
          "rolling_std_upc": 0,
          "t": 34,
          "xs": 10464.370000000004
         },
         {
          "Unnamed: 0": 572,
          "firm": 287236,
          "level_prices": 12.99,
          "log_dmd": 2.4849066497880004,
          "per_firm_t": 27,
          "rolling_std_upc": 0,
          "t": 35,
          "xs": 10464.370000000004
         },
         {
          "Unnamed: 0": 573,
          "firm": 287236,
          "level_prices": 10.99,
          "log_dmd": 2.7080502011022096,
          "per_firm_t": 28,
          "rolling_std_upc": 0.8660254037844414,
          "t": 36,
          "xs": 10464.370000000004
         },
         {
          "Unnamed: 0": 574,
          "firm": 287236,
          "level_prices": 11.767777777777773,
          "log_dmd": 2.8903717578961645,
          "per_firm_t": 29,
          "rolling_std_upc": 0.8511974136691522,
          "t": 37,
          "xs": 10464.370000000004
         },
         {
          "Unnamed: 0": 575,
          "firm": 287236,
          "level_prices": 12.99,
          "log_dmd": 1.6094379124341005,
          "per_firm_t": 30,
          "rolling_std_upc": 0.8511974136691522,
          "t": 38,
          "xs": 10464.370000000004
         },
         {
          "Unnamed: 0": 576,
          "firm": 287236,
          "level_prices": 12.99,
          "log_dmd": 2.9444389791664403,
          "per_firm_t": 31,
          "rolling_std_upc": 0.8511974136691522,
          "t": 39,
          "xs": 10464.370000000004
         },
         {
          "Unnamed: 0": 577,
          "firm": 287236,
          "level_prices": 12.99,
          "log_dmd": 2.4849066497880004,
          "per_firm_t": 32,
          "rolling_std_upc": 0.5292377467571543,
          "t": 40,
          "xs": 10464.370000000004
         },
         {
          "Unnamed: 0": 578,
          "firm": 287236,
          "level_prices": 12.99,
          "log_dmd": 2.6390573296152584,
          "per_firm_t": 33,
          "rolling_std_upc": 0,
          "t": 41,
          "xs": 10464.370000000004
         },
         {
          "Unnamed: 0": 579,
          "firm": 287236,
          "level_prices": 12.99,
          "log_dmd": 2.6390573296152584,
          "per_firm_t": 34,
          "rolling_std_upc": 0,
          "t": 42,
          "xs": 10464.370000000004
         },
         {
          "Unnamed: 0": 580,
          "firm": 287236,
          "level_prices": 12.99,
          "log_dmd": 2.4849066497880004,
          "per_firm_t": 35,
          "rolling_std_upc": 0,
          "t": 43,
          "xs": 10464.370000000004
         },
         {
          "Unnamed: 0": 581,
          "firm": 287236,
          "level_prices": 12.99,
          "log_dmd": 1.3862943611198906,
          "per_firm_t": 36,
          "rolling_std_upc": 0,
          "t": 44,
          "xs": 10464.370000000004
         },
         {
          "Unnamed: 0": 582,
          "firm": 287236,
          "level_prices": 12.99,
          "log_dmd": 2.19722457733622,
          "per_firm_t": 37,
          "rolling_std_upc": 0,
          "t": 45,
          "xs": 10464.370000000004
         },
         {
          "Unnamed: 0": 583,
          "firm": 287236,
          "level_prices": 12.99,
          "log_dmd": 2.19722457733622,
          "per_firm_t": 38,
          "rolling_std_upc": 0,
          "t": 46,
          "xs": 10464.370000000004
         },
         {
          "Unnamed: 0": 584,
          "firm": 287236,
          "level_prices": 12.99,
          "log_dmd": 2.19722457733622,
          "per_firm_t": 39,
          "rolling_std_upc": 0,
          "t": 47,
          "xs": 10464.370000000004
         },
         {
          "Unnamed: 0": 585,
          "firm": 287236,
          "level_prices": 12.99,
          "log_dmd": 2.7080502011022096,
          "per_firm_t": 40,
          "rolling_std_upc": 0,
          "t": 48,
          "xs": 10464.370000000004
         },
         {
          "Unnamed: 0": 586,
          "firm": 287236,
          "level_prices": 12.99,
          "log_dmd": 2.079441541679836,
          "per_firm_t": 41,
          "rolling_std_upc": 0,
          "t": 49,
          "xs": 10464.370000000004
         }
        ]
       },
       "encoding": {
        "color": {
         "field": "firm",
         "type": "nominal"
        },
        "x": {
         "field": "t",
         "type": "quantitative"
        },
        "y": {
         "field": "rolling_std_upc",
         "type": "quantitative"
        }
       },
       "mark": "line"
      },
      "image/png": "[encoded data removed]",
      "text/plain": [
       "<VegaLite 2 object>\n",
       "\n",
       "If you see this message, it means the renderer has not been properly enabled\n",
       "for the frontend that you are using. For more information, see\n",
       "https://altair-viz.github.io/user_guide/troubleshooting.html\n"
      ]
     },
     "execution_count": 26,
     "metadata": {},
     "output_type": "execute_result"
    }
   ],
   "source": [
    "import altair as alt\n",
    "alt.Chart(df).mark_line().encode(\n",
    "    x='t',\n",
    "    y='rolling_std_upc',\n",
    "    color='firm:N'\n",
    ")"
   ]
  },
  {
   "cell_type": "code",
   "execution_count": 4,
   "metadata": {},
   "outputs": [
    {
     "data": {
      "text/plain": [
       "Text(0.5, 1.0, 'Eβ')"
      ]
     },
     "execution_count": 4,
     "metadata": {},
     "output_type": "execute_result"
    },
    {
     "data": {
      "image/png": "[encoded data removed]",
      "text/plain": [
       "<Figure size 720x432 with 2 Axes>"
      ]
     },
     "metadata": {},
     "output_type": "display_data"
    },
    {
     "data": {
      "image/png": "[encoded data removed]",
      "text/plain": [
       "<Figure size 720x432 with 2 Axes>"
      ]
     },
     "metadata": {},
     "output_type": "display_data"
    },
    {
     "data": {
      "image/png": "[encoded data removed]",
      "text/plain": [
       "<Figure size 720x432 with 2 Axes>"
      ]
     },
     "metadata": {},
     "output_type": "display_data"
    }
   ],
   "source": [
    "\n",
    "#Obtained results\n",
    "#Old: θ = np.array([-0.53, -0.26,  0.52, -0.34])\n",
    "#θ = np.array([-3.86, -4.4,   1.05,  0.1 ]) #for delta = 0.95\n",
    "θ = np.array([-3.95, -3.62,  1.02,  0.28])\n",
    "H = np.e**((θ[0] + θ[1]*xs + prior_shocks))\n",
    "Eβ = -np.e**(θ[2] + θ[3]*xs + prior_shocks)\n",
    "\n",
    "fig, [ax1, ax2] = plt.subplots(1, 2, figsize=(10, 6), sharex=True)\n",
    "ax1.set_xlabel(\"X values (firm characteristics)\")\n",
    "ax2.set_xlabel(\"X values (firm characteristics)\")\n",
    "\n",
    "ax1.scatter(xs, H, alpha=0.3)\n",
    "ax1.set_title(\"H\")\n",
    "max_H_value = np.log(3)\n",
    "ax1.hlines(0., xs.min(), xs.max(), linestyles=\"dashed\")\n",
    "ax1.hlines(max_H_value, xs.min(), xs.max(), linestyles=\"dashed\")\n",
    "ax2.scatter(xs, Eβ, alpha=0.3)\n",
    "ax2.hlines(src.betas_transition.min(), xs.min(), xs.max(), linestyles=\"dashed\")\n",
    "ax2.hlines(src.betas_transition.max(), xs.min(), xs.max(), linestyles=\"dashed\")\n",
    "ax2.set_title(\"Eβ\")\n",
    "fig.suptitle(\"Results for σ_ɛ = 1.017\", size=18)\n",
    "\n",
    "#Plot over log Xs\n",
    "orig_x = np.log(df.groupby('firm').xs.first().values) #log this?\n",
    "fig, [ax1, ax2] = plt.subplots(1, 2, figsize=(10, 6), sharex=True)\n",
    "ax1.set_xlabel(\"X log scale (Store Size)\")\n",
    "ax2.set_xlabel(\"X log scale (Store Size)\")\n",
    "\n",
    "ax1.scatter(orig_x, H, alpha=0.3)\n",
    "ax1.set_title(\"H\")\n",
    "max_H_value = np.log(3)\n",
    "ax1.hlines(0., orig_x.min(), orig_x.max(), linestyles=\"dashed\")\n",
    "ax1.hlines(max_H_value, orig_x.min(), orig_x.max(), linestyles=\"dashed\")\n",
    "ax2.scatter(orig_x, Eβ, alpha=0.3)\n",
    "ax2.hlines(src.betas_transition.min(), orig_x.min(), orig_x.max(), linestyles=\"dashed\")\n",
    "ax2.hlines(src.betas_transition.max(), orig_x.min(), orig_x.max(), linestyles=\"dashed\")\n",
    "ax2.set_title(\"Eβ\")\n",
    "\n",
    "#Plot over original Xs\n",
    "orig_x = (df.groupby('firm').xs.first().values) #log this?\n",
    "fig, [ax1, ax2] = plt.subplots(1, 2, figsize=(10, 6), sharex=True)\n",
    "ax1.set_xlabel(\"X original scale (Store Size)\")\n",
    "ax2.set_xlabel(\"X original scale (Store Size)\")\n",
    "\n",
    "ax1.scatter(orig_x, H, alpha=0.3)\n",
    "ax1.set_title(\"H\")\n",
    "max_H_value = np.log(3)\n",
    "ax1.hlines(0., orig_x.min(), orig_x.max(), linestyles=\"dashed\")\n",
    "ax1.hlines(max_H_value, orig_x.min(), orig_x.max(), linestyles=\"dashed\")\n",
    "ax2.scatter(orig_x, Eβ, alpha=0.3)\n",
    "ax2.hlines(src.betas_transition.min(), orig_x.min(), orig_x.max(), linestyles=\"dashed\")\n",
    "ax2.hlines(src.betas_transition.max(), orig_x.min(), orig_x.max(), linestyles=\"dashed\")\n",
    "ax2.set_title(\"Eβ\")\n"
   ]
  },
  {
   "cell_type": "code",
   "execution_count": 5,
   "metadata": {},
   "outputs": [
    {
     "data": {
      "text/plain": [
       "Text(0.5, 1.0, 'E[dmd elasticity] at launch')"
      ]
     },
     "execution_count": 5,
     "metadata": {},
     "output_type": "execute_result"
    },
    {
     "data": {
      "image/png": "[encoded data removed]",
      "text/plain": [
       "<Figure size 720x432 with 2 Axes>"
      ]
     },
     "metadata": {},
     "output_type": "display_data"
    },
    {
     "data": {
      "image/png": "[encoded data removed]",
      "text/plain": [
       "<Figure size 720x432 with 2 Axes>"
      ]
     },
     "metadata": {},
     "output_type": "display_data"
    }
   ],
   "source": [
    "#θ = [-3.84, -2.98,  0.85,  0.55] #delta 0.99. Convergió\n",
    "#θ = np.array([-3.98, -0.29,  1.05, -0.17])  #esta está ok\n",
    "H = np.e**((θ[0] + θ[1]*xs + prior_shocks))\n",
    "Eβ = -np.e**(θ[2] + θ[3]*xs + prior_shocks)\n",
    "\n",
    "#Plot over log Xs\n",
    "orig_x = np.log(df.groupby('firm').xs.first().values) \n",
    "fig, [ax1, ax2] = plt.subplots(1, 2, figsize=(10, 6), sharex=True)\n",
    "ax1.set_xlabel(\"Store Size log scale\")\n",
    "ax2.set_xlabel(\"Store Size log scale\")\n",
    "\n",
    "ax1.scatter(orig_x, H, alpha=0.3)\n",
    "ax1.set_title(\"Entropy at launch\")\n",
    "ax2.scatter(orig_x, Eβ, alpha=0.3)\n",
    "ax2.set_title(\"E[dmd elasticity] at launch\")\n",
    "\n",
    "#Plot over original Xs\n",
    "orig_x = (df.groupby('firm').xs.first().values) \n",
    "fig, [ax1, ax2] = plt.subplots(1, 2, figsize=(10, 6), sharex=True)\n",
    "ax1.set_xlabel(\"Store Size (US$ thousands)\")\n",
    "ax2.set_xlabel(\"Store Size (US$ thousands)\")\n",
    "\n",
    "ax1.scatter(orig_x, H, alpha=0.3)\n",
    "ax1.set_title(\"Entropy at launch\")\n",
    "ax2.scatter(orig_x, Eβ, alpha=0.3)\n",
    "ax2.set_title(\"E[dmd elasticity] at launch\")"
   ]
  },
  {
   "cell_type": "markdown",
   "metadata": {},
   "source": [
    "## Plot gmm as a function of parameters"
   ]
  },
  {
   "cell_type": "code",
   "execution_count": 6,
   "metadata": {},
   "outputs": [
    {
     "name": "stdout",
     "output_type": "stream",
     "text": [
      "Done with plot 0\n",
      "Done with plot 1\n",
      "Done with plot 2\n",
      "Done with plot 3\n"
     ]
    },
    {
     "data": {
      "image/png": "[encoded data removed]",
      "text/plain": [
       "<Figure size 720x576 with 4 Axes>"
      ]
     },
     "metadata": {
      "needs_background": "light"
     },
     "output_type": "display_data"
    }
   ],
   "source": [
    "prior_shocks = src.gen_prior_shocks(Nfirms, σerror=0)\n",
    "\n",
    "\n",
    "# Optimization\n",
    "######################\n",
    "def error_w_data(θ) -> float:\n",
    "    return src.gmm_error(θ, policyF, xs,\n",
    "                         mean_std_observed_prices=mean_std_observed_prices, df=df,\n",
    "                         prior_shocks=prior_shocks, min_periods=min_periods)\n",
    "\n",
    "\n",
    "def error_w_data_vector(θ_vector) -> float:\n",
    "    error_vector = np.empty(len(θ_vector))\n",
    "    for i, theta in enumerate(θ_vector):\n",
    "        error_vector[i] = error_w_data(theta)\n",
    "    return error_vector\n",
    "\n",
    "optθ = np.array([-3.98, -0.29,  1.05, -0.17])\n",
    "\n",
    "#Move each parameter by 30%\n",
    "def domain_move_param(x, n_reps, perc=0.3):\n",
    "    #return np.linspace(-perc*x, +perc*x, n_reps)\n",
    "    return np.linspace(-1., 1., n_reps)\n",
    "\n",
    "def move_one_parameter(optθ, n_reps, ind_to_change):\n",
    "    repeated_res = np.repeat([optθ], n_reps, axis=0)\n",
    "    movements = domain_move_param(optθ[ind_to_change], n_reps)\n",
    "    for i in range(n_reps):\n",
    "        repeated_res[i, ind_to_change] += movements[i]\n",
    "    return repeated_res\n",
    "\n",
    "fig, axes = plt.subplots(2, 2, figsize=(10, 8))\n",
    "ax0, ax1, ax2, ax3 = axes[0, 0], axes[0, 1], axes[1, 0], axes[1, 1]\n",
    "n_reps = 91\n",
    "\n",
    "for i, ax in enumerate([ax0, ax1, ax2, ax3]):\n",
    "    ax.plot(domain_move_param(optθ[i], n_reps), \n",
    "             error_w_data_vector(move_one_parameter(optθ, n_reps, i)))\n",
    "    ax.set_title(f\"theta {i}\")\n",
    "    print(f\"Done with plot {i}\")\n",
    "\n",
    "#error_w_data(θ)"
   ]
  },
  {
   "cell_type": "markdown",
   "metadata": {},
   "source": []
  },
  {
   "cell_type": "code",
   "execution_count": 72,
   "metadata": {},
   "outputs": [
    {
     "data": {
      "text/plain": [
       "Text(0.5, 0, 'Weeks from launch')"
      ]
     },
     "execution_count": 72,
     "metadata": {},
     "output_type": "execute_result"
    },
    {
     "data": {
      "image/png": "[encoded data removed]",
      "text/plain": [
       "<Figure size 720x576 with 1 Axes>"
      ]
     },
     "metadata": {},
     "output_type": "display_data"
    }
   ],
   "source": []
  },
  {
   "cell_type": "code",
   "execution_count": 74,
   "metadata": {},
   "outputs": [],
   "source": [
    "exp_prices_df = pd.concat(exp_prices, axis=1)"
   ]
  },
  {
   "cell_type": "code",
   "execution_count": 76,
   "metadata": {},
   "outputs": [
    {
     "data": {
      "text/plain": [
       "t\n",
       "3.0     2.655838e-01\n",
       "4.0     1.230172e-01\n",
       "5.0     2.407776e-01\n",
       "6.0     2.978718e-01\n",
       "7.0     4.022344e-01\n",
       "8.0     3.835750e-01\n",
       "9.0     3.686956e-01\n",
       "10.0    2.916389e-01\n",
       "11.0    2.732699e-01\n",
       "12.0    3.068517e-01\n",
       "13.0    3.613458e-01\n",
       "14.0    3.529895e-01\n",
       "15.0    2.540195e-01\n",
       "16.0    1.387606e-01\n",
       "17.0    1.442747e-01\n",
       "18.0    1.502605e-01\n",
       "19.0    1.912524e-01\n",
       "20.0    2.275950e-01\n",
       "21.0    2.024678e-01\n",
       "22.0    1.656415e-01\n",
       "23.0    1.260352e-01\n",
       "24.0    1.086147e-01\n",
       "25.0    1.218847e-01\n",
       "26.0    1.262262e-01\n",
       "27.0    1.201503e-01\n",
       "28.0    7.606026e-02\n",
       "29.0    1.268427e-01\n",
       "30.0    1.196983e-01\n",
       "31.0    8.075261e-02\n",
       "32.0    3.917239e-02\n",
       "33.0    9.033630e-02\n",
       "34.0    1.123208e-01\n",
       "35.0    2.040638e-01\n",
       "36.0    1.414748e-01\n",
       "37.0    1.024800e-01\n",
       "38.0    1.085820e-02\n",
       "39.0    4.998857e-08\n",
       "40.0    5.237308e-08\n",
       "41.0    8.128420e-09\n",
       "42.0    1.469403e-10\n",
       "43.0    2.154609e-10\n",
       "44.0    1.815166e-10\n",
       "45.0    1.323137e-09\n",
       "46.0    3.232597e-08\n",
       "47.0    1.295922e-07\n",
       "48.0    0.000000e+00\n",
       "Name: std_dev_prices, dtype: float64"
      ]
     },
     "execution_count": 76,
     "metadata": {},
     "output_type": "execute_result"
    }
   ],
   "source": [
    "mean_std_expected_prices"
   ]
  },
  {
   "cell_type": "code",
   "execution_count": null,
   "metadata": {},
   "outputs": [],
   "source": []
  },
  {
   "cell_type": "code",
   "execution_count": 75,
   "metadata": {},
   "outputs": [
    {
     "data": {
      "text/plain": [
       "t\n",
       "3.0     0.255009\n",
       "4.0     0.108720\n",
       "5.0     0.216105\n",
       "6.0     0.298061\n",
       "7.0     0.339898\n",
       "8.0     0.367785\n",
       "9.0     0.362450\n",
       "10.0    0.339508\n",
       "11.0    0.317118\n",
       "12.0    0.302265\n",
       "13.0    0.298481\n",
       "14.0    0.287567\n",
       "15.0    0.262619\n",
       "16.0    0.231872\n",
       "17.0    0.229701\n",
       "18.0    0.208099\n",
       "19.0    0.199999\n",
       "20.0    0.193018\n",
       "21.0    0.180633\n",
       "22.0    0.173839\n",
       "23.0    0.165312\n",
       "24.0    0.168991\n",
       "25.0    0.156178\n",
       "26.0    0.137912\n",
       "27.0    0.127809\n",
       "28.0    0.119780\n",
       "29.0    0.119822\n",
       "30.0    0.120935\n",
       "31.0    0.118631\n",
       "32.0    0.114044\n",
       "33.0    0.112680\n",
       "34.0    0.117476\n",
       "35.0    0.134124\n",
       "36.0    0.137406\n",
       "37.0    0.120371\n",
       "38.0    0.080657\n",
       "39.0    0.095342\n",
       "40.0    0.064012\n",
       "41.0    0.011592\n",
       "42.0    0.057921\n",
       "43.0    0.055143\n",
       "44.0    0.049586\n",
       "45.0    0.010017\n",
       "46.0    0.000830\n",
       "47.0    0.058199\n",
       "48.0    0.000000\n",
       "dtype: float64"
      ]
     },
     "execution_count": 75,
     "metadata": {},
     "output_type": "execute_result"
    }
   ],
   "source": [
    "exp_prices_df.mean(axis=1)"
   ]
  },
  {
   "cell_type": "markdown",
   "metadata": {},
   "source": [
    "## Fix deep parameters, but optimize over demand ones"
   ]
  },
  {
   "cell_type": "code",
   "execution_count": 71,
   "metadata": {},
   "outputs": [
    {
     "data": {
      "text/plain": [
       "0.001117008914783687"
      ]
     },
     "execution_count": 71,
     "metadata": {},
     "output_type": "execute_result"
    }
   ],
   "source": [
    "t = len(mean_std_expected_prices)\n",
    "w = np.identity(t)\n",
    "g = (1 / t) * (mean_std_expected_prices.values - mean_std_observed_prices_clean.values)\n",
    "g.T @ w @ g\n"
   ]
  },
  {
   "cell_type": "code",
   "execution_count": 67,
   "metadata": {},
   "outputs": [
    {
     "name": "stdout",
     "output_type": "stream",
     "text": [
      "Taken 89.10587258264422 minutes for 100 iterations. 0.8910587258264422 per iteration\n",
      "Success:  False\n",
      "Optimizados:  [0.82 0.41 0.75]\n"
     ]
    }
   ],
   "source": [
    "np.random.seed(28728)\n",
    "optθ = θ\n",
    "lambdas0 = src.from_theta_to_lambda_for_all_firms(optθ, xs, prior_shocks)\n",
    "\n",
    "def param_array_to_dmd_constants(Ξ):\n",
    "    return {'γ': Ξ[0],  'beta_shock_std': Ξ[1], 'taste_shock_std': Ξ[2]}\n",
    "\n",
    "optimization_limits = [(0.5, 0.9), (0.1, 0.5), (0.3, 0.8)]\n",
    "\n",
    "@njit()\n",
    "def generate_betas_inertia_Ξ(γ: int, taste_shocks_: np.array, b0_: np.array, \n",
    "                             firm_periods: int, i_firm: int) -> np.array:\n",
    "    \"\"\"\n",
    "    Generates the vector of beta demands for a firm for a total of t periods\n",
    "    given by the parameter firm_periods\n",
    "\n",
    "    :param firm_periods:\n",
    "    :param i_firm:\n",
    "    :return:\n",
    "    \"\"\"  \n",
    "    betas = np.empty(firm_periods)\n",
    "    betas[0] = b0_[i_firm]\n",
    "    old_beta = b0_[i_firm]\n",
    "    for t_ in range(1, firm_periods):\n",
    "        new_beta = src.nb_clip(γ * old_beta + taste_shocks_[t_, i_firm], -np.inf, -1.05)\n",
    "        betas[t_] = new_beta\n",
    "        old_beta = new_beta\n",
    "\n",
    "    return betas    \n",
    "    \n",
    "\n",
    "def error_w_data(Ξ) -> float:\n",
    "    dmd_const_dict = param_array_to_dmd_constants(Ξ)\n",
    "    γ, beta_shock_std = dmd_const_dict['γ'], dmd_const_dict['beta_shock_std']\n",
    "    taste_shock_std = dmd_const_dict['taste_shock_std']\n",
    "    \n",
    "    # Redo taste_shocks and b0\n",
    "    taste_shocks_ = np.random.normal(loc=0, scale=taste_shock_std,\n",
    "                                size=(max_t_periods_in_data, n_firms))\n",
    "    b0_ = np.clip(np.random.normal(loc=src.const.mature_beta,\n",
    "                                  scale=beta_shock_std, size=n_firms),\n",
    "                                 -np.inf, -1.05)\n",
    "    \n",
    "    df[\"betas_inertia\"] = 0.\n",
    "    #TODO: jit this for loop\n",
    "    for i_firm, firm in enumerate(df.firm.unique()):\n",
    "        mask: pd.Series = (df.firm == firm)\n",
    "        t = mask.sum()\n",
    "        df.loc[mask, \"betas_inertia\"] = generate_betas_inertia_Ξ(γ, taste_shocks_,\n",
    "                                                                b0_, t, i_firm)\n",
    "        \n",
    "    mean_std_observed_prices_clean, mean_std_expected_prices = src.get_intersection_of_observed_and_expected_prices(\n",
    "                 mean_std_observed_prices, df, policyF, lambdas0, 3)\n",
    "    max_t = 37\n",
    "    mean_std_observed_prices_clean = mean_std_observed_prices_clean[:max_t]\n",
    "    mean_std_expected_prices = mean_std_expected_prices[:max_t]\n",
    "    t = len(mean_std_expected_prices)\n",
    "    w = np.identity(t)\n",
    "    #TODO: simplify this. Pass to values,  no need for np.newaxis\n",
    "    #g = (1 / t) * (mean_std_expected_prices - mean_std_observed_prices_clean)[:, np.newaxis]\n",
    "    #return (g.T @ w @ g)[0, 0]\n",
    "    g = (1 / t) * (mean_std_expected_prices.values - mean_std_observed_prices_clean.values)\n",
    "    return (g.T @ w @ g)\n",
    "\n",
    "maxiters = 100\n",
    "start = time.time()\n",
    "optimi = opt.differential_evolution(error_w_data, optimization_limits,\n",
    "                                    maxiter=maxiters)\n",
    "time_taken = time.time()/60 - start/60\n",
    "print(\"Taken {0} minutes for {1} iterations. {2} per iteration\".format(\n",
    "      time_taken, maxiters, time_taken/maxiters))\n",
    "\n",
    "print(\"Success: \", optimi.success)\n",
    "print(\"Optimizados: \", np.round(optimi.x, 2))"
   ]
  },
  {
   "cell_type": "code",
   "execution_count": 68,
   "metadata": {},
   "outputs": [
    {
     "data": {
      "text/plain": [
       "Text(0.5, 0, 'Weeks from launch')"
      ]
     },
     "execution_count": 68,
     "metadata": {},
     "output_type": "execute_result"
    },
    {
     "data": {
      "image/png": "[encoded data removed]",
      "text/plain": [
       "<Figure size 720x576 with 1 Axes>"
      ]
     },
     "metadata": {},
     "output_type": "display_data"
    }
   ],
   "source": [
    "Ξ = optimi.x\n",
    "\n",
    "dmd_const_dict = param_array_to_dmd_constants(Ξ)\n",
    "γ, beta_shock_std = dmd_const_dict['γ'], dmd_const_dict['beta_shock_std']\n",
    "taste_shock_std = dmd_const_dict['taste_shock_std']\n",
    "\n",
    "def generate_betas_inertia_Ξ(time_periods: int) -> np.ndarray:\n",
    "    \"\"\"\n",
    "    Generate an array of beta_inertia values for t time periods\n",
    "    \"\"\"\n",
    "    betas = np.empty(time_periods)\n",
    "    taste_shocks = np.random.normal(loc=0, scale=taste_shock_std, size=time_periods)\n",
    "\n",
    "    b0 = np.clip(np.random.normal(loc=src.const.mature_beta, scale=beta_shock_std), -np.inf, -1.05)\n",
    "    betas[0] = b0\n",
    "    old_beta = b0\n",
    "    for t in range(1, time_periods):\n",
    "        new_beta = np.clip(γ * old_beta + taste_shocks[t], -np.inf, -1.05)\n",
    "        betas[t] = new_beta\n",
    "        old_beta = new_beta\n",
    "\n",
    "    return betas\n",
    "\n",
    "for firm in df.firm.unique():\n",
    "    mask: pd.Series = (df.firm == firm)\n",
    "    t = mask.sum()\n",
    "    df.loc[mask, \"betas_inertia\"] = generate_betas_inertia_Ξ(t)\n",
    "\n",
    "mean_std_observed_prices_clean, mean_std_expected_prices = src.get_intersection_of_observed_and_expected_prices(\n",
    "             mean_std_observed_prices, df, policyF, lambdas0, 3)\n",
    "\n",
    "max_t = 37\n",
    "mean_std_observed_prices_clean = mean_std_observed_prices_clean[:max_t]\n",
    "mean_std_expected_prices = mean_std_expected_prices[:max_t]\n",
    "\n",
    "fig, ax1 = plt.subplots(1, 1, figsize=(10, 8))\n",
    "ind_t = mean_std_expected_prices.index\n",
    "ax1.plot(ind_t, mean_std_observed_prices_clean, label=\"Observed std\")\n",
    "ax1.plot(ind_t, mean_std_expected_prices, label=\"Expected std\")\n",
    "ax1.legend()\n",
    "ax1.set_title(\"Standard Deviations from week of launch\")\n",
    "ax1.set_xlabel(\"Weeks from launch\")"
   ]
  },
  {
   "cell_type": "code",
   "execution_count": 17,
   "metadata": {},
   "outputs": [
    {
     "data": {
      "text/plain": [
       "10"
      ]
     },
     "metadata": {},
     "output_type": "display_data"
    },
    {
     "data": {
      "text/plain": [
       "<function __main__.f(x)>"
      ]
     },
     "execution_count": 17,
     "metadata": {},
     "output_type": "execute_result"
    }
   ],
   "source": [
    "from __future__ import print_function\n",
    "from ipywidgets import interact, interactive, fixed, interact_manual\n",
    "import ipywidgets as widgets\n",
    "\n",
    "def f(x):\n",
    "    return x\n",
    "\n",
    "\n",
    "interact(f, x=10)\n",
    "\n"
   ]
  },
  {
   "cell_type": "markdown",
   "metadata": {},
   "source": [
    "## Plot Real vs Expected prices"
   ]
  },
  {
   "cell_type": "code",
   "execution_count": null,
   "metadata": {},
   "outputs": [],
   "source": [
    "\n",
    "\n",
    "expected_prices = src.generate_pricing_decisions(policyF, lambda0, demand_obs,\n",
    "                               dmd_shocks, use_real_dmd=False)\n"
   ]
  },
  {
   "cell_type": "code",
   "execution_count": 9,
   "metadata": {},
   "outputs": [],
   "source": [
    "xs = (df.groupby('firm').xs.first().values + 0.1)\n",
    "scaler = MinMaxScaler()\n",
    "xs = scaler.fit_transform(xs.reshape(-1, 1)).flatten()\n",
    "\n",
    "optθ = np.array([-3.98, -0.29,  1.05, -0.17])\n",
    "lambdas_at_0 = src.from_theta_to_lambda_for_all_firms(optθ, xs, prior_shocks)\n",
    "\n",
    "pricing_decision_dfs = []\n",
    "for i, firm in enumerate(df.firm.unique()):\n",
    "    prices = src.generate_pricing_decisions(policyF, lambdas_at_0[i],\n",
    "                                            df[df.firm == firm].log_dmd.values,\n",
    "                                            df[df.firm == firm].dmd_shocks.values)\n",
    "    pricing_decision_dfs.append(pd.DataFrame({'level_prices': prices,\n",
    "                                              'firm': np.repeat(firm, len(prices))\n",
    "                                              }))\n",
    "\n",
    "pricing_decision_df = pd.concat(pricing_decision_dfs, axis=0)"
   ]
  },
  {
   "cell_type": "code",
   "execution_count": 55,
   "metadata": {},
   "outputs": [
    {
     "data": {
      "text/plain": [
       "[<matplotlib.lines.Line2D at 0x129d31710>]"
      ]
     },
     "execution_count": 55,
     "metadata": {},
     "output_type": "execute_result"
    },
    {
     "data": {
      "image/png": "[encoded data removed]",
      "text/plain": [
       "<Figure size 576x432 with 2 Axes>"
      ]
     },
     "metadata": {
      "needs_background": "light"
     },
     "output_type": "display_data"
    }
   ],
   "source": [
    "firms = df.firm.unique()\n",
    "firm_i = firms[99]\n",
    "fig, [ax1, ax2] = plt.subplots(2, 1, figsize=(8, 6))\n",
    "ax1.plot(pricing_decision_df[pricing_decision_df.firm==firm_i].index,\n",
    "       pricing_decision_df[pricing_decision_df.firm==firm_i].level_prices)\n",
    "ax2.plot(df[df.firm==firm_i].t, df[df.firm==firm_i].level_prices)"
   ]
  },
  {
   "cell_type": "markdown",
   "metadata": {},
   "source": [
    "## Fix generation of expected moments to match trasnformation done to real data"
   ]
  },
  {
   "cell_type": "code",
   "execution_count": 2,
   "metadata": {},
   "outputs": [],
   "source": [
    "%matplotlib inline\n",
    "import matplotlib.pyplot as plt\n",
    "plt.style.use('fivethirtyeight')\n",
    "import numpy as np\n",
    "import dill\n",
    "import pandas as pd\n",
    "from scipy import optimize as opt\n",
    "from sklearn.preprocessing import MinMaxScaler\n",
    "import time\n",
    "import sys\n",
    "sys.path.append('../../')\n",
    "import src\n",
    "\n",
    "maxiters = 100 #1.2 minutos por iteración\n",
    "time_periods = 40 #Maximum spell_t to consider\n",
    "min_periods = 3 #Min window period for standard deviation\n",
    "use_logs_for_x = False\n",
    "\n",
    "file_n = \"2019-4-28medium_prod_vfi_dict.dill\"\n",
    "#file_n = \"\" #Work Macbook\n",
    "with open('../../data/' + file_n, 'rb') as file:\n",
    "    data_d = dill.load(file)\n",
    "\n",
    "lambdas = src.generate_simplex_3dims(n_per_dim=data_d['n_of_lambdas_per_dim'])\n",
    "price_grid = np.linspace(data_d['min_price'], data_d['max_price'])\n",
    "\n",
    "policy = data_d['policy']\n",
    "valueF = data_d['valueF']\n",
    "lambdas_ext = src.generate_simplex_3dims(n_per_dim=\n",
    "                                         data_d['n_of_lambdas_per_dim'])\n",
    "\n",
    "#Interpolate policy (level price). valueF is already a function\n",
    "policyF = src.interpolate_wguess(lambdas_ext, policy)\n",
    "\n",
    "cleaned_data = \"../../../firm_learning/data/cleaned_data/\"\n",
    "\n",
    "df = pd.read_csv(cleaned_data + \"medium_prod_for_gmm.csv\")\n",
    "std_devs = (df.groupby('firm').level_prices.rolling(window=4, min=min_periods)\n",
    "            .std().reset_index()\n",
    "            .rename(columns={'level_1': 't', 'level_prices': 'std_dev_prices'}))\n",
    "\n",
    "df = pd.merge(df, std_devs, on=['firm', 't'], how='left')\n",
    "df[\"dmd_shocks\"] = np.random.normal(loc=0, scale=src.const.σ_ɛ, size=len(df))\n",
    "df[\"betas_inertia\"] = 0.\n",
    "for firm in df.firm.unique():\n",
    "    mask: pd.Series = (df.firm == firm)\n",
    "    t = mask.sum()\n",
    "    df.loc[mask, \"betas_inertia\"] = src.generate_betas_inertia(t)\n",
    "#mean_std_observed_prices = df.groupby('t').std_dev_prices.mean()[min_periods:]\n",
    "mean_std_observed_prices = df.groupby('t').rolling_std_upc.mean()[min_periods:]\n"
   ]
  },
  {
   "cell_type": "code",
   "execution_count": null,
   "metadata": {},
   "outputs": [],
   "source": []
  },
  {
   "cell_type": "code",
   "execution_count": 3,
   "metadata": {},
   "outputs": [
    {
     "ename": "NameError",
     "evalue": "name 'lambdas_at_0' is not defined",
     "output_type": "error",
     "traceback": [
      "\u001b[0;31m---------------------------------------------------------------------------\u001b[0m",
      "\u001b[0;31mNameError\u001b[0m                                 Traceback (most recent call last)",
      "\u001b[0;32m<ipython-input-3-76389aa81bff>\u001b[0m in \u001b[0;36m<module>\u001b[0;34m\u001b[0m\n\u001b[1;32m      1\u001b[0m \u001b[0mpricing_decision_dfs\u001b[0m \u001b[0;34m=\u001b[0m \u001b[0;34m[\u001b[0m\u001b[0;34m]\u001b[0m\u001b[0;34m\u001b[0m\u001b[0;34m\u001b[0m\u001b[0m\n\u001b[1;32m      2\u001b[0m \u001b[0;32mfor\u001b[0m \u001b[0mi\u001b[0m\u001b[0;34m,\u001b[0m \u001b[0mfirm\u001b[0m \u001b[0;32min\u001b[0m \u001b[0menumerate\u001b[0m\u001b[0;34m(\u001b[0m\u001b[0mdf\u001b[0m\u001b[0;34m.\u001b[0m\u001b[0mfirm\u001b[0m\u001b[0;34m.\u001b[0m\u001b[0munique\u001b[0m\u001b[0;34m(\u001b[0m\u001b[0;34m)\u001b[0m\u001b[0;34m)\u001b[0m\u001b[0;34m:\u001b[0m\u001b[0;34m\u001b[0m\u001b[0;34m\u001b[0m\u001b[0m\n\u001b[0;32m----> 3\u001b[0;31m     prices = src.generate_pricing_decisions(policyF, lambdas_at_0[i],\n\u001b[0m\u001b[1;32m      4\u001b[0m                                         \u001b[0mdf\u001b[0m\u001b[0;34m[\u001b[0m\u001b[0mdf\u001b[0m\u001b[0;34m.\u001b[0m\u001b[0mfirm\u001b[0m \u001b[0;34m==\u001b[0m \u001b[0mfirm\u001b[0m\u001b[0;34m]\u001b[0m\u001b[0;34m.\u001b[0m\u001b[0mlog_dmd\u001b[0m\u001b[0;34m.\u001b[0m\u001b[0mvalues\u001b[0m\u001b[0;34m,\u001b[0m\u001b[0;34m\u001b[0m\u001b[0;34m\u001b[0m\u001b[0m\n\u001b[1;32m      5\u001b[0m                                         \u001b[0mdf\u001b[0m\u001b[0;34m[\u001b[0m\u001b[0mdf\u001b[0m\u001b[0;34m.\u001b[0m\u001b[0mfirm\u001b[0m \u001b[0;34m==\u001b[0m \u001b[0mfirm\u001b[0m\u001b[0;34m]\u001b[0m\u001b[0;34m.\u001b[0m\u001b[0mdmd_shocks\u001b[0m\u001b[0;34m.\u001b[0m\u001b[0mvalues\u001b[0m\u001b[0;34m,\u001b[0m\u001b[0;34m\u001b[0m\u001b[0;34m\u001b[0m\u001b[0m\n",
      "\u001b[0;31mNameError\u001b[0m: name 'lambdas_at_0' is not defined"
     ]
    }
   ],
   "source": [
    "pricing_decision_dfs = []\n",
    "for i, firm in enumerate(df.firm.unique()):\n",
    "    prices = src.generate_pricing_decisions(policyF, lambdas_at_0[i],\n",
    "                                        df[df.firm == firm].log_dmd.values,\n",
    "                                        df[df.firm == firm].dmd_shocks.values,\n",
    "                                        df[df.firm == firm].betas_inertia.values)\n",
    "    pricing_decision_dfs.append(pd.DataFrame({'level_prices': prices,\n",
    "                                              'firm': np.repeat(firm, len(prices))\n",
    "                                              }))\n",
    "\n",
    "pricing_decision_df = pd.concat(pricing_decision_dfs, axis=0)"
   ]
  },
  {
   "cell_type": "code",
   "execution_count": null,
   "metadata": {},
   "outputs": [],
   "source": []
  }
 ],
 "metadata": {
  "kernelspec": {
   "display_name": "Python [conda env:spike_basicoV3]",
   "language": "python",
   "name": "conda-env-spike_basicoV3-py"
  },
  "language_info": {
   "codemirror_mode": {
    "name": "ipython",
    "version": 3
   },
   "file_extension": ".py",
   "mimetype": "text/x-python",
   "name": "python",
   "nbconvert_exporter": "python",
   "pygments_lexer": "ipython3",
   "version": "3.6.7"
  }
 },
 "nbformat": 4,
 "nbformat_minor": 2
}
