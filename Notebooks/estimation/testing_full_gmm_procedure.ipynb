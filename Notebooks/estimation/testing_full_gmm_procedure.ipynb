{
 "cells": [
  {
   "cell_type": "code",
   "execution_count": 2,
   "metadata": {},
   "outputs": [],
   "source": [
    "import numpy as np\n",
    "import dill\n",
    "import pandas as pd\n",
    "from scipy import optimize as opt\n",
    "import time\n",
    "import sys\n",
    "sys.path.append('../../')\n",
    "import src\n",
    "\n",
    "\n",
    "#Load policy and value function\n",
    "#####################\n",
    "#file_n = \"2018-10-5vfi_dict.dill\" #Personal Macbook\n",
    "file_n = \"2019-2-16vfi_dict.dill\" #Work Macbook\n",
    "with open('../../data/' + file_n, 'rb') as file:\n",
    "    data_d = dill.load(file)\n",
    "\n",
    "lambdas = src.generate_simplex_3dims(n_per_dim=data_d['n_of_lambdas_per_dim'])\n",
    "price_grid = np.linspace(data_d['min_price'], data_d['max_price'])\n",
    "\n",
    "policy = data_d['policy']\n",
    "valueF = data_d['valueF']\n",
    "lambdas_ext = src.generate_simplex_3dims(n_per_dim=\n",
    "                                         data_d['n_of_lambdas_per_dim'])\n",
    "\n",
    "#Interpolate policy (level price). valueF is already a function\n",
    "policyF = src.interpolate_wguess(lambdas_ext, policy)\n"
   ]
  },
  {
   "cell_type": "code",
   "execution_count": 52,
   "metadata": {},
   "outputs": [
    {
     "name": "stderr",
     "output_type": "stream",
     "text": [
      "../../src/from_parameters_to_lambdas.py:9: RuntimeWarning: invalid value encountered in log\n",
      "  return -np.sum(p+eps * np.log(p+eps))\n"
     ]
    }
   ],
   "source": [
    "# Simulation parameters \\\n",
    "########################\n",
    "σerror= 0.005 #0.01\n",
    "Nfirms = 300\n",
    "time_periods = 40\n",
    "min_periods= 3\n",
    "\n",
    "#Suitable for logistic\n",
    "β10, β11 = -2, 3.5\n",
    "β20, β21 = 1.3, -2.\n",
    "betas = [β10, β11, β20, β21]\n",
    "\n",
    "#GMM parameters\n",
    "maxiters = 120\n",
    "\n",
    "def lambda_0(x, prior_shock) -> np.ndarray:\n",
    "    \"\"\"\n",
    "    Generate a vector of lambdas on the observables x\n",
    "    \"\"\"\n",
    "    return src.from_theta_to_lambda0(x, θ=betas, prior_shock=prior_shock)\n",
    "\n",
    "\n",
    "xs = np.abs(np.random.normal(0, 0.18, size=Nfirms))\n",
    "prior_shocks = src.gen_prior_shocks(Nfirms, σerror=σerror)\n",
    "\n",
    "\n",
    "dmd_shocks = src.generate_dmd_shocks(n=Nfirms, t=time_periods, dmd_σϵ=src.const.σ_ɛ)\n",
    "\n",
    "df = src.simulate_all_firms(Nfirms, valueF, policyF, xs, θ=betas,\n",
    "                            dmd_shocks=dmd_shocks, prior_shocks=prior_shocks)\n",
    "\n",
    "std_devs = (df.groupby('firm').level_prices.rolling(window=4, min=3)\n",
    "            .std().reset_index()\n",
    "            .rename(columns={'level_1': 't',\n",
    "                            'level_prices': 'std_dev_prices'}))\n",
    "\n",
    "df = pd.merge(df, std_devs, on=['firm', 't'], how='left')\n",
    "\n",
    "mean_std_observed_prices = df.groupby('t').std_dev_prices.mean()[min_periods:]"
   ]
  },
  {
   "cell_type": "code",
   "execution_count": 53,
   "metadata": {},
   "outputs": [
    {
     "name": "stderr",
     "output_type": "stream",
     "text": [
      "../../src/from_parameters_to_lambdas.py:9: RuntimeWarning: invalid value encountered in log\n",
      "  return -np.sum(p+eps * np.log(p+eps))\n",
      "../../src/from_parameters_to_lambdas.py:47: RuntimeWarning: invalid value encountered in log\n",
      "  block = np.log((1 - np.e ** (x[0] + x[1])) / (np.e ** (x[0]) + np.e ** (x[1]) + np.e ** (x[0] + x[1]) + 1))\n",
      "../../src/from_parameters_to_lambdas.py:50: RuntimeWarning: divide by zero encountered in log\n",
      "  num1 = (-np.log(np.e ** x[1] / (np.e ** x[1] + 1)) + block) * np.e ** x[1]\n",
      "../../src/from_parameters_to_lambdas.py:50: RuntimeWarning: invalid value encountered in double_scalars\n",
      "  num1 = (-np.log(np.e ** x[1] / (np.e ** x[1] + 1)) + block) * np.e ** x[1]\n",
      "../../src/from_parameters_to_lambdas.py:57: RuntimeWarning: overflow encountered in double_scalars\n",
      "  deb_1 = ((βs[1] - βs[2]) * np.e ** (-x[1])) / (1 + np.e ** (-x[1])) ** 2\n",
      "../../src/from_parameters_to_lambdas.py:57: RuntimeWarning: invalid value encountered in double_scalars\n",
      "  deb_1 = ((βs[1] - βs[2]) * np.e ** (-x[1])) / (1 + np.e ** (-x[1])) ** 2\n",
      "../../src/from_parameters_to_lambdas.py:26: RuntimeWarning: overflow encountered in power\n",
      "  return np.e**x / (1 + np.e**x)\n",
      "../../src/from_parameters_to_lambdas.py:26: RuntimeWarning: invalid value encountered in true_divide\n",
      "  return np.e**x / (1 + np.e**x)\n"
     ]
    },
    {
     "name": "stdout",
     "output_type": "stream",
     "text": [
      "Taken 411.93133084848523 minutes for 120 iterations. 3.4327610904040435 per iteration\n"
     ]
    }
   ],
   "source": [
    "def error_w_data(θ) -> float:\n",
    "    return src.gmm_error(θ, policyF, xs,\n",
    "                      mean_std_observed_prices=mean_std_observed_prices, df=df,\n",
    "                                 prior_shocks=prior_shocks, min_periods=min_periods)\n",
    "\n",
    "start = time.time()\n",
    "\n",
    "optimi = opt.differential_evolution(error_w_data, [(-2.5, 0.5), (2.5, 4.0),\n",
    "                                                   (0.5, 2), (-3., 1.)],\n",
    "                                    maxiter=maxiters)\n",
    "\n",
    "time_taken = time.time()/60 - start/60\n",
    "print(\"Taken {0} minutes for {1} iterations. {2} per iteration\".format(\n",
    "      time_taken, maxiters, time_taken/maxiters))"
   ]
  },
  {
   "cell_type": "code",
   "execution_count": 61,
   "metadata": {},
   "outputs": [
    {
     "name": "stdout",
     "output_type": "stream",
     "text": [
      "Success:  False\n",
      "Valores reales:  [-2, 3.5, 1.3, -2.0]\n",
      "Optimizados:  [-1.93  3.14  1.3  -1.98]\n",
      "Errores porcentuales (de 1 a 100%):  [ 3.71 10.74  0.04  0.78]\n"
     ]
    }
   ],
   "source": [
    "print(\"Success: \", optimi.success)\n",
    "print(\"Valores reales: \", betas)\n",
    "print(\"Optimizados: \", np.round(optimi.x, 2))\n",
    "print(\"Errores porcentuales (de 1 a 100%): \", \n",
    "      np.round(200*(np.array(betas) - optimi.x)/(np.array(betas) + optimi.x), 2))"
   ]
  },
  {
   "cell_type": "code",
   "execution_count": 50,
   "metadata": {},
   "outputs": [
    {
     "data": {
      "text/plain": [
       "[-2, 3.5, 1.3, -2.0]"
      ]
     },
     "execution_count": 50,
     "metadata": {},
     "output_type": "execute_result"
    }
   ],
   "source": [
    "betas"
   ]
  },
  {
   "cell_type": "code",
   "execution_count": 49,
   "metadata": {},
   "outputs": [
    {
     "name": "stdout",
     "output_type": "stream",
     "text": [
      "H real y H estimado:  0.1574993777935831 0.6782823954210884\n",
      "EB real y EB estimado:  0.6782823954210884 -4.241322894543044\n"
     ]
    }
   ],
   "source": [
    "ind=88\n",
    "realH = np.e**((betas[0] + betas[1]*xs[ind]))\n",
    "realEβ = -np.e**(betas[2] + betas[3]*xs[ind])\n",
    "\n",
    "estH = np.e**((optimi.x[0] + optimi.x[1]*xs[ind]))\n",
    "estEβ = -np.e**(optimi.x[2] + optimi.x[3]*xs[ind])\n",
    "\n",
    "print(\"H real y H estimado: \", realH, estH)\n",
    "print(\"EB real y EB estimado: \", estH, estEβ)"
   ]
  },
  {
   "cell_type": "code",
   "execution_count": 51,
   "metadata": {},
   "outputs": [
    {
     "data": {
      "text/plain": [
       "array([-0.55982902,  3.9608758 ,  1.55273699, -2.48912488])"
      ]
     },
     "execution_count": 51,
     "metadata": {},
     "output_type": "execute_result"
    }
   ],
   "source": [
    "optimi.x"
   ]
  },
  {
   "cell_type": "code",
   "execution_count": 21,
   "metadata": {},
   "outputs": [],
   "source": [
    "from scipy import optimize\n",
    "from src import logit, jac, fun, force_sum_to_1, reparam_lambdas\n",
    "\n",
    "def jac_(x):\n",
    "    return jac(x, βs=src.betas_transition)\n",
    "\n",
    "\n",
    "\n",
    "def from_theta_to_lambda0(x, θ, prior_shock, starting_values=np.array([0.1, 0.5])):\n",
    "    \"\"\"\n",
    "    Generates a lambda0 vector from the theta vector and x\n",
    "    It passes through the entropy and expected value of betas (H, EB)\n",
    "\n",
    "    θ = [θ10, θ11, θ20, θ21]\n",
    "    x : characteristics of firms\n",
    "    prior_shock: puts randomness in the relationship between theta and lambda\n",
    "    \"\"\"\n",
    "    #TODO: bound H between 0 and log(cardinality(lambdas))\n",
    "    H = np.e**((θ[0] + θ[1]*x + prior_shock))\n",
    "    Eβ = -np.e**(θ[2] + θ[3]*x + prior_shock) #Bound it?\n",
    "\n",
    "    def fun_(x):\n",
    "        return fun(x, src.betas_transition, Eβ, H)\n",
    "\n",
    "    #Numerical procedure to get lambda vector from H, Eβ\n",
    "    sol = optimize.root(fun_, logit(starting_values), jac=jac_)\n",
    "\n",
    "    lambdas_sol = force_sum_to_1(reparam_lambdas(sol.x))\n",
    "\n",
    "    return lambdas_sol"
   ]
  },
  {
   "cell_type": "code",
   "execution_count": 25,
   "metadata": {},
   "outputs": [
    {
     "data": {
      "text/plain": [
       "array([-4. , -1.7, -1.2])"
      ]
     },
     "execution_count": 25,
     "metadata": {},
     "output_type": "execute_result"
    }
   ],
   "source": [
    "src.betas_transition"
   ]
  },
  {
   "cell_type": "code",
   "execution_count": 43,
   "metadata": {},
   "outputs": [
    {
     "data": {
      "text/plain": [
       "[-2, 3.5, 1.3, -2.0]"
      ]
     },
     "execution_count": 43,
     "metadata": {},
     "output_type": "execute_result"
    }
   ],
   "source": [
    "betas"
   ]
  },
  {
   "cell_type": "code",
   "execution_count": 12,
   "metadata": {},
   "outputs": [
    {
     "data": {
      "text/plain": [
       "Text(0.5,1,'Eβ')"
      ]
     },
     "execution_count": 12,
     "metadata": {},
     "output_type": "execute_result"
    },
    {
     "data": {
      "image/png": "[encoded data removed]",
      "text/plain": [
       "<Figure size 720x432 with 2 Axes>"
      ]
     },
     "metadata": {},
     "output_type": "display_data"
    }
   ],
   "source": [
    "import matplotlib\n",
    "#matplotlib.style.use('fivethirtyeight')\n",
    "#Scatter plot of H, EB as function of x and prior_shocks\n",
    "\n",
    "%matplotlib inline\n",
    "import matplotlib.pyplot as plt\n",
    "\n",
    "fig, [ax1, ax2] = plt.subplots(1, 2, figsize=(10, 6), sharex=True)\n",
    "θ = np.array([-2, 3.5, 1.3, -2.]) \n",
    "\n",
    "ax1.set_xlabel(\"X values (firm characteristics)\")\n",
    "ax2.set_xlabel(\"X values (firm characteristics)\")\n",
    "H = np.e**((θ[0] + θ[1]*xs + prior_shocks))\n",
    "Eβ = -np.e**(θ[2] + θ[3]*xs + prior_shocks)\n",
    "ax1.scatter(xs, H, alpha=0.3)\n",
    "ax1.set_title(\"H\")\n",
    "ax1.hlines(0., xs.min(), xs.max(), linestyles=\"dashed\")\n",
    "ax1.hlines(np.log(3), xs.min(), xs.max(), linestyles=\"dashed\")\n",
    "ax2.scatter(xs, Eβ, alpha=0.3)\n",
    "ax2.hlines(src.betas_transition.min(), xs.min(), xs.max(), linestyles=\"dashed\")\n",
    "ax2.hlines(src.betas_transition.max(), xs.min(), xs.max(), linestyles=\"dashed\")\n",
    "ax2.set_title(\"Eβ\")\n"
   ]
  },
  {
   "cell_type": "code",
   "execution_count": 61,
   "metadata": {},
   "outputs": [
    {
     "name": "stderr",
     "output_type": "stream",
     "text": [
      "../../src/from_parameters_to_lambdas.py:8: RuntimeWarning: invalid value encountered in log\n",
      "  return -np.sum(p * np.log(p))\n"
     ]
    },
    {
     "data": {
      "text/plain": [
       "array([0.1, 0.5, 0.4])"
      ]
     },
     "execution_count": 61,
     "metadata": {},
     "output_type": "execute_result"
    }
   ],
   "source": [
    "θ = np.array([-2, 3.5, 1.3, -2.]) \n",
    "θ_ = θ + 0.1\n",
    "from_theta_to_lambda0(0.3, θ=θ_, prior_shock=prior_shocks[3])"
   ]
  },
  {
   "cell_type": "code",
   "execution_count": 43,
   "metadata": {},
   "outputs": [
    {
     "data": {
      "text/plain": [
       "array([-4. , -1.7, -1.2])"
      ]
     },
     "execution_count": 43,
     "metadata": {},
     "output_type": "execute_result"
    }
   ],
   "source": [
    "src.betas_transition"
   ]
  },
  {
   "cell_type": "code",
   "execution_count": 38,
   "metadata": {},
   "outputs": [],
   "source": [
    "def my_entropy(p):\n",
    "    return -np.sum(p * np.log(p))"
   ]
  },
  {
   "cell_type": "code",
   "execution_count": 46,
   "metadata": {},
   "outputs": [
    {
     "data": {
      "text/plain": [
       "0.0002402584592991924"
      ]
     },
     "execution_count": 46,
     "metadata": {},
     "output_type": "execute_result"
    }
   ],
   "source": [
    "my_entropy([1. - 0.00001, 0.00001, 0.00001])"
   ]
  },
  {
   "cell_type": "code",
   "execution_count": null,
   "metadata": {},
   "outputs": [],
   "source": [
    "import numpy as np\n",
    "import dill\n",
    "import pandas as pd\n",
    "from scipy import optimize as opt\n",
    "import time\n",
    "import sys\n",
    "sys.path.append('../')\n",
    "import src\n",
    "\n",
    "\n",
    "#Load policy and value function\n",
    "#####################\n",
    "file_n = \"2018-10-5vfi_dict.dill\"\n",
    "with open('../data/' + file_n, 'rb') as file:\n",
    "    data_d = dill.load(file)\n",
    "\n",
    "lambdas = src.generate_simplex_3dims(n_per_dim=data_d['n_of_lambdas_per_dim'])\n",
    "price_grid = np.linspace(data_d['min_price'], data_d['max_price'])\n",
    "\n",
    "policy = data_d['policy']\n",
    "valueF = data_d['valueF']\n",
    "lambdas_ext = src.generate_simplex_3dims(n_per_dim=\n",
    "                                         data_d['n_of_lambdas_per_dim'])\n",
    "\n",
    "#Interpolate policy (level price). valueF is already a function\n",
    "policyF = src.interpolate_wguess(lambdas_ext, policy)\n",
    "\n",
    "\n",
    "# Simulation parameters \\\n",
    "########################\n",
    "σerror= 0.005 #0.01\n",
    "Nfirms = 300\n",
    "time_periods = 40\n",
    "min_periods= 3\n",
    "\n",
    "#Suitable for logistic\n",
    "β10, β11 = -2, 3.5\n",
    "β20, β21 = 1.3, -2.\n",
    "betas = [β10, β11, β20, β21]\n",
    "\n",
    "#GMM parameters\n",
    "maxiters = 3\n",
    "\n",
    "\n",
    "def lambda_0(x, prior_shock) -> np.ndarray:\n",
    "    \"\"\"\n",
    "    Generate a vector of lambdas on the observables x\n",
    "    \"\"\"\n",
    "    return src.from_theta_to_lambda0(x, θ=betas, prior_shock=prior_shock)\n",
    "\n",
    "\n",
    "xs = np.abs(np.random.normal(0, 0.18, size=Nfirms))\n",
    "prior_shocks = src.gen_prior_shocks(Nfirms, σerror=σerror)\n",
    "\n",
    "\n",
    "dmd_shocks = src.generate_dmd_shocks(n=Nfirms, t=time_periods, dmd_σϵ=src.const.σ_ɛ)\n",
    "\n",
    "df = src.simulate_all_firms(Nfirms, valueF, policyF, xs, θ=betas,\n",
    "                            dmd_shocks=dmd_shocks, prior_shocks=prior_shocks)"
   ]
  }
 ],
 "metadata": {
  "kernelspec": {
   "display_name": "Python [conda env:learningenv]",
   "language": "python",
   "name": "conda-env-learningenv-py"
  },
  "language_info": {
   "codemirror_mode": {
    "name": "ipython",
    "version": 3
   },
   "file_extension": ".py",
   "mimetype": "text/x-python",
   "name": "python",
   "nbconvert_exporter": "python",
   "pygments_lexer": "ipython3",
   "version": "3.7.0"
  }
 },
 "nbformat": 4,
 "nbformat_minor": 2
}
