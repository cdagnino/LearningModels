{
 "cells": [
  {
   "cell_type": "code",
   "execution_count": 1,
   "metadata": {},
   "outputs": [],
   "source": [
    "import numpy as np\n",
    "import dill\n",
    "import pandas as pd\n",
    "from scipy import optimize as opt\n",
    "import time\n",
    "import sys\n",
    "sys.path.append('../../')\n",
    "import src\n",
    "\n",
    "\n",
    "#Load policy and value function\n",
    "#####################\n",
    "file_n = \"2018-10-5vfi_dict.dill\"\n",
    "with open('../../data/' + file_n, 'rb') as file:\n",
    "    data_d = dill.load(file)\n",
    "\n",
    "lambdas = src.generate_simplex_3dims(n_per_dim=data_d['n_of_lambdas_per_dim'])\n",
    "price_grid = np.linspace(data_d['min_price'], data_d['max_price'])\n",
    "\n",
    "policy = data_d['policy']\n",
    "valueF = data_d['valueF']\n",
    "lambdas_ext = src.generate_simplex_3dims(n_per_dim=\n",
    "                                         data_d['n_of_lambdas_per_dim'])\n",
    "\n",
    "#Interpolate policy (level price). valueF is already a function\n",
    "policyF = src.interpolate_wguess(lambdas_ext, policy)\n"
   ]
  },
  {
   "cell_type": "code",
   "execution_count": 2,
   "metadata": {},
   "outputs": [],
   "source": [
    "\n",
    "\n",
    "# Simulation parameters \\\n",
    "########################\n",
    "σerror= 0.005 #0.01\n",
    "Nfirms = 300\n",
    "time_periods = 40\n",
    "min_periods= 3\n",
    "\n",
    "#Suitable for logistic\n",
    "β10, β11 = -2., 3.\n",
    "β20, β21 = 0.03, -2.\n",
    "betas = [β10, β11, β20, β21]\n",
    "\n",
    "#GMM parameters\n",
    "maxiters = 3\n",
    "\n",
    "\n",
    "#def lambda_0(x, prior_shock) -> np.ndarray:\n",
    "#    \"\"\"\n",
    "#    Generate a vector of lambdas on the observables x\n",
    "#    \"\"\"\n",
    "#    return src.from_theta_to_lambda0(x, θ=betas, prior_shock=prior_shock)\n",
    "\n",
    "\n",
    "xs = np.abs(np.random.normal(0, 0.18, size=Nfirms))\n",
    "prior_shocks = src.gen_prior_shocks(Nfirms, σerror=σerror)\n",
    "\n",
    "dmd_shocks = src.generate_dmd_shocks(n=Nfirms, t=time_periods, dmd_σϵ=src.const.σ_ɛ)"
   ]
  },
  {
   "cell_type": "code",
   "execution_count": 21,
   "metadata": {},
   "outputs": [],
   "source": [
    "from scipy import optimize\n",
    "from src import logit, jac, fun, force_sum_to_1, reparam_lambdas\n",
    "\n",
    "def jac_(x):\n",
    "    return jac(x, βs=src.betas_transition)\n",
    "\n",
    "\n",
    "\n",
    "def from_theta_to_lambda0(x, θ, prior_shock, starting_values=np.array([0.1, 0.5])):\n",
    "    \"\"\"\n",
    "    Generates a lambda0 vector from the theta vector and x\n",
    "    It passes through the entropy and expected value of betas (H, EB)\n",
    "\n",
    "    θ = [θ10, θ11, θ20, θ21]\n",
    "    x : characteristics of firms\n",
    "    prior_shock: puts randomness in the relationship between theta and lambda\n",
    "    \"\"\"\n",
    "    #TODO: bound H between 0 and log(cardinality(lambdas))\n",
    "    H = np.e**((θ[0] + θ[1]*x + prior_shock))\n",
    "    Eβ = -np.e**(θ[2] + θ[3]*x + prior_shock) #Bound it?\n",
    "\n",
    "    def fun_(x):\n",
    "        return fun(x, src.betas_transition, Eβ, H)\n",
    "\n",
    "    #Numerical procedure to get lambda vector from H, Eβ\n",
    "    sol = optimize.root(fun_, logit(starting_values), jac=jac_)\n",
    "\n",
    "    lambdas_sol = force_sum_to_1(reparam_lambdas(sol.x))\n",
    "\n",
    "    return lambdas_sol"
   ]
  },
  {
   "cell_type": "code",
   "execution_count": 55,
   "metadata": {},
   "outputs": [
    {
     "name": "stderr",
     "output_type": "stream",
     "text": [
      "../../src/from_parameters_to_lambdas.py:8: RuntimeWarning: invalid value encountered in log\n",
      "  return -np.sum(p * np.log(p))\n"
     ]
    },
    {
     "data": {
      "text/plain": [
       "array([0.1, 0.5, 0.4])"
      ]
     },
     "execution_count": 55,
     "metadata": {},
     "output_type": "execute_result"
    }
   ],
   "source": []
  },
  {
   "cell_type": "code",
   "execution_count": 24,
   "metadata": {},
   "outputs": [
    {
     "data": {
      "text/plain": [
       "(0.2785533259383541, -0.7802462044277202)"
      ]
     },
     "execution_count": 24,
     "metadata": {},
     "output_type": "execute_result"
    }
   ],
   "source": [
    "θ = np.array([-2., 3., 0.03, -2.]) \n",
    "x = 0.2\n",
    "prior_shock = prior_shocks[4]\n",
    "\n",
    "H = np.e**((θ[0] + θ[1]*x + prior_shock))\n",
    "Eβ = -np.e**(θ[2] + θ[3]*x + prior_shock)\n",
    "\n",
    "H, Eβ"
   ]
  },
  {
   "cell_type": "code",
   "execution_count": 25,
   "metadata": {},
   "outputs": [
    {
     "data": {
      "text/plain": [
       "array([-4. , -1.7, -1.2])"
      ]
     },
     "execution_count": 25,
     "metadata": {},
     "output_type": "execute_result"
    }
   ],
   "source": [
    "src.betas_transition"
   ]
  },
  {
   "cell_type": "code",
   "execution_count": 31,
   "metadata": {},
   "outputs": [
    {
     "data": {
      "text/plain": [
       "['seaborn-dark',\n",
       " 'seaborn-darkgrid',\n",
       " 'seaborn-ticks',\n",
       " 'fivethirtyeight',\n",
       " 'seaborn-whitegrid',\n",
       " 'classic',\n",
       " '_classic_test',\n",
       " 'fast',\n",
       " 'seaborn-talk',\n",
       " 'seaborn-dark-palette',\n",
       " 'seaborn-bright',\n",
       " 'seaborn-pastel',\n",
       " 'grayscale',\n",
       " 'seaborn-notebook',\n",
       " 'ggplot',\n",
       " 'seaborn-colorblind',\n",
       " 'seaborn-muted',\n",
       " 'seaborn',\n",
       " 'Solarize_Light2',\n",
       " 'seaborn-paper',\n",
       " 'bmh',\n",
       " 'tableau-colorblind10',\n",
       " 'seaborn-white',\n",
       " 'dark_background',\n",
       " 'seaborn-poster',\n",
       " 'seaborn-deep']"
      ]
     },
     "execution_count": 31,
     "metadata": {},
     "output_type": "execute_result"
    }
   ],
   "source": [
    "matplotlib.style.available"
   ]
  },
  {
   "cell_type": "code",
   "execution_count": 50,
   "metadata": {},
   "outputs": [
    {
     "data": {
      "text/plain": [
       "Text(0.5,1,'Eβ')"
      ]
     },
     "execution_count": 50,
     "metadata": {},
     "output_type": "execute_result"
    },
    {
     "data": {
      "image/png": "[encoded data removed]",
      "text/plain": [
       "<Figure size 720x432 with 2 Axes>"
      ]
     },
     "metadata": {},
     "output_type": "display_data"
    }
   ],
   "source": [
    "import matplotlib\n",
    "matplotlib.style.use('fivethirtyeight')\n",
    "#Scatter plot of H, EB as function of x and prior_shocks\n",
    "\n",
    "%matplotlib inline\n",
    "import matplotlib.pyplot as plt\n",
    "\n",
    "fig, [ax1, ax2] = plt.subplots(1, 2, figsize=(10, 6))\n",
    "θ = np.array([-2, 3.5, 1.3, -2.]) \n",
    "\n",
    "H = np.e**((θ[0] + θ[1]*xs + prior_shocks))\n",
    "Eβ = -np.e**(θ[2] + θ[3]*xs + prior_shocks)\n",
    "ax1.scatter(xs, H, alpha=0.3)\n",
    "ax1.set_title(\"H\")\n",
    "ax1.hlines(0., xs.min(), xs.max(), linestyles=\"dashed\")\n",
    "ax1.hlines(np.log(3), xs.min(), xs.max(), linestyles=\"dashed\")\n",
    "ax2.scatter(xs, Eβ, alpha=0.3)\n",
    "ax2.hlines(src.betas_transition.min(), xs.min(), xs.max(), linestyles=\"dashed\")\n",
    "ax2.hlines(src.betas_transition.max(), xs.min(), xs.max(), linestyles=\"dashed\")\n",
    "ax2.set_title(\"Eβ\")\n"
   ]
  },
  {
   "cell_type": "code",
   "execution_count": 61,
   "metadata": {},
   "outputs": [
    {
     "name": "stderr",
     "output_type": "stream",
     "text": [
      "../../src/from_parameters_to_lambdas.py:8: RuntimeWarning: invalid value encountered in log\n",
      "  return -np.sum(p * np.log(p))\n"
     ]
    },
    {
     "data": {
      "text/plain": [
       "array([0.1, 0.5, 0.4])"
      ]
     },
     "execution_count": 61,
     "metadata": {},
     "output_type": "execute_result"
    }
   ],
   "source": [
    "θ = np.array([-2, 3.5, 1.3, -2.]) \n",
    "θ_ = θ + 0.1\n",
    "from_theta_to_lambda0(0.3, θ=θ_, prior_shock=prior_shocks[3])"
   ]
  },
  {
   "cell_type": "code",
   "execution_count": 43,
   "metadata": {},
   "outputs": [
    {
     "data": {
      "text/plain": [
       "array([-4. , -1.7, -1.2])"
      ]
     },
     "execution_count": 43,
     "metadata": {},
     "output_type": "execute_result"
    }
   ],
   "source": [
    "src.betas_transition"
   ]
  },
  {
   "cell_type": "code",
   "execution_count": 38,
   "metadata": {},
   "outputs": [],
   "source": [
    "def my_entropy(p):\n",
    "    return -np.sum(p * np.log(p))"
   ]
  },
  {
   "cell_type": "code",
   "execution_count": 46,
   "metadata": {},
   "outputs": [
    {
     "data": {
      "text/plain": [
       "0.0002402584592991924"
      ]
     },
     "execution_count": 46,
     "metadata": {},
     "output_type": "execute_result"
    }
   ],
   "source": [
    "my_entropy([1. - 0.00001, 0.00001, 0.00001])"
   ]
  },
  {
   "cell_type": "code",
   "execution_count": null,
   "metadata": {},
   "outputs": [],
   "source": []
  }
 ],
 "metadata": {
  "kernelspec": {
   "display_name": "Python [conda env:learningenv]",
   "language": "python",
   "name": "conda-env-learningenv-py"
  },
  "language_info": {
   "codemirror_mode": {
    "name": "ipython",
    "version": 3
   },
   "file_extension": ".py",
   "mimetype": "text/x-python",
   "name": "python",
   "nbconvert_exporter": "python",
   "pygments_lexer": "ipython3",
   "version": "3.7.0"
  }
 },
 "nbformat": 4,
 "nbformat_minor": 2
}
