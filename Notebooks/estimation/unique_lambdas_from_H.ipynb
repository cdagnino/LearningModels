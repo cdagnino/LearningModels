{
 "cells": [
  {
   "cell_type": "markdown",
   "metadata": {},
   "source": [
    "# Get Unique Lambdas from H (plus other restrictions)\n",
    "\n",
    "The only objective of this notebooks it to get a set of unique lambdas from H plus some extra assumptions.\n",
    "Numerical methods would be fine, though riskier (since a random start would give different lambdas, bringing unstability to the maximization GMM procedure)\n",
    "\n",
    "+ $Z$ = firm data\n",
    "+ $\\theta$ = deep parameters\n",
    "+ $H = g(Z'\\theta)$, $Eβ = m(Z'\\theta)$\n",
    "\n",
    "Thus, for a given $\\theta$ try (GMM try), we have a fixed $(H, Eβ)$. This is our starting point and we should get $\\lambda$s from then (hopefully just one set!!)"
   ]
  },
  {
   "cell_type": "code",
   "execution_count": 32,
   "metadata": {},
   "outputs": [],
   "source": [
    "from scipy.stats import entropy\n",
    "from scipy import optimize\n",
    "import numpy as np\n",
    "import sympy as sp\n",
    "sp.init_printing()"
   ]
  },
  {
   "cell_type": "code",
   "execution_count": 33,
   "metadata": {},
   "outputs": [
    {
     "data": {
      "image/png": "[encoded data removed]",
      "text/latex": [
       "$$- \\log{\\left (p_{2} \\right )} + \\log{\\left (- p_{1} - p_{2} + 1 \\right )}$$"
      ],
      "text/plain": [
       "-log(p₂) + log(-p₁ - p₂ + 1)"
      ]
     },
     "execution_count": 33,
     "metadata": {},
     "output_type": "execute_result"
    }
   ],
   "source": [
    "p1, p2, p3 = sp.symbols('p1 p2 p3')\n",
    "h_sp = -(p1*sp.log(p1) + p2*sp.log(p2) + (1 - p1 - p2)*sp.log(1 - p1 - p2))\n",
    "\n",
    "sp.simplify(sp.diff(h_sp, p2))"
   ]
  },
  {
   "cell_type": "code",
   "execution_count": 20,
   "metadata": {},
   "outputs": [
    {
     "data": {
      "text/plain": [
       "b2 - b3"
      ]
     },
     "execution_count": 20,
     "metadata": {},
     "output_type": "execute_result"
    }
   ],
   "source": [
    "b1, b2, b3 = sp.symbols('b1 b2 b3')\n",
    "eb_sp = b1 *p1 + b2*p2 + b3*(1-p1-p2)\n",
    "sp.simplify(sp.diff(eb_sp, p2))"
   ]
  },
  {
   "cell_type": "code",
   "execution_count": 5,
   "metadata": {},
   "outputs": [
    {
     "data": {
      "text/plain": [
       "array([[2, 3, 4],\n",
       "       [2, 1, 2]])"
      ]
     },
     "execution_count": 5,
     "metadata": {},
     "output_type": "execute_result"
    }
   ],
   "source": [
    "m = np.array([[2, 3, 4], [2, 1, 2]])\n",
    "m"
   ]
  },
  {
   "cell_type": "code",
   "execution_count": 6,
   "metadata": {},
   "outputs": [
    {
     "data": {
      "text/plain": [
       "(2, 3)"
      ]
     },
     "execution_count": 6,
     "metadata": {},
     "output_type": "execute_result"
    }
   ],
   "source": [
    "m.shape"
   ]
  },
  {
   "cell_type": "code",
   "execution_count": 14,
   "metadata": {},
   "outputs": [
    {
     "name": "stdout",
     "output_type": "stream",
     "text": [
      "The solution converged.\n",
      "[0.11150149216228898, 0.5269970156754217, 0.36150149216228933]\n",
      "Values:  0.95 1.2\n"
     ]
    },
    {
     "data": {
      "text/plain": [
       "(0.9500000000000002, 1.2000000000000002)"
      ]
     },
     "execution_count": 14,
     "metadata": {},
     "output_type": "execute_result"
    }
   ],
   "source": [
    "Eβ = 1.2\n",
    "βs = [0.7, 1.1, 1.5] # Corresponding to each lambda\n",
    "H = 0.95\n",
    "#θ = 0.1\n",
    "\n",
    "def my_entropy(p):\n",
    "    return -np.sum(p * np.log(p))\n",
    "\n",
    "def x_to_lambdas(x):\n",
    "    return [x[0], x[1], 1 - x[0] - x[1]]\n",
    "\n",
    "# Set of lambdas that solve two equations\n",
    "def fun(x):\n",
    "    lambdas = x_to_lambdas(x)\n",
    "    return [my_entropy(lambdas) - H,\n",
    "         np.dot(βs, lambdas) - Eβ]\n",
    "\n",
    "#sol = optimize.root(fun, [0.2, 0.1]) --> [0.311, 0.12, 0.56]\n",
    "sol = optimize.root(fun, [0.1, 0.4])# --> [0.111, 0.52, 0.36]\n",
    "print(sol.message)\n",
    "\n",
    "lambdas_sol = x_to_lambdas(sol.x)\n",
    "print(lambdas_sol)\n",
    "print(\"Values: \", H, Eβ)\n",
    "entropy(lambdas_sol), np.dot(βs, lambdas_sol)\n",
    "\n"
   ]
  },
  {
   "cell_type": "code",
   "execution_count": 63,
   "metadata": {},
   "outputs": [
    {
     "name": "stderr",
     "output_type": "stream",
     "text": [
      "/usr/local/anaconda3/envs/firm_learning/lib/python3.7/site-packages/ipykernel/__main__.py:7: RuntimeWarning: invalid value encountered in log\n"
     ]
    },
    {
     "name": "stdout",
     "output_type": "stream",
     "text": [
      "The iteration is not making good progress, as measured by the \n",
      "  improvement from the last ten iterations.\n",
      "[0.8, 0.1, 0.09999999999999995]\n",
      "Values:  0.95 1.2\n"
     ]
    },
    {
     "data": {
      "image/png": "[encoded data removed]",
      "text/latex": [
       "$$\\left ( 0.6390318596501768, \\quad 0.8199999999999998\\right )$$"
      ],
      "text/plain": [
       "(0.6390318596501768, 0.8199999999999998)"
      ]
     },
     "execution_count": 63,
     "metadata": {},
     "output_type": "execute_result"
    }
   ],
   "source": [
    "#With a jacobian\n",
    "\n",
    "def jac(x):\n",
    "    dh_dx = np.array([-np.log(x[0]), -np.log(x[1])]) + np.log(1-x[0]-x[1])\n",
    "    \n",
    "    deb_dx = np.array([βs[0], βs[1]]) -  βs[2]\n",
    "    \n",
    "    return np.array([dh_dx, deb_dx])\n",
    "\n",
    "sol = optimize.root(fun, [0.8, 0.1], jac=jac)# --> [0.111, 0.52, 0.36]\n",
    "print(sol.message)\n",
    "\n",
    "lambdas_sol = x_to_lambdas(sol.x)\n",
    "print(lambdas_sol)\n",
    "print(\"Values: \", H, Eβ)\n",
    "entropy(lambdas_sol), np.dot(βs, lambdas_sol)"
   ]
  },
  {
   "cell_type": "code",
   "execution_count": 53,
   "metadata": {},
   "outputs": [
    {
     "name": "stdout",
     "output_type": "stream",
     "text": [
      "The solution converged.\n",
      "[0.4493011313143122, 0.10072317846500357, 0.4499756902206842]\n",
      "True H:  0.95  . Obtained:  0.95\n"
     ]
    }
   ],
   "source": [
    "# Set of lambdas that solve just the H equation\n",
    "\n",
    "def fun(x):\n",
    "    lambdas = x_to_lambdas(x)\n",
    "    return [entropy(lambdas) - H, 0.]\n",
    "\n",
    "sol = optimize.root(fun, [0.1, 0.05])\n",
    "lambdas_sol = x_to_lambdas(sol.x)\n",
    "print(sol.message)\n",
    "print(lambdas_sol)\n",
    "print(\"True H: \", H, \" . Obtained: \", my_entropy(lambdas_sol))\n"
   ]
  },
  {
   "cell_type": "markdown",
   "metadata": {},
   "source": [
    "## Reparametrise probabilities so they are between 0 and 1\n",
    "\n",
    "$$ p =  {\\exp(x) \\over 1 + \\exp(x)}$$\n"
   ]
  },
  {
   "cell_type": "code",
   "execution_count": 47,
   "metadata": {},
   "outputs": [
    {
     "data": {
      "image/png": "[encoded data removed]",
      "text/latex": [
       "$$\\frac{\\left(- \\log{\\left (\\frac{e^{x_{1}}}{e^{x_{1}} + 1} \\right )} + \\log{\\left (\\frac{- e^{x_{1} + x_{2}} + 1}{e^{x_{1}} + e^{x_{2}} + e^{x_{1} + x_{2}} + 1} \\right )}\\right) e^{x_{1}}}{e^{2 x_{1}} + 2 e^{x_{1}} + 1}$$"
      ],
      "text/plain": [
       "⎛     ⎛   x₁  ⎞      ⎛        x₁ + x₂         ⎞⎞    \n",
       "⎜     ⎜  ℯ    ⎟      ⎜     - ℯ        + 1     ⎟⎟  x₁\n",
       "⎜- log⎜───────⎟ + log⎜────────────────────────⎟⎟⋅ℯ  \n",
       "⎜     ⎜ x₁    ⎟      ⎜ x₁    x₂    x₁ + x₂    ⎟⎟    \n",
       "⎝     ⎝ℯ   + 1⎠      ⎝ℯ   + ℯ   + ℯ        + 1⎠⎠    \n",
       "────────────────────────────────────────────────────\n",
       "                  2⋅x₁      x₁                      \n",
       "                 ℯ     + 2⋅ℯ   + 1                  "
      ]
     },
     "execution_count": 47,
     "metadata": {},
     "output_type": "execute_result"
    }
   ],
   "source": [
    "x1, x2, x3 = sp.symbols('x1 x2 x3')\n",
    "#p1 = sp.exp(x1) / (1 + sp.exp(x1))\n",
    "#p2 = sp.exp(x2) / (1 + sp.exp(x2))\n",
    "p1 = 1 / (1 + sp.exp(-x1))\n",
    "p2 = 1 / (1 + sp.exp(-x2))\n",
    "h_sp = sp.simplify(-(p1*sp.log(p1) + p2*sp.log(p2) + (1 - p1 - p2)*sp.log(1 - p1 - p2)))\n",
    "\n",
    "sp.simplify(sp.diff(h_sp, x1))\n"
   ]
  },
  {
   "cell_type": "code",
   "execution_count": 46,
   "metadata": {},
   "outputs": [
    {
     "data": {
      "image/png": "[encoded data removed]",
      "text/latex": [
       "$$\\frac{\\left(- \\log{\\left (\\frac{e^{x_{2}}}{e^{x_{2}} + 1} \\right )} + \\log{\\left (\\frac{- e^{x_{1} + x_{2}} + 1}{e^{x_{1}} + e^{x_{2}} + e^{x_{1} + x_{2}} + 1} \\right )}\\right) e^{x_{2}}}{e^{2 x_{2}} + 2 e^{x_{2}} + 1}$$"
      ],
      "text/plain": [
       "⎛     ⎛   x₂  ⎞      ⎛        x₁ + x₂         ⎞⎞    \n",
       "⎜     ⎜  ℯ    ⎟      ⎜     - ℯ        + 1     ⎟⎟  x₂\n",
       "⎜- log⎜───────⎟ + log⎜────────────────────────⎟⎟⋅ℯ  \n",
       "⎜     ⎜ x₂    ⎟      ⎜ x₁    x₂    x₁ + x₂    ⎟⎟    \n",
       "⎝     ⎝ℯ   + 1⎠      ⎝ℯ   + ℯ   + ℯ        + 1⎠⎠    \n",
       "────────────────────────────────────────────────────\n",
       "                  2⋅x₂      x₂                      \n",
       "                 ℯ     + 2⋅ℯ   + 1                  "
      ]
     },
     "execution_count": 46,
     "metadata": {},
     "output_type": "execute_result"
    }
   ],
   "source": [
    "sp.simplify(sp.diff(h_sp, x2))"
   ]
  },
  {
   "cell_type": "code",
   "execution_count": 51,
   "metadata": {},
   "outputs": [
    {
     "data": {
      "image/png": "[encoded data removed]",
      "text/latex": [
       "$$\\frac{b_{1} e^{- x_{1}}}{\\left(1 + e^{- x_{1}}\\right)^{2}} - \\frac{b_{3} e^{- x_{1}}}{\\left(1 + e^{- x_{1}}\\right)^{2}}$$"
      ],
      "text/plain": [
       "      -x₁           -x₁  \n",
       "  b₁⋅ℯ          b₃⋅ℯ     \n",
       "─────────── - ───────────\n",
       "          2             2\n",
       "⎛     -x₁⎞    ⎛     -x₁⎞ \n",
       "⎝1 + ℯ   ⎠    ⎝1 + ℯ   ⎠ "
      ]
     },
     "execution_count": 51,
     "metadata": {},
     "output_type": "execute_result"
    }
   ],
   "source": [
    "b1, b2, b3 = sp.symbols('b1 b2 b3')\n",
    "eb_sp = b1 *p1 + b2*p2 + b3*(1-p1-p2)\n",
    "sp.diff(eb_sp, x1)"
   ]
  },
  {
   "cell_type": "code",
   "execution_count": 52,
   "metadata": {},
   "outputs": [
    {
     "data": {
      "image/png": "[encoded data removed]",
      "text/latex": [
       "$$\\frac{b_{2} e^{- x_{2}}}{\\left(1 + e^{- x_{2}}\\right)^{2}} - \\frac{b_{3} e^{- x_{2}}}{\\left(1 + e^{- x_{2}}\\right)^{2}}$$"
      ],
      "text/plain": [
       "      -x₂           -x₂  \n",
       "  b₂⋅ℯ          b₃⋅ℯ     \n",
       "─────────── - ───────────\n",
       "          2             2\n",
       "⎛     -x₂⎞    ⎛     -x₂⎞ \n",
       "⎝1 + ℯ   ⎠    ⎝1 + ℯ   ⎠ "
      ]
     },
     "execution_count": 52,
     "metadata": {},
     "output_type": "execute_result"
    }
   ],
   "source": [
    "sp.diff(eb_sp, x2)"
   ]
  },
  {
   "cell_type": "code",
   "execution_count": 66,
   "metadata": {},
   "outputs": [
    {
     "name": "stderr",
     "output_type": "stream",
     "text": [
      "/usr/local/anaconda3/envs/firm_learning/lib/python3.7/site-packages/ipykernel/__main__.py:7: RuntimeWarning: invalid value encountered in log\n"
     ]
    },
    {
     "name": "stdout",
     "output_type": "stream",
     "text": [
      "The solution converged.\n",
      "[0.3112726886318943, 0.12745462273496724, 0.5612726886331385]\n",
      "Values:  0.95 1.2\n"
     ]
    },
    {
     "data": {
      "image/png": "[encoded data removed]",
      "text/latex": [
       "$$\\left ( 0.9500000000003286, \\quad 1.2000000000004978\\right )$$"
      ],
      "text/plain": [
       "(0.9500000000003286, 1.2000000000004978)"
      ]
     },
     "execution_count": 66,
     "metadata": {},
     "output_type": "execute_result"
    }
   ],
   "source": [
    "def logit(p):\n",
    "    return np.log(p / (1 - p))\n",
    "\n",
    "def x_to_p(x):\n",
    "    \"\"\" inverse logit\"\"\"\n",
    "    return np.e**(x) / (1 + np.e**(x))\n",
    "\n",
    "def fun(x):\n",
    "    lambdas = x_to_lambdas(x_to_p(x))\n",
    "    return [my_entropy(lambdas) - H,\n",
    "         np.dot(βs, lambdas) - Eβ]\n",
    "\n",
    "\n",
    "def jac(x):\n",
    "    block = np.log( (1 - np.e**(x[0] + x[1]) )   / (np.e**(x[0])+np.e**(x[1])+np.e**(x[0]+x[1]) + 1))\n",
    "    num0 = (-np.log(  np.e**x[0] / ( np.e**x[0] + 1)) + block  )*np.e**x[0]\n",
    "    den0 = np.e**(2*x[0]) + 2*np.e**(x[0]) + 1\n",
    "    num1 =(-np.log(  np.e**x[1] / ( np.e**x[1] + 1)) + block  )*np.e**x[1]\n",
    "    den1 =np.e**(2*x[1]) + 2*np.e**(x[1]) + 1\n",
    "    \n",
    "    dh_dx = np.array([num0/den0, num1/den1])\n",
    "    \n",
    "    deb_0 = ((βs[0] - βs[2])*np.e**(-x[0])) / (1 + np.e**(-x[0]))**2\n",
    "    deb_1 = ((βs[1] - βs[2])*np.e**(-x[1])) / (1 + np.e**(-x[1]))**2\n",
    "    deb_dx = np.array([deb_0, deb_1])\n",
    "    \n",
    "    return np.array([dh_dx, deb_dx])\n",
    "\n",
    "sol = optimize.root(fun, logit(np.array([0.1, 0.01])), jac=jac)\n",
    "print(sol.message)\n",
    "\n",
    "lambdas_sol = x_to_lambdas(x_to_p(sol.x))\n",
    "print(lambdas_sol)\n",
    "print(\"Values: \", H, Eβ)\n",
    "my_entropy(lambdas_sol), np.dot(βs, lambdas_sol)"
   ]
  },
  {
   "cell_type": "code",
   "execution_count": null,
   "metadata": {},
   "outputs": [],
   "source": []
  },
  {
   "cell_type": "code",
   "execution_count": 43,
   "metadata": {},
   "outputs": [
    {
     "data": {
      "text/plain": [
       "<matplotlib.legend.Legend at 0x1a163eba58>"
      ]
     },
     "execution_count": 43,
     "metadata": {},
     "output_type": "execute_result"
    },
    {
     "data": {
      "image/png": "[encoded data removed]",
      "text/plain": [
       "<Figure size 432x288 with 1 Axes>"
      ]
     },
     "metadata": {},
     "output_type": "display_data"
    }
   ],
   "source": [
    "%matplotlib inline\n",
    "import matplotlib.pyplot as plt\n",
    "x = np.linspace(-100, 100, 1000)\n",
    "y = np.e**x / ( 1 + np.e**x)\n",
    "y2 = y = 1 / ( 1 + np.e**(-x))\n",
    "plt.plot(x, y)\n",
    "plt.plot(x, y2)\n",
    "plt.plot(x, y -y2, label=\"hola\")\n",
    "plt.legend()"
   ]
  },
  {
   "cell_type": "code",
   "execution_count": 40,
   "metadata": {},
   "outputs": [
    {
     "data": {
      "text/plain": [
       "[<matplotlib.lines.Line2D at 0x1a1619a0b8>]"
      ]
     },
     "execution_count": 40,
     "metadata": {},
     "output_type": "execute_result"
    },
    {
     "data": {
      "image/png": "[encoded data removed]",
      "text/plain": [
       "<Figure size 432x288 with 1 Axes>"
      ]
     },
     "metadata": {},
     "output_type": "display_data"
    }
   ],
   "source": [
    "%matplotlib inline\n",
    "import matplotlib.pyplot as plt\n",
    "y = 1 / ( 1 + np.e**(-x))\n",
    "\n",
    "plt.plot(x, y)"
   ]
  },
  {
   "cell_type": "code",
   "execution_count": null,
   "metadata": {},
   "outputs": [],
   "source": []
  }
 ],
 "metadata": {
  "kernelspec": {
   "display_name": "Python [conda env:firm_learning]",
   "language": "python",
   "name": "conda-env-firm_learning-py"
  },
  "language_info": {
   "codemirror_mode": {
    "name": "ipython",
    "version": 3
   },
   "file_extension": ".py",
   "mimetype": "text/x-python",
   "name": "python",
   "nbconvert_exporter": "python",
   "pygments_lexer": "ipython3",
   "version": "3.7.0"
  }
 },
 "nbformat": 4,
 "nbformat_minor": 2
}
