{
 "cells": [
  {
   "cell_type": "markdown",
   "metadata": {},
   "source": [
    "# Pre calculate Lambda solutions\n",
    "\n",
    "Given a $H, E[\\beta]$ input, we find the three-dimensional lambda solution.\n",
    "\n",
    "Find k by k solutions, then find a smart, fast way to do the lookup\n",
    "The lookup should find the row and column index where the solution lies\n",
    "and also the four quadrants.\n",
    "\n",
    "These solution take src.betas_transition as given, so can't be used for\n",
    "different values of these"
   ]
  },
  {
   "cell_type": "code",
   "execution_count": null,
   "metadata": {},
   "outputs": [],
   "source": []
  },
  {
   "cell_type": "code",
   "execution_count": 19,
   "metadata": {},
   "outputs": [],
   "source": [
    "import numpy as np\n",
    "from numba import njit\n",
    "from scipy.stats import entropy\n",
    "from scipy import optimize\n",
    "\n",
    "#Constants\n",
    "betas_transition = np.array([-4., -2., -1.1])\n",
    "\n",
    "\n",
    "def reparam_lambdas(x):\n",
    "    \"\"\"\n",
    "    uses softmax to get values between 0 and 1\n",
    "    and make them sum to 1\n",
    "    \"\"\"\n",
    "    #return np.exp(x) / np.sum(np.exp(x))\n",
    "    #Numerically more stable version\n",
    "    e_x = np.exp(x - np.max(x))\n",
    "    return e_x / e_x.sum()\n",
    "\n",
    "\n",
    "#@njit()\n",
    "def h_and_exp_betas_eqns(orig_lambdas, βs, Eβ, H, w=np.array([[1., 0.], [0., 1./4.]])):\n",
    "    \"\"\"\n",
    "    orig_lambdas: original lambda tries (not summing to zero, not within [0, 1])\n",
    "    Eβ, H: the objectives\n",
    "    βs: fixed constant of the model\n",
    "    \"\"\"\n",
    "    lambdas = reparam_lambdas(orig_lambdas)\n",
    "    g = np.array([entropy(lambdas) - H, np.dot(βs, lambdas) - Eβ])\n",
    "    return g.T @ w @ g\n",
    "\n",
    "\n",
    "def H_and_eb_to_lambda0(H, Eβ,\n",
    "                        starting_values=np.array([0.1, 1.5, 1.])):\n",
    "    \"\"\"\n",
    "    Generates a lambda0 vector from the values of\n",
    "    the entropy and expected value of betas (H, EB)\n",
    "    \"\"\"\n",
    "\n",
    "    def fun_(lambda_try):\n",
    "        return h_and_exp_betas_eqns(lambda_try, betas_transition, Eβ, H)\n",
    "\n",
    "    sol = optimize.minimize(fun_, x0=starting_values, method='Powell')\n",
    "    lambdas_sol = reparam_lambdas(sol.x)\n",
    "    if not sol.success:\n",
    "        # Use Nelder-Mead from different starting_value\n",
    "        sol = optimize.minimize(fun_, x0=np.array([1.6, 0.1, 0.25]),\n",
    "                                method='Nelder-Mead')\n",
    "        lambdas_sol = reparam_lambdas(sol.x)\n",
    "        if not sol.success:\n",
    "            print(f\"Theta to lambda0 didn't converge\", sol.x, lambdas_sol)\n",
    "\n",
    "    return lambdas_sol"
   ]
  },
  {
   "cell_type": "code",
   "execution_count": 62,
   "metadata": {},
   "outputs": [
    {
     "name": "stdout",
     "output_type": "stream",
     "text": [
      "(100, 290)\n"
     ]
    }
   ],
   "source": [
    "h_bounds = [0, 1]\n",
    "eb_bounds = [betas_transition[0], betas_transition[-1]]\n",
    "\n",
    "h_digit_precision = 0.01\n",
    "eb_digit_preciision = 0.01\n",
    "h_candidates = np.arange(h_bounds[0], h_bounds[1], h_digit_precision)\n",
    "eb_candidates = np.arange(eb_bounds[0], eb_bounds[1], eb_digit_preciision)\n",
    "grid_size = (len(h_candidates), len(eb_candidates))\n",
    "grid_total_elements = grid_size[0]*grid_size[1]\n",
    "lambda_values = np.empty((grid_size[0], grid_size[1], 3))\n",
    "print(grid_size)"
   ]
  },
  {
   "cell_type": "code",
   "execution_count": 61,
   "metadata": {},
   "outputs": [],
   "source": [
    "import time\n",
    "start = time.time()\n",
    "\n",
    "for i_h, h in enumerate(h_candidates):\n",
    "    for i_eb, eb in enumerate(eb_candidates):\n",
    "        lambda_values[i_h, i_eb, :] = H_and_eb_to_lambda0(h, eb)\n",
    "        \n",
    "secs_it_took = time.time() - start"
   ]
  },
  {
   "cell_type": "code",
   "execution_count": 29,
   "metadata": {},
   "outputs": [
    {
     "name": "stdout",
     "output_type": "stream",
     "text": [
      "tomó 0.009705712985992432 minutos por valor\n"
     ]
    }
   ],
   "source": [
    "secs_por_element =  secs_it_took / grid_total_elements \n",
    "print(f\"tomó {secs_por_element} minutos por valor\")"
   ]
  },
  {
   "cell_type": "code",
   "execution_count": 68,
   "metadata": {},
   "outputs": [],
   "source": [
    "h_n_digits_precision = 3\n",
    "eb_n_digits_precision = 3\n",
    "h_dict = {}\n",
    "for i in range(len(h_candidates)):\n",
    "    h_dict[np.round(h_candidates[i], h_n_digits_precision)] = i\n",
    "\n",
    "e_dict = {}\n",
    "for i in range(len(eb_candidates)):\n",
    "    e_dict[np.round(eb_candidates[i], eb_n_digits_precision)] = i"
   ]
  },
  {
   "cell_type": "code",
   "execution_count": 71,
   "metadata": {},
   "outputs": [
    {
     "data": {
      "text/plain": [
       "dict_keys([0.0, 0.01, 0.02, 0.03, 0.04, 0.05, 0.06, 0.07, 0.08, 0.09, 0.1, 0.11, 0.12, 0.13, 0.14, 0.15, 0.16, 0.17, 0.18, 0.19, 0.2, 0.21, 0.22, 0.23, 0.24, 0.25, 0.26, 0.27, 0.28, 0.29, 0.3, 0.31, 0.32, 0.33, 0.34, 0.35, 0.36, 0.37, 0.38, 0.39, 0.4, 0.41, 0.42, 0.43, 0.44, 0.45, 0.46, 0.47, 0.48, 0.49, 0.5, 0.51, 0.52, 0.53, 0.54, 0.55, 0.56, 0.57, 0.58, 0.59, 0.6, 0.61, 0.62, 0.63, 0.64, 0.65, 0.66, 0.67, 0.68, 0.69, 0.7, 0.71, 0.72, 0.73, 0.74, 0.75, 0.76, 0.77, 0.78, 0.79, 0.8, 0.81, 0.82, 0.83, 0.84, 0.85, 0.86, 0.87, 0.88, 0.89, 0.9, 0.91, 0.92, 0.93, 0.94, 0.95, 0.96, 0.97, 0.98, 0.99])"
      ]
     },
     "execution_count": 71,
     "metadata": {},
     "output_type": "execute_result"
    }
   ],
   "source": [
    "h_dict.keys()"
   ]
  },
  {
   "cell_type": "code",
   "execution_count": 82,
   "metadata": {},
   "outputs": [
    {
     "data": {
      "text/plain": [
       "34"
      ]
     },
     "execution_count": 82,
     "metadata": {},
     "output_type": "execute_result"
    }
   ],
   "source": [
    "candidate = 0.33*0.3 + 0.34*0.7\n",
    "h_dict[np.round(candidate, h_n_digits_precision-1)]"
   ]
  },
  {
   "cell_type": "code",
   "execution_count": 88,
   "metadata": {},
   "outputs": [
    {
     "data": {
      "text/plain": [
       "[-4.0, -3.99, -3.98, -3.97, -3.96]"
      ]
     },
     "execution_count": 88,
     "metadata": {},
     "output_type": "execute_result"
    }
   ],
   "source": [
    "list(e_dict.keys())[0:5]"
   ]
  },
  {
   "cell_type": "code",
   "execution_count": 90,
   "metadata": {},
   "outputs": [
    {
     "data": {
      "text/plain": [
       "2"
      ]
     },
     "execution_count": 90,
     "metadata": {},
     "output_type": "execute_result"
    }
   ],
   "source": [
    "e_dict[np.round(-3.9827171, 2)]\n"
   ]
  },
  {
   "cell_type": "code",
   "execution_count": 101,
   "metadata": {},
   "outputs": [
    {
     "data": {
      "text/plain": [
       "{1, 2}"
      ]
     },
     "execution_count": 101,
     "metadata": {},
     "output_type": "execute_result"
    }
   ],
   "source": [
    "#Input\n",
    "eb, H = -3.977, 0.2134\n",
    "\n",
    "#Find row, col\n",
    "row = h_dict[np.round(H, h_n_digits_precision-1)]\n",
    "col = e_dict[np.round(eb, eb_n_digits_precision-1)]\n",
    "\n",
    "# Distances to row-1, row, row+1 and col-1, col, col+1\n",
    "dist_row = np.array([np.abs(H - h_candidates[row - 1]), np.abs(H - h_candidates[row]), \n",
    "           np.abs(H - h_candidates[row + 1])])\n",
    "if np.argmax(dist_row) == 2:\n",
    "    relevant_rows = [row-1, row]\n",
    "    dist_row = dist_row[0:2]\n",
    "elif np.argmax(dist_row) == 0:\n",
    "    relevant_rows = [row, row+1]\n",
    "    dist_row = dist_row[1::]\n",
    "\n",
    "dist_col = np.array([np.abs(eb- eb_candidates[col - 1]), np.abs(eb - eb_candidates[col]), \n",
    "           np.abs(eb - eb_candidates[col + 1])])\n",
    "if np.argmax(dist_col) == 2:\n",
    "    relevant_cols = [col-1, col]\n",
    "    dist_col = dist_col[0:2]\n",
    "elif np.argmax(dist_col) == 0:\n",
    "    relevant_cols = [col, col+1]\n",
    "    dist_col = dist_col[1::]\n",
    "\n",
    "    \n"
   ]
  },
  {
   "cell_type": "code",
   "execution_count": 105,
   "metadata": {},
   "outputs": [
    {
     "data": {
      "text/plain": [
       "0.8333333333333334"
      ]
     },
     "execution_count": 105,
     "metadata": {},
     "output_type": "execute_result"
    }
   ],
   "source": [
    "def inv_dis(da, db):\n",
    "    return (1/da) / ((1/da) + (1/db))\n",
    "\n",
    "inv_dis(0.02, 0.1)"
   ]
  },
  {
   "cell_type": "code",
   "execution_count": 43,
   "metadata": {},
   "outputs": [
    {
     "data": {
      "text/plain": [
       "0.017171717"
      ]
     },
     "execution_count": 43,
     "metadata": {},
     "output_type": "execute_result"
    }
   ],
   "source": []
  },
  {
   "cell_type": "code",
   "execution_count": 45,
   "metadata": {},
   "outputs": [
    {
     "data": {
      "text/plain": [
       "0.01"
      ]
     },
     "execution_count": 45,
     "metadata": {},
     "output_type": "execute_result"
    }
   ],
   "source": [
    "np.round(h_candidates[1], 3)"
   ]
  },
  {
   "cell_type": "code",
   "execution_count": 46,
   "metadata": {},
   "outputs": [
    {
     "data": {
      "text/plain": [
       "array([0.        , 0.01010101, 0.02020202, 0.03030303, 0.04040404,\n",
       "       0.05050505, 0.06060606, 0.07070707, 0.08080808, 0.09090909,\n",
       "       0.1010101 , 0.11111111, 0.12121212, 0.13131313, 0.14141414,\n",
       "       0.15151515, 0.16161616, 0.17171717, 0.18181818, 0.19191919,\n",
       "       0.2020202 , 0.21212121, 0.22222222, 0.23232323, 0.24242424,\n",
       "       0.25252525, 0.26262626, 0.27272727, 0.28282828, 0.29292929,\n",
       "       0.3030303 , 0.31313131, 0.32323232, 0.33333333, 0.34343434,\n",
       "       0.35353535, 0.36363636, 0.37373737, 0.38383838, 0.39393939,\n",
       "       0.4040404 , 0.41414141, 0.42424242, 0.43434343, 0.44444444,\n",
       "       0.45454545, 0.46464646, 0.47474747, 0.48484848, 0.49494949,\n",
       "       0.50505051, 0.51515152, 0.52525253, 0.53535354, 0.54545455,\n",
       "       0.55555556, 0.56565657, 0.57575758, 0.58585859, 0.5959596 ,\n",
       "       0.60606061, 0.61616162, 0.62626263, 0.63636364, 0.64646465,\n",
       "       0.65656566, 0.66666667, 0.67676768, 0.68686869, 0.6969697 ,\n",
       "       0.70707071, 0.71717172, 0.72727273, 0.73737374, 0.74747475,\n",
       "       0.75757576, 0.76767677, 0.77777778, 0.78787879, 0.7979798 ,\n",
       "       0.80808081, 0.81818182, 0.82828283, 0.83838384, 0.84848485,\n",
       "       0.85858586, 0.86868687, 0.87878788, 0.88888889, 0.8989899 ,\n",
       "       0.90909091, 0.91919192, 0.92929293, 0.93939394, 0.94949495,\n",
       "       0.95959596, 0.96969697, 0.97979798, 0.98989899, 1.        ])"
      ]
     },
     "execution_count": 46,
     "metadata": {},
     "output_type": "execute_result"
    }
   ],
   "source": [
    "h_candidates"
   ]
  },
  {
   "cell_type": "code",
   "execution_count": 32,
   "metadata": {},
   "outputs": [
    {
     "data": {
      "text/plain": [
       "161.76188309987387"
      ]
     },
     "execution_count": 32,
     "metadata": {},
     "output_type": "execute_result"
    }
   ],
   "source": [
    "(secs_por_element * 1000000) / 60"
   ]
  },
  {
   "cell_type": "code",
   "execution_count": 10,
   "metadata": {},
   "outputs": [
    {
     "data": {
      "text/plain": [
       "array([0.5756284, 0.2121858, 0.2121858])"
      ]
     },
     "execution_count": 10,
     "metadata": {},
     "output_type": "execute_result"
    }
   ],
   "source": [
    "def avers(x):\n",
    "    return np.exp(x) / np.sum(np.exp(x))\n",
    "\n",
    "avers([0.999, 0.001, 0.001])"
   ]
  },
  {
   "cell_type": "code",
   "execution_count": 5,
   "metadata": {},
   "outputs": [
    {
     "data": {
      "text/plain": [
       "1.00000001"
      ]
     },
     "execution_count": 5,
     "metadata": {},
     "output_type": "execute_result"
    }
   ],
   "source": [
    "np.array([0.26030255, 0.38832577, 0.35137169]).sum()"
   ]
  },
  {
   "cell_type": "code",
   "execution_count": 6,
   "metadata": {},
   "outputs": [
    {
     "data": {
      "text/plain": [
       "array([0.1, 0.5, 0.4])"
      ]
     },
     "execution_count": 6,
     "metadata": {},
     "output_type": "execute_result"
    }
   ],
   "source": [
    "np.array([0.1, 0.5, 0.4])"
   ]
  },
  {
   "cell_type": "code",
   "execution_count": 11,
   "metadata": {},
   "outputs": [
    {
     "data": {
      "text/plain": [
       "array([ 0.30485283, -1.31179997, -1.31179997])"
      ]
     },
     "execution_count": 11,
     "metadata": {},
     "output_type": "execute_result"
    }
   ],
   "source": [
    "logit(np.array([0.5756284, 0.2121858, 0.2121858]))"
   ]
  },
  {
   "cell_type": "code",
   "execution_count": 12,
   "metadata": {},
   "outputs": [
    {
     "data": {
      "text/plain": [
       "array([0.13307069, 0.53962824, 0.32730107])"
      ]
     },
     "execution_count": 12,
     "metadata": {},
     "output_type": "execute_result"
    }
   ],
   "source": [
    "avers(np.array([0.1, 1.5, 1.]))"
   ]
  },
  {
   "cell_type": "code",
   "execution_count": null,
   "metadata": {},
   "outputs": [],
   "source": []
  }
 ],
 "metadata": {
  "kernelspec": {
   "display_name": "Python [conda env:spike_basicoV3]",
   "language": "python",
   "name": "conda-env-spike_basicoV3-py"
  },
  "language_info": {
   "codemirror_mode": {
    "name": "ipython",
    "version": 3
   },
   "file_extension": ".py",
   "mimetype": "text/x-python",
   "name": "python",
   "nbconvert_exporter": "python",
   "pygments_lexer": "ipython3",
   "version": "3.6.7"
  }
 },
 "nbformat": 4,
 "nbformat_minor": 2
}
