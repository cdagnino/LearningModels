{
 "cells": [
  {
   "cell_type": "markdown",
   "metadata": {},
   "source": [
    "# Get Unique Lambdas from H (plus other restrictions)\n",
    "\n",
    "The only objective of this notebooks it to get a set of unique lambdas from H plus some extra assumptions.\n",
    "Numerical methods would be fine, though riskier (since a random start would give different lambdas, bringing unstability to the maximization GMM procedure)\n",
    "\n",
    "+ $Z$ = firm data\n",
    "+ $\\theta$ = deep parameters\n",
    "+ $H = g(Z'\\theta)$, $Eβ = m(Z'\\theta)$\n",
    "\n",
    "Thus, for a given $\\theta$ try (GMM try), we have a fixed $(H, Eβ)$. This is our starting point and we should get $\\lambda$s from then (hopefully just one set!!)"
   ]
  },
  {
   "cell_type": "code",
   "execution_count": 11,
   "metadata": {},
   "outputs": [],
   "source": [
    "from scipy.stats import entropy\n",
    "from scipy import optimize\n",
    "import numpy as np"
   ]
  },
  {
   "cell_type": "code",
   "execution_count": 46,
   "metadata": {},
   "outputs": [
    {
     "name": "stdout",
     "output_type": "stream",
     "text": [
      "The solution converged.\n",
      "[0.11150149216228898, 0.5269970156754217, 0.36150149216228933]\n",
      "Values:  0.95 1.2\n"
     ]
    },
    {
     "data": {
      "text/plain": [
       "(0.9500000000000002, 1.2000000000000002)"
      ]
     },
     "execution_count": 46,
     "metadata": {},
     "output_type": "execute_result"
    }
   ],
   "source": [
    "Eβ = 1.2\n",
    "βs = [0.7, 1.1, 1.5] # Corresponding to each lambda\n",
    "H = 0.95\n",
    "#θ = 0.1\n",
    "\n",
    "def my_entropy(p):\n",
    "    return -np.sum(p * np.log(p))\n",
    "\n",
    "def x_to_lambdas(x):\n",
    "    return [x[0], x[1], 1 - x[0] - x[1]]\n",
    "\n",
    "# Set of lambdas that solve two equations\n",
    "def fun(x):\n",
    "    lambdas = x_to_lambdas(x)\n",
    "    return [my_entropy(lambdas) - H,\n",
    "         np.dot(βs, lambdas) - Eβ]\n",
    "\n",
    "#sol = optimize.root(fun, [0.2, 0.1]) --> [0.311, 0.12, 0.56]\n",
    "sol = optimize.root(fun, [0.1, 0.4]) --> [0.111, 0.52, 0.36]\n",
    "print(sol.message)\n",
    "\n",
    "lambdas_sol = x_to_lambdas(sol.x)\n",
    "print(lambdas_sol)\n",
    "print(\"Values: \", H, Eβ)\n",
    "entropy(lambdas_sol), np.dot(βs, lambdas_sol)\n",
    "\n"
   ]
  },
  {
   "cell_type": "code",
   "execution_count": 53,
   "metadata": {},
   "outputs": [
    {
     "name": "stdout",
     "output_type": "stream",
     "text": [
      "The solution converged.\n",
      "[0.4493011313143122, 0.10072317846500357, 0.4499756902206842]\n",
      "True H:  0.95  . Obtained:  0.95\n"
     ]
    }
   ],
   "source": [
    "# Set of lambdas that solve just the H equation\n",
    "\n",
    "def fun(x):\n",
    "    lambdas = x_to_lambdas(x)\n",
    "    return [entropy(lambdas) - H, 0.]\n",
    "\n",
    "sol = optimize.root(fun, [0.1, 0.05])\n",
    "lambdas_sol = x_to_lambdas(sol.x)\n",
    "print(sol.message)\n",
    "print(lambdas_sol)\n",
    "print(\"True H: \", H, \" . Obtained: \", my_entropy(lambdas_sol))\n"
   ]
  },
  {
   "cell_type": "code",
   "execution_count": 30,
   "metadata": {},
   "outputs": [
    {
     "data": {
      "text/plain": [
       "0.9499999999999998"
      ]
     },
     "execution_count": 30,
     "metadata": {},
     "output_type": "execute_result"
    }
   ],
   "source": [
    "entropy(x_to_lambdas(sol.x))"
   ]
  },
  {
   "cell_type": "code",
   "execution_count": 13,
   "metadata": {},
   "outputs": [
    {
     "data": {
      "text/plain": [
       "1.1400000000000001"
      ]
     },
     "execution_count": 13,
     "metadata": {},
     "output_type": "execute_result"
    }
   ],
   "source": [
    "np.dot(βs, [0.2, 0.5, 0.3])"
   ]
  },
  {
   "cell_type": "code",
   "execution_count": 23,
   "metadata": {},
   "outputs": [
    {
     "data": {
      "text/plain": [
       "'1.1.0'"
      ]
     },
     "execution_count": 23,
     "metadata": {},
     "output_type": "execute_result"
    }
   ],
   "source": [
    "import scipy\n",
    "scipy.__version__"
   ]
  },
  {
   "cell_type": "code",
   "execution_count": null,
   "metadata": {},
   "outputs": [],
   "source": []
  }
 ],
 "metadata": {
  "kernelspec": {
   "display_name": "Python [conda env:learningenv]",
   "language": "python",
   "name": "conda-env-learningenv-py"
  },
  "language_info": {
   "codemirror_mode": {
    "name": "ipython",
    "version": 3
   },
   "file_extension": ".py",
   "mimetype": "text/x-python",
   "name": "python",
   "nbconvert_exporter": "python",
   "pygments_lexer": "ipython3",
   "version": "3.7.0"
  }
 },
 "nbformat": 4,
 "nbformat_minor": 2
}
