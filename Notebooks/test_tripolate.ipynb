{
 "cells": [
  {
   "cell_type": "markdown",
   "metadata": {},
   "source": [
    "## Testing \"tripolate()\" manual triangular interpolation"
   ]
  },
  {
   "cell_type": "code",
   "execution_count": 1,
   "metadata": {},
   "outputs": [
    {
     "data": {
      "text/plain": [
       "Plots.PyPlotBackend()"
      ]
     },
     "execution_count": 1,
     "metadata": {},
     "output_type": "execute_result"
    }
   ],
   "source": [
    "using Plots; pyplot()"
   ]
  },
  {
   "cell_type": "code",
   "execution_count": 180,
   "metadata": {},
   "outputs": [
    {
     "data": {
      "text/plain": [
       "tripolate (generic function with 1 method)"
      ]
     },
     "execution_count": 180,
     "metadata": {},
     "output_type": "execute_result"
    }
   ],
   "source": [
    "function tripolate(V, x, y)\n",
    "    # Triangular (linear) interpolation:\n",
    "    # 0<=|x|<=1, 0<=|y|<=1 and N parition points\n",
    "    # of [0,1] for x, y\n",
    "    N  = size(V, 1)-1\n",
    "    xf = Int(floor(N*x) - floor(x))\n",
    "    yf = Int(floor(N*y) - floor(y))\n",
    "    x_ = (N*x - xf)\n",
    "    y_ = (N*y - yf)\n",
    "    if min(xf, yf) == 0 && max(xf, yf) <= 1\n",
    "        x_ = 1-x_\n",
    "        y_ = 1-y_\n",
    "    end\n",
    "    if xf + yf <= 1\n",
    "        return V[xf+2,yf+1]*(1-x_) + V[xf+1,yf+2]*(1-y_) - V[xf+1,yf+1]*(1-x_-y_)\n",
    "    else\n",
    "        return V[xf+2,yf+1]*(x_) + V[xf+1,yf+2]*(y_) + V[xf+1,yf+1]*(1-x_-y_)\n",
    "    end \n",
    "end"
   ]
  },
  {
   "cell_type": "code",
   "execution_count": 9,
   "metadata": {},
   "outputs": [
    {
     "data": {
      "text/plain": [
       "interpV_tri (generic function with 1 method)"
      ]
     },
     "execution_count": 9,
     "metadata": {},
     "output_type": "execute_result"
    }
   ],
   "source": [
    "function interpV_tri(simplex, V)\n",
    "    N_simplex = Int((sqrt(8*size(simplex, 1)+1)-1)/2)\n",
    "    augment_V = zeros(N_simplex, N_simplex)\n",
    "    k = 1\n",
    "    for i in 1:N_simplex\n",
    "        for j in 1:(N_simplex+1-i)\n",
    "            augment_V[i,j] = V[k]\n",
    "            k += 1\n",
    "        end\n",
    "    end\n",
    "\n",
    "    interpolate_V(x) = tripolate(augment_V, x[1], x[2])\n",
    "\n",
    "    return interpolate_V\n",
    "end"
   ]
  },
  {
   "cell_type": "code",
   "execution_count": 4,
   "metadata": {},
   "outputs": [
    {
     "data": {
      "text/plain": [
       "interpV (generic function with 1 method)"
      ]
     },
     "execution_count": 4,
     "metadata": {},
     "output_type": "execute_result"
    }
   ],
   "source": [
    "using GridInterpolations\n",
    "\n",
    "function interpV(simplex, V)\n",
    "\n",
    "    step = simplex[2,2]\n",
    "    grid = 0.0:step:1.0\n",
    "    size_simplex = length(grid)\n",
    "\n",
    "    augment_V = zeros(size_simplex, size_simplex)\n",
    "    k = 1\n",
    "    for i in 1:size_simplex\n",
    "        for j in 1:size_simplex\n",
    "            if j <= size_simplex+1-i\n",
    "                augment_V[i,j] = V[k]\n",
    "                k += 1\n",
    "            end\n",
    "        end\n",
    "    end\n",
    "\n",
    "    interpolate_V(x) = interpolate(SimplexGrid(grid, grid), flipdim(augment_V,1), [1-x[1], x[2]])\n",
    "\n",
    "    return interpolate_V\n",
    "\n",
    "end"
   ]
  },
  {
   "cell_type": "code",
   "execution_count": 5,
   "metadata": {},
   "outputs": [
    {
     "data": {
      "text/plain": [
       "210×3 Array{Float64,2}:\n",
       " 0.0       0.0        1.0        \n",
       " 0.0       0.0526316  0.947368   \n",
       " 0.0       0.105263   0.894737   \n",
       " 0.0       0.157895   0.842105   \n",
       " 0.0       0.210526   0.789474   \n",
       " 0.0       0.263158   0.736842   \n",
       " 0.0       0.315789   0.684211   \n",
       " 0.0       0.368421   0.631579   \n",
       " 0.0       0.421053   0.578947   \n",
       " 0.0       0.473684   0.526316   \n",
       " 0.0       0.526316   0.473684   \n",
       " 0.0       0.578947   0.421053   \n",
       " 0.0       0.631579   0.368421   \n",
       " ⋮                               \n",
       " 0.789474  0.157895   0.0526316  \n",
       " 0.789474  0.210526   0.0        \n",
       " 0.842105  0.0        0.157895   \n",
       " 0.842105  0.0526316  0.105263   \n",
       " 0.842105  0.105263   0.0526316  \n",
       " 0.842105  0.157895   5.55112e-17\n",
       " 0.894737  0.0        0.105263   \n",
       " 0.894737  0.0526316  0.0526316  \n",
       " 0.894737  0.105263   0.0        \n",
       " 0.947368  0.0        0.0526316  \n",
       " 0.947368  0.0526316  5.55112e-17\n",
       " 1.0       0.0        0.0        "
      ]
     },
     "execution_count": 5,
     "metadata": {},
     "output_type": "execute_result"
    }
   ],
   "source": [
    "function generate_simplex_3dims(n_per_dim::Integer=20) \n",
    "\n",
    "    simplex = [[x, y, 1-x-y] for x in linspace(0,1,n_per_dim) for y in linspace(0,1,n_per_dim) if x+y <= 1.0]\n",
    "\n",
    "    return hcat(simplex...)'\n",
    "\n",
    "end\n",
    "                \n",
    "# Generate a test simplex:\n",
    "test_simplex = generate_simplex_3dims()"
   ]
  },
  {
   "cell_type": "code",
   "execution_count": 6,
   "metadata": {},
   "outputs": [],
   "source": [
    "# Create a test function:\n",
    "f(x) = exp(-(3*(x[1])^2+(3*x[2])^2))\n",
    "\n",
    "F = zeros(size(test_simplex,1),1)\n",
    "\n",
    "for j in 1:length(F)\n",
    "    F[j] = f(test_simplex[j,:])\n",
    "end"
   ]
  },
  {
   "cell_type": "code",
   "execution_count": 181,
   "metadata": {},
   "outputs": [
    {
     "name": "stdout",
     "output_type": "stream",
     "text": [
      "(0.009744525326989495, 2653)\n"
     ]
    },
    {
     "data": {
      "image/png": "[encoded data removed]"
     },
     "execution_count": 181,
     "metadata": {},
     "output_type": "execute_result"
    }
   ],
   "source": [
    "interpF = interpV(test_simplex, F)\n",
    "\n",
    "X = linspace(0, 1, 100)\n",
    "Y = linspace(0, 1, 100)\n",
    "\n",
    "Vplot = zeros(length(X), length(Y))\n",
    "\n",
    "for (i, x) in enumerate(X)\n",
    "    for j in 1:(length(X)-i+1)\n",
    "        Vplot[i, j] = interpF([x, Y[j], 1-(x+Y[j])])\n",
    "    end\n",
    "end\n",
    "\n",
    "#surface(Vplot, color = :plasma)\n",
    "\n",
    "interpF_tri = interpV_tri(test_simplex, F)\n",
    "\n",
    "Vplot_tri = zeros(length(X), length(Y))\n",
    "\n",
    "for (i, x) in enumerate(X)\n",
    "    for j in 1:(length(X)-i+1)\n",
    "        Vplot_tri[i, j] = interpF_tri([x, Y[j], 1-(x+Y[j])])\n",
    "    end\n",
    "end\n",
    "\n",
    "#surface(Vplot_tri, color = :plasma)\n",
    "println(findmax(abs.(Vplot - Vplot_tri)))\n",
    "heatmap((Vplot - Vplot_tri))"
   ]
  },
  {
   "cell_type": "code",
   "execution_count": null,
   "metadata": {},
   "outputs": [],
   "source": []
  }
 ],
 "metadata": {
  "kernelspec": {
   "display_name": "Julia 0.6.4",
   "language": "julia",
   "name": "julia-0.6"
  },
  "language_info": {
   "file_extension": ".jl",
   "mimetype": "application/julia",
   "name": "julia",
   "version": "0.6.4"
  }
 },
 "nbformat": 4,
 "nbformat_minor": 2
}
