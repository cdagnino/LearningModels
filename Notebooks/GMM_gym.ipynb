{
 "cells": [
  {
   "cell_type": "markdown",
   "metadata": {},
   "source": [
    "# GMM Gym\n",
    "\n",
    "Minimal working example of a GMM!\n",
    "\n",
    "## 1. Setup\n",
    "\n",
    "+ 1.1 Set up real deep parameters ($\\lambda_0 = f(X, \\theta)$)\n",
    "+ 1.2 Get ValueF and optimal policy function\n",
    "+ 1.3 Simulate demand and optimal pricing for N firms\n",
    "\n",
    "## 2. Estimating $\\theta$\n",
    "\n",
    "Try $\\theta$ until error < $\\varepsilon$\n",
    "\n",
    "+ 2.1. $\\theta$ values generate a $\\lambda_0$\n",
    "+ 2.2. $\\lambda_0$ + demand observations + optimal pricing generate pricing decisions\n",
    "+ 2.3. $error = \\left|pricing decisions - observed pricing\\right|$\n"
   ]
  },
  {
   "cell_type": "markdown",
   "metadata": {},
   "source": [
    "## 1. Setup"
   ]
  },
  {
   "cell_type": "code",
   "execution_count": 1,
   "metadata": {},
   "outputs": [
    {
     "data": {
      "text/plain": [
       "array([[0.16994789, 0.43637014, 0.39368197],\n",
       "       [0.24265349, 0.36428628, 0.39306023],\n",
       "       [0.20348387, 0.40311542, 0.39340072],\n",
       "       [0.21614112, 0.39087477, 0.39298411],\n",
       "       [0.13719562, 0.48111603, 0.38168835],\n",
       "       [0.13671401, 0.48139322, 0.38189277],\n",
       "       [0.30441464, 0.32061145, 0.37497391],\n",
       "       [0.18182337, 0.4278981 , 0.39027854],\n",
       "       [0.15061486, 0.46202574, 0.3873594 ],\n",
       "       [0.18493539, 0.42237627, 0.39268834]])"
      ]
     },
     "execution_count": 1,
     "metadata": {},
     "output_type": "execute_result"
    }
   ],
   "source": [
    "import numpy as np\n",
    "from typing import Callable\n",
    "%matplotlib inline\n",
    "import matplotlib.pyplot as plt\n",
    "import dill\n",
    "import numpy as np\n",
    "import pandas as pd\n",
    "    \n",
    "import sys\n",
    "sys.path.append('../')\n",
    "import src\n",
    "\n",
    "# Simulation parameters \\\n",
    "########################\n",
    "σerror= 0.005 #0.01\n",
    "Nfirms = 300\n",
    "time_periods = 40\n",
    "β10, β11 = 0.1, 2\n",
    "β20, β21 = 0.3, -1\n",
    "\n",
    "#TODO: consider using an e**x transformation to avoid clipping\n",
    "def lambda_0v0(x) -> np.ndarray:\n",
    "    \"\"\"\n",
    "    Generate a vector of lambdas on the observables x\n",
    "    \"\"\"\n",
    "    lambda1 = np.clip(β10 + β11*x + np.random.normal(0, σerror), 0, 1)\n",
    "    lambda2 = np.clip(β20 + β21*x + np.random.normal(0, σerror), 0, 1)\n",
    "    lambda3 = 1 - lambda1 - lambda2\n",
    "    return np.array([lambda1, lambda2, lambda3])\n",
    "\n",
    "def from_theta_to_lamba0v0(θ, x):\n",
    "    \"\"\"\n",
    "    Generates a lambda0 vector from the theta vector and x\n",
    "    θ = [θ10, θ11, θ20, θ21]\n",
    "    \"\"\"\n",
    "    lambda1 = np.clip(θ[0] + θ[1]*x + np.random.normal(0, σerror), 0, 1)\n",
    "    lambda2 = np.clip(θ[2] + θ[3]*x + np.random.normal(0, σerror), 0, 1)\n",
    "    lambda3 = 1 - lambda1 - lambda2\n",
    "    return np.array([lambda1, lambda2, lambda3])\n",
    "\n",
    "#Suitable for logistic\n",
    "β10, β11 = -2, 3\n",
    "β20, β21 = 0.03, -2.\n",
    "\n",
    "def logistic(x):\n",
    "    return 1/(1+np.e**(-x))\n",
    "\n",
    "def lambda_0(x) -> np.ndarray:\n",
    "    \"\"\"\n",
    "    Generate a vector of lambdas on the observables x\n",
    "    \"\"\"\n",
    "    lambda1 = logistic(β10 + β11*x + np.random.normal(0, σerror))\n",
    "    maxlambda2_value = 1 - lambda1\n",
    "    lambda2 = np.clip(logistic(β20 + β21*x + np.random.normal(0, σerror)), 0, maxlambda2_value)\n",
    "    lambda3 = 1 - lambda1 - lambda2\n",
    "    return np.array([lambda1, lambda2, lambda3])\n",
    "\n",
    "def from_theta_to_lamba0(θ, x):\n",
    "    \"\"\"\n",
    "    Generates a lambda0 vector from the theta vector and x\n",
    "    θ = [θ10, θ11, θ20, θ21]\n",
    "    \"\"\"\n",
    "    lambda1 = logistic(θ[0] + θ[1]*x + np.random.normal(0, σerror))\n",
    "    maxlambda2_value = 1 - lambda1\n",
    "    lambda2 = np.clip(logistic(θ[2] + θ[3]*x + np.random.normal(0, σerror)), 0, maxlambda2_value)\n",
    "    lambda3 = logistic(1 - lambda1 - lambda2)\n",
    "    return np.array([lambda1, lambda2, lambda3])\n",
    "\n",
    "\n",
    "\n",
    "def get_lambdas_from_x(xs):\n",
    "    y = np.empty((len(xs), 3))\n",
    "    for i in range(len(xs)):\n",
    "        y[i] = lambda_0(xs[i])\n",
    "    return y\n",
    "\n",
    "xs = np.abs(np.random.normal(0, 0.18, size=Nfirms))\n",
    "lambdas0 = get_lambdas_from_x(xs)\n",
    "lambdas0[0:10]\n",
    "\n"
   ]
  },
  {
   "cell_type": "code",
   "execution_count": null,
   "metadata": {},
   "outputs": [],
   "source": []
  },
  {
   "cell_type": "code",
   "execution_count": 2,
   "metadata": {},
   "outputs": [],
   "source": [
    "file_n = \"2018-10-5vfi_dict.dill\"\n",
    "with open('../data/' + file_n, 'rb') as file:\n",
    "    data_d = dill.load(file)\n",
    "\n",
    "lambdas = src.generate_simplex_3dims(n_per_dim=data_d['n_of_lambdas_per_dim'])\n",
    "price_grid = np.linspace(data_d['min_price'], data_d['max_price'])\n",
    "\n",
    "policy = data_d['policy']\n",
    "valueF = data_d['valueF']\n",
    "lambdas_ext = src.generate_simplex_3dims(n_per_dim=\n",
    "                                         data_d['n_of_lambdas_per_dim'])\n",
    "\n",
    "#Interpolate policy (level price). valueF is already a function\n",
    "policyF = src.interpolate_wguess(lambdas_ext, policy)\n"
   ]
  },
  {
   "cell_type": "code",
   "execution_count": 3,
   "metadata": {},
   "outputs": [],
   "source": [
    "\n",
    "\n",
    "def many_runs(nfirms, **kwargs):\n",
    "    dfs = []\n",
    "    for firm_i in range(nfirms):\n",
    "        df = src.simulate_one_firm(valueF, policyF,\n",
    "                                   maxt=time_periods,\n",
    "                                   lambda0=lambdas0[firm_i], **kwargs)\n",
    "        df['firm'] = firm_i\n",
    "        dfs.append(df)\n",
    "        \n",
    "    return pd.concat(dfs, axis=0)\n",
    "\n",
    "\n",
    "df = many_runs(Nfirms)"
   ]
  },
  {
   "cell_type": "markdown",
   "metadata": {},
   "source": [
    "## Estimating $\\theta$\n",
    "\n",
    "+ 2.1. $\\theta$ values generate a $\\lambda_0$\n",
    "\n",
    "(defined aboved)"
   ]
  },
  {
   "cell_type": "markdown",
   "metadata": {},
   "source": [
    "+ 2.2. $\\lambda_0$ + demand observations + optimal pricing generate pricing decisions"
   ]
  },
  {
   "cell_type": "code",
   "execution_count": 5,
   "metadata": {},
   "outputs": [
    {
     "data": {
      "text/plain": [
       "array([2.32068966, 1.48614406, 1.57204123, 1.25878561])"
      ]
     },
     "execution_count": 5,
     "metadata": {},
     "output_type": "execute_result"
    }
   ],
   "source": [
    "\n",
    "src.generate_pricing_decisions(policyF, np.array([0.2, 0.6, 0.2]),\n",
    "                               df[df.firm == 15].log_dmd.values)[0:4]"
   ]
  },
  {
   "cell_type": "markdown",
   "metadata": {},
   "source": [
    "+ 2.3. $error = \\left|pricing decisions - observed pricing\\right|$\n",
    "\n",
    "+ Do I choose moments?"
   ]
  },
  {
   "cell_type": "code",
   "execution_count": 39,
   "metadata": {},
   "outputs": [
    {
     "data": {
      "text/html": [
       "<div>\n",
       "<style scoped>\n",
       "    .dataframe tbody tr th:only-of-type {\n",
       "        vertical-align: middle;\n",
       "    }\n",
       "\n",
       "    .dataframe tbody tr th {\n",
       "        vertical-align: top;\n",
       "    }\n",
       "\n",
       "    .dataframe thead th {\n",
       "        text-align: right;\n",
       "    }\n",
       "</style>\n",
       "<table border=\"1\" class=\"dataframe\">\n",
       "  <thead>\n",
       "    <tr style=\"text-align: right;\">\n",
       "      <th></th>\n",
       "      <th>t</th>\n",
       "      <th>level_prices</th>\n",
       "      <th>log_dmd</th>\n",
       "      <th>valueF</th>\n",
       "      <th>lambda1</th>\n",
       "      <th>lambda2</th>\n",
       "      <th>lambda3</th>\n",
       "      <th>firm</th>\n",
       "    </tr>\n",
       "    <tr>\n",
       "      <th>t</th>\n",
       "      <th></th>\n",
       "      <th></th>\n",
       "      <th></th>\n",
       "      <th></th>\n",
       "      <th></th>\n",
       "      <th></th>\n",
       "      <th></th>\n",
       "      <th></th>\n",
       "    </tr>\n",
       "  </thead>\n",
       "  <tbody>\n",
       "    <tr>\n",
       "      <th>0</th>\n",
       "      <td>0</td>\n",
       "      <td>2.396552</td>\n",
       "      <td>0.154452</td>\n",
       "      <td>18.485303</td>\n",
       "      <td>1.699479e-01</td>\n",
       "      <td>0.436370</td>\n",
       "      <td>0.393682</td>\n",
       "      <td>0</td>\n",
       "    </tr>\n",
       "    <tr>\n",
       "      <th>1</th>\n",
       "      <td>1</td>\n",
       "      <td>2.424762</td>\n",
       "      <td>0.000577</td>\n",
       "      <td>18.445762</td>\n",
       "      <td>2.420931e-07</td>\n",
       "      <td>0.346518</td>\n",
       "      <td>0.653482</td>\n",
       "      <td>0</td>\n",
       "    </tr>\n",
       "    <tr>\n",
       "      <th>2</th>\n",
       "      <td>2</td>\n",
       "      <td>2.586207</td>\n",
       "      <td>-0.339324</td>\n",
       "      <td>19.043531</td>\n",
       "      <td>6.797426e-13</td>\n",
       "      <td>0.242494</td>\n",
       "      <td>0.757506</td>\n",
       "      <td>0</td>\n",
       "    </tr>\n",
       "  </tbody>\n",
       "</table>\n",
       "</div>"
      ],
      "text/plain": [
       "   t  level_prices   log_dmd     valueF       lambda1   lambda2   lambda3  \\\n",
       "t                                                                           \n",
       "0  0      2.396552  0.154452  18.485303  1.699479e-01  0.436370  0.393682   \n",
       "1  1      2.424762  0.000577  18.445762  2.420931e-07  0.346518  0.653482   \n",
       "2  2      2.586207 -0.339324  19.043531  6.797426e-13  0.242494  0.757506   \n",
       "\n",
       "   firm  \n",
       "t        \n",
       "0     0  \n",
       "1     0  \n",
       "2     0  "
      ]
     },
     "execution_count": 39,
     "metadata": {},
     "output_type": "execute_result"
    }
   ],
   "source": [
    "df.head(3)"
   ]
  },
  {
   "cell_type": "code",
   "execution_count": 40,
   "metadata": {},
   "outputs": [
    {
     "ename": "ValueError",
     "evalue": "invalid on specified as t\n0         0\n1         1\n2         2\n3         3\n4         4\n5         5\n6         6\n7         7\n8         8\n9         9\n10       10\n11       11\n12       12\n13       13\n14       14\n15       15\n16       16\n17       17\n18       18\n19       19\n20       20\n21       21\n22       22\n23       23\n24       24\n25       25\n26       26\n27       27\n28       28\n29       29\n         ..\n11970    10\n11971    11\n11972    12\n11973    13\n11974    14\n11975    15\n11976    16\n11977    17\n11978    18\n11979    19\n11980    20\n11981    21\n11982    22\n11983    23\n11984    24\n11985    25\n11986    26\n11987    27\n11988    28\n11989    29\n11990    30\n11991    31\n11992    32\n11993    33\n11994    34\n11995    35\n11996    36\n11997    37\n11998    38\n11999    39\nName: t, Length: 12000, dtype: int64, must be a column (if DataFrame) or None",
     "output_type": "error",
     "traceback": [
      "\u001b[0;31m---------------------------------------------------------------------------\u001b[0m",
      "\u001b[0;31mValueError\u001b[0m                                Traceback (most recent call last)",
      "\u001b[0;32m<ipython-input-40-b43d04ac397e>\u001b[0m in \u001b[0;36m<module>\u001b[0;34m()\u001b[0m\n\u001b[1;32m      1\u001b[0m \u001b[0;31m#Generate running std (to start)\u001b[0m\u001b[0;34m\u001b[0m\u001b[0;34m\u001b[0m\u001b[0m\n\u001b[1;32m      2\u001b[0m std_firm = (df.groupby('firm').level_prices.rolling(window=4, min=3,\n\u001b[0;32m----> 3\u001b[0;31m                                                     on=df['t'])\n\u001b[0m\u001b[1;32m      4\u001b[0m              .std().reset_index())\n\u001b[1;32m      5\u001b[0m \u001b[0mstd_firm\u001b[0m\u001b[0;34m\u001b[0m\u001b[0m\n",
      "\u001b[0;32m/usr/local/anaconda3/envs/firm_learning/lib/python3.7/site-packages/pandas/core/groupby/groupby.py\u001b[0m in \u001b[0;36mrolling\u001b[0;34m(self, *args, **kwargs)\u001b[0m\n\u001b[1;32m   1511\u001b[0m         \"\"\"\n\u001b[1;32m   1512\u001b[0m         \u001b[0;32mfrom\u001b[0m \u001b[0mpandas\u001b[0m\u001b[0;34m.\u001b[0m\u001b[0mcore\u001b[0m\u001b[0;34m.\u001b[0m\u001b[0mwindow\u001b[0m \u001b[0;32mimport\u001b[0m \u001b[0mRollingGroupby\u001b[0m\u001b[0;34m\u001b[0m\u001b[0m\n\u001b[0;32m-> 1513\u001b[0;31m         \u001b[0;32mreturn\u001b[0m \u001b[0mRollingGroupby\u001b[0m\u001b[0;34m(\u001b[0m\u001b[0mself\u001b[0m\u001b[0;34m,\u001b[0m \u001b[0;34m*\u001b[0m\u001b[0margs\u001b[0m\u001b[0;34m,\u001b[0m \u001b[0;34m**\u001b[0m\u001b[0mkwargs\u001b[0m\u001b[0;34m)\u001b[0m\u001b[0;34m\u001b[0m\u001b[0m\n\u001b[0m\u001b[1;32m   1514\u001b[0m \u001b[0;34m\u001b[0m\u001b[0m\n\u001b[1;32m   1515\u001b[0m     \u001b[0;34m@\u001b[0m\u001b[0mSubstitution\u001b[0m\u001b[0;34m(\u001b[0m\u001b[0mname\u001b[0m\u001b[0;34m=\u001b[0m\u001b[0;34m'groupby'\u001b[0m\u001b[0;34m)\u001b[0m\u001b[0;34m\u001b[0m\u001b[0m\n",
      "\u001b[0;32m/usr/local/anaconda3/envs/firm_learning/lib/python3.7/site-packages/pandas/core/window.py\u001b[0m in \u001b[0;36m__init__\u001b[0;34m(self, obj, *args, **kwargs)\u001b[0m\n\u001b[1;32m    781\u001b[0m         \u001b[0mself\u001b[0m\u001b[0;34m.\u001b[0m\u001b[0m_groupby\u001b[0m\u001b[0;34m.\u001b[0m\u001b[0mmutated\u001b[0m \u001b[0;34m=\u001b[0m \u001b[0;32mTrue\u001b[0m\u001b[0;34m\u001b[0m\u001b[0m\n\u001b[1;32m    782\u001b[0m         \u001b[0mself\u001b[0m\u001b[0;34m.\u001b[0m\u001b[0m_groupby\u001b[0m\u001b[0;34m.\u001b[0m\u001b[0mgrouper\u001b[0m\u001b[0;34m.\u001b[0m\u001b[0mmutated\u001b[0m \u001b[0;34m=\u001b[0m \u001b[0;32mTrue\u001b[0m\u001b[0;34m\u001b[0m\u001b[0m\n\u001b[0;32m--> 783\u001b[0;31m         \u001b[0msuper\u001b[0m\u001b[0;34m(\u001b[0m\u001b[0mGroupByMixin\u001b[0m\u001b[0;34m,\u001b[0m \u001b[0mself\u001b[0m\u001b[0;34m)\u001b[0m\u001b[0;34m.\u001b[0m\u001b[0m__init__\u001b[0m\u001b[0;34m(\u001b[0m\u001b[0mobj\u001b[0m\u001b[0;34m,\u001b[0m \u001b[0;34m*\u001b[0m\u001b[0margs\u001b[0m\u001b[0;34m,\u001b[0m \u001b[0;34m**\u001b[0m\u001b[0mkwargs\u001b[0m\u001b[0;34m)\u001b[0m\u001b[0;34m\u001b[0m\u001b[0m\n\u001b[0m\u001b[1;32m    784\u001b[0m \u001b[0;34m\u001b[0m\u001b[0m\n\u001b[1;32m    785\u001b[0m     \u001b[0mcount\u001b[0m \u001b[0;34m=\u001b[0m \u001b[0mGroupByMixin\u001b[0m\u001b[0;34m.\u001b[0m\u001b[0m_dispatch\u001b[0m\u001b[0;34m(\u001b[0m\u001b[0;34m'count'\u001b[0m\u001b[0;34m)\u001b[0m\u001b[0;34m\u001b[0m\u001b[0m\n",
      "\u001b[0;32m/usr/local/anaconda3/envs/firm_learning/lib/python3.7/site-packages/pandas/core/window.py\u001b[0m in \u001b[0;36m__init__\u001b[0;34m(self, obj, window, min_periods, center, win_type, axis, on, closed, **kwargs)\u001b[0m\n\u001b[1;32m     78\u001b[0m         \u001b[0mself\u001b[0m\u001b[0;34m.\u001b[0m\u001b[0mwin_freq\u001b[0m \u001b[0;34m=\u001b[0m \u001b[0;32mNone\u001b[0m\u001b[0;34m\u001b[0m\u001b[0m\n\u001b[1;32m     79\u001b[0m         \u001b[0mself\u001b[0m\u001b[0;34m.\u001b[0m\u001b[0maxis\u001b[0m \u001b[0;34m=\u001b[0m \u001b[0mobj\u001b[0m\u001b[0;34m.\u001b[0m\u001b[0m_get_axis_number\u001b[0m\u001b[0;34m(\u001b[0m\u001b[0maxis\u001b[0m\u001b[0;34m)\u001b[0m \u001b[0;32mif\u001b[0m \u001b[0maxis\u001b[0m \u001b[0;32mis\u001b[0m \u001b[0;32mnot\u001b[0m \u001b[0;32mNone\u001b[0m \u001b[0;32melse\u001b[0m \u001b[0;32mNone\u001b[0m\u001b[0;34m\u001b[0m\u001b[0m\n\u001b[0;32m---> 80\u001b[0;31m         \u001b[0mself\u001b[0m\u001b[0;34m.\u001b[0m\u001b[0mvalidate\u001b[0m\u001b[0;34m(\u001b[0m\u001b[0;34m)\u001b[0m\u001b[0;34m\u001b[0m\u001b[0m\n\u001b[0m\u001b[1;32m     81\u001b[0m \u001b[0;34m\u001b[0m\u001b[0m\n\u001b[1;32m     82\u001b[0m     \u001b[0;34m@\u001b[0m\u001b[0mproperty\u001b[0m\u001b[0;34m\u001b[0m\u001b[0m\n",
      "\u001b[0;32m/usr/local/anaconda3/envs/firm_learning/lib/python3.7/site-packages/pandas/core/window.py\u001b[0m in \u001b[0;36mvalidate\u001b[0;34m(self)\u001b[0m\n\u001b[1;32m   1453\u001b[0m \u001b[0;34m\u001b[0m\u001b[0m\n\u001b[1;32m   1454\u001b[0m         \u001b[0;31m# we allow rolling on a datetimelike index\u001b[0m\u001b[0;34m\u001b[0m\u001b[0;34m\u001b[0m\u001b[0m\n\u001b[0;32m-> 1455\u001b[0;31m         if ((self.obj.empty or self.is_datetimelike) and\n\u001b[0m\u001b[1;32m   1456\u001b[0m                 isinstance(self.window, (compat.string_types, ABCDateOffset,\n\u001b[1;32m   1457\u001b[0m                                          timedelta))):\n",
      "\u001b[0;32mpandas/_libs/properties.pyx\u001b[0m in \u001b[0;36mpandas._libs.properties.CachedProperty.__get__\u001b[0;34m()\u001b[0m\n",
      "\u001b[0;32m/usr/local/anaconda3/envs/firm_learning/lib/python3.7/site-packages/pandas/core/window.py\u001b[0m in \u001b[0;36mis_datetimelike\u001b[0;34m(self)\u001b[0m\n\u001b[1;32m   1430\u001b[0m     \u001b[0;34m@\u001b[0m\u001b[0mcache_readonly\u001b[0m\u001b[0;34m\u001b[0m\u001b[0m\n\u001b[1;32m   1431\u001b[0m     \u001b[0;32mdef\u001b[0m \u001b[0mis_datetimelike\u001b[0m\u001b[0;34m(\u001b[0m\u001b[0mself\u001b[0m\u001b[0;34m)\u001b[0m\u001b[0;34m:\u001b[0m\u001b[0;34m\u001b[0m\u001b[0m\n\u001b[0;32m-> 1432\u001b[0;31m         return isinstance(self._on,\n\u001b[0m\u001b[1;32m   1433\u001b[0m                           (ABCDatetimeIndex,\n\u001b[1;32m   1434\u001b[0m                            \u001b[0mABCTimedeltaIndex\u001b[0m\u001b[0;34m,\u001b[0m\u001b[0;34m\u001b[0m\u001b[0m\n",
      "\u001b[0;32mpandas/_libs/properties.pyx\u001b[0m in \u001b[0;36mpandas._libs.properties.CachedProperty.__get__\u001b[0;34m()\u001b[0m\n",
      "\u001b[0;32m/usr/local/anaconda3/envs/firm_learning/lib/python3.7/site-packages/pandas/core/window.py\u001b[0m in \u001b[0;36m_on\u001b[0;34m(self)\u001b[0m\n\u001b[1;32m   1447\u001b[0m             raise ValueError(\"invalid on specified as {0}, \"\n\u001b[1;32m   1448\u001b[0m                              \u001b[0;34m\"must be a column (if DataFrame) \"\u001b[0m\u001b[0;34m\u001b[0m\u001b[0m\n\u001b[0;32m-> 1449\u001b[0;31m                              \"or None\".format(self.on))\n\u001b[0m\u001b[1;32m   1450\u001b[0m \u001b[0;34m\u001b[0m\u001b[0m\n\u001b[1;32m   1451\u001b[0m     \u001b[0;32mdef\u001b[0m \u001b[0mvalidate\u001b[0m\u001b[0;34m(\u001b[0m\u001b[0mself\u001b[0m\u001b[0;34m)\u001b[0m\u001b[0;34m:\u001b[0m\u001b[0;34m\u001b[0m\u001b[0m\n",
      "\u001b[0;31mValueError\u001b[0m: invalid on specified as t\n0         0\n1         1\n2         2\n3         3\n4         4\n5         5\n6         6\n7         7\n8         8\n9         9\n10       10\n11       11\n12       12\n13       13\n14       14\n15       15\n16       16\n17       17\n18       18\n19       19\n20       20\n21       21\n22       22\n23       23\n24       24\n25       25\n26       26\n27       27\n28       28\n29       29\n         ..\n11970    10\n11971    11\n11972    12\n11973    13\n11974    14\n11975    15\n11976    16\n11977    17\n11978    18\n11979    19\n11980    20\n11981    21\n11982    22\n11983    23\n11984    24\n11985    25\n11986    26\n11987    27\n11988    28\n11989    29\n11990    30\n11991    31\n11992    32\n11993    33\n11994    34\n11995    35\n11996    36\n11997    37\n11998    38\n11999    39\nName: t, Length: 12000, dtype: int64, must be a column (if DataFrame) or None"
     ]
    }
   ],
   "source": [
    "#Generate running std (to start)\n",
    "std_firm = (df.groupby('firm').level_prices.rolling(window=4, min=3,\n",
    "                                                    on=df['t'])\n",
    "             .std().reset_index())\n",
    "std_firm"
   ]
  },
  {
   "cell_type": "code",
   "execution_count": 27,
   "metadata": {},
   "outputs": [
    {
     "data": {
      "text/plain": [
       "FrozenList(['firm', None])"
      ]
     },
     "execution_count": 27,
     "metadata": {},
     "output_type": "execute_result"
    }
   ],
   "source": [
    "std_firm.index.names"
   ]
  },
  {
   "cell_type": "code",
   "execution_count": 136,
   "metadata": {},
   "outputs": [
    {
     "name": "stdout",
     "output_type": "stream",
     "text": [
      "1.2999150967298112 1.2869394664881244 1.1539347845185266\n"
     ]
    },
    {
     "data": {
      "image/png": "[encoded data removed]",
      "text/plain": [
       "<Figure size 432x288 with 1 Axes>"
      ]
     },
     "metadata": {},
     "output_type": "display_data"
    }
   ],
   "source": [
    "def error(θ: np.ndarray, x, observed_log_dmd, observed_prices) -> float:\n",
    "    lambda0 = from_theta_to_lamba0(θ, x)\n",
    "    expected_prices = generate_pricing_decisions(lambda0, observed_log_dmd)\n",
    "    return np.linalg.norm(expected_prices - observed_prices)\n",
    "\n",
    "\n",
    "firm_id = 90\n",
    "chosen_x = xs[firm_id]\n",
    "chosen_dmd = df[df.firm == firm_id].log_dmd.values\n",
    "chosen_prices = df[df.firm == firm_id].level_prices.values\n",
    "\n",
    "\n",
    "def error_diagnostic(θ, x, observed_log_dmd, observed_prices):\n",
    "    lambda0 = from_theta_to_lamba0(θ, x)\n",
    "    expected_prices = generate_pricing_decisions(lambda0, observed_log_dmd)\n",
    "    return observed_prices, expected_prices, np.linalg.norm(expected_prices - observed_prices)\n",
    "\n",
    "def error_w_data(θ) -> float:\n",
    "    return error(θ, chosen_x, chosen_dmd, chosen_prices)\n",
    "\n",
    "\n",
    "trueθ0 = np.array([β10, β11, β20, β21])\n",
    "mediumθ0 = np.array([β10+0.1, β11-0.1, β20+0.01, β21-0.01])\n",
    "badθ0 = np.array([β10+0.3, β11-0.05, β20+0.1, β21-0.05])\n",
    "obs_pr, exp_pr, norm1 = error_diagnostic(trueθ0, chosen_x, chosen_dmd, chosen_prices)\n",
    "obs_prmedium, exp_prmedium, norm2 = error_diagnostic(mediumθ0, chosen_x, chosen_dmd, chosen_prices)\n",
    "obs_prbad, exp_prbad, norm3 = error_diagnostic(badθ0, chosen_x, chosen_dmd, chosen_prices)\n",
    "\n",
    "print(norm1, norm2, norm3)\n",
    "fig, ax = plt.subplots(1, 1)\n",
    "ax.plot(obs_pr, label='observed')\n",
    "ax.plot(exp_pr, label=\"expected good\")\n",
    "ax.plot(exp_prmedium, label=\"expected medium\")\n",
    "ax.plot(exp_prbad, label=\"expected bad\")\n",
    "ax.legend();"
   ]
  },
  {
   "cell_type": "markdown",
   "metadata": {},
   "source": [
    "## 3. Optimize"
   ]
  },
  {
   "cell_type": "markdown",
   "metadata": {},
   "source": [
    "## Nelder-Mead\n",
    "\n",
    "Doesn't converge. Not super surprised, since the problem is weird"
   ]
  },
  {
   "cell_type": "code",
   "execution_count": 141,
   "metadata": {},
   "outputs": [
    {
     "name": "stdout",
     "output_type": "stream",
     "text": [
      "Warning: Maximum number of iterations has been exceeded.\n"
     ]
    },
    {
     "data": {
      "text/plain": [
       " final_simplex: (array([[ 1.23357625e-09,  1.99999990e+00,  1.03000024e+00,\n",
       "        -4.99999927e+00],\n",
       "       [ 1.23357625e-09,  1.99999990e+00,  1.03000024e+00,\n",
       "        -4.99999927e+00],\n",
       "       [ 1.23357625e-09,  1.99999990e+00,  1.03000024e+00,\n",
       "        -4.99999927e+00],\n",
       "       [ 1.23357625e-09,  1.99999990e+00,  1.03000024e+00,\n",
       "        -4.99999927e+00],\n",
       "       [ 1.23357625e-09,  1.99999990e+00,  1.03000024e+00,\n",
       "        -4.99999927e+00]]), array([1.91533241, 1.9243984 , 1.9332215 , 1.93347883, 1.93582771]))\n",
       "           fun: 1.9153324053720298\n",
       "       message: 'Maximum number of iterations has been exceeded.'\n",
       "          nfev: 13571\n",
       "           nit: 5000\n",
       "        status: 2\n",
       "       success: False\n",
       "             x: array([ 1.23357625e-09,  1.99999990e+00,  1.03000024e+00, -4.99999927e+00])"
      ]
     },
     "execution_count": 141,
     "metadata": {},
     "output_type": "execute_result"
    }
   ],
   "source": [
    "from scipy import optimize as opt\n",
    "#minimize(f, x0,, method='Nelder-Mead')\n",
    "true_params = np.array([β10, β11, β20, β21])\n",
    "mediumθ0 = np.array([β10+0.1, β11-0.1, β20+0.01, β21-0.01])\n",
    "badθ0 = np.array([β10+2, β11-1, β20+1, β21-3])\n",
    "opt.minimize(error_w_data, badθ0, method='Nelder-Mead', options={'maxiter': 5000, 'disp': True})"
   ]
  },
  {
   "cell_type": "code",
   "execution_count": 143,
   "metadata": {},
   "outputs": [
    {
     "data": {
      "text/plain": [
       "array([-2.,  1., -1.,  3.])"
      ]
     },
     "execution_count": 143,
     "metadata": {},
     "output_type": "execute_result"
    }
   ],
   "source": [
    "true_params - badθ0"
   ]
  },
  {
   "cell_type": "code",
   "execution_count": 142,
   "metadata": {},
   "outputs": [
    {
     "data": {
      "text/plain": [
       "array([-2.        ,  1.0000001 , -1.00000024,  2.99999927])"
      ]
     },
     "execution_count": 142,
     "metadata": {},
     "output_type": "execute_result"
    }
   ],
   "source": [
    "true_params - np.array([ 1.23357625e-09,  1.99999990e+00,  1.03000024e+00, -4.99999927e+00])"
   ]
  },
  {
   "cell_type": "code",
   "execution_count": 138,
   "metadata": {},
   "outputs": [
    {
     "data": {
      "text/plain": [
       "array([-2.  ,  3.  ,  0.03, -2.  ])"
      ]
     },
     "execution_count": 138,
     "metadata": {},
     "output_type": "execute_result"
    }
   ],
   "source": [
    "true_params"
   ]
  },
  {
   "cell_type": "code",
   "execution_count": 139,
   "metadata": {},
   "outputs": [
    {
     "data": {
      "text/plain": [
       "array([-1.9 ,  2.9 ,  0.04, -2.01])"
      ]
     },
     "execution_count": 139,
     "metadata": {},
     "output_type": "execute_result"
    }
   ],
   "source": [
    "mediumθ0"
   ]
  },
  {
   "cell_type": "code",
   "execution_count": 140,
   "metadata": {},
   "outputs": [
    {
     "data": {
      "text/plain": [
       "array([-1.7 ,  2.95,  0.13, -2.05])"
      ]
     },
     "execution_count": 140,
     "metadata": {},
     "output_type": "execute_result"
    }
   ],
   "source": [
    "badθ0 "
   ]
  },
  {
   "cell_type": "markdown",
   "metadata": {},
   "source": [
    "## Differential Evolution\n",
    "\n",
    "Does converge! Seems promising even though it's slow"
   ]
  },
  {
   "cell_type": "code",
   "execution_count": 144,
   "metadata": {},
   "outputs": [
    {
     "data": {
      "text/plain": [
       "     fun: 0.048427970155213274\n",
       " message: 'Optimization terminated successfully.'\n",
       "    nfev: 7965\n",
       "     nit: 130\n",
       " success: True\n",
       "       x: array([-1.36566532,  0.48591431,  0.67631488, -2.59839081])"
      ]
     },
     "execution_count": 144,
     "metadata": {},
     "output_type": "execute_result"
    }
   ],
   "source": [
    "opt.differential_evolution(error_w_data, [(-3, 3), (-3, 3), (-3, 3), (-3, 3)],\n",
    "                          maxiter=1000)"
   ]
  }
 ],
 "metadata": {
  "kernelspec": {
   "display_name": "Python [conda env:firm_learning]",
   "language": "python",
   "name": "conda-env-firm_learning-py"
  },
  "language_info": {
   "codemirror_mode": {
    "name": "ipython",
    "version": 3
   },
   "file_extension": ".py",
   "mimetype": "text/x-python",
   "name": "python",
   "nbconvert_exporter": "python",
   "pygments_lexer": "ipython3",
   "version": "3.7.0"
  }
 },
 "nbformat": 4,
 "nbformat_minor": 2
}
