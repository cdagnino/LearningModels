{
 "cells": [
  {
   "cell_type": "markdown",
   "metadata": {},
   "source": [
    "# GMM Gym\n",
    "\n",
    "Minimal working example of a GMM!\n",
    "\n",
    "## 1. Setup\n",
    "\n",
    "+ 1.1 Set up real deep parameters ($\\lambda_0 = f(X, \\theta)$)\n",
    "+ 1.2 Get ValueF and optimal policy function\n",
    "+ 1.3 Simulate demand and optimal pricing for N firms\n",
    "\n",
    "## 2. Estimating $\\theta$\n",
    "\n",
    "Try $\\theta$ until error < $\\varepsilon$\n",
    "\n",
    "+ 2.1. $\\theta$ values generate a $\\lambda_0$\n",
    "+ 2.2. $\\lambda_0$ + demand observations + optimal pricing generate pricing decisions\n",
    "+ 2.3. $error = \\left|pricing decisions - observed pricing\\right|$\n"
   ]
  },
  {
   "cell_type": "markdown",
   "metadata": {},
   "source": [
    "## 1. Setup"
   ]
  },
  {
   "cell_type": "code",
   "execution_count": 3,
   "metadata": {},
   "outputs": [
    {
     "data": {
      "text/plain": [
       "array([[0.19380724, 0.41133525, 0.5974515 ],\n",
       "       [0.13175172, 0.49129519, 0.59313802],\n",
       "       [0.24232809, 0.36508015, 0.59690646],\n",
       "       [0.12161934, 0.50185056, 0.59303593],\n",
       "       [0.13530413, 0.48279092, 0.59433247],\n",
       "       [0.13762687, 0.47717382, 0.5951265 ],\n",
       "       [0.16239783, 0.44493763, 0.59692397],\n",
       "       [0.1252281 , 0.49991524, 0.592632  ],\n",
       "       [0.13993298, 0.47683152, 0.59465323],\n",
       "       [0.19032644, 0.41768444, 0.59676145]])"
      ]
     },
     "execution_count": 3,
     "metadata": {},
     "output_type": "execute_result"
    }
   ],
   "source": [
    "import numpy as np\n",
    "from typing import Callable\n",
    "%matplotlib inline\n",
    "import matplotlib.pyplot as plt\n",
    "import dill\n",
    "import numpy as np\n",
    "import pandas as pd\n",
    "    \n",
    "import sys\n",
    "sys.path.append('../')\n",
    "import src\n",
    "\n",
    "# Simulation parameters \\\n",
    "########################\n",
    "σerror= 0.005 #0.01\n",
    "Nfirms = 300\n",
    "time_periods = 40\n",
    "\n",
    "#Suitable for logistic\n",
    "β10, β11 = -2, 3\n",
    "β20, β21 = 0.03, -2.\n",
    "betas = [β10, β11, β20, β21]\n",
    "\n",
    "\n",
    "def lambda_0(x, prior_shock) -> np.ndarray:\n",
    "    \"\"\"\n",
    "    Generate a vector of lambdas on the observables x\n",
    "    \"\"\"\n",
    "    return src.from_theta_to_lambda0(x, θ=betas, prior_shock=prior_shock)\n",
    "\n",
    "\n",
    "def get_lambdas_from_x(xs, prior_shocks):\n",
    "    y = np.empty((len(xs), 3))\n",
    "    for i in range(len(xs)):\n",
    "        y[i] = lambda_0(xs[i], prior_shocks[i])\n",
    "    return y\n",
    "\n",
    "xs = np.abs(np.random.normal(0, 0.18, size=Nfirms))\n",
    "prior_shocks = src.gen_prior_shocks(Nfirms)\n",
    "lambdas0 = get_lambdas_from_x(xs, prior_shocks)\n",
    "lambdas0[0:10]\n",
    "\n"
   ]
  },
  {
   "cell_type": "code",
   "execution_count": 4,
   "metadata": {},
   "outputs": [],
   "source": [
    "file_n = \"2018-10-5vfi_dict.dill\"\n",
    "with open('../data/' + file_n, 'rb') as file:\n",
    "    data_d = dill.load(file)\n",
    "\n",
    "lambdas = src.generate_simplex_3dims(n_per_dim=data_d['n_of_lambdas_per_dim'])\n",
    "price_grid = np.linspace(data_d['min_price'], data_d['max_price'])\n",
    "\n",
    "policy = data_d['policy']\n",
    "valueF = data_d['valueF']\n",
    "lambdas_ext = src.generate_simplex_3dims(n_per_dim=\n",
    "                                         data_d['n_of_lambdas_per_dim'])\n",
    "\n",
    "#Interpolate policy (level price). valueF is already a function\n",
    "policyF = src.interpolate_wguess(lambdas_ext, policy)\n"
   ]
  },
  {
   "cell_type": "code",
   "execution_count": 5,
   "metadata": {},
   "outputs": [],
   "source": [
    "dmd_shocks = src.generate_dmd_shocks(n=Nfirms, t=time_periods, dmd_σϵ=src.const.σ_ɛ)\n",
    "\n",
    "def many_runs(nfirms, **kwargs):\n",
    "    dfs = []\n",
    "    for firm_i in range(nfirms):\n",
    "        df = src.simulate_one_firm(valueF, policyF,\n",
    "                                   dmd_shocks=dmd_shocks[firm_i, :],\n",
    "                                   prior_shock=prior_shocks[firm_i],\n",
    "                                   x=xs[firm_i], θ=betas, **kwargs)\n",
    "        df['firm'] = firm_i\n",
    "        dfs.append(df)\n",
    "        \n",
    "    return pd.concat(dfs, axis=0)\n",
    "\n",
    "df = many_runs(Nfirms)"
   ]
  },
  {
   "cell_type": "markdown",
   "metadata": {},
   "source": [
    "## Estimating $\\theta$\n",
    "\n",
    "+ 2.1. $\\theta$ values generate a $\\lambda_0$\n",
    "\n",
    "(defined aboved)"
   ]
  },
  {
   "cell_type": "markdown",
   "metadata": {},
   "source": [
    "+ 2.2. $\\lambda_0$ + demand observations + optimal pricing generate pricing decisions"
   ]
  },
  {
   "cell_type": "code",
   "execution_count": 7,
   "metadata": {},
   "outputs": [
    {
     "data": {
      "text/plain": [
       "array([2.32068966, 1.63795648, 1.29958781, 1.25893233])"
      ]
     },
     "execution_count": 7,
     "metadata": {},
     "output_type": "execute_result"
    }
   ],
   "source": [
    "src.generate_pricing_decisions(policyF, np.array([0.2, 0.6, 0.2]),\n",
    "                               df[df.firm == 15].log_dmd.values)[0:4]"
   ]
  },
  {
   "cell_type": "markdown",
   "metadata": {},
   "source": [
    "+ 2.3. $error = \\left|pricing decisions - observed pricing\\right|$\n",
    "\n",
    "+ Do I choose moments?"
   ]
  },
  {
   "cell_type": "code",
   "execution_count": 6,
   "metadata": {},
   "outputs": [
    {
     "data": {
      "text/html": [
       "<div>\n",
       "<style scoped>\n",
       "    .dataframe tbody tr th:only-of-type {\n",
       "        vertical-align: middle;\n",
       "    }\n",
       "\n",
       "    .dataframe tbody tr th {\n",
       "        vertical-align: top;\n",
       "    }\n",
       "\n",
       "    .dataframe thead th {\n",
       "        text-align: right;\n",
       "    }\n",
       "</style>\n",
       "<table border=\"1\" class=\"dataframe\">\n",
       "  <thead>\n",
       "    <tr style=\"text-align: right;\">\n",
       "      <th></th>\n",
       "      <th></th>\n",
       "      <th>level_prices</th>\n",
       "      <th>t</th>\n",
       "    </tr>\n",
       "    <tr>\n",
       "      <th>firm</th>\n",
       "      <th></th>\n",
       "      <th></th>\n",
       "      <th></th>\n",
       "    </tr>\n",
       "  </thead>\n",
       "  <tbody>\n",
       "    <tr>\n",
       "      <th rowspan=\"5\" valign=\"top\">0</th>\n",
       "      <th>0</th>\n",
       "      <td>NaN</td>\n",
       "      <td>NaN</td>\n",
       "    </tr>\n",
       "    <tr>\n",
       "      <th>1</th>\n",
       "      <td>NaN</td>\n",
       "      <td>NaN</td>\n",
       "    </tr>\n",
       "    <tr>\n",
       "      <th>2</th>\n",
       "      <td>1.000000</td>\n",
       "      <td>1.0</td>\n",
       "    </tr>\n",
       "    <tr>\n",
       "      <th>3</th>\n",
       "      <td>1.527525</td>\n",
       "      <td>1.0</td>\n",
       "    </tr>\n",
       "    <tr>\n",
       "      <th>4</th>\n",
       "      <td>1.517674</td>\n",
       "      <td>1.0</td>\n",
       "    </tr>\n",
       "    <tr>\n",
       "      <th rowspan=\"3\" valign=\"top\">1</th>\n",
       "      <th>5</th>\n",
       "      <td>NaN</td>\n",
       "      <td>NaN</td>\n",
       "    </tr>\n",
       "    <tr>\n",
       "      <th>6</th>\n",
       "      <td>NaN</td>\n",
       "      <td>NaN</td>\n",
       "    </tr>\n",
       "    <tr>\n",
       "      <th>7</th>\n",
       "      <td>0.230940</td>\n",
       "      <td>1.0</td>\n",
       "    </tr>\n",
       "  </tbody>\n",
       "</table>\n",
       "</div>"
      ],
      "text/plain": [
       "        level_prices    t\n",
       "firm                     \n",
       "0    0           NaN  NaN\n",
       "     1           NaN  NaN\n",
       "     2      1.000000  1.0\n",
       "     3      1.527525  1.0\n",
       "     4      1.517674  1.0\n",
       "1    5           NaN  NaN\n",
       "     6           NaN  NaN\n",
       "     7      0.230940  1.0"
      ]
     },
     "execution_count": 6,
     "metadata": {},
     "output_type": "execute_result"
    }
   ],
   "source": [
    "test_df = pd.DataFrame({'level_prices': [2., 3., 4., 1., 2.1, 2.1, 2.1, 2.5],\n",
    "                       'firm': [0, 0, 0, 0, 0, 1, 1, 1],\n",
    "                       't': [0, 1, 2, 3, 4, 0, 1, 2]})\n",
    "\n",
    "test_df.groupby('firm')[['level_prices', 't']].rolling(window=3).std()"
   ]
  },
  {
   "cell_type": "code",
   "execution_count": 8,
   "metadata": {},
   "outputs": [],
   "source": [
    "#Generate running std (to start)\n",
    "std_devs = (df.groupby('firm').level_prices.rolling(window=4, min=3)\n",
    "            .std().reset_index()\n",
    "            .rename(columns={'level_1': 't',\n",
    "                            'level_prices': 'std_dev_prices'}))\n",
    "\n",
    "df = pd.merge(df, std_devs, on=['firm', 't'], how='left')"
   ]
  },
  {
   "cell_type": "code",
   "execution_count": 16,
   "metadata": {},
   "outputs": [
    {
     "data": {
      "text/plain": [
       "[<matplotlib.lines.Line2D at 0xb1e0a6d68>]"
      ]
     },
     "execution_count": 16,
     "metadata": {},
     "output_type": "execute_result"
    },
    {
     "data": {
      "image/png": "[encoded data removed]",
      "text/plain": [
       "<Figure size 432x288 with 1 Axes>"
      ]
     },
     "metadata": {},
     "output_type": "display_data"
    }
   ],
   "source": [
    "\n",
    "\n",
    "def generate_mean_std_pricing_decisions(policyF, lambdas_at_0, min_periods=3):\n",
    "    \"\"\"\n",
    "    Lambdas0: starting priors for each of the N firms\n",
    "    \"\"\"\n",
    "    pricing_decision_dfs = []\n",
    "    for i, firm in enumerate(df.firm.unique()):\n",
    "        prices = src.generate_pricing_decisions(policyF, lambdas_at_0[i],\n",
    "                                       df[df.firm == firm].log_dmd.values)\n",
    "        pricing_decision_dfs.append(pd.DataFrame({'level_prices': prices,\n",
    "                                    'firm': np.repeat(firm, len(prices))\n",
    "                                  }))\n",
    "        \n",
    "    pricing_decision_df = pd.concat(pricing_decision_dfs, axis=0)\n",
    "                                        \n",
    "                                        \n",
    "    std_dev_df = (pricing_decision_df.groupby('firm').level_prices.rolling(window=4,\n",
    "                                                            min=min_periods)\n",
    "            .std().reset_index()\n",
    "            .rename(columns={'level_1': 't',\n",
    "                            'level_prices': 'std_dev_prices'}))\n",
    "    \n",
    "    return std_dev_df.groupby('t').std_dev_prices.mean()[min_periods:]\n",
    "                                        \n",
    "                              \n",
    "                                        \n",
    "avers = generate_mean_std_pricing_decisions(policyF, lambdas_at_0=lambdas0)\n",
    "plt.style.use('fivethirtyeight')\n",
    "plt.plot(avers)"
   ]
  },
  {
   "cell_type": "code",
   "execution_count": 18,
   "metadata": {},
   "outputs": [
    {
     "data": {
      "text/plain": [
       "Index(['level_prices', 'log_dmd', 'valueF', 'lambda1', 'lambda2', 'lambda3',\n",
       "       't', 'firm', 'std_dev_prices'],\n",
       "      dtype='object')"
      ]
     },
     "execution_count": 18,
     "metadata": {},
     "output_type": "execute_result"
    }
   ],
   "source": [
    "df.columns"
   ]
  },
  {
   "cell_type": "code",
   "execution_count": 25,
   "metadata": {},
   "outputs": [
    {
     "data": {
      "image/png": "[encoded data removed]",
      "text/plain": [
       "<Figure size 432x288 with 1 Axes>"
      ]
     },
     "metadata": {},
     "output_type": "display_data"
    }
   ],
   "source": [
    "#@njit()\n",
    "def from_theta_to_lambda_for_all_firms(θ, xs, prior_shocks=prior_shocks):\n",
    "    nfirms = len(xs)\n",
    "    lambdas0 = np.empty((nfirms, 3))\n",
    "    for firm_i in range(nfirms):\n",
    "        lambdas0[firm_i, :] = src.from_theta_to_lambda0(xs[i], θ,\n",
    "                                                       prior_shocks[i])\n",
    "\n",
    "    return lambdas0\n",
    "    \n",
    "def std_moments_error(θ: np.ndarray, policyF,\n",
    "                      xs,\n",
    "                      mean_std_observed_prices, min_periods=3,\n",
    "                     df=None) -> float:\n",
    "    \"\"\"\n",
    "    Computes the norm of the different between the observed moments and\n",
    "    the moments predicted by the model + θ\n",
    "    \n",
    "    Moments: average (over firms) standard deviation for each time period\n",
    "    \n",
    "    x: characteristics of firms\n",
    "    mean_std_observed_prices: mean (over firms) of standard deviation per t\n",
    "    \"\"\"\n",
    "    #CHANGE THIS: Loop over different Xs! Each firm should have its own X\n",
    "    # Generate one lambda0 per firm\n",
    "    lambdas0 = from_theta_to_lambda_for_all_firms(θ, xs)\n",
    "    \n",
    "    mean_std_expected_prices = generate_mean_std_pricing_decisions(policyF,\n",
    "                                                lambdas0, min_periods)\n",
    "    \n",
    "    return np.linalg.norm(mean_std_expected_prices.values \n",
    "                          - mean_std_observed_prices.values)\n",
    "\n",
    "min_periods = 3\n",
    "\n",
    "mean_std_observed_prices = df.groupby('t').std_dev_prices.mean()[min_periods:]\n",
    "\n",
    "real_theta = np.array([-2, 3, 0.03, -2])\n",
    "\n",
    "error = []\n",
    "deviation = np.linspace(-4, 4, 50)\n",
    "thetas = real_theta + deviation[:, np.newaxis]\n",
    "\n",
    "for theta in thetas:\n",
    "    error.append(std_moments_error(theta, policyF, xs, mean_std_observed_prices,\n",
    "                 min_periods=3))\n",
    "    \n",
    "fig, ax = plt.subplots(1, 1)\n",
    "ax.plot(deviation, error)\n",
    "ax.set_xlabel(\"Deviations from true theta\", size=16)\n",
    "fig.suptitle(\"GMM error as a function of deviation from true parameters\", size=18);"
   ]
  },
  {
   "cell_type": "code",
   "execution_count": 136,
   "metadata": {},
   "outputs": [
    {
     "name": "stdout",
     "output_type": "stream",
     "text": [
      "1.2999150967298112 1.2869394664881244 1.1539347845185266\n"
     ]
    },
    {
     "data": {
      "image/png": "[encoded data removed]",
      "text/plain": [
       "<Figure size 432x288 with 1 Axes>"
      ]
     },
     "metadata": {},
     "output_type": "display_data"
    }
   ],
   "source": [
    "def error(θ: np.ndarray, x, observed_log_dmd, observed_prices) -> float:\n",
    "    lambda0 = from_theta_to_lamba0(θ, x)\n",
    "    expected_prices = generate_pricing_decisions(lambda0, observed_log_dmd)\n",
    "    return np.linalg.norm(expected_prices - observed_prices)\n",
    "\n",
    "\n",
    "firm_id = 90\n",
    "chosen_x = xs[firm_id]\n",
    "chosen_dmd = df[df.firm == firm_id].log_dmd.values\n",
    "chosen_prices = df[df.firm == firm_id].level_prices.values\n",
    "\n",
    "\n",
    "def error_diagnostic(θ, x, observed_log_dmd, observed_prices):\n",
    "    lambda0 = from_theta_to_lamba0(θ, x)\n",
    "    expected_prices = generate_pricing_decisions(lambda0, observed_log_dmd)\n",
    "    return observed_prices, expected_prices, np.linalg.norm(expected_prices - observed_prices)\n",
    "\n",
    "def error_w_data(θ) -> float:\n",
    "    return error(θ, chosen_x, chosen_dmd, chosen_prices)\n",
    "\n",
    "\n",
    "trueθ0 = np.array([β10, β11, β20, β21])\n",
    "mediumθ0 = np.array([β10+0.1, β11-0.1, β20+0.01, β21-0.01])\n",
    "badθ0 = np.array([β10+0.3, β11-0.05, β20+0.1, β21-0.05])\n",
    "obs_pr, exp_pr, norm1 = error_diagnostic(trueθ0, chosen_x, chosen_dmd, chosen_prices)\n",
    "obs_prmedium, exp_prmedium, norm2 = error_diagnostic(mediumθ0, chosen_x, chosen_dmd, chosen_prices)\n",
    "obs_prbad, exp_prbad, norm3 = error_diagnostic(badθ0, chosen_x, chosen_dmd, chosen_prices)\n",
    "\n",
    "print(norm1, norm2, norm3)\n",
    "fig, ax = plt.subplots(1, 1)\n",
    "ax.plot(obs_pr, label='observed')\n",
    "ax.plot(exp_pr, label=\"expected good\")\n",
    "ax.plot(exp_prmedium, label=\"expected medium\")\n",
    "ax.plot(exp_prbad, label=\"expected bad\")\n",
    "ax.legend();"
   ]
  },
  {
   "cell_type": "markdown",
   "metadata": {},
   "source": [
    "## 3. Optimize"
   ]
  },
  {
   "cell_type": "markdown",
   "metadata": {},
   "source": [
    "## Optimize with moments"
   ]
  },
  {
   "cell_type": "code",
   "execution_count": 26,
   "metadata": {},
   "outputs": [],
   "source": [
    "min_periods = 3\n",
    "\n",
    "mean_std_observed_prices = df.groupby('t').std_dev_prices.mean()[min_periods:]\n",
    "\n",
    "def error_w_data(θ):\n",
    "    return std_moments_error(θ, policyF, xs,\n",
    "                      mean_std_observed_prices=mean_std_observed_prices,\n",
    "                             min_periods=3)\n",
    "\n"
   ]
  },
  {
   "cell_type": "code",
   "execution_count": 28,
   "metadata": {},
   "outputs": [
    {
     "data": {
      "text/plain": [
       "array([-2.  ,  3.  ,  0.03, -2.  ])"
      ]
     },
     "execution_count": 28,
     "metadata": {},
     "output_type": "execute_result"
    }
   ],
   "source": [
    "trueθ0 = np.array([β10, β11, β20, β21])\n",
    "mediumθ0 = np.array([β10+0.1, β11-0.1, β20+0.01, β21-0.01])\n",
    "badθ0 = np.array([β10+0.3, β11-0.05, β20+0.1, β21-0.05])\n",
    "trueθ0"
   ]
  },
  {
   "cell_type": "code",
   "execution_count": 29,
   "metadata": {},
   "outputs": [
    {
     "data": {
      "text/plain": [
       "array([-1.7 ,  2.95,  0.13, -2.05])"
      ]
     },
     "execution_count": 29,
     "metadata": {},
     "output_type": "execute_result"
    }
   ],
   "source": [
    "badθ0"
   ]
  },
  {
   "cell_type": "code",
   "execution_count": null,
   "metadata": {},
   "outputs": [],
   "source": [
    "array([ 5.29954226e-03, -1.02871296e+01,  2.48956659e+00, -1.67859115e+01"
   ]
  },
  {
   "cell_type": "code",
   "execution_count": 32,
   "metadata": {},
   "outputs": [
    {
     "name": "stdout",
     "output_type": "stream",
     "text": [
      "Warning: Maximum number of iterations has been exceeded.\n"
     ]
    },
    {
     "data": {
      "text/plain": [
       " final_simplex: (array([[ 5.29954226e-03, -1.02871296e+01,  2.48956659e+00,\n",
       "        -1.67859115e+01],\n",
       "       [ 5.29953737e-03, -1.02871300e+01,  2.48956580e+00,\n",
       "        -1.67859118e+01],\n",
       "       [ 5.29953842e-03, -1.02871296e+01,  2.48956610e+00,\n",
       "        -1.67859126e+01],\n",
       "       [ 5.29954718e-03, -1.02871302e+01,  2.48956817e+00,\n",
       "        -1.67859116e+01],\n",
       "       [ 5.29955079e-03, -1.02871298e+01,  2.48956906e+00,\n",
       "        -1.67859073e+01]]), array([0.54721217, 0.5472142 , 0.54722698, 0.54749134, 0.54752757]))\n",
       "           fun: 0.547212174134108\n",
       "       message: 'Maximum number of iterations has been exceeded.'\n",
       "          nfev: 213\n",
       "           nit: 100\n",
       "        status: 2\n",
       "       success: False\n",
       "             x: array([ 5.29954226e-03, -1.02871296e+01,  2.48956659e+00, -1.67859115e+01])"
      ]
     },
     "execution_count": 32,
     "metadata": {},
     "output_type": "execute_result"
    }
   ],
   "source": [
    "from scipy import optimize as opt\n",
    "true_params = np.array([β10, β11, β20, β21])\n",
    "mediumθ0 = np.array([β10+0.1, β11-0.1, β20+0.01, β21-0.01])\n",
    "badθ0 = np.array([β10+2, β11-1, β20+1, β21-3])\n",
    "\n",
    "opt.minimize(error_w_data, badθ0,\n",
    "             method='Nelder-Mead', options={'maxiter': 100, 'disp': True})"
   ]
  },
  {
   "cell_type": "code",
   "execution_count": null,
   "metadata": {},
   "outputs": [],
   "source": [
    "import time\n",
    "start = time.time()\n",
    "maxiters=3\n",
    "opt.differential_evolution(error_w_data, [(-3, 3), (-3, 3), (-3, 3), (-3, 3)],\n",
    "                          maxiter=maxiters)\n",
    "\n",
    "time_taken = start/60 - time.time()/60\n",
    "print(\"Taken {0} minutes for {1} iterations. {2} per iteration\".format(\n",
    "      time_taken, maxiters, time_taken/maxiters))\n"
   ]
  },
  {
   "cell_type": "markdown",
   "metadata": {},
   "source": [
    "## Nelder-Mead\n",
    "\n",
    "Doesn't converge. Not super surprised, since the problem is weird"
   ]
  },
  {
   "cell_type": "code",
   "execution_count": 141,
   "metadata": {},
   "outputs": [
    {
     "name": "stdout",
     "output_type": "stream",
     "text": [
      "Warning: Maximum number of iterations has been exceeded.\n"
     ]
    },
    {
     "data": {
      "text/plain": [
       " final_simplex: (array([[ 1.23357625e-09,  1.99999990e+00,  1.03000024e+00,\n",
       "        -4.99999927e+00],\n",
       "       [ 1.23357625e-09,  1.99999990e+00,  1.03000024e+00,\n",
       "        -4.99999927e+00],\n",
       "       [ 1.23357625e-09,  1.99999990e+00,  1.03000024e+00,\n",
       "        -4.99999927e+00],\n",
       "       [ 1.23357625e-09,  1.99999990e+00,  1.03000024e+00,\n",
       "        -4.99999927e+00],\n",
       "       [ 1.23357625e-09,  1.99999990e+00,  1.03000024e+00,\n",
       "        -4.99999927e+00]]), array([1.91533241, 1.9243984 , 1.9332215 , 1.93347883, 1.93582771]))\n",
       "           fun: 1.9153324053720298\n",
       "       message: 'Maximum number of iterations has been exceeded.'\n",
       "          nfev: 13571\n",
       "           nit: 5000\n",
       "        status: 2\n",
       "       success: False\n",
       "             x: array([ 1.23357625e-09,  1.99999990e+00,  1.03000024e+00, -4.99999927e+00])"
      ]
     },
     "execution_count": 141,
     "metadata": {},
     "output_type": "execute_result"
    }
   ],
   "source": [
    "from scipy import optimize as opt\n",
    "#minimize(f, x0,, method='Nelder-Mead')\n",
    "true_params = np.array([β10, β11, β20, β21])\n",
    "mediumθ0 = np.array([β10+0.1, β11-0.1, β20+0.01, β21-0.01])\n",
    "badθ0 = np.array([β10+2, β11-1, β20+1, β21-3])\n",
    "opt.minimize(error_w_data, badθ0, method='Nelder-Mead', options={'maxiter': 5000, 'disp': True})"
   ]
  },
  {
   "cell_type": "markdown",
   "metadata": {},
   "source": [
    "## Differential Evolution\n",
    "\n",
    "Does converge! Seems promising even though it's slow"
   ]
  },
  {
   "cell_type": "code",
   "execution_count": 144,
   "metadata": {},
   "outputs": [
    {
     "data": {
      "text/plain": [
       "     fun: 0.048427970155213274\n",
       " message: 'Optimization terminated successfully.'\n",
       "    nfev: 7965\n",
       "     nit: 130\n",
       " success: True\n",
       "       x: array([-1.36566532,  0.48591431,  0.67631488, -2.59839081])"
      ]
     },
     "execution_count": 144,
     "metadata": {},
     "output_type": "execute_result"
    }
   ],
   "source": [
    "opt.differential_evolution(error_w_data, [(-3, 3), (-3, 3), (-3, 3), (-3, 3)],\n",
    "                          maxiter=1000)"
   ]
  }
 ],
 "metadata": {
  "kernelspec": {
   "display_name": "Python [conda env:firm_learning]",
   "language": "python",
   "name": "conda-env-firm_learning-py"
  },
  "language_info": {
   "codemirror_mode": {
    "name": "ipython",
    "version": 3
   },
   "file_extension": ".py",
   "mimetype": "text/x-python",
   "name": "python",
   "nbconvert_exporter": "python",
   "pygments_lexer": "ipython3",
   "version": "3.7.0"
  }
 },
 "nbformat": 4,
 "nbformat_minor": 2
}
