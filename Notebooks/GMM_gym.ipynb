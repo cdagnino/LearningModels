{
 "cells": [
  {
   "cell_type": "markdown",
   "metadata": {},
   "source": [
    "# GMM Gym\n",
    "\n",
    "Minimal working example of a GMM!\n",
    "\n",
    "## 1. Setup\n",
    "\n",
    "+ 1.1 Set up real deep parameters ($\\lambda_0 = f(X, \\theta)$)\n",
    "+ 1.2 Get ValueF and optimal policy function\n",
    "+ 1.3 Simulate demand and optimal pricing for N firms\n",
    "\n",
    "## 2. Estimating $\\theta$\n",
    "\n",
    "Try $\\theta$ until error < $\\varepsilon$\n",
    "\n",
    "+ 2.1. $\\theta$ values generate a $\\lambda_0$\n",
    "+ 2.2. $\\lambda_0$ + demand observations + optimal pricing generate pricing decisions\n",
    "+ 2.3. $error = \\left|pricing decisions - observed pricing\\right|$\n"
   ]
  },
  {
   "cell_type": "markdown",
   "metadata": {},
   "source": [
    "## 1. Setup"
   ]
  },
  {
   "cell_type": "code",
   "execution_count": 1,
   "metadata": {},
   "outputs": [
    {
     "data": {
      "text/plain": [
       "array([[0.14585984, 0.46892457, 0.38521559],\n",
       "       [0.19201237, 0.41777754, 0.39021009],\n",
       "       [0.12406303, 0.50100894, 0.37492803],\n",
       "       [0.18518151, 0.42350684, 0.39131165],\n",
       "       [0.27692416, 0.3387459 , 0.38432994],\n",
       "       [0.17363548, 0.43272667, 0.39363785],\n",
       "       [0.14482328, 0.47049444, 0.38468227],\n",
       "       [0.26232495, 0.35143931, 0.38623573],\n",
       "       [0.19872598, 0.40689442, 0.3943796 ],\n",
       "       [0.13626548, 0.48197159, 0.38176293]])"
      ]
     },
     "execution_count": 1,
     "metadata": {},
     "output_type": "execute_result"
    }
   ],
   "source": [
    "import numpy as np\n",
    "from typing import Callable\n",
    "%matplotlib inline\n",
    "import matplotlib.pyplot as plt\n",
    "import dill\n",
    "import numpy as np\n",
    "import pandas as pd\n",
    "    \n",
    "import sys\n",
    "sys.path.append('../')\n",
    "import src\n",
    "\n",
    "# Simulation parameters \\\n",
    "########################\n",
    "σerror= 0.005 #0.01\n",
    "Nfirms = 300\n",
    "time_periods = 40\n",
    "β10, β11 = 0.1, 2\n",
    "β20, β21 = 0.3, -1\n",
    "\n",
    "#TODO: consider using an e**x transformation to avoid clipping\n",
    "def lambda_0v0(x) -> np.ndarray:\n",
    "    \"\"\"\n",
    "    Generate a vector of lambdas on the observables x\n",
    "    \"\"\"\n",
    "    lambda1 = np.clip(β10 + β11*x + np.random.normal(0, σerror), 0, 1)\n",
    "    lambda2 = np.clip(β20 + β21*x + np.random.normal(0, σerror), 0, 1)\n",
    "    lambda3 = 1 - lambda1 - lambda2\n",
    "    return np.array([lambda1, lambda2, lambda3])\n",
    "\n",
    "def from_theta_to_lamba0v0(θ, x):\n",
    "    \"\"\"\n",
    "    Generates a lambda0 vector from the theta vector and x\n",
    "    θ = [θ10, θ11, θ20, θ21]\n",
    "    \"\"\"\n",
    "    lambda1 = np.clip(θ[0] + θ[1]*x + np.random.normal(0, σerror), 0, 1)\n",
    "    lambda2 = np.clip(θ[2] + θ[3]*x + np.random.normal(0, σerror), 0, 1)\n",
    "    lambda3 = 1 - lambda1 - lambda2\n",
    "    return np.array([lambda1, lambda2, lambda3])\n",
    "\n",
    "#Suitable for logistic\n",
    "β10, β11 = -2, 3\n",
    "β20, β21 = 0.03, -2.\n",
    "\n",
    "def logistic(x):\n",
    "    return 1/(1+np.e**(-x))\n",
    "\n",
    "def lambda_0(x) -> np.ndarray:\n",
    "    \"\"\"\n",
    "    Generate a vector of lambdas on the observables x\n",
    "    \"\"\"\n",
    "    lambda1 = logistic(β10 + β11*x + np.random.normal(0, σerror))\n",
    "    maxlambda2_value = 1 - lambda1\n",
    "    lambda2 = np.clip(logistic(β20 + β21*x + np.random.normal(0, σerror)), 0, maxlambda2_value)\n",
    "    lambda3 = 1 - lambda1 - lambda2\n",
    "    return np.array([lambda1, lambda2, lambda3])\n",
    "\n",
    "def from_theta_to_lamba0(θ, x):\n",
    "    \"\"\"\n",
    "    Generates a lambda0 vector from the theta vector and x\n",
    "    θ = [θ10, θ11, θ20, θ21]\n",
    "    x : characteristics of firms\n",
    "    \"\"\"\n",
    "    lambda1 = logistic(θ[0] + θ[1]*x + np.random.normal(0, σerror))\n",
    "    maxlambda2_value = 1 - lambda1\n",
    "    lambda2 = np.clip(logistic(θ[2] + θ[3]*x + np.random.normal(0, σerror)), 0, maxlambda2_value)\n",
    "    lambda3 = logistic(1 - lambda1 - lambda2)\n",
    "    return np.array([lambda1, lambda2, lambda3])\n",
    "\n",
    "\n",
    "\n",
    "def get_lambdas_from_x(xs):\n",
    "    y = np.empty((len(xs), 3))\n",
    "    for i in range(len(xs)):\n",
    "        y[i] = lambda_0(xs[i])\n",
    "    return y\n",
    "\n",
    "xs = np.abs(np.random.normal(0, 0.18, size=Nfirms))\n",
    "lambdas0 = get_lambdas_from_x(xs)\n",
    "lambdas0[0:10]\n",
    "\n"
   ]
  },
  {
   "cell_type": "code",
   "execution_count": null,
   "metadata": {},
   "outputs": [],
   "source": []
  },
  {
   "cell_type": "code",
   "execution_count": 2,
   "metadata": {},
   "outputs": [],
   "source": [
    "file_n = \"2018-10-5vfi_dict.dill\"\n",
    "with open('../data/' + file_n, 'rb') as file:\n",
    "    data_d = dill.load(file)\n",
    "\n",
    "lambdas = src.generate_simplex_3dims(n_per_dim=data_d['n_of_lambdas_per_dim'])\n",
    "price_grid = np.linspace(data_d['min_price'], data_d['max_price'])\n",
    "\n",
    "policy = data_d['policy']\n",
    "valueF = data_d['valueF']\n",
    "lambdas_ext = src.generate_simplex_3dims(n_per_dim=\n",
    "                                         data_d['n_of_lambdas_per_dim'])\n",
    "\n",
    "#Interpolate policy (level price). valueF is already a function\n",
    "policyF = src.interpolate_wguess(lambdas_ext, policy)\n"
   ]
  },
  {
   "cell_type": "code",
   "execution_count": 3,
   "metadata": {},
   "outputs": [],
   "source": [
    "def many_runs(nfirms, **kwargs):\n",
    "    dfs = []\n",
    "    for firm_i in range(nfirms):\n",
    "        df = src.simulate_one_firm(valueF, policyF,\n",
    "                                   maxt=time_periods,\n",
    "                                   lambda0=lambdas0[firm_i], **kwargs)\n",
    "        df['firm'] = firm_i\n",
    "        dfs.append(df)\n",
    "        \n",
    "    return pd.concat(dfs, axis=0)\n",
    "\n",
    "\n",
    "df = many_runs(Nfirms)"
   ]
  },
  {
   "cell_type": "markdown",
   "metadata": {},
   "source": [
    "## Estimating $\\theta$\n",
    "\n",
    "+ 2.1. $\\theta$ values generate a $\\lambda_0$\n",
    "\n",
    "(defined aboved)"
   ]
  },
  {
   "cell_type": "markdown",
   "metadata": {},
   "source": [
    "+ 2.2. $\\lambda_0$ + demand observations + optimal pricing generate pricing decisions"
   ]
  },
  {
   "cell_type": "code",
   "execution_count": 60,
   "metadata": {},
   "outputs": [
    {
     "data": {
      "text/plain": [
       "array([2.32068966, 1.46819105, 1.36664524, 1.25887915])"
      ]
     },
     "execution_count": 60,
     "metadata": {},
     "output_type": "execute_result"
    }
   ],
   "source": [
    "src.generate_pricing_decisions(policyF, np.array([0.2, 0.6, 0.2]),\n",
    "                               df[df.firm == 15].log_dmd.values)[0:4]"
   ]
  },
  {
   "cell_type": "markdown",
   "metadata": {},
   "source": [
    "+ 2.3. $error = \\left|pricing decisions - observed pricing\\right|$\n",
    "\n",
    "+ Do I choose moments?"
   ]
  },
  {
   "cell_type": "code",
   "execution_count": 26,
   "metadata": {},
   "outputs": [
    {
     "data": {
      "text/html": [
       "<div>\n",
       "<style scoped>\n",
       "    .dataframe tbody tr th:only-of-type {\n",
       "        vertical-align: middle;\n",
       "    }\n",
       "\n",
       "    .dataframe tbody tr th {\n",
       "        vertical-align: top;\n",
       "    }\n",
       "\n",
       "    .dataframe thead th {\n",
       "        text-align: right;\n",
       "    }\n",
       "</style>\n",
       "<table border=\"1\" class=\"dataframe\">\n",
       "  <thead>\n",
       "    <tr style=\"text-align: right;\">\n",
       "      <th></th>\n",
       "      <th></th>\n",
       "      <th>level_prices</th>\n",
       "      <th>t</th>\n",
       "    </tr>\n",
       "    <tr>\n",
       "      <th>firm</th>\n",
       "      <th></th>\n",
       "      <th></th>\n",
       "      <th></th>\n",
       "    </tr>\n",
       "  </thead>\n",
       "  <tbody>\n",
       "    <tr>\n",
       "      <th rowspan=\"5\" valign=\"top\">0</th>\n",
       "      <th>0</th>\n",
       "      <td>NaN</td>\n",
       "      <td>NaN</td>\n",
       "    </tr>\n",
       "    <tr>\n",
       "      <th>1</th>\n",
       "      <td>NaN</td>\n",
       "      <td>NaN</td>\n",
       "    </tr>\n",
       "    <tr>\n",
       "      <th>2</th>\n",
       "      <td>1.000000</td>\n",
       "      <td>1.0</td>\n",
       "    </tr>\n",
       "    <tr>\n",
       "      <th>3</th>\n",
       "      <td>1.527525</td>\n",
       "      <td>1.0</td>\n",
       "    </tr>\n",
       "    <tr>\n",
       "      <th>4</th>\n",
       "      <td>1.517674</td>\n",
       "      <td>1.0</td>\n",
       "    </tr>\n",
       "    <tr>\n",
       "      <th rowspan=\"3\" valign=\"top\">1</th>\n",
       "      <th>5</th>\n",
       "      <td>NaN</td>\n",
       "      <td>NaN</td>\n",
       "    </tr>\n",
       "    <tr>\n",
       "      <th>6</th>\n",
       "      <td>NaN</td>\n",
       "      <td>NaN</td>\n",
       "    </tr>\n",
       "    <tr>\n",
       "      <th>7</th>\n",
       "      <td>0.230940</td>\n",
       "      <td>1.0</td>\n",
       "    </tr>\n",
       "  </tbody>\n",
       "</table>\n",
       "</div>"
      ],
      "text/plain": [
       "        level_prices    t\n",
       "firm                     \n",
       "0    0           NaN  NaN\n",
       "     1           NaN  NaN\n",
       "     2      1.000000  1.0\n",
       "     3      1.527525  1.0\n",
       "     4      1.517674  1.0\n",
       "1    5           NaN  NaN\n",
       "     6           NaN  NaN\n",
       "     7      0.230940  1.0"
      ]
     },
     "execution_count": 26,
     "metadata": {},
     "output_type": "execute_result"
    }
   ],
   "source": [
    "test_df = pd.DataFrame({'level_prices': [2., 3., 4., 1., 2.1, 2.1, 2.1, 2.5],\n",
    "                       'firm': [0, 0, 0, 0, 0, 1, 1, 1],\n",
    "                       't': [0, 1, 2, 3, 4, 0, 1, 2]})\n",
    "\n",
    "test_df.groupby('firm')[['level_prices', 't']].rolling(window=3).std()"
   ]
  },
  {
   "cell_type": "code",
   "execution_count": 40,
   "metadata": {},
   "outputs": [],
   "source": [
    "#Generate running std (to start)\n",
    "std_devs = (df.groupby('firm').level_prices.rolling(window=4, min=3)\n",
    "            .std().reset_index()\n",
    "            .rename(columns={'level_1': 't',\n",
    "                            'level_prices': 'std_dev_prices'}))\n",
    "\n",
    "df = pd.merge(df, std_devs, on=['firm', 't'], how='left')"
   ]
  },
  {
   "cell_type": "code",
   "execution_count": 80,
   "metadata": {},
   "outputs": [
    {
     "data": {
      "text/plain": [
       "[<matplotlib.lines.Line2D at 0xb17764ac8>]"
      ]
     },
     "execution_count": 80,
     "metadata": {},
     "output_type": "execute_result"
    },
    {
     "data": {
      "image/png": "[encoded data removed]",
      "text/plain": [
       "<Figure size 432x288 with 1 Axes>"
      ]
     },
     "metadata": {},
     "output_type": "display_data"
    }
   ],
   "source": [
    "\n",
    "def generate_mean_std_pricing_decisions(policyF, lambda0, min_periods=3):\n",
    "    pricing_decision_dfs = []\n",
    "    for firm in df.firm.unique():\n",
    "        prices = src.generate_pricing_decisions(policyF, lambda0,\n",
    "                                       df[df.firm == firm].log_dmd.values)\n",
    "        pricing_decision_dfs.append(pd.DataFrame({'level_prices': prices,\n",
    "                                    'firm': np.repeat(firm, len(prices))\n",
    "                                  }))\n",
    "        \n",
    "    pricing_decision_df = pd.concat(pricing_decision_dfs, axis=0)\n",
    "                                        \n",
    "                                        \n",
    "    std_dev_df = (pricing_decision_df.groupby('firm').level_prices.rolling(window=4,\n",
    "                                                            min=min_periods)\n",
    "            .std().reset_index()\n",
    "            .rename(columns={'level_1': 't',\n",
    "                            'level_prices': 'std_dev_prices'}))\n",
    "    \n",
    "    return std_dev_df.groupby('t').std_dev_prices.mean()[min_periods:]\n",
    "                                        \n",
    "                              \n",
    "                                        \n",
    "avers = generate_mean_std_pricing_decisions(policyF, np.array([0.2, 0.6, 0.2]))\n",
    "plt.plot(avers)"
   ]
  },
  {
   "cell_type": "code",
   "execution_count": 107,
   "metadata": {},
   "outputs": [
    {
     "data": {
      "image/png": "[encoded data removed]",
      "text/plain": [
       "<Figure size 432x288 with 1 Axes>"
      ]
     },
     "metadata": {},
     "output_type": "display_data"
    }
   ],
   "source": [
    "def std_moments_error(θ: np.ndarray, policyF, x, observed_log_dmd,\n",
    "                      mean_std_observed_prices, min_periods=3) -> float:\n",
    "    \"\"\"\n",
    "    Computes the norm of the different between the observed moments and\n",
    "    the moments predicted by the model + θ\n",
    "    \n",
    "    Moments: average (over firms) standard deviation for each time period\n",
    "    \n",
    "    x: characteristics of firms\n",
    "    mean_std_observed_prices: mean (over firms) of standard deviation per t\n",
    "    \"\"\"\n",
    "    #CHANGE THIS: Loop over different Xs! Each firm should have its own X\n",
    "    lambda0 = from_theta_to_lamba0(θ, x)\n",
    "    mean_std_expected_prices = generate_mean_std_pricing_decisions(policyF,\n",
    "                                                lambda0, min_periods)\n",
    "    \n",
    "    return np.linalg.norm(mean_std_expected_prices.values \n",
    "                          - mean_std_observed_prices.values)\n",
    "\n",
    "min_periods = 3\n",
    "\n",
    "mean_std_observed_prices = df.groupby('t').std_dev_prices.mean()[min_periods:]\n",
    "\n",
    "real_theta = np.array([-2, 3, 0.03, -2])\n",
    "\n",
    "error = []\n",
    "deviation = np.linspace(-4, 4, 50)\n",
    "thetas = real_theta + deviation[:, np.newaxis]\n",
    "\n",
    "for theta in thetas:\n",
    "    error.append(std_moments_error(theta, policyF, xs[3], 737, mean_std_observed_prices,\n",
    "                 min_periods=3))\n",
    "    \n",
    "fig, ax = plt.subplots(1, 1)\n",
    "ax.plot(deviation, error)\n",
    "ax.set_xlabel(\"Deviations from true theta\", size=16)\n",
    "fig.suptitle(\"GMM error as a function of deviation from true parameters\", size=18);"
   ]
  },
  {
   "cell_type": "code",
   "execution_count": 103,
   "metadata": {},
   "outputs": [
    {
     "data": {
      "text/plain": [
       "(50, 4)"
      ]
     },
     "execution_count": 103,
     "metadata": {},
     "output_type": "execute_result"
    }
   ],
   "source": [
    "thetas = real_theta + \n",
    "thetas.shape"
   ]
  },
  {
   "cell_type": "code",
   "execution_count": 136,
   "metadata": {},
   "outputs": [
    {
     "name": "stdout",
     "output_type": "stream",
     "text": [
      "1.2999150967298112 1.2869394664881244 1.1539347845185266\n"
     ]
    },
    {
     "data": {
      "image/png": "[encoded data removed]",
      "text/plain": [
       "<Figure size 432x288 with 1 Axes>"
      ]
     },
     "metadata": {},
     "output_type": "display_data"
    }
   ],
   "source": [
    "def error(θ: np.ndarray, x, observed_log_dmd, observed_prices) -> float:\n",
    "    lambda0 = from_theta_to_lamba0(θ, x)\n",
    "    expected_prices = generate_pricing_decisions(lambda0, observed_log_dmd)\n",
    "    return np.linalg.norm(expected_prices - observed_prices)\n",
    "\n",
    "\n",
    "firm_id = 90\n",
    "chosen_x = xs[firm_id]\n",
    "chosen_dmd = df[df.firm == firm_id].log_dmd.values\n",
    "chosen_prices = df[df.firm == firm_id].level_prices.values\n",
    "\n",
    "\n",
    "def error_diagnostic(θ, x, observed_log_dmd, observed_prices):\n",
    "    lambda0 = from_theta_to_lamba0(θ, x)\n",
    "    expected_prices = generate_pricing_decisions(lambda0, observed_log_dmd)\n",
    "    return observed_prices, expected_prices, np.linalg.norm(expected_prices - observed_prices)\n",
    "\n",
    "def error_w_data(θ) -> float:\n",
    "    return error(θ, chosen_x, chosen_dmd, chosen_prices)\n",
    "\n",
    "\n",
    "trueθ0 = np.array([β10, β11, β20, β21])\n",
    "mediumθ0 = np.array([β10+0.1, β11-0.1, β20+0.01, β21-0.01])\n",
    "badθ0 = np.array([β10+0.3, β11-0.05, β20+0.1, β21-0.05])\n",
    "obs_pr, exp_pr, norm1 = error_diagnostic(trueθ0, chosen_x, chosen_dmd, chosen_prices)\n",
    "obs_prmedium, exp_prmedium, norm2 = error_diagnostic(mediumθ0, chosen_x, chosen_dmd, chosen_prices)\n",
    "obs_prbad, exp_prbad, norm3 = error_diagnostic(badθ0, chosen_x, chosen_dmd, chosen_prices)\n",
    "\n",
    "print(norm1, norm2, norm3)\n",
    "fig, ax = plt.subplots(1, 1)\n",
    "ax.plot(obs_pr, label='observed')\n",
    "ax.plot(exp_pr, label=\"expected good\")\n",
    "ax.plot(exp_prmedium, label=\"expected medium\")\n",
    "ax.plot(exp_prbad, label=\"expected bad\")\n",
    "ax.legend();"
   ]
  },
  {
   "cell_type": "markdown",
   "metadata": {},
   "source": [
    "## 3. Optimize"
   ]
  },
  {
   "cell_type": "markdown",
   "metadata": {},
   "source": [
    "## Optimize with moments"
   ]
  },
  {
   "cell_type": "code",
   "execution_count": 108,
   "metadata": {},
   "outputs": [
    {
     "data": {
      "text/plain": [
       "0.2589614663808846"
      ]
     },
     "execution_count": 108,
     "metadata": {},
     "output_type": "execute_result"
    }
   ],
   "source": [
    "min_periods = 3\n",
    "\n",
    "mean_std_observed_prices = df.groupby('t').std_dev_prices.mean()[min_periods:]\n",
    "\n",
    "def error_w_data(θ):\n",
    "    return std_moments_error(θ, policyF, x=xs[4], observed_log_dmd=34234,\n",
    "                      mean_std_observed_prices=mean_std_observed_prices,\n",
    "                             min_periods=3)\n",
    "\n"
   ]
  },
  {
   "cell_type": "code",
   "execution_count": 110,
   "metadata": {},
   "outputs": [
    {
     "data": {
      "text/plain": [
       "array([-2.  ,  3.  ,  0.03, -2.  ])"
      ]
     },
     "execution_count": 110,
     "metadata": {},
     "output_type": "execute_result"
    }
   ],
   "source": [
    "true_params"
   ]
  },
  {
   "cell_type": "code",
   "execution_count": 112,
   "metadata": {},
   "outputs": [
    {
     "data": {
      "text/plain": [
       "array([ 0.  ,  2.  ,  1.03, -5.  ])"
      ]
     },
     "execution_count": 112,
     "metadata": {},
     "output_type": "execute_result"
    }
   ],
   "source": [
    "badθ0"
   ]
  },
  {
   "cell_type": "code",
   "execution_count": 109,
   "metadata": {},
   "outputs": [
    {
     "name": "stdout",
     "output_type": "stream",
     "text": [
      "Warning: Maximum number of iterations has been exceeded.\n"
     ]
    },
    {
     "data": {
      "text/plain": [
       " final_simplex: (array([[-1.91629911,  3.02138363,  0.04399795, -1.78308427],\n",
       "       [-1.91629911,  3.02138363,  0.04399795, -1.78308427],\n",
       "       [-1.91629911,  3.02138363,  0.04399795, -1.78308427],\n",
       "       [-1.91629911,  3.02138363,  0.04399795, -1.78308427],\n",
       "       [-1.91629911,  3.02138363,  0.04399795, -1.78308427]]), array([0.18105796, 0.18779112, 0.19303533, 0.19399585, 0.19759756]))\n",
       "           fun: 0.18105795953845957\n",
       "       message: 'Maximum number of iterations has been exceeded.'\n",
       "          nfev: 797\n",
       "           nit: 300\n",
       "        status: 2\n",
       "       success: False\n",
       "             x: array([-1.91629911,  3.02138363,  0.04399795, -1.78308427])"
      ]
     },
     "execution_count": 109,
     "metadata": {},
     "output_type": "execute_result"
    }
   ],
   "source": [
    "from scipy import optimize as opt\n",
    "true_params = np.array([β10, β11, β20, β21])\n",
    "mediumθ0 = np.array([β10+0.1, β11-0.1, β20+0.01, β21-0.01])\n",
    "badθ0 = np.array([β10+2, β11-1, β20+1, β21-3])\n",
    "\n",
    "opt.minimize(error_w_data, badθ0,\n",
    "             method='Nelder-Mead', options={'maxiter': 300, 'disp': True})"
   ]
  },
  {
   "cell_type": "code",
   "execution_count": 115,
   "metadata": {},
   "outputs": [
    {
     "name": "stdout",
     "output_type": "stream",
     "text": [
      "eheheheh\n"
     ]
    }
   ],
   "source": [
    "print(\"eheheheh\")"
   ]
  },
  {
   "cell_type": "code",
   "execution_count": 114,
   "metadata": {},
   "outputs": [
    {
     "data": {
      "text/plain": [
       "     fun: 0.0785668023165704\n",
       " message: 'Maximum number of iterations has been exceeded.'\n",
       "    nfev: 375\n",
       "     nit: 3\n",
       " success: False\n",
       "       x: array([-1.37999293, -1.04929022,  0.04737885,  1.31836641])"
      ]
     },
     "execution_count": 114,
     "metadata": {},
     "output_type": "execute_result"
    }
   ],
   "source": [
    "opt.differential_evolution(error_w_data, [(-3, 3), (-3, 3), (-3, 3), (-3, 3)],\n",
    "                          maxiter=3)\n"
   ]
  },
  {
   "cell_type": "markdown",
   "metadata": {},
   "source": [
    "## Nelder-Mead\n",
    "\n",
    "Doesn't converge. Not super surprised, since the problem is weird"
   ]
  },
  {
   "cell_type": "code",
   "execution_count": 141,
   "metadata": {},
   "outputs": [
    {
     "name": "stdout",
     "output_type": "stream",
     "text": [
      "Warning: Maximum number of iterations has been exceeded.\n"
     ]
    },
    {
     "data": {
      "text/plain": [
       " final_simplex: (array([[ 1.23357625e-09,  1.99999990e+00,  1.03000024e+00,\n",
       "        -4.99999927e+00],\n",
       "       [ 1.23357625e-09,  1.99999990e+00,  1.03000024e+00,\n",
       "        -4.99999927e+00],\n",
       "       [ 1.23357625e-09,  1.99999990e+00,  1.03000024e+00,\n",
       "        -4.99999927e+00],\n",
       "       [ 1.23357625e-09,  1.99999990e+00,  1.03000024e+00,\n",
       "        -4.99999927e+00],\n",
       "       [ 1.23357625e-09,  1.99999990e+00,  1.03000024e+00,\n",
       "        -4.99999927e+00]]), array([1.91533241, 1.9243984 , 1.9332215 , 1.93347883, 1.93582771]))\n",
       "           fun: 1.9153324053720298\n",
       "       message: 'Maximum number of iterations has been exceeded.'\n",
       "          nfev: 13571\n",
       "           nit: 5000\n",
       "        status: 2\n",
       "       success: False\n",
       "             x: array([ 1.23357625e-09,  1.99999990e+00,  1.03000024e+00, -4.99999927e+00])"
      ]
     },
     "execution_count": 141,
     "metadata": {},
     "output_type": "execute_result"
    }
   ],
   "source": [
    "from scipy import optimize as opt\n",
    "#minimize(f, x0,, method='Nelder-Mead')\n",
    "true_params = np.array([β10, β11, β20, β21])\n",
    "mediumθ0 = np.array([β10+0.1, β11-0.1, β20+0.01, β21-0.01])\n",
    "badθ0 = np.array([β10+2, β11-1, β20+1, β21-3])\n",
    "opt.minimize(error_w_data, badθ0, method='Nelder-Mead', options={'maxiter': 5000, 'disp': True})"
   ]
  },
  {
   "cell_type": "markdown",
   "metadata": {},
   "source": [
    "## Differential Evolution\n",
    "\n",
    "Does converge! Seems promising even though it's slow"
   ]
  },
  {
   "cell_type": "code",
   "execution_count": 144,
   "metadata": {},
   "outputs": [
    {
     "data": {
      "text/plain": [
       "     fun: 0.048427970155213274\n",
       " message: 'Optimization terminated successfully.'\n",
       "    nfev: 7965\n",
       "     nit: 130\n",
       " success: True\n",
       "       x: array([-1.36566532,  0.48591431,  0.67631488, -2.59839081])"
      ]
     },
     "execution_count": 144,
     "metadata": {},
     "output_type": "execute_result"
    }
   ],
   "source": [
    "opt.differential_evolution(error_w_data, [(-3, 3), (-3, 3), (-3, 3), (-3, 3)],\n",
    "                          maxiter=1000)"
   ]
  }
 ],
 "metadata": {
  "kernelspec": {
   "display_name": "Python [conda env:firm_learning]",
   "language": "python",
   "name": "conda-env-firm_learning-py"
  },
  "language_info": {
   "codemirror_mode": {
    "name": "ipython",
    "version": 3
   },
   "file_extension": ".py",
   "mimetype": "text/x-python",
   "name": "python",
   "nbconvert_exporter": "python",
   "pygments_lexer": "ipython3",
   "version": "3.7.0"
  }
 },
 "nbformat": 4,
 "nbformat_minor": 2
}
