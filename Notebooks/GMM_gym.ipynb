{
 "cells": [
  {
   "cell_type": "markdown",
   "metadata": {},
   "source": [
    "# GMM Gym\n",
    "\n",
    "Minimal working example of a GMM!\n",
    "\n",
    "## 1. Setup\n",
    "\n",
    "+ 1.1 Set up real deep parameters ($\\lambda_0 = f(X, \\theta)$)\n",
    "+ 1.2 Get ValueF and optimal policy function\n",
    "+ 1.3 Simulate demand and optimal pricing for N firms\n",
    "\n",
    "## 2. Estimating $\\theta$\n",
    "\n",
    "Try $\\theta$ until error < $\\varepsilon$\n",
    "\n",
    "+ 2.1. $\\theta$ values generate a $\\lambda_0$\n",
    "+ 2.2. $\\lambda_0$ + demand observations + optimal pricing generate pricing decisions\n",
    "+ 2.3. $error = \\left|pricing decisions - observed pricing\\right|$\n"
   ]
  },
  {
   "cell_type": "markdown",
   "metadata": {},
   "source": [
    "## 1. Setup"
   ]
  },
  {
   "cell_type": "code",
   "execution_count": 13,
   "metadata": {},
   "outputs": [
    {
     "data": {
      "text/plain": [
       "array([[0.5201502 , 0.09087682, 0.38897297],\n",
       "       [0.63474605, 0.03872408, 0.32652987],\n",
       "       [0.39151858, 0.16821543, 0.44026599],\n",
       "       [1.        , 0.        , 0.        ],\n",
       "       [0.24783417, 0.22661698, 0.52554884],\n",
       "       [0.15496147, 0.27566373, 0.56937481],\n",
       "       [0.14450657, 0.26330705, 0.59218638],\n",
       "       [0.13501405, 0.27721282, 0.58777313],\n",
       "       [0.3555791 , 0.18648949, 0.4579314 ],\n",
       "       [0.13737234, 0.2752099 , 0.58741776]])"
      ]
     },
     "execution_count": 13,
     "metadata": {},
     "output_type": "execute_result"
    }
   ],
   "source": [
    "import numpy as np\n",
    "from typing import Callable\n",
    "%matplotlib inline\n",
    "import matplotlib.pyplot as plt\n",
    "import dill\n",
    "import numpy as np\n",
    "import pandas as pd\n",
    "    \n",
    "import sys\n",
    "sys.path.append('../')\n",
    "import src\n",
    "\n",
    "# Simulation parameters\n",
    "########################\n",
    "σerror=0.01\n",
    "Nfirms = 300\n",
    "time_periods = 40\n",
    "\n",
    "def lambda_0(x) -> np.ndarray:\n",
    "    \"\"\"\n",
    "    Generate a vector of lambdas on the observables x\n",
    "    \"\"\"\n",
    "    lambda1 = np.clip(0.1 + 2*x + np.random.normal(0, σerror), 0, 1)\n",
    "    lambda2 = np.clip(0.3 + -1*x + np.random.normal(0, σerror), 0, 1)\n",
    "    lambda3 = 1 - lambda1 - lambda2\n",
    "    return np.array([lambda1, lambda2, lambda3])\n",
    "\n",
    "def get_lambdas_from_x(xs):\n",
    "    y = np.empty((len(xs), 3))\n",
    "    for i in range(len(xs)):\n",
    "        y[i] = lambda_0(xs[i])\n",
    "    return y\n",
    "\n",
    "xs = np.abs(np.random.normal(0, 0.18, size=Nfirms))\n",
    "lambdas0 = get_lambdas_from_x(xs)\n",
    "lambdas0[0:10]\n",
    "\n"
   ]
  },
  {
   "cell_type": "code",
   "execution_count": 3,
   "metadata": {},
   "outputs": [],
   "source": [
    "file_n = \"2018-10-5vfi_dict.dill\"\n",
    "with open('../data/' + file_n, 'rb') as file:\n",
    "    data_d = dill.load(file)\n",
    "\n",
    "lambdas = src.generate_simplex_3dims(n_per_dim=data_d['n_of_lambdas_per_dim'])\n",
    "price_grid = np.linspace(data_d['min_price'], data_d['max_price'])\n",
    "\n",
    "policy = data_d['policy']\n",
    "valueF = data_d['valueF']\n",
    "lambdas_ext = src.generate_simplex_3dims(n_per_dim=\n",
    "                                         data_d['n_of_lambdas_per_dim'])\n",
    "\n",
    "#Interpolate policy (level price). valueF is already a function\n",
    "policyF = src.interpolate_wguess(lambdas_ext, policy)\n",
    "\n",
    "\n",
    "# Demand realization\n",
    "#src.draw_true_log_dmd(price, β, σϵ):\n",
    "\n",
    "\n"
   ]
  },
  {
   "cell_type": "code",
   "execution_count": 18,
   "metadata": {},
   "outputs": [],
   "source": [
    "def one_run(lambda0=np.array([0.4, 0.4, 0.2]),\n",
    "                             true_beta=src.betas_transition[2],\n",
    "                             dmd_σϵ=src.const.σ_ɛ, maxt=time_periods):\n",
    "    current_lambdas = lambda0\n",
    "    d = {}\n",
    "    d['level_prices'] = []\n",
    "    d['log_dmd'] = []\n",
    "    d['valueF'] = []\n",
    "    d['lambda1'] = []\n",
    "    d['lambda2'] = []\n",
    "    d['lambda3'] = []\n",
    "\n",
    "\n",
    "    for t in range(time_periods):\n",
    "        d['lambda1'].append(current_lambdas[0])\n",
    "        d['lambda2'].append(current_lambdas[1])\n",
    "        d['lambda3'].append(current_lambdas[2])\n",
    "        d['valueF'].append(valueF(current_lambdas[:2])[0])\n",
    "\n",
    "        #0. Choose optimal price (last action of t-1)\n",
    "        level_price = policyF(current_lambdas[:2]) #Check: Is this correctly defined with the first two elements?\n",
    "        d['level_prices'].append(level_price[0])\n",
    "\n",
    "        #1. Demand happens\n",
    "        log_dmd = src.draw_true_log_dmd(level_price, true_beta, dmd_σε)\n",
    "        d['log_dmd'].append(log_dmd[0])\n",
    "\n",
    "        #2. lambda updates: log_dmd: Yes, level_price: Yes\n",
    "        new_lambdas = src.update_lambdas(log_dmd, src.dmd_transition_fs, current_lambdas,\n",
    "                       action=level_price, old_state=1.2)\n",
    "\n",
    "        current_lambdas = new_lambdas\n",
    "            \n",
    "    return pd.DataFrame(d)\n",
    "\n",
    "def many_runs(nfirms, **kwargs):\n",
    "    dfs = []\n",
    "    for firm_i in range(nfirms):\n",
    "        df = one_run(lambda0=lambdas0[firm_i], **kwargs)\n",
    "        df['firm'] = firm_i\n",
    "        dfs.append(df)\n",
    "        \n",
    "    return pd.concat(dfs, axis=0)\n",
    "\n",
    "df = many_runs(Nfirms)"
   ]
  },
  {
   "cell_type": "markdown",
   "metadata": {},
   "source": [
    "## Estimating $\\theta$\n",
    "\n",
    "+ 2.1. $\\theta$ values generate a $\\lambda_0$\n"
   ]
  },
  {
   "cell_type": "code",
   "execution_count": null,
   "metadata": {},
   "outputs": [],
   "source": [
    "def from_theta_to_lamba0(theta):\n",
    "    pass"
   ]
  },
  {
   "cell_type": "markdown",
   "metadata": {},
   "source": [
    "+ 2.2. $\\lambda_0$ + demand observations + optimal pricing generate pricing decisions"
   ]
  },
  {
   "cell_type": "code",
   "execution_count": null,
   "metadata": {},
   "outputs": [],
   "source": [
    "def generate_pricing_decisions(lambda0, demand_obs):\n",
    "    pass"
   ]
  },
  {
   "cell_type": "markdown",
   "metadata": {},
   "source": [
    "+ 2.3. $error = \\left|pricing decisions - observed pricing\\right|$"
   ]
  },
  {
   "cell_type": "code",
   "execution_count": null,
   "metadata": {},
   "outputs": [],
   "source": []
  }
 ],
 "metadata": {
  "kernelspec": {
   "display_name": "Python [conda env:firm_learning]",
   "language": "python",
   "name": "conda-env-firm_learning-py"
  },
  "language_info": {
   "codemirror_mode": {
    "name": "ipython",
    "version": 3
   },
   "file_extension": ".py",
   "mimetype": "text/x-python",
   "name": "python",
   "nbconvert_exporter": "python",
   "pygments_lexer": "ipython3",
   "version": "3.7.0"
  }
 },
 "nbformat": 4,
 "nbformat_minor": 2
}
