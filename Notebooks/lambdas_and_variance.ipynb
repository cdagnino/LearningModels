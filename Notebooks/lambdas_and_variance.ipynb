{
 "cells": [
  {
   "cell_type": "markdown",
   "metadata": {},
   "source": [
    "# Lambdas and variance\n",
    "\n",
    "+ $\\gamma$ are the structural parameters, that generate the original priors $\\lambda^0$\n",
    "+ $z$ are characteristics of the product and firm\n",
    "+ $(\\mu^0, \\sigma^0)$ is the initial mean and standard deviation of the initial belief, which is over the demand next period.\n",
    "\n",
    "It's easy to write $\\lambda^0 = \\gamma'z$, but the gammas become more difficult to interpret and maybe more difficult to identify.\n",
    "\n",
    "It's better if the $z$'s have a simple (say, monotonic or quadratic) relationship with the $(\\mu^0, \\sigma^0)$\n",
    "\n",
    "According to [this cross validated question](), if we have a mixed distribution\n",
    "\n",
    "$$f(x) = \\sum_i{\\lambda_i f_i(x)},$$\n",
    "\n",
    "then \n",
    "\n",
    "$$E[f(x)] = \\sum_i{\\lambda_i E[f_i(x)]}$$\n",
    "\n",
    "and\n",
    "\n",
    "$$\\text{Var}(f) = \\sum_i{\\lambda_i \\sigma^2_i} + \\sum_i{\\lambda_i \\left( \\mu_i \\right)^2} - \\left(   \\sum_{i}{\\lambda_i \\mu_i} \\right)^2$$\n",
    "\n",
    "## Just two lambdas and same variance\n",
    "\n",
    "Simplifies to\n",
    "\n",
    "$$\\text{Var}(f) = \\sigma^2 + \\lambda_1 (\\mu_1)^2 + \\lambda_2 (\\mu_2)^2 - \\left( \\lambda_1 \\mu_1 + \\lambda_2 \\mu_2 \\right)^2 $$\n",
    "\n",
    "$$\\text{Var}(f) = \\sigma^2 + \\lambda_1 (\\mu_1)^2 + (1 - \\lambda_1) (\\mu_2)^2 - \\left( \\lambda_1 \\mu_1 + (1-\\lambda_1) \\mu_2 \\right)^2 $$\n"
   ]
  },
  {
   "cell_type": "code",
   "execution_count": 6,
   "metadata": {},
   "outputs": [
    {
     "data": {
      "text/plain": [
       "[<matplotlib.lines.Line2D at 0x112d94240>]"
      ]
     },
     "execution_count": 6,
     "metadata": {},
     "output_type": "execute_result"
    },
    {
     "data": {
      "image/png": "[encoded data removed]",
      "text/plain": [
       "<Figure size 432x288 with 1 Axes>"
      ]
     },
     "metadata": {},
     "output_type": "display_data"
    }
   ],
   "source": [
    "%matplotlib inline\n",
    "import matplotlib.pyplot as plt\n",
    "import numpy as np\n",
    "\n",
    "def var_f_simple(λ1, μ1, μ2, sigma2):\n",
    "    return sigma2 + λ1*(μ1)**2 + (1-λ1)*(μ2)**2 - (λ1*μ1 + (1-λ1)*μ1)**2\n",
    "\n",
    "μ1, μ2 = 1., 0.5\n",
    "sigma2 = 1.\n",
    "\n",
    "fig, ax = plt.subplots(1, 1)\n",
    "\n",
    "λ1 = np.linspace(0., 1., num=100)\n",
    "ax.plot(λ1, var_f_simple(λ1, μ1, μ2, sigma2))"
   ]
  },
  {
   "cell_type": "code",
   "execution_count": null,
   "metadata": {},
   "outputs": [],
   "source": []
  }
 ],
 "metadata": {
  "kernelspec": {
   "display_name": "Python [conda env:firm_learning]",
   "language": "python",
   "name": "conda-env-firm_learning-py"
  },
  "language_info": {
   "codemirror_mode": {
    "name": "ipython",
    "version": 3
   },
   "file_extension": ".py",
   "mimetype": "text/x-python",
   "name": "python",
   "nbconvert_exporter": "python",
   "pygments_lexer": "ipython3",
   "version": "3.7.0"
  }
 },
 "nbformat": 4,
 "nbformat_minor": 2
}
