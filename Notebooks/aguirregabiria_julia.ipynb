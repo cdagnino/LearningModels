{
 "cells": [
  {
   "cell_type": "code",
   "execution_count": 62,
   "metadata": {},
   "outputs": [
    {
     "data": {
      "text/plain": [
       "compute_fixed_point (generic function with 5 methods)"
      ]
     },
     "execution_count": 62,
     "metadata": {},
     "output_type": "execute_result"
    }
   ],
   "source": [
    "include(\"../julia/aguirregabiria_core.jl\")"
   ]
  },
  {
   "cell_type": "code",
   "execution_count": 4,
   "metadata": {},
   "outputs": [
    {
     "data": {
      "text/plain": [
       "1.0e-5"
      ]
     },
     "execution_count": 4,
     "metadata": {},
     "output_type": "execute_result"
    }
   ],
   "source": [
    "length_of_price_grid = 10\n",
    "min_price, max_price = 0.5, 1.5\n",
    "n_of_lambdas_per_dim = 3\n",
    "max_iters            = 3\n",
    "error_tol            = 1e-5"
   ]
  },
  {
   "cell_type": "code",
   "execution_count": 6,
   "metadata": {},
   "outputs": [
    {
     "data": {
      "text/plain": [
       "0.5:0.1111111111111111:1.5"
      ]
     },
     "execution_count": 6,
     "metadata": {},
     "output_type": "execute_result"
    }
   ],
   "source": [
    "price_grid = linspace(min_price, max_price, length_of_price_grid)"
   ]
  },
  {
   "cell_type": "code",
   "execution_count": 8,
   "metadata": {},
   "outputs": [
    {
     "data": {
      "text/plain": [
       "6×3 Array{Float64,2}:\n",
       " 0.0  0.0  1.0\n",
       " 0.0  0.5  0.5\n",
       " 0.0  1.0  0.0\n",
       " 0.5  0.0  0.5\n",
       " 0.5  0.5  0.0\n",
       " 1.0  0.0  0.0"
      ]
     },
     "execution_count": 8,
     "metadata": {},
     "output_type": "execute_result"
    }
   ],
   "source": [
    "simplex3d = generate_simplex_3dims(n_of_lambdas_per_dim)"
   ]
  },
  {
   "cell_type": "markdown",
   "metadata": {},
   "source": [
    "## Testing interpolation:"
   ]
  },
  {
   "cell_type": "code",
   "execution_count": 63,
   "metadata": {},
   "outputs": [
    {
     "data": {
      "text/html": [
       "1 method for generic function <b>interpolate_V</b>:<ul><li> (::<b>#interpolate_V#51</b>)(x) at <a href=\"https://github.com/cdagnino/LearningModels/tree/5bf4db24e7c71e8b02da331ed9263ab0a77e2dac//julia/aguirregabiria_core.jl#L40\" target=\"_blank\">C:\\Users\\gballari\\Documents\\GitHub\\LearningModels\\julia\\aguirregabiria_core.jl:40</a></li> </ul>"
      ],
      "text/plain": [
       "# 1 method for generic function \"(::interpolate_V)\":\n",
       "(::#interpolate_V#51)(x) in Main at C:\\Users\\gballari\\Documents\\GitHub\\LearningModels\\julia\\aguirregabiria_core.jl:40"
      ]
     },
     "execution_count": 63,
     "metadata": {},
     "output_type": "execute_result"
    }
   ],
   "source": [
    "V0 = [2; ones(size(simplex3d,1)-1)]\n",
    "#tmp_interpV = interpV(simplex3d, simplex3d[:,1])\n",
    "tmp_interpV = interpV(simplex3d, V0)\n",
    "methods(tmp_interpV)"
   ]
  },
  {
   "cell_type": "code",
   "execution_count": 64,
   "metadata": {},
   "outputs": [
    {
     "data": {
      "text/plain": [
       "6×2 Array{Float64,2}:\n",
       " 2.0  2.0\n",
       " 1.0  1.0\n",
       " 1.0  1.0\n",
       " 1.0  1.0\n",
       " 1.0  1.0\n",
       " 1.0  1.0"
      ]
     },
     "execution_count": 64,
     "metadata": {},
     "output_type": "execute_result"
    }
   ],
   "source": [
    "tmp_V = zeros(size(simplex3d,1))\n",
    "for i in 1:size(simplex3d,1)\n",
    "    tmp_V[i] = tmp_interpV(simplex3d[i,:])\n",
    "end\n",
    "hcat(V0, tmp_V)"
   ]
  },
  {
   "cell_type": "code",
   "execution_count": 66,
   "metadata": {},
   "outputs": [
    {
     "data": {
      "text/plain": [
       "11×11 Array{Float64,2}:\n",
       " 2.0  1.8  1.6  1.4  1.2  1.0  1.0  1.0  1.0  1.0  1.0\n",
       " 1.8  1.6  1.4  1.2  1.0  1.0  1.0  1.0  1.0  1.0  0.8\n",
       " 1.6  1.4  1.2  1.0  1.0  1.0  1.0  1.0  1.0  0.8  0.6\n",
       " 1.4  1.2  1.0  1.0  1.0  1.0  1.0  1.0  0.8  0.6  0.4\n",
       " 1.2  1.0  1.0  1.0  1.0  1.0  1.0  0.8  0.6  0.4  0.2\n",
       " 1.0  1.0  1.0  1.0  1.0  1.0  0.8  0.6  0.4  0.2  0.0\n",
       " 1.0  1.0  1.0  1.0  1.0  0.8  0.6  0.4  0.2  0.0  0.0\n",
       " 1.0  1.0  1.0  1.0  0.8  0.6  0.4  0.2  0.0  0.0  0.0\n",
       " 1.0  1.0  1.0  0.8  0.6  0.4  0.2  0.0  0.0  0.0  0.0\n",
       " 1.0  1.0  0.8  0.6  0.4  0.2  0.0  0.0  0.0  0.0  0.0\n",
       " 1.0  0.8  0.6  0.4  0.2  0.0  0.0  0.0  0.0  0.0  0.0"
      ]
     },
     "execution_count": 66,
     "metadata": {},
     "output_type": "execute_result"
    }
   ],
   "source": [
    "tmp_V = zeros(11,11)\n",
    "for (i1, x1) in enumerate(0.0:0.1:1.0)\n",
    "    for (i2, x2) in enumerate(0.0:0.1:1.0)\n",
    "        tmp_V[i1,i2] = tmp_interpV([x1, x2])\n",
    "    end\n",
    "end\n",
    "tmp_V"
   ]
  },
  {
   "cell_type": "markdown",
   "metadata": {},
   "source": [
    "## Test `period_return()` :"
   ]
  },
  {
   "cell_type": "code",
   "execution_count": 119,
   "metadata": {},
   "outputs": [
    {
     "data": {
      "text/plain": [
       "3-element Array{Float64,1}:\n",
       " 0.2\n",
       " 0.7\n",
       " 0.1"
      ]
     },
     "execution_count": 119,
     "metadata": {},
     "output_type": "execute_result"
    }
   ],
   "source": [
    "include(\"../julia/aguirregabiria_core.jl\")\n",
    "# lambdas is always a vector of size n_of_lambdas_per_dim\n",
    "test_lambdas = [0.2, 0.7, 0.1]"
   ]
  },
  {
   "cell_type": "code",
   "execution_count": 115,
   "metadata": {},
   "outputs": [
    {
     "data": {
      "text/plain": [
       "0.0:0.3422463165464479:3.080216848918031"
      ]
     },
     "execution_count": 115,
     "metadata": {},
     "output_type": "execute_result"
    }
   ],
   "source": [
    "constant_part = (price_grid - c) * exp(alpha + (sigma_eps^2)/2)"
   ]
  },
  {
   "cell_type": "code",
   "execution_count": 116,
   "metadata": {},
   "outputs": [
    {
     "data": {
      "text/plain": [
       "10-element Array{Float64,1}:\n",
       " 0.0    \n",
       " 1.20152\n",
       " 1.56949\n",
       " 1.63445\n",
       " 1.58379\n",
       " 1.49084\n",
       " 1.38604\n",
       " 1.28226\n",
       " 1.18475\n",
       " 1.09534"
      ]
     },
     "execution_count": 116,
     "metadata": {},
     "output_type": "execute_result"
    }
   ],
   "source": [
    "summation = exp.(log.(price_grid)*betas_transition' * test_lambdas)\n",
    "constant_part .* summation"
   ]
  },
  {
   "cell_type": "code",
   "execution_count": 117,
   "metadata": {},
   "outputs": [
    {
     "data": {
      "text/plain": [
       "10-element Array{Float64,1}:\n",
       " 0.0    \n",
       " 1.20152\n",
       " 1.56949\n",
       " 1.63445\n",
       " 1.58379\n",
       " 1.49084\n",
       " 1.38604\n",
       " 1.28226\n",
       " 1.18475\n",
       " 1.09534"
      ]
     },
     "execution_count": 117,
     "metadata": {},
     "output_type": "execute_result"
    }
   ],
   "source": [
    "period_return(price_grid, test_lambdas)"
   ]
  },
  {
   "cell_type": "markdown",
   "metadata": {},
   "source": [
    "## Test `dmd_transition_fs()`, `belief()`, `update_lambdas()` :"
   ]
  },
  {
   "cell_type": "code",
   "execution_count": 192,
   "metadata": {},
   "outputs": [
    {
     "data": {
      "text/plain": [
       "3-element Array{Float64,1}:\n",
       " 0.438616\n",
       " 0.526604\n",
       " 0.611573"
      ]
     },
     "execution_count": 192,
     "metadata": {},
     "output_type": "execute_result"
    }
   ],
   "source": [
    "include(\"../julia/aguirregabiria_core.jl\")\n",
    "dmd_transition_fs(1, 1.2, 1)"
   ]
  },
  {
   "cell_type": "code",
   "execution_count": 193,
   "metadata": {},
   "outputs": [
    {
     "data": {
      "text/plain": [
       "0.5175034896003625"
      ]
     },
     "execution_count": 193,
     "metadata": {},
     "output_type": "execute_result"
    }
   ],
   "source": [
    "belief(1, 1.2, 1, test_lambdas)"
   ]
  },
  {
   "cell_type": "code",
   "execution_count": 194,
   "metadata": {},
   "outputs": [
    {
     "data": {
      "text/plain": [
       "3-element Array{Float64,1}:\n",
       " 0.0352179\n",
       " 0.656158 \n",
       " 0.308624 "
      ]
     },
     "execution_count": 194,
     "metadata": {},
     "output_type": "execute_result"
    }
   ],
   "source": [
    "update_lambdas(0.3, 2, 1, test_lambdas)"
   ]
  },
  {
   "cell_type": "markdown",
   "metadata": {},
   "source": [
    "## Build `V0` :"
   ]
  },
  {
   "cell_type": "code",
   "execution_count": 198,
   "metadata": {},
   "outputs": [
    {
     "data": {
      "text/plain": [
       "0.8225806451612903"
      ]
     },
     "execution_count": 198,
     "metadata": {},
     "output_type": "execute_result"
    }
   ],
   "source": [
    "optimal_price = myopic_price(test_lambdas)"
   ]
  },
  {
   "cell_type": "code",
   "execution_count": 203,
   "metadata": {},
   "outputs": [
    {
     "data": {
      "text/plain": [
       "V_0 (generic function with 1 method)"
      ]
     },
     "execution_count": 203,
     "metadata": {},
     "output_type": "execute_result"
    }
   ],
   "source": [
    "V_0(x) = period_return(optimal_price, test_lambdas)"
   ]
  },
  {
   "cell_type": "markdown",
   "metadata": {},
   "source": [
    "## Test `E0fV(Vguess, price_grid, lambda_weights)` :"
   ]
  },
  {
   "cell_type": "code",
   "execution_count": 204,
   "metadata": {},
   "outputs": [
    {
     "data": {
      "text/plain": [
       "integrand (generic function with 1 method)"
      ]
     },
     "execution_count": 204,
     "metadata": {},
     "output_type": "execute_result"
    }
   ],
   "source": [
    "new_lambdas(x) = update_lambdas(x, price_grid[1], ~, test_lambdas)\n",
    "new_belief(x)  = belief(x, price_grid[1], ~, test_lambdas)\n",
    "integrand(x) = V_0(new_lambdas(x)[1:end-1]) * new_belief(x)"
   ]
  },
  {
   "cell_type": "code",
   "execution_count": 205,
   "metadata": {},
   "outputs": [
    {
     "data": {
      "text/plain": [
       "1.6349875782616206"
      ]
     },
     "execution_count": 205,
     "metadata": {},
     "output_type": "execute_result"
    }
   ],
   "source": [
    "V_0(test_lambdas)"
   ]
  },
  {
   "cell_type": "code",
   "execution_count": 212,
   "metadata": {},
   "outputs": [
    {
     "data": {
      "text/plain": [
       "0.005090286038995879"
      ]
     },
     "execution_count": 212,
     "metadata": {},
     "output_type": "execute_result"
    }
   ],
   "source": [
    "logd_min, logd_max = -6, 2.3\n",
    "integrand(1)"
   ]
  },
  {
   "cell_type": "code",
   "execution_count": 222,
   "metadata": {},
   "outputs": [
    {
     "data": {
      "text/plain": [
       "0.3112581338114793"
      ]
     },
     "execution_count": 222,
     "metadata": {},
     "output_type": "execute_result"
    }
   ],
   "source": [
    "A = quadgk(integrand, logd_min, logd_max, maxevals=250)[1]"
   ]
  },
  {
   "cell_type": "code",
   "execution_count": 221,
   "metadata": {},
   "outputs": [
    {
     "name": "stdout",
     "output_type": "stream",
     "text": [
      "  0.706334 seconds (368.86 k allocations: 15.653 MiB)\n"
     ]
    },
    {
     "data": {
      "text/plain": [
       "10-element Array{Float64,1}:\n",
       " 0.311258\n",
       " 0.873325\n",
       " 1.34534 \n",
       " 1.55611 \n",
       " 1.61779 \n",
       " 1.63168 \n",
       " 1.63438 \n",
       " 1.63488 \n",
       " 1.63497 \n",
       " 1.63498 "
      ]
     },
     "execution_count": 221,
     "metadata": {},
     "output_type": "execute_result"
    }
   ],
   "source": [
    "include(\"../julia/aguirregabiria_core.jl\")\n",
    "@time A = E0fV(V_0, price_grid, test_lambdas)"
   ]
  },
  {
   "cell_type": "markdown",
   "metadata": {},
   "source": [
    "## Test `bellman_operator(Vguess, price_grid, lambda_simplex)` :"
   ]
  },
  {
   "cell_type": "code",
   "execution_count": 230,
   "metadata": {},
   "outputs": [
    {
     "name": "stdout",
     "output_type": "stream",
     "text": [
      "> Doing 1 of 6\n",
      "4\n",
      "> Doing 2 of 6\n",
      "4\n",
      "> Doing 3 of 6\n",
      "5\n",
      "> Doing 4 of 6\n",
      "5\n",
      "> Doing 5 of 6\n",
      "5\n",
      "> Doing 6 of 6\n",
      "5\n",
      "  1.286872 seconds (1.23 M allocations: 43.753 MiB)\n"
     ]
    },
    {
     "data": {
      "text/plain": [
       "(interpolate_V, [0.833333 3.37685e-315 3.37685e-315; 0.833333 3.37685e-315 3.37685e-315; … ; 0.944444 3.37685e-315 3.37685e-315; 0.944444 3.37685e-315 3.35042e-315])"
      ]
     },
     "execution_count": 230,
     "metadata": {},
     "output_type": "execute_result"
    }
   ],
   "source": [
    "include(\"../julia/aguirregabiria_core.jl\")\n",
    "@time T_V, policy = bellman_operator(V_0, price_grid, simplex3d)"
   ]
  },
  {
   "cell_type": "code",
   "execution_count": 231,
   "metadata": {},
   "outputs": [
    {
     "data": {
      "text/plain": [
       "3.0416826021618695"
      ]
     },
     "execution_count": 231,
     "metadata": {},
     "output_type": "execute_result"
    }
   ],
   "source": [
    "T_V([0.4, 0.2, 0.4])"
   ]
  },
  {
   "cell_type": "code",
   "execution_count": 233,
   "metadata": {},
   "outputs": [
    {
     "name": "stdout",
     "output_type": "stream",
     "text": [
      "3.0607774882672927\n",
      "3.0497592746690607\n",
      "3.040085848338518\n",
      "3.039933255786248\n",
      "3.0388539687815435\n",
      "3.0376220892245693\n"
     ]
    }
   ],
   "source": [
    "for i in 1:size(simplex3d, 1)\n",
    "    println(T_V(simplex3d[i,:]))\n",
    "end"
   ]
  },
  {
   "cell_type": "markdown",
   "metadata": {},
   "source": [
    "## Compute fixed point:"
   ]
  },
  {
   "cell_type": "code",
   "execution_count": 242,
   "metadata": {},
   "outputs": [
    {
     "name": "stdout",
     "output_type": "stream",
     "text": [
      "Computed iterate 1 with error 8.4571\n",
      " !-- elapsed time: 1.048994361 seconds\n",
      "Computed iterate 3 with error 6.6847\n",
      " !-- elapsed time: 0.525019983 seconds\n",
      "Computed iterate 5 with error 5.3026\n",
      " !-- elapsed time: 0.509600013 seconds\n",
      "Computed iterate 7 with error 4.2063\n",
      " !-- elapsed time: 0.540372443 seconds\n",
      "Computed iterate 9 with error 3.3366\n",
      " !-- elapsed time: 0.47595541 seconds\n",
      "Computed iterate 11 with error 2.6499\n",
      " !-- elapsed time: 0.450300828 seconds\n",
      "Computed iterate 13 with error 2.1104\n",
      " !-- elapsed time: 0.879655534 seconds\n",
      "Computed iterate 15 with error 1.6856\n",
      " !-- elapsed time: 0.485984252 seconds\n",
      "Computed iterate 17 with error 1.3471\n",
      " !-- elapsed time: 0.525967833 seconds\n",
      "Computed iterate 19 with error 1.0820\n",
      " !-- elapsed time: 0.508479877 seconds\n",
      "Computed iterate 21 with error 0.8691\n",
      " !-- elapsed time: 0.529709542 seconds\n",
      "Computed iterate 23 with error 0.6981\n",
      " !-- elapsed time: 0.466937069 seconds\n",
      "Computed iterate 25 with error 0.5607\n",
      " !-- elapsed time: 0.407333816 seconds\n",
      "Computed iterate 27 with error 0.4503\n",
      " !-- elapsed time: 0.405605003 seconds\n",
      "Computed iterate 29 with error 0.3618\n",
      " !-- elapsed time: 0.405248547 seconds\n",
      "Computed iterate 31 with error 0.2913\n",
      " !-- elapsed time: 0.394526777 seconds\n",
      "Computed iterate 33 with error 0.2345\n",
      " !-- elapsed time: 0.398262006 seconds\n",
      "Computed iterate 35 with error 0.1887\n",
      " !-- elapsed time: 0.409460671 seconds\n",
      "Computed iterate 37 with error 0.1519\n",
      " !-- elapsed time: 0.405477003 seconds\n",
      "Computed iterate 39 with error 0.1223\n",
      " !-- elapsed time: 0.441078334 seconds\n",
      "Computed iterate 41 with error 0.0984\n",
      " !-- elapsed time: 0.497994664 seconds\n",
      "Computed iterate 43 with error 0.0792\n",
      " !-- elapsed time: 0.399828793 seconds\n",
      "Computed iterate 45 with error 0.0637\n",
      " !-- elapsed time: 0.454429238 seconds\n",
      "Computed iterate 47 with error 0.0513\n",
      " !-- elapsed time: 0.403558081 seconds\n",
      "Computed iterate 49 with error 0.0412\n",
      " !-- elapsed time: 0.396407354 seconds\n"
     ]
    },
    {
     "data": {
      "text/plain": [
       "(interpolate_V, [0.833333 3.37685e-315 3.37685e-315; 0.833333 3.37685e-315 3.37685e-315; … ; 0.944444 3.37685e-315 3.37685e-315; 0.944444 3.37685e-315 3.35042e-315], 0.04123928997986326)"
      ]
     },
     "execution_count": 242,
     "metadata": {},
     "output_type": "execute_result"
    }
   ],
   "source": [
    "include(\"../julia/aguirregabiria_core.jl\")\n",
    "compute_fixed_point(V_0, price_grid, simplex3d)"
   ]
  },
  {
   "cell_type": "code",
   "execution_count": null,
   "metadata": {},
   "outputs": [],
   "source": []
  }
 ],
 "metadata": {
  "kernelspec": {
   "display_name": "Julia 0.6.4",
   "language": "julia",
   "name": "julia-0.6"
  },
  "language_info": {
   "file_extension": ".jl",
   "mimetype": "application/julia",
   "name": "julia",
   "version": "0.6.4"
  }
 },
 "nbformat": 4,
 "nbformat_minor": 2
}
