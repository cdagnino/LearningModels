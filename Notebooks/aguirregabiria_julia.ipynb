{
 "cells": [
  {
   "cell_type": "code",
   "execution_count": 14,
   "metadata": {
    "ExecuteTime": {
     "end_time": "2018-09-22T15:52:19.670000-03:00",
     "start_time": "2018-09-22T18:52:19.350Z"
    }
   },
   "outputs": [
    {
     "data": {
      "text/plain": [
       "compute_fixed_point (generic function with 1 method)"
      ]
     },
     "execution_count": 14,
     "metadata": {},
     "output_type": "execute_result"
    }
   ],
   "source": [
    "using Plots; gr()\n",
    "include(\"../julia/aguirregabiria_core.jl\")"
   ]
  },
  {
   "cell_type": "code",
   "execution_count": 15,
   "metadata": {
    "ExecuteTime": {
     "end_time": "2018-09-22T15:52:21.688000-03:00",
     "start_time": "2018-09-22T18:52:21.679Z"
    }
   },
   "outputs": [
    {
     "data": {
      "text/plain": [
       "1.0e-5"
      ]
     },
     "execution_count": 15,
     "metadata": {},
     "output_type": "execute_result"
    }
   ],
   "source": [
    "#=\n",
    "length_of_price_grid = 10\n",
    "min_price, max_price = 0.5, 1.5\n",
    "n_of_lambdas_per_dim = 3\n",
    "max_iters            = 3\n",
    "error_tol            = 1e-5\n",
    "=#\n",
    "\n",
    "length_of_price_grid = 20\n",
    "min_price, max_price = 0.5, 1.5\n",
    "n_of_lambdas_per_dim = 5\n",
    "error_tol            = 1e-5"
   ]
  },
  {
   "cell_type": "code",
   "execution_count": 16,
   "metadata": {
    "ExecuteTime": {
     "end_time": "2018-09-22T15:52:23.479000-03:00",
     "start_time": "2018-09-22T18:52:23.476Z"
    }
   },
   "outputs": [
    {
     "data": {
      "text/plain": [
       "0.5:0.05263157894736842:1.5"
      ]
     },
     "execution_count": 16,
     "metadata": {},
     "output_type": "execute_result"
    }
   ],
   "source": [
    "price_grid = linspace(min_price, max_price, length_of_price_grid)"
   ]
  },
  {
   "cell_type": "code",
   "execution_count": 17,
   "metadata": {
    "ExecuteTime": {
     "end_time": "2018-09-22T15:52:26.452000-03:00",
     "start_time": "2018-09-22T18:52:25.033Z"
    }
   },
   "outputs": [
    {
     "data": {
      "text/plain": [
       "15×3 Array{Float64,2}:\n",
       " 0.0   0.0   1.0 \n",
       " 0.0   0.25  0.75\n",
       " 0.0   0.5   0.5 \n",
       " 0.0   0.75  0.25\n",
       " 0.0   1.0   0.0 \n",
       " 0.25  0.0   0.75\n",
       " 0.25  0.25  0.5 \n",
       " 0.25  0.5   0.25\n",
       " 0.25  0.75  0.0 \n",
       " 0.5   0.0   0.5 \n",
       " 0.5   0.25  0.25\n",
       " 0.5   0.5   0.0 \n",
       " 0.75  0.0   0.25\n",
       " 0.75  0.25  0.0 \n",
       " 1.0   0.0   0.0 "
      ]
     },
     "execution_count": 17,
     "metadata": {},
     "output_type": "execute_result"
    }
   ],
   "source": [
    "simplex3d = generate_simplex_3dims(n_of_lambdas_per_dim)"
   ]
  },
  {
   "cell_type": "markdown",
   "metadata": {},
   "source": [
    "## Testing interpolation:"
   ]
  },
  {
   "cell_type": "code",
   "execution_count": 18,
   "metadata": {
    "ExecuteTime": {
     "end_time": "2018-09-22T15:52:30.300000-03:00",
     "start_time": "2018-09-22T18:52:28.854Z"
    }
   },
   "outputs": [
    {
     "data": {
      "text/html": [
       "1 method for generic function <b>interpolate_V</b>:<ul><li> (::<b>#interpolate_V#20</b>)(x) at <a href=\"https://github.com/cdagnino/LearningModels/tree/ff88eb2c5af5e0ad16a5d56414a7bd8255aa9a54//julia/aguirregabiria_core.jl#L40\" target=\"_blank\">/Users/cd/Projects/de_github/LearningModels/julia/aguirregabiria_core.jl:40</a></li> </ul>"
      ],
      "text/plain": [
       "# 1 method for generic function \"(::interpolate_V)\":\n",
       "(::#interpolate_V#20)(x) in Main at /Users/cd/Projects/de_github/LearningModels/julia/aguirregabiria_core.jl:40"
      ]
     },
     "execution_count": 18,
     "metadata": {},
     "output_type": "execute_result"
    }
   ],
   "source": [
    "V0 = [2; ones(size(simplex3d,1)-1)]\n",
    "#tmp_interpV = interpV(simplex3d, simplex3d[:,1])\n",
    "tmp_interpV = interpV(simplex3d, V0)\n",
    "methods(tmp_interpV)"
   ]
  },
  {
   "cell_type": "code",
   "execution_count": 19,
   "metadata": {
    "ExecuteTime": {
     "end_time": "2018-09-22T15:52:32.839000-03:00",
     "start_time": "2018-09-22T18:52:31.644Z"
    }
   },
   "outputs": [
    {
     "data": {
      "text/plain": [
       "15×2 Array{Float64,2}:\n",
       " 2.0  2.0\n",
       " 1.0  1.0\n",
       " 1.0  1.0\n",
       " 1.0  1.0\n",
       " 1.0  1.0\n",
       " 1.0  1.0\n",
       " 1.0  1.0\n",
       " 1.0  1.0\n",
       " 1.0  1.0\n",
       " 1.0  1.0\n",
       " 1.0  1.0\n",
       " 1.0  1.0\n",
       " 1.0  1.0\n",
       " 1.0  1.0\n",
       " 1.0  1.0"
      ]
     },
     "execution_count": 19,
     "metadata": {},
     "output_type": "execute_result"
    }
   ],
   "source": [
    "tmp_V = zeros(size(simplex3d,1))\n",
    "for i in 1:size(simplex3d,1)\n",
    "    tmp_V[i] = tmp_interpV(simplex3d[i,:])\n",
    "end\n",
    "hcat(V0, tmp_V)"
   ]
  },
  {
   "cell_type": "code",
   "execution_count": 20,
   "metadata": {
    "ExecuteTime": {
     "end_time": "2018-09-22T15:52:35.376000-03:00",
     "start_time": "2018-09-22T18:52:35.337Z"
    }
   },
   "outputs": [
    {
     "data": {
      "text/plain": [
       "11×11 Array{Float64,2}:\n",
       " 2.0  1.6  1.2  1.0  1.0  1.0  1.0  1.0  1.0  1.0  1.0\n",
       " 1.6  1.2  1.0  1.0  1.0  1.0  1.0  1.0  1.0  1.0  0.6\n",
       " 1.2  1.0  1.0  1.0  1.0  1.0  1.0  1.0  1.0  0.6  0.2\n",
       " 1.0  1.0  1.0  1.0  1.0  1.0  1.0  1.0  0.6  0.2  0.0\n",
       " 1.0  1.0  1.0  1.0  1.0  1.0  1.0  0.6  0.2  0.0  0.0\n",
       " 1.0  1.0  1.0  1.0  1.0  1.0  0.6  0.2  0.0  0.0  0.0\n",
       " 1.0  1.0  1.0  1.0  1.0  0.6  0.2  0.0  0.0  0.0  0.0\n",
       " 1.0  1.0  1.0  1.0  0.6  0.2  0.0  0.0  0.0  0.0  0.0\n",
       " 1.0  1.0  1.0  0.6  0.2  0.0  0.0  0.0  0.0  0.0  0.0\n",
       " 1.0  1.0  0.6  0.2  0.0  0.0  0.0  0.0  0.0  0.0  0.0\n",
       " 1.0  0.6  0.2  0.0  0.0  0.0  0.0  0.0  0.0  0.0  0.0"
      ]
     },
     "execution_count": 20,
     "metadata": {},
     "output_type": "execute_result"
    }
   ],
   "source": [
    "tmp_V = zeros(11,11)\n",
    "for (i1, x1) in enumerate(0.0:0.1:1.0)\n",
    "    for (i2, x2) in enumerate(0.0:0.1:1.0)\n",
    "        tmp_V[i1,i2] = tmp_interpV([x1, x2])\n",
    "    end\n",
    "end\n",
    "tmp_V"
   ]
  },
  {
   "cell_type": "markdown",
   "metadata": {},
   "source": [
    "## Test `period_return()` :"
   ]
  },
  {
   "cell_type": "code",
   "execution_count": 21,
   "metadata": {
    "ExecuteTime": {
     "end_time": "2018-09-22T15:52:38.721000-03:00",
     "start_time": "2018-09-22T18:52:38.695Z"
    }
   },
   "outputs": [
    {
     "data": {
      "text/plain": [
       "3-element Array{Float64,1}:\n",
       " 0.2\n",
       " 0.7\n",
       " 0.1"
      ]
     },
     "execution_count": 21,
     "metadata": {},
     "output_type": "execute_result"
    }
   ],
   "source": [
    "include(\"../julia/aguirregabiria_core.jl\")\n",
    "# lambdas is always a vector of size n_of_lambdas_per_dim\n",
    "test_lambdas = [0.2, 0.7, 0.1]"
   ]
  },
  {
   "cell_type": "code",
   "execution_count": 22,
   "metadata": {
    "ExecuteTime": {
     "end_time": "2018-09-22T15:52:42.298000-03:00",
     "start_time": "2018-09-22T18:52:42.260Z"
    }
   },
   "outputs": [
    {
     "data": {
      "text/plain": [
       "0.0:0.16211667625884374:3.080216848918031"
      ]
     },
     "execution_count": 22,
     "metadata": {},
     "output_type": "execute_result"
    }
   ],
   "source": [
    "constant_part = (price_grid - c) * exp(alpha + (sigma_eps^2)/2)"
   ]
  },
  {
   "cell_type": "code",
   "execution_count": 23,
   "metadata": {
    "ExecuteTime": {
     "end_time": "2018-09-22T15:52:45.529000-03:00",
     "start_time": "2018-09-22T18:52:43.792Z"
    }
   },
   "outputs": [
    {
     "data": {
      "text/plain": [
       "20-element Array{Float64,1}:\n",
       " 0.0     \n",
       " 0.566615\n",
       " 0.935309\n",
       " 1.17663 \n",
       " 1.33369 \n",
       " 1.43378 \n",
       " 1.49468 \n",
       " 1.52829 \n",
       " 1.54269 \n",
       " 1.5435  \n",
       " 1.5347  \n",
       " 1.51911 \n",
       " 1.49877 \n",
       " 1.47515 \n",
       " 1.44935 \n",
       " 1.42216 \n",
       " 1.39418 \n",
       " 1.36583 \n",
       " 1.33745 \n",
       " 1.30927 "
      ]
     },
     "execution_count": 23,
     "metadata": {},
     "output_type": "execute_result"
    }
   ],
   "source": [
    "summation = exp.(log.(price_grid)*betas_transition' * test_lambdas)\n",
    "constant_part .* summation"
   ]
  },
  {
   "cell_type": "code",
   "execution_count": 24,
   "metadata": {
    "ExecuteTime": {
     "end_time": "2018-09-22T15:52:48.351000-03:00",
     "start_time": "2018-09-22T18:52:48.022Z"
    }
   },
   "outputs": [
    {
     "data": {
      "text/plain": [
       "2-element Array{Float64,1}:\n",
       " 1.54703\n",
       " 1.54011"
      ]
     },
     "execution_count": 24,
     "metadata": {},
     "output_type": "execute_result"
    }
   ],
   "source": [
    "period_return([0.9, 1], test_lambdas)"
   ]
  },
  {
   "cell_type": "markdown",
   "metadata": {},
   "source": [
    "## Test `dmd_transition_fs()`, `belief()`, `update_lambdas()` :"
   ]
  },
  {
   "cell_type": "code",
   "execution_count": 25,
   "metadata": {
    "ExecuteTime": {
     "end_time": "2018-09-22T15:52:50.484000-03:00",
     "start_time": "2018-09-22T18:52:50.372Z"
    }
   },
   "outputs": [
    {
     "data": {
      "text/plain": [
       "3-element Array{Float64,1}:\n",
       " 0.275406\n",
       " 0.658411\n",
       " 0.725042"
      ]
     },
     "execution_count": 25,
     "metadata": {},
     "output_type": "execute_result"
    }
   ],
   "source": [
    "include(\"../julia/aguirregabiria_core.jl\")\n",
    "dmd_transition_fs(1, 1.2, 1)"
   ]
  },
  {
   "cell_type": "code",
   "execution_count": 26,
   "metadata": {
    "ExecuteTime": {
     "end_time": "2018-09-22T15:52:52.004000-03:00",
     "start_time": "2018-09-22T18:52:51.958Z"
    }
   },
   "outputs": [
    {
     "data": {
      "text/plain": [
       "0.5884734620669838"
      ]
     },
     "execution_count": 26,
     "metadata": {},
     "output_type": "execute_result"
    }
   ],
   "source": [
    "belief(1, 1.2, 1, test_lambdas)"
   ]
  },
  {
   "cell_type": "code",
   "execution_count": 27,
   "metadata": {
    "ExecuteTime": {
     "end_time": "2018-09-22T15:52:54.098000-03:00",
     "start_time": "2018-09-22T18:52:53.952Z"
    }
   },
   "outputs": [
    {
     "data": {
      "text/plain": [
       "3-element Array{Float64,1}:\n",
       " 6.88419e-5\n",
       " 0.820924  \n",
       " 0.179007  "
      ]
     },
     "execution_count": 27,
     "metadata": {},
     "output_type": "execute_result"
    }
   ],
   "source": [
    "update_lambdas(0.3, 2, 1, test_lambdas)"
   ]
  },
  {
   "cell_type": "markdown",
   "metadata": {},
   "source": [
    "## Build `V0` :"
   ]
  },
  {
   "cell_type": "code",
   "execution_count": 28,
   "metadata": {
    "ExecuteTime": {
     "end_time": "2018-09-22T15:52:56.399000-03:00",
     "start_time": "2018-09-22T18:52:56.377Z"
    }
   },
   "outputs": [
    {
     "data": {
      "text/plain": [
       "0.9504504504504505"
      ]
     },
     "execution_count": 28,
     "metadata": {},
     "output_type": "execute_result"
    }
   ],
   "source": [
    "optimal_price = myopic_price(test_lambdas)"
   ]
  },
  {
   "cell_type": "code",
   "execution_count": 29,
   "metadata": {
    "ExecuteTime": {
     "end_time": "2018-09-22T15:52:57.950000-03:00",
     "start_time": "2018-09-22T18:52:57.839Z"
    }
   },
   "outputs": [
    {
     "data": {
      "text/plain": [
       "V_0 (generic function with 1 method)"
      ]
     },
     "execution_count": 29,
     "metadata": {},
     "output_type": "execute_result"
    }
   ],
   "source": [
    "function V_0(x) \n",
    "    optimal_price = myopic_price(x)\n",
    "    return period_return(optimal_price, x)\n",
    "end"
   ]
  },
  {
   "cell_type": "code",
   "execution_count": 39,
   "metadata": {
    "ExecuteTime": {
     "end_time": "2018-09-22T15:57:03.475000-03:00",
     "start_time": "2018-09-22T18:57:03.424Z"
    }
   },
   "outputs": [
    {
     "data": {
      "image/svg+xml": [
       "<?xml version=\"1.0\" encoding=\"utf-8\"?>\n",
       "<svg xmlns=\"http://www.w3.org/2000/svg\" xmlns:xlink=\"http://www.w3.org/1999/xlink\" width=\"450\" height=\"250\" viewBox=\"0 0 1800 1000\">\n",
       "<defs>\n",
       "  <clipPath id=\"clip7000\">\n",
       "    <rect x=\"0\" y=\"0\" width=\"2000\" height=\"2000\"/>\n",
       "  </clipPath>\n",
       "</defs>\n",
       "<defs>\n",
       "  <clipPath id=\"clip7001\">\n",
       "    <rect x=\"0\" y=\"0\" width=\"1800\" height=\"1000\"/>\n",
       "  </clipPath>\n",
       "</defs>\n",
       "<polygon clip-path=\"url(#clip7001)\" points=\"\n",
       "0,1000 1800,1000 1800,0 0,0 \n",
       "  \" fill=\"#ffffff\" fill-opacity=\"1\"/>\n",
       "<defs>\n",
       "  <clipPath id=\"clip7002\">\n",
       "    <rect x=\"360\" y=\"0\" width=\"1261\" height=\"1000\"/>\n",
       "  </clipPath>\n",
       "</defs>\n",
       "<polygon clip-path=\"url(#clip7001)\" points=\"\n",
       "47.0391,978.663 1780.31,978.663 1780.31,11.811 47.0391,11.811 \n",
       "  \" fill=\"#ffffff\" fill-opacity=\"1\"/>\n",
       "<defs>\n",
       "  <clipPath id=\"clip7003\">\n",
       "    <rect x=\"47\" y=\"11\" width=\"1734\" height=\"968\"/>\n",
       "  </clipPath>\n",
       "</defs>\n",
       "<polyline clip-path=\"url(#clip7003)\" style=\"stroke:#000000; stroke-width:0.5; stroke-opacity:0.1; fill:none\" points=\"\n",
       "  96.0941,978.663 96.0941,11.811 \n",
       "  \"/>\n",
       "<polyline clip-path=\"url(#clip7003)\" style=\"stroke:#000000; stroke-width:0.5; stroke-opacity:0.1; fill:none\" points=\"\n",
       "  504.886,978.663 504.886,11.811 \n",
       "  \"/>\n",
       "<polyline clip-path=\"url(#clip7003)\" style=\"stroke:#000000; stroke-width:0.5; stroke-opacity:0.1; fill:none\" points=\"\n",
       "  913.677,978.663 913.677,11.811 \n",
       "  \"/>\n",
       "<polyline clip-path=\"url(#clip7003)\" style=\"stroke:#000000; stroke-width:0.5; stroke-opacity:0.1; fill:none\" points=\"\n",
       "  1322.47,978.663 1322.47,11.811 \n",
       "  \"/>\n",
       "<polyline clip-path=\"url(#clip7003)\" style=\"stroke:#000000; stroke-width:0.5; stroke-opacity:0.1; fill:none\" points=\"\n",
       "  1731.26,978.663 1731.26,11.811 \n",
       "  \"/>\n",
       "<polyline clip-path=\"url(#clip7003)\" style=\"stroke:#000000; stroke-width:0.5; stroke-opacity:0.1; fill:none\" points=\"\n",
       "  47.0391,770.528 1780.31,770.528 \n",
       "  \"/>\n",
       "<polyline clip-path=\"url(#clip7003)\" style=\"stroke:#000000; stroke-width:0.5; stroke-opacity:0.1; fill:none\" points=\"\n",
       "  47.0391,555.154 1780.31,555.154 \n",
       "  \"/>\n",
       "<polyline clip-path=\"url(#clip7003)\" style=\"stroke:#000000; stroke-width:0.5; stroke-opacity:0.1; fill:none\" points=\"\n",
       "  47.0391,339.78 1780.31,339.78 \n",
       "  \"/>\n",
       "<polyline clip-path=\"url(#clip7003)\" style=\"stroke:#000000; stroke-width:0.5; stroke-opacity:0.1; fill:none\" points=\"\n",
       "  47.0391,124.405 1780.31,124.405 \n",
       "  \"/>\n",
       "<polyline clip-path=\"url(#clip7001)\" style=\"stroke:#000000; stroke-width:1; stroke-opacity:1; fill:none\" points=\"\n",
       "  47.0391,978.663 1780.31,978.663 \n",
       "  \"/>\n",
       "<polyline clip-path=\"url(#clip7001)\" style=\"stroke:#000000; stroke-width:1; stroke-opacity:1; fill:none\" points=\"\n",
       "  47.0391,978.663 47.0391,11.811 \n",
       "  \"/>\n",
       "<polyline clip-path=\"url(#clip7001)\" style=\"stroke:#000000; stroke-width:1; stroke-opacity:1; fill:none\" points=\"\n",
       "  96.0941,978.663 96.0941,964.16 \n",
       "  \"/>\n",
       "<polyline clip-path=\"url(#clip7001)\" style=\"stroke:#000000; stroke-width:1; stroke-opacity:1; fill:none\" points=\"\n",
       "  504.886,978.663 504.886,964.16 \n",
       "  \"/>\n",
       "<polyline clip-path=\"url(#clip7001)\" style=\"stroke:#000000; stroke-width:1; stroke-opacity:1; fill:none\" points=\"\n",
       "  913.677,978.663 913.677,964.16 \n",
       "  \"/>\n",
       "<polyline clip-path=\"url(#clip7001)\" style=\"stroke:#000000; stroke-width:1; stroke-opacity:1; fill:none\" points=\"\n",
       "  1322.47,978.663 1322.47,964.16 \n",
       "  \"/>\n",
       "<polyline clip-path=\"url(#clip7001)\" style=\"stroke:#000000; stroke-width:1; stroke-opacity:1; fill:none\" points=\"\n",
       "  1731.26,978.663 1731.26,964.16 \n",
       "  \"/>\n",
       "<polyline clip-path=\"url(#clip7001)\" style=\"stroke:#000000; stroke-width:1; stroke-opacity:1; fill:none\" points=\"\n",
       "  47.0391,770.528 73.0382,770.528 \n",
       "  \"/>\n",
       "<polyline clip-path=\"url(#clip7001)\" style=\"stroke:#000000; stroke-width:1; stroke-opacity:1; fill:none\" points=\"\n",
       "  47.0391,555.154 73.0382,555.154 \n",
       "  \"/>\n",
       "<polyline clip-path=\"url(#clip7001)\" style=\"stroke:#000000; stroke-width:1; stroke-opacity:1; fill:none\" points=\"\n",
       "  47.0391,339.78 73.0382,339.78 \n",
       "  \"/>\n",
       "<polyline clip-path=\"url(#clip7001)\" style=\"stroke:#000000; stroke-width:1; stroke-opacity:1; fill:none\" points=\"\n",
       "  47.0391,124.405 73.0382,124.405 \n",
       "  \"/>\n",
       "<g clip-path=\"url(#clip7001)\">\n",
       "<text style=\"fill:#000000; fill-opacity:1; font-family:Arial,Helvetica Neue,Helvetica,sans-serif; font-size:12; text-anchor:middle;\" transform=\"rotate(0, 96.0941, 998.463)\" x=\"96.0941\" y=\"998.463\">0.00</text>\n",
       "</g>\n",
       "<g clip-path=\"url(#clip7001)\">\n",
       "<text style=\"fill:#000000; fill-opacity:1; font-family:Arial,Helvetica Neue,Helvetica,sans-serif; font-size:12; text-anchor:middle;\" transform=\"rotate(0, 504.886, 998.463)\" x=\"504.886\" y=\"998.463\">0.25</text>\n",
       "</g>\n",
       "<g clip-path=\"url(#clip7001)\">\n",
       "<text style=\"fill:#000000; fill-opacity:1; font-family:Arial,Helvetica Neue,Helvetica,sans-serif; font-size:12; text-anchor:middle;\" transform=\"rotate(0, 913.677, 998.463)\" x=\"913.677\" y=\"998.463\">0.50</text>\n",
       "</g>\n",
       "<g clip-path=\"url(#clip7001)\">\n",
       "<text style=\"fill:#000000; fill-opacity:1; font-family:Arial,Helvetica Neue,Helvetica,sans-serif; font-size:12; text-anchor:middle;\" transform=\"rotate(0, 1322.47, 998.463)\" x=\"1322.47\" y=\"998.463\">0.75</text>\n",
       "</g>\n",
       "<g clip-path=\"url(#clip7001)\">\n",
       "<text style=\"fill:#000000; fill-opacity:1; font-family:Arial,Helvetica Neue,Helvetica,sans-serif; font-size:12; text-anchor:middle;\" transform=\"rotate(0, 1731.26, 998.463)\" x=\"1731.26\" y=\"998.463\">1.00</text>\n",
       "</g>\n",
       "<g clip-path=\"url(#clip7001)\">\n",
       "<text style=\"fill:#000000; fill-opacity:1; font-family:Arial,Helvetica Neue,Helvetica,sans-serif; font-size:12; text-anchor:end;\" transform=\"rotate(0, 29.0391, 775.028)\" x=\"29.0391\" y=\"775.028\">1.75</text>\n",
       "</g>\n",
       "<g clip-path=\"url(#clip7001)\">\n",
       "<text style=\"fill:#000000; fill-opacity:1; font-family:Arial,Helvetica Neue,Helvetica,sans-serif; font-size:12; text-anchor:end;\" transform=\"rotate(0, 29.0391, 559.654)\" x=\"29.0391\" y=\"559.654\">2.00</text>\n",
       "</g>\n",
       "<g clip-path=\"url(#clip7001)\">\n",
       "<text style=\"fill:#000000; fill-opacity:1; font-family:Arial,Helvetica Neue,Helvetica,sans-serif; font-size:12; text-anchor:end;\" transform=\"rotate(0, 29.0391, 344.28)\" x=\"29.0391\" y=\"344.28\">2.25</text>\n",
       "</g>\n",
       "<g clip-path=\"url(#clip7001)\">\n",
       "<text style=\"fill:#000000; fill-opacity:1; font-family:Arial,Helvetica Neue,Helvetica,sans-serif; font-size:12; text-anchor:end;\" transform=\"rotate(0, 29.0391, 128.905)\" x=\"29.0391\" y=\"128.905\">2.50</text>\n",
       "</g>\n",
       "<polyline clip-path=\"url(#clip7003)\" style=\"stroke:#009af9; stroke-width:1; stroke-opacity:1; fill:none\" points=\"\n",
       "  96.0941,791.048 259.611,911.835 423.127,951.299 586.644,913.843 750.16,823.426 913.677,719.374 1077.19,598.699 1240.71,467.89 1404.23,331.686 1567.74,175.784 \n",
       "  1731.26,39.1748 \n",
       "  \"/>\n",
       "<polygon clip-path=\"url(#clip7001)\" points=\"\n",
       "1533.61,134.931 1726.31,134.931 1726.31,104.691 1533.61,104.691 \n",
       "  \" fill=\"#ffffff\" fill-opacity=\"1\"/>\n",
       "<polyline clip-path=\"url(#clip7001)\" style=\"stroke:#000000; stroke-width:1; stroke-opacity:1; fill:none\" points=\"\n",
       "  1533.61,134.931 1726.31,134.931 1726.31,104.691 1533.61,104.691 1533.61,134.931 \n",
       "  \"/>\n",
       "<polyline clip-path=\"url(#clip7001)\" style=\"stroke:#009af9; stroke-width:1; stroke-opacity:1; fill:none\" points=\"\n",
       "  1551.61,119.811 1659.61,119.811 \n",
       "  \"/>\n",
       "<g clip-path=\"url(#clip7001)\">\n",
       "<text style=\"fill:#000000; fill-opacity:1; font-family:Arial,Helvetica Neue,Helvetica,sans-serif; font-size:12; text-anchor:start;\" transform=\"rotate(0, 1677.61, 124.311)\" x=\"1677.61\" y=\"124.311\">y1</text>\n",
       "</g>\n",
       "</svg>\n"
      ]
     },
     "execution_count": 39,
     "metadata": {},
     "output_type": "execute_result"
    }
   ],
   "source": [
    "lambdas_selected = [[0.0, 0.5, 0.5],\n",
    "                    [0.1, 0.5, 0.4],\n",
    "                    [0.2, 0.5, 0.3],\n",
    "                    [0.3, 0.5, 0.2],\n",
    "                    [0.4, 0.5, 0.1],\n",
    "                    [0.5, 0.4, 0.1],\n",
    "                    [0.6, 0.3, 0.1],\n",
    "                    [0.7, 0.2, 0.1],\n",
    "                    [0.8, 0.1, 0.1],\n",
    "                    [0.9, 0.1, 0.0],\n",
    "                    [1.0, 0.0, 0.0]]\n",
    "\n",
    "V_0_values = V_0.(lambdas_selected)\n",
    "plot(0:0.1:1, V_0_values, size = (1800, 1000))"
   ]
  },
  {
   "cell_type": "markdown",
   "metadata": {},
   "source": [
    "## Test `E0fV(Vguess, price_grid, lambda_weights)` :"
   ]
  },
  {
   "cell_type": "code",
   "execution_count": 40,
   "metadata": {
    "ExecuteTime": {
     "end_time": "2018-09-22T15:57:10.004000-03:00",
     "start_time": "2018-09-22T18:57:09.882Z"
    }
   },
   "outputs": [
    {
     "data": {
      "text/plain": [
       "integrand (generic function with 1 method)"
      ]
     },
     "execution_count": 40,
     "metadata": {},
     "output_type": "execute_result"
    }
   ],
   "source": [
    "new_lambdas(x) = update_lambdas(x, price_grid[1], ~, test_lambdas)\n",
    "new_belief(x)  = belief(x, price_grid[1], ~, test_lambdas)\n",
    "integrand(x) = V_0(new_lambdas(x)) * new_belief(x)"
   ]
  },
  {
   "cell_type": "code",
   "execution_count": 41,
   "metadata": {
    "ExecuteTime": {
     "end_time": "2018-09-22T15:57:11.111000-03:00",
     "start_time": "2018-09-22T18:57:11.108Z"
    }
   },
   "outputs": [
    {
     "data": {
      "text/plain": [
       "1.5464000419924135"
      ]
     },
     "execution_count": 41,
     "metadata": {},
     "output_type": "execute_result"
    }
   ],
   "source": [
    "V_0(test_lambdas)"
   ]
  },
  {
   "cell_type": "code",
   "execution_count": 42,
   "metadata": {
    "ExecuteTime": {
     "end_time": "2018-09-22T15:57:13.252000-03:00",
     "start_time": "2018-09-22T18:57:13.226Z"
    }
   },
   "outputs": [
    {
     "data": {
      "text/plain": [
       "0.09156848098729656"
      ]
     },
     "execution_count": 42,
     "metadata": {},
     "output_type": "execute_result"
    }
   ],
   "source": [
    "logd_min, logd_max = -6, 2.3\n",
    "integrand(1)"
   ]
  },
  {
   "cell_type": "code",
   "execution_count": 43,
   "metadata": {
    "ExecuteTime": {
     "end_time": "2018-09-22T15:57:17.048000-03:00",
     "start_time": "2018-09-22T18:57:15.295Z"
    }
   },
   "outputs": [
    {
     "data": {
      "text/plain": [
       "0.8078026050330478"
      ]
     },
     "execution_count": 43,
     "metadata": {},
     "output_type": "execute_result"
    }
   ],
   "source": [
    "A = quadgk(integrand, logd_min, logd_max, maxevals=250)[1]"
   ]
  },
  {
   "cell_type": "code",
   "execution_count": 44,
   "metadata": {
    "ExecuteTime": {
     "end_time": "2018-09-22T15:57:19.199000-03:00",
     "start_time": "2018-09-22T18:57:18.465Z"
    }
   },
   "outputs": [
    {
     "name": "stdout",
     "output_type": "stream",
     "text": [
      "  0.441862 seconds (623.90 k allocations: 24.381 MiB, 2.40% gc time)\n"
     ]
    },
    {
     "data": {
      "text/plain": [
       "20-element Array{Float64,1}:\n",
       " 0.807803\n",
       " 0.95716 \n",
       " 1.08021 \n",
       " 1.19653 \n",
       " 1.31751 \n",
       " 1.42379 \n",
       " 1.49327 \n",
       " 1.52538 \n",
       " 1.53486 \n",
       " 1.53735 \n",
       " 1.54227 \n",
       " 1.55264 \n",
       " 1.5677  \n",
       " 1.58559 \n",
       " 1.60463 \n",
       " 1.62368 \n",
       " 1.64201 \n",
       " 1.65921 \n",
       " 1.67509 \n",
       " 1.68956 "
      ]
     },
     "execution_count": 44,
     "metadata": {},
     "output_type": "execute_result"
    }
   ],
   "source": [
    "include(\"../julia/aguirregabiria_core.jl\")\n",
    "@time A = E0fV(V_0, price_grid, test_lambdas)"
   ]
  },
  {
   "cell_type": "markdown",
   "metadata": {},
   "source": [
    "## Test `bellman_operator(Vguess, price_grid, lambda_simplex)` :"
   ]
  },
  {
   "cell_type": "code",
   "execution_count": 45,
   "metadata": {
    "ExecuteTime": {
     "end_time": "2018-09-22T15:57:23.754000-03:00",
     "start_time": "2018-09-22T18:57:21.453Z"
    }
   },
   "outputs": [
    {
     "name": "stdout",
     "output_type": "stream",
     "text": [
      "  2.013118 seconds (6.49 M allocations: 218.115 MiB, 3.48% gc time)\n"
     ]
    },
    {
     "data": {
      "text/plain": [
       "(interpolate_V, [1.5, 1.5, 1.5, 1.39474, 1.23684, 1.5, 1.5, 1.5, 0.921053, 0.868421, 0.868421, 0.868421, 0.868421, 0.868421, 0.868421])"
      ]
     },
     "execution_count": 45,
     "metadata": {},
     "output_type": "execute_result"
    }
   ],
   "source": [
    "include(\"../julia/aguirregabiria_core.jl\")\n",
    "@time T_V, policy = bellman_operator(V_0, price_grid, simplex3d)"
   ]
  },
  {
   "cell_type": "code",
   "execution_count": 46,
   "metadata": {
    "ExecuteTime": {
     "end_time": "2018-09-22T15:57:25.158000-03:00",
     "start_time": "2018-09-22T18:57:25.146Z"
    }
   },
   "outputs": [
    {
     "data": {
      "text/plain": [
       "3.1953917860936847"
      ]
     },
     "execution_count": 46,
     "metadata": {},
     "output_type": "execute_result"
    }
   ],
   "source": [
    "T_V([0.4, 0.2, 0.4])"
   ]
  },
  {
   "cell_type": "code",
   "execution_count": 47,
   "metadata": {
    "ExecuteTime": {
     "end_time": "2018-09-22T15:57:27.779000-03:00",
     "start_time": "2018-09-22T18:57:27.658Z"
    }
   },
   "outputs": [
    {
     "name": "stdout",
     "output_type": "stream",
     "text": [
      "3.747664691399904\n",
      "3.4873902158753785\n",
      "3.276647533937669\n",
      "3.109491141280661\n",
      "3.004168122556239\n",
      "3.3595569286831006\n",
      "3.1503154627726584\n",
      "2.9845283443803012\n",
      "2.97487024900338\n",
      "3.1952336080777175\n",
      "3.2405471984226946\n",
      "3.2965291899843336\n",
      "3.6456009998113093\n",
      "3.714603848101699\n",
      "4.169196620086549\n"
     ]
    }
   ],
   "source": [
    "for i in 1:size(simplex3d, 1)\n",
    "    println(T_V(simplex3d[i,:]))\n",
    "end"
   ]
  },
  {
   "cell_type": "markdown",
   "metadata": {},
   "source": [
    "## Compute fixed point:"
   ]
  },
  {
   "cell_type": "code",
   "execution_count": 52,
   "metadata": {
    "ExecuteTime": {
     "end_time": "2018-09-22T16:02:05.293000-03:00",
     "start_time": "2018-09-22T19:00:12.639Z"
    }
   },
   "outputs": [
    {
     "name": "stdout",
     "output_type": "stream",
     "text": [
      "Computed iterate 1 with error 22.9940\n",
      " !-- elapsed time: 1.705190684 seconds\n",
      "Computed iterate 3 with error 18.1514\n",
      " !-- elapsed time: 2.273234487 seconds\n",
      "Computed iterate 5 with error 14.4468\n",
      " !-- elapsed time: 2.038025278 seconds\n",
      "Computed iterate 7 with error 11.5319\n",
      " !-- elapsed time: 2.032118729 seconds\n",
      "Computed iterate 9 with error 9.2315\n",
      " !-- elapsed time: 1.964395453 seconds\n",
      "Computed iterate 11 with error 7.3935\n",
      " !-- elapsed time: 2.972947361 seconds\n",
      "Computed iterate 13 with error 5.9384\n",
      " !-- elapsed time: 1.975291541 seconds\n",
      "Computed iterate 15 with error 4.7777\n",
      " !-- elapsed time: 2.45554387 seconds\n",
      "Computed iterate 17 with error 3.8463\n",
      " !-- elapsed time: 1.956910755 seconds\n",
      "Computed iterate 19 with error 3.0976\n",
      " !-- elapsed time: 1.927866813 seconds\n",
      "Computed iterate 21 with error 2.4953\n",
      " !-- elapsed time: 1.916557877 seconds\n",
      "Computed iterate 23 with error 2.0105\n",
      " !-- elapsed time: 1.921271287 seconds\n",
      "Computed iterate 25 with error 1.6201\n",
      " !-- elapsed time: 1.928431689 seconds\n",
      "Computed iterate 27 with error 1.3057\n",
      " !-- elapsed time: 1.91283652 seconds\n",
      "Computed iterate 29 with error 1.0523\n",
      " !-- elapsed time: 1.925461423 seconds\n",
      "Computed iterate 31 with error 0.8482\n",
      " !-- elapsed time: 1.913134946 seconds\n",
      "Computed iterate 33 with error 0.6838\n",
      " !-- elapsed time: 1.961370122 seconds\n",
      "Computed iterate 35 with error 0.5512\n",
      " !-- elapsed time: 1.916233109 seconds\n",
      "Computed iterate 37 with error 0.4444\n",
      " !-- elapsed time: 1.903380161 seconds\n",
      "Computed iterate 39 with error 0.3583\n",
      " !-- elapsed time: 2.593778968 seconds\n",
      "Computed iterate 41 with error 0.2890\n",
      " !-- elapsed time: 2.820666557 seconds\n",
      "Computed iterate 43 with error 0.2330\n",
      " !-- elapsed time: 3.904838847 seconds\n",
      "Computed iterate 45 with error 0.1879\n",
      " !-- elapsed time: 3.118922274 seconds\n",
      "Computed iterate 47 with error 0.1516\n",
      " !-- elapsed time: 3.014764657 seconds\n",
      "Computed iterate 49 with error 0.1222\n",
      " !-- elapsed time: 2.935546281 seconds\n",
      "112.272302 seconds (672.88 M allocations: 32.701 GiB, 9.03% gc time)\n"
     ]
    },
    {
     "data": {
      "text/plain": [
       "(interpolate_V, [1.5, 1.5, 1.5, 1.39474, 1.23684, 1.5, 1.5, 1.5, 0.921053, 0.868421, 0.868421, 0.868421, 0.868421, 0.868421, 0.868421], 0.12224609370297301)"
      ]
     },
     "execution_count": 52,
     "metadata": {},
     "output_type": "execute_result"
    }
   ],
   "source": [
    "include(\"../julia/aguirregabiria_core.jl\")\n",
    "@time V, policy, error = compute_fixed_point(V_0, price_grid, simplex3d)"
   ]
  },
  {
   "cell_type": "code",
   "execution_count": 53,
   "metadata": {
    "ExecuteTime": {
     "end_time": "2018-09-22T16:08:59.092000-03:00",
     "start_time": "2018-09-22T19:08:59.089Z"
    }
   },
   "outputs": [
    {
     "data": {
      "text/plain": [
       "15-element Array{Float64,1}:\n",
       " 1.5     \n",
       " 1.5     \n",
       " 1.5     \n",
       " 1.39474 \n",
       " 1.23684 \n",
       " 1.5     \n",
       " 1.5     \n",
       " 1.5     \n",
       " 0.921053\n",
       " 0.868421\n",
       " 0.868421\n",
       " 0.868421\n",
       " 0.868421\n",
       " 0.868421\n",
       " 0.868421"
      ]
     },
     "execution_count": 53,
     "metadata": {},
     "output_type": "execute_result"
    }
   ],
   "source": [
    "policy"
   ]
  },
  {
   "cell_type": "markdown",
   "metadata": {},
   "source": [
    "## Plotting of results"
   ]
  },
  {
   "cell_type": "code",
   "execution_count": 61,
   "metadata": {
    "ExecuteTime": {
     "end_time": "2018-09-22T19:18:17.901000-03:00",
     "start_time": "2018-09-22T22:18:17.846Z"
    }
   },
   "outputs": [
    {
     "data": {
      "image/svg+xml": [
       "<?xml version=\"1.0\" encoding=\"utf-8\"?>\n",
       "<svg xmlns=\"http://www.w3.org/2000/svg\" xmlns:xlink=\"http://www.w3.org/1999/xlink\" width=\"450\" height=\"300\" viewBox=\"0 0 1800 1200\">\n",
       "<defs>\n",
       "  <clipPath id=\"clip8200\">\n",
       "    <rect x=\"0\" y=\"0\" width=\"2000\" height=\"2000\"/>\n",
       "  </clipPath>\n",
       "</defs>\n",
       "<defs>\n",
       "  <clipPath id=\"clip8201\">\n",
       "    <rect x=\"0\" y=\"0\" width=\"1800\" height=\"1200\"/>\n",
       "  </clipPath>\n",
       "</defs>\n",
       "<polygon clip-path=\"url(#clip8201)\" points=\"\n",
       "0,1200 1800,1200 1800,0 0,0 \n",
       "  \" fill=\"#ffffff\" fill-opacity=\"1\"/>\n",
       "<defs>\n",
       "  <clipPath id=\"clip8202\">\n",
       "    <rect x=\"360\" y=\"0\" width=\"1261\" height=\"1200\"/>\n",
       "  </clipPath>\n",
       "</defs>\n",
       "<polygon clip-path=\"url(#clip8201)\" points=\"\n",
       "47.0391,1173.77 1780.31,1173.77 1780.31,11.811 47.0391,11.811 \n",
       "  \" fill=\"#ffffff\" fill-opacity=\"1\"/>\n",
       "<defs>\n",
       "  <clipPath id=\"clip8203\">\n",
       "    <rect x=\"47\" y=\"11\" width=\"1734\" height=\"1163\"/>\n",
       "  </clipPath>\n",
       "</defs>\n",
       "<polyline clip-path=\"url(#clip8203)\" style=\"stroke:#000000; stroke-width:0.5; stroke-opacity:0.1; fill:none\" points=\"\n",
       "  96.0941,1173.77 96.0941,11.811 \n",
       "  \"/>\n",
       "<polyline clip-path=\"url(#clip8203)\" style=\"stroke:#000000; stroke-width:0.5; stroke-opacity:0.1; fill:none\" points=\"\n",
       "  504.886,1173.77 504.886,11.811 \n",
       "  \"/>\n",
       "<polyline clip-path=\"url(#clip8203)\" style=\"stroke:#000000; stroke-width:0.5; stroke-opacity:0.1; fill:none\" points=\"\n",
       "  913.677,1173.77 913.677,11.811 \n",
       "  \"/>\n",
       "<polyline clip-path=\"url(#clip8203)\" style=\"stroke:#000000; stroke-width:0.5; stroke-opacity:0.1; fill:none\" points=\"\n",
       "  1322.47,1173.77 1322.47,11.811 \n",
       "  \"/>\n",
       "<polyline clip-path=\"url(#clip8203)\" style=\"stroke:#000000; stroke-width:0.5; stroke-opacity:0.1; fill:none\" points=\"\n",
       "  1731.26,1173.77 1731.26,11.811 \n",
       "  \"/>\n",
       "<polyline clip-path=\"url(#clip8203)\" style=\"stroke:#000000; stroke-width:0.5; stroke-opacity:0.1; fill:none\" points=\"\n",
       "  47.0391,1132.62 1780.31,1132.62 \n",
       "  \"/>\n",
       "<polyline clip-path=\"url(#clip8203)\" style=\"stroke:#000000; stroke-width:0.5; stroke-opacity:0.1; fill:none\" points=\"\n",
       "  47.0391,878.984 1780.31,878.984 \n",
       "  \"/>\n",
       "<polyline clip-path=\"url(#clip8203)\" style=\"stroke:#000000; stroke-width:0.5; stroke-opacity:0.1; fill:none\" points=\"\n",
       "  47.0391,625.345 1780.31,625.345 \n",
       "  \"/>\n",
       "<polyline clip-path=\"url(#clip8203)\" style=\"stroke:#000000; stroke-width:0.5; stroke-opacity:0.1; fill:none\" points=\"\n",
       "  47.0391,371.706 1780.31,371.706 \n",
       "  \"/>\n",
       "<polyline clip-path=\"url(#clip8203)\" style=\"stroke:#000000; stroke-width:0.5; stroke-opacity:0.1; fill:none\" points=\"\n",
       "  47.0391,118.067 1780.31,118.067 \n",
       "  \"/>\n",
       "<polyline clip-path=\"url(#clip8201)\" style=\"stroke:#000000; stroke-width:1; stroke-opacity:1; fill:none\" points=\"\n",
       "  47.0391,1173.77 1780.31,1173.77 \n",
       "  \"/>\n",
       "<polyline clip-path=\"url(#clip8201)\" style=\"stroke:#000000; stroke-width:1; stroke-opacity:1; fill:none\" points=\"\n",
       "  47.0391,1173.77 47.0391,11.811 \n",
       "  \"/>\n",
       "<polyline clip-path=\"url(#clip8201)\" style=\"stroke:#000000; stroke-width:1; stroke-opacity:1; fill:none\" points=\"\n",
       "  96.0941,1173.77 96.0941,1156.34 \n",
       "  \"/>\n",
       "<polyline clip-path=\"url(#clip8201)\" style=\"stroke:#000000; stroke-width:1; stroke-opacity:1; fill:none\" points=\"\n",
       "  504.886,1173.77 504.886,1156.34 \n",
       "  \"/>\n",
       "<polyline clip-path=\"url(#clip8201)\" style=\"stroke:#000000; stroke-width:1; stroke-opacity:1; fill:none\" points=\"\n",
       "  913.677,1173.77 913.677,1156.34 \n",
       "  \"/>\n",
       "<polyline clip-path=\"url(#clip8201)\" style=\"stroke:#000000; stroke-width:1; stroke-opacity:1; fill:none\" points=\"\n",
       "  1322.47,1173.77 1322.47,1156.34 \n",
       "  \"/>\n",
       "<polyline clip-path=\"url(#clip8201)\" style=\"stroke:#000000; stroke-width:1; stroke-opacity:1; fill:none\" points=\"\n",
       "  1731.26,1173.77 1731.26,1156.34 \n",
       "  \"/>\n",
       "<polyline clip-path=\"url(#clip8201)\" style=\"stroke:#000000; stroke-width:1; stroke-opacity:1; fill:none\" points=\"\n",
       "  47.0391,1132.62 73.0382,1132.62 \n",
       "  \"/>\n",
       "<polyline clip-path=\"url(#clip8201)\" style=\"stroke:#000000; stroke-width:1; stroke-opacity:1; fill:none\" points=\"\n",
       "  47.0391,878.984 73.0382,878.984 \n",
       "  \"/>\n",
       "<polyline clip-path=\"url(#clip8201)\" style=\"stroke:#000000; stroke-width:1; stroke-opacity:1; fill:none\" points=\"\n",
       "  47.0391,625.345 73.0382,625.345 \n",
       "  \"/>\n",
       "<polyline clip-path=\"url(#clip8201)\" style=\"stroke:#000000; stroke-width:1; stroke-opacity:1; fill:none\" points=\"\n",
       "  47.0391,371.706 73.0382,371.706 \n",
       "  \"/>\n",
       "<polyline clip-path=\"url(#clip8201)\" style=\"stroke:#000000; stroke-width:1; stroke-opacity:1; fill:none\" points=\"\n",
       "  47.0391,118.067 73.0382,118.067 \n",
       "  \"/>\n",
       "<g clip-path=\"url(#clip8201)\">\n",
       "<text style=\"fill:#000000; fill-opacity:1; font-family:Arial,Helvetica Neue,Helvetica,sans-serif; font-size:12; text-anchor:middle;\" transform=\"rotate(0, 96.0941, 1193.57)\" x=\"96.0941\" y=\"1193.57\">0.00</text>\n",
       "</g>\n",
       "<g clip-path=\"url(#clip8201)\">\n",
       "<text style=\"fill:#000000; fill-opacity:1; font-family:Arial,Helvetica Neue,Helvetica,sans-serif; font-size:12; text-anchor:middle;\" transform=\"rotate(0, 504.886, 1193.57)\" x=\"504.886\" y=\"1193.57\">0.25</text>\n",
       "</g>\n",
       "<g clip-path=\"url(#clip8201)\">\n",
       "<text style=\"fill:#000000; fill-opacity:1; font-family:Arial,Helvetica Neue,Helvetica,sans-serif; font-size:12; text-anchor:middle;\" transform=\"rotate(0, 913.677, 1193.57)\" x=\"913.677\" y=\"1193.57\">0.50</text>\n",
       "</g>\n",
       "<g clip-path=\"url(#clip8201)\">\n",
       "<text style=\"fill:#000000; fill-opacity:1; font-family:Arial,Helvetica Neue,Helvetica,sans-serif; font-size:12; text-anchor:middle;\" transform=\"rotate(0, 1322.47, 1193.57)\" x=\"1322.47\" y=\"1193.57\">0.75</text>\n",
       "</g>\n",
       "<g clip-path=\"url(#clip8201)\">\n",
       "<text style=\"fill:#000000; fill-opacity:1; font-family:Arial,Helvetica Neue,Helvetica,sans-serif; font-size:12; text-anchor:middle;\" transform=\"rotate(0, 1731.26, 1193.57)\" x=\"1731.26\" y=\"1193.57\">1.00</text>\n",
       "</g>\n",
       "<g clip-path=\"url(#clip8201)\">\n",
       "<text style=\"fill:#000000; fill-opacity:1; font-family:Arial,Helvetica Neue,Helvetica,sans-serif; font-size:12; text-anchor:end;\" transform=\"rotate(0, 29.0391, 1137.12)\" x=\"29.0391\" y=\"1137.12\">15.0</text>\n",
       "</g>\n",
       "<g clip-path=\"url(#clip8201)\">\n",
       "<text style=\"fill:#000000; fill-opacity:1; font-family:Arial,Helvetica Neue,Helvetica,sans-serif; font-size:12; text-anchor:end;\" transform=\"rotate(0, 29.0391, 883.484)\" x=\"29.0391\" y=\"883.484\">15.5</text>\n",
       "</g>\n",
       "<g clip-path=\"url(#clip8201)\">\n",
       "<text style=\"fill:#000000; fill-opacity:1; font-family:Arial,Helvetica Neue,Helvetica,sans-serif; font-size:12; text-anchor:end;\" transform=\"rotate(0, 29.0391, 629.845)\" x=\"29.0391\" y=\"629.845\">16.0</text>\n",
       "</g>\n",
       "<g clip-path=\"url(#clip8201)\">\n",
       "<text style=\"fill:#000000; fill-opacity:1; font-family:Arial,Helvetica Neue,Helvetica,sans-serif; font-size:12; text-anchor:end;\" transform=\"rotate(0, 29.0391, 376.206)\" x=\"29.0391\" y=\"376.206\">16.5</text>\n",
       "</g>\n",
       "<g clip-path=\"url(#clip8201)\">\n",
       "<text style=\"fill:#000000; fill-opacity:1; font-family:Arial,Helvetica Neue,Helvetica,sans-serif; font-size:12; text-anchor:end;\" transform=\"rotate(0, 29.0391, 122.567)\" x=\"29.0391\" y=\"122.567\">17.0</text>\n",
       "</g>\n",
       "<polyline clip-path=\"url(#clip8203)\" style=\"stroke:#009af9; stroke-width:1; stroke-opacity:1; fill:none\" points=\"\n",
       "  96.0941,44.6967 259.611,309.062 423.127,573.428 586.644,806.014 750.16,1006.82 913.677,1088.02 1077.19,1077.29 1240.71,1096.69 1404.23,1108.15 1567.74,1140.89 \n",
       "  1731.26,1114.28 \n",
       "  \"/>\n",
       "<polygon clip-path=\"url(#clip8201)\" points=\"\n",
       "1533.61,134.931 1726.31,134.931 1726.31,104.691 1533.61,104.691 \n",
       "  \" fill=\"#ffffff\" fill-opacity=\"1\"/>\n",
       "<polyline clip-path=\"url(#clip8201)\" style=\"stroke:#000000; stroke-width:1; stroke-opacity:1; fill:none\" points=\"\n",
       "  1533.61,134.931 1726.31,134.931 1726.31,104.691 1533.61,104.691 1533.61,134.931 \n",
       "  \"/>\n",
       "<polyline clip-path=\"url(#clip8201)\" style=\"stroke:#009af9; stroke-width:1; stroke-opacity:1; fill:none\" points=\"\n",
       "  1551.61,119.811 1659.61,119.811 \n",
       "  \"/>\n",
       "<g clip-path=\"url(#clip8201)\">\n",
       "<text style=\"fill:#000000; fill-opacity:1; font-family:Arial,Helvetica Neue,Helvetica,sans-serif; font-size:12; text-anchor:start;\" transform=\"rotate(0, 1677.61, 124.311)\" x=\"1677.61\" y=\"124.311\">y1</text>\n",
       "</g>\n",
       "</svg>\n"
      ]
     },
     "execution_count": 61,
     "metadata": {},
     "output_type": "execute_result"
    }
   ],
   "source": [
    "lambdas_selected = [[0.0, 0.5, 0.5],\n",
    "                    [0.1, 0.5, 0.4],\n",
    "                    [0.2, 0.5, 0.3],\n",
    "                    [0.3, 0.5, 0.2],\n",
    "                    [0.4, 0.5, 0.1],\n",
    "                    [0.5, 0.4, 0.1],\n",
    "                    [0.6, 0.3, 0.1],\n",
    "                    [0.7, 0.2, 0.1],\n",
    "                    [0.8, 0.1, 0.1],\n",
    "                    [0.9, 0.1, 0.0],\n",
    "                    [1.0, 0.0, 0.0]]\n",
    "\n",
    "valuef_values = V.(lambdas_selected)\n",
    "plot(0:0.1:1, valuef_values, size=(1800, 1200))"
   ]
  },
  {
   "cell_type": "code",
   "execution_count": 60,
   "metadata": {
    "ExecuteTime": {
     "end_time": "2018-09-22T16:34:09.319000-03:00",
     "start_time": "2018-09-22T19:34:09.293Z"
    }
   },
   "outputs": [
    {
     "data": {
      "image/svg+xml": [
       "<?xml version=\"1.0\" encoding=\"utf-8\"?>\n",
       "<svg xmlns=\"http://www.w3.org/2000/svg\" xmlns:xlink=\"http://www.w3.org/1999/xlink\" width=\"300\" height=\"250\" viewBox=\"0 0 1200 1000\">\n",
       "<defs>\n",
       "  <clipPath id=\"clip8000\">\n",
       "    <rect x=\"0\" y=\"0\" width=\"2000\" height=\"2000\"/>\n",
       "  </clipPath>\n",
       "</defs>\n",
       "<defs>\n",
       "  <clipPath id=\"clip8001\">\n",
       "    <rect x=\"0\" y=\"0\" width=\"1200\" height=\"1000\"/>\n",
       "  </clipPath>\n",
       "</defs>\n",
       "<polygon clip-path=\"url(#clip8001)\" points=\"\n",
       "0,1000 1200,1000 1200,0 0,0 \n",
       "  \" fill=\"#ffffff\" fill-opacity=\"1\"/>\n",
       "<defs>\n",
       "  <clipPath id=\"clip8002\">\n",
       "    <rect x=\"240\" y=\"0\" width=\"841\" height=\"841\"/>\n",
       "  </clipPath>\n",
       "</defs>\n",
       "<polygon clip-path=\"url(#clip8001)\" points=\"\n",
       "37.0032,973.773 1180.31,973.773 1180.31,11.811 37.0032,11.811 \n",
       "  \" fill=\"#ffffff\" fill-opacity=\"1\"/>\n",
       "<defs>\n",
       "  <clipPath id=\"clip8003\">\n",
       "    <rect x=\"37\" y=\"11\" width=\"1144\" height=\"963\"/>\n",
       "  </clipPath>\n",
       "</defs>\n",
       "<polyline clip-path=\"url(#clip8003)\" style=\"stroke:#000000; stroke-width:0.5; stroke-opacity:0.1; fill:none\" points=\"\n",
       "  69.3611,973.773 69.3611,11.811 \n",
       "  \"/>\n",
       "<polyline clip-path=\"url(#clip8003)\" style=\"stroke:#000000; stroke-width:0.5; stroke-opacity:0.1; fill:none\" points=\"\n",
       "  339.01,973.773 339.01,11.811 \n",
       "  \"/>\n",
       "<polyline clip-path=\"url(#clip8003)\" style=\"stroke:#000000; stroke-width:0.5; stroke-opacity:0.1; fill:none\" points=\"\n",
       "  608.659,973.773 608.659,11.811 \n",
       "  \"/>\n",
       "<polyline clip-path=\"url(#clip8003)\" style=\"stroke:#000000; stroke-width:0.5; stroke-opacity:0.1; fill:none\" points=\"\n",
       "  878.308,973.773 878.308,11.811 \n",
       "  \"/>\n",
       "<polyline clip-path=\"url(#clip8003)\" style=\"stroke:#000000; stroke-width:0.5; stroke-opacity:0.1; fill:none\" points=\"\n",
       "  1147.96,973.773 1147.96,11.811 \n",
       "  \"/>\n",
       "<polyline clip-path=\"url(#clip8003)\" style=\"stroke:#000000; stroke-width:0.5; stroke-opacity:0.1; fill:none\" points=\"\n",
       "  37.0032,928.934 1180.31,928.934 \n",
       "  \"/>\n",
       "<polyline clip-path=\"url(#clip8003)\" style=\"stroke:#000000; stroke-width:0.5; stroke-opacity:0.1; fill:none\" points=\"\n",
       "  37.0032,672.728 1180.31,672.728 \n",
       "  \"/>\n",
       "<polyline clip-path=\"url(#clip8003)\" style=\"stroke:#000000; stroke-width:0.5; stroke-opacity:0.1; fill:none\" points=\"\n",
       "  37.0032,416.522 1180.31,416.522 \n",
       "  \"/>\n",
       "<polyline clip-path=\"url(#clip8003)\" style=\"stroke:#000000; stroke-width:0.5; stroke-opacity:0.1; fill:none\" points=\"\n",
       "  37.0032,160.316 1180.31,160.316 \n",
       "  \"/>\n",
       "<polyline clip-path=\"url(#clip8001)\" style=\"stroke:#000000; stroke-width:1; stroke-opacity:1; fill:none\" points=\"\n",
       "  37.0032,973.773 1180.31,973.773 \n",
       "  \"/>\n",
       "<polyline clip-path=\"url(#clip8001)\" style=\"stroke:#000000; stroke-width:1; stroke-opacity:1; fill:none\" points=\"\n",
       "  37.0032,973.773 37.0032,11.811 \n",
       "  \"/>\n",
       "<polyline clip-path=\"url(#clip8001)\" style=\"stroke:#000000; stroke-width:1; stroke-opacity:1; fill:none\" points=\"\n",
       "  69.3611,973.773 69.3611,959.343 \n",
       "  \"/>\n",
       "<polyline clip-path=\"url(#clip8001)\" style=\"stroke:#000000; stroke-width:1; stroke-opacity:1; fill:none\" points=\"\n",
       "  339.01,973.773 339.01,959.343 \n",
       "  \"/>\n",
       "<polyline clip-path=\"url(#clip8001)\" style=\"stroke:#000000; stroke-width:1; stroke-opacity:1; fill:none\" points=\"\n",
       "  608.659,973.773 608.659,959.343 \n",
       "  \"/>\n",
       "<polyline clip-path=\"url(#clip8001)\" style=\"stroke:#000000; stroke-width:1; stroke-opacity:1; fill:none\" points=\"\n",
       "  878.308,973.773 878.308,959.343 \n",
       "  \"/>\n",
       "<polyline clip-path=\"url(#clip8001)\" style=\"stroke:#000000; stroke-width:1; stroke-opacity:1; fill:none\" points=\"\n",
       "  1147.96,973.773 1147.96,959.343 \n",
       "  \"/>\n",
       "<polyline clip-path=\"url(#clip8001)\" style=\"stroke:#000000; stroke-width:1; stroke-opacity:1; fill:none\" points=\"\n",
       "  37.0032,928.934 54.1529,928.934 \n",
       "  \"/>\n",
       "<polyline clip-path=\"url(#clip8001)\" style=\"stroke:#000000; stroke-width:1; stroke-opacity:1; fill:none\" points=\"\n",
       "  37.0032,672.728 54.1529,672.728 \n",
       "  \"/>\n",
       "<polyline clip-path=\"url(#clip8001)\" style=\"stroke:#000000; stroke-width:1; stroke-opacity:1; fill:none\" points=\"\n",
       "  37.0032,416.522 54.1529,416.522 \n",
       "  \"/>\n",
       "<polyline clip-path=\"url(#clip8001)\" style=\"stroke:#000000; stroke-width:1; stroke-opacity:1; fill:none\" points=\"\n",
       "  37.0032,160.316 54.1529,160.316 \n",
       "  \"/>\n",
       "<g clip-path=\"url(#clip8001)\">\n",
       "<text style=\"fill:#000000; fill-opacity:1; font-family:Arial,Helvetica Neue,Helvetica,sans-serif; font-size:12; text-anchor:middle;\" transform=\"rotate(0, 69.3611, 990.573)\" x=\"69.3611\" y=\"990.573\">0.00</text>\n",
       "</g>\n",
       "<g clip-path=\"url(#clip8001)\">\n",
       "<text style=\"fill:#000000; fill-opacity:1; font-family:Arial,Helvetica Neue,Helvetica,sans-serif; font-size:12; text-anchor:middle;\" transform=\"rotate(0, 339.01, 990.573)\" x=\"339.01\" y=\"990.573\">0.25</text>\n",
       "</g>\n",
       "<g clip-path=\"url(#clip8001)\">\n",
       "<text style=\"fill:#000000; fill-opacity:1; font-family:Arial,Helvetica Neue,Helvetica,sans-serif; font-size:12; text-anchor:middle;\" transform=\"rotate(0, 608.659, 990.573)\" x=\"608.659\" y=\"990.573\">0.50</text>\n",
       "</g>\n",
       "<g clip-path=\"url(#clip8001)\">\n",
       "<text style=\"fill:#000000; fill-opacity:1; font-family:Arial,Helvetica Neue,Helvetica,sans-serif; font-size:12; text-anchor:middle;\" transform=\"rotate(0, 878.308, 990.573)\" x=\"878.308\" y=\"990.573\">0.75</text>\n",
       "</g>\n",
       "<g clip-path=\"url(#clip8001)\">\n",
       "<text style=\"fill:#000000; fill-opacity:1; font-family:Arial,Helvetica Neue,Helvetica,sans-serif; font-size:12; text-anchor:middle;\" transform=\"rotate(0, 1147.96, 990.573)\" x=\"1147.96\" y=\"990.573\">1.00</text>\n",
       "</g>\n",
       "<g clip-path=\"url(#clip8001)\">\n",
       "<text style=\"fill:#000000; fill-opacity:1; font-family:Arial,Helvetica Neue,Helvetica,sans-serif; font-size:12; text-anchor:end;\" transform=\"rotate(0, 25.0032, 933.434)\" x=\"25.0032\" y=\"933.434\">15</text>\n",
       "</g>\n",
       "<g clip-path=\"url(#clip8001)\">\n",
       "<text style=\"fill:#000000; fill-opacity:1; font-family:Arial,Helvetica Neue,Helvetica,sans-serif; font-size:12; text-anchor:end;\" transform=\"rotate(0, 25.0032, 677.228)\" x=\"25.0032\" y=\"677.228\">16</text>\n",
       "</g>\n",
       "<g clip-path=\"url(#clip8001)\">\n",
       "<text style=\"fill:#000000; fill-opacity:1; font-family:Arial,Helvetica Neue,Helvetica,sans-serif; font-size:12; text-anchor:end;\" transform=\"rotate(0, 25.0032, 421.022)\" x=\"25.0032\" y=\"421.022\">17</text>\n",
       "</g>\n",
       "<g clip-path=\"url(#clip8001)\">\n",
       "<text style=\"fill:#000000; fill-opacity:1; font-family:Arial,Helvetica Neue,Helvetica,sans-serif; font-size:12; text-anchor:end;\" transform=\"rotate(0, 25.0032, 164.816)\" x=\"25.0032\" y=\"164.816\">18</text>\n",
       "</g>\n",
       "<polyline clip-path=\"url(#clip8003)\" style=\"stroke:#009af9; stroke-width:1; stroke-opacity:1; fill:none\" points=\"\n",
       "  69.3611,919.669 177.221,933.108 285.08,946.548 392.94,880.812 500.799,855.798 608.659,692.296 716.519,651.782 824.378,443.896 932.238,398.077 1040.1,176.316 \n",
       "  1147.96,39.0364 \n",
       "  \"/>\n",
       "<polygon clip-path=\"url(#clip8001)\" points=\"\n",
       "1011.61,98.931 1144.31,98.931 1144.31,68.691 1011.61,68.691 \n",
       "  \" fill=\"#ffffff\" fill-opacity=\"1\"/>\n",
       "<polyline clip-path=\"url(#clip8001)\" style=\"stroke:#000000; stroke-width:1; stroke-opacity:1; fill:none\" points=\"\n",
       "  1011.61,98.931 1144.31,98.931 1144.31,68.691 1011.61,68.691 1011.61,98.931 \n",
       "  \"/>\n",
       "<polyline clip-path=\"url(#clip8001)\" style=\"stroke:#009af9; stroke-width:1; stroke-opacity:1; fill:none\" points=\"\n",
       "  1023.61,83.811 1095.61,83.811 \n",
       "  \"/>\n",
       "<g clip-path=\"url(#clip8001)\">\n",
       "<text style=\"fill:#000000; fill-opacity:1; font-family:Arial,Helvetica Neue,Helvetica,sans-serif; font-size:12; text-anchor:start;\" transform=\"rotate(0, 1107.61, 88.311)\" x=\"1107.61\" y=\"88.311\">y1</text>\n",
       "</g>\n",
       "</svg>\n"
      ]
     },
     "execution_count": 60,
     "metadata": {},
     "output_type": "execute_result"
    }
   ],
   "source": [
    "lambdas_selected = [[1.0, 0., 0.],\n",
    "                    [0.9, 0.1, 0.],\n",
    "                    [0.8, 0.2, 0.],\n",
    "                    [0.7, 0.1, 0.1],\n",
    "                    [0.6, 0.2, 0.2],\n",
    "                    [0.5, 0.1, 0.4],\n",
    "                    [0.4, 0.2, 0.4],\n",
    "                    [0.3, 0.1, 0.6],\n",
    "                    [0.2, 0.2, 0.6],\n",
    "                    [0.1, 0.1, 0.8],\n",
    "                    [0., 0.1, 0.9]]\n",
    "\n",
    "valuef_values = V.(lambdas_selected)\n",
    "plot(0:0.1:1, valuef_values, size=(1200, 1000))"
   ]
  },
  {
   "cell_type": "code",
   "execution_count": 56,
   "metadata": {
    "ExecuteTime": {
     "end_time": "2018-09-22T16:24:39.898000-03:00",
     "start_time": "2018-09-22T19:24:39.831Z"
    }
   },
   "outputs": [
    {
     "data": {
      "image/svg+xml": [
       "<?xml version=\"1.0\" encoding=\"utf-8\"?>\n",
       "<svg xmlns=\"http://www.w3.org/2000/svg\" xmlns:xlink=\"http://www.w3.org/1999/xlink\" width=\"150\" height=\"100\" viewBox=\"0 0 600 400\">\n",
       "<defs>\n",
       "  <clipPath id=\"clip7600\">\n",
       "    <rect x=\"0\" y=\"0\" width=\"2000\" height=\"2000\"/>\n",
       "  </clipPath>\n",
       "</defs>\n",
       "<defs>\n",
       "  <clipPath id=\"clip7601\">\n",
       "    <rect x=\"0\" y=\"0\" width=\"600\" height=\"400\"/>\n",
       "  </clipPath>\n",
       "</defs>\n",
       "<polygon clip-path=\"url(#clip7601)\" points=\"\n",
       "0,400 600,400 600,0 0,0 \n",
       "  \" fill=\"#ffffff\" fill-opacity=\"1\"/>\n",
       "<defs>\n",
       "  <clipPath id=\"clip7602\">\n",
       "    <rect x=\"120\" y=\"0\" width=\"421\" height=\"400\"/>\n",
       "  </clipPath>\n",
       "</defs>\n",
       "<polygon clip-path=\"url(#clip7601)\" points=\"\n",
       "40.3485,373.773 580.315,373.773 580.315,11.811 40.3485,11.811 \n",
       "  \" fill=\"#ffffff\" fill-opacity=\"1\"/>\n",
       "<defs>\n",
       "  <clipPath id=\"clip7603\">\n",
       "    <rect x=\"40\" y=\"11\" width=\"541\" height=\"363\"/>\n",
       "  </clipPath>\n",
       "</defs>\n",
       "<polyline clip-path=\"url(#clip7603)\" style=\"stroke:#000000; stroke-width:0.5; stroke-opacity:0.1; fill:none\" points=\"\n",
       "  55.6306,373.773 55.6306,11.811 \n",
       "  \"/>\n",
       "<polyline clip-path=\"url(#clip7603)\" style=\"stroke:#000000; stroke-width:0.5; stroke-opacity:0.1; fill:none\" points=\"\n",
       "  182.981,373.773 182.981,11.811 \n",
       "  \"/>\n",
       "<polyline clip-path=\"url(#clip7603)\" style=\"stroke:#000000; stroke-width:0.5; stroke-opacity:0.1; fill:none\" points=\"\n",
       "  310.332,373.773 310.332,11.811 \n",
       "  \"/>\n",
       "<polyline clip-path=\"url(#clip7603)\" style=\"stroke:#000000; stroke-width:0.5; stroke-opacity:0.1; fill:none\" points=\"\n",
       "  437.682,373.773 437.682,11.811 \n",
       "  \"/>\n",
       "<polyline clip-path=\"url(#clip7603)\" style=\"stroke:#000000; stroke-width:0.5; stroke-opacity:0.1; fill:none\" points=\"\n",
       "  565.033,373.773 565.033,11.811 \n",
       "  \"/>\n",
       "<polyline clip-path=\"url(#clip7603)\" style=\"stroke:#000000; stroke-width:0.5; stroke-opacity:0.1; fill:none\" points=\"\n",
       "  40.3485,350.128 580.315,350.128 \n",
       "  \"/>\n",
       "<polyline clip-path=\"url(#clip7603)\" style=\"stroke:#000000; stroke-width:0.5; stroke-opacity:0.1; fill:none\" points=\"\n",
       "  40.3485,276.697 580.315,276.697 \n",
       "  \"/>\n",
       "<polyline clip-path=\"url(#clip7603)\" style=\"stroke:#000000; stroke-width:0.5; stroke-opacity:0.1; fill:none\" points=\"\n",
       "  40.3485,203.265 580.315,203.265 \n",
       "  \"/>\n",
       "<polyline clip-path=\"url(#clip7603)\" style=\"stroke:#000000; stroke-width:0.5; stroke-opacity:0.1; fill:none\" points=\"\n",
       "  40.3485,129.834 580.315,129.834 \n",
       "  \"/>\n",
       "<polyline clip-path=\"url(#clip7603)\" style=\"stroke:#000000; stroke-width:0.5; stroke-opacity:0.1; fill:none\" points=\"\n",
       "  40.3485,56.4028 580.315,56.4028 \n",
       "  \"/>\n",
       "<polyline clip-path=\"url(#clip7601)\" style=\"stroke:#000000; stroke-width:1; stroke-opacity:1; fill:none\" points=\"\n",
       "  40.3485,373.773 580.315,373.773 \n",
       "  \"/>\n",
       "<polyline clip-path=\"url(#clip7601)\" style=\"stroke:#000000; stroke-width:1; stroke-opacity:1; fill:none\" points=\"\n",
       "  40.3485,373.773 40.3485,11.811 \n",
       "  \"/>\n",
       "<polyline clip-path=\"url(#clip7601)\" style=\"stroke:#000000; stroke-width:1; stroke-opacity:1; fill:none\" points=\"\n",
       "  55.6306,373.773 55.6306,368.343 \n",
       "  \"/>\n",
       "<polyline clip-path=\"url(#clip7601)\" style=\"stroke:#000000; stroke-width:1; stroke-opacity:1; fill:none\" points=\"\n",
       "  182.981,373.773 182.981,368.343 \n",
       "  \"/>\n",
       "<polyline clip-path=\"url(#clip7601)\" style=\"stroke:#000000; stroke-width:1; stroke-opacity:1; fill:none\" points=\"\n",
       "  310.332,373.773 310.332,368.343 \n",
       "  \"/>\n",
       "<polyline clip-path=\"url(#clip7601)\" style=\"stroke:#000000; stroke-width:1; stroke-opacity:1; fill:none\" points=\"\n",
       "  437.682,373.773 437.682,368.343 \n",
       "  \"/>\n",
       "<polyline clip-path=\"url(#clip7601)\" style=\"stroke:#000000; stroke-width:1; stroke-opacity:1; fill:none\" points=\"\n",
       "  565.033,373.773 565.033,368.343 \n",
       "  \"/>\n",
       "<polyline clip-path=\"url(#clip7601)\" style=\"stroke:#000000; stroke-width:1; stroke-opacity:1; fill:none\" points=\"\n",
       "  40.3485,350.128 48.448,350.128 \n",
       "  \"/>\n",
       "<polyline clip-path=\"url(#clip7601)\" style=\"stroke:#000000; stroke-width:1; stroke-opacity:1; fill:none\" points=\"\n",
       "  40.3485,276.697 48.448,276.697 \n",
       "  \"/>\n",
       "<polyline clip-path=\"url(#clip7601)\" style=\"stroke:#000000; stroke-width:1; stroke-opacity:1; fill:none\" points=\"\n",
       "  40.3485,203.265 48.448,203.265 \n",
       "  \"/>\n",
       "<polyline clip-path=\"url(#clip7601)\" style=\"stroke:#000000; stroke-width:1; stroke-opacity:1; fill:none\" points=\"\n",
       "  40.3485,129.834 48.448,129.834 \n",
       "  \"/>\n",
       "<polyline clip-path=\"url(#clip7601)\" style=\"stroke:#000000; stroke-width:1; stroke-opacity:1; fill:none\" points=\"\n",
       "  40.3485,56.4028 48.448,56.4028 \n",
       "  \"/>\n",
       "<g clip-path=\"url(#clip7601)\">\n",
       "<text style=\"fill:#000000; fill-opacity:1; font-family:Arial,Helvetica Neue,Helvetica,sans-serif; font-size:12; text-anchor:middle;\" transform=\"rotate(0, 55.6306, 387.573)\" x=\"55.6306\" y=\"387.573\">0.00</text>\n",
       "</g>\n",
       "<g clip-path=\"url(#clip7601)\">\n",
       "<text style=\"fill:#000000; fill-opacity:1; font-family:Arial,Helvetica Neue,Helvetica,sans-serif; font-size:12; text-anchor:middle;\" transform=\"rotate(0, 182.981, 387.573)\" x=\"182.981\" y=\"387.573\">0.25</text>\n",
       "</g>\n",
       "<g clip-path=\"url(#clip7601)\">\n",
       "<text style=\"fill:#000000; fill-opacity:1; font-family:Arial,Helvetica Neue,Helvetica,sans-serif; font-size:12; text-anchor:middle;\" transform=\"rotate(0, 310.332, 387.573)\" x=\"310.332\" y=\"387.573\">0.50</text>\n",
       "</g>\n",
       "<g clip-path=\"url(#clip7601)\">\n",
       "<text style=\"fill:#000000; fill-opacity:1; font-family:Arial,Helvetica Neue,Helvetica,sans-serif; font-size:12; text-anchor:middle;\" transform=\"rotate(0, 437.682, 387.573)\" x=\"437.682\" y=\"387.573\">0.75</text>\n",
       "</g>\n",
       "<g clip-path=\"url(#clip7601)\">\n",
       "<text style=\"fill:#000000; fill-opacity:1; font-family:Arial,Helvetica Neue,Helvetica,sans-serif; font-size:12; text-anchor:middle;\" transform=\"rotate(0, 565.033, 387.573)\" x=\"565.033\" y=\"387.573\">1.00</text>\n",
       "</g>\n",
       "<g clip-path=\"url(#clip7601)\">\n",
       "<text style=\"fill:#000000; fill-opacity:1; font-family:Arial,Helvetica Neue,Helvetica,sans-serif; font-size:12; text-anchor:end;\" transform=\"rotate(0, 34.3485, 354.628)\" x=\"34.3485\" y=\"354.628\">1.4</text>\n",
       "</g>\n",
       "<g clip-path=\"url(#clip7601)\">\n",
       "<text style=\"fill:#000000; fill-opacity:1; font-family:Arial,Helvetica Neue,Helvetica,sans-serif; font-size:12; text-anchor:end;\" transform=\"rotate(0, 34.3485, 281.197)\" x=\"34.3485\" y=\"281.197\">1.6</text>\n",
       "</g>\n",
       "<g clip-path=\"url(#clip7601)\">\n",
       "<text style=\"fill:#000000; fill-opacity:1; font-family:Arial,Helvetica Neue,Helvetica,sans-serif; font-size:12; text-anchor:end;\" transform=\"rotate(0, 34.3485, 207.765)\" x=\"34.3485\" y=\"207.765\">1.8</text>\n",
       "</g>\n",
       "<g clip-path=\"url(#clip7601)\">\n",
       "<text style=\"fill:#000000; fill-opacity:1; font-family:Arial,Helvetica Neue,Helvetica,sans-serif; font-size:12; text-anchor:end;\" transform=\"rotate(0, 34.3485, 134.334)\" x=\"34.3485\" y=\"134.334\">2.0</text>\n",
       "</g>\n",
       "<g clip-path=\"url(#clip7601)\">\n",
       "<text style=\"fill:#000000; fill-opacity:1; font-family:Arial,Helvetica Neue,Helvetica,sans-serif; font-size:12; text-anchor:end;\" transform=\"rotate(0, 34.3485, 60.9028)\" x=\"34.3485\" y=\"60.9028\">2.2</text>\n",
       "</g>\n",
       "<polyline clip-path=\"url(#clip7603)\" style=\"stroke:#009af9; stroke-width:1; stroke-opacity:1; fill:none\" points=\"\n",
       "  55.6306,308.791 106.571,354.46 157.511,363.529 208.451,355.857 259.392,332.287 310.332,303.812 361.272,267.548 412.212,223.426 463.152,171.063 514.093,95.263 \n",
       "  565.033,22.0552 \n",
       "  \"/>\n",
       "<polygon clip-path=\"url(#clip7601)\" points=\"\n",
       "489.608,62.931 562.315,62.931 562.315,32.691 489.608,32.691 \n",
       "  \" fill=\"#ffffff\" fill-opacity=\"1\"/>\n",
       "<polyline clip-path=\"url(#clip7601)\" style=\"stroke:#000000; stroke-width:1; stroke-opacity:1; fill:none\" points=\"\n",
       "  489.608,62.931 562.315,62.931 562.315,32.691 489.608,32.691 489.608,62.931 \n",
       "  \"/>\n",
       "<polyline clip-path=\"url(#clip7601)\" style=\"stroke:#009af9; stroke-width:1; stroke-opacity:1; fill:none\" points=\"\n",
       "  495.608,47.811 531.608,47.811 \n",
       "  \"/>\n",
       "<g clip-path=\"url(#clip7601)\">\n",
       "<text style=\"fill:#000000; fill-opacity:1; font-family:Arial,Helvetica Neue,Helvetica,sans-serif; font-size:12; text-anchor:start;\" transform=\"rotate(0, 537.608, 52.311)\" x=\"537.608\" y=\"52.311\">y1</text>\n",
       "</g>\n",
       "</svg>\n"
      ]
     },
     "execution_count": 56,
     "metadata": {},
     "output_type": "execute_result"
    }
   ],
   "source": [
    "# -- original code --\n",
    "#\n",
    "# def optimized_period_profit(lambdas):\n",
    "#     opt_p = myopic_price(lambdas)\n",
    "#     E_β = src.exp_b_from_lambdas(lambdas, const.betas_transition)\n",
    "#     logq = const.α + E_β*np.log(opt_p)\n",
    "#\n",
    "#     return (opt_p-const.c)*np.e**logq\n",
    "\n",
    "function optimized_period_profit(lambdas)\n",
    "    opt_p = myopic_price(lambdas)\n",
    "    E_beta = dot(lambdas, betas_transition)\n",
    "    logq  = alpha + E_beta*log(opt_p)\n",
    "    \n",
    "    return (opt_p-c)*exp(logq)\n",
    "end\n",
    "\n",
    "lambdas_selected_3d = [[0.0, 0.5, 0.5],\n",
    "                        [0.1, 0.5, 0.4],\n",
    "                        [0.2, 0.5, 0.2],\n",
    "                        [0.3, 0.5, 0.2],\n",
    "                        [0.4, 0.5, 0.1],\n",
    "                        [0.5, 0.4, 0.1],\n",
    "                        [0.6, 0.3, 0.1],\n",
    "                        [0.7, 0.2, 0.1],\n",
    "                        [0.8, 0.1, 0.1],\n",
    "                        [0.9, 0.1, 0.0],\n",
    "                        [1.0, 0.0, 0.0]]\n",
    "\n",
    "profit_values = optimized_period_profit.(lambdas_selected_3d)\n",
    "plot(0:0.1:1, profit_values)"
   ]
  },
  {
   "cell_type": "code",
   "execution_count": null,
   "metadata": {},
   "outputs": [],
   "source": []
  }
 ],
 "metadata": {
  "kernelspec": {
   "display_name": "Julia 0.6.4",
   "language": "julia",
   "name": "julia-0.6"
  },
  "language_info": {
   "file_extension": ".jl",
   "mimetype": "application/julia",
   "name": "julia",
   "version": "0.6.4"
  },
  "toc": {
   "nav_menu": {},
   "number_sections": true,
   "sideBar": true,
   "skip_h1_title": false,
   "toc_cell": false,
   "toc_position": {},
   "toc_section_display": "block",
   "toc_window_display": false
  },
  "varInspector": {
   "cols": {
    "lenName": 16,
    "lenType": 16,
    "lenVar": 40
   },
   "kernels_config": {
    "python": {
     "delete_cmd_postfix": "",
     "delete_cmd_prefix": "del ",
     "library": "var_list.py",
     "varRefreshCmd": "print(var_dic_list())"
    },
    "r": {
     "delete_cmd_postfix": ") ",
     "delete_cmd_prefix": "rm(",
     "library": "var_list.r",
     "varRefreshCmd": "cat(var_dic_list()) "
    }
   },
   "types_to_exclude": [
    "module",
    "function",
    "builtin_function_or_method",
    "instance",
    "_Feature"
   ],
   "window_display": false
  }
 },
 "nbformat": 4,
 "nbformat_minor": 2
}
