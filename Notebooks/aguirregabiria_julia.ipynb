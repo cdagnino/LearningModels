{
 "cells": [
  {
   "cell_type": "code",
   "execution_count": 1,
   "metadata": {
    "ExecuteTime": {
     "end_time": "2018-09-22T15:52:19.670000-03:00",
     "start_time": "2018-09-22T18:52:19.350Z"
    }
   },
   "outputs": [
    {
     "data": {
      "text/plain": [
       "compute_fixed_point (generic function with 1 method)"
      ]
     },
     "execution_count": 1,
     "metadata": {},
     "output_type": "execute_result"
    }
   ],
   "source": [
    "using Plots; pyplot()\n",
    "include(\"../julia/aguirregabiria_core.jl\")"
   ]
  },
  {
   "cell_type": "code",
   "execution_count": 2,
   "metadata": {
    "ExecuteTime": {
     "end_time": "2018-09-22T15:52:21.688000-03:00",
     "start_time": "2018-09-22T18:52:21.679Z"
    }
   },
   "outputs": [
    {
     "data": {
      "text/plain": [
       "1.0e-5"
      ]
     },
     "execution_count": 2,
     "metadata": {},
     "output_type": "execute_result"
    }
   ],
   "source": [
    "#=\n",
    "length_of_price_grid = 10\n",
    "min_price, max_price = 0.5, 1.5\n",
    "n_of_lambdas_per_dim = 3\n",
    "max_iters            = 3\n",
    "error_tol            = 1e-5\n",
    "=#\n",
    "\n",
    "length_of_price_grid = 20\n",
    "min_price, max_price = 0.5, 1.5\n",
    "n_of_lambdas_per_dim = 5\n",
    "error_tol            = 1e-5"
   ]
  },
  {
   "cell_type": "code",
   "execution_count": 3,
   "metadata": {
    "ExecuteTime": {
     "end_time": "2018-09-22T15:52:23.479000-03:00",
     "start_time": "2018-09-22T18:52:23.476Z"
    }
   },
   "outputs": [
    {
     "data": {
      "text/plain": [
       "0.5:0.05263157894736842:1.5"
      ]
     },
     "execution_count": 3,
     "metadata": {},
     "output_type": "execute_result"
    }
   ],
   "source": [
    "price_grid = linspace(min_price, max_price, length_of_price_grid)"
   ]
  },
  {
   "cell_type": "code",
   "execution_count": 4,
   "metadata": {
    "ExecuteTime": {
     "end_time": "2018-09-22T15:52:26.452000-03:00",
     "start_time": "2018-09-22T18:52:25.033Z"
    }
   },
   "outputs": [
    {
     "data": {
      "text/plain": [
       "15×3 Array{Float64,2}:\n",
       " 0.0   0.0   1.0 \n",
       " 0.0   0.25  0.75\n",
       " 0.0   0.5   0.5 \n",
       " 0.0   0.75  0.25\n",
       " 0.0   1.0   0.0 \n",
       " 0.25  0.0   0.75\n",
       " 0.25  0.25  0.5 \n",
       " 0.25  0.5   0.25\n",
       " 0.25  0.75  0.0 \n",
       " 0.5   0.0   0.5 \n",
       " 0.5   0.25  0.25\n",
       " 0.5   0.5   0.0 \n",
       " 0.75  0.0   0.25\n",
       " 0.75  0.25  0.0 \n",
       " 1.0   0.0   0.0 "
      ]
     },
     "execution_count": 4,
     "metadata": {},
     "output_type": "execute_result"
    }
   ],
   "source": [
    "simplex3d = generate_simplex_3dims(n_of_lambdas_per_dim)"
   ]
  },
  {
   "cell_type": "markdown",
   "metadata": {},
   "source": [
    "## Testing interpolation:"
   ]
  },
  {
   "cell_type": "code",
   "execution_count": 5,
   "metadata": {
    "ExecuteTime": {
     "end_time": "2018-09-22T15:52:30.300000-03:00",
     "start_time": "2018-09-22T18:52:28.854Z"
    }
   },
   "outputs": [
    {
     "data": {
      "text/html": [
       "1 method for generic function <b>interpolate_V</b>:<ul><li> (::<b>#interpolate_V#7</b>)(x) at <a href=\"https://github.com/cdagnino/LearningModels/tree/2ed94cd856a9cdc2edec16dbc2742c755c2367e3//julia/aguirregabiria_core.jl#L40\" target=\"_blank\">C:\\Users\\gballari\\Documents\\GitHub\\LearningModels\\julia\\aguirregabiria_core.jl:40</a></li> </ul>"
      ],
      "text/plain": [
       "# 1 method for generic function \"(::interpolate_V)\":\n",
       "(::#interpolate_V#7)(x) in Main at C:\\Users\\gballari\\Documents\\GitHub\\LearningModels\\julia\\aguirregabiria_core.jl:40"
      ]
     },
     "execution_count": 5,
     "metadata": {},
     "output_type": "execute_result"
    }
   ],
   "source": [
    "V0 = [2; ones(size(simplex3d,1)-1)]\n",
    "#tmp_interpV = interpV(simplex3d, simplex3d[:,1])\n",
    "tmp_interpV = interpV(simplex3d, V0)\n",
    "methods(tmp_interpV)"
   ]
  },
  {
   "cell_type": "code",
   "execution_count": 6,
   "metadata": {
    "ExecuteTime": {
     "end_time": "2018-09-22T15:52:32.839000-03:00",
     "start_time": "2018-09-22T18:52:31.644Z"
    }
   },
   "outputs": [
    {
     "data": {
      "text/plain": [
       "15×2 Array{Float64,2}:\n",
       " 2.0  2.0\n",
       " 1.0  1.0\n",
       " 1.0  1.0\n",
       " 1.0  1.0\n",
       " 1.0  1.0\n",
       " 1.0  1.0\n",
       " 1.0  1.0\n",
       " 1.0  1.0\n",
       " 1.0  1.0\n",
       " 1.0  1.0\n",
       " 1.0  1.0\n",
       " 1.0  1.0\n",
       " 1.0  1.0\n",
       " 1.0  1.0\n",
       " 1.0  1.0"
      ]
     },
     "execution_count": 6,
     "metadata": {},
     "output_type": "execute_result"
    }
   ],
   "source": [
    "tmp_V = zeros(size(simplex3d,1))\n",
    "for i in 1:size(simplex3d,1)\n",
    "    tmp_V[i] = tmp_interpV(simplex3d[i,:])\n",
    "end\n",
    "hcat(V0, tmp_V)"
   ]
  },
  {
   "cell_type": "code",
   "execution_count": 7,
   "metadata": {
    "ExecuteTime": {
     "end_time": "2018-09-22T15:52:35.376000-03:00",
     "start_time": "2018-09-22T18:52:35.337Z"
    }
   },
   "outputs": [
    {
     "data": {
      "text/plain": [
       "11×11 Array{Float64,2}:\n",
       " 2.0  1.6  1.2  1.0  1.0  1.0  1.0  1.0  1.0  1.0  1.0\n",
       " 1.6  1.2  1.0  1.0  1.0  1.0  1.0  1.0  1.0  1.0  0.6\n",
       " 1.2  1.0  1.0  1.0  1.0  1.0  1.0  1.0  1.0  0.6  0.2\n",
       " 1.0  1.0  1.0  1.0  1.0  1.0  1.0  1.0  0.6  0.2  0.0\n",
       " 1.0  1.0  1.0  1.0  1.0  1.0  1.0  0.6  0.2  0.0  0.0\n",
       " 1.0  1.0  1.0  1.0  1.0  1.0  0.6  0.2  0.0  0.0  0.0\n",
       " 1.0  1.0  1.0  1.0  1.0  0.6  0.2  0.0  0.0  0.0  0.0\n",
       " 1.0  1.0  1.0  1.0  0.6  0.2  0.0  0.0  0.0  0.0  0.0\n",
       " 1.0  1.0  1.0  0.6  0.2  0.0  0.0  0.0  0.0  0.0  0.0\n",
       " 1.0  1.0  0.6  0.2  0.0  0.0  0.0  0.0  0.0  0.0  0.0\n",
       " 1.0  0.6  0.2  0.0  0.0  0.0  0.0  0.0  0.0  0.0  0.0"
      ]
     },
     "execution_count": 7,
     "metadata": {},
     "output_type": "execute_result"
    }
   ],
   "source": [
    "tmp_V = zeros(11,11)\n",
    "for (i1, x1) in enumerate(0.0:0.1:1.0)\n",
    "    for (i2, x2) in enumerate(0.0:0.1:1.0)\n",
    "        tmp_V[i1,i2] = tmp_interpV([x1, x2])\n",
    "    end\n",
    "end\n",
    "tmp_V"
   ]
  },
  {
   "cell_type": "markdown",
   "metadata": {},
   "source": [
    "## Test `period_return()` :"
   ]
  },
  {
   "cell_type": "code",
   "execution_count": 8,
   "metadata": {
    "ExecuteTime": {
     "end_time": "2018-09-22T15:52:38.721000-03:00",
     "start_time": "2018-09-22T18:52:38.695Z"
    }
   },
   "outputs": [
    {
     "data": {
      "text/plain": [
       "3-element Array{Float64,1}:\n",
       " 0.2\n",
       " 0.7\n",
       " 0.1"
      ]
     },
     "execution_count": 8,
     "metadata": {},
     "output_type": "execute_result"
    }
   ],
   "source": [
    "include(\"../julia/aguirregabiria_core.jl\")\n",
    "# lambdas is always a vector of size n_of_lambdas_per_dim\n",
    "test_lambdas = [0.2, 0.7, 0.1]"
   ]
  },
  {
   "cell_type": "code",
   "execution_count": 9,
   "metadata": {
    "ExecuteTime": {
     "end_time": "2018-09-22T15:52:42.298000-03:00",
     "start_time": "2018-09-22T18:52:42.260Z"
    }
   },
   "outputs": [
    {
     "data": {
      "text/plain": [
       "0.0:0.16211667625884374:3.080216848918031"
      ]
     },
     "execution_count": 9,
     "metadata": {},
     "output_type": "execute_result"
    }
   ],
   "source": [
    "constant_part = (price_grid - c) * exp(alpha + (sigma_eps^2)/2)"
   ]
  },
  {
   "cell_type": "code",
   "execution_count": 10,
   "metadata": {
    "ExecuteTime": {
     "end_time": "2018-09-22T15:52:45.529000-03:00",
     "start_time": "2018-09-22T18:52:43.792Z"
    }
   },
   "outputs": [
    {
     "data": {
      "text/plain": [
       "20-element Array{Float64,1}:\n",
       " 0.0     \n",
       " 0.566615\n",
       " 0.935309\n",
       " 1.17663 \n",
       " 1.33369 \n",
       " 1.43378 \n",
       " 1.49468 \n",
       " 1.52829 \n",
       " 1.54269 \n",
       " 1.5435  \n",
       " 1.5347  \n",
       " 1.51911 \n",
       " 1.49877 \n",
       " 1.47515 \n",
       " 1.44935 \n",
       " 1.42216 \n",
       " 1.39418 \n",
       " 1.36583 \n",
       " 1.33745 \n",
       " 1.30927 "
      ]
     },
     "execution_count": 10,
     "metadata": {},
     "output_type": "execute_result"
    }
   ],
   "source": [
    "summation = exp.(log.(price_grid)*betas_transition' * test_lambdas)\n",
    "constant_part .* summation"
   ]
  },
  {
   "cell_type": "code",
   "execution_count": 11,
   "metadata": {
    "ExecuteTime": {
     "end_time": "2018-09-22T15:52:48.351000-03:00",
     "start_time": "2018-09-22T18:52:48.022Z"
    }
   },
   "outputs": [
    {
     "data": {
      "text/plain": [
       "2-element Array{Float64,1}:\n",
       " 1.54703\n",
       " 1.54011"
      ]
     },
     "execution_count": 11,
     "metadata": {},
     "output_type": "execute_result"
    }
   ],
   "source": [
    "period_return([0.9, 1], test_lambdas)"
   ]
  },
  {
   "cell_type": "markdown",
   "metadata": {},
   "source": [
    "## Test `dmd_transition_fs()`, `belief()`, `update_lambdas()` :"
   ]
  },
  {
   "cell_type": "code",
   "execution_count": 12,
   "metadata": {
    "ExecuteTime": {
     "end_time": "2018-09-22T15:52:50.484000-03:00",
     "start_time": "2018-09-22T18:52:50.372Z"
    }
   },
   "outputs": [
    {
     "data": {
      "text/plain": [
       "3-element Array{Float64,1}:\n",
       " 0.275406\n",
       " 0.658411\n",
       " 0.725042"
      ]
     },
     "execution_count": 12,
     "metadata": {},
     "output_type": "execute_result"
    }
   ],
   "source": [
    "include(\"../julia/aguirregabiria_core.jl\")\n",
    "dmd_transition_fs(1, 1.2, 1)"
   ]
  },
  {
   "cell_type": "code",
   "execution_count": 13,
   "metadata": {
    "ExecuteTime": {
     "end_time": "2018-09-22T15:52:52.004000-03:00",
     "start_time": "2018-09-22T18:52:51.958Z"
    }
   },
   "outputs": [
    {
     "data": {
      "text/plain": [
       "0.5884734620669838"
      ]
     },
     "execution_count": 13,
     "metadata": {},
     "output_type": "execute_result"
    }
   ],
   "source": [
    "belief(1, 1.2, 1, test_lambdas)"
   ]
  },
  {
   "cell_type": "markdown",
   "metadata": {},
   "source": [
    "Testing \"new_belief\" to be a Gaussian mixture:"
   ]
  },
  {
   "cell_type": "code",
   "execution_count": 14,
   "metadata": {
    "inputHidden": false,
    "outputHidden": false
   },
   "outputs": [
    {
     "ename": "LoadError",
     "evalue": "\u001b[91msyntax: invalid iteration specification\u001b[39m",
     "output_type": "error",
     "traceback": [
      "\u001b[91msyntax: invalid iteration specification\u001b[39m",
      "",
      "Stacktrace:",
      " [1] \u001b[1minclude_string\u001b[22m\u001b[22m\u001b[1m(\u001b[22m\u001b[22m::String, ::String\u001b[1m)\u001b[22m\u001b[22m at \u001b[1m.\\loading.jl:522\u001b[22m\u001b[22m",
      " [2] \u001b[1mexecute_request\u001b[22m\u001b[22m\u001b[1m(\u001b[22m\u001b[22m::ZMQ.Socket, ::IJulia.Msg\u001b[1m)\u001b[22m\u001b[22m at \u001b[1mC:\\Users\\gballari\\.julia\\v0.6\\IJulia\\src\\execute_request.jl:193\u001b[22m\u001b[22m",
      " [3] \u001b[1m(::Compat.#inner#6{Array{Any,1},IJulia.#execute_request,Tuple{ZMQ.Socket,IJulia.Msg}})\u001b[22m\u001b[22m\u001b[1m(\u001b[22m\u001b[22m\u001b[1m)\u001b[22m\u001b[22m at \u001b[1mC:\\Users\\gballari\\.julia\\v0.6\\Compat\\src\\Compat.jl:189\u001b[22m\u001b[22m",
      " [4] \u001b[1meventloop\u001b[22m\u001b[22m\u001b[1m(\u001b[22m\u001b[22m::ZMQ.Socket\u001b[1m)\u001b[22m\u001b[22m at \u001b[1mC:\\Users\\gballari\\.julia\\v0.6\\IJulia\\src\\eventloop.jl:8\u001b[22m\u001b[22m",
      " [5] \u001b[1m(::IJulia.##13#16)\u001b[22m\u001b[22m\u001b[1m(\u001b[22m\u001b[22m\u001b[1m)\u001b[22m\u001b[22m at \u001b[1m.\\task.jl:335\u001b[22m\u001b[22m"
     ]
    }
   ],
   "source": [
    "new_lambdas(x) = update_lambdas(x, price_grid[i], ~, lambda_weights)\n",
    "new_belief(x)  = belief(x, price_grid[i], ~, lambda_weights)\n",
    "\n",
    "rescaled_demand = log.(linspace(0.01, 10, 50))\n",
    "new_belief_vals = zeros(size(rescaled_demand))\n",
    "\n",
    "#for dmd, i in enumerate(rescaled_demand)\n",
    "#    new_belief_vals[i] = new_beliefxaxis!"
   ]
  },
  {
   "cell_type": "code",
   "execution_count": 15,
   "metadata": {
    "ExecuteTime": {
     "end_time": "2018-09-22T15:52:54.098000-03:00",
     "start_time": "2018-09-22T18:52:53.952Z"
    }
   },
   "outputs": [
    {
     "data": {
      "text/plain": [
       "3-element Array{Float64,1}:\n",
       " 6.88419e-5\n",
       " 0.820924  \n",
       " 0.179007  "
      ]
     },
     "execution_count": 15,
     "metadata": {},
     "output_type": "execute_result"
    }
   ],
   "source": [
    "update_lambdas(0.3, 2, 1, test_lambdas)"
   ]
  },
  {
   "cell_type": "markdown",
   "metadata": {},
   "source": [
    "## Build `V0` :"
   ]
  },
  {
   "cell_type": "code",
   "execution_count": 16,
   "metadata": {
    "ExecuteTime": {
     "end_time": "2018-09-22T15:52:56.399000-03:00",
     "start_time": "2018-09-22T18:52:56.377Z"
    }
   },
   "outputs": [
    {
     "data": {
      "text/plain": [
       "0.9504504504504505"
      ]
     },
     "execution_count": 16,
     "metadata": {},
     "output_type": "execute_result"
    }
   ],
   "source": [
    "optimal_price = myopic_price(test_lambdas)"
   ]
  },
  {
   "cell_type": "code",
   "execution_count": 17,
   "metadata": {
    "ExecuteTime": {
     "end_time": "2018-09-22T15:52:57.950000-03:00",
     "start_time": "2018-09-22T18:52:57.839Z"
    }
   },
   "outputs": [
    {
     "data": {
      "text/plain": [
       "V_0 (generic function with 1 method)"
      ]
     },
     "execution_count": 17,
     "metadata": {},
     "output_type": "execute_result"
    }
   ],
   "source": [
    "function V_0(x) \n",
    "    optimal_price = myopic_price(x)\n",
    "    return period_return(optimal_price, x)\n",
    "end"
   ]
  },
  {
   "cell_type": "code",
   "execution_count": 18,
   "metadata": {
    "ExecuteTime": {
     "end_time": "2018-09-22T15:57:03.475000-03:00",
     "start_time": "2018-09-22T18:57:03.424Z"
    }
   },
   "outputs": [
    {
     "data": {
      "image/png": "[encoded data removed]"
     },
     "execution_count": 18,
     "metadata": {},
     "output_type": "execute_result"
    }
   ],
   "source": [
    "lambdas_selected = [[0.0, 0.5, 0.5],\n",
    "                    [0.1, 0.5, 0.4],\n",
    "                    [0.2, 0.5, 0.3],\n",
    "                    [0.3, 0.5, 0.2],\n",
    "                    [0.4, 0.5, 0.1],\n",
    "                    [0.5, 0.4, 0.1],\n",
    "                    [0.6, 0.3, 0.1],\n",
    "                    [0.7, 0.2, 0.1],\n",
    "                    [0.8, 0.1, 0.1],\n",
    "                    [0.9, 0.1, 0.0],\n",
    "                    [1.0, 0.0, 0.0]]\n",
    "\n",
    "V_0_values = V_0.(lambdas_selected)\n",
    "plot(0:0.1:1, V_0_values)"
   ]
  },
  {
   "cell_type": "markdown",
   "metadata": {},
   "source": [
    "## Test `E0fV(Vguess, price_grid, lambda_weights)` :"
   ]
  },
  {
   "cell_type": "code",
   "execution_count": 19,
   "metadata": {
    "ExecuteTime": {
     "end_time": "2018-09-22T15:57:10.004000-03:00",
     "start_time": "2018-09-22T18:57:09.882Z"
    }
   },
   "outputs": [
    {
     "data": {
      "text/plain": [
       "integrand (generic function with 1 method)"
      ]
     },
     "execution_count": 19,
     "metadata": {},
     "output_type": "execute_result"
    }
   ],
   "source": [
    "new_lambdas(x) = update_lambdas(x, price_grid[1], ~, test_lambdas)\n",
    "new_belief(x)  = belief(x, price_grid[1], ~, test_lambdas)\n",
    "integrand(x) = V_0(new_lambdas(x)) * new_belief(x)"
   ]
  },
  {
   "cell_type": "code",
   "execution_count": 20,
   "metadata": {
    "ExecuteTime": {
     "end_time": "2018-09-22T15:57:11.111000-03:00",
     "start_time": "2018-09-22T18:57:11.108Z"
    }
   },
   "outputs": [
    {
     "data": {
      "text/plain": [
       "1.5464000419924135"
      ]
     },
     "execution_count": 20,
     "metadata": {},
     "output_type": "execute_result"
    }
   ],
   "source": [
    "V_0(test_lambdas)"
   ]
  },
  {
   "cell_type": "code",
   "execution_count": 21,
   "metadata": {
    "ExecuteTime": {
     "end_time": "2018-09-22T15:57:13.252000-03:00",
     "start_time": "2018-09-22T18:57:13.226Z"
    }
   },
   "outputs": [
    {
     "data": {
      "text/plain": [
       "0.09156848098729656"
      ]
     },
     "execution_count": 21,
     "metadata": {},
     "output_type": "execute_result"
    }
   ],
   "source": [
    "logd_min, logd_max = -6, 2.3\n",
    "integrand(1)"
   ]
  },
  {
   "cell_type": "code",
   "execution_count": 22,
   "metadata": {
    "ExecuteTime": {
     "end_time": "2018-09-22T15:57:17.048000-03:00",
     "start_time": "2018-09-22T18:57:15.295Z"
    }
   },
   "outputs": [
    {
     "data": {
      "text/plain": [
       "0.8078026050330478"
      ]
     },
     "execution_count": 22,
     "metadata": {},
     "output_type": "execute_result"
    }
   ],
   "source": [
    "A = quadgk(integrand, logd_min, logd_max, maxevals=250)[1]"
   ]
  },
  {
   "cell_type": "code",
   "execution_count": 23,
   "metadata": {
    "ExecuteTime": {
     "end_time": "2018-09-22T15:57:19.199000-03:00",
     "start_time": "2018-09-22T18:57:18.465Z"
    }
   },
   "outputs": [
    {
     "name": "stdout",
     "output_type": "stream",
     "text": [
      "  1.191906 seconds (814.10 k allocations: 30.708 MiB, 3.15% gc time)\n"
     ]
    },
    {
     "data": {
      "text/plain": [
       "20-element Array{Float64,1}:\n",
       " 1.76605\n",
       " 1.74884\n",
       " 1.72383\n",
       " 1.69476\n",
       " 1.66331\n",
       " 1.63141\n",
       " 1.60134\n",
       " 1.5757 \n",
       " 1.55711\n",
       " 1.54757\n",
       " 1.54751\n",
       " 1.5556 \n",
       " 1.56946\n",
       " 1.58666\n",
       " 1.60529\n",
       " 1.62409\n",
       " 1.64227\n",
       " 1.65938\n",
       " 1.67519\n",
       " 1.68963"
      ]
     },
     "execution_count": 23,
     "metadata": {},
     "output_type": "execute_result"
    }
   ],
   "source": [
    "include(\"../julia/aguirregabiria_core.jl\")\n",
    "@time A = E0fV(V_0, price_grid, test_lambdas)"
   ]
  },
  {
   "cell_type": "markdown",
   "metadata": {},
   "source": [
    "## Test `bellman_operator(Vguess, price_grid, lambda_simplex)` :"
   ]
  },
  {
   "cell_type": "code",
   "execution_count": 24,
   "metadata": {
    "ExecuteTime": {
     "end_time": "2018-09-22T15:57:23.754000-03:00",
     "start_time": "2018-09-22T18:57:21.453Z"
    }
   },
   "outputs": [
    {
     "name": "stdout",
     "output_type": "stream",
     "text": [
      "  4.538262 seconds (8.84 M allocations: 294.722 MiB, 3.43% gc time)\n"
     ]
    },
    {
     "data": {
      "text/plain": [
       "(interpolate_V, [1.5, 1.5, 1.5, 1.39474, 1.23684, 1.5, 1.5, 0.763158, 0.763158, 0.657895, 0.710526, 0.710526, 0.657895, 0.657895, 0.657895])"
      ]
     },
     "execution_count": 24,
     "metadata": {},
     "output_type": "execute_result"
    }
   ],
   "source": [
    "include(\"../julia/aguirregabiria_core.jl\")\n",
    "@time T_V, policy = bellman_operator(V_0, price_grid, simplex3d)"
   ]
  },
  {
   "cell_type": "code",
   "execution_count": 25,
   "metadata": {
    "ExecuteTime": {
     "end_time": "2018-09-22T15:57:25.158000-03:00",
     "start_time": "2018-09-22T18:57:25.146Z"
    }
   },
   "outputs": [
    {
     "data": {
      "text/plain": [
       "3.4078876232508746"
      ]
     },
     "execution_count": 25,
     "metadata": {},
     "output_type": "execute_result"
    }
   ],
   "source": [
    "T_V([0.4, 0.2, 0.4])"
   ]
  },
  {
   "cell_type": "code",
   "execution_count": 26,
   "metadata": {
    "ExecuteTime": {
     "end_time": "2018-09-22T15:57:27.779000-03:00",
     "start_time": "2018-09-22T18:57:27.658Z"
    }
   },
   "outputs": [
    {
     "name": "stdout",
     "output_type": "stream",
     "text": [
      "3.7479917798732343\n",
      "3.487644925930526\n",
      "3.276830452365081\n",
      "3.1097365433689657\n",
      "3.004802622140219\n",
      "3.359802245092598\n",
      "3.150488471171249\n",
      "3.0329181709522786\n",
      "3.0526591164574697\n",
      "3.600875552944828\n",
      "3.568792810483524\n",
      "3.5908808834606507\n",
      "4.2216838158307315\n",
      "4.22405848873173\n",
      "4.935147034793205\n"
     ]
    }
   ],
   "source": [
    "for i in 1:size(simplex3d, 1)\n",
    "    println(T_V(simplex3d[i,:]))\n",
    "end"
   ]
  },
  {
   "cell_type": "markdown",
   "metadata": {},
   "source": [
    "## Compute fixed point:"
   ]
  },
  {
   "cell_type": "code",
   "execution_count": 27,
   "metadata": {
    "ExecuteTime": {
     "end_time": "2018-09-22T16:02:05.293000-03:00",
     "start_time": "2018-09-22T19:00:12.639Z"
    }
   },
   "outputs": [
    {
     "name": "stdout",
     "output_type": "stream",
     "text": [
      "Computed iterate 10 with error 10.5471\n",
      " !-- elapsed time: 5.880044871 seconds\n",
      "Computed iterate 20 with error 3.6784\n",
      " !-- elapsed time: 5.648885074 seconds\n",
      "Computed iterate 30 with error 1.2827\n",
      " !-- elapsed time: 5.452727134 seconds\n",
      "Computed iterate 40 with error 0.4473\n",
      " !-- elapsed time: 5.56715233 seconds\n",
      "Computed iterate 50 with error 0.1559\n",
      " !-- elapsed time: 5.820444285 seconds\n",
      "288.150644 seconds (994.05 M allocations: 48.317 GiB, 7.28% gc time)\n"
     ]
    },
    {
     "data": {
      "text/plain": [
       "(interpolate_V, [1.5, 1.5, 1.5, 1.44737, 1.23684, 1.5, 1.5, 0.710526, 0.710526, 0.657895, 0.657895, 0.657895, 0.657895, 0.657895, 0.657895], 0.1559476179903072)"
      ]
     },
     "execution_count": 27,
     "metadata": {},
     "output_type": "execute_result"
    }
   ],
   "source": [
    "include(\"../julia/aguirregabiria_core.jl\")\n",
    "@time V, policy, error = compute_fixed_point(V_0, price_grid, simplex3d)"
   ]
  },
  {
   "cell_type": "code",
   "execution_count": 28,
   "metadata": {
    "ExecuteTime": {
     "end_time": "2018-09-22T16:08:59.092000-03:00",
     "start_time": "2018-09-22T19:08:59.089Z"
    }
   },
   "outputs": [
    {
     "data": {
      "text/plain": [
       "15-element Array{Float64,1}:\n",
       " 1.5     \n",
       " 1.5     \n",
       " 1.5     \n",
       " 1.44737 \n",
       " 1.23684 \n",
       " 1.5     \n",
       " 1.5     \n",
       " 0.710526\n",
       " 0.710526\n",
       " 0.657895\n",
       " 0.657895\n",
       " 0.657895\n",
       " 0.657895\n",
       " 0.657895\n",
       " 0.657895"
      ]
     },
     "execution_count": 28,
     "metadata": {},
     "output_type": "execute_result"
    }
   ],
   "source": [
    "policy"
   ]
  },
  {
   "cell_type": "markdown",
   "metadata": {},
   "source": [
    "## Plotting of results"
   ]
  },
  {
   "cell_type": "code",
   "execution_count": 32,
   "metadata": {
    "ExecuteTime": {
     "end_time": "2018-09-22T19:18:17.901000-03:00",
     "start_time": "2018-09-22T22:18:17.846Z"
    }
   },
   "outputs": [
    {
     "data": {
      "image/png": "[encoded data removed]"
     },
     "execution_count": 32,
     "metadata": {},
     "output_type": "execute_result"
    }
   ],
   "source": [
    "lambdas_selected = [[0.0, 0.5, 0.5],\n",
    "                    [0.1, 0.5, 0.4],\n",
    "                    [0.2, 0.5, 0.3],\n",
    "                    [0.3, 0.5, 0.2],\n",
    "                    [0.4, 0.5, 0.1],\n",
    "                    [0.5, 0.4, 0.1],\n",
    "                    [0.6, 0.3, 0.1],\n",
    "                    [0.7, 0.2, 0.1],\n",
    "                    [0.8, 0.1, 0.1],\n",
    "                    [0.9, 0.1, 0.0],\n",
    "                    [1.0, 0.0, 0.0]]\n",
    "\n",
    "valuef_values = V.(lambdas_selected)\n",
    "plot(0:0.1:1, valuef_values)"
   ]
  },
  {
   "cell_type": "code",
   "execution_count": 33,
   "metadata": {
    "ExecuteTime": {
     "end_time": "2018-09-22T16:34:09.319000-03:00",
     "start_time": "2018-09-22T19:34:09.293Z"
    }
   },
   "outputs": [
    {
     "data": {
      "image/png": "[encoded data removed]"
     },
     "execution_count": 33,
     "metadata": {},
     "output_type": "execute_result"
    }
   ],
   "source": [
    "lambdas_selected = [[1.0, 0., 0.],\n",
    "                    [0.9, 0.1, 0.],\n",
    "                    [0.8, 0.2, 0.],\n",
    "                    [0.7, 0.1, 0.1],\n",
    "                    [0.6, 0.2, 0.2],\n",
    "                    [0.5, 0.1, 0.4],\n",
    "                    [0.4, 0.2, 0.4],\n",
    "                    [0.3, 0.1, 0.6],\n",
    "                    [0.2, 0.2, 0.6],\n",
    "                    [0.1, 0.1, 0.8],\n",
    "                    [0., 0.1, 0.9]]\n",
    "\n",
    "valuef_values = V.(lambdas_selected)\n",
    "plot(0:0.1:1, valuef_values)"
   ]
  },
  {
   "cell_type": "code",
   "execution_count": 31,
   "metadata": {
    "ExecuteTime": {
     "end_time": "2018-09-22T16:24:39.898000-03:00",
     "start_time": "2018-09-22T19:24:39.831Z"
    }
   },
   "outputs": [
    {
     "data": {
      "image/png": "[encoded data removed]"
     },
     "execution_count": 31,
     "metadata": {},
     "output_type": "execute_result"
    }
   ],
   "source": [
    "# -- original code --\n",
    "#\n",
    "# def optimized_period_profit(lambdas):\n",
    "#     opt_p = myopic_price(lambdas)\n",
    "#     E_β = src.exp_b_from_lambdas(lambdas, const.betas_transition)\n",
    "#     logq = const.α + E_β*np.log(opt_p)\n",
    "#\n",
    "#     return (opt_p-const.c)*np.e**logq\n",
    "\n",
    "function optimized_period_profit(lambdas)\n",
    "    opt_p = myopic_price(lambdas)\n",
    "    E_beta = dot(lambdas, betas_transition)\n",
    "    logq  = alpha + E_beta*log(opt_p)\n",
    "    \n",
    "    return (opt_p-c)*exp(logq)\n",
    "end\n",
    "\n",
    "lambdas_selected_3d = [[0.0, 0.5, 0.5],\n",
    "                        [0.1, 0.5, 0.4],\n",
    "                        [0.2, 0.5, 0.2],\n",
    "                        [0.3, 0.5, 0.2],\n",
    "                        [0.4, 0.5, 0.1],\n",
    "                        [0.5, 0.4, 0.1],\n",
    "                        [0.6, 0.3, 0.1],\n",
    "                        [0.7, 0.2, 0.1],\n",
    "                        [0.8, 0.1, 0.1],\n",
    "                        [0.9, 0.1, 0.0],\n",
    "                        [1.0, 0.0, 0.0]]\n",
    "\n",
    "profit_values = optimized_period_profit.(lambdas_selected_3d)\n",
    "plot(0:0.1:1, profit_values)"
   ]
  },
  {
   "cell_type": "code",
   "execution_count": null,
   "metadata": {},
   "outputs": [],
   "source": []
  }
 ],
 "metadata": {
  "kernel_info": {
   "name": "julia-0.6"
  },
  "kernelspec": {
   "display_name": "Julia 0.6.4",
   "language": "julia",
   "name": "julia-0.6"
  },
  "language_info": {
   "file_extension": ".jl",
   "mimetype": "application/julia",
   "name": "julia",
   "version": "0.6.4"
  },
  "nteract": {
   "version": "0.11.7"
  },
  "toc": {
   "nav_menu": {},
   "number_sections": true,
   "sideBar": true,
   "skip_h1_title": false,
   "toc_cell": false,
   "toc_position": {},
   "toc_section_display": "block",
   "toc_window_display": false
  },
  "varInspector": {
   "cols": {
    "lenName": 16,
    "lenType": 16,
    "lenVar": 40
   },
   "kernels_config": {
    "python": {
     "delete_cmd_postfix": "",
     "delete_cmd_prefix": "del ",
     "library": "var_list.py",
     "varRefreshCmd": "print(var_dic_list())"
    },
    "r": {
     "delete_cmd_postfix": ") ",
     "delete_cmd_prefix": "rm(",
     "library": "var_list.r",
     "varRefreshCmd": "cat(var_dic_list()) "
    }
   },
   "types_to_exclude": [
    "module",
    "function",
    "builtin_function_or_method",
    "instance",
    "_Feature"
   ],
   "window_display": false
  }
 },
 "nbformat": 4,
 "nbformat_minor": 2
}
