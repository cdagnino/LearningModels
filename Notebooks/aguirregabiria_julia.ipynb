{
  "cells": [
    {
      "cell_type": "code",
      "source": [
        "using Plots; pyplot()\n",
        "include(\"../julia/aguirregabiria_core.jl\")"
      ],
      "outputs": [
        {
          "output_type": "execute_result",
          "execution_count": 26,
          "data": {
            "text/plain": [
              "compute_fixed_point (generic function with 1 method)"
            ]
          },
          "metadata": {}
        }
      ],
      "execution_count": 26,
      "metadata": {
        "ExecuteTime": {
          "end_time": "2018-09-22T15:52:19.670000-03:00",
          "start_time": "2018-09-22T18:52:19.350Z"
        }
      }
    },
    {
      "cell_type": "code",
      "source": [
        "#=\n",
        "length_of_price_grid = 10\n",
        "min_price, max_price = 0.5, 1.5\n",
        "n_of_lambdas_per_dim = 3\n",
        "max_iters            = 3\n",
        "error_tol            = 1e-5\n",
        "=#\n",
        "\n",
        "length_of_price_grid = 20\n",
        "min_price, max_price = 0.5, 1.5\n",
        "n_of_lambdas_per_dim = 5\n",
        "error_tol            = 1e-5"
      ],
      "outputs": [
        {
          "output_type": "execute_result",
          "execution_count": 2,
          "data": {
            "text/plain": [
              "1.0e-5"
            ]
          },
          "metadata": {}
        }
      ],
      "execution_count": 2,
      "metadata": {
        "ExecuteTime": {
          "end_time": "2018-09-22T15:52:21.688000-03:00",
          "start_time": "2018-09-22T18:52:21.679Z"
        }
      }
    },
    {
      "cell_type": "code",
      "source": [
        "price_grid = linspace(min_price, max_price, length_of_price_grid)"
      ],
      "outputs": [
        {
          "output_type": "execute_result",
          "execution_count": 9,
          "data": {
            "text/plain": [
              "0.5:0.05263157894736842:1.5"
            ]
          },
          "metadata": {}
        }
      ],
      "execution_count": 9,
      "metadata": {
        "ExecuteTime": {
          "end_time": "2018-09-22T15:52:23.479000-03:00",
          "start_time": "2018-09-22T18:52:23.476Z"
        }
      }
    },
    {
      "cell_type": "code",
      "source": [
        "simplex3d = generate_simplex_3dims(n_of_lambdas_per_dim)"
      ],
      "outputs": [
        {
          "output_type": "execute_result",
          "execution_count": 3,
          "data": {
            "text/plain": [
              "15×3 Array{Float64,2}:\n",
              " 0.0   0.0   1.0 \n",
              " 0.0   0.25  0.75\n",
              " 0.0   0.5   0.5 \n",
              " 0.0   0.75  0.25\n",
              " 0.0   1.0   0.0 \n",
              " 0.25  0.0   0.75\n",
              " 0.25  0.25  0.5 \n",
              " 0.25  0.5   0.25\n",
              " 0.25  0.75  0.0 \n",
              " 0.5   0.0   0.5 \n",
              " 0.5   0.25  0.25\n",
              " 0.5   0.5   0.0 \n",
              " 0.75  0.0   0.25\n",
              " 0.75  0.25  0.0 \n",
              " 1.0   0.0   0.0 "
            ]
          },
          "metadata": {}
        }
      ],
      "execution_count": 3,
      "metadata": {
        "ExecuteTime": {
          "end_time": "2018-09-22T15:52:26.452000-03:00",
          "start_time": "2018-09-22T18:52:25.033Z"
        }
      }
    },
    {
      "cell_type": "markdown",
      "source": [
        "## Testing interpolation:"
      ],
      "metadata": {}
    },
    {
      "cell_type": "code",
      "source": [
        "V0 = [2; ones(size(simplex3d,1)-1)]\n",
        "#tmp_interpV = interpV(simplex3d, simplex3d[:,1])\n",
        "tmp_interpV = interpV(simplex3d, V0)\n",
        "methods(tmp_interpV)"
      ],
      "outputs": [
        {
          "output_type": "execute_result",
          "execution_count": 4,
          "data": {
            "text/plain": [
              "# 1 method for generic function \"(::interpolate_V)\":\n",
              "(::#interpolate_V#7)(x) in Main at C:\\Users\\gballari\\Documents\\GitHub\\LearningModels\\julia\\aguirregabiria_core.jl:40"
            ],
            "text/html": [
              "1 method for generic function <b>interpolate_V</b>:<ul><li> (::<b>#interpolate_V#7</b>)(x) at <a href=\"https://github.com/cdagnino/LearningModels/tree/ade46a78e5b6a822db1d6688329e52b58870fbad//julia/aguirregabiria_core.jl#L40\" target=\"_blank\">C:\\Users\\gballari\\Documents\\GitHub\\LearningModels\\julia\\aguirregabiria_core.jl:40</a></li> </ul>"
            ]
          },
          "metadata": {}
        }
      ],
      "execution_count": 4,
      "metadata": {
        "ExecuteTime": {
          "end_time": "2018-09-22T15:52:30.300000-03:00",
          "start_time": "2018-09-22T18:52:28.854Z"
        }
      }
    },
    {
      "cell_type": "code",
      "source": [
        "tmp_V = zeros(size(simplex3d,1))\n",
        "for i in 1:size(simplex3d,1)\n",
        "    tmp_V[i] = tmp_interpV(simplex3d[i,:])\n",
        "end\n",
        "hcat(V0, tmp_V)"
      ],
      "outputs": [
        {
          "output_type": "execute_result",
          "execution_count": 5,
          "data": {
            "text/plain": [
              "15×2 Array{Float64,2}:\n",
              " 2.0  2.0\n",
              " 1.0  1.0\n",
              " 1.0  1.0\n",
              " 1.0  1.0\n",
              " 1.0  1.0\n",
              " 1.0  1.0\n",
              " 1.0  1.0\n",
              " 1.0  1.0\n",
              " 1.0  1.0\n",
              " 1.0  1.0\n",
              " 1.0  1.0\n",
              " 1.0  1.0\n",
              " 1.0  1.0\n",
              " 1.0  1.0\n",
              " 1.0  1.0"
            ]
          },
          "metadata": {}
        }
      ],
      "execution_count": 5,
      "metadata": {
        "ExecuteTime": {
          "end_time": "2018-09-22T15:52:32.839000-03:00",
          "start_time": "2018-09-22T18:52:31.644Z"
        }
      }
    },
    {
      "cell_type": "code",
      "source": [
        "tmp_V = zeros(11,11)\n",
        "for (i1, x1) in enumerate(0.0:0.1:1.0)\n",
        "    for (i2, x2) in enumerate(0.0:0.1:1.0)\n",
        "        tmp_V[i1,i2] = tmp_interpV([x1, x2])\n",
        "    end\n",
        "end\n",
        "tmp_V"
      ],
      "outputs": [
        {
          "output_type": "execute_result",
          "execution_count": 6,
          "data": {
            "text/plain": [
              "11×11 Array{Float64,2}:\n",
              " 2.0  1.6  1.2  1.0  1.0  1.0  1.0  1.0  1.0  1.0  1.0\n",
              " 1.6  1.2  1.0  1.0  1.0  1.0  1.0  1.0  1.0  1.0  0.6\n",
              " 1.2  1.0  1.0  1.0  1.0  1.0  1.0  1.0  1.0  0.6  0.2\n",
              " 1.0  1.0  1.0  1.0  1.0  1.0  1.0  1.0  0.6  0.2  0.0\n",
              " 1.0  1.0  1.0  1.0  1.0  1.0  1.0  0.6  0.2  0.0  0.0\n",
              " 1.0  1.0  1.0  1.0  1.0  1.0  0.6  0.2  0.0  0.0  0.0\n",
              " 1.0  1.0  1.0  1.0  1.0  0.6  0.2  0.0  0.0  0.0  0.0\n",
              " 1.0  1.0  1.0  1.0  0.6  0.2  0.0  0.0  0.0  0.0  0.0\n",
              " 1.0  1.0  1.0  0.6  0.2  0.0  0.0  0.0  0.0  0.0  0.0\n",
              " 1.0  1.0  0.6  0.2  0.0  0.0  0.0  0.0  0.0  0.0  0.0\n",
              " 1.0  0.6  0.2  0.0  0.0  0.0  0.0  0.0  0.0  0.0  0.0"
            ]
          },
          "metadata": {}
        }
      ],
      "execution_count": 6,
      "metadata": {
        "ExecuteTime": {
          "end_time": "2018-09-22T15:52:35.376000-03:00",
          "start_time": "2018-09-22T18:52:35.337Z"
        }
      }
    },
    {
      "cell_type": "markdown",
      "source": [
        "## Test `period_return()` :"
      ],
      "metadata": {}
    },
    {
      "cell_type": "code",
      "source": [
        "include(\"../julia/aguirregabiria_core.jl\")\n",
        "# lambdas is always a vector of size n_of_lambdas_per_dim\n",
        "test_lambdas = [0.2, 0.7, 0.1]"
      ],
      "outputs": [
        {
          "output_type": "execute_result",
          "execution_count": 7,
          "data": {
            "text/plain": [
              "3-element Array{Float64,1}:\n",
              " 0.2\n",
              " 0.7\n",
              " 0.1"
            ]
          },
          "metadata": {}
        }
      ],
      "execution_count": 7,
      "metadata": {
        "ExecuteTime": {
          "end_time": "2018-09-22T15:52:38.721000-03:00",
          "start_time": "2018-09-22T18:52:38.695Z"
        }
      }
    },
    {
      "cell_type": "code",
      "source": [
        "constant_part = (price_grid - c) * exp(alpha + (sigma_eps^2)/2)"
      ],
      "outputs": [
        {
          "output_type": "execute_result",
          "execution_count": 10,
          "data": {
            "text/plain": [
              "0.0:0.16211667625884374:3.080216848918031"
            ]
          },
          "metadata": {}
        }
      ],
      "execution_count": 10,
      "metadata": {
        "ExecuteTime": {
          "end_time": "2018-09-22T15:52:42.298000-03:00",
          "start_time": "2018-09-22T18:52:42.260Z"
        }
      }
    },
    {
      "cell_type": "code",
      "source": [
        "summation = exp.(log.(price_grid)*betas_transition' * test_lambdas)\n",
        "constant_part .* summation"
      ],
      "outputs": [
        {
          "output_type": "execute_result",
          "execution_count": 10,
          "data": {
            "text/plain": [
              "20-element Array{Float64,1}:\n",
              " 0.0     \n",
              " 0.566615\n",
              " 0.935309\n",
              " 1.17663 \n",
              " 1.33369 \n",
              " 1.43378 \n",
              " 1.49468 \n",
              " 1.52829 \n",
              " 1.54269 \n",
              " 1.5435  \n",
              " 1.5347  \n",
              " 1.51911 \n",
              " 1.49877 \n",
              " 1.47515 \n",
              " 1.44935 \n",
              " 1.42216 \n",
              " 1.39418 \n",
              " 1.36583 \n",
              " 1.33745 \n",
              " 1.30927 "
            ]
          },
          "metadata": {}
        }
      ],
      "execution_count": 10,
      "metadata": {
        "ExecuteTime": {
          "end_time": "2018-09-22T15:52:45.529000-03:00",
          "start_time": "2018-09-22T18:52:43.792Z"
        }
      }
    },
    {
      "cell_type": "code",
      "source": [
        "period_return([0.9, 1], test_lambdas)"
      ],
      "outputs": [
        {
          "output_type": "execute_result",
          "execution_count": 11,
          "data": {
            "text/plain": [
              "2-element Array{Float64,1}:\n",
              " 1.54703\n",
              " 1.54011"
            ]
          },
          "metadata": {}
        }
      ],
      "execution_count": 11,
      "metadata": {
        "ExecuteTime": {
          "end_time": "2018-09-22T15:52:48.351000-03:00",
          "start_time": "2018-09-22T18:52:48.022Z"
        }
      }
    },
    {
      "cell_type": "markdown",
      "source": [
        "## Test `dmd_transition_fs()`, `belief()`, `update_lambdas()` :"
      ],
      "metadata": {}
    },
    {
      "cell_type": "code",
      "source": [
        "include(\"../julia/aguirregabiria_core.jl\")\n",
        "dmd_transition_fs(1, 1.2, 1)"
      ],
      "outputs": [
        {
          "output_type": "execute_result",
          "execution_count": 23,
          "data": {
            "text/plain": [
              "3-element Array{Float64,1}:\n",
              " 0.275406\n",
              " 0.658411\n",
              " 0.725042"
            ]
          },
          "metadata": {}
        }
      ],
      "execution_count": 23,
      "metadata": {
        "ExecuteTime": {
          "end_time": "2018-09-22T15:52:50.484000-03:00",
          "start_time": "2018-09-22T18:52:50.372Z"
        }
      }
    },
    {
      "cell_type": "code",
      "source": [
        "belief(1, 1.2, 1, test_lambdas)"
      ],
      "outputs": [
        {
          "output_type": "execute_result",
          "execution_count": 24,
          "data": {
            "text/plain": [
              "0.5884734620669838"
            ]
          },
          "metadata": {}
        }
      ],
      "execution_count": 24,
      "metadata": {
        "ExecuteTime": {
          "end_time": "2018-09-22T15:52:52.004000-03:00",
          "start_time": "2018-09-22T18:52:51.958Z"
        }
      }
    },
    {
      "cell_type": "markdown",
      "source": [
        "Testing \"new_belief\" to be a Gaussian mixture:"
      ],
      "metadata": {}
    },
    {
      "cell_type": "code",
      "source": [
        "new_lambdas(x) = update_lambdas(x, price_grid[i], ~, lambda_weights)\n",
        "new_belief(x)  = belief(x, price_grid[i], ~, lambda_weights)\n",
        "\n",
        "rescaled_demand = log.(linspace(0.01, 10, 50))\n",
        "new_belief_vals = zeros(size(rescaled_demand))\n",
        "\n",
        "for dmd, i in enumerate(rescaled_demand)\n",
        "    new_belief_vals[i] = new_beliefxaxis!"
      ],
      "outputs": [
        {
          "output_type": "execute_result",
          "execution_count": 25,
          "data": {
            "text/plain": [
              "new_belief (generic function with 1 method)"
            ]
          },
          "metadata": {}
        }
      ],
      "execution_count": 25,
      "metadata": {
        "collapsed": false,
        "outputHidden": false,
        "inputHidden": false
      }
    },
    {
      "cell_type": "code",
      "source": [
        "update_lambdas(0.3, 2, 1, test_lambdas)"
      ],
      "outputs": [
        {
          "output_type": "execute_result",
          "execution_count": 14,
          "data": {
            "text/plain": [
              "3-element Array{Float64,1}:\n",
              " 6.88419e-5\n",
              " 0.820924  \n",
              " 0.179007  "
            ]
          },
          "metadata": {}
        }
      ],
      "execution_count": 14,
      "metadata": {
        "ExecuteTime": {
          "end_time": "2018-09-22T15:52:54.098000-03:00",
          "start_time": "2018-09-22T18:52:53.952Z"
        }
      }
    },
    {
      "cell_type": "markdown",
      "source": [
        "## Build `V0` :"
      ],
      "metadata": {}
    },
    {
      "cell_type": "code",
      "source": [
        "optimal_price = myopic_price(test_lambdas)"
      ],
      "outputs": [
        {
          "output_type": "execute_result",
          "execution_count": 11,
          "data": {
            "text/plain": [
              "0.9504504504504505"
            ]
          },
          "metadata": {}
        }
      ],
      "execution_count": 11,
      "metadata": {
        "ExecuteTime": {
          "end_time": "2018-09-22T15:52:56.399000-03:00",
          "start_time": "2018-09-22T18:52:56.377Z"
        }
      }
    },
    {
      "cell_type": "code",
      "source": [
        "function V_0(x) \n",
        "    optimal_price = myopic_price(x)\n",
        "    return period_return(optimal_price, x)\n",
        "end"
      ],
      "outputs": [
        {
          "output_type": "execute_result",
          "execution_count": 12,
          "data": {
            "text/plain": [
              "V_0 (generic function with 1 method)"
            ]
          },
          "metadata": {}
        }
      ],
      "execution_count": 12,
      "metadata": {
        "ExecuteTime": {
          "end_time": "2018-09-22T15:52:57.950000-03:00",
          "start_time": "2018-09-22T18:52:57.839Z"
        }
      }
    },
    {
      "cell_type": "code",
      "source": [
        "lambdas_selected = [[0.0, 0.5, 0.5],\n",
        "                    [0.1, 0.5, 0.4],\n",
        "                    [0.2, 0.5, 0.3],\n",
        "                    [0.3, 0.5, 0.2],\n",
        "                    [0.4, 0.5, 0.1],\n",
        "                    [0.5, 0.4, 0.1],\n",
        "                    [0.6, 0.3, 0.1],\n",
        "                    [0.7, 0.2, 0.1],\n",
        "                    [0.8, 0.1, 0.1],\n",
        "                    [0.9, 0.1, 0.0],\n",
        "                    [1.0, 0.0, 0.0]]\n",
        "\n",
        "V_0_values = V_0.(lambdas_selected)\n",
        "plot(0:0.1:1, V_0_values)"
      ],
      "outputs": [
        {
          "output_type": "execute_result",
          "execution_count": 28,
          "data": {
            "image/png": "[encoded data removed]"
          },
          "metadata": {}
        }
      ],
      "execution_count": 28,
      "metadata": {
        "ExecuteTime": {
          "end_time": "2018-09-22T15:57:03.475000-03:00",
          "start_time": "2018-09-22T18:57:03.424Z"
        }
      }
    },
    {
      "cell_type": "markdown",
      "source": [
        "## Test `E0fV(Vguess, price_grid, lambda_weights)` :"
      ],
      "metadata": {}
    },
    {
      "cell_type": "code",
      "source": [
        "new_lambdas(x) = update_lambdas(x, price_grid[1], ~, test_lambdas)\n",
        "new_belief(x)  = belief(x, price_grid[1], ~, test_lambdas)\n",
        "integrand(x) = V_0(new_lambdas(x)) * new_belief(x)"
      ],
      "outputs": [
        {
          "output_type": "execute_result",
          "execution_count": 14,
          "data": {
            "text/plain": [
              "integrand (generic function with 1 method)"
            ]
          },
          "metadata": {}
        }
      ],
      "execution_count": 14,
      "metadata": {
        "ExecuteTime": {
          "end_time": "2018-09-22T15:57:10.004000-03:00",
          "start_time": "2018-09-22T18:57:09.882Z"
        }
      }
    },
    {
      "cell_type": "code",
      "source": [
        "V_0(test_lambdas)"
      ],
      "outputs": [
        {
          "output_type": "execute_result",
          "execution_count": 15,
          "data": {
            "text/plain": [
              "1.5464000419924135"
            ]
          },
          "metadata": {}
        }
      ],
      "execution_count": 15,
      "metadata": {
        "ExecuteTime": {
          "end_time": "2018-09-22T15:57:11.111000-03:00",
          "start_time": "2018-09-22T18:57:11.108Z"
        }
      }
    },
    {
      "cell_type": "code",
      "source": [
        "logd_min, logd_max = -6, 2.3\n",
        "integrand(1)"
      ],
      "outputs": [
        {
          "output_type": "execute_result",
          "execution_count": 16,
          "data": {
            "text/plain": [
              "0.09156848098729656"
            ]
          },
          "metadata": {}
        }
      ],
      "execution_count": 16,
      "metadata": {
        "ExecuteTime": {
          "end_time": "2018-09-22T15:57:13.252000-03:00",
          "start_time": "2018-09-22T18:57:13.226Z"
        }
      }
    },
    {
      "cell_type": "code",
      "source": [
        "A = quadgk(integrand, logd_min, logd_max, maxevals=250)[1]"
      ],
      "outputs": [
        {
          "output_type": "execute_result",
          "execution_count": 17,
          "data": {
            "text/plain": [
              "0.8078026050330478"
            ]
          },
          "metadata": {}
        }
      ],
      "execution_count": 17,
      "metadata": {
        "ExecuteTime": {
          "end_time": "2018-09-22T15:57:17.048000-03:00",
          "start_time": "2018-09-22T18:57:15.295Z"
        }
      }
    },
    {
      "cell_type": "code",
      "source": [
        "include(\"../julia/aguirregabiria_core.jl\")\n",
        "@time A = E0fV(V_0, price_grid, test_lambdas)"
      ],
      "outputs": [
        {
          "output_type": "stream",
          "name": "stdout",
          "text": [
            "  0.974824 seconds (626.43 k allocations: 24.511 MiB, 1.17% gc time)\n"
          ]
        },
        {
          "output_type": "execute_result",
          "execution_count": 22,
          "data": {
            "text/plain": [
              "20-element Array{Float64,1}:\n",
              " 0.807803\n",
              " 0.95716 \n",
              " 1.08021 \n",
              " 1.19653 \n",
              " 1.31751 \n",
              " 1.42379 \n",
              " 1.49327 \n",
              " 1.52538 \n",
              " 1.53486 \n",
              " 1.53735 \n",
              " 1.54227 \n",
              " 1.55264 \n",
              " 1.5677  \n",
              " 1.58559 \n",
              " 1.60463 \n",
              " 1.62368 \n",
              " 1.64201 \n",
              " 1.65921 \n",
              " 1.67509 \n",
              " 1.68956 "
            ]
          },
          "metadata": {}
        }
      ],
      "execution_count": 22,
      "metadata": {
        "ExecuteTime": {
          "end_time": "2018-09-22T15:57:19.199000-03:00",
          "start_time": "2018-09-22T18:57:18.465Z"
        }
      }
    },
    {
      "cell_type": "markdown",
      "source": [
        "## Test `bellman_operator(Vguess, price_grid, lambda_simplex)` :"
      ],
      "metadata": {}
    },
    {
      "cell_type": "code",
      "source": [
        "include(\"../julia/aguirregabiria_core.jl\")\n",
        "@time T_V, policy = bellman_operator(V_0, price_grid, simplex3d)"
      ],
      "outputs": [
        {
          "output_type": "error",
          "ename": "LoadError",
          "evalue": "\u001b[91mUndefVarError: simplex3d not defined\u001b[39m",
          "traceback": [
            "\u001b[91mUndefVarError: simplex3d not defined\u001b[39m",
            "",
            "Stacktrace:",
            " [1] \u001b[1minclude_string\u001b[22m\u001b[22m\u001b[1m(\u001b[22m\u001b[22m::String, ::String\u001b[1m)\u001b[22m\u001b[22m at \u001b[1m.\\loading.jl:522\u001b[22m\u001b[22m",
            " [2] \u001b[1mexecute_request\u001b[22m\u001b[22m\u001b[1m(\u001b[22m\u001b[22m::ZMQ.Socket, ::IJulia.Msg\u001b[1m)\u001b[22m\u001b[22m at \u001b[1mC:\\Users\\gballari\\.julia\\v0.6\\IJulia\\src\\execute_request.jl:193\u001b[22m\u001b[22m",
            " [3] \u001b[1m(::Compat.#inner#6{Array{Any,1},IJulia.#execute_request,Tuple{ZMQ.Socket,IJulia.Msg}})\u001b[22m\u001b[22m\u001b[1m(\u001b[22m\u001b[22m\u001b[1m)\u001b[22m\u001b[22m at \u001b[1mC:\\Users\\gballari\\.julia\\v0.6\\Compat\\src\\Compat.jl:189\u001b[22m\u001b[22m",
            " [4] \u001b[1meventloop\u001b[22m\u001b[22m\u001b[1m(\u001b[22m\u001b[22m::ZMQ.Socket\u001b[1m)\u001b[22m\u001b[22m at \u001b[1mC:\\Users\\gballari\\.julia\\v0.6\\IJulia\\src\\eventloop.jl:8\u001b[22m\u001b[22m",
            " [5] \u001b[1m(::IJulia.##13#16)\u001b[22m\u001b[22m\u001b[1m(\u001b[22m\u001b[22m\u001b[1m)\u001b[22m\u001b[22m at \u001b[1m.\\task.jl:335\u001b[22m\u001b[22m"
          ]
        }
      ],
      "execution_count": 23,
      "metadata": {
        "ExecuteTime": {
          "end_time": "2018-09-22T15:57:23.754000-03:00",
          "start_time": "2018-09-22T18:57:21.453Z"
        }
      }
    },
    {
      "cell_type": "code",
      "source": [
        "T_V([0.4, 0.2, 0.4])"
      ],
      "outputs": [
        {
          "output_type": "error",
          "ename": "LoadError",
          "evalue": "\u001b[91mUndefVarError: T_V not defined\u001b[39m",
          "traceback": [
            "\u001b[91mUndefVarError: T_V not defined\u001b[39m",
            "",
            "Stacktrace:",
            " [1] \u001b[1minclude_string\u001b[22m\u001b[22m\u001b[1m(\u001b[22m\u001b[22m::String, ::String\u001b[1m)\u001b[22m\u001b[22m at \u001b[1m.\\loading.jl:522\u001b[22m\u001b[22m",
            " [2] \u001b[1mexecute_request\u001b[22m\u001b[22m\u001b[1m(\u001b[22m\u001b[22m::ZMQ.Socket, ::IJulia.Msg\u001b[1m)\u001b[22m\u001b[22m at \u001b[1mC:\\Users\\gballari\\.julia\\v0.6\\IJulia\\src\\execute_request.jl:193\u001b[22m\u001b[22m",
            " [3] \u001b[1m(::Compat.#inner#6{Array{Any,1},IJulia.#execute_request,Tuple{ZMQ.Socket,IJulia.Msg}})\u001b[22m\u001b[22m\u001b[1m(\u001b[22m\u001b[22m\u001b[1m)\u001b[22m\u001b[22m at \u001b[1mC:\\Users\\gballari\\.julia\\v0.6\\Compat\\src\\Compat.jl:189\u001b[22m\u001b[22m",
            " [4] \u001b[1meventloop\u001b[22m\u001b[22m\u001b[1m(\u001b[22m\u001b[22m::ZMQ.Socket\u001b[1m)\u001b[22m\u001b[22m at \u001b[1mC:\\Users\\gballari\\.julia\\v0.6\\IJulia\\src\\eventloop.jl:8\u001b[22m\u001b[22m",
            " [5] \u001b[1m(::IJulia.##13#16)\u001b[22m\u001b[22m\u001b[1m(\u001b[22m\u001b[22m\u001b[1m)\u001b[22m\u001b[22m at \u001b[1m.\\task.jl:335\u001b[22m\u001b[22m"
          ]
        }
      ],
      "execution_count": 24,
      "metadata": {
        "ExecuteTime": {
          "end_time": "2018-09-22T15:57:25.158000-03:00",
          "start_time": "2018-09-22T18:57:25.146Z"
        }
      }
    },
    {
      "cell_type": "code",
      "source": [
        "for i in 1:size(simplex3d, 1)\n",
        "    println(T_V(simplex3d[i,:]))\n",
        "end"
      ],
      "outputs": [
        {
          "output_type": "error",
          "ename": "LoadError",
          "evalue": "\u001b[91mUndefVarError: simplex3d not defined\u001b[39m",
          "traceback": [
            "\u001b[91mUndefVarError: simplex3d not defined\u001b[39m",
            "",
            "Stacktrace:",
            " [1] \u001b[1manonymous\u001b[22m\u001b[22m at \u001b[1m.\\<missing>:?\u001b[22m\u001b[22m",
            " [2] \u001b[1minclude_string\u001b[22m\u001b[22m\u001b[1m(\u001b[22m\u001b[22m::String, ::String\u001b[1m)\u001b[22m\u001b[22m at \u001b[1m.\\loading.jl:522\u001b[22m\u001b[22m",
            " [3] \u001b[1mexecute_request\u001b[22m\u001b[22m\u001b[1m(\u001b[22m\u001b[22m::ZMQ.Socket, ::IJulia.Msg\u001b[1m)\u001b[22m\u001b[22m at \u001b[1mC:\\Users\\gballari\\.julia\\v0.6\\IJulia\\src\\execute_request.jl:193\u001b[22m\u001b[22m",
            " [4] \u001b[1m(::Compat.#inner#6{Array{Any,1},IJulia.#execute_request,Tuple{ZMQ.Socket,IJulia.Msg}})\u001b[22m\u001b[22m\u001b[1m(\u001b[22m\u001b[22m\u001b[1m)\u001b[22m\u001b[22m at \u001b[1mC:\\Users\\gballari\\.julia\\v0.6\\Compat\\src\\Compat.jl:189\u001b[22m\u001b[22m",
            " [5] \u001b[1meventloop\u001b[22m\u001b[22m\u001b[1m(\u001b[22m\u001b[22m::ZMQ.Socket\u001b[1m)\u001b[22m\u001b[22m at \u001b[1mC:\\Users\\gballari\\.julia\\v0.6\\IJulia\\src\\eventloop.jl:8\u001b[22m\u001b[22m",
            " [6] \u001b[1m(::IJulia.##13#16)\u001b[22m\u001b[22m\u001b[1m(\u001b[22m\u001b[22m\u001b[1m)\u001b[22m\u001b[22m at \u001b[1m.\\task.jl:335\u001b[22m\u001b[22m"
          ]
        }
      ],
      "execution_count": 25,
      "metadata": {
        "ExecuteTime": {
          "end_time": "2018-09-22T15:57:27.779000-03:00",
          "start_time": "2018-09-22T18:57:27.658Z"
        }
      }
    },
    {
      "cell_type": "markdown",
      "source": [
        "## Compute fixed point:"
      ],
      "metadata": {}
    },
    {
      "cell_type": "code",
      "source": [
        "include(\"../julia/aguirregabiria_core.jl\")\n",
        "@time V, policy, error = compute_fixed_point(V_0, price_grid, simplex3d)"
      ],
      "outputs": [
        {
          "output_type": "error",
          "ename": "LoadError",
          "evalue": "\u001b[91mUndefVarError: simplex3d not defined\u001b[39m",
          "traceback": [
            "\u001b[91mUndefVarError: simplex3d not defined\u001b[39m",
            "",
            "Stacktrace:",
            " [1] \u001b[1minclude_string\u001b[22m\u001b[22m\u001b[1m(\u001b[22m\u001b[22m::String, ::String\u001b[1m)\u001b[22m\u001b[22m at \u001b[1m.\\loading.jl:522\u001b[22m\u001b[22m",
            " [2] \u001b[1mexecute_request\u001b[22m\u001b[22m\u001b[1m(\u001b[22m\u001b[22m::ZMQ.Socket, ::IJulia.Msg\u001b[1m)\u001b[22m\u001b[22m at \u001b[1mC:\\Users\\gballari\\.julia\\v0.6\\IJulia\\src\\execute_request.jl:193\u001b[22m\u001b[22m",
            " [3] \u001b[1m(::Compat.#inner#6{Array{Any,1},IJulia.#execute_request,Tuple{ZMQ.Socket,IJulia.Msg}})\u001b[22m\u001b[22m\u001b[1m(\u001b[22m\u001b[22m\u001b[1m)\u001b[22m\u001b[22m at \u001b[1mC:\\Users\\gballari\\.julia\\v0.6\\Compat\\src\\Compat.jl:189\u001b[22m\u001b[22m",
            " [4] \u001b[1meventloop\u001b[22m\u001b[22m\u001b[1m(\u001b[22m\u001b[22m::ZMQ.Socket\u001b[1m)\u001b[22m\u001b[22m at \u001b[1mC:\\Users\\gballari\\.julia\\v0.6\\IJulia\\src\\eventloop.jl:8\u001b[22m\u001b[22m",
            " [5] \u001b[1m(::IJulia.##13#16)\u001b[22m\u001b[22m\u001b[1m(\u001b[22m\u001b[22m\u001b[1m)\u001b[22m\u001b[22m at \u001b[1m.\\task.jl:335\u001b[22m\u001b[22m"
          ]
        }
      ],
      "execution_count": 26,
      "metadata": {
        "ExecuteTime": {
          "end_time": "2018-09-22T16:02:05.293000-03:00",
          "start_time": "2018-09-22T19:00:12.639Z"
        }
      }
    },
    {
      "cell_type": "code",
      "source": [
        "policy"
      ],
      "outputs": [
        {
          "output_type": "error",
          "ename": "LoadError",
          "evalue": "\u001b[91mUndefVarError: policy not defined\u001b[39m",
          "traceback": [
            "\u001b[91mUndefVarError: policy not defined\u001b[39m",
            "",
            "Stacktrace:",
            " [1] \u001b[1minclude_string\u001b[22m\u001b[22m\u001b[1m(\u001b[22m\u001b[22m::String, ::String\u001b[1m)\u001b[22m\u001b[22m at \u001b[1m.\\loading.jl:522\u001b[22m\u001b[22m",
            " [2] \u001b[1mexecute_request\u001b[22m\u001b[22m\u001b[1m(\u001b[22m\u001b[22m::ZMQ.Socket, ::IJulia.Msg\u001b[1m)\u001b[22m\u001b[22m at \u001b[1mC:\\Users\\gballari\\.julia\\v0.6\\IJulia\\src\\execute_request.jl:193\u001b[22m\u001b[22m",
            " [3] \u001b[1m(::Compat.#inner#6{Array{Any,1},IJulia.#execute_request,Tuple{ZMQ.Socket,IJulia.Msg}})\u001b[22m\u001b[22m\u001b[1m(\u001b[22m\u001b[22m\u001b[1m)\u001b[22m\u001b[22m at \u001b[1mC:\\Users\\gballari\\.julia\\v0.6\\Compat\\src\\Compat.jl:189\u001b[22m\u001b[22m",
            " [4] \u001b[1meventloop\u001b[22m\u001b[22m\u001b[1m(\u001b[22m\u001b[22m::ZMQ.Socket\u001b[1m)\u001b[22m\u001b[22m at \u001b[1mC:\\Users\\gballari\\.julia\\v0.6\\IJulia\\src\\eventloop.jl:8\u001b[22m\u001b[22m",
            " [5] \u001b[1m(::IJulia.##13#16)\u001b[22m\u001b[22m\u001b[1m(\u001b[22m\u001b[22m\u001b[1m)\u001b[22m\u001b[22m at \u001b[1m.\\task.jl:335\u001b[22m\u001b[22m"
          ]
        }
      ],
      "execution_count": 27,
      "metadata": {
        "ExecuteTime": {
          "end_time": "2018-09-22T16:08:59.092000-03:00",
          "start_time": "2018-09-22T19:08:59.089Z"
        }
      }
    },
    {
      "cell_type": "markdown",
      "source": [
        "## Plotting of results"
      ],
      "metadata": {}
    },
    {
      "cell_type": "code",
      "source": [
        "lambdas_selected = [[0.0, 0.5, 0.5],\n",
        "                    [0.1, 0.5, 0.4],\n",
        "                    [0.2, 0.5, 0.3],\n",
        "                    [0.3, 0.5, 0.2],\n",
        "                    [0.4, 0.5, 0.1],\n",
        "                    [0.5, 0.4, 0.1],\n",
        "                    [0.6, 0.3, 0.1],\n",
        "                    [0.7, 0.2, 0.1],\n",
        "                    [0.8, 0.1, 0.1],\n",
        "                    [0.9, 0.1, 0.0],\n",
        "                    [1.0, 0.0, 0.0]]\n",
        "\n",
        "valuef_values = V.(lambdas_selected)\n",
        "plot(0:0.1:1, valuef_values, size=(1800, 1200))"
      ],
      "outputs": [
        {
          "output_type": "error",
          "ename": "LoadError",
          "evalue": "\u001b[91mUndefVarError: V not defined\u001b[39m",
          "traceback": [
            "\u001b[91mUndefVarError: V not defined\u001b[39m",
            "",
            "Stacktrace:",
            " [1] \u001b[1minclude_string\u001b[22m\u001b[22m\u001b[1m(\u001b[22m\u001b[22m::String, ::String\u001b[1m)\u001b[22m\u001b[22m at \u001b[1m.\\loading.jl:522\u001b[22m\u001b[22m",
            " [2] \u001b[1mexecute_request\u001b[22m\u001b[22m\u001b[1m(\u001b[22m\u001b[22m::ZMQ.Socket, ::IJulia.Msg\u001b[1m)\u001b[22m\u001b[22m at \u001b[1mC:\\Users\\gballari\\.julia\\v0.6\\IJulia\\src\\execute_request.jl:193\u001b[22m\u001b[22m",
            " [3] \u001b[1m(::Compat.#inner#6{Array{Any,1},IJulia.#execute_request,Tuple{ZMQ.Socket,IJulia.Msg}})\u001b[22m\u001b[22m\u001b[1m(\u001b[22m\u001b[22m\u001b[1m)\u001b[22m\u001b[22m at \u001b[1mC:\\Users\\gballari\\.julia\\v0.6\\Compat\\src\\Compat.jl:189\u001b[22m\u001b[22m",
            " [4] \u001b[1meventloop\u001b[22m\u001b[22m\u001b[1m(\u001b[22m\u001b[22m::ZMQ.Socket\u001b[1m)\u001b[22m\u001b[22m at \u001b[1mC:\\Users\\gballari\\.julia\\v0.6\\IJulia\\src\\eventloop.jl:8\u001b[22m\u001b[22m",
            " [5] \u001b[1m(::IJulia.##13#16)\u001b[22m\u001b[22m\u001b[1m(\u001b[22m\u001b[22m\u001b[1m)\u001b[22m\u001b[22m at \u001b[1m.\\task.jl:335\u001b[22m\u001b[22m"
          ]
        }
      ],
      "execution_count": 28,
      "metadata": {
        "ExecuteTime": {
          "end_time": "2018-09-22T19:18:17.901000-03:00",
          "start_time": "2018-09-22T22:18:17.846Z"
        }
      }
    },
    {
      "cell_type": "code",
      "source": [
        "lambdas_selected = [[1.0, 0., 0.],\n",
        "                    [0.9, 0.1, 0.],\n",
        "                    [0.8, 0.2, 0.],\n",
        "                    [0.7, 0.1, 0.1],\n",
        "                    [0.6, 0.2, 0.2],\n",
        "                    [0.5, 0.1, 0.4],\n",
        "                    [0.4, 0.2, 0.4],\n",
        "                    [0.3, 0.1, 0.6],\n",
        "                    [0.2, 0.2, 0.6],\n",
        "                    [0.1, 0.1, 0.8],\n",
        "                    [0., 0.1, 0.9]]\n",
        "\n",
        "valuef_values = V.(lambdas_selected)\n",
        "plot(0:0.1:1, valuef_values, size=(1200, 1000))"
      ],
      "outputs": [
        {
          "output_type": "error",
          "ename": "LoadError",
          "evalue": "\u001b[91mUndefVarError: V not defined\u001b[39m",
          "traceback": [
            "\u001b[91mUndefVarError: V not defined\u001b[39m",
            "",
            "Stacktrace:",
            " [1] \u001b[1minclude_string\u001b[22m\u001b[22m\u001b[1m(\u001b[22m\u001b[22m::String, ::String\u001b[1m)\u001b[22m\u001b[22m at \u001b[1m.\\loading.jl:522\u001b[22m\u001b[22m",
            " [2] \u001b[1mexecute_request\u001b[22m\u001b[22m\u001b[1m(\u001b[22m\u001b[22m::ZMQ.Socket, ::IJulia.Msg\u001b[1m)\u001b[22m\u001b[22m at \u001b[1mC:\\Users\\gballari\\.julia\\v0.6\\IJulia\\src\\execute_request.jl:193\u001b[22m\u001b[22m",
            " [3] \u001b[1m(::Compat.#inner#6{Array{Any,1},IJulia.#execute_request,Tuple{ZMQ.Socket,IJulia.Msg}})\u001b[22m\u001b[22m\u001b[1m(\u001b[22m\u001b[22m\u001b[1m)\u001b[22m\u001b[22m at \u001b[1mC:\\Users\\gballari\\.julia\\v0.6\\Compat\\src\\Compat.jl:189\u001b[22m\u001b[22m",
            " [4] \u001b[1meventloop\u001b[22m\u001b[22m\u001b[1m(\u001b[22m\u001b[22m::ZMQ.Socket\u001b[1m)\u001b[22m\u001b[22m at \u001b[1mC:\\Users\\gballari\\.julia\\v0.6\\IJulia\\src\\eventloop.jl:8\u001b[22m\u001b[22m",
            " [5] \u001b[1m(::IJulia.##13#16)\u001b[22m\u001b[22m\u001b[1m(\u001b[22m\u001b[22m\u001b[1m)\u001b[22m\u001b[22m at \u001b[1m.\\task.jl:335\u001b[22m\u001b[22m"
          ]
        }
      ],
      "execution_count": 29,
      "metadata": {
        "ExecuteTime": {
          "end_time": "2018-09-22T16:34:09.319000-03:00",
          "start_time": "2018-09-22T19:34:09.293Z"
        }
      }
    },
    {
      "cell_type": "code",
      "source": [
        "# -- original code --\n",
        "#\n",
        "# def optimized_period_profit(lambdas):\n",
        "#     opt_p = myopic_price(lambdas)\n",
        "#     E_β = src.exp_b_from_lambdas(lambdas, const.betas_transition)\n",
        "#     logq = const.α + E_β*np.log(opt_p)\n",
        "#\n",
        "#     return (opt_p-const.c)*np.e**logq\n",
        "\n",
        "function optimized_period_profit(lambdas)\n",
        "    opt_p = myopic_price(lambdas)\n",
        "    E_beta = dot(lambdas, betas_transition)\n",
        "    logq  = alpha + E_beta*log(opt_p)\n",
        "    \n",
        "    return (opt_p-c)*exp(logq)\n",
        "end\n",
        "\n",
        "lambdas_selected_3d = [[0.0, 0.5, 0.5],\n",
        "                        [0.1, 0.5, 0.4],\n",
        "                        [0.2, 0.5, 0.2],\n",
        "                        [0.3, 0.5, 0.2],\n",
        "                        [0.4, 0.5, 0.1],\n",
        "                        [0.5, 0.4, 0.1],\n",
        "                        [0.6, 0.3, 0.1],\n",
        "                        [0.7, 0.2, 0.1],\n",
        "                        [0.8, 0.1, 0.1],\n",
        "                        [0.9, 0.1, 0.0],\n",
        "                        [1.0, 0.0, 0.0]]\n",
        "\n",
        "profit_values = optimized_period_profit.(lambdas_selected_3d)\n",
        "plot(0:0.1:1, profit_values)"
      ],
      "outputs": [
        {
          "output_type": "error",
          "ename": "LoadError",
          "evalue": "\u001b[91mUndefVarError: plot not defined\u001b[39m",
          "traceback": [
            "\u001b[91mUndefVarError: plot not defined\u001b[39m",
            "",
            "Stacktrace:",
            " [1] \u001b[1minclude_string\u001b[22m\u001b[22m\u001b[1m(\u001b[22m\u001b[22m::String, ::String\u001b[1m)\u001b[22m\u001b[22m at \u001b[1m.\\loading.jl:522\u001b[22m\u001b[22m",
            " [2] \u001b[1mexecute_request\u001b[22m\u001b[22m\u001b[1m(\u001b[22m\u001b[22m::ZMQ.Socket, ::IJulia.Msg\u001b[1m)\u001b[22m\u001b[22m at \u001b[1mC:\\Users\\gballari\\.julia\\v0.6\\IJulia\\src\\execute_request.jl:193\u001b[22m\u001b[22m",
            " [3] \u001b[1m(::Compat.#inner#6{Array{Any,1},IJulia.#execute_request,Tuple{ZMQ.Socket,IJulia.Msg}})\u001b[22m\u001b[22m\u001b[1m(\u001b[22m\u001b[22m\u001b[1m)\u001b[22m\u001b[22m at \u001b[1mC:\\Users\\gballari\\.julia\\v0.6\\Compat\\src\\Compat.jl:189\u001b[22m\u001b[22m",
            " [4] \u001b[1meventloop\u001b[22m\u001b[22m\u001b[1m(\u001b[22m\u001b[22m::ZMQ.Socket\u001b[1m)\u001b[22m\u001b[22m at \u001b[1mC:\\Users\\gballari\\.julia\\v0.6\\IJulia\\src\\eventloop.jl:8\u001b[22m\u001b[22m",
            " [5] \u001b[1m(::IJulia.##13#16)\u001b[22m\u001b[22m\u001b[1m(\u001b[22m\u001b[22m\u001b[1m)\u001b[22m\u001b[22m at \u001b[1m.\\task.jl:335\u001b[22m\u001b[22m"
          ]
        }
      ],
      "execution_count": 30,
      "metadata": {
        "ExecuteTime": {
          "end_time": "2018-09-22T16:24:39.898000-03:00",
          "start_time": "2018-09-22T19:24:39.831Z"
        }
      }
    },
    {
      "cell_type": "code",
      "source": [],
      "outputs": [],
      "execution_count": null,
      "metadata": {}
    }
  ],
  "metadata": {
    "kernelspec": {
      "name": "julia-0.6",
      "language": "julia",
      "display_name": "Julia 0.6.4"
    },
    "language_info": {
      "file_extension": ".jl",
      "name": "julia",
      "mimetype": "application/julia",
      "version": "0.6.4"
    },
    "toc": {
      "nav_menu": {},
      "number_sections": true,
      "sideBar": true,
      "skip_h1_title": false,
      "toc_cell": false,
      "toc_position": {},
      "toc_section_display": "block",
      "toc_window_display": false
    },
    "varInspector": {
      "cols": {
        "lenName": 16,
        "lenType": 16,
        "lenVar": 40
      },
      "kernels_config": {
        "python": {
          "delete_cmd_postfix": "",
          "delete_cmd_prefix": "del ",
          "library": "var_list.py",
          "varRefreshCmd": "print(var_dic_list())"
        },
        "r": {
          "delete_cmd_postfix": ") ",
          "delete_cmd_prefix": "rm(",
          "library": "var_list.r",
          "varRefreshCmd": "cat(var_dic_list()) "
        }
      },
      "types_to_exclude": [
        "module",
        "function",
        "builtin_function_or_method",
        "instance",
        "_Feature"
      ],
      "window_display": false
    },
    "kernel_info": {
      "name": "julia-0.6"
    },
    "nteract": {
      "version": "0.11.7"
    }
  },
  "nbformat": 4,
  "nbformat_minor": 2
}