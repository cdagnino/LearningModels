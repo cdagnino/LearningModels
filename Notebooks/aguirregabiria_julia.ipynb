{
 "cells": [
  {
   "cell_type": "code",
   "execution_count": 1,
   "metadata": {},
   "outputs": [
    {
     "data": {
      "text/plain": [
       "compute_fixed_point (generic function with 1 method)"
      ]
     },
     "execution_count": 1,
     "metadata": {},
     "output_type": "execute_result"
    }
   ],
   "source": [
    "using Plots; gr()\n",
    "include(\"../julia/aguirregabiria_core.jl\")"
   ]
  },
  {
   "cell_type": "code",
   "execution_count": 2,
   "metadata": {},
   "outputs": [
    {
     "data": {
      "text/plain": [
       "1.0e-5"
      ]
     },
     "execution_count": 2,
     "metadata": {},
     "output_type": "execute_result"
    }
   ],
   "source": [
    "#=\n",
    "length_of_price_grid = 10\n",
    "min_price, max_price = 0.5, 1.5\n",
    "n_of_lambdas_per_dim = 3\n",
    "max_iters            = 3\n",
    "error_tol            = 1e-5\n",
    "=#\n",
    "\n",
    "length_of_price_grid = 20\n",
    "min_price, max_price = 0.5, 1.5\n",
    "n_of_lambdas_per_dim = 5\n",
    "error_tol            = 1e-5"
   ]
  },
  {
   "cell_type": "code",
   "execution_count": 3,
   "metadata": {},
   "outputs": [
    {
     "data": {
      "text/plain": [
       "0.5:0.05263157894736842:1.5"
      ]
     },
     "execution_count": 3,
     "metadata": {},
     "output_type": "execute_result"
    }
   ],
   "source": [
    "price_grid = linspace(min_price, max_price, length_of_price_grid)"
   ]
  },
  {
   "cell_type": "code",
   "execution_count": 4,
   "metadata": {},
   "outputs": [
    {
     "data": {
      "text/plain": [
       "15×3 Array{Float64,2}:\n",
       " 0.0   0.0   1.0 \n",
       " 0.0   0.25  0.75\n",
       " 0.0   0.5   0.5 \n",
       " 0.0   0.75  0.25\n",
       " 0.0   1.0   0.0 \n",
       " 0.25  0.0   0.75\n",
       " 0.25  0.25  0.5 \n",
       " 0.25  0.5   0.25\n",
       " 0.25  0.75  0.0 \n",
       " 0.5   0.0   0.5 \n",
       " 0.5   0.25  0.25\n",
       " 0.5   0.5   0.0 \n",
       " 0.75  0.0   0.25\n",
       " 0.75  0.25  0.0 \n",
       " 1.0   0.0   0.0 "
      ]
     },
     "execution_count": 4,
     "metadata": {},
     "output_type": "execute_result"
    }
   ],
   "source": [
    "simplex3d = generate_simplex_3dims(n_of_lambdas_per_dim)"
   ]
  },
  {
   "cell_type": "markdown",
   "metadata": {},
   "source": [
    "## Testing interpolation:"
   ]
  },
  {
   "cell_type": "code",
   "execution_count": 5,
   "metadata": {},
   "outputs": [
    {
     "data": {
      "text/html": [
       "1 method for generic function <b>interpolate_V</b>:<ul><li> (::<b>#interpolate_V#7</b>)(x) at <a href=\"https://github.com/cdagnino/LearningModels/tree/bf88ac443901967eee5185a1b1af90440286d6ad//julia/aguirregabiria_core.jl#L40\" target=\"_blank\">/Users/giovannib/Documents/GitHub/LearningModels/julia/aguirregabiria_core.jl:40</a></li> </ul>"
      ],
      "text/plain": [
       "# 1 method for generic function \"(::interpolate_V)\":\n",
       "(::#interpolate_V#7)(x) in Main at /Users/giovannib/Documents/GitHub/LearningModels/julia/aguirregabiria_core.jl:40"
      ]
     },
     "execution_count": 5,
     "metadata": {},
     "output_type": "execute_result"
    }
   ],
   "source": [
    "V0 = [2; ones(size(simplex3d,1)-1)]\n",
    "#tmp_interpV = interpV(simplex3d, simplex3d[:,1])\n",
    "tmp_interpV = interpV(simplex3d, V0)\n",
    "methods(tmp_interpV)"
   ]
  },
  {
   "cell_type": "code",
   "execution_count": 6,
   "metadata": {},
   "outputs": [
    {
     "data": {
      "text/plain": [
       "15×2 Array{Float64,2}:\n",
       " 2.0  2.0\n",
       " 1.0  1.0\n",
       " 1.0  1.0\n",
       " 1.0  1.0\n",
       " 1.0  1.0\n",
       " 1.0  1.0\n",
       " 1.0  1.0\n",
       " 1.0  1.0\n",
       " 1.0  1.0\n",
       " 1.0  1.0\n",
       " 1.0  1.0\n",
       " 1.0  1.0\n",
       " 1.0  1.0\n",
       " 1.0  1.0\n",
       " 1.0  1.0"
      ]
     },
     "execution_count": 6,
     "metadata": {},
     "output_type": "execute_result"
    }
   ],
   "source": [
    "tmp_V = zeros(size(simplex3d,1))\n",
    "for i in 1:size(simplex3d,1)\n",
    "    tmp_V[i] = tmp_interpV(simplex3d[i,:])\n",
    "end\n",
    "hcat(V0, tmp_V)"
   ]
  },
  {
   "cell_type": "code",
   "execution_count": 7,
   "metadata": {},
   "outputs": [
    {
     "data": {
      "text/plain": [
       "11×11 Array{Float64,2}:\n",
       " 2.0  1.6  1.2  1.0  1.0  1.0  1.0  1.0  1.0  1.0  1.0\n",
       " 1.6  1.2  1.0  1.0  1.0  1.0  1.0  1.0  1.0  1.0  0.6\n",
       " 1.2  1.0  1.0  1.0  1.0  1.0  1.0  1.0  1.0  0.6  0.2\n",
       " 1.0  1.0  1.0  1.0  1.0  1.0  1.0  1.0  0.6  0.2  0.0\n",
       " 1.0  1.0  1.0  1.0  1.0  1.0  1.0  0.6  0.2  0.0  0.0\n",
       " 1.0  1.0  1.0  1.0  1.0  1.0  0.6  0.2  0.0  0.0  0.0\n",
       " 1.0  1.0  1.0  1.0  1.0  0.6  0.2  0.0  0.0  0.0  0.0\n",
       " 1.0  1.0  1.0  1.0  0.6  0.2  0.0  0.0  0.0  0.0  0.0\n",
       " 1.0  1.0  1.0  0.6  0.2  0.0  0.0  0.0  0.0  0.0  0.0\n",
       " 1.0  1.0  0.6  0.2  0.0  0.0  0.0  0.0  0.0  0.0  0.0\n",
       " 1.0  0.6  0.2  0.0  0.0  0.0  0.0  0.0  0.0  0.0  0.0"
      ]
     },
     "execution_count": 7,
     "metadata": {},
     "output_type": "execute_result"
    }
   ],
   "source": [
    "tmp_V = zeros(11,11)\n",
    "for (i1, x1) in enumerate(0.0:0.1:1.0)\n",
    "    for (i2, x2) in enumerate(0.0:0.1:1.0)\n",
    "        tmp_V[i1,i2] = tmp_interpV([x1, x2])\n",
    "    end\n",
    "end\n",
    "tmp_V"
   ]
  },
  {
   "cell_type": "markdown",
   "metadata": {},
   "source": [
    "## Test `period_return()` :"
   ]
  },
  {
   "cell_type": "code",
   "execution_count": 8,
   "metadata": {},
   "outputs": [
    {
     "data": {
      "text/plain": [
       "3-element Array{Float64,1}:\n",
       " 0.2\n",
       " 0.7\n",
       " 0.1"
      ]
     },
     "execution_count": 8,
     "metadata": {},
     "output_type": "execute_result"
    }
   ],
   "source": [
    "include(\"../julia/aguirregabiria_core.jl\")\n",
    "# lambdas is always a vector of size n_of_lambdas_per_dim\n",
    "test_lambdas = [0.2, 0.7, 0.1]"
   ]
  },
  {
   "cell_type": "code",
   "execution_count": 9,
   "metadata": {},
   "outputs": [
    {
     "data": {
      "text/plain": [
       "0.0:0.16211667625884374:3.080216848918031"
      ]
     },
     "execution_count": 9,
     "metadata": {},
     "output_type": "execute_result"
    }
   ],
   "source": [
    "constant_part = (price_grid - c) * exp(alpha + (sigma_eps^2)/2)"
   ]
  },
  {
   "cell_type": "code",
   "execution_count": 10,
   "metadata": {},
   "outputs": [
    {
     "data": {
      "text/plain": [
       "20-element Array{Float64,1}:\n",
       " 0.0     \n",
       " 0.566615\n",
       " 0.935309\n",
       " 1.17663 \n",
       " 1.33369 \n",
       " 1.43378 \n",
       " 1.49468 \n",
       " 1.52829 \n",
       " 1.54269 \n",
       " 1.5435  \n",
       " 1.5347  \n",
       " 1.51911 \n",
       " 1.49877 \n",
       " 1.47515 \n",
       " 1.44935 \n",
       " 1.42216 \n",
       " 1.39418 \n",
       " 1.36583 \n",
       " 1.33745 \n",
       " 1.30927 "
      ]
     },
     "execution_count": 10,
     "metadata": {},
     "output_type": "execute_result"
    }
   ],
   "source": [
    "summation = exp.(log.(price_grid)*betas_transition' * test_lambdas)\n",
    "constant_part .* summation"
   ]
  },
  {
   "cell_type": "code",
   "execution_count": 11,
   "metadata": {},
   "outputs": [
    {
     "data": {
      "text/plain": [
       "2-element Array{Float64,1}:\n",
       " 1.54703\n",
       " 1.54011"
      ]
     },
     "execution_count": 11,
     "metadata": {},
     "output_type": "execute_result"
    }
   ],
   "source": [
    "period_return([0.9, 1], test_lambdas)"
   ]
  },
  {
   "cell_type": "markdown",
   "metadata": {},
   "source": [
    "## Test `dmd_transition_fs()`, `belief()`, `update_lambdas()` :"
   ]
  },
  {
   "cell_type": "code",
   "execution_count": 12,
   "metadata": {},
   "outputs": [
    {
     "data": {
      "text/plain": [
       "3-element Array{Float64,1}:\n",
       " 0.275406\n",
       " 0.658411\n",
       " 0.725042"
      ]
     },
     "execution_count": 12,
     "metadata": {},
     "output_type": "execute_result"
    }
   ],
   "source": [
    "include(\"../julia/aguirregabiria_core.jl\")\n",
    "dmd_transition_fs(1, 1.2, 1)"
   ]
  },
  {
   "cell_type": "code",
   "execution_count": 13,
   "metadata": {},
   "outputs": [
    {
     "data": {
      "text/plain": [
       "0.5884734620669838"
      ]
     },
     "execution_count": 13,
     "metadata": {},
     "output_type": "execute_result"
    }
   ],
   "source": [
    "belief(1, 1.2, 1, test_lambdas)"
   ]
  },
  {
   "cell_type": "code",
   "execution_count": 14,
   "metadata": {},
   "outputs": [
    {
     "data": {
      "text/plain": [
       "3-element Array{Float64,1}:\n",
       " 6.88419e-5\n",
       " 0.820924  \n",
       " 0.179007  "
      ]
     },
     "execution_count": 14,
     "metadata": {},
     "output_type": "execute_result"
    }
   ],
   "source": [
    "update_lambdas(0.3, 2, 1, test_lambdas)"
   ]
  },
  {
   "cell_type": "markdown",
   "metadata": {},
   "source": [
    "## Build `V0` :"
   ]
  },
  {
   "cell_type": "code",
   "execution_count": 15,
   "metadata": {},
   "outputs": [
    {
     "data": {
      "text/plain": [
       "0.9504504504504505"
      ]
     },
     "execution_count": 15,
     "metadata": {},
     "output_type": "execute_result"
    }
   ],
   "source": [
    "optimal_price = myopic_price(test_lambdas)"
   ]
  },
  {
   "cell_type": "code",
   "execution_count": 16,
   "metadata": {},
   "outputs": [
    {
     "data": {
      "text/plain": [
       "V_0 (generic function with 1 method)"
      ]
     },
     "execution_count": 16,
     "metadata": {},
     "output_type": "execute_result"
    }
   ],
   "source": [
    "function V_0(x) \n",
    "    optimal_price = myopic_price(x)\n",
    "    return period_return(optimal_price, x)\n",
    "end"
   ]
  },
  {
   "cell_type": "code",
   "execution_count": 17,
   "metadata": {},
   "outputs": [
    {
     "data": {
      "image/svg+xml": [
       "<?xml version=\"1.0\" encoding=\"utf-8\"?>\n",
       "<svg xmlns=\"http://www.w3.org/2000/svg\" xmlns:xlink=\"http://www.w3.org/1999/xlink\" width=\"600\" height=\"400\" viewBox=\"0 0 600 400\">\n",
       "<defs>\n",
       "  <clipPath id=\"clip9500\">\n",
       "    <rect x=\"0\" y=\"0\" width=\"600\" height=\"400\"/>\n",
       "  </clipPath>\n",
       "</defs>\n",
       "<polygon clip-path=\"url(#clip9500)\" points=\"\n",
       "0,400 600,400 600,0 0,0 \n",
       "  \" fill=\"#ffffff\" fill-opacity=\"1\"/>\n",
       "<defs>\n",
       "  <clipPath id=\"clip9501\">\n",
       "    <rect x=\"120\" y=\"0\" width=\"421\" height=\"400\"/>\n",
       "  </clipPath>\n",
       "</defs>\n",
       "<polygon clip-path=\"url(#clip9500)\" points=\"\n",
       "47.0391,375.869 580.315,375.869 580.315,11.811 47.0391,11.811 \n",
       "  \" fill=\"#ffffff\" fill-opacity=\"1\"/>\n",
       "<defs>\n",
       "  <clipPath id=\"clip9502\">\n",
       "    <rect x=\"47\" y=\"11\" width=\"534\" height=\"365\"/>\n",
       "  </clipPath>\n",
       "</defs>\n",
       "<polyline clip-path=\"url(#clip9502)\" style=\"stroke:#000000; stroke-width:0.5; stroke-opacity:0.1; fill:none\" points=\"\n",
       "  62.1318,375.869 62.1318,11.811 \n",
       "  \"/>\n",
       "<polyline clip-path=\"url(#clip9502)\" style=\"stroke:#000000; stroke-width:0.5; stroke-opacity:0.1; fill:none\" points=\"\n",
       "  187.904,375.869 187.904,11.811 \n",
       "  \"/>\n",
       "<polyline clip-path=\"url(#clip9502)\" style=\"stroke:#000000; stroke-width:0.5; stroke-opacity:0.1; fill:none\" points=\"\n",
       "  313.677,375.869 313.677,11.811 \n",
       "  \"/>\n",
       "<polyline clip-path=\"url(#clip9502)\" style=\"stroke:#000000; stroke-width:0.5; stroke-opacity:0.1; fill:none\" points=\"\n",
       "  439.45,375.869 439.45,11.811 \n",
       "  \"/>\n",
       "<polyline clip-path=\"url(#clip9502)\" style=\"stroke:#000000; stroke-width:0.5; stroke-opacity:0.1; fill:none\" points=\"\n",
       "  565.222,375.869 565.222,11.811 \n",
       "  \"/>\n",
       "<polyline clip-path=\"url(#clip9502)\" style=\"stroke:#000000; stroke-width:0.5; stroke-opacity:0.1; fill:none\" points=\"\n",
       "  47.0391,297.498 580.315,297.498 \n",
       "  \"/>\n",
       "<polyline clip-path=\"url(#clip9502)\" style=\"stroke:#000000; stroke-width:0.5; stroke-opacity:0.1; fill:none\" points=\"\n",
       "  47.0391,216.401 580.315,216.401 \n",
       "  \"/>\n",
       "<polyline clip-path=\"url(#clip9502)\" style=\"stroke:#000000; stroke-width:0.5; stroke-opacity:0.1; fill:none\" points=\"\n",
       "  47.0391,135.304 580.315,135.304 \n",
       "  \"/>\n",
       "<polyline clip-path=\"url(#clip9502)\" style=\"stroke:#000000; stroke-width:0.5; stroke-opacity:0.1; fill:none\" points=\"\n",
       "  47.0391,54.2072 580.315,54.2072 \n",
       "  \"/>\n",
       "<polyline clip-path=\"url(#clip9500)\" style=\"stroke:#000000; stroke-width:1; stroke-opacity:1; fill:none\" points=\"\n",
       "  47.0391,375.869 580.315,375.869 \n",
       "  \"/>\n",
       "<polyline clip-path=\"url(#clip9500)\" style=\"stroke:#000000; stroke-width:1; stroke-opacity:1; fill:none\" points=\"\n",
       "  47.0391,375.869 47.0391,11.811 \n",
       "  \"/>\n",
       "<polyline clip-path=\"url(#clip9500)\" style=\"stroke:#000000; stroke-width:1; stroke-opacity:1; fill:none\" points=\"\n",
       "  62.1318,375.869 62.1318,370.408 \n",
       "  \"/>\n",
       "<polyline clip-path=\"url(#clip9500)\" style=\"stroke:#000000; stroke-width:1; stroke-opacity:1; fill:none\" points=\"\n",
       "  187.904,375.869 187.904,370.408 \n",
       "  \"/>\n",
       "<polyline clip-path=\"url(#clip9500)\" style=\"stroke:#000000; stroke-width:1; stroke-opacity:1; fill:none\" points=\"\n",
       "  313.677,375.869 313.677,370.408 \n",
       "  \"/>\n",
       "<polyline clip-path=\"url(#clip9500)\" style=\"stroke:#000000; stroke-width:1; stroke-opacity:1; fill:none\" points=\"\n",
       "  439.45,375.869 439.45,370.408 \n",
       "  \"/>\n",
       "<polyline clip-path=\"url(#clip9500)\" style=\"stroke:#000000; stroke-width:1; stroke-opacity:1; fill:none\" points=\"\n",
       "  565.222,375.869 565.222,370.408 \n",
       "  \"/>\n",
       "<polyline clip-path=\"url(#clip9500)\" style=\"stroke:#000000; stroke-width:1; stroke-opacity:1; fill:none\" points=\"\n",
       "  47.0391,297.498 55.0382,297.498 \n",
       "  \"/>\n",
       "<polyline clip-path=\"url(#clip9500)\" style=\"stroke:#000000; stroke-width:1; stroke-opacity:1; fill:none\" points=\"\n",
       "  47.0391,216.401 55.0382,216.401 \n",
       "  \"/>\n",
       "<polyline clip-path=\"url(#clip9500)\" style=\"stroke:#000000; stroke-width:1; stroke-opacity:1; fill:none\" points=\"\n",
       "  47.0391,135.304 55.0382,135.304 \n",
       "  \"/>\n",
       "<polyline clip-path=\"url(#clip9500)\" style=\"stroke:#000000; stroke-width:1; stroke-opacity:1; fill:none\" points=\"\n",
       "  47.0391,54.2072 55.0382,54.2072 \n",
       "  \"/>\n",
       "<g clip-path=\"url(#clip9500)\">\n",
       "<text style=\"fill:#000000; fill-opacity:1; font-family:Arial,Helvetica Neue,Helvetica,sans-serif; font-size:12; text-anchor:middle;\" transform=\"rotate(0, 62.1318, 389.669)\" x=\"62.1318\" y=\"389.669\">0.00</text>\n",
       "</g>\n",
       "<g clip-path=\"url(#clip9500)\">\n",
       "<text style=\"fill:#000000; fill-opacity:1; font-family:Arial,Helvetica Neue,Helvetica,sans-serif; font-size:12; text-anchor:middle;\" transform=\"rotate(0, 187.904, 389.669)\" x=\"187.904\" y=\"389.669\">0.25</text>\n",
       "</g>\n",
       "<g clip-path=\"url(#clip9500)\">\n",
       "<text style=\"fill:#000000; fill-opacity:1; font-family:Arial,Helvetica Neue,Helvetica,sans-serif; font-size:12; text-anchor:middle;\" transform=\"rotate(0, 313.677, 389.669)\" x=\"313.677\" y=\"389.669\">0.50</text>\n",
       "</g>\n",
       "<g clip-path=\"url(#clip9500)\">\n",
       "<text style=\"fill:#000000; fill-opacity:1; font-family:Arial,Helvetica Neue,Helvetica,sans-serif; font-size:12; text-anchor:middle;\" transform=\"rotate(0, 439.45, 389.669)\" x=\"439.45\" y=\"389.669\">0.75</text>\n",
       "</g>\n",
       "<g clip-path=\"url(#clip9500)\">\n",
       "<text style=\"fill:#000000; fill-opacity:1; font-family:Arial,Helvetica Neue,Helvetica,sans-serif; font-size:12; text-anchor:middle;\" transform=\"rotate(0, 565.222, 389.669)\" x=\"565.222\" y=\"389.669\">1.00</text>\n",
       "</g>\n",
       "<g clip-path=\"url(#clip9500)\">\n",
       "<text style=\"fill:#000000; fill-opacity:1; font-family:Arial,Helvetica Neue,Helvetica,sans-serif; font-size:12; text-anchor:end;\" transform=\"rotate(0, 41.0391, 301.998)\" x=\"41.0391\" y=\"301.998\">1.75</text>\n",
       "</g>\n",
       "<g clip-path=\"url(#clip9500)\">\n",
       "<text style=\"fill:#000000; fill-opacity:1; font-family:Arial,Helvetica Neue,Helvetica,sans-serif; font-size:12; text-anchor:end;\" transform=\"rotate(0, 41.0391, 220.901)\" x=\"41.0391\" y=\"220.901\">2.00</text>\n",
       "</g>\n",
       "<g clip-path=\"url(#clip9500)\">\n",
       "<text style=\"fill:#000000; fill-opacity:1; font-family:Arial,Helvetica Neue,Helvetica,sans-serif; font-size:12; text-anchor:end;\" transform=\"rotate(0, 41.0391, 139.804)\" x=\"41.0391\" y=\"139.804\">2.25</text>\n",
       "</g>\n",
       "<g clip-path=\"url(#clip9500)\">\n",
       "<text style=\"fill:#000000; fill-opacity:1; font-family:Arial,Helvetica Neue,Helvetica,sans-serif; font-size:12; text-anchor:end;\" transform=\"rotate(0, 41.0391, 58.7072)\" x=\"41.0391\" y=\"58.7072\">2.50</text>\n",
       "</g>\n",
       "<polyline clip-path=\"url(#clip9502)\" style=\"stroke:#009af9; stroke-width:1; stroke-opacity:1; fill:none\" points=\"\n",
       "  62.1318,305.224 112.441,350.705 162.75,365.565 213.059,351.461 263.368,317.416 313.677,278.236 363.986,232.797 414.295,183.543 464.604,132.257 514.913,73.5533 \n",
       "  565.222,22.1145 \n",
       "  \"/>\n",
       "<polygon clip-path=\"url(#clip9500)\" points=\"\n",
       "489.608,62.931 562.315,62.931 562.315,32.691 489.608,32.691 \n",
       "  \" fill=\"#ffffff\" fill-opacity=\"1\"/>\n",
       "<polyline clip-path=\"url(#clip9500)\" style=\"stroke:#000000; stroke-width:1; stroke-opacity:1; fill:none\" points=\"\n",
       "  489.608,62.931 562.315,62.931 562.315,32.691 489.608,32.691 489.608,62.931 \n",
       "  \"/>\n",
       "<polyline clip-path=\"url(#clip9500)\" style=\"stroke:#009af9; stroke-width:1; stroke-opacity:1; fill:none\" points=\"\n",
       "  495.608,47.811 531.608,47.811 \n",
       "  \"/>\n",
       "<g clip-path=\"url(#clip9500)\">\n",
       "<text style=\"fill:#000000; fill-opacity:1; font-family:Arial,Helvetica Neue,Helvetica,sans-serif; font-size:12; text-anchor:start;\" transform=\"rotate(0, 537.608, 52.311)\" x=\"537.608\" y=\"52.311\">y1</text>\n",
       "</g>\n",
       "</svg>\n"
      ]
     },
     "execution_count": 17,
     "metadata": {},
     "output_type": "execute_result"
    }
   ],
   "source": [
    "lambdas_selected = [[0.0, 0.5, 0.5],\n",
    "                    [0.1, 0.5, 0.4],\n",
    "                    [0.2, 0.5, 0.3],\n",
    "                    [0.3, 0.5, 0.2],\n",
    "                    [0.4, 0.5, 0.1],\n",
    "                    [0.5, 0.4, 0.1],\n",
    "                    [0.6, 0.3, 0.1],\n",
    "                    [0.7, 0.2, 0.1],\n",
    "                    [0.8, 0.1, 0.1],\n",
    "                    [0.9, 0.1, 0.0],\n",
    "                    [1.0, 0.0, 0.0]]\n",
    "\n",
    "V_0_values = V_0.(lambdas_selected)\n",
    "plot(0:0.1:1, V_0_values)"
   ]
  },
  {
   "cell_type": "markdown",
   "metadata": {},
   "source": [
    "## Test `E0fV(Vguess, price_grid, lambda_weights)` :"
   ]
  },
  {
   "cell_type": "code",
   "execution_count": 18,
   "metadata": {},
   "outputs": [
    {
     "data": {
      "text/plain": [
       "integrand (generic function with 1 method)"
      ]
     },
     "execution_count": 18,
     "metadata": {},
     "output_type": "execute_result"
    }
   ],
   "source": [
    "new_lambdas(x) = update_lambdas(x, price_grid[1], ~, test_lambdas)\n",
    "new_belief(x)  = belief(x, price_grid[1], ~, test_lambdas)\n",
    "integrand(x) = V_0(new_lambdas(x)) * new_belief(x)"
   ]
  },
  {
   "cell_type": "code",
   "execution_count": 19,
   "metadata": {},
   "outputs": [
    {
     "data": {
      "text/plain": [
       "1.5464000419924135"
      ]
     },
     "execution_count": 19,
     "metadata": {},
     "output_type": "execute_result"
    }
   ],
   "source": [
    "V_0(test_lambdas)"
   ]
  },
  {
   "cell_type": "code",
   "execution_count": 20,
   "metadata": {},
   "outputs": [
    {
     "data": {
      "text/plain": [
       "0.09156848098729656"
      ]
     },
     "execution_count": 20,
     "metadata": {},
     "output_type": "execute_result"
    }
   ],
   "source": [
    "logd_min, logd_max = -6, 2.3\n",
    "integrand(1)"
   ]
  },
  {
   "cell_type": "code",
   "execution_count": 21,
   "metadata": {},
   "outputs": [
    {
     "data": {
      "text/plain": [
       "0.8078026050330478"
      ]
     },
     "execution_count": 21,
     "metadata": {},
     "output_type": "execute_result"
    }
   ],
   "source": [
    "A = quadgk(integrand, logd_min, logd_max, maxevals=250)[1]"
   ]
  },
  {
   "cell_type": "code",
   "execution_count": 22,
   "metadata": {},
   "outputs": [
    {
     "name": "stdout",
     "output_type": "stream",
     "text": [
      "  0.802905 seconds (623.90 k allocations: 24.378 MiB, 1.25% gc time)\n"
     ]
    },
    {
     "data": {
      "text/plain": [
       "20-element Array{Float64,1}:\n",
       " 0.807803\n",
       " 0.95716 \n",
       " 1.08021 \n",
       " 1.19653 \n",
       " 1.31751 \n",
       " 1.42379 \n",
       " 1.49327 \n",
       " 1.52538 \n",
       " 1.53486 \n",
       " 1.53735 \n",
       " 1.54227 \n",
       " 1.55264 \n",
       " 1.5677  \n",
       " 1.58559 \n",
       " 1.60463 \n",
       " 1.62368 \n",
       " 1.64201 \n",
       " 1.65921 \n",
       " 1.67509 \n",
       " 1.68956 "
      ]
     },
     "execution_count": 22,
     "metadata": {},
     "output_type": "execute_result"
    }
   ],
   "source": [
    "include(\"../julia/aguirregabiria_core.jl\")\n",
    "@time A = E0fV(V_0, price_grid, test_lambdas)"
   ]
  },
  {
   "cell_type": "markdown",
   "metadata": {},
   "source": [
    "## Test `bellman_operator(Vguess, price_grid, lambda_simplex)` :"
   ]
  },
  {
   "cell_type": "code",
   "execution_count": 23,
   "metadata": {},
   "outputs": [
    {
     "name": "stdout",
     "output_type": "stream",
     "text": [
      "  2.538190 seconds (6.49 M allocations: 218.072 MiB, 3.37% gc time)\n"
     ]
    },
    {
     "data": {
      "text/plain": [
       "(interpolate_V, [1.5, 1.5, 1.5, 1.39474, 1.23684, 1.5, 1.5, 1.5, 0.921053, 0.868421, 0.868421, 0.868421, 0.868421, 0.868421, 0.868421])"
      ]
     },
     "execution_count": 23,
     "metadata": {},
     "output_type": "execute_result"
    }
   ],
   "source": [
    "include(\"../julia/aguirregabiria_core.jl\")\n",
    "@time T_V, policy = bellman_operator(V_0, price_grid, simplex3d)"
   ]
  },
  {
   "cell_type": "code",
   "execution_count": 24,
   "metadata": {},
   "outputs": [
    {
     "data": {
      "text/plain": [
       "3.1953917860936847"
      ]
     },
     "execution_count": 24,
     "metadata": {},
     "output_type": "execute_result"
    }
   ],
   "source": [
    "T_V([0.4, 0.2, 0.4])"
   ]
  },
  {
   "cell_type": "code",
   "execution_count": 25,
   "metadata": {},
   "outputs": [
    {
     "name": "stdout",
     "output_type": "stream",
     "text": [
      "3.747664691399904\n",
      "3.4873902158753785\n",
      "3.276647533937669\n",
      "3.109491141280661\n",
      "3.004168122556239\n",
      "3.3595569286831006\n",
      "3.1503154627726584\n",
      "2.9845283443803012\n",
      "2.97487024900338\n",
      "3.1952336080777175\n",
      "3.2405471984226946\n",
      "3.2965291899843336\n",
      "3.6456009998113093\n",
      "3.714603848101699\n",
      "4.169196620086549\n"
     ]
    }
   ],
   "source": [
    "for i in 1:size(simplex3d, 1)\n",
    "    println(T_V(simplex3d[i,:]))\n",
    "end"
   ]
  },
  {
   "cell_type": "markdown",
   "metadata": {},
   "source": [
    "## Compute fixed point:"
   ]
  },
  {
   "cell_type": "code",
   "execution_count": 30,
   "metadata": {},
   "outputs": [
    {
     "name": "stdout",
     "output_type": "stream",
     "text": [
      "Computed iterate 1 with error 22.9940\n",
      " !-- elapsed time: 1.861817936 seconds\n",
      "Computed iterate 3 with error 18.1514\n",
      " !-- elapsed time: 2.35529506 seconds\n",
      "Computed iterate 5 with error 14.4468\n",
      " !-- elapsed time: 2.374315783 seconds\n",
      "Computed iterate 7 with error 11.5319\n",
      " !-- elapsed time: 2.443083135 seconds\n",
      "Computed iterate 9 with error 9.2315\n",
      " !-- elapsed time: 2.379261092 seconds\n",
      "Computed iterate 11 with error 7.3935\n",
      " !-- elapsed time: 2.287492834 seconds\n",
      "Computed iterate 13 with error 5.9384\n",
      " !-- elapsed time: 2.296833595 seconds\n",
      "Computed iterate 15 with error 4.7777\n",
      " !-- elapsed time: 2.324465729 seconds\n",
      "Computed iterate 17 with error 3.8463\n",
      " !-- elapsed time: 2.554932041 seconds\n",
      "Computed iterate 19 with error 3.0976\n",
      " !-- elapsed time: 2.470094633 seconds\n",
      "Computed iterate 21 with error 2.4953\n",
      " !-- elapsed time: 2.207997938 seconds\n",
      "Computed iterate 23 with error 2.0105\n",
      " !-- elapsed time: 2.509212943 seconds\n",
      "Computed iterate 25 with error 1.6201\n",
      " !-- elapsed time: 2.338097244 seconds\n",
      "Computed iterate 27 with error 1.3057\n",
      " !-- elapsed time: 2.519497255 seconds\n",
      "Computed iterate 29 with error 1.0523\n",
      " !-- elapsed time: 2.358167979 seconds\n"
     ]
    },
    {
     "ename": "LoadError",
     "evalue": "\u001b[91mAssertionError: error < 10.0 ^ -4\u001b[39m",
     "output_type": "error",
     "traceback": [
      "\u001b[91mAssertionError: error < 10.0 ^ -4\u001b[39m",
      "",
      "Stacktrace:",
      " [1] \u001b[1mE0fV\u001b[22m\u001b[22m\u001b[1m(\u001b[22m\u001b[22m::#interpolate_V#85{StepRangeLen{Float64,Base.TwicePrecision{Float64},Base.TwicePrecision{Float64}},Array{Float64,2}}, ::StepRangeLen{Float64,Base.TwicePrecision{Float64},Base.TwicePrecision{Float64}}, ::Array{Float64,1}\u001b[1m)\u001b[22m\u001b[22m at \u001b[1m/Users/giovannib/Documents/GitHub/LearningModels/julia/aguirregabiria_core.jl:107\u001b[22m\u001b[22m",
      " [2] \u001b[1mbellman_operator\u001b[22m\u001b[22m\u001b[1m(\u001b[22m\u001b[22m::Function, ::StepRangeLen{Float64,Base.TwicePrecision{Float64},Base.TwicePrecision{Float64}}, ::Array{Float64,2}\u001b[1m)\u001b[22m\u001b[22m at \u001b[1m/Users/giovannib/Documents/GitHub/LearningModels/julia/aguirregabiria_core.jl:130\u001b[22m\u001b[22m",
      " [3] \u001b[1m#compute_fixed_point#91\u001b[22m\u001b[22m\u001b[1m(\u001b[22m\u001b[22m::Float64, ::Int64, ::Int64, ::Int64, ::Function, ::#V_0, ::StepRangeLen{Float64,Base.TwicePrecision{Float64},Base.TwicePrecision{Float64}}, ::Array{Float64,2}\u001b[1m)\u001b[22m\u001b[22m at \u001b[1m/Users/giovannib/Documents/GitHub/LearningModels/julia/aguirregabiria_core.jl:156\u001b[22m\u001b[22m",
      " [4] \u001b[1mcompute_fixed_point\u001b[22m\u001b[22m\u001b[1m(\u001b[22m\u001b[22m::Function, ::StepRangeLen{Float64,Base.TwicePrecision{Float64},Base.TwicePrecision{Float64}}, ::Array{Float64,2}\u001b[1m)\u001b[22m\u001b[22m at \u001b[1m/Users/giovannib/Documents/GitHub/LearningModels/julia/aguirregabiria_core.jl:148\u001b[22m\u001b[22m",
      " [5] \u001b[1minclude_string\u001b[22m\u001b[22m\u001b[1m(\u001b[22m\u001b[22m::String, ::String\u001b[1m)\u001b[22m\u001b[22m at \u001b[1m./loading.jl:522\u001b[22m\u001b[22m",
      " [6] \u001b[1mexecute_request\u001b[22m\u001b[22m\u001b[1m(\u001b[22m\u001b[22m::ZMQ.Socket, ::IJulia.Msg\u001b[1m)\u001b[22m\u001b[22m at \u001b[1m/Users/giovannib/.julia/v0.6/IJulia/src/execute_request.jl:193\u001b[22m\u001b[22m",
      " [7] \u001b[1m(::Compat.#inner#14{Array{Any,1},IJulia.#execute_request,Tuple{ZMQ.Socket,IJulia.Msg}})\u001b[22m\u001b[22m\u001b[1m(\u001b[22m\u001b[22m\u001b[1m)\u001b[22m\u001b[22m at \u001b[1m/Users/giovannib/.julia/v0.6/Compat/src/Compat.jl:332\u001b[22m\u001b[22m",
      " [8] \u001b[1meventloop\u001b[22m\u001b[22m\u001b[1m(\u001b[22m\u001b[22m::ZMQ.Socket\u001b[1m)\u001b[22m\u001b[22m at \u001b[1m/Users/giovannib/.julia/v0.6/IJulia/src/eventloop.jl:8\u001b[22m\u001b[22m",
      " [9] \u001b[1m(::IJulia.##13#16)\u001b[22m\u001b[22m\u001b[1m(\u001b[22m\u001b[22m\u001b[1m)\u001b[22m\u001b[22m at \u001b[1m./task.jl:335\u001b[22m\u001b[22m"
     ]
    }
   ],
   "source": [
    "include(\"../julia/aguirregabiria_core.jl\")\n",
    "@time V, policy, error = compute_fixed_point(V_0, price_grid, simplex3d)"
   ]
  },
  {
   "cell_type": "code",
   "execution_count": 27,
   "metadata": {},
   "outputs": [
    {
     "data": {
      "text/plain": [
       "15-element Array{Float64,1}:\n",
       " 1.5     \n",
       " 1.5     \n",
       " 1.5     \n",
       " 1.39474 \n",
       " 1.23684 \n",
       " 1.5     \n",
       " 1.5     \n",
       " 1.5     \n",
       " 0.921053\n",
       " 0.868421\n",
       " 0.868421\n",
       " 0.868421\n",
       " 0.868421\n",
       " 0.868421\n",
       " 0.868421"
      ]
     },
     "execution_count": 27,
     "metadata": {},
     "output_type": "execute_result"
    }
   ],
   "source": [
    "policy"
   ]
  },
  {
   "cell_type": "markdown",
   "metadata": {},
   "source": [
    "## Plotting of results"
   ]
  },
  {
   "cell_type": "code",
   "execution_count": 28,
   "metadata": {},
   "outputs": [
    {
     "ename": "LoadError",
     "evalue": "\u001b[91mUndefVarError: V not defined\u001b[39m",
     "output_type": "error",
     "traceback": [
      "\u001b[91mUndefVarError: V not defined\u001b[39m",
      "",
      "Stacktrace:",
      " [1] \u001b[1minclude_string\u001b[22m\u001b[22m\u001b[1m(\u001b[22m\u001b[22m::String, ::String\u001b[1m)\u001b[22m\u001b[22m at \u001b[1m./loading.jl:522\u001b[22m\u001b[22m",
      " [2] \u001b[1mexecute_request\u001b[22m\u001b[22m\u001b[1m(\u001b[22m\u001b[22m::ZMQ.Socket, ::IJulia.Msg\u001b[1m)\u001b[22m\u001b[22m at \u001b[1m/Users/giovannib/.julia/v0.6/IJulia/src/execute_request.jl:193\u001b[22m\u001b[22m",
      " [3] \u001b[1m(::Compat.#inner#14{Array{Any,1},IJulia.#execute_request,Tuple{ZMQ.Socket,IJulia.Msg}})\u001b[22m\u001b[22m\u001b[1m(\u001b[22m\u001b[22m\u001b[1m)\u001b[22m\u001b[22m at \u001b[1m/Users/giovannib/.julia/v0.6/Compat/src/Compat.jl:332\u001b[22m\u001b[22m",
      " [4] \u001b[1meventloop\u001b[22m\u001b[22m\u001b[1m(\u001b[22m\u001b[22m::ZMQ.Socket\u001b[1m)\u001b[22m\u001b[22m at \u001b[1m/Users/giovannib/.julia/v0.6/IJulia/src/eventloop.jl:8\u001b[22m\u001b[22m",
      " [5] \u001b[1m(::IJulia.##13#16)\u001b[22m\u001b[22m\u001b[1m(\u001b[22m\u001b[22m\u001b[1m)\u001b[22m\u001b[22m at \u001b[1m./task.jl:335\u001b[22m\u001b[22m"
     ]
    }
   ],
   "source": [
    "lambdas_selected = [[0.0, 0.5, 0.5],\n",
    "                    [0.1, 0.5, 0.4],\n",
    "                    [0.2, 0.5, 0.3],\n",
    "                    [0.3, 0.5, 0.2],\n",
    "                    [0.4, 0.5, 0.1],\n",
    "                    [0.5, 0.4, 0.1],\n",
    "                    [0.6, 0.3, 0.1],\n",
    "                    [0.7, 0.2, 0.1],\n",
    "                    [0.8, 0.1, 0.1],\n",
    "                    [0.9, 0.1, 0.0],\n",
    "                    [1.0, 0.0, 0.0]]\n",
    "\n",
    "valuef_values = V.(lambdas_selected)\n",
    "plot(0:0.1:1, valuef_values)"
   ]
  },
  {
   "cell_type": "code",
   "execution_count": 29,
   "metadata": {},
   "outputs": [
    {
     "data": {
      "image/svg+xml": [
       "<?xml version=\"1.0\" encoding=\"utf-8\"?>\n",
       "<svg xmlns=\"http://www.w3.org/2000/svg\" xmlns:xlink=\"http://www.w3.org/1999/xlink\" width=\"600\" height=\"400\" viewBox=\"0 0 600 400\">\n",
       "<defs>\n",
       "  <clipPath id=\"clip9700\">\n",
       "    <rect x=\"0\" y=\"0\" width=\"600\" height=\"400\"/>\n",
       "  </clipPath>\n",
       "</defs>\n",
       "<polygon clip-path=\"url(#clip9700)\" points=\"\n",
       "0,400 600,400 600,0 0,0 \n",
       "  \" fill=\"#ffffff\" fill-opacity=\"1\"/>\n",
       "<defs>\n",
       "  <clipPath id=\"clip9701\">\n",
       "    <rect x=\"120\" y=\"0\" width=\"421\" height=\"400\"/>\n",
       "  </clipPath>\n",
       "</defs>\n",
       "<polygon clip-path=\"url(#clip9700)\" points=\"\n",
       "40.3485,375.869 580.315,375.869 580.315,11.811 40.3485,11.811 \n",
       "  \" fill=\"#ffffff\" fill-opacity=\"1\"/>\n",
       "<defs>\n",
       "  <clipPath id=\"clip9702\">\n",
       "    <rect x=\"40\" y=\"11\" width=\"541\" height=\"365\"/>\n",
       "  </clipPath>\n",
       "</defs>\n",
       "<polyline clip-path=\"url(#clip9702)\" style=\"stroke:#000000; stroke-width:0.5; stroke-opacity:0.1; fill:none\" points=\"\n",
       "  55.6306,375.869 55.6306,11.811 \n",
       "  \"/>\n",
       "<polyline clip-path=\"url(#clip9702)\" style=\"stroke:#000000; stroke-width:0.5; stroke-opacity:0.1; fill:none\" points=\"\n",
       "  182.981,375.869 182.981,11.811 \n",
       "  \"/>\n",
       "<polyline clip-path=\"url(#clip9702)\" style=\"stroke:#000000; stroke-width:0.5; stroke-opacity:0.1; fill:none\" points=\"\n",
       "  310.332,375.869 310.332,11.811 \n",
       "  \"/>\n",
       "<polyline clip-path=\"url(#clip9702)\" style=\"stroke:#000000; stroke-width:0.5; stroke-opacity:0.1; fill:none\" points=\"\n",
       "  437.682,375.869 437.682,11.811 \n",
       "  \"/>\n",
       "<polyline clip-path=\"url(#clip9702)\" style=\"stroke:#000000; stroke-width:0.5; stroke-opacity:0.1; fill:none\" points=\"\n",
       "  565.033,375.869 565.033,11.811 \n",
       "  \"/>\n",
       "<polyline clip-path=\"url(#clip9702)\" style=\"stroke:#000000; stroke-width:0.5; stroke-opacity:0.1; fill:none\" points=\"\n",
       "  40.3485,352.087 580.315,352.087 \n",
       "  \"/>\n",
       "<polyline clip-path=\"url(#clip9702)\" style=\"stroke:#000000; stroke-width:0.5; stroke-opacity:0.1; fill:none\" points=\"\n",
       "  40.3485,278.23 580.315,278.23 \n",
       "  \"/>\n",
       "<polyline clip-path=\"url(#clip9702)\" style=\"stroke:#000000; stroke-width:0.5; stroke-opacity:0.1; fill:none\" points=\"\n",
       "  40.3485,204.374 580.315,204.374 \n",
       "  \"/>\n",
       "<polyline clip-path=\"url(#clip9702)\" style=\"stroke:#000000; stroke-width:0.5; stroke-opacity:0.1; fill:none\" points=\"\n",
       "  40.3485,130.517 580.315,130.517 \n",
       "  \"/>\n",
       "<polyline clip-path=\"url(#clip9702)\" style=\"stroke:#000000; stroke-width:0.5; stroke-opacity:0.1; fill:none\" points=\"\n",
       "  40.3485,56.661 580.315,56.661 \n",
       "  \"/>\n",
       "<polyline clip-path=\"url(#clip9700)\" style=\"stroke:#000000; stroke-width:1; stroke-opacity:1; fill:none\" points=\"\n",
       "  40.3485,375.869 580.315,375.869 \n",
       "  \"/>\n",
       "<polyline clip-path=\"url(#clip9700)\" style=\"stroke:#000000; stroke-width:1; stroke-opacity:1; fill:none\" points=\"\n",
       "  40.3485,375.869 40.3485,11.811 \n",
       "  \"/>\n",
       "<polyline clip-path=\"url(#clip9700)\" style=\"stroke:#000000; stroke-width:1; stroke-opacity:1; fill:none\" points=\"\n",
       "  55.6306,375.869 55.6306,370.408 \n",
       "  \"/>\n",
       "<polyline clip-path=\"url(#clip9700)\" style=\"stroke:#000000; stroke-width:1; stroke-opacity:1; fill:none\" points=\"\n",
       "  182.981,375.869 182.981,370.408 \n",
       "  \"/>\n",
       "<polyline clip-path=\"url(#clip9700)\" style=\"stroke:#000000; stroke-width:1; stroke-opacity:1; fill:none\" points=\"\n",
       "  310.332,375.869 310.332,370.408 \n",
       "  \"/>\n",
       "<polyline clip-path=\"url(#clip9700)\" style=\"stroke:#000000; stroke-width:1; stroke-opacity:1; fill:none\" points=\"\n",
       "  437.682,375.869 437.682,370.408 \n",
       "  \"/>\n",
       "<polyline clip-path=\"url(#clip9700)\" style=\"stroke:#000000; stroke-width:1; stroke-opacity:1; fill:none\" points=\"\n",
       "  565.033,375.869 565.033,370.408 \n",
       "  \"/>\n",
       "<polyline clip-path=\"url(#clip9700)\" style=\"stroke:#000000; stroke-width:1; stroke-opacity:1; fill:none\" points=\"\n",
       "  40.3485,352.087 48.448,352.087 \n",
       "  \"/>\n",
       "<polyline clip-path=\"url(#clip9700)\" style=\"stroke:#000000; stroke-width:1; stroke-opacity:1; fill:none\" points=\"\n",
       "  40.3485,278.23 48.448,278.23 \n",
       "  \"/>\n",
       "<polyline clip-path=\"url(#clip9700)\" style=\"stroke:#000000; stroke-width:1; stroke-opacity:1; fill:none\" points=\"\n",
       "  40.3485,204.374 48.448,204.374 \n",
       "  \"/>\n",
       "<polyline clip-path=\"url(#clip9700)\" style=\"stroke:#000000; stroke-width:1; stroke-opacity:1; fill:none\" points=\"\n",
       "  40.3485,130.517 48.448,130.517 \n",
       "  \"/>\n",
       "<polyline clip-path=\"url(#clip9700)\" style=\"stroke:#000000; stroke-width:1; stroke-opacity:1; fill:none\" points=\"\n",
       "  40.3485,56.661 48.448,56.661 \n",
       "  \"/>\n",
       "<g clip-path=\"url(#clip9700)\">\n",
       "<text style=\"fill:#000000; fill-opacity:1; font-family:Arial,Helvetica Neue,Helvetica,sans-serif; font-size:12; text-anchor:middle;\" transform=\"rotate(0, 55.6306, 389.669)\" x=\"55.6306\" y=\"389.669\">0.00</text>\n",
       "</g>\n",
       "<g clip-path=\"url(#clip9700)\">\n",
       "<text style=\"fill:#000000; fill-opacity:1; font-family:Arial,Helvetica Neue,Helvetica,sans-serif; font-size:12; text-anchor:middle;\" transform=\"rotate(0, 182.981, 389.669)\" x=\"182.981\" y=\"389.669\">0.25</text>\n",
       "</g>\n",
       "<g clip-path=\"url(#clip9700)\">\n",
       "<text style=\"fill:#000000; fill-opacity:1; font-family:Arial,Helvetica Neue,Helvetica,sans-serif; font-size:12; text-anchor:middle;\" transform=\"rotate(0, 310.332, 389.669)\" x=\"310.332\" y=\"389.669\">0.50</text>\n",
       "</g>\n",
       "<g clip-path=\"url(#clip9700)\">\n",
       "<text style=\"fill:#000000; fill-opacity:1; font-family:Arial,Helvetica Neue,Helvetica,sans-serif; font-size:12; text-anchor:middle;\" transform=\"rotate(0, 437.682, 389.669)\" x=\"437.682\" y=\"389.669\">0.75</text>\n",
       "</g>\n",
       "<g clip-path=\"url(#clip9700)\">\n",
       "<text style=\"fill:#000000; fill-opacity:1; font-family:Arial,Helvetica Neue,Helvetica,sans-serif; font-size:12; text-anchor:middle;\" transform=\"rotate(0, 565.033, 389.669)\" x=\"565.033\" y=\"389.669\">1.00</text>\n",
       "</g>\n",
       "<g clip-path=\"url(#clip9700)\">\n",
       "<text style=\"fill:#000000; fill-opacity:1; font-family:Arial,Helvetica Neue,Helvetica,sans-serif; font-size:12; text-anchor:end;\" transform=\"rotate(0, 34.3485, 356.587)\" x=\"34.3485\" y=\"356.587\">1.4</text>\n",
       "</g>\n",
       "<g clip-path=\"url(#clip9700)\">\n",
       "<text style=\"fill:#000000; fill-opacity:1; font-family:Arial,Helvetica Neue,Helvetica,sans-serif; font-size:12; text-anchor:end;\" transform=\"rotate(0, 34.3485, 282.73)\" x=\"34.3485\" y=\"282.73\">1.6</text>\n",
       "</g>\n",
       "<g clip-path=\"url(#clip9700)\">\n",
       "<text style=\"fill:#000000; fill-opacity:1; font-family:Arial,Helvetica Neue,Helvetica,sans-serif; font-size:12; text-anchor:end;\" transform=\"rotate(0, 34.3485, 208.874)\" x=\"34.3485\" y=\"208.874\">1.8</text>\n",
       "</g>\n",
       "<g clip-path=\"url(#clip9700)\">\n",
       "<text style=\"fill:#000000; fill-opacity:1; font-family:Arial,Helvetica Neue,Helvetica,sans-serif; font-size:12; text-anchor:end;\" transform=\"rotate(0, 34.3485, 135.017)\" x=\"34.3485\" y=\"135.017\">2.0</text>\n",
       "</g>\n",
       "<g clip-path=\"url(#clip9700)\">\n",
       "<text style=\"fill:#000000; fill-opacity:1; font-family:Arial,Helvetica Neue,Helvetica,sans-serif; font-size:12; text-anchor:end;\" transform=\"rotate(0, 34.3485, 61.161)\" x=\"34.3485\" y=\"61.161\">2.2</text>\n",
       "</g>\n",
       "<polyline clip-path=\"url(#clip9702)\" style=\"stroke:#009af9; stroke-width:1; stroke-opacity:1; fill:none\" points=\"\n",
       "  55.6306,310.511 106.571,356.444 157.511,365.565 208.451,357.849 259.392,334.143 310.332,305.503 361.272,269.029 412.212,224.651 463.152,171.985 514.093,95.7462 \n",
       "  565.033,22.1145 \n",
       "  \"/>\n",
       "<polygon clip-path=\"url(#clip9700)\" points=\"\n",
       "489.608,62.931 562.315,62.931 562.315,32.691 489.608,32.691 \n",
       "  \" fill=\"#ffffff\" fill-opacity=\"1\"/>\n",
       "<polyline clip-path=\"url(#clip9700)\" style=\"stroke:#000000; stroke-width:1; stroke-opacity:1; fill:none\" points=\"\n",
       "  489.608,62.931 562.315,62.931 562.315,32.691 489.608,32.691 489.608,62.931 \n",
       "  \"/>\n",
       "<polyline clip-path=\"url(#clip9700)\" style=\"stroke:#009af9; stroke-width:1; stroke-opacity:1; fill:none\" points=\"\n",
       "  495.608,47.811 531.608,47.811 \n",
       "  \"/>\n",
       "<g clip-path=\"url(#clip9700)\">\n",
       "<text style=\"fill:#000000; fill-opacity:1; font-family:Arial,Helvetica Neue,Helvetica,sans-serif; font-size:12; text-anchor:start;\" transform=\"rotate(0, 537.608, 52.311)\" x=\"537.608\" y=\"52.311\">y1</text>\n",
       "</g>\n",
       "</svg>\n"
      ]
     },
     "execution_count": 29,
     "metadata": {},
     "output_type": "execute_result"
    }
   ],
   "source": [
    "# -- original code --\n",
    "#\n",
    "# def optimized_period_profit(lambdas):\n",
    "#     opt_p = myopic_price(lambdas)\n",
    "#     E_β = src.exp_b_from_lambdas(lambdas, const.betas_transition)\n",
    "#     logq = const.α + E_β*np.log(opt_p)\n",
    "#\n",
    "#     return (opt_p-const.c)*np.e**logq\n",
    "\n",
    "function optimized_period_profit(lambdas)\n",
    "    opt_p = myopic_price(lambdas)\n",
    "    E_beta = dot(lambdas, betas_transition)\n",
    "    logq  = alpha + E_beta*log(opt_p)\n",
    "    \n",
    "    return (opt_p-c)*exp(logq)\n",
    "end\n",
    "\n",
    "lambdas_selected_3d = [[0.0, 0.5, 0.5],\n",
    "                        [0.1, 0.5, 0.4],\n",
    "                        [0.2, 0.5, 0.2],\n",
    "                        [0.3, 0.5, 0.2],\n",
    "                        [0.4, 0.5, 0.1],\n",
    "                        [0.5, 0.4, 0.1],\n",
    "                        [0.6, 0.3, 0.1],\n",
    "                        [0.7, 0.2, 0.1],\n",
    "                        [0.8, 0.1, 0.1],\n",
    "                        [0.9, 0.1, 0.0],\n",
    "                        [1.0, 0.0, 0.0]]\n",
    "\n",
    "profit_values = optimized_period_profit.(lambdas_selected_3d)\n",
    "plot(0:0.1:1, profit_values)"
   ]
  },
  {
   "cell_type": "code",
   "execution_count": null,
   "metadata": {},
   "outputs": [],
   "source": []
  }
 ],
 "metadata": {
  "kernelspec": {
   "display_name": "Julia 0.6.4",
   "language": "julia",
   "name": "julia-0.6"
  },
  "language_info": {
   "file_extension": ".jl",
   "mimetype": "application/julia",
   "name": "julia",
   "version": "0.6.4"
  }
 },
 "nbformat": 4,
 "nbformat_minor": 2
}
