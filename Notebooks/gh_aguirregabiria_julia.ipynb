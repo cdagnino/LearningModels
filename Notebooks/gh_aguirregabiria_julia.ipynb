{
  "cells": [
    {
      "cell_type": "markdown",
      "source": [
        "### Gauss-Hermite integration for Aguirregabria model"
      ],
      "metadata": {}
    },
    {
      "cell_type": "markdown",
      "source": [
        "We begin by integrating the custom Gauss-Hermite integration step into the standard \"serial\" code:"
      ],
      "metadata": {}
    },
    {
      "cell_type": "code",
      "source": [
        "using Plots; pyplot()\n",
        "using FastGaussQuadrature\n",
        "include(\"../julia/aguirregabiria_core.jl\")"
      ],
      "outputs": [
        {
          "output_type": "execute_result",
          "execution_count": 27,
          "data": {
            "text/plain": [
              "compute_fixed_point (generic function with 1 method)"
            ]
          },
          "metadata": {}
        }
      ],
      "execution_count": 27,
      "metadata": {}
    },
    {
      "cell_type": "markdown",
      "source": [
        "Notes:\n",
        "\n",
        "1. GPU kernel will **not** perform interpolation\n",
        "2. Integration with Gauss-Hermite is inlined"
      ],
      "metadata": {}
    },
    {
      "cell_type": "code",
      "source": [
        "dmd_tf(x,y,z) = 1/sqrt(2*pi*sigma_eps^2)*exp.(-(x-(alpha+betas_transition.*log(y))).^2./(2*sigma_eps^2))"
      ],
      "outputs": [
        {
          "output_type": "execute_result",
          "execution_count": 2,
          "data": {
            "text/plain": [
              "dmd_tf (generic function with 1 method)"
            ]
          },
          "metadata": {}
        }
      ],
      "execution_count": 2,
      "metadata": {
        "inputHidden": false,
        "outputHidden": false
      }
    },
    {
      "cell_type": "code",
      "source": [
        "@time dmd_transition_fs(1, 2, 1)"
      ],
      "outputs": [
        {
          "output_type": "stream",
          "name": "stdout",
          "text": [
            "  0.162142 seconds (104.15 k allocations: 6.029 MiB)\n"
          ]
        },
        {
          "output_type": "execute_result",
          "execution_count": 3,
          "data": {
            "text/plain": [
              "3-element Array{Float64,1}:\n",
              " 1.67834e-7\n",
              " 0.0496474 \n",
              " 0.199988  "
            ]
          },
          "metadata": {}
        }
      ],
      "execution_count": 3,
      "metadata": {
        "inputHidden": false,
        "outputHidden": false
      }
    },
    {
      "cell_type": "code",
      "source": [
        "@time dmd_tf(1, 2, 1)"
      ],
      "outputs": [
        {
          "output_type": "stream",
          "name": "stdout",
          "text": [
            "  2.973709 seconds (978.88 k allocations: 51.580 MiB, 0.73% gc time)\n"
          ]
        },
        {
          "output_type": "execute_result",
          "execution_count": 4,
          "data": {
            "text/plain": [
              "3-element Array{Float64,1}:\n",
              " 1.67834e-7\n",
              " 0.0496474 \n",
              " 0.199988  "
            ]
          },
          "metadata": {}
        }
      ],
      "execution_count": 4,
      "metadata": {
        "inputHidden": false,
        "outputHidden": false
      }
    },
    {
      "cell_type": "code",
      "source": [
        "lambdas      = generate_simplex_3dims(5)\n",
        "n_price_grid = 20\n",
        "min_price    = 0.5\n",
        "max_price    = 1.5\n",
        "price_grid   = linspace(min_price, max_price, n_price_grid)\n",
        "\n",
        "function V_0(x) \n",
        "    optimal_price = myopic_price(x)\n",
        "    return period_return(optimal_price, x)\n",
        "end"
      ],
      "outputs": [
        {
          "output_type": "execute_result",
          "execution_count": 2,
          "data": {
            "text/plain": [
              "V_0 (generic function with 1 method)"
            ]
          },
          "metadata": {}
        }
      ],
      "execution_count": 2,
      "metadata": {
        "inputHidden": false,
        "outputHidden": false
      }
    },
    {
      "cell_type": "code",
      "source": [
        "function rescale_demand(d, beta_l, price)\n",
        "    # Rescales demand to use Gauss-Hermite \n",
        "    # collocation points.\n",
        "    mu = alpha + beta_l*log.(price)\n",
        "    \n",
        "    return (sqrt(2)*sigma_eps*d + mu)\n",
        "end\n",
        "\n",
        "function adv_bellman_operator(Vguess, price_grid, lambda_simplex)\n",
        "    \n",
        "    policy = zeros(size(lambda_simplex, 1))\n",
        "    T_V    = zeros(size(lambda_simplex, 1))\n",
        "\n",
        "    # 1. Go over grid of state space\n",
        "    # 2. Write objective (present return + delta*eOfV)\n",
        "    # 3. Find optimal p on that objective\n",
        "    # 4. Write optimal p and value function on that point in the grid\n",
        "    \n",
        "    GHx, GHw = gausshermite(25)\n",
        "    \n",
        "    for index in 1:size(lambda_simplex, 1)\n",
        "        \n",
        "        lw = lambda_simplex[index, :]\n",
        "        \n",
        "        # Compute period returns\n",
        "        R = period_return(price_grid, lw)\n",
        "        \n",
        "        # Compute the expectation integral of V0\n",
        "        E0fV_p = zeros(price_grid)\n",
        "        \n",
        "        for (i, price) in enumerate(price_grid)\n",
        "            # Gauss-Hermite integration using pre-computed\n",
        "            # collocations and weights.\n",
        "            sum_over_each_lambda = 0.0\n",
        "            for (l, beta_l) in enumerate(betas_transition)\n",
        "                for (k, hermite_point) in enumerate(GHx)\n",
        "                    rescaled_remand = rescale_demand(hermite_point, beta_l, price)\n",
        "                    new_lw          = update_lambdas(rescaled_remand, price, ~, lw)\n",
        "                    #v_value = f(new_lambdas_val)\n",
        "                    sum_over_each_lambda += Vguess(new_lw)*GHw[k]*lw[l]\n",
        "                end\n",
        "            end\n",
        "            E0fV_p[i] = (1/sqrt(pi) * sum_over_each_lambda)\n",
        "        end\n",
        "        \n",
        "        #println(E0fV_p)\n",
        "            \n",
        "        # Maximize value function\n",
        "        objective_vals = R + (delta *  E0fV_p)\n",
        "            \n",
        "        T_V[index], ind_max = findmax(objective_vals)                       \n",
        "        policy[index] = price_grid[ind_max]\n",
        "\n",
        "    end\n",
        "\n",
        "    # Interpolate\n",
        "    interp_T_V = interpV(lambda_simplex, T_V)\n",
        "\n",
        "    return interp_T_V, policy\n",
        "    \n",
        "end"
      ],
      "outputs": [
        {
          "output_type": "execute_result",
          "execution_count": 3,
          "data": {
            "text/plain": [
              "adv_bellman_operator (generic function with 1 method)"
            ]
          },
          "metadata": {}
        }
      ],
      "execution_count": 3,
      "metadata": {
        "inputHidden": false,
        "outputHidden": false
      }
    },
    {
      "cell_type": "code",
      "source": [
        "@time res_1 = adv_bellman_operator(V_0, price_grid, lambdas)"
      ],
      "outputs": [
        {
          "output_type": "stream",
          "name": "stdout",
          "text": [
            "  0.769450 seconds (2.96 M allocations: 96.181 MiB, 20.67% gc time)\n"
          ]
        },
        {
          "output_type": "execute_result",
          "execution_count": 5,
          "data": {
            "text/plain": [
              "(interpolate_V, [1.5, 1.5, 1.5, 1.39474, 1.23684, 1.5, 1.5, 0.763158, 0.763158, 0.657895, 0.710526, 0.710526, 0.657895, 0.657895, 0.657895])"
            ]
          },
          "metadata": {}
        }
      ],
      "execution_count": 5,
      "metadata": {
        "inputHidden": false,
        "outputHidden": false
      }
    },
    {
      "cell_type": "code",
      "source": [
        "@time res_2 = bellman_operator(V_0, price_grid, lambdas)"
      ],
      "outputs": [
        {
          "output_type": "stream",
          "name": "stdout",
          "text": [
            "  1.647855 seconds (8.43 M allocations: 274.194 MiB)\n"
          ]
        },
        {
          "output_type": "execute_result",
          "execution_count": 7,
          "data": {
            "text/plain": [
              "(interpolate_V, [1.5, 1.5, 1.5, 1.39474, 1.23684, 1.5, 1.5, 0.763158, 0.763158, 0.657895, 0.710526, 0.710526, 0.657895, 0.657895, 0.657895])"
            ]
          },
          "metadata": {}
        }
      ],
      "execution_count": 7,
      "metadata": {
        "inputHidden": false,
        "outputHidden": false
      }
    },
    {
      "cell_type": "code",
      "source": [
        "# Are results (2nd element, vector) identical?\n",
        "res_1 .== res_2"
      ],
      "outputs": [
        {
          "output_type": "execute_result",
          "execution_count": 8,
          "data": {
            "text/plain": [
              "(false, true)"
            ]
          },
          "metadata": {}
        }
      ],
      "execution_count": 8,
      "metadata": {
        "inputHidden": false,
        "outputHidden": false
      }
    },
    {
      "cell_type": "code",
      "source": [
        "function adv_compute_fixed_point(V, price_grid, lambda_simplex; error_tol=1e-5, max_iter=50, verbose=true, skip=10)\n",
        "\n",
        "    iterate = 1\n",
        "    error = error_tol + 1\n",
        "    \n",
        "    policy = similar(price_grid)\n",
        "    error  = Inf\n",
        "\n",
        "    while iterate <= max_iter && error > error_tol\n",
        "        if verbose && (mod(iterate, skip) == 0)\n",
        "            tic()\n",
        "        end\n",
        "\n",
        "        new_V, policy = adv_bellman_operator(V, price_grid, lambda_simplex)\n",
        "                        \n",
        "        # Compute error over simplex:\n",
        "        error = 0\n",
        "        for i in 1:size(lambda_simplex,1)\n",
        "            error += abs(V(lambda_simplex[i,:])-new_V(lambda_simplex[i,:]))\n",
        "        end\n",
        "\n",
        "        V = new_V\n",
        "\n",
        "        if verbose && (mod(iterate, skip) == 0)\n",
        "            println(@sprintf(\"Computed iterate %d with error %.4f\", iterate, error))\n",
        "            print(\" !-- \")\n",
        "            toc()\n",
        "        end\n",
        "                        \n",
        "        iterate += 1                \n",
        "                        \n",
        "    end\n",
        "\n",
        "    return V, policy, error\n",
        "\nend"
      ],
      "outputs": [
        {
          "output_type": "execute_result",
          "execution_count": 9,
          "data": {
            "text/plain": [
              "adv_compute_fixed_point (generic function with 1 method)"
            ]
          },
          "metadata": {}
        }
      ],
      "execution_count": 9,
      "metadata": {
        "inputHidden": false,
        "outputHidden": false
      }
    },
    {
      "cell_type": "code",
      "source": [
        "include(\"../julia/aguirregabiria_core.jl\")\n",
        "@time V, policy, error = adv_compute_fixed_point(V_0, price_grid, lambdas,  max_iter=100, skip=10)"
      ],
      "outputs": [
        {
          "output_type": "stream",
          "name": "stdout",
          "text": [
            "Computed iterate 10 with error 9.9799\n",
            " !-- elapsed time: 0.418435128 seconds\n",
            "Computed iterate 20 with error 3.4806\n",
            " !-- elapsed time: 0.288314251 seconds\n",
            "Computed iterate 30 with error 1.2136\n",
            " !-- elapsed time: 0.27606406 seconds\n",
            "Computed iterate 40 with error 0.4232\n",
            " !-- elapsed time: 0.273962592 seconds\n",
            "Computed iterate 50 with error 0.1476\n",
            " !-- elapsed time: 0.273801107 seconds\n",
            "Computed iterate 60 with error 0.0514\n",
            " !-- elapsed time: 0.273545108 seconds\n",
            "Computed iterate 70 with error 0.0179\n",
            " !-- elapsed time: 0.283636582 seconds\n",
            "Computed iterate 80 with error 0.0063\n",
            " !-- elapsed time: 0.319255678 seconds\n",
            "Computed iterate 90 with error 0.0022\n",
            " !-- elapsed time: 0.283835873 seconds\n",
            "Computed iterate 100 with error 0.0008\n",
            " !-- elapsed time: 0.286930016 seconds\n",
            " 30.652422 seconds (200.35 M allocations: 5.785 GiB, 6.00% gc time)\n"
          ]
        },
        {
          "output_type": "execute_result",
          "execution_count": 37,
          "data": {
            "text/plain": [
              "(interpolate_V, [1.5, 1.5, 1.5, 1.39474, 1.23684, 1.5, 1.5, 0.763158, 0.763158, 0.763158, 0.763158, 0.710526, 0.710526, 0.710526, 0.657895], 0.0007604478456535446)"
            ]
          },
          "metadata": {}
        }
      ],
      "execution_count": 37,
      "metadata": {
        "inputHidden": false,
        "outputHidden": false
      }
    },
    {
      "cell_type": "code",
      "source": [
        "lambdas_selected = [[1.0, 0., 0.],\n",
        "                    [0.9, 0.1, 0.],\n",
        "                    [0.8, 0.2, 0.],\n",
        "                    [0.7, 0.1, 0.1],\n",
        "                    [0.6, 0.2, 0.2],\n",
        "                    [0.5, 0.1, 0.4],\n",
        "                    [0.4, 0.2, 0.4],\n",
        "                    [0.3, 0.1, 0.6],\n",
        "                    [0.2, 0.2, 0.6],\n",
        "                    [0.1, 0.1, 0.8],\n",
        "                    [0., 0.1, 0.9]]\n",
        "\n",
        "valuef_values = V.(lambdas_selected)\n",
        "plot(0:0.1:1, valuef_values)"
      ],
      "outputs": [
        {
          "output_type": "execute_result",
          "execution_count": 12,
          "data": {
            "image/png": "[encoded data removed]"
          },
          "metadata": {}
        }
      ],
      "execution_count": 12,
      "metadata": {}
    },
    {
      "cell_type": "code",
      "source": [
        "lambdas_selected = [[0.0, 0.5, 0.5],\n",
        "                    [0.1, 0.5, 0.4],\n",
        "                    [0.2, 0.5, 0.3],\n",
        "                    [0.3, 0.5, 0.2],\n",
        "                    [0.4, 0.5, 0.1],\n",
        "                    [0.5, 0.4, 0.1],\n",
        "                    [0.6, 0.3, 0.1],\n",
        "                    [0.7, 0.2, 0.1],\n",
        "                    [0.8, 0.1, 0.1],\n",
        "                    [0.9, 0.1, 0.0],\n",
        "                    [1.0, 0.0, 0.0]]\n",
        "\n",
        "valuef_values = V.(lambdas_selected)\n",
        "plot(0:0.1:1, valuef_values)"
      ],
      "outputs": [
        {
          "output_type": "execute_result",
          "execution_count": 13,
          "data": {
            "image/png": "[encoded data removed]"
          },
          "metadata": {}
        }
      ],
      "execution_count": 13,
      "metadata": {}
    },
    {
      "cell_type": "code",
      "source": [
        "# Too long...\n",
        "#@time compute_fixed_point(V_0, price_grid, lambdas, skip=5)"
      ],
      "outputs": [],
      "execution_count": 14,
      "metadata": {}
    },
    {
      "cell_type": "markdown",
      "source": [
        "#### Manual interpolation"
      ],
      "metadata": {}
    },
    {
      "cell_type": "markdown",
      "source": [
        "Test direct linear interpolation over triangular lattice:"
      ],
      "metadata": {}
    },
    {
      "cell_type": "code",
      "source": [
        "function tripolate(V, x, y)\n",
        "    # Triangular (linear) interpolation:\n",
        "    # 0<=|x|<=1, 0<=|y|<=1 and N parition points\n",
        "    # of [0,1] for x, y\n",
        "    N = size(V, 1)-1\n",
        "    xf = Int(floor(N*x))\n",
        "    yf = Int(floor(N*y))\n",
        "    x_ = (N*x - xf)\n",
        "    y_ = (N*y - yf)\n",
        "    if xf + yf <= 1\n",
        "        return V[xf+2,yf+1]*x_ + V[xf+1,yf+2]*y_ + V[xf+1,yf+1]*(1-x_-y_)\n",
        "    else\n",
        "        return V[xf+2,yf+1]*(1-x_) + V[xf+1,yf+2]*(1-y_) - V[xf+1,yf+1]*(1-x_-y_)\n",
        "    end \n",
        "end"
      ],
      "outputs": [
        {
          "output_type": "execute_result",
          "execution_count": 24,
          "data": {
            "text/plain": [
              "tripolate (generic function with 1 method)"
            ]
          },
          "metadata": {}
        }
      ],
      "execution_count": 24,
      "metadata": {
        "collapsed": false,
        "outputHidden": false,
        "inputHidden": false
      }
    },
    {
      "cell_type": "code",
      "source": [
        "V = [1 0.5 0; 0.5 0 0; 0 0 0;]\n",
        "\n@time tripolate(V, 0.3, 0.3)"
      ],
      "outputs": [
        {
          "output_type": "stream",
          "name": "stdout",
          "text": [
            "  0.000004 seconds (5 allocations: 176 bytes)\n"
          ]
        },
        {
          "output_type": "execute_result",
          "execution_count": 36,
          "data": {
            "text/plain": [
              "0.4"
            ]
          },
          "metadata": {}
        }
      ],
      "execution_count": 36,
      "metadata": {
        "collapsed": false,
        "outputHidden": false,
        "inputHidden": false
      }
    },
    {
      "cell_type": "code",
      "source": [
        "simplex = [0.0 0.0; 0.0 0.5;]\n",
        "\n",
        "@time begin \n",
        "    f = interpV(simplex, V)\n",
        "    f([0.3, 0.3, 0.0])\n",
        "end"
      ],
      "outputs": [
        {
          "output_type": "stream",
          "name": "stdout",
          "text": [
            "  0.000041 seconds (50 allocations: 4.031 KiB)\n"
          ]
        },
        {
          "output_type": "execute_result",
          "execution_count": 35,
          "data": {
            "text/plain": [
              "0.39999999999999997"
            ]
          },
          "metadata": {}
        }
      ],
      "execution_count": 35,
      "metadata": {
        "collapsed": false,
        "outputHidden": false,
        "inputHidden": false
      }
    }
  ],
  "metadata": {
    "kernel_info": {
      "name": "julia-0.6"
    },
    "kernelspec": {
      "name": "julia-0.6",
      "language": "julia",
      "display_name": "Julia 0.6.4"
    },
    "language_info": {
      "file_extension": ".jl",
      "name": "julia",
      "mimetype": "application/julia",
      "version": "0.6.4"
    },
    "nteract": {
      "version": "0.11.9"
    }
  },
  "nbformat": 4,
  "nbformat_minor": 2
}