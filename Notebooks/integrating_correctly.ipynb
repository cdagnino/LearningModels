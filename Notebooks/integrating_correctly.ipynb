{
 "cells": [
  {
   "cell_type": "markdown",
   "metadata": {},
   "source": [
    "# Integrating the value function correctly\n",
    "\n",
    "Right now I'm using the generic `scipy.integrate.quad`, which is probably slow (tons of integration points)\n",
    "and not precise.\n",
    "\n",
    "It seems it also struggles with some values of lambdas and p.\n",
    "\n",
    "Objectives:\n",
    "\n",
    "1. Write a Gauss-Hermite integration procedure\n",
    "2. Check for accuracy against `scipy.integrate.quad`\n",
    "3. Check for lambdas, p points where the integration struggles\n",
    "\n",
    "\n",
    "The integration is over future states of log demand.\n",
    "\n",
    "$$ \\int V_{b_{t+1}}(I_{t+1}(x_{t+1}, I_t)) b_t(x_{t+1}| a_t, I_t )\\; d x_{t+1} = \\int V_{b_{t+1}}(I_{t+1}(x_{t+1}, I_t)) \\left[\\sum_{l=1}^L p_l(x_{t+1}) \\lambda_l\\right] \\; d x_{t+1} $$\n",
    "\n",
    "$$ = \\sum_{l=1}^L \\left[ \\int V_{b_{t+1}}(I_{t+1}(x_{t+1}, I_t)) p_l(x_{t+1}) ; d x_{t+1} \\right] * \\lambda_l $$\n",
    "\n",
    "Since $p_l(x_{t+1})$ is a normal pdf, it makes sense to use Gauss-Hermite integration for each element of the sum above (See Judd(1998) \"Numerical Methods in Economics\", page 261ff):\n",
    "\n",
    "$$\\int V_{b_{t+1}}(I_{t+1}(x_{t+1}, I_t)) p_l(x_{t+1}) ; d x_{t+1} \\approx \\pi^{-1/2} \\sum_{i=1}^n w_i V(\\sqrt{2} \\sigma x_i + \\mu_l)$$\n",
    "\n",
    "where $x_i, w_i$ are Gauss-Hermite collocation points and weights and\n",
    "\n",
    "$$ \\mu_l = \\alpha + \\beta_l \\log p_t $$\n",
    "\n",
    "According to Judd (1998), ~7 nodes might be enough to get a low error.\n",
    "\n",
    "The sample points and weights can be obtained from https://keisan.casio.com/exec/system/1281195844\n",
    "or from `numpy.polynomial.hermite.hermgauss(n)`\n"
   ]
  },
  {
   "cell_type": "code",
   "execution_count": 12,
   "metadata": {},
   "outputs": [
    {
     "name": "stdout",
     "output_type": "stream",
     "text": [
      "[0.44444444 0.22222222 0.33333333]\n"
     ]
    }
   ],
   "source": [
    "import sys\n",
    "sys.path.append(\"../\")\n",
    "sys.path.append(\"../examples\")\n",
    "import src\n",
    "import src.constants as const\n",
    "import scipy.integrate as integrate\n",
    "from aguirregabiria_simple import v0\n",
    "import numpy as np\n",
    "from typing import Callable\n",
    "import dill\n",
    "\n",
    "lambdas = src.generate_simplex_3dims(10)\n",
    "\n",
    "#rand_n = np.random.randint(0, high=len(lambdas))\n",
    "#r_lambda_point = lambdas[rand_n]\n",
    "r_lambda_point = np.array([0.44444444, 0.22222222, 0.33333333])\n",
    "print(r_lambda_point)"
   ]
  },
  {
   "cell_type": "code",
   "execution_count": 13,
   "metadata": {},
   "outputs": [
    {
     "name": "stdout",
     "output_type": "stream",
     "text": [
      "0.5 2.0976319431275674\n",
      "0.6111111111111112 2.0258761855067378\n",
      "0.7222222222222222 1.9053169357527109\n",
      "0.8333333333333333 1.7790155162271237\n",
      "0.9444444444444444 1.7013121937615705\n",
      "1.0555555555555556 1.7003160948386609\n",
      "1.1666666666666665 1.7564714195162152\n",
      "1.2777777777777777 1.8340364655525545\n",
      "1.3888888888888888 1.9079493335147641\n",
      "1.5 1.9692222569380453\n"
     ]
    }
   ],
   "source": [
    "i = 1\n",
    "length_of_price_grid = 10\n",
    "min_price, max_price = 0.5, 1.5\n",
    "dmd_transition_fs = src.dmd_transition_fs\n",
    "update_lambdas = src.update_lambdas\n",
    "belief = src.belief\n",
    "wGuess = v0\n",
    "p_array = np.linspace(min_price, max_price, num=length_of_price_grid) \n",
    "\n",
    "\n",
    "for i in range(len(p_array)):\n",
    "    def new_lambdas(new_dmd):\n",
    "        return update_lambdas(new_dmd, transition_fs=dmd_transition_fs,\n",
    "                              old_lambdas=r_lambda_point, action=p_array[i], old_state=2.5)\n",
    "    \n",
    "    def new_belief(new_dmd):\n",
    "        \"\"\"\n",
    "        Don't update lambdas! Use the ones from the current period\n",
    "        \"\"\"\n",
    "        return belief(new_dmd, transition_fs=dmd_transition_fs,\n",
    "                      lambda_weights=r_lambda_point,\n",
    "                      action=p_array[i], old_state=2.5)\n",
    "\n",
    "    def integrand(new_dmd):\n",
    "        return wGuess(new_lambdas(new_dmd)[:-1]) * new_belief(new_dmd)\n",
    "\n",
    "    logd_min, logd_max = -6, 5#-6, 2.3\n",
    "    integrated_values, error = integrate.quad(integrand, logd_min, logd_max)\n",
    "    print(p_array[i], integrated_values)"
   ]
  },
  {
   "cell_type": "markdown",
   "metadata": {},
   "source": [
    "## Trapezoid rule"
   ]
  },
  {
   "cell_type": "code",
   "execution_count": 14,
   "metadata": {},
   "outputs": [
    {
     "data": {
      "text/plain": [
       "array([2.09006799, 2.02346845, 1.90568848, 1.77906397, 1.7013114 ,\n",
       "       1.7003162 , 1.75647248, 1.83415869, 1.90695826, 1.97208858])"
      ]
     },
     "execution_count": 14,
     "metadata": {},
     "output_type": "execute_result"
    }
   ],
   "source": [
    "from scipy import integrate\n",
    "length_of_price_grid = 10\n",
    "min_price, max_price = 0.5, 1.5\n",
    "dmd_transition_fs = src.dmd_transition_fs\n",
    "update_lambdas = src.update_lambdas\n",
    "belief = src.belief\n",
    "wGuess = v0\n",
    "p_array = np.linspace(min_price, max_price, num=length_of_price_grid) \n",
    "\n",
    "\n",
    "integration_results = np.empty_like(p_array)\n",
    "for i, price in enumerate(p_array):\n",
    "    def new_lambdas(new_dmd):\n",
    "        return update_lambdas(new_dmd, transition_fs=dmd_transition_fs,\n",
    "                              old_lambdas=r_lambda_point, action=price, old_state=2.5)\n",
    "    \n",
    "    def new_belief(new_dmd):\n",
    "        \"\"\"\n",
    "        Don't update lambdas! Use the ones from the current period\n",
    "        \"\"\"\n",
    "        return belief(new_dmd, transition_fs=dmd_transition_fs,\n",
    "                      lambda_weights=r_lambda_point,\n",
    "                      action=price, old_state=2.5)\n",
    "\n",
    "    def integrand(new_dmd):\n",
    "        return wGuess(new_lambdas(new_dmd)[:-1]) * new_belief(new_dmd)\n",
    "    yvals = []\n",
    "    xvals = np.linspace(-6, 5, num=20)\n",
    "    for x in xvals:\n",
    "        yvals.append(integrand(x))\n",
    "    integration_results[i] =  integrate.trapz(yvals, xvals)\n",
    "\n",
    "integration_results"
   ]
  },
  {
   "cell_type": "markdown",
   "metadata": {},
   "source": [
    "## New Belief check\n",
    "\n",
    "New belief should be a gaussian mixture density.\n",
    "\n",
    "Does it behave that way?"
   ]
  },
  {
   "cell_type": "code",
   "execution_count": 15,
   "metadata": {},
   "outputs": [
    {
     "data": {
      "text/plain": [
       "[<matplotlib.lines.Line2D at 0x1814986b70>]"
      ]
     },
     "execution_count": 15,
     "metadata": {},
     "output_type": "execute_result"
    },
    {
     "data": {
      "image/png": "[encoded data removed]",
      "text/plain": [
       "<Figure size 432x288 with 1 Axes>"
      ]
     },
     "metadata": {},
     "output_type": "display_data"
    }
   ],
   "source": [
    "%matplotlib inline\n",
    "import matplotlib.pyplot as plt\n",
    "\n",
    "\n",
    "def new_belief(new_dmd):\n",
    "    return belief(new_dmd, transition_fs=dmd_transition_fs,\n",
    "                  lambda_weights=new_lambdas(new_dmd),\n",
    "                  action=p_array[i], old_state=2.5)\n",
    "\n",
    "new_beliefs_vals = []\n",
    "#rescaled_demands = rescale_demand(hermite_point, beta_l, p_array)\n",
    "rescaled_demands = np.log(np.linspace(0.01, 10, 50))\n",
    "for dmd in rescaled_demands:\n",
    "    new_beliefs_vals.append(new_belief(dmd))\n",
    "\n",
    "fig, ax = plt.subplots(1, 1)\n",
    "ax.plot(rescaled_demands, new_beliefs_vals)"
   ]
  },
  {
   "cell_type": "code",
   "execution_count": 16,
   "metadata": {},
   "outputs": [
    {
     "name": "stdout",
     "output_type": "stream",
     "text": [
      "1.5\n"
     ]
    },
    {
     "data": {
      "text/plain": [
       "<matplotlib.legend.Legend at 0x1814827cc0>"
      ]
     },
     "execution_count": 16,
     "metadata": {},
     "output_type": "execute_result"
    },
    {
     "data": {
      "image/png": "[encoded data removed]",
      "text/plain": [
       "<Figure size 432x288 with 1 Axes>"
      ]
     },
     "metadata": {},
     "output_type": "display_data"
    }
   ],
   "source": [
    "fig, ax = plt.subplots(1, 1)\n",
    "ax.plot(xvals, np.array(yvals), label='integrand values')\n",
    "\n",
    "#p1.5\n",
    "print(p_array[i])\n",
    "xy_val_d = gauss_hermite_y_values(v0, p_array[i], r_lambda_point, hermite_xs, hermite_ws)\n",
    "\n",
    "xs = xy_val_d[0][:, 0]\n",
    "ys = xy_val_d[0][:, 1]\n",
    "ax.plot(xs, np.pi**(-0.5)*ys, label='lambda 1 Y values')\n",
    "\n",
    "xs = xy_val_d[1][:, 0]\n",
    "ys = xy_val_d[1][:, 1]\n",
    "ax.plot(xs, np.pi**(-0.5)*ys, label='lambda 2 Y values')\n",
    "\n",
    "xs = xy_val_d[2][:, 0]\n",
    "ys = xy_val_d[2][:, 1]\n",
    "ax.plot(xs, np.pi**(-0.5)*ys, label='lambda 3 Y values')\n",
    "\n",
    "ax.legend()"
   ]
  },
  {
   "cell_type": "markdown",
   "metadata": {},
   "source": [
    "## Gauss-Hermite"
   ]
  },
  {
   "cell_type": "code",
   "execution_count": 17,
   "metadata": {},
   "outputs": [
    {
     "name": "stdout",
     "output_type": "stream",
     "text": [
      "2.1082700652305864\n",
      "2.0222931818734415\n",
      "1.9061879343493662\n",
      "1.7790001292340019\n",
      "1.7013121939148845\n",
      "1.7003160949136364\n",
      "1.756471187660409\n",
      "1.833947727920973\n",
      "1.908876715884423\n",
      "1.9698115156591145\n"
     ]
    }
   ],
   "source": [
    "\n",
    "sqrt2 = np.sqrt(2)\n",
    "\n",
    "def rescale_demand(dmd, beta_l, price):\n",
    "    \"\"\"\n",
    "    Rescales demand to use Gauss-Hermite collocation points\n",
    "    \"\"\"\n",
    "    mu = const.α + beta_l*np.log(price)\n",
    "    return sqrt2*const.σ_ɛ * dmd + mu\n",
    "\n",
    "hermite_xs, hermite_ws = np.polynomial.hermite.hermgauss(7)\n",
    "\n",
    "\n",
    "def gauss_hermite_integrate(f, price, lambdas, hermite_xs, hermite_ws):\n",
    "    \"\"\"\n",
    "    Integrates f with Guass-Hermite\n",
    "    \"\"\"\n",
    "    def new_lambdas(new_dmd):\n",
    "        return update_lambdas(new_dmd, transition_fs=dmd_transition_fs,\n",
    "                              old_lambdas=lambdas, action=price, old_state=2.5)\n",
    "    \n",
    "    sum_over_each_lambda = 0.\n",
    "    for l, beta_l in enumerate(const.betas_transition):\n",
    "        for k, hermite_point in enumerate(hermite_xs):\n",
    "            rescaled_demand = rescale_demand(hermite_point, beta_l, price)\n",
    "            new_lambdas_value = new_lambdas(rescaled_demand)\n",
    "            v_value = f(new_lambdas_value[:-1])\n",
    "            sum_over_each_lambda += v_value*hermite_ws[k]*lambdas[l]\n",
    "    \n",
    "    return np.pi**(-0.5)*sum_over_each_lambda\n",
    "\n",
    "def gauss_hermite_y_values(f, price, lambdas, hermite_xs, hermite_ws):\n",
    "    \"\"\"\n",
    "    Generate one y value per lambda (one y value per integral)\n",
    "    \"\"\"\n",
    "    xy_val_d = {0 : np.empty((len(hermite_xs), 2)),\n",
    "               1: np.empty((len(hermite_xs), 2)),\n",
    "               2: np.empty((len(hermite_xs), 2))}\n",
    "    for k, hermite_point in enumerate(hermite_xs):\n",
    "        for l, beta_l in enumerate(const.betas_transition):\n",
    "            rescaled_demand = rescale_demand(hermite_point, beta_l, price)\n",
    "            new_lambdas_value = new_lambdas(rescaled_demand)\n",
    "            v_value = f(new_lambdas_value[:-1])\n",
    "            xy_val_d[l][k] = np.array([rescaled_demand, v_value*lambdas[l]*hermite_ws[k]])\n",
    "    \n",
    "    return xy_val_d\n",
    "\n",
    "for p in p_array:\n",
    "    value = gauss_hermite_integrate(v0, p, r_lambda_point, hermite_xs, hermite_ws)\n",
    "    print(value)"
   ]
  },
  {
   "cell_type": "markdown",
   "metadata": {},
   "source": [
    "$$\\int V_{b_{t+1}}(I_{t+1}(x_{t+1}, I_t)) p_l(x_{t+1}) ; d x_{t+1} \\approx \\pi^{-1/2} \\sum_{i=1}^n w_i V(\\sqrt{2} \\sigma x_i + \\mu_l)$$"
   ]
  },
  {
   "cell_type": "markdown",
   "metadata": {},
   "source": [
    "### Plot Gauss-Hermite errors\n",
    "\n",
    "as N increases from 0 to 60\n",
    "\n"
   ]
  },
  {
   "cell_type": "code",
   "execution_count": 38,
   "metadata": {},
   "outputs": [
    {
     "name": "stdout",
     "output_type": "stream",
     "text": [
      "[0.44444444 0.22222222 0.33333333] 0.5 1.691780009220629\n"
     ]
    },
    {
     "data": {
      "text/plain": [
       "[<matplotlib.lines.Line2D at 0x1816cf5400>]"
      ]
     },
     "execution_count": 38,
     "metadata": {},
     "output_type": "execute_result"
    },
    {
     "data": {
      "image/png": "[encoded data removed]",
      "text/plain": [
       "<Figure size 720x360 with 2 Axes>"
      ]
     },
     "metadata": {},
     "output_type": "display_data"
    }
   ],
   "source": [
    "ys = []\n",
    "xs = range(7, 60)\n",
    "for degree in xs:\n",
    "    hermite_xs, hermite_ws = np.polynomial.hermite.hermgauss(degree)\n",
    "    ys.append(gauss_hermite_integrate(v0, p_array[0],\n",
    "                            r_lambda_point, hermite_xs, hermite_ws))\n",
    "    \n",
    "fig, [ax1, ax2] = plt.subplots(1, 2, figsize=(10, 5))\n",
    "ax1.plot(xs, ys)\n",
    "print(r_lambda_point, p_array[0], v0(r_lambda_point[:2]))\n",
    "ax1.plot(xs, np.repeat(2.1057, len(xs)  ))\n",
    "\n",
    "ax2.plot(xs[:-1], np.abs(np.array(ys)[1:] - np.array(ys)[:-1]))\n"
   ]
  },
  {
   "cell_type": "code",
   "execution_count": 32,
   "metadata": {},
   "outputs": [
    {
     "data": {
      "text/plain": [
       "array([4.14336150e-03, 1.70838912e-03, 1.24415316e-03, 3.09119886e-03,\n",
       "       3.36774315e-03, 2.58113718e-03, 1.28162141e-03, 5.35099874e-05,\n",
       "       1.09034041e-03, 1.69098365e-03, 1.86565080e-03, 1.70477238e-03,\n",
       "       1.32820515e-03, 8.59775276e-04, 3.94734447e-04, 2.46720895e-06,\n",
       "       2.96381191e-04, 4.79508982e-04, 5.60380166e-04, 5.58666131e-04,\n",
       "       4.98490198e-04, 4.03163749e-04, 2.93331059e-04, 1.84727924e-04,\n",
       "       8.81976424e-05, 1.00043410e-05, 4.74865880e-05, 8.47100249e-05,\n",
       "       1.04036166e-04, 1.08882513e-04, 1.03034537e-04, 9.01625495e-05,\n",
       "       7.34882935e-05, 5.56141096e-05, 3.84717011e-05, 2.33405421e-05,\n",
       "       1.09355877e-05, 1.51181608e-06, 5.01896391e-06, 8.97316988e-06,\n",
       "       1.08016919e-05, 1.10060957e-05, 1.00815702e-05, 8.47433115e-06,\n",
       "       6.55734529e-06, 4.62012140e-06, 2.86720900e-06, 1.42608531e-06,\n",
       "       3.57686020e-07, 3.29463778e-07, 6.65397402e-07, 7.05437061e-07])"
      ]
     },
     "execution_count": 32,
     "metadata": {},
     "output_type": "execute_result"
    }
   ],
   "source": []
  },
  {
   "cell_type": "code",
   "execution_count": null,
   "metadata": {},
   "outputs": [],
   "source": []
  }
 ],
 "metadata": {
  "kernelspec": {
   "display_name": "Python [conda env:firm_learning]",
   "language": "python",
   "name": "conda-env-firm_learning-py"
  },
  "language_info": {
   "codemirror_mode": {
    "name": "ipython",
    "version": 3
   },
   "file_extension": ".py",
   "mimetype": "text/x-python",
   "name": "python",
   "nbconvert_exporter": "python",
   "pygments_lexer": "ipython3",
   "version": "3.7.0"
  }
 },
 "nbformat": 4,
 "nbformat_minor": 2
}
