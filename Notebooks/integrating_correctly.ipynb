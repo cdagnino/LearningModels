{
 "cells": [
  {
   "cell_type": "markdown",
   "metadata": {},
   "source": [
    "# Integrating the value function correctly\n",
    "\n",
    "Right now I'm using the generic `scipy.integrate.quad`, which is probably slow (tons of integration points)\n",
    "and not precise.\n",
    "\n",
    "It seems it also struggles with some values of lambdas and p.\n",
    "\n",
    "Objectives:\n",
    "\n",
    "1. Write a Gauss-Hermite integration procedure\n",
    "2. Check for accuracy against `scipy.integrate.quad`\n",
    "3. Check for lambdas, p points where the integration struggles\n",
    "\n",
    "\n",
    "The integration is over future states of log demand.\n",
    "\n",
    "$$ \\int V_{b_{t+1}}(I_{t+1}(x_{t+1}, I_t)) b_t(x_{t+1}| a_t, I_t )\\; d x_{t+1} = \\int V_{b_{t+1}}(I_{t+1}(x_{t+1}, I_t)) \\left[\\sum_{l=1}^L p_l(x_{t+1}) \\lambda_l\\right] \\; d x_{t+1} $$\n",
    "\n",
    "$$ = \\sum_{l=1}^L \\left[ \\int V_{b_{t+1}}(I_{t+1}(x_{t+1}, I_t)) p_l(x_{t+1}) ; d x_{t+1} \\right] * \\lambda_l $$\n",
    "\n",
    "Since $p_l(x_{t+1})$ is a normal pdf, it makes sense to use Gauss-Hermite integration for each element of the sum above (See Judd(1998) \"Numerical Methods in Economics\", page 261ff):\n",
    "\n",
    "$$\\int V_{b_{t+1}}(I_{t+1}(x_{t+1}, I_t)) p_l(x_{t+1}) ; d x_{t+1} \\approx \\pi^{-1/2} \\sum_{i=1}^n w_i V(\\sqrt{2} \\sigma x_i + \\mu_l)$$\n",
    "\n",
    "where $x_i, w_i$ are Gauss-Hermite collocation points and weights and\n",
    "\n",
    "$$ \\mu_l = \\alpha + \\beta_l \\log p_t $$\n",
    "\n",
    "According to Judd (1998), ~7 nodes might be enough to get a low error.\n",
    "\n",
    "The sample points and weights are obtained from https://keisan.casio.com/exec/system/1281195844\n"
   ]
  },
  {
   "cell_type": "code",
   "execution_count": 1,
   "metadata": {},
   "outputs": [
    {
     "name": "stdout",
     "output_type": "stream",
     "text": [
      "[0.         0.33333333 0.66666667]\n"
     ]
    }
   ],
   "source": [
    "import sys\n",
    "sys.path.append(\"../\")\n",
    "sys.path.append(\"../examples\")\n",
    "import src\n",
    "import src.constants as const\n",
    "import scipy.integrate as integrate\n",
    "from aguirregabiria_simple import v0\n",
    "import numpy as np\n",
    "from typing import Callable\n",
    "import dill\n",
    "\n",
    "\n",
    "lambdas = src.generate_simplex_3dims(4)\n",
    "rand_n = np.random.randint(0, high=len(lambdas))\n",
    "\n",
    "r_lambda_point = lambdas[rand_n]\n",
    "print(r_lambda_point)"
   ]
  },
  {
   "cell_type": "code",
   "execution_count": 2,
   "metadata": {},
   "outputs": [
    {
     "data": {
      "text/plain": [
       "1.81254388137579"
      ]
     },
     "execution_count": 2,
     "metadata": {},
     "output_type": "execute_result"
    }
   ],
   "source": [
    "v0(r_lambda_point[:-1])"
   ]
  },
  {
   "cell_type": "code",
   "execution_count": 3,
   "metadata": {},
   "outputs": [
    {
     "name": "stdout",
     "output_type": "stream",
     "text": [
      "0.5 1.8222830633776492\n",
      "0.6111111111111112 1.817727200888969\n",
      "0.7222222222222222 1.8148834845254873\n",
      "0.8333333333333333 1.8132921247102618\n",
      "0.9444444444444444 1.8126180095224818\n",
      "1.0555555555555556 1.8126102145733947\n",
      "1.1666666666666665 1.8130801019956082\n",
      "1.2777777777777777 1.8138869315802062\n",
      "1.3888888888888888 1.8149267960314577\n",
      "1.5 1.8161236678339283\n"
     ]
    }
   ],
   "source": [
    "i = 1\n",
    "length_of_price_grid = 10\n",
    "min_price, max_price = 0.5, 1.5\n",
    "dmd_transition_fs = src.dmd_transition_fs\n",
    "update_lambdas = src.update_lambdas\n",
    "belief = src.belief\n",
    "wGuess = v0\n",
    "p_array = np.linspace(min_price, max_price, num=length_of_price_grid) \n",
    "\n",
    "\n",
    "for i in range(len(p_array)):\n",
    "    def new_lambdas(new_dmd):\n",
    "        return update_lambdas(new_dmd, transition_fs=dmd_transition_fs,\n",
    "                              old_lambdas=r_lambda_point, action=p_array[i], old_state=2.5)\n",
    "    \n",
    "    def new_belief(new_dmd):\n",
    "        \"\"\"\n",
    "        Don't update lambdas! Use the ones from the current period\n",
    "        \"\"\"\n",
    "        return belief(new_dmd, transition_fs=dmd_transition_fs,\n",
    "                      lambda_weights=r_lambda_point,\n",
    "                      action=p_array[i], old_state=2.5)\n",
    "\n",
    "    def integrand(new_dmd):\n",
    "        return wGuess(new_lambdas(new_dmd)[:-1]) * new_belief(new_dmd)\n",
    "\n",
    "    logd_min, logd_max = -6, 5#-6, 2.3\n",
    "    integrated_values, error = integrate.quad(integrand, logd_min, logd_max)\n",
    "    print(p_array[i], integrated_values)"
   ]
  },
  {
   "cell_type": "code",
   "execution_count": null,
   "metadata": {},
   "outputs": [],
   "source": [
    "    0.5 1.5402035638897331\n",
    "0.6111111111111112 1.5404475206902366\n",
    "0.7222222222222222 1.5410731268881348\n",
    "0.8333333333333333 1.542433957366306\n",
    "0.9444444444444444 1.5450154756377974\n",
    "1.0555555555555556 1.5493470863120433\n",
    "1.1666666666666665 1.5558488892742277\n",
    "1.2777777777777777 1.5646862532584604\n",
    "1.3888888888888888 1.575713542598825\n",
    "1.5 1.5885259944193755\n",
    "\n"
   ]
  },
  {
   "cell_type": "code",
   "execution_count": 7,
   "metadata": {},
   "outputs": [],
   "source": [
    "hermite_xs = np.array([-2.6519613568352334924470820065166161144,\n",
    "-1.6735516287674714450318013983035948191,\n",
    "             -0.81628788285896466303871095902714581674, 0., 0.8162878828589646630387109590271458167,\n",
    "1.6735516287674714450318013983035948191, 2.6519613568352334924470820065166161144])\n",
    "\n",
    "hermite_ws = np.array([9.717812450995191541494242559389596444E-4,\n",
    "0.054515582819127030592178568841695125961,\n",
    "0.42560725261012780052031746666639103544,\n",
    "0.8102646175568073267648765638130949407,\n",
    "0.42560725261012780052031746666639103544,\n",
    "0.054515582819127030592178568841695125961,\n",
    "9.717812450995191541494242559389596444E-4])\n"
   ]
  },
  {
   "cell_type": "markdown",
   "metadata": {},
   "source": [
    "## New Belief check\n",
    "\n",
    "New belief should be a gaussian mixture density.\n",
    "\n",
    "Does it behave that way?"
   ]
  },
  {
   "cell_type": "code",
   "execution_count": null,
   "metadata": {},
   "outputs": [],
   "source": []
  },
  {
   "cell_type": "code",
   "execution_count": 5,
   "metadata": {},
   "outputs": [
    {
     "data": {
      "text/plain": [
       "[<matplotlib.lines.Line2D at 0x1817a03550>]"
      ]
     },
     "execution_count": 5,
     "metadata": {},
     "output_type": "execute_result"
    },
    {
     "data": {
      "image/png": "[encoded data removed]",
      "text/plain": [
       "<Figure size 432x288 with 1 Axes>"
      ]
     },
     "metadata": {},
     "output_type": "display_data"
    }
   ],
   "source": [
    "%matplotlib inline\n",
    "import matplotlib.pyplot as plt\n",
    "\n",
    "\n",
    "def new_belief(new_dmd):\n",
    "    return belief(new_dmd, transition_fs=dmd_transition_fs,\n",
    "                  lambda_weights=new_lambdas(new_dmd),\n",
    "                  action=p_array[i], old_state=2.5)\n",
    "\n",
    "new_beliefs_vals = []\n",
    "#rescaled_demands = rescale_demand(hermite_point, beta_l, p_array)\n",
    "rescaled_demands = np.log(np.linspace(0.01, 10, 50))\n",
    "for dmd in rescaled_demands:\n",
    "    new_beliefs_vals.append(new_belief(dmd))\n",
    "\n",
    "fig, ax = plt.subplots(1, 1)\n",
    "ax.plot(rescaled_demands, new_beliefs_vals)"
   ]
  },
  {
   "cell_type": "code",
   "execution_count": 6,
   "metadata": {},
   "outputs": [
    {
     "ename": "NameError",
     "evalue": "name 'hermite_xs' is not defined",
     "output_type": "error",
     "traceback": [
      "\u001b[0;31m---------------------------------------------------------------------------\u001b[0m",
      "\u001b[0;31mNameError\u001b[0m                                 Traceback (most recent call last)",
      "\u001b[0;32m<ipython-input-6-caa797bf9ba0>\u001b[0m in \u001b[0;36m<module>\u001b[0;34m()\u001b[0m\n\u001b[0;32m----> 1\u001b[0;31m \u001b[0mrescale_demand\u001b[0m\u001b[0;34m(\u001b[0m\u001b[0mhermite_xs\u001b[0m\u001b[0;34m,\u001b[0m \u001b[0mbeta_l\u001b[0m\u001b[0;34m=\u001b[0m\u001b[0mconst\u001b[0m\u001b[0;34m.\u001b[0m\u001b[0mbetas_transition\u001b[0m\u001b[0;34m[\u001b[0m\u001b[0;36m0\u001b[0m\u001b[0;34m]\u001b[0m\u001b[0;34m,\u001b[0m \u001b[0mprice\u001b[0m\u001b[0;34m=\u001b[0m\u001b[0;36m0.8\u001b[0m\u001b[0;34m)\u001b[0m\u001b[0;34m\u001b[0m\u001b[0m\n\u001b[0m",
      "\u001b[0;31mNameError\u001b[0m: name 'hermite_xs' is not defined"
     ]
    }
   ],
   "source": [
    "rescale_demand(hermite_xs, beta_l=const.betas_transition[0], price=0.8)"
   ]
  },
  {
   "cell_type": "code",
   "execution_count": 73,
   "metadata": {},
   "outputs": [],
   "source": [
    "hermite_point = hermite_xs[4]\n",
    "beta_l = const.betas_transition[0]\n",
    "rescaled_demand = rescale_demand(hermite_point, beta_l, p_array) "
   ]
  },
  {
   "cell_type": "code",
   "execution_count": 8,
   "metadata": {},
   "outputs": [
    {
     "name": "stdout",
     "output_type": "stream",
     "text": [
      "0.5 1.9508550472974695\n",
      "0.6111111111111112 1.9306340384890717\n",
      "0.7222222222222222 1.9119624810325169\n",
      "0.8333333333333333 1.8947470345847803\n",
      "0.9444444444444444 1.8788816479225765\n",
      "1.0555555555555556 1.8642571012448832\n",
      "1.1666666666666665 1.8507666126290003\n",
      "1.2777777777777777 1.8383089672782795\n",
      "1.3888888888888888 1.8267900920047728\n",
      "1.5 1.8161236683085231\n"
     ]
    }
   ],
   "source": [
    "\n",
    "sqrt2 = np.sqrt(2)\n",
    "\n",
    "def rescale_demand(dmd, beta_l, price):\n",
    "    \"\"\"\n",
    "    Rescales demand to use Gauss-Hermite collocation points\n",
    "    \"\"\"\n",
    "    mu = const.α + beta_l*np.log(price)\n",
    "    return sqrt2*const.σ_ɛ * dmd + mu\n",
    "\n",
    "def gauss_hermite_integrate(f, price, lambdas, hermite_xs, hermite_ws):\n",
    "    \"\"\"\n",
    "    Integrates f with Guass-Hermite\n",
    "    \"\"\"\n",
    "    sum_over_each_lambda = 0.\n",
    "    for l, beta_l in enumerate(const.betas_transition):\n",
    "        for k, hermite_point in enumerate(hermite_xs):\n",
    "            rescaled_demand = rescale_demand(hermite_point, beta_l, price)            \n",
    "            new_lambdas_value = new_lambdas(rescaled_demand)\n",
    "            v_value = f(new_lambdas_value[:-1])\n",
    "            sum_over_each_lambda += f(new_lambdas_value[:-1])*hermite_ws[k]*lambdas[l]\n",
    "    \n",
    "    return np.pi**(-0.5)*sum_over_each_lambda\n",
    "\n",
    "for p in p_array:\n",
    "    value = gauss_hermite_integrate(v0, p, r_lambda_point, hermite_xs, hermite_ws)\n",
    "    print(p, value)"
   ]
  },
  {
   "cell_type": "code",
   "execution_count": 62,
   "metadata": {},
   "outputs": [
    {
     "data": {
      "text/plain": [
       "array([38.73115206, 21.21338081, 12.85162032,  8.36592885,  5.74699977,\n",
       "        4.11649072,  3.04880789,  2.32062216,  1.80704063,  1.43448711])"
      ]
     },
     "execution_count": 62,
     "metadata": {},
     "output_type": "execute_result"
    }
   ],
   "source": [
    "hermite_point = hermite_xs[4]\n",
    "beta_l = const.betas_transition[0]\n",
    "np.e**rescale_demand(hermite_point, beta_l, p_array) "
   ]
  },
  {
   "cell_type": "markdown",
   "metadata": {},
   "source": [
    "$$\\int V_{b_{t+1}}(I_{t+1}(x_{t+1}, I_t)) p_l(x_{t+1}) ; d x_{t+1} \\approx \\pi^{-1/2} \\sum_{i=1}^n w_i V(\\sqrt{2} \\sigma x_i + \\mu_l)$$"
   ]
  },
  {
   "cell_type": "code",
   "execution_count": 29,
   "metadata": {},
   "outputs": [
    {
     "data": {
      "text/plain": [
       "array([-1.88463657, -1.19279642, -0.58661941, -0.00941671,  0.56778599,\n",
       "        1.173963  ,  1.86580315])"
      ]
     },
     "execution_count": 29,
     "metadata": {},
     "output_type": "execute_result"
    }
   ],
   "source": [
    "rescale_demand(hermite_xs, -3, price=1.4)"
   ]
  },
  {
   "cell_type": "code",
   "execution_count": 23,
   "metadata": {},
   "outputs": [
    {
     "data": {
      "text/plain": [
       "array([-3. , -2.5, -2. ])"
      ]
     },
     "execution_count": 23,
     "metadata": {},
     "output_type": "execute_result"
    }
   ],
   "source": [
    "const.betas_transition"
   ]
  },
  {
   "cell_type": "markdown",
   "metadata": {},
   "source": [
    "## Using QuadPy"
   ]
  },
  {
   "cell_type": "code",
   "execution_count": 83,
   "metadata": {},
   "outputs": [
    {
     "data": {
      "text/plain": [
       "0.8862269254527577"
      ]
     },
     "execution_count": 83,
     "metadata": {},
     "output_type": "execute_result"
    }
   ],
   "source": [
    "import quadpy\n",
    "val = quadpy.e1r2.integrate(\n",
    "    lambda x: x**2,\n",
    "    quadpy.e1r2.GaussHermite(5)\n",
    "    )\n",
    "val"
   ]
  },
  {
   "cell_type": "code",
   "execution_count": 86,
   "metadata": {},
   "outputs": [
    {
     "data": {
      "text/plain": [
       "0.49999999999999994"
      ]
     },
     "execution_count": 86,
     "metadata": {},
     "output_type": "execute_result"
    }
   ],
   "source": [
    "def simple_gauss_hermite(f, hermite_xs, hermite_ws):\n",
    "    return np.pi**(-0.5)*np.dot(f(hermite_xs), hermite_ws)\n",
    "\n",
    "def example_f(x):\n",
    "    return x**2\n",
    "\n",
    "simple_gauss_hermite(example_f, hermite_xs, hermite_ws)\n"
   ]
  },
  {
   "cell_type": "code",
   "execution_count": null,
   "metadata": {},
   "outputs": [],
   "source": []
  }
 ],
 "metadata": {
  "kernelspec": {
   "display_name": "Python [conda env:learningenv]",
   "language": "python",
   "name": "conda-env-learningenv-py"
  },
  "language_info": {
   "codemirror_mode": {
    "name": "ipython",
    "version": 3
   },
   "file_extension": ".py",
   "mimetype": "text/x-python",
   "name": "python",
   "nbconvert_exporter": "python",
   "pygments_lexer": "ipython3",
   "version": "3.7.0"
  }
 },
 "nbformat": 4,
 "nbformat_minor": 2
}
