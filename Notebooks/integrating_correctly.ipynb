{
 "cells": [
  {
   "cell_type": "markdown",
   "metadata": {},
   "source": [
    "# Integrating the value function correctly\n",
    "\n",
    "Right now I'm using the generic `scipy.integrate.quad`, which is probably slow (tons of integration points)\n",
    "and not precise.\n",
    "\n",
    "It seems it also struggles with some values of lambdas and p.\n",
    "\n",
    "Objectives:\n",
    "\n",
    "1. Write a Gauss-Hermite integration procedure\n",
    "2. Check for accuracy against `scipy.integrate.quad`\n",
    "3. Check for lambdas, p points where the integration struggles\n",
    "\n",
    "\n",
    "The integration is over future states of log demand.\n",
    "\n",
    "$$ \\int V_{b_{t+1}}(I_{t+1}(x_{t+1}, I_t)) b_t(x_{t+1}| a_t, I_t )\\; d x_{t+1} = \\int V_{b_{t+1}}(I_{t+1}(x_{t+1}, I_t)) \\left[\\sum_{l=1}^L p_l(x_{t+1}) \\lambda_l\\right] \\; d x_{t+1} $$\n",
    "\n",
    "$$ = \\sum_{l=1}^L \\left[ \\int V_{b_{t+1}}(I_{t+1}(x_{t+1}, I_t)) p_l(x_{t+1}) ; d x_{t+1} \\right] * \\lambda_l $$\n",
    "\n",
    "Since $p_l(x_{t+1})$ is a normal pdf, it makes sense to use Gauss-Hermite integration for each element of the sum above (See Judd(1998) \"Numerical Methods in Economics\", page 261ff):\n",
    "\n",
    "$$\\int V_{b_{t+1}}(I_{t+1}(x_{t+1}, I_t)) p_l(x_{t+1}) ; d x_{t+1} \\approx \\pi^{-1/2} \\sum_{i=1}^n w_i V(\\sqrt{2} \\sigma x_i + \\mu_l)$$\n",
    "\n",
    "where $x_i, w_i$ are Gauss-Hermite collocation points and weights and\n",
    "\n",
    "$$ \\mu_l = \\alpha + \\beta_l \\log p_t $$\n",
    "\n",
    "According to Judd (1998), ~7 nodes might be enough to get a low error.\n",
    "\n",
    "The sample points and weights are obtained from https://keisan.casio.com/exec/system/1281195844\n"
   ]
  },
  {
   "cell_type": "code",
   "execution_count": 7,
   "metadata": {},
   "outputs": [
    {
     "name": "stdout",
     "output_type": "stream",
     "text": [
      "[0.55555556 0.11111111 0.33333333]\n"
     ]
    }
   ],
   "source": [
    "import sys\n",
    "sys.path.append(\"../\")\n",
    "sys.path.append(\"../examples\")\n",
    "import src\n",
    "import src.constants as const\n",
    "import scipy.integrate as integrate\n",
    "from aguirregabiria_simple import v0\n",
    "import numpy as np\n",
    "from typing import Callable\n",
    "import dill\n",
    "\n",
    "\n",
    "lambdas = src.generate_simplex_3dims(10)\n",
    "rand_n = np.random.randint(0, high=len(lambdas))\n",
    "\n",
    "r_lambda_point = lambdas[rand_n]\n",
    "print(r_lambda_point)"
   ]
  },
  {
   "cell_type": "code",
   "execution_count": 8,
   "metadata": {},
   "outputs": [
    {
     "data": {
      "text/plain": [
       "1.8319599531181427"
      ]
     },
     "execution_count": 8,
     "metadata": {},
     "output_type": "execute_result"
    }
   ],
   "source": [
    "v0(r_lambda_point[:-1])"
   ]
  },
  {
   "cell_type": "code",
   "execution_count": 10,
   "metadata": {},
   "outputs": [
    {
     "name": "stdout",
     "output_type": "stream",
     "text": [
      "0.5 2.2244667159948195\n",
      "0.6111111111111112 2.149883081425745\n",
      "0.7222222222222222 2.022979403003241\n",
      "0.8333333333333333 1.9000566475895362\n",
      "0.9444444444444444 1.8380645437067031\n",
      "1.0555555555555556 1.837405161942844\n",
      "1.1666666666666665 1.8803956163455204\n",
      "1.2777777777777777 1.9515453287984472\n",
      "1.3888888888888888 2.0256870895462193\n",
      "1.5 2.0896614791476216\n"
     ]
    }
   ],
   "source": [
    "i = 1\n",
    "length_of_price_grid = 10\n",
    "min_price, max_price = 0.5, 1.5\n",
    "dmd_transition_fs = src.dmd_transition_fs\n",
    "update_lambdas = src.update_lambdas\n",
    "belief = src.belief\n",
    "wGuess = v0\n",
    "p_array = np.linspace(min_price, max_price, num=length_of_price_grid) \n",
    "\n",
    "\n",
    "for i in range(len(p_array)):\n",
    "    def new_lambdas(new_dmd):\n",
    "        return update_lambdas(new_dmd, transition_fs=dmd_transition_fs,\n",
    "                              old_lambdas=r_lambda_point, action=p_array[i], old_state=2.5)\n",
    "    \n",
    "    def new_belief(new_dmd):\n",
    "        \"\"\"\n",
    "        Don't update lambdas! Use the ones from the current period\n",
    "        \"\"\"\n",
    "        return belief(new_dmd, transition_fs=dmd_transition_fs,\n",
    "                      lambda_weights=r_lambda_point,\n",
    "                      action=p_array[i], old_state=2.5)\n",
    "\n",
    "    def integrand(new_dmd):\n",
    "        return wGuess(new_lambdas(new_dmd)[:-1]) * new_belief(new_dmd)\n",
    "\n",
    "    logd_min, logd_max = -6, 5#-6, 2.3\n",
    "    integrated_values, error = integrate.quad(integrand, logd_min, logd_max)\n",
    "    print(p_array[i], integrated_values)"
   ]
  },
  {
   "cell_type": "markdown",
   "metadata": {},
   "source": [
    "## Trapezoid rule"
   ]
  },
  {
   "cell_type": "code",
   "execution_count": 16,
   "metadata": {},
   "outputs": [
    {
     "data": {
      "text/plain": [
       "array([2.21217142, 2.14426556, 2.02159351, 1.90007948, 1.83806341,\n",
       "       1.83740514, 1.88038261, 1.95193488, 2.02402058, 2.09196357])"
      ]
     },
     "execution_count": 16,
     "metadata": {},
     "output_type": "execute_result"
    }
   ],
   "source": [
    "from scipy import integrate\n",
    "length_of_price_grid = 10\n",
    "min_price, max_price = 0.5, 1.5\n",
    "dmd_transition_fs = src.dmd_transition_fs\n",
    "update_lambdas = src.update_lambdas\n",
    "belief = src.belief\n",
    "wGuess = v0\n",
    "p_array = np.linspace(min_price, max_price, num=length_of_price_grid) \n",
    "\n",
    "\n",
    "integration_results = np.empty_like(p_array)\n",
    "for i, price in enumerate(p_array):\n",
    "    def new_lambdas(new_dmd):\n",
    "        return update_lambdas(new_dmd, transition_fs=dmd_transition_fs,\n",
    "                              old_lambdas=r_lambda_point, action=price, old_state=2.5)\n",
    "    \n",
    "    def new_belief(new_dmd):\n",
    "        \"\"\"\n",
    "        Don't update lambdas! Use the ones from the current period\n",
    "        \"\"\"\n",
    "        return belief(new_dmd, transition_fs=dmd_transition_fs,\n",
    "                      lambda_weights=r_lambda_point,\n",
    "                      action=price, old_state=2.5)\n",
    "\n",
    "    def integrand(new_dmd):\n",
    "        return wGuess(new_lambdas(new_dmd)[:-1]) * new_belief(new_dmd)\n",
    "    yvals = []\n",
    "    xvals = np.linspace(-6, 5, num=20)\n",
    "    for x in xvals:\n",
    "        yvals.append(integrand(x))\n",
    "    integration_results[i] =  integrate.trapz(yvals, xvals)\n",
    "\n",
    "integration_results"
   ]
  },
  {
   "cell_type": "code",
   "execution_count": 28,
   "metadata": {},
   "outputs": [],
   "source": [
    "hermite_xs = np.array([-2.6519613568352334924470820065166161144,\n",
    "-1.6735516287674714450318013983035948191,\n",
    "             -0.81628788285896466303871095902714581674, 0., 0.8162878828589646630387109590271458167,\n",
    "1.6735516287674714450318013983035948191, 2.6519613568352334924470820065166161144])\n",
    "\n",
    "hermite_ws = np.array([9.717812450995191541494242559389596444E-4,\n",
    "0.054515582819127030592178568841695125961,\n",
    "0.42560725261012780052031746666639103544,\n",
    "0.8102646175568073267648765638130949407,\n",
    "0.42560725261012780052031746666639103544,\n",
    "0.054515582819127030592178568841695125961,\n",
    "9.717812450995191541494242559389596444E-4])\n"
   ]
  },
  {
   "cell_type": "markdown",
   "metadata": {},
   "source": [
    "## New Belief check\n",
    "\n",
    "New belief should be a gaussian mixture density.\n",
    "\n",
    "Does it behave that way?"
   ]
  },
  {
   "cell_type": "code",
   "execution_count": null,
   "metadata": {},
   "outputs": [],
   "source": []
  },
  {
   "cell_type": "code",
   "execution_count": 5,
   "metadata": {},
   "outputs": [
    {
     "data": {
      "text/plain": [
       "[<matplotlib.lines.Line2D at 0x1817a03550>]"
      ]
     },
     "execution_count": 5,
     "metadata": {},
     "output_type": "execute_result"
    },
    {
     "data": {
      "image/png": "[encoded data removed]",
      "text/plain": [
       "<Figure size 432x288 with 1 Axes>"
      ]
     },
     "metadata": {},
     "output_type": "display_data"
    }
   ],
   "source": [
    "%matplotlib inline\n",
    "import matplotlib.pyplot as plt\n",
    "\n",
    "\n",
    "def new_belief(new_dmd):\n",
    "    return belief(new_dmd, transition_fs=dmd_transition_fs,\n",
    "                  lambda_weights=new_lambdas(new_dmd),\n",
    "                  action=p_array[i], old_state=2.5)\n",
    "\n",
    "new_beliefs_vals = []\n",
    "#rescaled_demands = rescale_demand(hermite_point, beta_l, p_array)\n",
    "rescaled_demands = np.log(np.linspace(0.01, 10, 50))\n",
    "for dmd in rescaled_demands:\n",
    "    new_beliefs_vals.append(new_belief(dmd))\n",
    "\n",
    "fig, ax = plt.subplots(1, 1)\n",
    "ax.plot(rescaled_demands, new_beliefs_vals)"
   ]
  },
  {
   "cell_type": "code",
   "execution_count": 75,
   "metadata": {},
   "outputs": [
    {
     "name": "stdout",
     "output_type": "stream",
     "text": [
      "1.5\n"
     ]
    },
    {
     "data": {
      "text/plain": [
       "<matplotlib.legend.Legend at 0x1819b8ad68>"
      ]
     },
     "execution_count": 75,
     "metadata": {},
     "output_type": "execute_result"
    },
    {
     "data": {
      "image/png": "[encoded data removed]",
      "text/plain": [
       "<Figure size 432x288 with 1 Axes>"
      ]
     },
     "metadata": {},
     "output_type": "display_data"
    }
   ],
   "source": [
    "fig, ax = plt.subplots(1, 1)\n",
    "ax.plot(xvals, np.array(yvals), label='integrand values')\n",
    "\n",
    "#p1.5\n",
    "print(p_array[i])\n",
    "xy_val_d = gauss_hermite_y_values(v0, p_array[i], r_lambda_point, hermite_xs, hermite_ws)\n",
    "\n",
    "xs = xy_val_d[0][:, 0]\n",
    "ys = xy_val_d[0][:, 1]\n",
    "ax.plot(xs, np.pi**(-0.5)*ys, label='lambda 1 Y values')\n",
    "\n",
    "xs = xy_val_d[1][:, 0]\n",
    "ys = xy_val_d[1][:, 1]\n",
    "ax.plot(xs, np.pi**(-0.5)*ys, label='lambda 2 Y values')\n",
    "\n",
    "xs = xy_val_d[2][:, 0]\n",
    "ys = xy_val_d[2][:, 1]\n",
    "ax.plot(xs, np.pi**(-0.5)*ys, label='lambda 3 Y values')\n",
    "\n",
    "ax.legend()"
   ]
  },
  {
   "cell_type": "code",
   "execution_count": 73,
   "metadata": {},
   "outputs": [],
   "source": [
    "hermite_point = hermite_xs[4]\n",
    "beta_l = const.betas_transition[0]\n",
    "rescaled_demand = rescale_demand(hermite_point, beta_l, p_array) \n",
    "for hpoint in hermite_xs:\n",
    "    print(hpoint, rescale_demand(hpoint, beta_l=0.3, price=p_array[0]))"
   ]
  },
  {
   "cell_type": "code",
   "execution_count": 134,
   "metadata": {},
   "outputs": [
    {
     "data": {
      "text/plain": [
       "0.5"
      ]
     },
     "execution_count": 134,
     "metadata": {},
     "output_type": "execute_result"
    }
   ],
   "source": [
    "const.σ_ɛ "
   ]
  },
  {
   "cell_type": "markdown",
   "metadata": {},
   "source": [
    "## Gauss-Hermite"
   ]
  },
  {
   "cell_type": "code",
   "execution_count": 19,
   "metadata": {},
   "outputs": [
    {
     "name": "stdout",
     "output_type": "stream",
     "text": [
      "2.239846837690709\n",
      "2.1500530271902845\n",
      "2.0211934251294577\n",
      "1.9000576442381925\n",
      "1.8380645436485563\n",
      "1.8374051619124305\n",
      "1.8804014868774093\n",
      "1.9509661692392688\n",
      "2.0239362231016425\n",
      "2.090436760813255\n"
     ]
    }
   ],
   "source": [
    "import quadpy\n",
    "sqrt2 = np.sqrt(2)\n",
    "\n",
    "def rescale_demand(dmd, beta_l, price):\n",
    "    \"\"\"\n",
    "    Rescales demand to use Gauss-Hermite collocation points\n",
    "    \"\"\"\n",
    "    mu = const.α + beta_l*np.log(price)\n",
    "    return sqrt2*const.σ_ɛ * dmd + mu\n",
    "\n",
    "\n",
    "rule = quadpy.e1r2.GaussHermite(7)\n",
    "hermite_xs = rule.points\n",
    "hermite_ws = rule.weights\n",
    "\n",
    "\n",
    "def gauss_hermite_integrate(f, price, lambdas, hermite_xs, hermite_ws):\n",
    "    \"\"\"\n",
    "    Integrates f with Guass-Hermite\n",
    "    \"\"\"\n",
    "    def new_lambdas(new_dmd):\n",
    "        return update_lambdas(new_dmd, transition_fs=dmd_transition_fs,\n",
    "                              old_lambdas=lambdas, action=price, old_state=2.5)\n",
    "    \n",
    "    sum_over_each_lambda = 0.\n",
    "    for l, beta_l in enumerate(const.betas_transition):\n",
    "        for k, hermite_point in enumerate(hermite_xs):\n",
    "            rescaled_demand = rescale_demand(hermite_point, beta_l, price)\n",
    "            new_lambdas_value = new_lambdas(rescaled_demand)\n",
    "            v_value = f(new_lambdas_value[:-1])\n",
    "            sum_over_each_lambda += v_value*hermite_ws[k]*lambdas[l]\n",
    "    \n",
    "    return np.pi**(-0.5)*sum_over_each_lambda\n",
    "\n",
    "def gauss_hermite_y_values(f, price, lambdas, hermite_xs, hermite_ws):\n",
    "    \"\"\"\n",
    "    Generate one y value per lambda (one y value per integral)\n",
    "    \"\"\"\n",
    "    xy_val_d = {0 : np.empty((len(hermite_xs), 2)),\n",
    "               1: np.empty((len(hermite_xs), 2)),\n",
    "               2: np.empty((len(hermite_xs), 2))}\n",
    "    for k, hermite_point in enumerate(hermite_xs):\n",
    "        for l, beta_l in enumerate(const.betas_transition):\n",
    "            rescaled_demand = rescale_demand(hermite_point, beta_l, price)\n",
    "            new_lambdas_value = new_lambdas(rescaled_demand)\n",
    "            v_value = f(new_lambdas_value[:-1])\n",
    "            xy_val_d[l][k] = np.array([rescaled_demand, v_value*lambdas[l]*hermite_ws[k]])\n",
    "    \n",
    "    return xy_val_d\n",
    "\n",
    "for p in p_array:\n",
    "    value = gauss_hermite_integrate(v0, p, r_lambda_point, hermite_xs, hermite_ws)\n",
    "    print(value)"
   ]
  },
  {
   "cell_type": "code",
   "execution_count": null,
   "metadata": {},
   "outputs": [],
   "source": [
    "0.5 2.097631964103887\n",
    "0.6111111111111112 2.0258762057654995\n",
    "0.7222222222222222 1.9053169548058806\n",
    "0.8333333333333333 1.779015534017279\n",
    "0.9444444444444444 1.7013122107746927\n",
    "1.0555555555555556 1.700316111841822\n",
    "1.1666666666666665 1.7564714370809296\n",
    "1.2777777777777777 1.8340364838929195\n",
    "1.3888888888888888 1.9079493525942577\n",
    "1.5 1.9692222766302676\n"
   ]
  },
  {
   "cell_type": "code",
   "execution_count": 62,
   "metadata": {},
   "outputs": [
    {
     "data": {
      "text/plain": [
       "array([38.73115206, 21.21338081, 12.85162032,  8.36592885,  5.74699977,\n",
       "        4.11649072,  3.04880789,  2.32062216,  1.80704063,  1.43448711])"
      ]
     },
     "execution_count": 62,
     "metadata": {},
     "output_type": "execute_result"
    }
   ],
   "source": [
    "hermite_point = hermite_xs[4]\n",
    "beta_l = const.betas_transition[0]\n",
    "np.e**rescale_demand(hermite_point, beta_l, p_array) "
   ]
  },
  {
   "cell_type": "markdown",
   "metadata": {},
   "source": [
    "$$\\int V_{b_{t+1}}(I_{t+1}(x_{t+1}, I_t)) p_l(x_{t+1}) ; d x_{t+1} \\approx \\pi^{-1/2} \\sum_{i=1}^n w_i V(\\sqrt{2} \\sigma x_i + \\mu_l)$$"
   ]
  },
  {
   "cell_type": "code",
   "execution_count": 29,
   "metadata": {},
   "outputs": [
    {
     "data": {
      "text/plain": [
       "array([-1.88463657, -1.19279642, -0.58661941, -0.00941671,  0.56778599,\n",
       "        1.173963  ,  1.86580315])"
      ]
     },
     "execution_count": 29,
     "metadata": {},
     "output_type": "execute_result"
    }
   ],
   "source": [
    "rescale_demand(hermite_xs, -3, price=1.4)"
   ]
  },
  {
   "cell_type": "code",
   "execution_count": 23,
   "metadata": {},
   "outputs": [
    {
     "data": {
      "text/plain": [
       "array([-3. , -2.5, -2. ])"
      ]
     },
     "execution_count": 23,
     "metadata": {},
     "output_type": "execute_result"
    }
   ],
   "source": [
    "const.betas_transition"
   ]
  },
  {
   "cell_type": "markdown",
   "metadata": {},
   "source": [
    "## Using QuadPy"
   ]
  },
  {
   "cell_type": "code",
   "execution_count": null,
   "metadata": {},
   "outputs": [],
   "source": [
    "quadpy.e1r2.integrate(\n",
    "    lambda x: x**2,\n",
    "    quadpy.e1r2.GaussHermite(5)\n",
    "    )"
   ]
  },
  {
   "cell_type": "code",
   "execution_count": 99,
   "metadata": {},
   "outputs": [
    {
     "data": {
      "text/plain": [
       "0.8862269254527577"
      ]
     },
     "execution_count": 99,
     "metadata": {},
     "output_type": "execute_result"
    }
   ],
   "source": [
    "import quadpy\n",
    "val = quadpy.e1r2.integrate(\n",
    "    lambda x: x**2,\n",
    "    quadpy.e1r2.GaussHermite(5)\n",
    "    )\n",
    "val"
   ]
  },
  {
   "cell_type": "code",
   "execution_count": 103,
   "metadata": {},
   "outputs": [
    {
     "data": {
      "text/plain": [
       "0.886226925452758"
      ]
     },
     "execution_count": 103,
     "metadata": {},
     "output_type": "execute_result"
    }
   ],
   "source": [
    "new_hermite_xs = np.array([-2.0201828704561, -0.95857246461382, 0, 0.95857246461382, 2.0201828704561])\n",
    "new_hermite_ws = np.array([0.019953242059046, 0.39361932315224, 0.94530872048294,\n",
    "                           0.39361932315224, 0.019953242059046])\n",
    "\n",
    "\n",
    "def simple_gauss_hermite(f, new_hermite_xs, new_hermite_ws):\n",
    "    return np.pi**(0.5)*np.pi**(-0.5)*np.dot(f(hermite_xs), hermite_ws)\n",
    "\n",
    "def example_f(x):\n",
    "    return x**2\n",
    "\n",
    "simple_gauss_hermite(example_f, hermite_xs, hermite_ws)\n"
   ]
  },
  {
   "cell_type": "code",
   "execution_count": 100,
   "metadata": {},
   "outputs": [
    {
     "data": {
      "text/plain": [
       "array([-5.38748089, -4.60368245, -3.94476404, -3.34785457, -2.78880606,\n",
       "       -2.254974  , -1.73853771, -1.23407622, -0.73747373, -0.24534071,\n",
       "        0.24534071,  0.73747373,  1.23407622,  1.73853771,  2.254974  ,\n",
       "        2.78880606,  3.34785457,  3.94476404,  4.60368245,  5.38748089])"
      ]
     },
     "execution_count": 100,
     "metadata": {},
     "output_type": "execute_result"
    }
   ],
   "source": [
    "hermite_xs"
   ]
  },
  {
   "cell_type": "code",
   "execution_count": 101,
   "metadata": {},
   "outputs": [
    {
     "data": {
      "text/plain": [
       "array([2.22939365e-13, 4.39934099e-10, 1.08606937e-07, 7.80255648e-06,\n",
       "       2.28338636e-04, 3.24377334e-03, 2.48105209e-02, 1.09017206e-01,\n",
       "       2.86675505e-01, 4.62243670e-01, 4.62243670e-01, 2.86675505e-01,\n",
       "       1.09017206e-01, 2.48105209e-02, 3.24377334e-03, 2.28338636e-04,\n",
       "       7.80255648e-06, 1.08606937e-07, 4.39934099e-10, 2.22939365e-13])"
      ]
     },
     "execution_count": 101,
     "metadata": {},
     "output_type": "execute_result"
    }
   ],
   "source": [
    "hermite_ws"
   ]
  },
  {
   "cell_type": "code",
   "execution_count": 87,
   "metadata": {},
   "outputs": [],
   "source": [
    "rule = quadpy.e1r2.GaussHermite(5)"
   ]
  },
  {
   "cell_type": "code",
   "execution_count": 85,
   "metadata": {},
   "outputs": [
    {
     "data": {
      "text/plain": [
       "array([0.01995324, 0.39361932, 0.94530872, 0.39361932, 0.01995324])"
      ]
     },
     "execution_count": 85,
     "metadata": {},
     "output_type": "execute_result"
    }
   ],
   "source": [
    "avers.weights"
   ]
  },
  {
   "cell_type": "code",
   "execution_count": 86,
   "metadata": {},
   "outputs": [
    {
     "data": {
      "text/plain": [
       "array([-2.02018287, -0.95857246,  0.        ,  0.95857246,  2.02018287])"
      ]
     },
     "execution_count": 86,
     "metadata": {},
     "output_type": "execute_result"
    }
   ],
   "source": [
    "avers.points"
   ]
  },
  {
   "cell_type": "code",
   "execution_count": 92,
   "metadata": {},
   "outputs": [
    {
     "data": {
      "text/plain": [
       "0.8862269254527577"
      ]
     },
     "execution_count": 92,
     "metadata": {},
     "output_type": "execute_result"
    }
   ],
   "source": [
    "np.dot(example_f(rule.points.T), rule.weights)"
   ]
  },
  {
   "cell_type": "code",
   "execution_count": 89,
   "metadata": {},
   "outputs": [
    {
     "data": {
      "text/plain": [
       "array([-2.02018287, -0.95857246,  0.        ,  0.95857246,  2.02018287])"
      ]
     },
     "execution_count": 89,
     "metadata": {},
     "output_type": "execute_result"
    }
   ],
   "source": [
    "rule.points.T"
   ]
  },
  {
   "cell_type": "code",
   "execution_count": 90,
   "metadata": {},
   "outputs": [
    {
     "data": {
      "text/plain": [
       "array([-2.02018287, -0.95857246,  0.        ,  0.95857246,  2.02018287])"
      ]
     },
     "execution_count": 90,
     "metadata": {},
     "output_type": "execute_result"
    }
   ],
   "source": [
    "rule.points"
   ]
  },
  {
   "cell_type": "code",
   "execution_count": null,
   "metadata": {},
   "outputs": [],
   "source": [
    "\n",
    "\n"
   ]
  },
  {
   "cell_type": "code",
   "execution_count": null,
   "metadata": {},
   "outputs": [],
   "source": []
  }
 ],
 "metadata": {
  "kernelspec": {
   "display_name": "Python [conda env:firm_learning]",
   "language": "python",
   "name": "conda-env-firm_learning-py"
  },
  "language_info": {
   "codemirror_mode": {
    "name": "ipython",
    "version": 3
   },
   "file_extension": ".py",
   "mimetype": "text/x-python",
   "name": "python",
   "nbconvert_exporter": "python",
   "pygments_lexer": "ipython3",
   "version": "3.7.0"
  }
 },
 "nbformat": 4,
 "nbformat_minor": 2
}
