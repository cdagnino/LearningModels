{
 "cells": [
  {
   "cell_type": "markdown",
   "metadata": {},
   "source": [
    "# Integrating the value function correctly\n",
    "\n",
    "Right now I'm using the generic `scipy.integrate.quad`, which is probably slow (tons of integration points)\n",
    "and not precise.\n",
    "\n",
    "It seems it also struggles with some values of lambdas and p.\n",
    "\n",
    "Objectives:\n",
    "\n",
    "1. Write a Gauss-Hermite integration procedure\n",
    "2. Check for accuracy against `scipy.integrate.quad`\n",
    "3. Check for lambdas, p points where the integration struggles\n",
    "\n",
    "\n",
    "The integration is over future states of log demand.\n",
    "\n",
    "$$ \\int V_{b_{t+1}}(I_{t+1}(x_{t+1}, I_t)) b_t(x_{t+1}| a_t, I_t )\\; d x_{t+1} = \\int V_{b_{t+1}}(I_{t+1}(x_{t+1}, I_t)) \\left[\\sum_{l=1}^L p_l(x_{t+1}) \\lambda_l\\right] \\; d x_{t+1} $$\n",
    "\n",
    "$$ = \\sum_{l=1}^L \\left[ \\int V_{b_{t+1}}(I_{t+1}(x_{t+1}, I_t)) p_l(x_{t+1}) ; d x_{t+1} \\right] * \\lambda_l $$\n",
    "\n",
    "Since $p_l(x_{t+1})$ is a normal pdf, it makes sense to use Gauss-Hermite integration for each element of the sum above (See Judd(1998) \"Numerical Methods in Economics\", page 261ff):\n",
    "\n",
    "$$\\int V_{b_{t+1}}(I_{t+1}(x_{t+1}, I_t)) p_l(x_{t+1}) ; d x_{t+1} \\approx \\pi^{-1/2} \\sum_{i=1}^n w_i V(\\sqrt{2} \\sigma x_i + \\mu_l)$$\n",
    "\n",
    "where $x_i, w_i$ are Gauss-Hermite collocation points and weights and\n",
    "\n",
    "$$ \\mu_l = \\alpha + \\beta_l \\log p_t $$\n",
    "\n",
    "According to Judd (1998), ~7 nodes might be enough to get a low error.\n",
    "\n",
    "The sample points and weights are obtained from https://keisan.casio.com/exec/system/1281195844\n"
   ]
  },
  {
   "cell_type": "code",
   "execution_count": 12,
   "metadata": {},
   "outputs": [
    {
     "name": "stdout",
     "output_type": "stream",
     "text": [
      "[0.33333333 0.66666667 0.        ]\n"
     ]
    }
   ],
   "source": [
    "import sys\n",
    "sys.path.append(\"../\")\n",
    "sys.path.append(\"../examples\")\n",
    "import src\n",
    "import src.constants as const\n",
    "import scipy.integrate as integrate\n",
    "from aguirregabiria_simple import v0\n",
    "import numpy as np\n",
    "from typing import Callable\n",
    "import dill\n",
    "\n",
    "\n",
    "lambdas = src.generate_simplex_3dims(4)\n",
    "rand_n = np.random.randint(0, high=len(lambdas))\n",
    "\n",
    "r_lambda_point = lambdas[rand_n]\n",
    "print(r_lambda_point)"
   ]
  },
  {
   "cell_type": "code",
   "execution_count": 2,
   "metadata": {},
   "outputs": [
    {
     "data": {
      "text/plain": [
       "1.81254388137579"
      ]
     },
     "execution_count": 2,
     "metadata": {},
     "output_type": "execute_result"
    }
   ],
   "source": [
    "v0(r_lambda_point[:-1])"
   ]
  },
  {
   "cell_type": "code",
   "execution_count": 19,
   "metadata": {},
   "outputs": [
    {
     "name": "stdout",
     "output_type": "stream",
     "text": [
      "0.5 1.8718984650262889\n",
      "0.6111111111111112 1.823408894837528\n",
      "0.7222222222222222 1.7544727937000566\n",
      "0.8333333333333333 1.6879042576891523\n",
      "0.9444444444444444 1.6455083204680672\n",
      "1.0555555555555556 1.6449257407917766\n",
      "1.1666666666666665 1.6759757058032823\n",
      "1.2777777777777777 1.7167068185508567\n",
      "1.3888888888888888 1.7558935574813115\n",
      "1.5 1.789834333551749\n"
     ]
    }
   ],
   "source": [
    "i = 1\n",
    "length_of_price_grid = 10\n",
    "min_price, max_price = 0.5, 1.5\n",
    "dmd_transition_fs = src.dmd_transition_fs\n",
    "update_lambdas = src.update_lambdas\n",
    "belief = src.belief\n",
    "wGuess = v0\n",
    "p_array = np.linspace(min_price, max_price, num=length_of_price_grid) \n",
    "\n",
    "\n",
    "for i in range(len(p_array)):\n",
    "    def new_lambdas(new_dmd):\n",
    "        return update_lambdas(new_dmd, transition_fs=dmd_transition_fs,\n",
    "                              old_lambdas=r_lambda_point, action=p_array[i], old_state=2.5)\n",
    "    \n",
    "    def new_belief(new_dmd):\n",
    "        \"\"\"\n",
    "        Don't update lambdas! Use the ones from the current period\n",
    "        \"\"\"\n",
    "        return belief(new_dmd, transition_fs=dmd_transition_fs,\n",
    "                      lambda_weights=r_lambda_point,\n",
    "                      action=p_array[i], old_state=2.5)\n",
    "\n",
    "    def integrand(new_dmd):\n",
    "        return wGuess(new_lambdas(new_dmd)[:-1]) * new_belief(new_dmd)\n",
    "\n",
    "    logd_min, logd_max = -6, 5#-6, 2.3\n",
    "    integrated_values, error = integrate.quad(integrand, logd_min, logd_max)\n",
    "    print(p_array[i], integrated_values)"
   ]
  },
  {
   "cell_type": "code",
   "execution_count": 35,
   "metadata": {},
   "outputs": [
    {
     "name": "stdout",
     "output_type": "stream",
     "text": [
      "beliefs on:  1.5\n"
     ]
    },
    {
     "data": {
      "text/plain": [
       "1.7891557069558426"
      ]
     },
     "execution_count": 35,
     "metadata": {},
     "output_type": "execute_result"
    }
   ],
   "source": [
    "from scipy import integrate\n",
    "\n",
    "print(\"beliefs on: \", p_array[i])\n",
    "yvals = []\n",
    "xvals = np.linspace(-6, 5, num=20)\n",
    "for x in xvals:\n",
    "    yvals.append(integrand(x))\n",
    "integrate.trapz(yvals, xvals)"
   ]
  },
  {
   "cell_type": "code",
   "execution_count": null,
   "metadata": {},
   "outputs": [],
   "source": [
    "0.5 1.58146867950315\n",
    "0.6111111111111112 1.5810837077791862\n",
    "0.7222222222222222 1.5802274822931164\n",
    "0.8333333333333333 1.5786553583558518\n",
    "0.9444444444444444 1.5766330632974608\n",
    "1.0555555555555556 1.5772924234992987\n",
    "1.1666666666666665 1.5905227980421508\n",
    "1.2777777777777777 1.6318165509129166\n",
    "1.3888888888888888 1.702779533449348\n",
    "1.5 1.7917026242070173\n",
    "\n",
    "\n"
   ]
  },
  {
   "cell_type": "code",
   "execution_count": 28,
   "metadata": {},
   "outputs": [],
   "source": [
    "hermite_xs = np.array([-2.6519613568352334924470820065166161144,\n",
    "-1.6735516287674714450318013983035948191,\n",
    "             -0.81628788285896466303871095902714581674, 0., 0.8162878828589646630387109590271458167,\n",
    "1.6735516287674714450318013983035948191, 2.6519613568352334924470820065166161144])\n",
    "\n",
    "hermite_ws = np.array([9.717812450995191541494242559389596444E-4,\n",
    "0.054515582819127030592178568841695125961,\n",
    "0.42560725261012780052031746666639103544,\n",
    "0.8102646175568073267648765638130949407,\n",
    "0.42560725261012780052031746666639103544,\n",
    "0.054515582819127030592178568841695125961,\n",
    "9.717812450995191541494242559389596444E-4])\n",
    "\n",
    "\n",
    "#Más nodos:\n",
    "\n",
    "hermite_xs = np.array([-5.387480890011232862017, -4.603682449550744273078, -3.944764040115625210376,\n",
    "                       -3.347854567383216326915, -2.78880605842813048053, -2.254974002089275523082,\n",
    "                       -1.738537712116586206781,\n",
    "-1.234076215395323007886, -0.7374737285453943587056, -0.2453407083009012499038,\n",
    "0.2453407083009012499038, 0.7374737285453943587056, 1.234076215395323007886,  \n",
    "1.738537712116586206781, 2.254974002089275523082, 2.78880605842813048053,   \n",
    "3.347854567383216326915, 3.944764040115625210376, 4.603682449550744273078,   \n",
    "5.387480890011232862017])\n",
    "\n",
    "hermite_ws = np.array([2.22939364553415129252E-13, 4.3993409922731805536E-10,\n",
    "1.086069370769281694E-7, 7.80255647853206369415E-6, 2.28338636016353967257E-4,\n",
    "0.00324377334223786183218, 0.0248105208874636108822, 0.1090172060200233200138,\n",
    "0.2866755053628341297197, 0.46224366960061008965,0.46224366960061008965,\n",
    "0.28667550536283412972, 0.1090172060200233200138, 0.0248105208874636108822,\n",
    "0.00324377334223786183218, 2.283386360163539672572E-4, 7.8025564785320636941E-6,\n",
    "1.086069370769281694E-7, 4.39934099227318055363E-10, 2.22939364553415129252E-13])  "
   ]
  },
  {
   "cell_type": "markdown",
   "metadata": {},
   "source": [
    "## New Belief check\n",
    "\n",
    "New belief should be a gaussian mixture density.\n",
    "\n",
    "Does it behave that way?"
   ]
  },
  {
   "cell_type": "code",
   "execution_count": null,
   "metadata": {},
   "outputs": [],
   "source": []
  },
  {
   "cell_type": "code",
   "execution_count": 5,
   "metadata": {},
   "outputs": [
    {
     "data": {
      "text/plain": [
       "[<matplotlib.lines.Line2D at 0x1817a03550>]"
      ]
     },
     "execution_count": 5,
     "metadata": {},
     "output_type": "execute_result"
    },
    {
     "data": {
      "image/png": "[encoded data removed]",
      "text/plain": [
       "<Figure size 432x288 with 1 Axes>"
      ]
     },
     "metadata": {},
     "output_type": "display_data"
    }
   ],
   "source": [
    "%matplotlib inline\n",
    "import matplotlib.pyplot as plt\n",
    "\n",
    "\n",
    "def new_belief(new_dmd):\n",
    "    return belief(new_dmd, transition_fs=dmd_transition_fs,\n",
    "                  lambda_weights=new_lambdas(new_dmd),\n",
    "                  action=p_array[i], old_state=2.5)\n",
    "\n",
    "new_beliefs_vals = []\n",
    "#rescaled_demands = rescale_demand(hermite_point, beta_l, p_array)\n",
    "rescaled_demands = np.log(np.linspace(0.01, 10, 50))\n",
    "for dmd in rescaled_demands:\n",
    "    new_beliefs_vals.append(new_belief(dmd))\n",
    "\n",
    "fig, ax = plt.subplots(1, 1)\n",
    "ax.plot(rescaled_demands, new_beliefs_vals)"
   ]
  },
  {
   "cell_type": "code",
   "execution_count": 47,
   "metadata": {},
   "outputs": [
    {
     "name": "stdout",
     "output_type": "stream",
     "text": [
      "1.5\n"
     ]
    },
    {
     "data": {
      "text/plain": [
       "<matplotlib.legend.Legend at 0x18191c7e80>"
      ]
     },
     "execution_count": 47,
     "metadata": {},
     "output_type": "execute_result"
    },
    {
     "data": {
      "image/png": "[encoded data removed]",
      "text/plain": [
       "<Figure size 432x288 with 1 Axes>"
      ]
     },
     "metadata": {},
     "output_type": "display_data"
    }
   ],
   "source": [
    "fig, ax = plt.subplots(1, 1)\n",
    "ax.plot(xvals, yvals, label='integrand values')\n",
    "\n",
    "#p1.5\n",
    "print(p_array[i])\n",
    "ghxvals, ghyvals = gauss_hermite_y_values(v0, p_array[i], r_lambda_point, hermite_xs, hermite_ws)\n",
    "ax.plot(ghxvals, np.pi**(-0.5)*ghyvals, label='GH Y values')\n",
    "ax.legend()"
   ]
  },
  {
   "cell_type": "code",
   "execution_count": 73,
   "metadata": {},
   "outputs": [],
   "source": [
    "hermite_point = hermite_xs[4]\n",
    "beta_l = const.betas_transition[0]\n",
    "rescaled_demand = rescale_demand(hermite_point, beta_l, p_array) "
   ]
  },
  {
   "cell_type": "code",
   "execution_count": 29,
   "metadata": {},
   "outputs": [
    {
     "name": "stdout",
     "output_type": "stream",
     "text": [
      "-5.387480890011233 -4.595425044179217\n",
      "-4.603682449550744 -3.8116266037187287\n",
      "-3.944764040115625 -3.1527081942836097\n",
      "-3.3478545673832163 -2.555798721551201\n",
      "-2.7888060584281305 -1.9967502125961145\n",
      "-2.2549740020892757 -1.4629181562572597\n",
      "-1.7385377121165861 -0.9464818662845702\n",
      "-1.234076215395323 -0.4420203695633069\n",
      "-0.7374737285453944 0.05458211728662188\n",
      "-0.24534070830090124 0.5467151375311151\n",
      "0.24534070830090124 1.0373965541329178\n",
      "0.7374737285453944 1.5295295743774109\n",
      "1.234076215395323 2.0261320612273397\n",
      "1.7385377121165861 2.530593557948603\n",
      "2.2549740020892757 3.0470298479212925\n",
      "2.7888060584281305 3.5808619042601473\n",
      "3.3478545673832163 4.139910413215233\n",
      "3.944764040115625 4.736819885947643\n",
      "4.603682449550744 5.3957382953827615\n",
      "5.387480890011233 6.17953673584325\n"
     ]
    }
   ],
   "source": [
    "for hpoint in hermite_xs:\n",
    "    print(hpoint, rescale_demand(hpoint, beta_l=0.3, price=p_array[0]))"
   ]
  },
  {
   "cell_type": "code",
   "execution_count": 46,
   "metadata": {},
   "outputs": [
    {
     "name": "stdout",
     "output_type": "stream",
     "text": [
      "0.5 1.5814688248870796\n",
      "0.6111111111111112 1.581077348397766\n",
      "0.7222222222222222 1.580235976862888\n",
      "0.8333333333333333 1.5787361763012677\n",
      "0.9444444444444444 1.5765775715956087\n",
      "1.0555555555555556 1.5767850452624783\n",
      "1.1666666666666665 1.5906806885880973\n",
      "1.2777777777777777 1.6327213535183351\n",
      "1.3888888888888888 1.7041802687295133\n",
      "1.5 1.7898435268048578\n"
     ]
    }
   ],
   "source": [
    "\n",
    "sqrt2 = np.sqrt(2)\n",
    "\n",
    "def rescale_demand(dmd, beta_l, price):\n",
    "    \"\"\"\n",
    "    Rescales demand to use Gauss-Hermite collocation points\n",
    "    \"\"\"\n",
    "    mu = const.α + beta_l*np.log(price)\n",
    "    return sqrt2*const.σ_ɛ * dmd + mu\n",
    "\n",
    "def gauss_hermite_integrate(f, price, lambdas, hermite_xs, hermite_ws):\n",
    "    \"\"\"\n",
    "    Integrates f with Guass-Hermite\n",
    "    \"\"\"\n",
    "    sum_over_each_lambda = 0.\n",
    "    for l, beta_l in enumerate(const.betas_transition):\n",
    "        for k, hermite_point in enumerate(hermite_xs):\n",
    "            rescaled_demand = rescale_demand(hermite_point, beta_l, price)            \n",
    "            new_lambdas_value = new_lambdas(rescaled_demand)\n",
    "            v_value = f(new_lambdas_value[:-1])\n",
    "            sum_over_each_lambda += f(new_lambdas_value[:-1])*hermite_ws[k]*lambdas[l]\n",
    "    \n",
    "    return np.pi**(-0.5)*sum_over_each_lambda\n",
    "\n",
    "def gauss_hermite_y_values(f, price, lambdas, hermite_xs, hermite_ws):\n",
    "    yvals = np.empty_like(hermite_xs)\n",
    "    xvals = np.empty_like(hermite_xs)\n",
    "    for k, hermite_point in enumerate(hermite_xs):\n",
    "        yvals[k] = 0.\n",
    "        xvals[k] = 0.\n",
    "        for l, beta_l in enumerate(const.betas_transition):\n",
    "            rescaled_demand = rescale_demand(hermite_point, beta_l, price)\n",
    "            xvals[k] += rescaled_demand*beta_l\n",
    "            new_lambdas_value = new_lambdas(rescaled_demand)\n",
    "            v_value = f(new_lambdas_value[:-1])\n",
    "            yvals[k] += f(new_lambdas_value[:-1])*lambdas[l]*hermite_ws[k]\n",
    "    \n",
    "    return xvals, yvals\n",
    "\n",
    "for p in p_array:\n",
    "    value = gauss_hermite_integrate(v0, p, r_lambda_point, hermite_xs, hermite_ws)\n",
    "    print(p, value)"
   ]
  },
  {
   "cell_type": "code",
   "execution_count": null,
   "metadata": {},
   "outputs": [],
   "source": [
    "0.5 1.8718984650262889\n",
    "0.6111111111111112 1.823408894837528\n",
    "0.7222222222222222 1.7544727937000566\n",
    "0.8333333333333333 1.6879042576891523\n",
    "0.9444444444444444 1.6455083204680672\n",
    "1.0555555555555556 1.6449257407917766\n",
    "1.1666666666666665 1.6759757058032823\n",
    "1.2777777777777777 1.7167068185508567\n",
    "1.3888888888888888 1.7558935574813115\n",
    "1.5 1.789834333551749\n"
   ]
  },
  {
   "cell_type": "code",
   "execution_count": 62,
   "metadata": {},
   "outputs": [
    {
     "data": {
      "text/plain": [
       "array([38.73115206, 21.21338081, 12.85162032,  8.36592885,  5.74699977,\n",
       "        4.11649072,  3.04880789,  2.32062216,  1.80704063,  1.43448711])"
      ]
     },
     "execution_count": 62,
     "metadata": {},
     "output_type": "execute_result"
    }
   ],
   "source": [
    "hermite_point = hermite_xs[4]\n",
    "beta_l = const.betas_transition[0]\n",
    "np.e**rescale_demand(hermite_point, beta_l, p_array) "
   ]
  },
  {
   "cell_type": "markdown",
   "metadata": {},
   "source": [
    "$$\\int V_{b_{t+1}}(I_{t+1}(x_{t+1}, I_t)) p_l(x_{t+1}) ; d x_{t+1} \\approx \\pi^{-1/2} \\sum_{i=1}^n w_i V(\\sqrt{2} \\sigma x_i + \\mu_l)$$"
   ]
  },
  {
   "cell_type": "code",
   "execution_count": 29,
   "metadata": {},
   "outputs": [
    {
     "data": {
      "text/plain": [
       "array([-1.88463657, -1.19279642, -0.58661941, -0.00941671,  0.56778599,\n",
       "        1.173963  ,  1.86580315])"
      ]
     },
     "execution_count": 29,
     "metadata": {},
     "output_type": "execute_result"
    }
   ],
   "source": [
    "rescale_demand(hermite_xs, -3, price=1.4)"
   ]
  },
  {
   "cell_type": "code",
   "execution_count": 23,
   "metadata": {},
   "outputs": [
    {
     "data": {
      "text/plain": [
       "array([-3. , -2.5, -2. ])"
      ]
     },
     "execution_count": 23,
     "metadata": {},
     "output_type": "execute_result"
    }
   ],
   "source": [
    "const.betas_transition"
   ]
  },
  {
   "cell_type": "markdown",
   "metadata": {},
   "source": [
    "## Using QuadPy"
   ]
  },
  {
   "cell_type": "code",
   "execution_count": 83,
   "metadata": {},
   "outputs": [
    {
     "data": {
      "text/plain": [
       "0.8862269254527577"
      ]
     },
     "execution_count": 83,
     "metadata": {},
     "output_type": "execute_result"
    }
   ],
   "source": [
    "import quadpy\n",
    "val = quadpy.e1r2.integrate(\n",
    "    lambda x: x**2,\n",
    "    quadpy.e1r2.GaussHermite(5)\n",
    "    )\n",
    "val"
   ]
  },
  {
   "cell_type": "code",
   "execution_count": 86,
   "metadata": {},
   "outputs": [
    {
     "data": {
      "text/plain": [
       "0.49999999999999994"
      ]
     },
     "execution_count": 86,
     "metadata": {},
     "output_type": "execute_result"
    }
   ],
   "source": [
    "def simple_gauss_hermite(f, hermite_xs, hermite_ws):\n",
    "    return np.pi**(-0.5)*np.dot(f(hermite_xs), hermite_ws)\n",
    "\n",
    "def example_f(x):\n",
    "    return x**2\n",
    "\n",
    "simple_gauss_hermite(example_f, hermite_xs, hermite_ws)\n"
   ]
  },
  {
   "cell_type": "code",
   "execution_count": null,
   "metadata": {},
   "outputs": [],
   "source": []
  }
 ],
 "metadata": {
  "kernelspec": {
   "display_name": "Python [conda env:learningenv]",
   "language": "python",
   "name": "conda-env-learningenv-py"
  },
  "language_info": {
   "codemirror_mode": {
    "name": "ipython",
    "version": 3
   },
   "file_extension": ".py",
   "mimetype": "text/x-python",
   "name": "python",
   "nbconvert_exporter": "python",
   "pygments_lexer": "ipython3",
   "version": "3.7.0"
  }
 },
 "nbformat": 4,
 "nbformat_minor": 2
}
