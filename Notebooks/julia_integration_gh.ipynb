{
 "cells": [
  {
   "cell_type": "markdown",
   "metadata": {},
   "source": [
    "### Gauss-Hermite Integration in Julia"
   ]
  },
  {
   "cell_type": "code",
   "execution_count": 2,
   "metadata": {
    "inputHidden": false,
    "outputHidden": false
   },
   "outputs": [
    {
     "data": {
      "text/plain": [
       "55×3 Array{Float64,2}:\n",
       " 0.0       0.0       1.0        \n",
       " 0.0       0.111111  0.888889   \n",
       " 0.0       0.222222  0.777778   \n",
       " 0.0       0.333333  0.666667   \n",
       " 0.0       0.444444  0.555556   \n",
       " 0.0       0.555556  0.444444   \n",
       " 0.0       0.666667  0.333333   \n",
       " 0.0       0.777778  0.222222   \n",
       " 0.0       0.888889  0.111111   \n",
       " 0.0       1.0       0.0        \n",
       " 0.111111  0.0       0.888889   \n",
       " 0.111111  0.111111  0.777778   \n",
       " 0.111111  0.222222  0.666667   \n",
       " ⋮                              \n",
       " 0.555556  0.333333  0.111111   \n",
       " 0.555556  0.444444  0.0        \n",
       " 0.666667  0.0       0.333333   \n",
       " 0.666667  0.111111  0.222222   \n",
       " 0.666667  0.222222  0.111111   \n",
       " 0.666667  0.333333  5.55112e-17\n",
       " 0.777778  0.0       0.222222   \n",
       " 0.777778  0.111111  0.111111   \n",
       " 0.777778  0.222222  0.0        \n",
       " 0.888889  0.0       0.111111   \n",
       " 0.888889  0.111111  5.55112e-17\n",
       " 1.0       0.0       0.0        "
      ]
     },
     "execution_count": 2,
     "metadata": {},
     "output_type": "execute_result"
    }
   ],
   "source": [
    "using Plots; pyplot()\n",
    "include(\"../julia/aguirregabiria_core.jl\")\n",
    "\n",
    "lambdas = generate_simplex_3dims(10)"
   ]
  },
  {
   "cell_type": "code",
   "execution_count": 3,
   "metadata": {
    "inputHidden": false,
    "outputHidden": false
   },
   "outputs": [
    {
     "data": {
      "text/plain": [
       "3-element Array{Float64,1}:\n",
       " 0.444444\n",
       " 0.222222\n",
       " 0.333333"
      ]
     },
     "execution_count": 3,
     "metadata": {},
     "output_type": "execute_result"
    }
   ],
   "source": [
    "rand_n = Int(floor(size(lambdas,1)*10*rand()))+1\n",
    "#r_lambda_point = lambdas[rand_n,:]\n",
    "r_lambda_point = [0.44444444, 0.22222222, 0.33333333]"
   ]
  },
  {
   "cell_type": "code",
   "execution_count": 4,
   "metadata": {
    "inputHidden": false,
    "outputHidden": false
   },
   "outputs": [
    {
     "data": {
      "text/plain": [
       "1.6917799949735917"
      ]
     },
     "execution_count": 4,
     "metadata": {},
     "output_type": "execute_result"
    }
   ],
   "source": [
    "function V_0(x) \n",
    "    optimal_price = myopic_price(x)\n",
    "    return period_return(optimal_price, x)\n",
    "end\n",
    "\n",
    "V_0(r_lambda_point)"
   ]
  },
  {
   "cell_type": "code",
   "execution_count": 5,
   "metadata": {
    "inputHidden": false,
    "outputHidden": false
   },
   "outputs": [
    {
     "name": "stdout",
     "output_type": "stream",
     "text": [
      "0.5, 2.097631943127567 - e=1.2462908311427129e-8\n",
      "0.6111111111111112, 2.025876185506737 - e=1.1712544574079989e-8\n",
      "0.7222222222222222, 1.9053169357527093 - e=9.975950343882468e-9\n",
      "0.8333333333333334, 1.779015516227124 - e=5.82914688304455e-9\n",
      "0.9444444444444444, 1.7013121937615707 - e=1.3781705148050665e-8\n",
      "1.0555555555555556, 1.700316094838661 - e=4.6909522704545786e-9\n",
      "1.1666666666666667, 1.756471419516215 - e=8.891180451159005e-9\n",
      "1.2777777777777777, 1.8340364655525545 - e=4.096769596183274e-9\n",
      "1.3888888888888888, 1.9079493335147637 - e=1.2198817287588658e-8\n",
      "1.5, 1.9692222569380453 - e=2.4191625334116114e-9\n",
      "  2.608195 seconds (1.12 M allocations: 52.725 MiB, 0.87% gc time)\n"
     ]
    }
   ],
   "source": [
    "l_price_grid = 10\n",
    "min_price = 0.5\n",
    "max_price = 1.5\n",
    "p_array = linspace(min_price, max_price, l_price_grid)\n",
    "\n",
    "@time begin\n",
    "    for i in 1:l_price_grid\n",
    "\n",
    "        new_lambdas(x) = update_lambdas(x, p_array[i], 2.5, r_lambda_point)\n",
    "        new_belief(x)  = belief(x, p_array[i], 2.5, r_lambda_point)\n",
    "        \n",
    "        #Vguess takes all lambdas except last (because of the simplex)\n",
    "        integrand(x) = V_0(new_lambdas(x))*new_belief(x)\n",
    "\n",
    "        logd_min, logd_max = -6, 5 #-6, 2.3\n",
    "        intgr_value, error_tmp = quadgk(integrand, logd_min, logd_max, maxevals=2000)\n",
    "        \n",
    "        println(p_array[i], \", \", intgr_value, \" - e=\", error_tmp)   \n",
    "\n",
    "    end\n",
    "end"
   ]
  },
  {
   "cell_type": "markdown",
   "metadata": {},
   "source": [
    "#### New Belief Check\n",
    "\n",
    "The `new_belief()` function should behave like a Gaussian mixture:"
   ]
  },
  {
   "cell_type": "code",
   "execution_count": 6,
   "metadata": {
    "inputHidden": false,
    "outputHidden": false
   },
   "outputs": [
    {
     "data": {
      "image/png": "[encoded data removed]"
     },
     "execution_count": 6,
     "metadata": {},
     "output_type": "execute_result"
    }
   ],
   "source": [
    "new_belief(x) = belief(x, p_array[8], 2.5, r_lambda_point)\n",
    "\n",
    "rescaled_demands = log.(linspace(0.01, 10, 50))\n",
    "new_belief_vals = zeros(50)\n",
    "\n",
    "for (i, dmd) in enumerate(rescaled_demands)\n",
    "    new_belief_vals[i] = new_belief(dmd)\n",
    "end\n",
    "\n",
    "plot(rescaled_demands, new_belief_vals)"
   ]
  },
  {
   "cell_type": "markdown",
   "metadata": {},
   "source": [
    "#### Gauss-Hermite integration"
   ]
  },
  {
   "cell_type": "code",
   "execution_count": 7,
   "metadata": {
    "inputHidden": false,
    "outputHidden": false
   },
   "outputs": [],
   "source": [
    "using FastGaussQuadrature"
   ]
  },
  {
   "cell_type": "code",
   "execution_count": 8,
   "metadata": {
    "inputHidden": false,
    "outputHidden": false
   },
   "outputs": [
    {
     "data": {
      "text/plain": [
       "rescale_demand (generic function with 1 method)"
      ]
     },
     "execution_count": 8,
     "metadata": {},
     "output_type": "execute_result"
    }
   ],
   "source": [
    "function rescale_demand(d, beta_l, price)\n",
    "    # Rescales demand to use Gauss-Hermite \n",
    "    # collocation points.\n",
    "    mu = alpha + beta_l*log.(price)\n",
    "    \n",
    "    return (sqrt(2)*sigma_eps*d + mu)\n",
    "end"
   ]
  },
  {
   "cell_type": "code",
   "execution_count": 16,
   "metadata": {
    "inputHidden": false,
    "outputHidden": false
   },
   "outputs": [
    {
     "name": "stdout",
     "output_type": "stream",
     "text": [
      "  0.079076 seconds (13.68 k allocations: 742.427 KiB)\n"
     ]
    },
    {
     "data": {
      "text/plain": [
       "([-2.65196, -1.67355, -0.816288, -1.33227e-15, 0.816288, 1.67355, 2.65196], [0.000971781, 0.0545156, 0.425607, 0.810265, 0.425607, 0.0545156, 0.000971781])"
      ]
     },
     "execution_count": 16,
     "metadata": {},
     "output_type": "execute_result"
    }
   ],
   "source": [
    "function gauss_hermite_integrate(f, price, lambdas, GHx, GHw)\n",
    "    # Gauss-Hermite integration using pre-computed\n",
    "    # collocations and weights.\n",
    "    sum_over_each_lambda = 0.0\n",
    "    for (l, beta_l) in enumerate(betas_transition)\n",
    "        for (k, hermite_point) in enumerate(GHx)\n",
    "            rescaled_remand = rescale_demand(hermite_point, beta_l, price)\n",
    "            #new_lambdas(x) = update_lambdas(x, price, 2.5, r_lambda_point)\n",
    "            new_lambdas_val = update_lambdas(rescaled_remand, price, 2.5, r_lambda_point)\n",
    "            v_value = f(new_lambdas_val)\n",
    "            sum_over_each_lambda += v_value*GHw[k]*lambdas[l]\n",
    "        end\n",
    "    end\n",
    "    return (1/sqrt(pi) * sum_over_each_lambda)\n",
    "end\n",
    "\n",
    "@time nodes, weights = gausshermite(7)"
   ]
  },
  {
   "cell_type": "markdown",
   "metadata": {},
   "source": [
    "#### Time testing & comparison"
   ]
  },
  {
   "cell_type": "code",
   "execution_count": 17,
   "metadata": {
    "inputHidden": false,
    "outputHidden": false
   },
   "outputs": [
    {
     "name": "stdout",
     "output_type": "stream",
     "text": [
      "0.5, 2.108270065230587\n",
      "0.6111111111111112, 2.022293181873441\n",
      "0.7222222222222222, 1.9061879343493664\n",
      "0.8333333333333334, 1.779000129234002\n",
      "0.9444444444444444, 1.7013121939148848\n",
      "1.0555555555555556, 1.7003160949136364\n",
      "1.1666666666666667, 1.75647118766041\n",
      "1.2777777777777777, 1.8339477279209733\n",
      "1.3888888888888888, 1.908876715884423\n",
      "1.5, 1.9698115156591147\n",
      "  0.066994 seconds (33.50 k allocations: 1.184 MiB)\n"
     ]
    }
   ],
   "source": [
    "@time begin\n",
    "    for p in p_array\n",
    "        intgr_value = gauss_hermite_integrate(V_0, p, r_lambda_point, nodes, weights)\n",
    "        println(p, \", \", intgr_value)\n",
    "    end\n",
    "end"
   ]
  },
  {
   "cell_type": "markdown",
   "metadata": {
    "inputHidden": false,
    "outputHidden": false
   },
   "source": [
    "#### Test with increasing number G.-H. nodes"
   ]
  },
  {
   "cell_type": "code",
   "execution_count": 35,
   "metadata": {},
   "outputs": [
    {
     "data": {
      "image/png": "[encoded data removed]"
     },
     "execution_count": 35,
     "metadata": {},
     "output_type": "execute_result"
    }
   ],
   "source": [
    "test_values = vcat(collect(7:50), collect(50:10:100))\n",
    "int_test_values = zeros(length(test_values))\n",
    "for (i, num_nodes) in enumerate(test_values)\n",
    "    nodes, weights = gausshermite(num_nodes)\n",
    "    int_test_values[i] = gauss_hermite_integrate(V_0, p_array[1], r_lambda_point, nodes, weights)\n",
    "end\n",
    "\n",
    "plot(test_values, int_test_values)"
   ]
  },
  {
   "cell_type": "code",
   "execution_count": 36,
   "metadata": {},
   "outputs": [
    {
     "data": {
      "image/png": "[encoded data removed]"
     },
     "execution_count": 36,
     "metadata": {},
     "output_type": "execute_result"
    }
   ],
   "source": [
    "plot(test_values, abs.(int_test_values./int_test_values[end]-1))"
   ]
  },
  {
   "cell_type": "code",
   "execution_count": null,
   "metadata": {},
   "outputs": [],
   "source": []
  }
 ],
 "metadata": {
  "kernel_info": {
   "name": "julia-0.6"
  },
  "kernelspec": {
   "display_name": "Julia 0.6.4",
   "language": "julia",
   "name": "julia-0.6"
  },
  "language_info": {
   "file_extension": ".jl",
   "mimetype": "application/julia",
   "name": "julia",
   "version": "0.6.4"
  },
  "nteract": {
   "version": "0.11.7"
  }
 },
 "nbformat": 4,
 "nbformat_minor": 4
}
