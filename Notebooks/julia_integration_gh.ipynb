{
  "cells": [
    {
      "cell_type": "markdown",
      "source": [
        "### Gauss-Hermite Integration in Julia"
      ],
      "metadata": {}
    },
    {
      "cell_type": "code",
      "source": [
        "using Plots; pyplot()\n",
        "include(\"../julia/aguirregabiria_core.jl\")\n",
        "\nlambdas = generate_simplex_3dims(10)"
      ],
      "outputs": [
        {
          "output_type": "execute_result",
          "execution_count": 1,
          "data": {
            "text/plain": [
              "55×3 Array{Float64,2}:\n",
              " 0.0       0.0       1.0        \n",
              " 0.0       0.111111  0.888889   \n",
              " 0.0       0.222222  0.777778   \n",
              " 0.0       0.333333  0.666667   \n",
              " 0.0       0.444444  0.555556   \n",
              " 0.0       0.555556  0.444444   \n",
              " 0.0       0.666667  0.333333   \n",
              " 0.0       0.777778  0.222222   \n",
              " 0.0       0.888889  0.111111   \n",
              " 0.0       1.0       0.0        \n",
              " 0.111111  0.0       0.888889   \n",
              " 0.111111  0.111111  0.777778   \n",
              " 0.111111  0.222222  0.666667   \n",
              " ⋮                              \n",
              " 0.555556  0.333333  0.111111   \n",
              " 0.555556  0.444444  0.0        \n",
              " 0.666667  0.0       0.333333   \n",
              " 0.666667  0.111111  0.222222   \n",
              " 0.666667  0.222222  0.111111   \n",
              " 0.666667  0.333333  5.55112e-17\n",
              " 0.777778  0.0       0.222222   \n",
              " 0.777778  0.111111  0.111111   \n",
              " 0.777778  0.222222  0.0        \n",
              " 0.888889  0.0       0.111111   \n",
              " 0.888889  0.111111  5.55112e-17\n",
              " 1.0       0.0       0.0        "
            ]
          },
          "metadata": {}
        }
      ],
      "execution_count": 1,
      "metadata": {
        "collapsed": false,
        "outputHidden": false,
        "inputHidden": false
      }
    },
    {
      "cell_type": "code",
      "source": [
        "rand_n = Int(floor(size(lambdas,1)*10*rand()))+1\n",
        "#r_lambda_point = lambdas[rand_n,:]\n",
        "r_lambda_point = [0.44444444, 0.22222222, 0.33333333]"
      ],
      "outputs": [
        {
          "output_type": "execute_result",
          "execution_count": 2,
          "data": {
            "text/plain": [
              "3-element Array{Float64,1}:\n",
              " 0.444444\n",
              " 0.222222\n",
              " 0.333333"
            ]
          },
          "metadata": {}
        }
      ],
      "execution_count": 2,
      "metadata": {
        "collapsed": false,
        "outputHidden": false,
        "inputHidden": false
      }
    },
    {
      "cell_type": "code",
      "source": [
        "function V_0(x) \n",
        "    optimal_price = myopic_price(x)\n",
        "    return period_return(optimal_price, x)\n",
        "end\n",
        "\nV_0(r_lambda_point)"
      ],
      "outputs": [
        {
          "output_type": "execute_result",
          "execution_count": 3,
          "data": {
            "text/plain": [
              "1.6917799949735917"
            ]
          },
          "metadata": {}
        }
      ],
      "execution_count": 3,
      "metadata": {
        "collapsed": false,
        "outputHidden": false,
        "inputHidden": false
      }
    },
    {
      "cell_type": "code",
      "source": [
        "l_price_grid = 10\n",
        "min_price = 0.5\n",
        "max_price = 1.5\n",
        "p_array = linspace(min_price, max_price, l_price_grid)\n",
        "\n",
        "@time begin\n",
        "    for i in 1:l_price_grid\n",
        "\n",
        "        new_lambdas(x) = update_lambdas(x, p_array[i], 2.5, r_lambda_point)\n",
        "        new_belief(x)  = belief(x, p_array[i], 2.5, r_lambda_point)\n",
        "        \n",
        "        #Vguess takes all lambdas except last (because of the simplex)\n",
        "        integrand(x) = V_0(new_lambdas(x))*new_belief(x)\n",
        "\n",
        "        logd_min, logd_max = -6, 5 #-6, 2.3\n",
        "        intgr_value, error_tmp = quadgk(integrand, logd_min, logd_max, maxevals=2000)\n",
        "        \n",
        "        println(p_array[i], \", \", intgr_value, \" - e=\", error_tmp)   \n",
        "\n",
        "    end\n",
        "end"
      ],
      "outputs": [
        {
          "output_type": "stream",
          "name": "stdout",
          "text": [
            "0.5, 2.097631943127567 - e=1.2462908311427129e-8\n",
            "0.6111111111111112, 2.025876185506737 - e=1.1712544574079989e-8\n",
            "0.7222222222222222, 1.9053169357527093 - e=9.975950343882468e-9\n",
            "0.8333333333333334, 1.779015516227124 - e=5.82914688304455e-9\n",
            "0.9444444444444444, 1.7013121937615707 - e=1.3781705148050665e-8\n",
            "1.0555555555555556, 1.700316094838661 - e=4.6909522704545786e-9\n",
            "1.1666666666666667, 1.756471419516215 - e=8.891180451159005e-9\n",
            "1.2777777777777777, 1.8340364655525545 - e=4.096769596183274e-9\n",
            "1.3888888888888888, 1.9079493335147637 - e=1.2198817287588658e-8\n",
            "1.5, 1.9692222569380453 - e=2.4191625334116114e-9\n",
            "  1.053692 seconds (1.12 M allocations: 52.659 MiB, 1.38% gc time)\n"
          ]
        }
      ],
      "execution_count": 4,
      "metadata": {
        "collapsed": false,
        "outputHidden": false,
        "inputHidden": false
      }
    },
    {
      "cell_type": "markdown",
      "source": [
        "#### New Belief Check\n",
        "\nThe `new_belief()` function should behave like a Gaussian mixture:"
      ],
      "metadata": {}
    },
    {
      "cell_type": "code",
      "source": [
        "new_belief(x) = belief(x, p_array[8], 2.5, r_lambda_point)\n",
        "\n",
        "rescaled_demands = log.(linspace(0.01, 10, 50))\n",
        "new_belief_vals = zeros(50)\n",
        "\n",
        "for (i, dmd) in enumerate(rescaled_demands)\n",
        "    new_belief_vals[i] = new_belief(dmd)\n",
        "end\n",
        "\nplot(rescaled_demands, new_belief_vals)"
      ],
      "outputs": [
        {
          "output_type": "execute_result",
          "execution_count": 5,
          "data": {
            "image/png": "[encoded data removed]"
          },
          "metadata": {}
        }
      ],
      "execution_count": 5,
      "metadata": {
        "collapsed": false,
        "outputHidden": false,
        "inputHidden": false
      }
    },
    {
      "cell_type": "markdown",
      "source": [
        "#### Gauss-Hermite integration"
      ],
      "metadata": {}
    },
    {
      "cell_type": "code",
      "source": [
        "using FastGaussQuadrature"
      ],
      "outputs": [],
      "execution_count": 6,
      "metadata": {
        "collapsed": false,
        "outputHidden": false,
        "inputHidden": false
      }
    },
    {
      "cell_type": "code",
      "source": [
        "function rescale_demand(d, beta_l, price)\n",
        "    # Rescales demand to use Gauss-Hermite \n",
        "    # collocation points.\n",
        "    mu = alpha + beta_l*log.(price)\n",
        "    \n",
        "    return (sqrt(2)*sigma_eps*d + mu)\n",
        "end"
      ],
      "outputs": [
        {
          "output_type": "execute_result",
          "execution_count": 7,
          "data": {
            "text/plain": [
              "rescale_demand (generic function with 1 method)"
            ]
          },
          "metadata": {}
        }
      ],
      "execution_count": 7,
      "metadata": {
        "collapsed": false,
        "outputHidden": false,
        "inputHidden": false
      }
    },
    {
      "cell_type": "code",
      "source": [
        "function gauss_hermite_integrate(f, price, lambdas, GHx, GHw)\n",
        "    # Gauss-Hermite integration using pre-computed\n",
        "    # collocations and weights.\n",
        "    sum_over_each_lambda = 0.0\n",
        "    for (l, beta_l) in enumerate(betas_transition)\n",
        "        for (k, hermite_point) in enumerate(GHx)\n",
        "            rescaled_remand = rescale_demand(hermite_point, beta_l, price)\n",
        "            #new_lambdas(x) = update_lambdas(x, price, 2.5, r_lambda_point)\n",
        "            new_lambdas_val = update_lambdas(rescaled_remand, price, 2.5, r_lambda_point)\n",
        "            v_value = f(new_lambdas_val)\n",
        "            sum_over_each_lambda += v_value*GHw[k]*lambdas[l]\n",
        "        end\n",
        "    end\n",
        "    return (1/sqrt(pi) * sum_over_each_lambda)\n",
        "end\n",
        "\n@time nodes, weights = gausshermite(10)"
      ],
      "outputs": [
        {
          "output_type": "stream",
          "name": "stdout",
          "text": [
            "  0.000179 seconds (86 allocations: 8.547 KiB)\n"
          ]
        },
        {
          "output_type": "execute_result",
          "execution_count": 18,
          "data": {
            "text/plain": [
              "([-3.43616, -2.53273, -1.75668, -1.03661, -0.342901, 0.342901, 1.03661, 1.75668, 2.53273, 3.43616], [7.64043e-6, 0.00134365, 0.0338744, 0.240139, 0.610863, 0.610863, 0.240139, 0.0338744, 0.00134365, 7.64043e-6])"
            ]
          },
          "metadata": {}
        }
      ],
      "execution_count": 18,
      "metadata": {
        "collapsed": false,
        "outputHidden": false,
        "inputHidden": false
      }
    },
    {
      "cell_type": "markdown",
      "source": [
        "#### Time testing & comparison"
      ],
      "metadata": {}
    },
    {
      "cell_type": "code",
      "source": [
        "@time begin\n",
        "    for p in p_array\n",
        "        intgr_value = gauss_hermite_integrate(V_0, p, r_lambda_point, nodes, weights)\n",
        "        println(p, \", \", intgr_value)\n",
        "    end\n",
        "end"
      ],
      "outputs": [
        {
          "output_type": "stream",
          "name": "stdout",
          "text": [
            "0.5, 2.107079246020032\n",
            "0.6111111111111112, 2.0260369795590933\n",
            "0.7222222222222222, 1.9052533808209173\n",
            "0.8333333333333334, 1.779017363257056\n",
            "0.9444444444444444, 1.7013121937615487\n",
            "1.0555555555555556, 1.7003160948386438\n",
            "1.1666666666666667, 1.7564714522033507\n",
            "1.2777777777777777, 1.8340682946434346\n",
            "1.3888888888888888, 1.907880967521041\n",
            "1.5, 1.969532674384869\n",
            "  0.051450 seconds (44.74 k allocations: 1.552 MiB)\n"
          ]
        }
      ],
      "execution_count": 19,
      "metadata": {
        "collapsed": false,
        "outputHidden": false,
        "inputHidden": false
      }
    },
    {
      "cell_type": "code",
      "source": [],
      "outputs": [],
      "execution_count": null,
      "metadata": {
        "collapsed": false,
        "outputHidden": false,
        "inputHidden": false
      }
    }
  ],
  "metadata": {
    "kernel_info": {
      "name": "julia-0.6"
    },
    "language_info": {
      "file_extension": ".jl",
      "name": "julia",
      "mimetype": "application/julia",
      "version": "0.6.4"
    },
    "kernelspec": {
      "name": "julia-0.6",
      "language": "julia",
      "display_name": "Julia 0.6.4"
    },
    "nteract": {
      "version": "0.11.7"
    }
  },
  "nbformat": 4,
  "nbformat_minor": 4
}