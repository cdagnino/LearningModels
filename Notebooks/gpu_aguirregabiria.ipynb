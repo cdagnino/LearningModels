{
  "cells": [
    {
      "cell_type": "markdown",
      "source": [
        "### Gauss-Hermite & GPU model test"
      ],
      "metadata": {}
    },
    {
      "cell_type": "markdown",
      "source": [
        "We begin by integrating the custom Gauss-Hermite integration step into the standard \"serial\" code:"
      ],
      "metadata": {}
    },
    {
      "cell_type": "code",
      "source": [
        "#using Plots; gr()\n",
        "using FastGaussQuadrature\n",
        "include(\"../julia/aguirregabiria_core.jl\")"
      ],
      "outputs": [
        {
          "output_type": "execute_result",
          "execution_count": 58,
          "data": {
            "text/plain": [
              "compute_fixed_point (generic function with 1 method)"
            ]
          },
          "metadata": {}
        }
      ],
      "execution_count": 58,
      "metadata": {}
    },
    {
      "cell_type": "markdown",
      "source": [
        "Notes:\n",
        "\n",
        "1. GPU kernel will **not** perform interpolation\n",
        "2. Integration with Gauss-Hermite is inlined"
      ],
      "metadata": {}
    },
    {
      "cell_type": "code",
      "source": [
        "dmd_tf(x,y,z) = 1/sqrt(2*pi*sigma_eps^2)*exp.(-(x-(alpha+betas_transition.*log(y))).^2./(2*sigma_eps^2))"
      ],
      "outputs": [
        {
          "output_type": "execute_result",
          "execution_count": 33,
          "data": {
            "text/plain": [
              "dmd_tf (generic function with 1 method)"
            ]
          },
          "metadata": {}
        }
      ],
      "execution_count": 33,
      "metadata": {
        "collapsed": false,
        "inputHidden": false,
        "outputHidden": false
      }
    },
    {
      "cell_type": "code",
      "source": [
        "@time dmd_transition_fs(1, 2, 1)"
      ],
      "outputs": [
        {
          "output_type": "stream",
          "name": "stdout",
          "text": [
            "  0.071662 seconds (40.22 k allocations: 2.219 MiB)\n"
          ]
        },
        {
          "output_type": "execute_result",
          "execution_count": 34,
          "data": {
            "text/plain": [
              "3-element Array{Float64,1}:\n",
              " 1.67834e-7\n",
              " 0.0496474 \n",
              " 0.199988  "
            ]
          },
          "metadata": {}
        }
      ],
      "execution_count": 34,
      "metadata": {
        "collapsed": false,
        "inputHidden": false,
        "outputHidden": false
      }
    },
    {
      "cell_type": "code",
      "source": [
        "@time dmd_tf(1, 2, 1)"
      ],
      "outputs": [
        {
          "output_type": "stream",
          "name": "stdout",
          "text": [
            "  0.065473 seconds (11.48 k allocations: 631.941 KiB, 10.89% gc time)\n"
          ]
        },
        {
          "output_type": "execute_result",
          "execution_count": 35,
          "data": {
            "text/plain": [
              "3-element Array{Float64,1}:\n",
              " 1.67834e-7\n",
              " 0.0496474 \n",
              " 0.199988  "
            ]
          },
          "metadata": {}
        }
      ],
      "execution_count": 35,
      "metadata": {
        "collapsed": false,
        "inputHidden": false,
        "outputHidden": false
      }
    },
    {
      "cell_type": "code",
      "source": [
        "lambdas      = generate_simplex_3dims(5)\n",
        "l_price_grid = 10\n",
        "min_price    = 0.5\n",
        "max_price    = 1.5\n",
        "price_grid   = linspace(min_price, max_price, l_price_grid)\n",
        "\n",
        "function V_0(x) \n",
        "    optimal_price = myopic_price(x)\n",
        "    return period_return(optimal_price, x)\n",
        "end"
      ],
      "outputs": [
        {
          "output_type": "execute_result",
          "execution_count": 36,
          "data": {
            "text/plain": [
              "V_0 (generic function with 1 method)"
            ]
          },
          "metadata": {}
        }
      ],
      "execution_count": 36,
      "metadata": {
        "collapsed": false,
        "inputHidden": false,
        "outputHidden": false
      }
    },
    {
      "cell_type": "code",
      "source": [
        "function rescale_demand(d, beta_l, price)\n",
        "    # Rescales demand to use Gauss-Hermite \n",
        "    # collocation points.\n",
        "    mu = alpha + beta_l*log.(price)\n",
        "    \n",
        "    return (sqrt(2)*sigma_eps*d + mu)\n",
        "end\n",
        "\n",
        "function adv_bellman_operator(Vguess, price_grid, lambda_simplex)\n",
        "    \n",
        "    policy = zeros(size(lambda_simplex, 1))\n",
        "    T_V    = zeros(size(lambda_simplex, 1))\n",
        "\n",
        "    # 1. Go over grid of state space\n",
        "    # 2. Write objective (present return + delta*eOfV)\n",
        "    # 3. Find optimal p on that objective\n",
        "    # 4. Write optimal p and value function on that point in the grid\n",
        "    \n",
        "    GHx, GHw = gausshermite(20)\n",
        "    \n",
        "    for index in 1:size(lambda_simplex, 1)\n",
        "        \n",
        "        lw = lambda_simplex[index, :]\n",
        "        \n",
        "        # Compute period returns\n",
        "        R = period_return(price_grid, lw)\n",
        "        \n",
        "        # Compute the expectation integral of V0\n",
        "        E0fV_p = zeros(price_grid)\n",
        "        \n",
        "        for (i, price) in enumerate(price_grid)\n",
        "            # Gauss-Hermite integration using pre-computed\n",
        "            # collocations and weights.\n",
        "            sum_over_each_lambda = 0.0\n",
        "            for (l, beta_l) in enumerate(betas_transition)\n",
        "                for (k, hermite_point) in enumerate(GHx)\n",
        "                    rescaled_remand = rescale_demand(hermite_point, beta_l, price)\n",
        "                    new_lw          = update_lambdas(rescaled_remand, price, ~, lw)\n",
        "                    #v_value = f(new_lambdas_val)\n",
        "                    sum_over_each_lambda += Vguess(new_lw)*GHw[k]*lw[l]\n",
        "            \n",
        "                end\n",
        "            end\n",
        "            E0fV_p[i] = (1/sqrt(pi) * sum_over_each_lambda)\n",
        "        end\n",
        "        \n",
        "        #println(E0fV_p)\n",
        "            \n",
        "        # Maximize value function\n",
        "        objective_vals = R + (delta *  E0fV_p)\n",
        "            \n",
        "        T_V[index], ind_max = findmax(objective_vals)                       \n",
        "        policy[index] = price_grid[ind_max]\n",
        "\n",
        "    end\n",
        "\n",
        "    # Interpolate\n",
        "    interp_T_V = interpV(lambda_simplex, T_V)\n",
        "\n",
        "    return interp_T_V, policy\n",
        "    \n",
        "end\n",
        "\n@time adv_bellman_operator(V_0, price_grid, lambdas)"
      ],
      "outputs": [
        {
          "output_type": "stream",
          "name": "stdout",
          "text": [
            "  0.290143 seconds (558.10 k allocations: 19.583 MiB, 2.56% gc time)\n"
          ]
        },
        {
          "output_type": "execute_result",
          "execution_count": 37,
          "data": {
            "text/plain": [
              "(interpolate_V, [1.5, 1.5, 1.16667, 0.722222, 0.722222, 0.722222])"
            ]
          },
          "metadata": {}
        }
      ],
      "execution_count": 37,
      "metadata": {
        "collapsed": false,
        "inputHidden": false,
        "outputHidden": false
      }
    },
    {
      "cell_type": "code",
      "source": [
        "@time bellman_operator(V_0, price_grid, lambdas)"
      ],
      "outputs": [
        {
          "output_type": "stream",
          "name": "stdout",
          "text": [
            "  0.730981 seconds (1.89 M allocations: 66.456 MiB, 2.86% gc time)\n"
          ]
        },
        {
          "output_type": "execute_result",
          "execution_count": 38,
          "data": {
            "text/plain": [
              "(interpolate_V, [1.5, 1.5, 1.16667, 0.722222, 0.722222, 0.722222])"
            ]
          },
          "metadata": {}
        }
      ],
      "execution_count": 38,
      "metadata": {
        "collapsed": false,
        "inputHidden": false,
        "outputHidden": false
      }
    },
    {
      "cell_type": "code",
      "source": [],
      "outputs": [],
      "execution_count": null,
      "metadata": {
        "collapsed": false,
        "outputHidden": false,
        "inputHidden": false
      }
    },
    {
      "cell_type": "code",
      "source": [
        "function adv_compute_fixed_point(V, price_grid, lambda_simplex; error_tol=1e-5, max_iter=50, verbose=true, skip=10)\n",
        "\n",
        "    iterate = 1\n",
        "    error = error_tol + 1\n",
        "    \n",
        "    policy = similar(price_grid)\n",
        "    error  = Inf\n",
        "\n",
        "    while iterate <= max_iter && error > error_tol\n",
        "        if verbose && (mod(iterate, skip) == 0)\n",
        "            tic()\n",
        "        end\n",
        "\n",
        "        new_V, policy = adv_bellman_operator(V, price_grid, lambda_simplex)\n",
        "                        \n",
        "        # Compute error over simplex:\n",
        "        error = 0\n",
        "        for i in 1:size(lambda_simplex,1)\n",
        "            error += abs(V(lambda_simplex[i,:])-new_V(lambda_simplex[i,:]))\n",
        "        end\n",
        "\n",
        "        V = new_V\n",
        "\n",
        "        if verbose && (mod(iterate, skip) == 0)\n",
        "            println(@sprintf(\"Computed iterate %d with error %.4f\", iterate, error))\n",
        "            print(\" !-- \")\n",
        "            toc()\n",
        "        end\n",
        "                        \n",
        "        iterate += 1                \n",
        "                        \n",
        "    end\n",
        "\n",
        "    return V, policy, error\n",
        "\n",
        "end\n",
        "\n@time adv_compute_fixed_point(V_0, price_grid, lambdas)"
      ],
      "outputs": [
        {
          "output_type": "stream",
          "name": "stdout",
          "text": [
            "Computed iterate 10 with error 4.1581\n",
            " !-- elapsed time: 0.063619901 seconds\n",
            "Computed iterate 20 with error 1.4496\n",
            " !-- elapsed time: 0.10724422 seconds\n",
            "Computed iterate 30 with error 0.5054\n",
            " !-- elapsed time: 0.062294531 seconds\n",
            "Computed iterate 40 with error 0.1762\n",
            " !-- elapsed time: 0.063354718 seconds\n",
            "Computed iterate 50 with error 0.0614\n",
            " !-- elapsed time: 0.064594215 seconds\n",
            "  3.645378 seconds (23.26 M allocations: 1.059 GiB, 8.06% gc time)\n"
          ]
        },
        {
          "output_type": "execute_result",
          "execution_count": 61,
          "data": {
            "text/plain": [
              "(interpolate_V, [1.5, 1.5, 1.16667, 0.722222, 0.722222, 0.722222], 0.06144856657666509)"
            ]
          },
          "metadata": {}
        }
      ],
      "execution_count": 61,
      "metadata": {
        "collapsed": false,
        "inputHidden": false,
        "outputHidden": false
      }
    },
    {
      "cell_type": "code",
      "source": [
        "@time compute_fixed_point(V_0, price_grid, lambdas)"
      ],
      "outputs": [
        {
          "output_type": "stream",
          "name": "stdout",
          "text": [
            "Computed iterate 10 with error 4.1581\n",
            " !-- elapsed time: 0.308997445 seconds\n",
            "Computed iterate 20 with error 1.4496\n",
            " !-- elapsed time: 0.281893798 seconds\n",
            "Computed iterate 30 with error 0.5054\n",
            " !-- elapsed time: 0.282547842 seconds\n",
            "Computed iterate 40 with error 0.1762\n",
            " !-- elapsed time: 0.273341006 seconds\n",
            "Computed iterate 50 with error 0.0614\n",
            " !-- elapsed time: 0.270560107 seconds\n",
            " 14.236414 seconds (108.40 M allocations: 4.833 GiB, 8.24% gc time)\n"
          ]
        },
        {
          "output_type": "execute_result",
          "execution_count": 62,
          "data": {
            "text/plain": [
              "(interpolate_V, [1.5, 1.5, 1.16667, 0.722222, 0.722222, 0.722222], 0.061448522714727005)"
            ]
          },
          "metadata": {}
        }
      ],
      "execution_count": 62,
      "metadata": {
        "collapsed": false,
        "inputHidden": false,
        "outputHidden": false
      }
    },
    {
      "cell_type": "markdown",
      "source": [
        "#### GPUArrays extension"
      ],
      "metadata": {}
    },
    {
      "cell_type": "code",
      "source": [
        "using GPUArrays, CLArrays\n",
        "\n",
        "gpu_A = ones(CLArray{Float32}, 10, 1)\n",
        "\n",
        "gpu_call(gpu_A, (gpu_A,)) do state, gpu_A\n",
        "  begin\n",
        "     \n",
        "        function _add(a::Float32, b::Float32)::Float32\n",
        "            return (a + b)*2\n",
        "        end\n",
        "        \n",
        "        i = @linearidx gpu_A;\n",
        "        \n",
        "        gpu_A[i] = _add(1.0, 2.0);        \n",
        "  end\n",
        "end"
      ],
      "outputs": [
        {
          "output_type": "stream",
          "name": "stderr",
          "text": [
            "___________________________________________________________________\n",
            "Error in Expr rewrite! AssertionError(\"Found non concrete return type: Any\")\n",
            "\n",
            "Expression resulting in the error: \n",
            "(_add::#_add#16)(1.0, 2.0)\u001b[1m\u001b[91m::Any\u001b[39m\u001b[22m\n",
            "happening in function tree:\n",
            "Sugar stack trace:\n",
            "  [1] #14(CLArrays.KernelState, CLArrays.DeviceArray{Float32,2,Transpiler.CLIntrinsics.GlobalPointer{Float32}})\n",
            "\n\n",
            "Code of the context this error occured in: \n",
            "begin \n",
            "      NewvarNode(:(i::UInt32))\n",
            "      _add::#_add#16 = $(Expr(:new, :(Main.#_add#16)))\n",
            "      x1::CLArrays.DeviceArray{Float32,2,Transpiler.CLIntrinsics.GlobalPointer{Float32}} = gpu_A::CLArrays.DeviceArray{Float32,2,Transpiler.CLIntrinsics.GlobalPointer{Float32}}\n",
            "      i1::UInt32 = (GPUArrays.linear_index)(state::CLArrays.KernelState)::UInt32\n",
            "      if (i1::UInt32 > (GPUArrays.length)(x1::CLArrays.DeviceArray{Float32,2,Transpiler.CLIntrinsics.GlobalPointer{Float32}})::UInt32)::Bool\n",
            "          $(Expr(:return))\n",
            "      end\u001b[1m\u001b[91m::Any\u001b[39m\u001b[22m\n",
            "      i::UInt32 = i1::UInt32\n",
            "      SSAValue(0) = (_add::#_add#16)(1.0, 2.0)\u001b[1m\u001b[91m::Any\u001b[39m\u001b[22m\n",
            "      (Main.setindex!)(gpu_A::CLArrays.DeviceArray{Float32,2,Transpiler.CLIntrinsics.GlobalPointer{Float32}}, SSAValue(0), i::UInt32)::Void\n",
            "      return SSAValue(0)\n",
            "  end\u001b[1m\u001b[91m::Any\u001b[39m\u001b[22m\n",
            "___________________________________________________________________\n",
            "Error in Expr rewrite! AssertionError(\"Found non concrete return type: Any\")\n",
            "\n",
            "Expression resulting in the error: \n",
            "SSAValue(0) = (_add::#_add#16)(1.0, 2.0)\u001b[1m\u001b[91m::Any\u001b[39m\u001b[22m\n",
            "happening in function tree:\n",
            "Sugar stack trace:\n",
            "  [1] #14(CLArrays.KernelState, CLArrays.DeviceArray{Float32,2,Transpiler.CLIntrinsics.GlobalPointer{Float32}})\n",
            "\n\n",
            "Code of the context this error occured in: \n",
            "begin \n",
            "      NewvarNode(:(i::UInt32))\n",
            "      _add::#_add#16 = $(Expr(:new, :(Main.#_add#16)))\n",
            "      x1::CLArrays.DeviceArray{Float32,2,Transpiler.CLIntrinsics.GlobalPointer{Float32}} = gpu_A::CLArrays.DeviceArray{Float32,2,Transpiler.CLIntrinsics.GlobalPointer{Float32}}\n",
            "      i1::UInt32 = (GPUArrays.linear_index)(state::CLArrays.KernelState)::UInt32\n",
            "      if (i1::UInt32 > (GPUArrays.length)(x1::CLArrays.DeviceArray{Float32,2,Transpiler.CLIntrinsics.GlobalPointer{Float32}})::UInt32)::Bool\n",
            "          $(Expr(:return))\n",
            "      end\u001b[1m\u001b[91m::Any\u001b[39m\u001b[22m\n",
            "      i::UInt32 = i1::UInt32\n",
            "      SSAValue(0) = (_add::#_add#16)(1.0, 2.0)\u001b[1m\u001b[91m::Any\u001b[39m\u001b[22m\n",
            "      (Main.setindex!)(gpu_A::CLArrays.DeviceArray{Float32,2,Transpiler.CLIntrinsics.GlobalPointer{Float32}}, SSAValue(0), i::UInt32)::Void\n",
            "      return SSAValue(0)\n",
            "  end\u001b[1m\u001b[91m::Any\u001b[39m\u001b[22m\n"
          ]
        },
        {
          "output_type": "error",
          "ename": "LoadError",
          "evalue": "\u001b[91mAssertionError: Found non concrete return type: Any\u001b[39m",
          "traceback": [
            "\u001b[91mAssertionError: Found non concrete return type: Any\u001b[39m",
            ""
          ]
        }
      ],
      "execution_count": 9,
      "metadata": {
        "collapsed": false,
        "inputHidden": false,
        "outputHidden": false
      }
    },
    {
      "cell_type": "code",
      "source": [],
      "outputs": [],
      "execution_count": null,
      "metadata": {
        "collapsed": false,
        "outputHidden": false,
        "inputHidden": false
      }
    }
  ],
  "metadata": {
    "kernel_info": {
      "name": "julia-0.6"
    },
    "kernelspec": {
      "name": "julia-0.6",
      "language": "julia",
      "display_name": "Julia 0.6.4"
    },
    "language_info": {
      "file_extension": ".jl",
      "name": "julia",
      "mimetype": "application/julia",
      "version": "0.6.4"
    },
    "nteract": {
      "version": "0.11.9"
    }
  },
  "nbformat": 4,
  "nbformat_minor": 2
}