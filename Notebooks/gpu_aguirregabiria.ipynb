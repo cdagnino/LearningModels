{
  "cells": [
    {
      "cell_type": "markdown",
      "source": [
        "### GPU solver for Aguirregabria model"
      ],
      "metadata": {}
    },
    {
      "cell_type": "code",
      "source": [
        "using FastGaussQuadrature\n",
        "using GPUArrays, CLArrays\n",
        "include(\"../julia/aguirregabiria_core.jl\")\n",
        "\n",
        "# Initializing the OpenCL device & context:\n",
        "cl_device = CLArrays.devices()[1]\n",
        "CLArrays.init(cl_device)"
      ],
      "outputs": [
        {
          "output_type": "execute_result",
          "execution_count": 1,
          "data": {
            "text/plain": [
              "OpenCL context with:\n",
              "CL version: OpenCL 2.1 NEO \n",
              "Device: CL Intel(R) UHD Graphics 620\n",
              "            threads: 256\n",
              "             blocks: (256, 256, 256)\n",
              "      global_memory: 3352.154112 mb\n",
              " free_global_memory: NaN mb\n",
              "       local_memory: 0.065536 mb\n"
            ]
          },
          "metadata": {}
        }
      ],
      "execution_count": 1,
      "metadata": {
        "collapsed": false,
        "outputHidden": false,
        "inputHidden": false
      }
    },
    {
      "cell_type": "code",
      "source": [
        "# Control GPU kernel\n",
        "\n",
        "gpu_A = ones(CLArray{Float32}, 10, 1)\n",
        "\n",
        "gpu_call(gpu_A, (gpu_A,)) do state, gpu_A\n",
        "  begin\n",
        "     \n",
        "        function _add(a::Float32, b::Float32)\n",
        "            return (a + b)*2\n",
        "        end\n",
        "        \n",
        "        i = @linearidx gpu_A\n",
        "        \n",
        "        gpu_A[i] = _add(Float32(1.0), Float32(2.0))  \n",
        "        \n",
        "        return\n",
        "  end\n",
        "end\n",
        "\n@time gpu_A;"
      ],
      "outputs": [],
      "execution_count": null,
      "metadata": {
        "collapsed": false,
        "outputHidden": false,
        "inputHidden": false
      }
    },
    {
      "cell_type": "code",
      "source": [
        "lambdas      = generate_simplex_3dims(5)\n",
        "n_price_grid = 20\n",
        "min_price    = 0.5\n",
        "max_price    = 1.5\n",
        "price_grid   = linspace(min_price, max_price, n_price_grid)\n",
        "\n",
        "function V_0(x) \n",
        "    optimal_price = myopic_price(x)\n",
        "    return period_return(optimal_price, x)\n",
        "end"
      ],
      "outputs": [
        {
          "output_type": "execute_result",
          "execution_count": 8,
          "data": {
            "text/plain": [
              "V_0 (generic function with 1 method)"
            ]
          },
          "metadata": {}
        }
      ],
      "execution_count": 8,
      "metadata": {
        "collapsed": false,
        "outputHidden": false,
        "inputHidden": false
      }
    },
    {
      "cell_type": "code",
      "source": [
        "# GPU kernel for Bellman operator:\n",
        "\n",
        "x, w = gausshermite(25)\n",
        "    \n",
        "GHx = CLArray{Float32}(x)\n",
        "GHw = CLArray{Float32}(w)\n",
        "\n",
        "policy = zeros(CLArray{Float32}, size(lambdas, 1))\n",
        "V_j    = zeros(CLArray{Float32}, size(lambdas, 1))\n",
        "\n",
        "function gpu_bellman_operator(V::T, Vnew::T, policy::T, price_grid::T, lambda_simplex::T, params::T) where T<:GPUArray\n",
        "    # GPU kernel for Bellman operator\n",
        "    # - Vguess, price_grid, lambda_simplex are onlready GPUArrays\n",
        "    # - \n",
        "    \n",
        "    gpu_call(V, (V, Vnew, policy, price_grid, lambda_simplex, params)) do state, V, Vnew, policy, price_grid, lambda_simplex, params\n",
        "      begin\n",
        "            \n",
        "        # {utility functions}\n",
        "        \n",
        "        function tripolate(V, x::Float32, y::Float32)\n",
        "            # Triangular (linear) interpolation:\n",
        "            # 0<=|x|<=1, 0<=|y|<=1 and N parition points\n",
        "            # of [0,1] for x, y\n",
        "            N = size(V, 1)-1\n",
        "            xf = Int8(floor(N*x))\n",
        "            yf = Int8(floor(N*y))\n",
        "            x_ = (N*x - xf)\n",
        "            y_ = (N*y - yf)\n",
        "            if xf + yf <= 1\n",
        "                return V[xf+2,yf+1]*x_ + V[xf+1,yf+2]*y_ + V[xf+1,yf+1]*(1-x_-y_)\n",
        "            else\n",
        "                return V[xf+2,yf+1]*(1-x_) + V[xf+1,yf+2]*(1-y_) - V[xf+1,yf+1]*(1-x_-y_)\n",
        "            end \n",
        "        end\n",
        "                \n",
        "        # {kernel code}\n",
        "        \n",
        "        i = @linearidx V\n",
        "        \n",
        "        gpu_A[i] = i \n",
        "        \n",
        "        return\n",
        "      end\n",
        "    end\n",
        "    \n",
        "end"
      ],
      "outputs": [
        {
          "output_type": "execute_result",
          "execution_count": 11,
          "data": {
            "text/plain": [
              "gpu_bellman_operator (generic function with 2 methods)"
            ]
          },
          "metadata": {}
        }
      ],
      "execution_count": 11,
      "metadata": {
        "collapsed": false,
        "outputHidden": false,
        "inputHidden": false
      }
    },
    {
      "cell_type": "code",
      "source": [
        "CLArray<:GPUArray"
      ],
      "outputs": [
        {
          "output_type": "execute_result",
          "execution_count": 6,
          "data": {
            "text/plain": [
              "true"
            ]
          },
          "metadata": {}
        }
      ],
      "execution_count": 6,
      "metadata": {
        "collapsed": false,
        "outputHidden": false,
        "inputHidden": false
      }
    },
    {
      "cell_type": "code",
      "source": [],
      "outputs": [],
      "execution_count": null,
      "metadata": {
        "collapsed": false,
        "outputHidden": false,
        "inputHidden": false
      }
    }
  ],
  "metadata": {
    "kernel_info": {
      "name": "julia-0.6"
    },
    "language_info": {
      "file_extension": ".jl",
      "name": "julia",
      "mimetype": "application/julia",
      "version": "0.6.4"
    },
    "kernelspec": {
      "name": "julia-0.6",
      "language": "julia",
      "display_name": "Julia 0.6.4"
    },
    "nteract": {
      "version": "0.11.9"
    }
  },
  "nbformat": 4,
  "nbformat_minor": 4
}