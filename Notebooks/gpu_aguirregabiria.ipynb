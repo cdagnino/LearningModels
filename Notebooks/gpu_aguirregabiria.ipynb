{
 "cells": [
  {
   "cell_type": "markdown",
   "metadata": {},
   "source": [
    "### GPU solver for Aguirregabria model"
   ]
  },
  {
   "cell_type": "code",
   "execution_count": 1,
   "metadata": {
    "collapsed": false,
    "inputHidden": false,
    "outputHidden": false
   },
   "outputs": [
    {
     "data": {
      "text/plain": [
       "OpenCL context with:\n",
       "CL version: OpenCL 2.1 NEO \n",
       "Device: CL Intel(R) UHD Graphics 620\n",
       "            threads: 256\n",
       "             blocks: (256, 256, 256)\n",
       "      global_memory: 3352.154112 mb\n",
       " free_global_memory: NaN mb\n",
       "       local_memory: 0.065536 mb\n"
      ]
     },
     "execution_count": 1,
     "metadata": {},
     "output_type": "execute_result"
    }
   ],
   "source": [
    "using FastGaussQuadrature\n",
    "using GPUArrays, CLArrays\n",
    "include(\"../julia/aguirregabiria_core.jl\")\n",
    "\n",
    "# Initializing the OpenCL device & context:\n",
    "cl_device = CLArrays.devices()[1]\n",
    "CLArrays.init(cl_device)"
   ]
  },
  {
   "cell_type": "code",
   "execution_count": null,
   "metadata": {
    "collapsed": false,
    "inputHidden": false,
    "outputHidden": false
   },
   "outputs": [],
   "source": [
    "# Control GPU kernel\n",
    "\n",
    "gpu_A = ones(CLArray{Float32}, 10, 1)\n",
    "\n",
    "gpu_call(gpu_A, (gpu_A,)) do state, gpu_A\n",
    "  begin\n",
    "     \n",
    "        function _add(a::Float32, b::Float32)\n",
    "            return (a + b)*2\n",
    "        end\n",
    "        \n",
    "        i = @linearidx gpu_A\n",
    "        \n",
    "        gpu_A[i] = _add(Float32(1.0), Float32(2.0))  \n",
    "        \n",
    "        return\n",
    "  end\n",
    "end\n",
    "\n",
    "@time gpu_A;"
   ]
  },
  {
   "cell_type": "code",
   "execution_count": 3,
   "metadata": {
    "collapsed": false,
    "inputHidden": false,
    "outputHidden": false
   },
   "outputs": [
    {
     "data": {
      "text/plain": [
       "V_0 (generic function with 1 method)"
      ]
     },
     "execution_count": 3,
     "metadata": {},
     "output_type": "execute_result"
    }
   ],
   "source": [
    "lambdas      = generate_simplex_3dims(5)\n",
    "n_price_grid = 20\n",
    "min_price    = 0.5\n",
    "max_price    = 1.5\n",
    "price_grid   = linspace(min_price, max_price, n_price_grid)\n",
    "\n",
    "function V_0(x) \n",
    "    optimal_price = myopic_price(x)\n",
    "    return period_return(optimal_price, x)\n",
    "end"
   ]
  },
  {
   "cell_type": "code",
   "execution_count": 5,
   "metadata": {
    "collapsed": false,
    "inputHidden": false,
    "outputHidden": false
   },
   "outputs": [
    {
     "data": {
      "text/plain": [
       "gpu_bellman_operator (generic function with 1 method)"
      ]
     },
     "execution_count": 5,
     "metadata": {},
     "output_type": "execute_result"
    }
   ],
   "source": [
    "# GPU kernel for Bellman operator:\n",
    "\n",
    "x, w = gausshermite(25)\n",
    "    \n",
    "GHx = CLArray{Float32}(x)\n",
    "GHw = CLArray{Float32}(w)\n",
    "\n",
    "policy = zeros(CLArray{Float32}, size(lambdas, 1))\n",
    "V      = zeros(CLArray{Float32}, size(lambdas, 1))\n",
    "Vnew   = zeros(CLArray{Float32}, size(lambdas, 1))\n",
    "\n",
    "function gpu_bellman_operator(V::T, Vnew::T, policy::T, price_grid::T, lambda_simplex::T, params::T, beta_trans::T) where T<:GPUArray\n",
    "    # GPU kernel for Bellman operator\n",
    "    #\n",
    "    # - Vguess, price_grid, lambda_simplex are GPUArrays\n",
    "    # - Vguess ∈ R(2×2)\n",
    "    \n",
    "    gpu_call(policy, (V, Vnew, policy, price_grid, lambda_simplex, params, beta_trans)) do #\n",
    "                state, V, Vnew, policy, price_grid, lambda_simplex, params, beta_trans\n",
    "      begin\n",
    "            \n",
    "        # {utility functions}\n",
    "        \n",
    "        function tripolate(V, N::Int32, x::Float32, y::Float32)\n",
    "            # Triangular (linear) interpolation:\n",
    "            # 0<=|x|<=1, 0<=|y|<=1 and N parition points\n",
    "            # of [0,1] for x, y\n",
    "            #N = size(V, 1)-1\n",
    "            xf = Int8(floor(N*x)-floor(x))\n",
    "            yf = Int8(floor(N*y)-floor(y))\n",
    "            x_ = (N*x - xf)\n",
    "            y_ = (N*y - yf)\n",
    "            if xf + yf <= 1\n",
    "                return V[xf+2,yf+1]*x_ + V[xf+1,yf+2]*y_ + V[xf+1,yf+1]*(1-x_-y_)\n",
    "            else\n",
    "                return V[xf+2,yf+1]*(1-x_) + V[xf+1,yf+2]*(1-y_) - V[xf+1,yf+1]*(1-x_-y_)\n",
    "            end \n",
    "        end\n",
    "            \n",
    "        function normal_pdf(x::Float32, mu::Float32, sigma::Float32)\n",
    "            return exp((2*x*mu-mu*mu-x*x)/(2*simga*sigma))/sqrt(2*pi*sigma*sigma)\n",
    "        end\n",
    "            \n",
    "        function rescaleD(d, b, p, alpha, sigeps)\n",
    "            return (sqrt(2)*sigeps*d+alpha+b*log(p))\n",
    "        end\n",
    "                \n",
    "        # {kernel code}\n",
    "        \n",
    "        # Get thread index of execution\n",
    "        i = @linearidx policy \n",
    "            \n",
    "        # Explicit paramaters\n",
    "        alpha  = params[1]\n",
    "        c      = params[2]\n",
    "        delta  = params[3]\n",
    "        sigeps = params[4]\n",
    "        N      = params[5]\n",
    "            \n",
    "        # Decompose linear index to cartesian\n",
    "        N  = Int((sqrt(8*N+1)-1)/2)\n",
    "        i1 = mod()\n",
    "        \n",
    "        lw = lambda_simplex[i,1]\n",
    "        \n",
    "        V_new[i] = 1\n",
    "        \n",
    "        return\n",
    "      end\n",
    "    end\n",
    "    \n",
    "end"
   ]
  },
  {
   "cell_type": "code",
   "execution_count": 6,
   "metadata": {
    "collapsed": false,
    "inputHidden": false,
    "outputHidden": false
   },
   "outputs": [
    {
     "data": {
      "text/plain": [
       "true"
      ]
     },
     "execution_count": 6,
     "metadata": {},
     "output_type": "execute_result"
    }
   ],
   "source": [
    "CLArray<:GPUArray"
   ]
  },
  {
   "cell_type": "code",
   "execution_count": null,
   "metadata": {
    "collapsed": false,
    "inputHidden": false,
    "outputHidden": false
   },
   "outputs": [],
   "source": []
  }
 ],
 "metadata": {
  "kernel_info": {
   "name": "julia-0.6"
  },
  "kernelspec": {
   "display_name": "Julia 0.6.4",
   "language": "julia",
   "name": "julia-0.6"
  },
  "language_info": {
   "file_extension": ".jl",
   "mimetype": "application/julia",
   "name": "julia",
   "version": "0.6.4"
  },
  "nteract": {
   "version": "0.11.9"
  }
 },
 "nbformat": 4,
 "nbformat_minor": 4
}
