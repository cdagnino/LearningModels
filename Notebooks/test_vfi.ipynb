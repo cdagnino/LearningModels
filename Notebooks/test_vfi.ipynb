{
 "cells": [
  {
   "cell_type": "code",
   "execution_count": 6,
   "metadata": {
    "ExecuteTime": {
     "end_time": "2018-09-22T18:29:02.093921Z",
     "start_time": "2018-09-22T18:29:01.893299Z"
    }
   },
   "outputs": [],
   "source": [
    "%matplotlib inline\n",
    "import matplotlib.pyplot as plt\n",
    "import sys\n",
    "sys.path.append(\"../\")\n",
    "import src\n",
    "import src.constants as const\n",
    "import numpy as np\n",
    "import time, datetime\n",
    "from typing import Callable\n",
    "import dill\n",
    "from numba.decorators import njit\n",
    "start = time.time()\n",
    "\n",
    "#Constants\n",
    "length_of_price_grid = 10\n",
    "min_price, max_price = 0.5, 1.5\n",
    "n_of_lambdas_per_dim = 3\n",
    "max_iters = 3\n",
    "error_tol = 1e-5\n",
    "\n",
    "#Base functions\n",
    "def period_profit(p: np.ndarray, lambdas: np.ndarray, betas_transition=const.betas_transition):\n",
    "    \"\"\"\n",
    "    Correct expected period return profit. See ReadMe for derivation\n",
    "    \"\"\"\n",
    "    constant_part = (p-const.c) * np.e ** const.α * np.e ** ((const.σ_ɛ ** 2) / 2)\n",
    "    summation = np.dot(np.e**(betas_transition*np.log(p[:, np.newaxis])), lambdas)\n",
    "\n",
    "    return constant_part*summation\n",
    "\n",
    "def naive_period_profit(p: np.ndarray, lambdas: np.ndarray, betas_transition=const.betas_transition):\n",
    "    exp_beta = np.dot(lambdas, betas_transition)\n",
    "    return (p-const.c)*np.e**(const.α + exp_beta*np.log(p))\n",
    "    \n",
    "\n",
    "def myopic_price(lambdas: np.ndarray, betas_transition=const.betas_transition):\n",
    "    \"\"\"\n",
    "    Given a lambda point, spits out optimal myopic price\n",
    "    \"\"\"\n",
    "    #Elasticity implied by lambdas\n",
    "    elasticity = np.dot(lambdas, betas_transition) #-2.2\n",
    "    assert elasticity < -1.0\n",
    "    return const.c / (1 + (1/elasticity))\n",
    "\n",
    "\n",
    "def v0(lambdas_except_last: np.ndarray) -> Callable:\n",
    "    \"\"\"\n",
    "\n",
    "    :param lambdas_except_last: D-1, then augmented\n",
    "    :return:\n",
    "    \"\"\"\n",
    "    #print(\"---\")\n",
    "    full_lambdas = np.array(list(lambdas_except_last) + [1 - lambdas_except_last.sum()])\n",
    "    #print(full_lambdas)\n",
    "    optimal_price: float = myopic_price(full_lambdas)\n",
    "    #print(optimal_price)\n",
    "\n",
    "    #Dirty trick because period_profit takes a vector price, not scalar\n",
    "    prices = np.array([optimal_price, optimal_price+0.01])\n",
    "    return period_profit(prices, full_lambdas)[0]"
   ]
  },
  {
   "cell_type": "markdown",
   "metadata": {},
   "source": [
    "## Naive vs real period profit"
   ]
  },
  {
   "cell_type": "code",
   "execution_count": 20,
   "metadata": {
    "ExecuteTime": {
     "end_time": "2018-09-22T18:32:27.821771Z",
     "start_time": "2018-09-22T18:32:27.595115Z"
    }
   },
   "outputs": [
    {
     "data": {
      "text/plain": [
       "<matplotlib.legend.Legend at 0x181dc9e3c8>"
      ]
     },
     "execution_count": 20,
     "metadata": {},
     "output_type": "execute_result"
    },
    {
     "data": {
      "image/png": "[encoded data removed]",
      "text/plain": [
       "<Figure size 432x288 with 1 Axes>"
      ]
     },
     "metadata": {},
     "output_type": "display_data"
    }
   ],
   "source": [
    "lambdas_selected = np.array([[0., 0.5],\n",
    "                            [0.1, 0.5],\n",
    "                            [0.2, 0.5],\n",
    "                            [0.3, 0.5],\n",
    "                            [0.4, 0.5],\n",
    "                             [0.5, 0.4],\n",
    "                             [0.6, 0.3],\n",
    "                             [0.7, 0.2],\n",
    "                             [0.8, 0.1],\n",
    "                             [0.9, 0.1],\n",
    "                             [1., 0.]\n",
    "                            ])\n",
    "\n",
    "lambda1 = lambdas_selected[:, 0]\n",
    "\n",
    "fig, ax = plt.subplots(1, 1)\n",
    "one_lambda = np.array([0., 0., 1.])\n",
    "prices = np.linspace(0.5, 4)\n",
    "ax.plot(period_profit(prices, one_lambda), label=\"real period profit\")\n",
    "ax.plot(naive_period_profit(prices, one_lambda), label=\"naive period profit\")\n",
    "ax.legend()\n",
    "#[0.9, 0.1, 0.]: 1.75, 1.5\n",
    "#[0., 0.1, 0.9]: 1.6, 1.2"
   ]
  },
  {
   "cell_type": "code",
   "execution_count": 22,
   "metadata": {
    "ExecuteTime": {
     "end_time": "2018-09-22T19:50:23.872959Z",
     "start_time": "2018-09-22T19:50:23.863895Z"
    }
   },
   "outputs": [
    {
     "data": {
      "text/plain": [
       "0.82258064516129026"
      ]
     },
     "execution_count": 22,
     "metadata": {},
     "output_type": "execute_result"
    }
   ],
   "source": [
    "test_lambdas = np.array([0.2, 0.7, 0.1])\n",
    "myopic_price(test_lambdas)"
   ]
  },
  {
   "cell_type": "code",
   "execution_count": 23,
   "metadata": {
    "ExecuteTime": {
     "end_time": "2018-09-22T19:50:25.127625Z",
     "start_time": "2018-09-22T19:50:25.117857Z"
    }
   },
   "outputs": [
    {
     "data": {
      "text/plain": [
       "array([ 1.61249277,  1.54010842])"
      ]
     },
     "execution_count": 23,
     "metadata": {},
     "output_type": "execute_result"
    }
   ],
   "source": [
    "period_profit(np.array([0.9, 1]), test_lambdas)"
   ]
  },
  {
   "cell_type": "markdown",
   "metadata": {},
   "source": [
    "Simplex points & price grid:"
   ]
  },
  {
   "cell_type": "code",
   "execution_count": 24,
   "metadata": {
    "ExecuteTime": {
     "end_time": "2018-09-22T19:50:26.741791Z",
     "start_time": "2018-09-22T19:50:26.725926Z"
    }
   },
   "outputs": [],
   "source": [
    "simplex_points = src.generate_simplex_3dims(5)\n",
    "price_grid = np.linspace(min_price, max_price, num=length_of_price_grid)"
   ]
  },
  {
   "cell_type": "code",
   "execution_count": 25,
   "metadata": {
    "ExecuteTime": {
     "end_time": "2018-09-22T19:50:28.399913Z",
     "start_time": "2018-09-22T19:50:28.394819Z"
    }
   },
   "outputs": [
    {
     "name": "stdout",
     "output_type": "stream",
     "text": [
      "[[ 0.    0.    1.  ]\n",
      " [ 0.    0.25  0.75]\n",
      " [ 0.    0.5   0.5 ]\n",
      " [ 0.    0.75  0.25]\n",
      " [ 0.    1.    0.  ]\n",
      " [ 0.25  0.    0.75]\n",
      " [ 0.25  0.25  0.5 ]\n",
      " [ 0.25  0.5   0.25]\n",
      " [ 0.25  0.75  0.  ]\n",
      " [ 0.5   0.    0.5 ]\n",
      " [ 0.5   0.25  0.25]\n",
      " [ 0.5   0.5   0.  ]\n",
      " [ 0.75  0.    0.25]\n",
      " [ 0.75  0.25  0.  ]\n",
      " [ 1.    0.    0.  ]]\n"
     ]
    }
   ],
   "source": [
    "print(simplex_points)"
   ]
  },
  {
   "cell_type": "code",
   "execution_count": 26,
   "metadata": {
    "ExecuteTime": {
     "end_time": "2018-09-22T19:50:31.288997Z",
     "start_time": "2018-09-22T19:50:31.269825Z"
    }
   },
   "outputs": [],
   "source": [
    "lambdas_selected = np.array([[0., 0.5],\n",
    "                            [0.1, 0.5],\n",
    "                            [0.2, 0.5],\n",
    "                            [0.3, 0.5],\n",
    "                            [0.4, 0.5],\n",
    "                             [0.5, 0.4],\n",
    "                             [0.6, 0.3],\n",
    "                             [0.7, 0.2],\n",
    "                             [0.8, 0.1],\n",
    "                             [0.9, 0.1],\n",
    "                             [1., 0.]\n",
    "                            ])\n",
    "\n",
    "lambda1 = lambdas_selected[:, 0]\n",
    "v0_values = np.empty(lambdas_selected.shape[0])\n",
    "for i, l in enumerate(lambdas_selected):\n",
    "    v0_values[i] = v0(l)"
   ]
  },
  {
   "cell_type": "code",
   "execution_count": 27,
   "metadata": {
    "ExecuteTime": {
     "end_time": "2018-09-22T19:50:33.933380Z",
     "start_time": "2018-09-22T19:50:33.716889Z"
    }
   },
   "outputs": [
    {
     "data": {
      "text/plain": [
       "[<matplotlib.lines.Line2D at 0x181dacac88>]"
      ]
     },
     "execution_count": 27,
     "metadata": {},
     "output_type": "execute_result"
    },
    {
     "data": {
      "image/png": "[encoded data removed]",
      "text/plain": [
       "<Figure size 432x288 with 1 Axes>"
      ]
     },
     "metadata": {},
     "output_type": "display_data"
    }
   ],
   "source": [
    "%matplotlib inline\n",
    "import matplotlib.pyplot as plt\n",
    "\n",
    "fig, ax = plt.subplots(1, 1)\n",
    "ax.plot(lambda1, v0_values)"
   ]
  },
  {
   "cell_type": "code",
   "execution_count": 28,
   "metadata": {
    "ExecuteTime": {
     "end_time": "2018-09-22T19:50:36.089309Z",
     "start_time": "2018-09-22T19:50:36.083800Z"
    }
   },
   "outputs": [
    {
     "name": "stdout",
     "output_type": "stream",
     "text": [
      "[ 1.56223469  1.58250175  1.60827274  1.63879842  1.67335964  1.69301569\n",
      "  1.7136339   1.73513772  1.75745367  1.80114727  1.82531369]\n"
     ]
    }
   ],
   "source": [
    "print(v0_values)"
   ]
  },
  {
   "cell_type": "code",
   "execution_count": 31,
   "metadata": {
    "ExecuteTime": {
     "end_time": "2018-09-22T19:51:48.596334Z",
     "start_time": "2018-09-22T19:51:47.375227Z"
    }
   },
   "outputs": [
    {
     "name": "stdout",
     "output_type": "stream",
     "text": [
      "doing 0 of 15\n",
      "doing 10 of 15\n"
     ]
    },
    {
     "data": {
      "text/plain": [
       "(<scipy.interpolate.interpnd.LinearNDInterpolator at 0x181e2194e0>,\n",
       " array([ 1.05555556,  0.94444444,  0.94444444,  0.94444444,  0.94444444,\n",
       "         0.94444444,  0.94444444,  0.94444444,  0.83333333,  0.94444444,\n",
       "         0.83333333,  0.83333333,  0.83333333,  0.83333333,  0.83333333]))"
      ]
     },
     "execution_count": 31,
     "metadata": {},
     "output_type": "execute_result"
    }
   ],
   "source": [
    "v1 = src.bellman_operator(v0, price_grid, simplex_points, period_profit)\n",
    "v1"
   ]
  },
  {
   "cell_type": "code",
   "execution_count": null,
   "metadata": {},
   "outputs": [],
   "source": []
  }
 ],
 "metadata": {
  "kernelspec": {
   "display_name": "Python [default]",
   "language": "python",
   "name": "python3"
  },
  "language_info": {
   "codemirror_mode": {
    "name": "ipython",
    "version": 3
   },
   "file_extension": ".py",
   "mimetype": "text/x-python",
   "name": "python",
   "nbconvert_exporter": "python",
   "pygments_lexer": "ipython3",
   "version": "3.6.4"
  },
  "toc": {
   "nav_menu": {},
   "number_sections": true,
   "sideBar": true,
   "skip_h1_title": false,
   "toc_cell": false,
   "toc_position": {},
   "toc_section_display": "block",
   "toc_window_display": false
  },
  "varInspector": {
   "cols": {
    "lenName": 16,
    "lenType": 16,
    "lenVar": 40
   },
   "kernels_config": {
    "python": {
     "delete_cmd_postfix": "",
     "delete_cmd_prefix": "del ",
     "library": "var_list.py",
     "varRefreshCmd": "print(var_dic_list())"
    },
    "r": {
     "delete_cmd_postfix": ") ",
     "delete_cmd_prefix": "rm(",
     "library": "var_list.r",
     "varRefreshCmd": "cat(var_dic_list()) "
    }
   },
   "types_to_exclude": [
    "module",
    "function",
    "builtin_function_or_method",
    "instance",
    "_Feature"
   ],
   "window_display": false
  }
 },
 "nbformat": 4,
 "nbformat_minor": 2
}
