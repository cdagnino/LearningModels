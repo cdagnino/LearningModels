{
 "cells": [
  {
   "cell_type": "code",
   "execution_count": 6,
   "metadata": {},
   "outputs": [],
   "source": [
    "import sys\n",
    "sys.path.append(\"../\")\n",
    "import src\n",
    "import src.constants as const\n",
    "import numpy as np\n",
    "import time, datetime\n",
    "from typing import Callable\n",
    "import dill\n",
    "from numba.decorators import njit\n",
    "start = time.time()"
   ]
  },
  {
   "cell_type": "markdown",
   "metadata": {},
   "source": [
    "Define constants:"
   ]
  },
  {
   "cell_type": "code",
   "execution_count": 7,
   "metadata": {},
   "outputs": [],
   "source": [
    "length_of_price_grid = 10\n",
    "min_price, max_price = 0.5, 1.5\n",
    "n_of_lambdas_per_dim = 3\n",
    "max_iters = 3\n",
    "error_tol = 1e-5"
   ]
  },
  {
   "cell_type": "markdown",
   "metadata": {},
   "source": [
    "Define base functions:"
   ]
  },
  {
   "cell_type": "code",
   "execution_count": 41,
   "metadata": {},
   "outputs": [],
   "source": [
    "def period_profit(p: np.ndarray, lambdas: np.ndarray, betas_transition=const.betas_transition):\n",
    "    \"\"\"\n",
    "    Correct expected period return profit. See ReadMe for derivation\n",
    "    \"\"\"\n",
    "    constant_part = (p-const.c) * np.e ** const.α * np.e ** ((const.σ_ɛ ** 2) / 2)\n",
    "    #print(constant_part)\n",
    "    summation = np.dot(np.e**(betas_transition*np.log(p[:, np.newaxis])), lambdas)\n",
    "    #print(summation)\n",
    "\n",
    "    return constant_part*summation\n",
    "\n",
    "\n",
    "def myopic_price(lambdas: np.ndarray, betas_transition=const.betas_transition):\n",
    "    \"\"\"\n",
    "    Given a lambda point, spits out optimal myopic price\n",
    "    \"\"\"\n",
    "    #Elasticity implied by lambdas\n",
    "    elasticity = np.dot(lambdas, betas_transition) #-2.2\n",
    "    assert elasticity < -1.0\n",
    "    return const.c / (1 + (1/elasticity))\n",
    "\n",
    "\n",
    "def v0(lambdas_except_last: np.ndarray) -> Callable:\n",
    "    \"\"\"\n",
    "\n",
    "    :param lambdas_except_last: D-1, then augmented\n",
    "    :return:\n",
    "    \"\"\"\n",
    "    #print(\"---\")\n",
    "    full_lambdas = np.array(list(lambdas_except_last) + [1 - lambdas_except_last.sum()])\n",
    "    #print(full_lambdas)\n",
    "    optimal_price: float = myopic_price(full_lambdas)\n",
    "    #print(optimal_price)\n",
    "\n",
    "    #Dirty trick because period_profit takes a vector price, not scalar\n",
    "    prices = np.array([optimal_price, optimal_price+0.01])\n",
    "    return period_profit(prices, full_lambdas)[0]"
   ]
  },
  {
   "cell_type": "code",
   "execution_count": 42,
   "metadata": {},
   "outputs": [
    {
     "data": {
      "text/plain": [
       "0.8225806451612903"
      ]
     },
     "execution_count": 42,
     "metadata": {},
     "output_type": "execute_result"
    }
   ],
   "source": [
    "test_lambdas = np.array([0.2, 0.7, 0.1])\n",
    "myopic_price(test_lambdas)"
   ]
  },
  {
   "cell_type": "code",
   "execution_count": 43,
   "metadata": {},
   "outputs": [
    {
     "data": {
      "text/plain": [
       "array([1.61249277, 1.54010842])"
      ]
     },
     "execution_count": 43,
     "metadata": {},
     "output_type": "execute_result"
    }
   ],
   "source": [
    "period_profit(np.array([0.9, 1]), test_lambdas)"
   ]
  },
  {
   "cell_type": "markdown",
   "metadata": {},
   "source": [
    "Simplex points & price grid:"
   ]
  },
  {
   "cell_type": "code",
   "execution_count": 44,
   "metadata": {},
   "outputs": [],
   "source": [
    "simplex_points = src.generate_simplex_3dims(5)\n",
    "price_grid = np.linspace(min_price, max_price, num=length_of_price_grid)"
   ]
  },
  {
   "cell_type": "code",
   "execution_count": 45,
   "metadata": {},
   "outputs": [
    {
     "name": "stdout",
     "output_type": "stream",
     "text": [
      "[[0.   0.   1.  ]\n",
      " [0.   0.25 0.75]\n",
      " [0.   0.5  0.5 ]\n",
      " [0.   0.75 0.25]\n",
      " [0.   1.   0.  ]\n",
      " [0.25 0.   0.75]\n",
      " [0.25 0.25 0.5 ]\n",
      " [0.25 0.5  0.25]\n",
      " [0.25 0.75 0.  ]\n",
      " [0.5  0.   0.5 ]\n",
      " [0.5  0.25 0.25]\n",
      " [0.5  0.5  0.  ]\n",
      " [0.75 0.   0.25]\n",
      " [0.75 0.25 0.  ]\n",
      " [1.   0.   0.  ]]\n"
     ]
    }
   ],
   "source": [
    "print(simplex_points)"
   ]
  },
  {
   "cell_type": "code",
   "execution_count": 46,
   "metadata": {},
   "outputs": [],
   "source": [
    "lambdas_selected = np.array([[0., 0.5],\n",
    "                            [0.1, 0.5],\n",
    "                            [0.2, 0.5],\n",
    "                            [0.3, 0.5],\n",
    "                            [0.4, 0.5],\n",
    "                             [0.5, 0.4],\n",
    "                             [0.6, 0.3],\n",
    "                             [0.7, 0.2],\n",
    "                             [0.8, 0.1],\n",
    "                             [0.9, 0.1],\n",
    "                             [1., 0.]\n",
    "                            ])\n",
    "\n",
    "lambda1 = lambdas_selected[:, 0]\n",
    "v0_values = np.empty(lambdas_selected.shape[0])\n",
    "for i, l in enumerate(lambdas_selected):\n",
    "    v0_values[i] = v0(l)"
   ]
  },
  {
   "cell_type": "code",
   "execution_count": 47,
   "metadata": {},
   "outputs": [
    {
     "data": {
      "text/plain": [
       "[<matplotlib.lines.Line2D at 0x18201cc668>]"
      ]
     },
     "execution_count": 47,
     "metadata": {},
     "output_type": "execute_result"
    },
    {
     "data": {
      "image/png": "[encoded data removed]",
      "text/plain": [
       "<Figure size 432x288 with 1 Axes>"
      ]
     },
     "metadata": {},
     "output_type": "display_data"
    }
   ],
   "source": [
    "%matplotlib inline\n",
    "import matplotlib.pyplot as plt\n",
    "\n",
    "fig, ax = plt.subplots(1, 1)\n",
    "ax.plot(lambda1, v0_values)"
   ]
  },
  {
   "cell_type": "code",
   "execution_count": 17,
   "metadata": {},
   "outputs": [
    {
     "name": "stdout",
     "output_type": "stream",
     "text": [
      "[1.56223469 1.58250175 1.60827274 1.63879842 1.67335964 1.69301569\n",
      " 1.7136339  1.73513772 1.75745367 1.80114727 1.82531369]\n"
     ]
    }
   ],
   "source": [
    "print(v0_values)"
   ]
  },
  {
   "cell_type": "code",
   "execution_count": 50,
   "metadata": {},
   "outputs": [
    {
     "name": "stdout",
     "output_type": "stream",
     "text": [
      "doing 0 of 15\n"
     ]
    },
    {
     "ename": "TypeError",
     "evalue": "myopic_price() got multiple values for argument 'lambdas'",
     "output_type": "error",
     "traceback": [
      "\u001b[0;31m---------------------------------------------------------------------------\u001b[0m",
      "\u001b[0;31mTypeError\u001b[0m                                 Traceback (most recent call last)",
      "\u001b[0;32m<ipython-input-50-01392b25ac16>\u001b[0m in \u001b[0;36m<module>\u001b[0;34m()\u001b[0m\n\u001b[0;32m----> 1\u001b[0;31m \u001b[0mv1\u001b[0m \u001b[0;34m=\u001b[0m \u001b[0msrc\u001b[0m\u001b[0;34m.\u001b[0m\u001b[0mbellman_operator\u001b[0m\u001b[0;34m(\u001b[0m\u001b[0mv0\u001b[0m\u001b[0;34m,\u001b[0m \u001b[0mprice_grid\u001b[0m\u001b[0;34m,\u001b[0m \u001b[0msimplex_points\u001b[0m\u001b[0;34m,\u001b[0m \u001b[0mmyopic_price\u001b[0m\u001b[0;34m)\u001b[0m\u001b[0;34m\u001b[0m\u001b[0m\n\u001b[0m",
      "\u001b[0;32m~/Documents/GitHub/LearningModels/src/models/finite_transitions_fs.py\u001b[0m in \u001b[0;36mbellman_operator\u001b[0;34m(wGuess, price_grid, lambda_simplex, period_return_f)\u001b[0m\n\u001b[1;32m    180\u001b[0m         \u001b[0mlambda_weights\u001b[0m \u001b[0;34m=\u001b[0m \u001b[0mnp\u001b[0m\u001b[0;34m.\u001b[0m\u001b[0marray\u001b[0m\u001b[0;34m(\u001b[0m\u001b[0;34m[\u001b[0m\u001b[0mλ1\u001b[0m\u001b[0;34m,\u001b[0m \u001b[0mλ2\u001b[0m\u001b[0;34m,\u001b[0m \u001b[0mλ3\u001b[0m\u001b[0;34m]\u001b[0m\u001b[0;34m)\u001b[0m\u001b[0;34m\u001b[0m\u001b[0m\n\u001b[1;32m    181\u001b[0m \u001b[0;34m\u001b[0m\u001b[0m\n\u001b[0;32m--> 182\u001b[0;31m         \u001b[0mR_\u001b[0m \u001b[0;34m:\u001b[0m \u001b[0mnp\u001b[0m\u001b[0;34m.\u001b[0m\u001b[0mndarray\u001b[0m \u001b[0;34m=\u001b[0m \u001b[0mperiod_return_f\u001b[0m\u001b[0;34m(\u001b[0m\u001b[0mprice_grid\u001b[0m\u001b[0;34m,\u001b[0m \u001b[0mlambdas\u001b[0m\u001b[0;34m=\u001b[0m\u001b[0mlambda_weights\u001b[0m\u001b[0;34m)\u001b[0m\u001b[0;34m\u001b[0m\u001b[0m\n\u001b[0m\u001b[1;32m    183\u001b[0m         \u001b[0meOfV_p\u001b[0m \u001b[0;34m:\u001b[0m \u001b[0mnp\u001b[0m\u001b[0;34m.\u001b[0m\u001b[0mndarray\u001b[0m \u001b[0;34m=\u001b[0m \u001b[0meOfV\u001b[0m\u001b[0;34m(\u001b[0m\u001b[0mwGuess\u001b[0m\u001b[0;34m,\u001b[0m \u001b[0mprice_grid\u001b[0m\u001b[0;34m,\u001b[0m \u001b[0mlambdas\u001b[0m\u001b[0;34m=\u001b[0m\u001b[0mlambda_weights\u001b[0m\u001b[0;34m)\u001b[0m\u001b[0;34m\u001b[0m\u001b[0m\n\u001b[1;32m    184\u001b[0m         \u001b[0;32massert\u001b[0m \u001b[0misinstance\u001b[0m\u001b[0;34m(\u001b[0m\u001b[0mR_\u001b[0m\u001b[0;34m,\u001b[0m \u001b[0mnp\u001b[0m\u001b[0;34m.\u001b[0m\u001b[0mndarray\u001b[0m\u001b[0;34m)\u001b[0m\u001b[0;34m\u001b[0m\u001b[0m\n",
      "\u001b[0;31mTypeError\u001b[0m: myopic_price() got multiple values for argument 'lambdas'"
     ]
    }
   ],
   "source": [
    "v1 = src.bellman_operator(v0, price_grid, simplex_points, myopic_price)"
   ]
  },
  {
   "cell_type": "code",
   "execution_count": null,
   "metadata": {},
   "outputs": [],
   "source": []
  }
 ],
 "metadata": {
  "kernelspec": {
   "display_name": "Python 3",
   "language": "python",
   "name": "python3"
  },
  "language_info": {
   "codemirror_mode": {
    "name": "ipython",
    "version": 3
   },
   "file_extension": ".py",
   "mimetype": "text/x-python",
   "name": "python",
   "nbconvert_exporter": "python",
   "pygments_lexer": "ipython3",
   "version": "3.7.0"
  }
 },
 "nbformat": 4,
 "nbformat_minor": 2
}
