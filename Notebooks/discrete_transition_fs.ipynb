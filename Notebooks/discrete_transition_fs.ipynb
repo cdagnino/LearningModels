{
 "cells": [
  {
   "cell_type": "markdown",
   "metadata": {},
   "source": [
    "# Discrete number of transition probabilities\n",
    "\n",
    "See Aguirregabiria & Jeon (2018), around equation (2)\n",
    "\n",
    "$V_{b_t}(I_t)$ is the value of the firm at period $t$ given current information and beliefs.\n",
    "\n",
    "The value of the firm is given by\n",
    "\n",
    "$$V_{b_t}(I_t) = max_{a_t \\in A} \\{ \\pi(a_t, x_t) + \\beta \n",
    "                 \\int V_{b_{t+1}}(x_{t+1}, I_t) b_t(x_{t+1}| a_t, I_t )\\; d x_{t+1}\\}  $$\n",
    "\n",
    "Probably better notation would be to write $V_{b_{t+1}}(I_{t+1}(x_{t+1}, I_t))$\n",
    "\n",
    "the firm has a prior belief $b_0(x_1 | a_0, x_0)$ that is exogenous.\n",
    "This prior is a mixuter over a collection of L transition probabilities:\n",
    "\n",
    "$$P = \\{p_l (x_{t+1} | a_t, x_t)  \\}_{l=1}^L$$\n",
    "\n",
    "so that\n",
    "\n",
    "$$b_0(x_1 | a_0, x_0) = \\sum_{l=1}^L \\lambda_l^{(0)} p_l (x_1| a_0, x_0)$$\n",
    "\n",
    "The firm observes the new state $x_t$ and uses this information to update its beliefs by using Bayes rule. The Bayesian updating is given by\n",
    "\n",
    "$$\\lambda_l^{(t)} = \\frac{ p_l (x_t| a_{t-1}, x_{t-1}) \\lambda_l^{(t-1)} }{      \\sum_{l'=1}^L p_{l'} (x_t| a_{t-1}, x_{t-1}) \\lambda_{l'}^{(t-1)}} $$\n",
    "\n",
    "In words, $p_l (x_t| a_{t-1}, x_{t-1})$ is the probability that the $l$ transition probability gave to $x_t$ actually happening. If the probability of $x_t$ (the state that actually occured) is high under $l$, then that $l$ transition probability will get a higher weight in the beliefs of next period.\n",
    "\n",
    "## How do the lambdas imply probabilities for the unkwnown coefficients?\n",
    "\n",
    "A choice of $\\lambda$ vector will give me one belief function\n",
    "\n",
    "$$b_t(x_{t+1} | a_t, x_t)$$\n",
    "\n",
    "In the demand example, $\\log D_t = \\alpha + \\beta \\log p_t +  \\varepsilon_t$ is the observable, so I'll get\n",
    "\n",
    "$$P(\\alpha + \\beta \\log p_t +  \\varepsilon_t | p_{t-1}, D_{t-1})$$\n",
    "\n",
    "Where we assume $\\alpha$ is a constant, but $\\beta$ is unknown.\n",
    "\n",
    "If $\\varepsilon_t$ follows a $N(0, \\sigma^2_\\epsilon)$, then\n",
    "\n",
    "$$P(\\alpha + \\beta \\log p_t +  \\varepsilon_t ) = N(\\alpha + \\beta \\log p_t,  \\sigma^2_\\epsilon)$$\n",
    "\n",
    "Then each transition probability could be a normal with a given $\\beta $.\n",
    "The variance of the process would be given just by the spread of $\\lambda $!\n",
    "\n",
    "Does this mean that the right $\\beta$ should appear in one of the original transition probabilities?\n",
    "Not sure, but I think so...and that's bad news, since it involves having many $\\lambda $s\n",
    "\n",
    "## How does the integration step look like?\n",
    "\n",
    "It might make sense to discretize the state to make this integration easier!\n",
    "\n",
    "$$\\int V_{b_{t+1}}(I_{t+1}(x_{t+1}, I_t)) b_t(x_{t+1}| a_t, I_t )\\; d x_{t+1}\\}$$\n",
    "\n",
    "\n",
    "I choose some collocation points for $x_{t+1}$ from $1$ to $C$ such that the above turns into \n",
    "\n",
    "$$\\sum_{i=1}^C V_{b_{t+1}}(\\lambda(x_{i, t+1})) b_t(x_{i, t+1}| a_t, I_t ) \\; w_i$$\n",
    "\n",
    "The nice thing is that the integral is only one dimensional!\n",
    "The integration limits aren't super clear. From 0 to what...?\n",
    "\n",
    "The `int_w_B` function uses Gauss-Hermite:\n",
    "\n",
    "```python\n",
    "int_w_B(self, w_guess, b, sigma_b, p, points, weights):\n",
    "        \"\"\"\n",
    "        Integrates w_B over beta and epsilon.\n",
    "        Uses Gauss-Hermite quadrature from quant-econ package\n",
    "\n",
    "        Inputs\n",
    "        -----\n",
    "        points, weights = evaluation points & weights from Gauss-Hermite\n",
    "        n_nodes : number of nodes for each dimension of integration (beta and epsilon)\n",
    "\n",
    "        Returns a scalar for H(p, theta)\n",
    "        \"\"\"\n",
    "```\n",
    "\n"
   ]
  },
  {
   "cell_type": "code",
   "execution_count": 9,
   "metadata": {},
   "outputs": [],
   "source": [
    "%matplotlib inline\n",
    "import numpy as np\n",
    "import matplotlib.pyplot as plt\n",
    "import scipy.integrate as integrate\n",
    "\n",
    "\n",
    "\n",
    "def belief(new_state, transition_fs, lambda_weights, action, old_state):\n",
    "    \"\"\"\n",
    "    state: point in state space\n",
    "    transition_fs: list of transition probabilities\n",
    "    \"\"\"\n",
    "    return np.dot(transition_fs(new_state, action, old_state), lambda_weights)\n",
    "\n",
    "def update_lambdas(new_state, transition_fs, old_lambdas, action, old_state):\n",
    "    \"\"\"\n",
    "    Update the beliefs for new lambdas given a new state.\n",
    "    Transition_fs are fixed and exogenous\n",
    "    \"\"\"\n",
    "    denominator = np.dot(transition_fs(new_state, action, old_state), old_lambdas) \n",
    "    return transition_fs(new_state, action, old_state)*old_lambdas / denominator\n",
    "\n",
    "\n",
    "\n",
    "    \n",
    "#b0(x_1|a0, x0) está dado. x0 está dado\n",
    "#a0 = g(I_0, b_0). a0 se toma en base a b0!\n",
    "#luego b_1 = h(x_2 | a_1, I_1) que da lugar a a_1 = g(I_1, b_1)\n",
    "def iterate_beliefs(transition_fs, lambdas0, action0, state0, opt_action_f, t,\n",
    "                   true_transition):\n",
    "    \"\"\"\n",
    "    Simulate evolution of beliefs given lambdas0, state0\n",
    "    and an optimal action function\n",
    "    \"\"\"\n",
    "    belief_f0 = lambda state1, action0 : belief(state1, transition_fs, lambdas0,\n",
    "                                            action0, state0)\n",
    "    action0 = opt_action_f(belief_f0, state0)\n",
    "    \n",
    "    old_state = state0\n",
    "    old_action = action0\n",
    "    old_lambdas = lambdas0\n",
    "    for _ in range(t):\n",
    "        new_state = true_transition(old_action, old_state)\n",
    "        new_lambdas = update_lambdas(new_state, transition_fs, old_lambdas,\n",
    "                                     old_action, old_state)        \n",
    "        new_belief_f = lambda new_state, action: belief(new_state, transition_fs,\n",
    "                                                        new_lambdas, action, old_state)\n",
    "        new_action = opt_action_f(new_belief_f, new_state)\n",
    "        \n",
    "        old_state = new_state\n",
    "        old_action = new_action\n",
    "        old_lambdas = new_lambdas\n",
    "    \n",
    "    return new_lambdas\n",
    "    \n",
    "    "
   ]
  },
  {
   "cell_type": "markdown",
   "metadata": {},
   "source": [
    "## Test learning"
   ]
  },
  {
   "cell_type": "code",
   "execution_count": 27,
   "metadata": {},
   "outputs": [
    {
     "name": "stdout",
     "output_type": "stream",
     "text": [
      "[0.00000000e+00 1.00000000e+00 0.00000000e+00 6.18924719e-11]\n"
     ]
    }
   ],
   "source": [
    "# Simple test. 3 states, 4 lambdas\n",
    "def transition_fs(new_state, action, old_state):\n",
    "    transition1 = [0., 0.5, 0.5]\n",
    "    transition2 = [0.1, 0.6, 0.3] #True one\n",
    "    transition3 = [0.3, 0.7, 0.]\n",
    "    transition4 = [0.3, 0.3, 0.4]\n",
    "    return np.array([transition1[new_state], transition2[new_state],\n",
    "                   transition3[new_state], transition4[new_state]])\n",
    "\n",
    "def real_transition(action, old_state):\n",
    "    return np.random.choice([0, 1, 2], p=[0.1, 0.6, 0.3])\n",
    "\n",
    "\n",
    "lambda0 = np.array([0.1, 0.1, 0.1, 0.7])\n",
    "\n",
    "def opt_action_f_example(current_beliefs, current_state):\n",
    "    \"\"\"\n",
    "    Maximizes action given current_beliefs.\n",
    "    Current beliefs already carry old_state and current lambda_weights\n",
    "    \"\"\"\n",
    "    return 0\n",
    "\n",
    "last_lambda = iterate_beliefs(transition_fs, lambda0, action0=2, state0=1, opt_action_f=opt_action_f_example, t=150,\n",
    "                   true_transition=real_transition)\n",
    "\n",
    "print(last_lambda)\n",
    "assert np.allclose(last_lambda, [0, 1, 0, 0]) #True one is the second one\n",
    "\n",
    "\n",
    "\n"
   ]
  },
  {
   "cell_type": "markdown",
   "metadata": {},
   "source": [
    "## VF iteration"
   ]
  },
  {
   "cell_type": "code",
   "execution_count": 66,
   "metadata": {},
   "outputs": [],
   "source": [
    "# I think that the VF is just a function of the lambdas, so it's a function of an L-dimensional state space\n",
    "# This L points live in a simplex (sum up to 1). Weird grid\n",
    "# How do I define a starting VF? Needs to have a value for each point in the simplex \n",
    "# Easiest: for each point, take x_ave = E[X | lambda1=0.1, lambda2=0.3, etc] and then obtain\n",
    "#          optimal action for that x_ave\n",
    "\n",
    "# State is the observed demand. No AR process\n",
    "# log(d) = α +βlog(p) +  ϵ\n",
    "def true_log_demand(p, β=-2.5, α=1.0, σ_ϵ=0.5):\n",
    "    return α +β*np.log(p) + np.random.normal(loc=0, scale=σ_ϵ)\n",
    "\n",
    "max_iter = 10\n",
    "iterate = 0\n",
    "error = error_tol + 1\n",
    "    while iterate < max_iter and error > error_tol:\n",
    "        \n",
    "        "
   ]
  },
  {
   "cell_type": "code",
   "execution_count": 17,
   "metadata": {},
   "outputs": [
    {
     "name": "stdout",
     "output_type": "stream",
     "text": [
      "dmd transition example output:  [0.0014655  0.00315619 0.0064672 ]\n"
     ]
    },
    {
     "data": {
      "text/plain": [
       "<matplotlib.legend.Legend at 0x1a22b5cd68>"
      ]
     },
     "execution_count": 17,
     "metadata": {},
     "output_type": "execute_result"
    },
    {
     "data": {
      "image/png": "[encoded data removed]",
      "text/plain": [
       "<Figure size 432x288 with 1 Axes>"
      ]
     },
     "metadata": {},
     "output_type": "display_data"
    }
   ],
   "source": [
    "#three transition functions. \n",
    "from math import log\n",
    "betas_transition = [-3.0, -2.5, -2.0]\n",
    "σ_ɛ = 0.5\n",
    "α = 1.0\n",
    "c = 0.5\n",
    "from scipy.stats import norm\n",
    "def dmd_transition_fs(new_state, action, old_state):\n",
    "    \"\"\"\n",
    "    Give the probability of observation a given log demand\n",
    "    Action is the price\n",
    "    \"\"\"\n",
    "    return np.array([norm.pdf(new_state, loc=(α + beta*log(action)), scale=σ_ɛ)  for beta in betas_transition  ])\n",
    "\n",
    "print(\"dmd transition example output: \", dmd_transition_fs(log(0.9), 0.8, log(5.2)))\n",
    "\n",
    "def exp_b_from_lambdas(lambdas, betas_transition=betas_transition):\n",
    "    \"\"\"\n",
    "    Get E[β] from the lambdas\n",
    "    \"\"\"\n",
    "    return np.dot(lambdas, betas_transition)\n",
    "\n",
    "\n",
    "def myopic_price(lambdas):\n",
    "    \"\"\"\n",
    "    Given a lambda point, spits out optimal myopic price \n",
    "    \"\"\"\n",
    "    #get elasticity implied by lambdas here\n",
    "    elasticity = -2.2\n",
    "    return c / (1 + (1/elasticity))\n",
    "\n",
    "def period_profit(p, lambdas, betas_transition=betas_transition):\n",
    "    \"\"\"\n",
    "    Not very kosher, since expected value doesn't make epsilon go away\n",
    "    \"\"\"\n",
    "    E_β = exp_b_from_lambdas(lambdas, betas_transition)\n",
    "    logq = α + E_β*np.log(p)\n",
    "    return (p-c)*np.e**(logq)\n",
    "\n",
    "\n",
    "price_options = np.linspace(0.5, 1.5, num=50)\n",
    "#Optimum should be between 0.90816327 and 0.92857143\n",
    "\n",
    "lambda0 = [0.2, 0.3, 0.5]\n",
    "optimal_price = myopic_price(lambdas=lambda0)\n",
    "price_options = np.linspace(0.5, 1.5, num=50)\n",
    "profits = period_profit(p=price_options, lambdas=lambda0)\n",
    "#initial V: just return function\n",
    "\n",
    "\n",
    "fig, ax = plt.subplots(1, 1)\n",
    "ax.plot(price_options, profits)\n",
    "ax.vlines(optimal_price, 0, 1.4, linestyles='dashed', label=\"Optimal Price\")\n",
    "ax.set_xlabel(\"Implied β\", size=16)\n",
    "ax.set_ylabel(\"Period Profit\", size=16)\n",
    "ax.legend()\n",
    "\n",
    "\n"
   ]
  },
  {
   "cell_type": "code",
   "execution_count": 68,
   "metadata": {},
   "outputs": [
    {
     "name": "stdout",
     "output_type": "stream",
     "text": [
      "1.4139826170911671\n"
     ]
    },
    {
     "data": {
      "text/plain": [
       "(1.4046911587666748, 8.170621828423874e-09)"
      ]
     },
     "execution_count": 68,
     "metadata": {},
     "output_type": "execute_result"
    }
   ],
   "source": [
    "# V0 is just profit function with the myopic price\n",
    "def V0(lambdas):\n",
    "    optimal_price = myopic_price(lambdas)\n",
    "    return period_profit(optimal_price, lambdas)\n",
    "\n",
    "print(V0([0.3, 0.5, 0.2]))\n",
    "\n",
    "## Integration Step\n",
    "#TODO: find a faster way to integrate\n",
    "#eOfV = lambda p: eOfV(wGuess, p, lambdas=lambda_weights)\n",
    "\n",
    "def eOfV(wGuess, p, lambdas): #eOfV(wGuess, p)\n",
    "    \"\"\"\n",
    "    Gives expected value of wGuess\n",
    "    \n",
    "    Sum of points on demand and weights, multiplied by V and the belief function\n",
    "    \"\"\"\n",
    "    new_lambdas = lambda new_dmd: update_lambdas(new_dmd, transition_fs=dmd_transition_fs, \n",
    "                                                   old_lambdas=lambdas, action=p, old_state='No worries')\n",
    "    new_belief = lambda new_dmd: belief(new_dmd, transition_fs=dmd_transition_fs,\n",
    "                                       lambda_weights=new_lambdas(new_dmd), action=p, old_state='No worries')\n",
    "    \n",
    "    integrand = lambda new_dmd : wGuess(new_lambdas(new_dmd))*new_belief(new_dmd)\n",
    "    return integrate.quad(integrand, 0.001, 20)\n",
    "   \n",
    "eOfV(V0, p=0.93, lambdas=[0.3, 0.5, 0.2])"
   ]
  },
  {
   "cell_type": "markdown",
   "metadata": {},
   "source": [
    "## Test new expected profit"
   ]
  },
  {
   "cell_type": "code",
   "execution_count": 45,
   "metadata": {},
   "outputs": [],
   "source": [
    "%%typecheck --ignore-missing-imports\n",
    "\n",
    "import sys\n",
    "sys.path.append(\"../\")\n",
    "import src\n",
    "from src import const\n",
    "import numpy as np\n",
    "\n",
    "\n",
    "\n",
    "\n",
    "def period_profit(p: np.ndarray, lambdas: np.ndarray, betas_transition=const.betas_transition):\n",
    "    \"\"\"\n",
    "    Correct expected period return profit. See ReadMe for derivation\n",
    "    \"\"\"\n",
    "    constant_part = (p-const.c) * np.e ** const.α * np.e ** ((const.σ_ɛ ** 2) / 2)\n",
    "    summation = np.dot(np.e**(const.betas_transition*np.log(p[:, np.newaxis])), lambdas)\n",
    "\n",
    "    return constant_part*summation\n",
    "\n",
    "\n",
    "def test_period_profit():\n",
    "    p = np.array([1.4, 1.2])\n",
    "    lambdas = np.array([0.5, 0.4, 0.1])\n",
    "    \n",
    "    beta_p_part = np.array([[np.e**(-3.*0.33647224), np.e**(-2.5*0.33647224), np.e**(-2*0.33647224)],\n",
    "                       [np.e**(-3.*0.18232156), np.e**(-2.5*0.18232156), np.e**(-2*0.18232156)]])\n",
    "    summation_part = np.array([0.36443148*lambdas[0] + 0.43120115*lambdas[1] + 0.51020408*lambdas[2],\n",
    "                    0.5787037*lambdas[0] + 0.63393814*lambdas[1] + 0.69444444*lambdas[2]])\n",
    "    \n",
    "    expected = (p-const.c) * np.e ** const.α * np.e ** ((const.σ_ɛ ** 2) / 2) * summation_part\n",
    "    \n",
    "    computed = period_profit(p, lambdas)\n",
    "    \n",
    "    assert np.allclose(expected, computed)\n",
    "    \n",
    "test_period_profit()"
   ]
  },
  {
   "cell_type": "code",
   "execution_count": 35,
   "metadata": {},
   "outputs": [
    {
     "data": {
      "text/plain": [
       "array([0.33647224, 0.18232156])"
      ]
     },
     "execution_count": 35,
     "metadata": {},
     "output_type": "execute_result"
    }
   ],
   "source": [
    "np.log(p)"
   ]
  },
  {
   "cell_type": "code",
   "execution_count": 25,
   "metadata": {},
   "outputs": [
    {
     "data": {
      "text/plain": [
       "array([-3. , -2.5, -2. ])"
      ]
     },
     "execution_count": 25,
     "metadata": {},
     "output_type": "execute_result"
    }
   ],
   "source": [
    "const.betas_transition"
   ]
  },
  {
   "cell_type": "code",
   "execution_count": 27,
   "metadata": {},
   "outputs": [
    {
     "data": {
      "text/plain": [
       "array([[-4.2, -3.5, -2.8],\n",
       "       [-3.6, -3. , -2.4]])"
      ]
     },
     "execution_count": 27,
     "metadata": {},
     "output_type": "execute_result"
    }
   ],
   "source": [
    "expected = np.array([[-3*1.4, -2.5*1.4, -2*1.4],\n",
    "                    [-3*1.2, -2.5*1.2, -2*1.2]])\n",
    "expected"
   ]
  },
  {
   "cell_type": "code",
   "execution_count": 22,
   "metadata": {},
   "outputs": [
    {
     "ename": "ValueError",
     "evalue": "operands could not be broadcast together with shapes (3,) (2,) ",
     "output_type": "error",
     "traceback": [
      "\u001b[0;31m---------------------------------------------------------------------------\u001b[0m",
      "\u001b[0;31mValueError\u001b[0m                                Traceback (most recent call last)",
      "\u001b[0;32m<ipython-input-22-773740462896>\u001b[0m in \u001b[0;36m<module>\u001b[0;34m()\u001b[0m\n\u001b[0;32m----> 1\u001b[0;31m \u001b[0mconst\u001b[0m\u001b[0;34m.\u001b[0m\u001b[0mbetas_transition\u001b[0m\u001b[0;34m*\u001b[0m\u001b[0mp\u001b[0m\u001b[0;34m\u001b[0m\u001b[0m\n\u001b[0m",
      "\u001b[0;31mValueError\u001b[0m: operands could not be broadcast together with shapes (3,) (2,) "
     ]
    }
   ],
   "source": [
    "const.betas_transition*p"
   ]
  },
  {
   "cell_type": "code",
   "execution_count": 19,
   "metadata": {},
   "outputs": [
    {
     "ename": "ValueError",
     "evalue": "operands could not be broadcast together with shapes (3,) (2,) ",
     "output_type": "error",
     "traceback": [
      "\u001b[0;31m---------------------------------------------------------------------------\u001b[0m",
      "\u001b[0;31mValueError\u001b[0m                                Traceback (most recent call last)",
      "\u001b[0;32m<ipython-input-19-c882d7edec14>\u001b[0m in \u001b[0;36m<module>\u001b[0;34m()\u001b[0m\n\u001b[0;32m----> 1\u001b[0;31m \u001b[0mnp\u001b[0m\u001b[0;34m.\u001b[0m\u001b[0me\u001b[0m\u001b[0;34m**\u001b[0m\u001b[0;34m(\u001b[0m\u001b[0mconst\u001b[0m\u001b[0;34m.\u001b[0m\u001b[0mbetas_transition\u001b[0m\u001b[0;34m*\u001b[0m\u001b[0mnp\u001b[0m\u001b[0;34m.\u001b[0m\u001b[0mlog\u001b[0m\u001b[0;34m(\u001b[0m\u001b[0mp\u001b[0m\u001b[0;34m)\u001b[0m\u001b[0;34m)\u001b[0m\u001b[0;34m\u001b[0m\u001b[0m\n\u001b[0m",
      "\u001b[0;31mValueError\u001b[0m: operands could not be broadcast together with shapes (3,) (2,) "
     ]
    }
   ],
   "source": [
    "np.e**(const.betas_transition*np.log(p))"
   ]
  },
  {
   "cell_type": "code",
   "execution_count": 70,
   "metadata": {},
   "outputs": [
    {
     "data": {
      "text/plain": [
       "(1.6986486260010063, 3.485545147684773e-09)"
      ]
     },
     "execution_count": 70,
     "metadata": {},
     "output_type": "execute_result"
    }
   ],
   "source": [
    "lambda_weights = [0.2, 0.5, 0.3]\n",
    "eOfV_p = lambda p: eOfV(V0, p, lambda_weights)\n",
    "eOfV_p(0.5)"
   ]
  },
  {
   "cell_type": "code",
   "execution_count": 47,
   "metadata": {},
   "outputs": [],
   "source": [
    "def generate_simplex_3dims(n_per_dim=20):\n",
    "    xlist = np.linspace(0.0, 1.0, n_per_dim)\n",
    "    ylist = np.linspace(0.0, 1.0, n_per_dim)\n",
    "    zlist = np.linspace(0.0, 1.0, n_per_dim)\n",
    "    return np.array([[x, y, z] for x in xlist for y in ylist for z in zlist \n",
    "                     if np.allclose(x+y+z, 1.0)])\n",
    "\n"
   ]
  },
  {
   "cell_type": "code",
   "execution_count": 57,
   "metadata": {},
   "outputs": [
    {
     "data": {
      "text/plain": [
       "15"
      ]
     },
     "execution_count": 57,
     "metadata": {},
     "output_type": "execute_result"
    }
   ],
   "source": [
    "simplex3d.shape[0]"
   ]
  },
  {
   "cell_type": "code",
   "execution_count": 69,
   "metadata": {},
   "outputs": [
    {
     "ename": "TypeError",
     "evalue": "only size-1 arrays can be converted to Python scalars",
     "output_type": "error",
     "traceback": [
      "\u001b[0;31m---------------------------------------------------------------------------\u001b[0m",
      "\u001b[0;31mTypeError\u001b[0m                                 Traceback (most recent call last)",
      "\u001b[0;32m<ipython-input-69-2d8d33f2d3cd>\u001b[0m in \u001b[0;36m<module>\u001b[0;34m()\u001b[0m\n\u001b[1;32m     34\u001b[0m     \u001b[0;32mreturn\u001b[0m \u001b[0mTw\u001b[0m\u001b[0;34m,\u001b[0m \u001b[0mpolicy\u001b[0m\u001b[0;34m\u001b[0m\u001b[0m\n\u001b[1;32m     35\u001b[0m \u001b[0;34m\u001b[0m\u001b[0m\n\u001b[0;32m---> 36\u001b[0;31m \u001b[0mTw\u001b[0m\u001b[0;34m,\u001b[0m \u001b[0mpolicy\u001b[0m \u001b[0;34m=\u001b[0m \u001b[0mbellman_operator\u001b[0m\u001b[0;34m(\u001b[0m\u001b[0mV0\u001b[0m\u001b[0;34m)\u001b[0m\u001b[0;34m\u001b[0m\u001b[0m\n\u001b[0m",
      "\u001b[0;32m<ipython-input-69-2d8d33f2d3cd>\u001b[0m in \u001b[0;36mbellman_operator\u001b[0;34m(wGuess)\u001b[0m\n\u001b[1;32m     27\u001b[0m         \u001b[0mR_\u001b[0m \u001b[0;34m=\u001b[0m \u001b[0;32mlambda\u001b[0m \u001b[0mp\u001b[0m\u001b[0;34m:\u001b[0m \u001b[0mperiod_profit\u001b[0m\u001b[0;34m(\u001b[0m\u001b[0mp\u001b[0m\u001b[0;34m,\u001b[0m \u001b[0mlambdas\u001b[0m\u001b[0;34m=\u001b[0m\u001b[0mlambda_weights\u001b[0m\u001b[0;34m)\u001b[0m  \u001b[0;31m#period_profit(p, lambdas,\u001b[0m\u001b[0;34m\u001b[0m\u001b[0m\n\u001b[1;32m     28\u001b[0m         \u001b[0meOfV_p\u001b[0m \u001b[0;34m=\u001b[0m \u001b[0;32mlambda\u001b[0m \u001b[0mp\u001b[0m\u001b[0;34m:\u001b[0m \u001b[0meOfV\u001b[0m\u001b[0;34m(\u001b[0m\u001b[0mwGuess\u001b[0m\u001b[0;34m,\u001b[0m \u001b[0mp\u001b[0m\u001b[0;34m,\u001b[0m \u001b[0mlambdas\u001b[0m\u001b[0;34m=\u001b[0m\u001b[0mlambda_weights\u001b[0m\u001b[0;34m)\u001b[0m\u001b[0;34m\u001b[0m\u001b[0m\n\u001b[0;32m---> 29\u001b[0;31m         \u001b[0mobjective_vals\u001b[0m \u001b[0;34m=\u001b[0m \u001b[0mR_\u001b[0m\u001b[0;34m(\u001b[0m\u001b[0mprice_options\u001b[0m\u001b[0;34m)\u001b[0m \u001b[0;34m+\u001b[0m \u001b[0mδ\u001b[0m\u001b[0;34m*\u001b[0m\u001b[0meOfV_p\u001b[0m\u001b[0;34m(\u001b[0m\u001b[0mprice_options\u001b[0m\u001b[0;34m)\u001b[0m\u001b[0;34m\u001b[0m\u001b[0m\n\u001b[0m\u001b[1;32m     30\u001b[0m         \u001b[0mpStar\u001b[0m \u001b[0;34m=\u001b[0m \u001b[0mprice_options\u001b[0m\u001b[0;34m[\u001b[0m\u001b[0mnp\u001b[0m\u001b[0;34m.\u001b[0m\u001b[0margmax\u001b[0m\u001b[0;34m(\u001b[0m\u001b[0mobjective_vals\u001b[0m\u001b[0;34m)\u001b[0m\u001b[0;34m]\u001b[0m\u001b[0;34m\u001b[0m\u001b[0m\n\u001b[1;32m     31\u001b[0m         \u001b[0mpolicy\u001b[0m\u001b[0;34m[\u001b[0m\u001b[0miII\u001b[0m\u001b[0;34m]\u001b[0m \u001b[0;34m=\u001b[0m \u001b[0mpStar\u001b[0m\u001b[0;34m\u001b[0m\u001b[0m\n",
      "\u001b[0;32m<ipython-input-69-2d8d33f2d3cd>\u001b[0m in \u001b[0;36m<lambda>\u001b[0;34m(p)\u001b[0m\n\u001b[1;32m     26\u001b[0m         \u001b[0mlambda_weights\u001b[0m \u001b[0;34m=\u001b[0m \u001b[0;34m[\u001b[0m\u001b[0mλ1\u001b[0m\u001b[0;34m,\u001b[0m \u001b[0mλ2\u001b[0m\u001b[0;34m,\u001b[0m \u001b[0mλ3\u001b[0m\u001b[0;34m]\u001b[0m\u001b[0;34m\u001b[0m\u001b[0m\n\u001b[1;32m     27\u001b[0m         \u001b[0mR_\u001b[0m \u001b[0;34m=\u001b[0m \u001b[0;32mlambda\u001b[0m \u001b[0mp\u001b[0m\u001b[0;34m:\u001b[0m \u001b[0mperiod_profit\u001b[0m\u001b[0;34m(\u001b[0m\u001b[0mp\u001b[0m\u001b[0;34m,\u001b[0m \u001b[0mlambdas\u001b[0m\u001b[0;34m=\u001b[0m\u001b[0mlambda_weights\u001b[0m\u001b[0;34m)\u001b[0m  \u001b[0;31m#period_profit(p, lambdas,\u001b[0m\u001b[0;34m\u001b[0m\u001b[0m\n\u001b[0;32m---> 28\u001b[0;31m         \u001b[0meOfV_p\u001b[0m \u001b[0;34m=\u001b[0m \u001b[0;32mlambda\u001b[0m \u001b[0mp\u001b[0m\u001b[0;34m:\u001b[0m \u001b[0meOfV\u001b[0m\u001b[0;34m(\u001b[0m\u001b[0mwGuess\u001b[0m\u001b[0;34m,\u001b[0m \u001b[0mp\u001b[0m\u001b[0;34m,\u001b[0m \u001b[0mlambdas\u001b[0m\u001b[0;34m=\u001b[0m\u001b[0mlambda_weights\u001b[0m\u001b[0;34m)\u001b[0m\u001b[0;34m\u001b[0m\u001b[0m\n\u001b[0m\u001b[1;32m     29\u001b[0m         \u001b[0mobjective_vals\u001b[0m \u001b[0;34m=\u001b[0m \u001b[0mR_\u001b[0m\u001b[0;34m(\u001b[0m\u001b[0mprice_options\u001b[0m\u001b[0;34m)\u001b[0m \u001b[0;34m+\u001b[0m \u001b[0mδ\u001b[0m\u001b[0;34m*\u001b[0m\u001b[0meOfV_p\u001b[0m\u001b[0;34m(\u001b[0m\u001b[0mprice_options\u001b[0m\u001b[0;34m)\u001b[0m\u001b[0;34m\u001b[0m\u001b[0m\n\u001b[1;32m     30\u001b[0m         \u001b[0mpStar\u001b[0m \u001b[0;34m=\u001b[0m \u001b[0mprice_options\u001b[0m\u001b[0;34m[\u001b[0m\u001b[0mnp\u001b[0m\u001b[0;34m.\u001b[0m\u001b[0margmax\u001b[0m\u001b[0;34m(\u001b[0m\u001b[0mobjective_vals\u001b[0m\u001b[0;34m)\u001b[0m\u001b[0;34m]\u001b[0m\u001b[0;34m\u001b[0m\u001b[0m\n",
      "\u001b[0;32m<ipython-input-68-e0fadeb77989>\u001b[0m in \u001b[0;36meOfV\u001b[0;34m(wGuess, p, lambdas)\u001b[0m\n\u001b[1;32m     22\u001b[0m \u001b[0;34m\u001b[0m\u001b[0m\n\u001b[1;32m     23\u001b[0m     \u001b[0mintegrand\u001b[0m \u001b[0;34m=\u001b[0m \u001b[0;32mlambda\u001b[0m \u001b[0mnew_dmd\u001b[0m \u001b[0;34m:\u001b[0m \u001b[0mwGuess\u001b[0m\u001b[0;34m(\u001b[0m\u001b[0mnew_lambdas\u001b[0m\u001b[0;34m(\u001b[0m\u001b[0mnew_dmd\u001b[0m\u001b[0;34m)\u001b[0m\u001b[0;34m)\u001b[0m\u001b[0;34m*\u001b[0m\u001b[0mnew_belief\u001b[0m\u001b[0;34m(\u001b[0m\u001b[0mnew_dmd\u001b[0m\u001b[0;34m)\u001b[0m\u001b[0;34m\u001b[0m\u001b[0m\n\u001b[0;32m---> 24\u001b[0;31m     \u001b[0;32mreturn\u001b[0m \u001b[0mintegrate\u001b[0m\u001b[0;34m.\u001b[0m\u001b[0mquad\u001b[0m\u001b[0;34m(\u001b[0m\u001b[0mintegrand\u001b[0m\u001b[0;34m,\u001b[0m \u001b[0;36m0.001\u001b[0m\u001b[0;34m,\u001b[0m \u001b[0;36m20\u001b[0m\u001b[0;34m)\u001b[0m\u001b[0;34m\u001b[0m\u001b[0m\n\u001b[0m\u001b[1;32m     25\u001b[0m \u001b[0;34m\u001b[0m\u001b[0m\n\u001b[1;32m     26\u001b[0m \u001b[0meOfV\u001b[0m\u001b[0;34m(\u001b[0m\u001b[0mV0\u001b[0m\u001b[0;34m,\u001b[0m \u001b[0mp\u001b[0m\u001b[0;34m=\u001b[0m\u001b[0;36m0.93\u001b[0m\u001b[0;34m,\u001b[0m \u001b[0mlambdas\u001b[0m\u001b[0;34m=\u001b[0m\u001b[0;34m[\u001b[0m\u001b[0;36m0.3\u001b[0m\u001b[0;34m,\u001b[0m \u001b[0;36m0.5\u001b[0m\u001b[0;34m,\u001b[0m \u001b[0;36m0.2\u001b[0m\u001b[0;34m]\u001b[0m\u001b[0;34m)\u001b[0m\u001b[0;34m\u001b[0m\u001b[0m\n",
      "\u001b[0;32m/usr/local/anaconda3/envs/firm_learning/lib/python3.7/site-packages/scipy/integrate/quadpack.py\u001b[0m in \u001b[0;36mquad\u001b[0;34m(func, a, b, args, full_output, epsabs, epsrel, limit, points, weight, wvar, wopts, maxp1, limlst)\u001b[0m\n\u001b[1;32m    339\u001b[0m     \u001b[0;32mif\u001b[0m \u001b[0mweight\u001b[0m \u001b[0;32mis\u001b[0m \u001b[0;32mNone\u001b[0m\u001b[0;34m:\u001b[0m\u001b[0;34m\u001b[0m\u001b[0m\n\u001b[1;32m    340\u001b[0m         retval = _quad(func, a, b, args, full_output, epsabs, epsrel, limit,\n\u001b[0;32m--> 341\u001b[0;31m                        points)\n\u001b[0m\u001b[1;32m    342\u001b[0m     \u001b[0;32melse\u001b[0m\u001b[0;34m:\u001b[0m\u001b[0;34m\u001b[0m\u001b[0m\n\u001b[1;32m    343\u001b[0m         retval = _quad_weight(func, a, b, args, full_output, epsabs, epsrel,\n",
      "\u001b[0;32m/usr/local/anaconda3/envs/firm_learning/lib/python3.7/site-packages/scipy/integrate/quadpack.py\u001b[0m in \u001b[0;36m_quad\u001b[0;34m(func, a, b, args, full_output, epsabs, epsrel, limit, points)\u001b[0m\n\u001b[1;32m    446\u001b[0m     \u001b[0;32mif\u001b[0m \u001b[0mpoints\u001b[0m \u001b[0;32mis\u001b[0m \u001b[0;32mNone\u001b[0m\u001b[0;34m:\u001b[0m\u001b[0;34m\u001b[0m\u001b[0m\n\u001b[1;32m    447\u001b[0m         \u001b[0;32mif\u001b[0m \u001b[0minfbounds\u001b[0m \u001b[0;34m==\u001b[0m \u001b[0;36m0\u001b[0m\u001b[0;34m:\u001b[0m\u001b[0;34m\u001b[0m\u001b[0m\n\u001b[0;32m--> 448\u001b[0;31m             \u001b[0;32mreturn\u001b[0m \u001b[0m_quadpack\u001b[0m\u001b[0;34m.\u001b[0m\u001b[0m_qagse\u001b[0m\u001b[0;34m(\u001b[0m\u001b[0mfunc\u001b[0m\u001b[0;34m,\u001b[0m\u001b[0ma\u001b[0m\u001b[0;34m,\u001b[0m\u001b[0mb\u001b[0m\u001b[0;34m,\u001b[0m\u001b[0margs\u001b[0m\u001b[0;34m,\u001b[0m\u001b[0mfull_output\u001b[0m\u001b[0;34m,\u001b[0m\u001b[0mepsabs\u001b[0m\u001b[0;34m,\u001b[0m\u001b[0mepsrel\u001b[0m\u001b[0;34m,\u001b[0m\u001b[0mlimit\u001b[0m\u001b[0;34m)\u001b[0m\u001b[0;34m\u001b[0m\u001b[0m\n\u001b[0m\u001b[1;32m    449\u001b[0m         \u001b[0;32melse\u001b[0m\u001b[0;34m:\u001b[0m\u001b[0;34m\u001b[0m\u001b[0m\n\u001b[1;32m    450\u001b[0m             \u001b[0;32mreturn\u001b[0m \u001b[0m_quadpack\u001b[0m\u001b[0;34m.\u001b[0m\u001b[0m_qagie\u001b[0m\u001b[0;34m(\u001b[0m\u001b[0mfunc\u001b[0m\u001b[0;34m,\u001b[0m\u001b[0mbound\u001b[0m\u001b[0;34m,\u001b[0m\u001b[0minfbounds\u001b[0m\u001b[0;34m,\u001b[0m\u001b[0margs\u001b[0m\u001b[0;34m,\u001b[0m\u001b[0mfull_output\u001b[0m\u001b[0;34m,\u001b[0m\u001b[0mepsabs\u001b[0m\u001b[0;34m,\u001b[0m\u001b[0mepsrel\u001b[0m\u001b[0;34m,\u001b[0m\u001b[0mlimit\u001b[0m\u001b[0;34m)\u001b[0m\u001b[0;34m\u001b[0m\u001b[0m\n",
      "\u001b[0;32m<ipython-input-68-e0fadeb77989>\u001b[0m in \u001b[0;36m<lambda>\u001b[0;34m(new_dmd)\u001b[0m\n\u001b[1;32m     21\u001b[0m                                        lambda_weights=new_lambdas(new_dmd), action=p, old_state='No worries')\n\u001b[1;32m     22\u001b[0m \u001b[0;34m\u001b[0m\u001b[0m\n\u001b[0;32m---> 23\u001b[0;31m     \u001b[0mintegrand\u001b[0m \u001b[0;34m=\u001b[0m \u001b[0;32mlambda\u001b[0m \u001b[0mnew_dmd\u001b[0m \u001b[0;34m:\u001b[0m \u001b[0mwGuess\u001b[0m\u001b[0;34m(\u001b[0m\u001b[0mnew_lambdas\u001b[0m\u001b[0;34m(\u001b[0m\u001b[0mnew_dmd\u001b[0m\u001b[0;34m)\u001b[0m\u001b[0;34m)\u001b[0m\u001b[0;34m*\u001b[0m\u001b[0mnew_belief\u001b[0m\u001b[0;34m(\u001b[0m\u001b[0mnew_dmd\u001b[0m\u001b[0;34m)\u001b[0m\u001b[0;34m\u001b[0m\u001b[0m\n\u001b[0m\u001b[1;32m     24\u001b[0m     \u001b[0;32mreturn\u001b[0m \u001b[0mintegrate\u001b[0m\u001b[0;34m.\u001b[0m\u001b[0mquad\u001b[0m\u001b[0;34m(\u001b[0m\u001b[0mintegrand\u001b[0m\u001b[0;34m,\u001b[0m \u001b[0;36m0.001\u001b[0m\u001b[0;34m,\u001b[0m \u001b[0;36m20\u001b[0m\u001b[0;34m)\u001b[0m\u001b[0;34m\u001b[0m\u001b[0m\n\u001b[1;32m     25\u001b[0m \u001b[0;34m\u001b[0m\u001b[0m\n",
      "\u001b[0;32m<ipython-input-68-e0fadeb77989>\u001b[0m in \u001b[0;36m<lambda>\u001b[0;34m(new_dmd)\u001b[0m\n\u001b[1;32m     17\u001b[0m     \"\"\"\n\u001b[1;32m     18\u001b[0m     new_lambdas = lambda new_dmd: update_lambdas(new_dmd, transition_fs=dmd_transition_fs, \n\u001b[0;32m---> 19\u001b[0;31m                                                    old_lambdas=lambdas, action=p, old_state='No worries')\n\u001b[0m\u001b[1;32m     20\u001b[0m     new_belief = lambda new_dmd: belief(new_dmd, transition_fs=dmd_transition_fs,\n\u001b[1;32m     21\u001b[0m                                        lambda_weights=new_lambdas(new_dmd), action=p, old_state='No worries')\n",
      "\u001b[0;32m<ipython-input-9-395afc316435>\u001b[0m in \u001b[0;36mupdate_lambdas\u001b[0;34m(new_state, transition_fs, old_lambdas, action, old_state)\u001b[0m\n\u001b[1;32m     17\u001b[0m     \u001b[0mTransition_fs\u001b[0m \u001b[0mare\u001b[0m \u001b[0mfixed\u001b[0m \u001b[0;32mand\u001b[0m \u001b[0mexogenous\u001b[0m\u001b[0;34m\u001b[0m\u001b[0m\n\u001b[1;32m     18\u001b[0m     \"\"\"\n\u001b[0;32m---> 19\u001b[0;31m     \u001b[0mdenominator\u001b[0m \u001b[0;34m=\u001b[0m \u001b[0mnp\u001b[0m\u001b[0;34m.\u001b[0m\u001b[0mdot\u001b[0m\u001b[0;34m(\u001b[0m\u001b[0mtransition_fs\u001b[0m\u001b[0;34m(\u001b[0m\u001b[0mnew_state\u001b[0m\u001b[0;34m,\u001b[0m \u001b[0maction\u001b[0m\u001b[0;34m,\u001b[0m \u001b[0mold_state\u001b[0m\u001b[0;34m)\u001b[0m\u001b[0;34m,\u001b[0m \u001b[0mold_lambdas\u001b[0m\u001b[0;34m)\u001b[0m\u001b[0;34m\u001b[0m\u001b[0m\n\u001b[0m\u001b[1;32m     20\u001b[0m     \u001b[0;32mreturn\u001b[0m \u001b[0mtransition_fs\u001b[0m\u001b[0;34m(\u001b[0m\u001b[0mnew_state\u001b[0m\u001b[0;34m,\u001b[0m \u001b[0maction\u001b[0m\u001b[0;34m,\u001b[0m \u001b[0mold_state\u001b[0m\u001b[0;34m)\u001b[0m\u001b[0;34m*\u001b[0m\u001b[0mold_lambdas\u001b[0m \u001b[0;34m/\u001b[0m \u001b[0mdenominator\u001b[0m\u001b[0;34m\u001b[0m\u001b[0m\n\u001b[1;32m     21\u001b[0m \u001b[0;34m\u001b[0m\u001b[0m\n",
      "\u001b[0;32m<ipython-input-17-ac81cfb7f67e>\u001b[0m in \u001b[0;36mdmd_transition_fs\u001b[0;34m(new_state, action, old_state)\u001b[0m\n\u001b[1;32m     11\u001b[0m     \u001b[0mAction\u001b[0m \u001b[0;32mis\u001b[0m \u001b[0mthe\u001b[0m \u001b[0mprice\u001b[0m\u001b[0;34m\u001b[0m\u001b[0m\n\u001b[1;32m     12\u001b[0m     \"\"\"\n\u001b[0;32m---> 13\u001b[0;31m     \u001b[0;32mreturn\u001b[0m \u001b[0mnp\u001b[0m\u001b[0;34m.\u001b[0m\u001b[0marray\u001b[0m\u001b[0;34m(\u001b[0m\u001b[0;34m[\u001b[0m\u001b[0mnorm\u001b[0m\u001b[0;34m.\u001b[0m\u001b[0mpdf\u001b[0m\u001b[0;34m(\u001b[0m\u001b[0mnew_state\u001b[0m\u001b[0;34m,\u001b[0m \u001b[0mloc\u001b[0m\u001b[0;34m=\u001b[0m\u001b[0;34m(\u001b[0m\u001b[0mα\u001b[0m \u001b[0;34m+\u001b[0m \u001b[0mbeta\u001b[0m\u001b[0;34m*\u001b[0m\u001b[0mlog\u001b[0m\u001b[0;34m(\u001b[0m\u001b[0maction\u001b[0m\u001b[0;34m)\u001b[0m\u001b[0;34m)\u001b[0m\u001b[0;34m,\u001b[0m \u001b[0mscale\u001b[0m\u001b[0;34m=\u001b[0m\u001b[0mσ_ɛ\u001b[0m\u001b[0;34m)\u001b[0m  \u001b[0;32mfor\u001b[0m \u001b[0mbeta\u001b[0m \u001b[0;32min\u001b[0m \u001b[0mbetas_transition\u001b[0m  \u001b[0;34m]\u001b[0m\u001b[0;34m)\u001b[0m\u001b[0;34m\u001b[0m\u001b[0m\n\u001b[0m\u001b[1;32m     14\u001b[0m \u001b[0;34m\u001b[0m\u001b[0m\n\u001b[1;32m     15\u001b[0m \u001b[0mprint\u001b[0m\u001b[0;34m(\u001b[0m\u001b[0;34m\"dmd transition example output: \"\u001b[0m\u001b[0;34m,\u001b[0m \u001b[0mdmd_transition_fs\u001b[0m\u001b[0;34m(\u001b[0m\u001b[0mlog\u001b[0m\u001b[0;34m(\u001b[0m\u001b[0;36m0.9\u001b[0m\u001b[0;34m)\u001b[0m\u001b[0;34m,\u001b[0m \u001b[0;36m0.8\u001b[0m\u001b[0;34m,\u001b[0m \u001b[0mlog\u001b[0m\u001b[0;34m(\u001b[0m\u001b[0;36m5.2\u001b[0m\u001b[0;34m)\u001b[0m\u001b[0;34m)\u001b[0m\u001b[0;34m)\u001b[0m\u001b[0;34m\u001b[0m\u001b[0m\n",
      "\u001b[0;32m<ipython-input-17-ac81cfb7f67e>\u001b[0m in \u001b[0;36m<listcomp>\u001b[0;34m(.0)\u001b[0m\n\u001b[1;32m     11\u001b[0m     \u001b[0mAction\u001b[0m \u001b[0;32mis\u001b[0m \u001b[0mthe\u001b[0m \u001b[0mprice\u001b[0m\u001b[0;34m\u001b[0m\u001b[0m\n\u001b[1;32m     12\u001b[0m     \"\"\"\n\u001b[0;32m---> 13\u001b[0;31m     \u001b[0;32mreturn\u001b[0m \u001b[0mnp\u001b[0m\u001b[0;34m.\u001b[0m\u001b[0marray\u001b[0m\u001b[0;34m(\u001b[0m\u001b[0;34m[\u001b[0m\u001b[0mnorm\u001b[0m\u001b[0;34m.\u001b[0m\u001b[0mpdf\u001b[0m\u001b[0;34m(\u001b[0m\u001b[0mnew_state\u001b[0m\u001b[0;34m,\u001b[0m \u001b[0mloc\u001b[0m\u001b[0;34m=\u001b[0m\u001b[0;34m(\u001b[0m\u001b[0mα\u001b[0m \u001b[0;34m+\u001b[0m \u001b[0mbeta\u001b[0m\u001b[0;34m*\u001b[0m\u001b[0mlog\u001b[0m\u001b[0;34m(\u001b[0m\u001b[0maction\u001b[0m\u001b[0;34m)\u001b[0m\u001b[0;34m)\u001b[0m\u001b[0;34m,\u001b[0m \u001b[0mscale\u001b[0m\u001b[0;34m=\u001b[0m\u001b[0mσ_ɛ\u001b[0m\u001b[0;34m)\u001b[0m  \u001b[0;32mfor\u001b[0m \u001b[0mbeta\u001b[0m \u001b[0;32min\u001b[0m \u001b[0mbetas_transition\u001b[0m  \u001b[0;34m]\u001b[0m\u001b[0;34m)\u001b[0m\u001b[0;34m\u001b[0m\u001b[0m\n\u001b[0m\u001b[1;32m     14\u001b[0m \u001b[0;34m\u001b[0m\u001b[0m\n\u001b[1;32m     15\u001b[0m \u001b[0mprint\u001b[0m\u001b[0;34m(\u001b[0m\u001b[0;34m\"dmd transition example output: \"\u001b[0m\u001b[0;34m,\u001b[0m \u001b[0mdmd_transition_fs\u001b[0m\u001b[0;34m(\u001b[0m\u001b[0mlog\u001b[0m\u001b[0;34m(\u001b[0m\u001b[0;36m0.9\u001b[0m\u001b[0;34m)\u001b[0m\u001b[0;34m,\u001b[0m \u001b[0;36m0.8\u001b[0m\u001b[0;34m,\u001b[0m \u001b[0mlog\u001b[0m\u001b[0;34m(\u001b[0m\u001b[0;36m5.2\u001b[0m\u001b[0;34m)\u001b[0m\u001b[0;34m)\u001b[0m\u001b[0;34m)\u001b[0m\u001b[0;34m\u001b[0m\u001b[0m\n",
      "\u001b[0;31mTypeError\u001b[0m: only size-1 arrays can be converted to Python scalars"
     ]
    }
   ],
   "source": [
    "\n",
    "δ = 0.9\n",
    "n_per_dim = 20\n",
    "simplex3d = generate_simplex_3dims(n_per_dim)\n",
    "\n",
    "def bellman_operator(wGuess):\n",
    "    \"\"\"\n",
    "    The approximate Bellman operator, which computes and returns the\n",
    "    updated value function Tw on the grid points.\n",
    "\n",
    "    Parameters\n",
    "    ----------\n",
    "    w_guess : \n",
    "        Matrix on lambdas or function on lambdas \n",
    "    \"\"\"\n",
    "    #policy = np.empty_like(wGuess)\n",
    "    #Tw = np.empty_like(wGuess)\n",
    "    policy = np.empty(simplex3d.shape[0])\n",
    "    Tw = np.empty(simplex3d.shape[0])\n",
    "    \n",
    "    #1. go over grid of state space\n",
    "    #2. Write objective (present return + delta*eOfV)\n",
    "    #3. Find optimal p on that objective\n",
    "    #4. write optimal p and value function on that point in the grid\n",
    "    for iII, (λ1, λ2, λ3) in enumerate(simplex3d):\n",
    "        lambda_weights = [λ1, λ2, λ3]\n",
    "        R_ = lambda p: period_profit(p, lambdas=lambda_weights)  #period_profit(p, lambdas,\n",
    "        eOfV_p = lambda p: eOfV(wGuess, p, lambdas=lambda_weights)\n",
    "        objective_vals = R_(price_options) + δ*eOfV_p(price_options)  \n",
    "        pStar = price_options[np.argmax(objective_vals)]\n",
    "        policy[iII] = pStar\n",
    "        Tw[iII] = objective(pStar)\n",
    "        \n",
    "    return Tw, policy\n",
    "\n",
    "Tw, policy = bellman_operator(V0)"
   ]
  },
  {
   "cell_type": "code",
   "execution_count": 23,
   "metadata": {},
   "outputs": [
    {
     "data": {
      "text/plain": [
       "9"
      ]
     },
     "execution_count": 23,
     "metadata": {},
     "output_type": "execute_result"
    }
   ],
   "source": [
    "np.max([3, 2, 1, 9, 3])\n",
    "\n",
    "\n"
   ]
  },
  {
   "cell_type": "code",
   "execution_count": 24,
   "metadata": {},
   "outputs": [
    {
     "data": {
      "text/plain": [
       "3"
      ]
     },
     "execution_count": 24,
     "metadata": {},
     "output_type": "execute_result"
    }
   ],
   "source": [
    "np.argmax([3, 2, 1, 9, 3])"
   ]
  },
  {
   "cell_type": "code",
   "execution_count": 48,
   "metadata": {},
   "outputs": [
    {
     "data": {
      "text/plain": [
       "array([  0.00000000e+00,   9.99999059e-01,   0.00000000e+00,\n",
       "         9.40837326e-07])"
      ]
     },
     "execution_count": 48,
     "metadata": {},
     "output_type": "execute_result"
    }
   ],
   "source": [
    "def compute_fixed_point(T, v, error_tol=1e-5, max_iter=50, verbose=1,\n",
    "                        skip=10, *args,\n",
    "                        **kwargs):\n",
    "    \"\"\"\n",
    "    Computes and returns :math:`T^k v`, an approximate fixed point.\n",
    "\n",
    "    Here T is an operator, v is an initial condition and k is the number\n",
    "    of iterates. Provided that T is a contraction mapping or similar,\n",
    "    :math:`T^k v` will be an approximation to the fixed point.\n",
    "\n",
    "    Parameters\n",
    "    ----------\n",
    "    T : callable\n",
    "        A callable object (e.g., function) that acts on v.\n",
    "        The bellman operator\n",
    "    v : object\n",
    "        An object such that T(v) is defined. Initial guess.\n",
    "    error_tol : scalar(float), optional(default=1e-5)\n",
    "        Error tolerance\n",
    "    max_iter : scalar(int), optional(default=50)\n",
    "        Maximum number of iterations\n",
    "    verbose : bool, optional(default=True)\n",
    "        If True then print current error at each iterate.\n",
    "    args, kwargs :\n",
    "        Other arguments and keyword arguments that are passed directly\n",
    "        to  the function T each time it is called\n",
    "\n",
    "    Returns\n",
    "    -------\n",
    "    v : object (usually array)\n",
    "        The approximate fixed point\n",
    "    policy : object (usually array)\n",
    "        the policy at the approximate fixed point\n",
    "\n",
    "    \"\"\"\n",
    "    iterate = 0\n",
    "    error = error_tol + 1\n",
    "    while iterate < max_iter and error > error_tol:\n",
    "        start_iter = time.time()\n",
    "        new_v, policy = T(v, *args, **kwargs)\n",
    "        iterate += 1\n",
    "        error = np.max(np.abs(new_v - v))\n",
    "        if verbose and iterate%skip==0 :\n",
    "            time_taken = (time.time() - start_iter) / 60.\n",
    "            print(\"Computed iterate %d with error %f in %f minutes\" % (iterate, error, time_taken))\n",
    "        try:\n",
    "            v[:] = new_v\n",
    "        except TypeError:\n",
    "            v = new_v\n",
    "    return v, policy, error"
   ]
  },
  {
   "cell_type": "code",
   "execution_count": null,
   "metadata": {},
   "outputs": [],
   "source": [
    "v_star, policy_star, error = lp.compute_fixed_point(bellman_operator, max_iter=max_iters, v=w_values,\n",
    "                                                    kind='linear')"
   ]
  },
  {
   "cell_type": "code",
   "execution_count": 39,
   "metadata": {},
   "outputs": [
    {
     "data": {
      "text/plain": [
       "array([ 0.4,  0.1,  0.2,  0.3])"
      ]
     },
     "execution_count": 39,
     "metadata": {},
     "output_type": "execute_result"
    }
   ],
   "source": [
    "def bellman_operator(self, wGuess, kind='linear', compute_policy=True):\n",
    "    \"\"\"\n",
    "    The approximate Bellman operator, which computes and returns the\n",
    "    updated value function Tw on the grid points.\n",
    "\n",
    "    Parameters\n",
    "    ----------\n",
    "    w_guess : array_like(float, ndim=2)\n",
    "        The value of the input function on (sVal, alphaVal)\n",
    "    kind : string\n",
    "        Type of interpolation.\n",
    "    compute_policy : Boolean, optional(default=False)\n",
    "        Whether or not to compute policy function\n",
    "    \"\"\"\n",
    "\n",
    "    assert wGuess.shape == self.dimsV\n",
    "\n",
    "    # === Interpolate wGuess in two dims ====== #\n",
    "\n",
    "    #interpW = interp1d(self.SGrid, wGuess, kind=kind, assume_sorted=True,\n",
    "    #                   bounds_error=False, fill_value=wGuess[0])\n",
    "    interpW = RectBivariateSpline(self.SGrid, self.alpha_grid, wGuess,\n",
    "                                bbox=[min(self.SGrid) - 2, max(self.SGrid), \n",
    "                                     min(self.alpha_grid) -2 , max(self.alpha_grid)])\n",
    "\n",
    "\n",
    "    policy = np.empty_like(wGuess)\n",
    "    Tw = np.empty_like(wGuess)\n",
    "\n",
    "    for iII, s in enumerate(self.SGrid):\n",
    "        for jJJ, alpha in enumerate(self.alpha_grid):\n",
    "            R_ = lambda p: self.RFunc(p, s, alpha)\n",
    "            eOfV = lambda p: self.eOfV(interpW, p, s, alpha)\n",
    "            objective = (lambda p: -(R_(p) + self.delta*eOfV(p) )  )\n",
    "            minP, maxP = 1.0e-6, 15\n",
    "            pStar = fminbound(objective, minP, maxP, maxfun=100, disp=1)\n",
    "\n",
    "            Tw[iII, jJJ] = -objective(pStar)\n",
    "            policy[iII, jJJ] = pStar\n",
    "    if compute_policy:\n",
    "        return Tw, policy\n",
    "    else:\n",
    "        return Tw"
   ]
  },
  {
   "cell_type": "code",
   "execution_count": 8,
   "metadata": {},
   "outputs": [],
   "source": [
    "\"\"\"\n",
    "Add mypy type-checking cell magic to jupyter/ipython.\n",
    "Save this script to your ipython profile's startup directory.\n",
    "IPython's directories can be found via `ipython locate [profile]` to find the current ipython directory and ipython profile directory, respectively.\n",
    "For example, this file could exist on a path like this on mac:\n",
    "/Users/yourusername/.ipython/profile_default/startup/typecheck.py\n",
    "where /Users/yourusername/.ipython/profile_default/ is the ipython directory for\n",
    "the default profile.\n",
    "The line magic is called \"typecheck\" to avoid namespace conflict with the mypy\n",
    "package.\n",
    "\"\"\"\n",
    "\n",
    "from IPython.core.magic import register_cell_magic\n",
    "\n",
    "\n",
    "@register_cell_magic\n",
    "def typecheck(line, cell):\n",
    "    \"\"\"\n",
    "    Run the following cell though mypy.\n",
    "    Any parameters that would normally be passed to the mypy cli\n",
    "    can be passed on the first line, with the exception of the\n",
    "    -c flag we use to pass the code from the cell we want to execute\n",
    "     i.e.\n",
    "    %%typecheck --ignore-missing-imports\n",
    "    ...\n",
    "    ...\n",
    "    ...\n",
    "    mypy stdout and stderr will print prior to output of cell. If there are no conflicts,\n",
    "    nothing will be printed by mypy.\n",
    "    \"\"\"\n",
    "\n",
    "    from IPython import get_ipython\n",
    "    from mypy import api\n",
    "\n",
    "    # inserting a newline at the beginning of the cell\n",
    "    # ensures mypy's output matches the the line\n",
    "    # numbers in jupyter\n",
    "\n",
    "    cell = '\\n' + cell\n",
    "\n",
    "    mypy_result = api.run(['-c', cell] + line.split())\n",
    "\n",
    "    if mypy_result[0]:  # print mypy stdout\n",
    "        print(mypy_result[0])\n",
    "\n",
    "    if mypy_result[1]:  # print mypy stderr\n",
    "        print(mypy_result[1])\n",
    "\n",
    "    shell = get_ipython()\n",
    "    shell.run_cell(cell)"
   ]
  },
  {
   "cell_type": "markdown",
   "metadata": {},
   "source": [
    "## Problem: Interpolate 1D array over simplex to a function"
   ]
  },
  {
   "cell_type": "code",
   "execution_count": 76,
   "metadata": {},
   "outputs": [],
   "source": [
    "import sys\n",
    "sys.path.append(\"../\")\n",
    "import src"
   ]
  },
  {
   "cell_type": "code",
   "execution_count": 108,
   "metadata": {},
   "outputs": [
    {
     "data": {
      "text/plain": [
       "array([0.        , 0.        , 0.        , 0.        , 0.        ,\n",
       "       0.        , 0.        , 0.        , 0.        , 0.        ,\n",
       "       0.11111111, 0.11111111, 0.11111111, 0.11111111, 0.11111111,\n",
       "       0.11111111, 0.11111111, 0.11111111, 0.11111111, 0.22222222,\n",
       "       0.22222222, 0.22222222, 0.22222222, 0.22222222, 0.22222222,\n",
       "       0.22222222, 0.22222222, 0.33333333, 0.33333333, 0.33333333,\n",
       "       0.33333333, 0.33333333, 0.33333333, 0.33333333, 0.44444444,\n",
       "       0.44444444, 0.44444444, 0.44444444, 0.44444444, 0.44444444,\n",
       "       0.55555556, 0.55555556, 0.55555556, 0.55555556, 0.55555556,\n",
       "       0.66666667, 0.66666667, 0.66666667, 0.66666667, 0.77777778,\n",
       "       0.77777778, 0.77777778, 0.88888889, 0.88888889, 1.        ])"
      ]
     },
     "execution_count": 108,
     "metadata": {},
     "output_type": "execute_result"
    }
   ],
   "source": [
    "simplex_points[:, 0]"
   ]
  },
  {
   "cell_type": "code",
   "execution_count": 131,
   "metadata": {},
   "outputs": [],
   "source": [
    "def approx_this_f(x, y, z):\n",
    "    return 2*x - y + 5*z\n",
    "\n",
    "def approx_this_f_vec(array):\n",
    "    res = np.empty(len(array))\n",
    "    for row in range(len(array)):\n",
    "        res[row] = approx_this_f(*array[row])\n",
    "    return res\n",
    "        \n",
    "\n",
    "simplex_points = src.generate_simplex_3dims(10)\n",
    "\n",
    "values = np.empty(len(simplex_points))\n",
    "for i, lambda_0 in enumerate(simplex_points):\n",
    "    values[i] = approx_this_f(lambda_0[0], lambda_0[1],\n",
    "                         lambda_0[2])\n",
    "    \n",
    "from scipy.interpolate import LinearNDInterpolator\n",
    "from scipy.interpolate import Rbf\n",
    "x, y, z = simplex_points[:, 0], simplex_points[:, 1], simplex_points[:, 2]\n",
    "interpolated_f = Rbf(x, y, z, values)\n",
    "#interpolated_f = LinearNDInterpolator(simplex_points, values, )"
   ]
  },
  {
   "cell_type": "code",
   "execution_count": 149,
   "metadata": {},
   "outputs": [
    {
     "data": {
      "text/plain": [
       "array([0., 0., 1.])"
      ]
     },
     "execution_count": 149,
     "metadata": {},
     "output_type": "execute_result"
    }
   ],
   "source": [
    "lambdas_except_last = np.array([0., 0.])\n",
    "full_lambdas = np.array(list(lambdas_except_last) + [1 - lambdas_except_last.sum()])\n",
    "full_lambdas"
   ]
  },
  {
   "cell_type": "code",
   "execution_count": 146,
   "metadata": {},
   "outputs": [
    {
     "data": {
      "text/plain": [
       "array([0.5, 0.4, 0.1])"
      ]
     },
     "execution_count": 146,
     "metadata": {},
     "output_type": "execute_result"
    }
   ],
   "source": [
    "lambdas_except_last = np.array([0.5, 0.4, 0.1])\n",
    "lambdas = np.array(lambdas_except_last + [1 - lambdas_except_last.sum()])\n",
    "lambdas"
   ]
  },
  {
   "cell_type": "code",
   "execution_count": 139,
   "metadata": {},
   "outputs": [
    {
     "name": "stdout",
     "output_type": "stream",
     "text": [
      "1275\n"
     ]
    },
    {
     "data": {
      "text/plain": [
       "1.7763568394002505e-15"
      ]
     },
     "execution_count": 139,
     "metadata": {},
     "output_type": "execute_result"
    }
   ],
   "source": [
    "interpolated_f2 = LinearNDInterpolator(simplex_points[:, 0:2], values)\n",
    "points_test = src.generate_simplex_3dims(50)\n",
    "print(len(points_test))\n",
    "two_points = np.array([[0.4, 0.3, 0.3], [0., 0., 1.]])\n",
    "interpolated_vals = interpolated_f2(points_test[:, 0:2])\n",
    "real_values = approx_this_f_vec(points_test)\n",
    "\n",
    "(interpolated_vals - real_values).max()"
   ]
  },
  {
   "cell_type": "code",
   "execution_count": 136,
   "metadata": {},
   "outputs": [
    {
     "data": {
      "text/plain": [
       "1.7763568394002505e-15"
      ]
     },
     "execution_count": 136,
     "metadata": {},
     "output_type": "execute_result"
    }
   ],
   "source": []
  },
  {
   "cell_type": "code",
   "execution_count": 110,
   "metadata": {},
   "outputs": [
    {
     "data": {
      "text/plain": [
       "array(1.99985478)"
      ]
     },
     "execution_count": 110,
     "metadata": {},
     "output_type": "execute_result"
    }
   ],
   "source": [
    "interpolated_f(0.4, 0.3, 0.3)"
   ]
  },
  {
   "cell_type": "code",
   "execution_count": 101,
   "metadata": {},
   "outputs": [],
   "source": [
    "from scipy.interpolate import griddata\n",
    "#points=  #(n, D)\n",
    "#values = (n,)\n",
    "#xi :(M, D)\n",
    "xi = src.generate_simplex_3dims(20)\n",
    "avers = griddata(simplex, values, xi,\n",
    "     method='nearest')\n"
   ]
  },
  {
   "cell_type": "code",
   "execution_count": 89,
   "metadata": {},
   "outputs": [
    {
     "data": {
      "text/plain": [
       "(10, 3)"
      ]
     },
     "execution_count": 89,
     "metadata": {},
     "output_type": "execute_result"
    }
   ],
   "source": [
    "src.generate_simplex_3dims(4).shape"
   ]
  },
  {
   "cell_type": "code",
   "execution_count": null,
   "metadata": {},
   "outputs": [],
   "source": []
  },
  {
   "cell_type": "code",
   "execution_count": 78,
   "metadata": {},
   "outputs": [
    {
     "data": {
      "text/plain": [
       "array([[0. , 0. , 1. ],\n",
       "       [0. , 0.5, 0.5],\n",
       "       [0. , 1. , 0. ],\n",
       "       [0.5, 0. , 0.5],\n",
       "       [0.5, 0.5, 0. ],\n",
       "       [1. , 0. , 0. ]])"
      ]
     },
     "execution_count": 78,
     "metadata": {},
     "output_type": "execute_result"
    }
   ],
   "source": [
    "simplex"
   ]
  },
  {
   "cell_type": "code",
   "execution_count": 21,
   "metadata": {},
   "outputs": [
    {
     "data": {
      "text/plain": [
       "array([  8.77342977e-08,   4.49199604e-05,   5.18062255e-03,\n",
       "         1.37994118e-01,   8.56780251e-01])"
      ]
     },
     "execution_count": 21,
     "metadata": {},
     "output_type": "execute_result"
    }
   ],
   "source": [
    "np.dot(transition_fs(new_state, action, old_state), old_lambdas)"
   ]
  },
  {
   "cell_type": "code",
   "execution_count": 14,
   "metadata": {},
   "outputs": [],
   "source": [
    "new_state = 4\n",
    "denominator = np.dot(transition_fs(new_state), old_lambdas) \n"
   ]
  },
  {
   "cell_type": "code",
   "execution_count": 16,
   "metadata": {},
   "outputs": [
    {
     "ename": "TypeError",
     "evalue": "can't multiply sequence by non-int of type 'list'",
     "output_type": "error",
     "traceback": [
      "\u001b[0;31m---------------------------------------------------------------------------\u001b[0m",
      "\u001b[0;31mTypeError\u001b[0m                                 Traceback (most recent call last)",
      "\u001b[0;32m<ipython-input-16-fcccfd1ef011>\u001b[0m in \u001b[0;36m<module>\u001b[0;34m()\u001b[0m\n\u001b[0;32m----> 1\u001b[0;31m \u001b[0mtransition_fs\u001b[0m\u001b[0;34m(\u001b[0m\u001b[0mnew_state\u001b[0m\u001b[0;34m)\u001b[0m\u001b[0;34m*\u001b[0m\u001b[0mold_lambdas\u001b[0m \u001b[0;34m/\u001b[0m \u001b[0mdenominator\u001b[0m\u001b[0;34m\u001b[0m\u001b[0m\n\u001b[0m",
      "\u001b[0;31mTypeError\u001b[0m: can't multiply sequence by non-int of type 'list'"
     ]
    }
   ],
   "source": [
    "transition_fs(new_state)*old_lambdas / denominator"
   ]
  },
  {
   "cell_type": "code",
   "execution_count": 19,
   "metadata": {},
   "outputs": [
    {
     "ename": "TypeError",
     "evalue": "can't multiply sequence by non-int of type 'list'",
     "output_type": "error",
     "traceback": [
      "\u001b[0;31m---------------------------------------------------------------------------\u001b[0m",
      "\u001b[0;31mTypeError\u001b[0m                                 Traceback (most recent call last)",
      "\u001b[0;32m<ipython-input-19-d49b5f0244e2>\u001b[0m in \u001b[0;36m<module>\u001b[0;34m()\u001b[0m\n\u001b[0;32m----> 1\u001b[0;31m \u001b[0mtransition_fs\u001b[0m\u001b[0;34m(\u001b[0m\u001b[0mnew_state\u001b[0m\u001b[0;34m)\u001b[0m\u001b[0;34m*\u001b[0m\u001b[0mold_lambdas\u001b[0m\u001b[0;34m\u001b[0m\u001b[0m\n\u001b[0m",
      "\u001b[0;31mTypeError\u001b[0m: can't multiply sequence by non-int of type 'list'"
     ]
    }
   ],
   "source": [
    "transition_fs(new_state)*old_lambdas"
   ]
  },
  {
   "cell_type": "code",
   "execution_count": 18,
   "metadata": {},
   "outputs": [
    {
     "data": {
      "text/plain": [
       "[0.2, 0.1, 0.2, 0.3, 0.2]"
      ]
     },
     "execution_count": 18,
     "metadata": {},
     "output_type": "execute_result"
    }
   ],
   "source": []
  },
  {
   "cell_type": "code",
   "execution_count": null,
   "metadata": {},
   "outputs": [],
   "source": []
  }
 ],
 "metadata": {
  "kernelspec": {
   "display_name": "Python [conda env:firm_learning]",
   "language": "python",
   "name": "conda-env-firm_learning-py"
  },
  "language_info": {
   "codemirror_mode": {
    "name": "ipython",
    "version": 3
   },
   "file_extension": ".py",
   "mimetype": "text/x-python",
   "name": "python",
   "nbconvert_exporter": "python",
   "pygments_lexer": "ipython3",
   "version": "3.7.0"
  },
  "toc": {
   "nav_menu": {},
   "number_sections": true,
   "sideBar": true,
   "skip_h1_title": false,
   "toc_cell": false,
   "toc_position": {},
   "toc_section_display": "block",
   "toc_window_display": false
  },
  "varInspector": {
   "cols": {
    "lenName": 16,
    "lenType": 16,
    "lenVar": 40
   },
   "kernels_config": {
    "python": {
     "delete_cmd_postfix": "",
     "delete_cmd_prefix": "del ",
     "library": "var_list.py",
     "varRefreshCmd": "print(var_dic_list())"
    },
    "r": {
     "delete_cmd_postfix": ") ",
     "delete_cmd_prefix": "rm(",
     "library": "var_list.r",
     "varRefreshCmd": "cat(var_dic_list()) "
    }
   },
   "types_to_exclude": [
    "module",
    "function",
    "builtin_function_or_method",
    "instance",
    "_Feature"
   ],
   "window_display": false
  }
 },
 "nbformat": 4,
 "nbformat_minor": 2
}
